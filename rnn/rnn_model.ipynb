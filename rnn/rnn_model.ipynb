{
 "cells": [
  {
   "cell_type": "code",
   "execution_count": 1,
   "outputs": [
    {
     "name": "stderr",
     "output_type": "stream",
     "text": [
      "2023-12-19 14:33:09.295293: E external/local_xla/xla/stream_executor/cuda/cuda_dnn.cc:9261] Unable to register cuDNN factory: Attempting to register factory for plugin cuDNN when one has already been registered\n",
      "2023-12-19 14:33:09.295385: E external/local_xla/xla/stream_executor/cuda/cuda_fft.cc:607] Unable to register cuFFT factory: Attempting to register factory for plugin cuFFT when one has already been registered\n",
      "2023-12-19 14:33:09.350369: E external/local_xla/xla/stream_executor/cuda/cuda_blas.cc:1515] Unable to register cuBLAS factory: Attempting to register factory for plugin cuBLAS when one has already been registered\n",
      "2023-12-19 14:33:09.471644: I tensorflow/core/platform/cpu_feature_guard.cc:182] This TensorFlow binary is optimized to use available CPU instructions in performance-critical operations.\n",
      "To enable the following instructions: AVX2 FMA, in other operations, rebuild TensorFlow with the appropriate compiler flags.\n",
      "2023-12-19 14:33:12.020219: W tensorflow/compiler/tf2tensorrt/utils/py_utils.cc:38] TF-TRT Warning: Could not find TensorRT\n"
     ]
    }
   ],
   "source": [
    "import glob\n",
    "#from pathlib import Path\n",
    "import json\n",
    "import preprocessing as pp\n",
    "import tensorflow as tf\n",
    "import pandas as pd\n",
    "import numpy as np\n",
    "import keras\n",
    "import matplotlib.pyplot as plt"
   ],
   "metadata": {
    "collapsed": false,
    "ExecuteTime": {
     "end_time": "2023-12-19T13:33:15.889253783Z",
     "start_time": "2023-12-19T13:33:07.910437752Z"
    }
   },
   "id": "daa48e61d9b31fa3"
  },
  {
   "cell_type": "code",
   "execution_count": 134,
   "outputs": [],
   "source": [
    "length = 5\n",
    "n_features=3\n",
    "max_dim_length=4\n",
    "embedding_dim_length=3\n",
    "label_length=1\n",
    "training_frames = length + label_length\n",
    "batch_size = 32"
   ],
   "metadata": {
    "collapsed": false,
    "ExecuteTime": {
     "end_time": "2023-12-19T15:24:39.667523839Z",
     "start_time": "2023-12-19T15:24:39.599672679Z"
    }
   },
   "id": "55d7839ec1e2833a"
  },
  {
   "cell_type": "code",
   "execution_count": 3,
   "outputs": [],
   "source": [
    "keys_to_dtype = {\n",
    "  #'developer_token_id': tf.int64,\n",
    "  #'resource_token_id': tf.int64,\n",
    "  #'screen_caption_token_ids': tf.int64,\n",
    "  #'appdesc_token_id': tf.int64,\n",
    "  'clickable_seq': tf.int64,\n",
    "  'type_id_seq': tf.int64,\n",
    "  'cord_x_seq': tf.float32,\n",
    "  'cord_y_seq': tf.float32,\n",
    "  'visibility_to_user_seq': tf.int64,\n",
    "  'visibility_seq': tf.int64,\n",
    "  #'attended_objects': tf.int64,\n",
    "  #'label_flag': tf.int64,  # 0: padding 1: node\n",
    "  # 'obj_img_mat': tf.int64,\n",
    "  'obj_dom_pos': tf.int64,\n",
    "  #'attention_boxes': tf.float32,\n",
    "  #'gold_caption': tf.string,\n",
    "}"
   ],
   "metadata": {
    "collapsed": false,
    "ExecuteTime": {
     "end_time": "2023-12-19T13:33:15.944806144Z",
     "start_time": "2023-12-19T13:33:15.899491833Z"
    }
   },
   "id": "d8cde309fcb4de9b"
  },
  {
   "cell_type": "code",
   "execution_count": 3,
   "outputs": [],
   "source": [
    "def get_features_from_gestures(gesture_path):\n",
    "  with tf.io.gfile.GFile(gesture_path) as f:\n",
    "    gesture_json = json.load(f)\n",
    "  trace_path = gesture_path.replace('gestures.json', '')\n",
    "  # Throw away all gestures except the first\n",
    "  gesture_items = list(gesture_json.items())\n",
    "  # Remove empty gestures\n",
    "  gesture_items = [gesture for gesture in gesture_items if gesture[1]]\n",
    "  # TODO: Add column: isSwipe, if gesture has more than one entry\n",
    "  if gesture_items and gesture_items[0]:\n",
    "    gesture_dict = {gesture[0]:gesture[1][0] for gesture in gesture_items}\n",
    "  else:\n",
    "    gesture_dict = {}\n",
    "\n",
    "  first_gesture_item = list(gesture_dict.items())\n",
    "  if (not gesture_dict) or (not first_gesture_item[0]) or (not first_gesture_item[0][1]):\n",
    "    # Return empty dataframe, if no data is available\n",
    "    return pd.DataFrame(columns=['x', 'y']), trace_path\n",
    "  \n",
    "  gesture_df = pd.DataFrame(gesture_dict).transpose()\n",
    "  gesture_df.columns = ['x', 'y']\n",
    "  return gesture_df, trace_path"
   ],
   "metadata": {
    "collapsed": false,
    "ExecuteTime": {
     "end_time": "2023-12-17T22:17:34.440875729Z",
     "start_time": "2023-12-17T22:17:34.412289252Z"
    }
   },
   "id": "370e5596e68c7cc9"
  },
  {
   "cell_type": "code",
   "execution_count": 4,
   "outputs": [],
   "source": [
    "# def to_var_len_feature_dict(entries):\n",
    "#   dict = {}\n",
    "#   for feature_item in entries:\n",
    "#     dict[feature_item[0]] = tf.convert_to_tensor(feature_item[1], dtype=keys_to_dtype[feature_item[0]])\n",
    "#   return dict\n"
   ],
   "metadata": {
    "collapsed": false,
    "ExecuteTime": {
     "end_time": "2023-12-17T22:17:34.643239803Z",
     "start_time": "2023-12-17T22:17:34.414860116Z"
    }
   },
   "id": "89639235a8f4fd38"
  },
  {
   "cell_type": "code",
   "execution_count": 5,
   "outputs": [
    {
     "data": {
      "text/plain": "'../sources/datasets/RICO/traces/filtered_traces/*/trace_*/gestures.json'"
     },
     "execution_count": 5,
     "metadata": {},
     "output_type": "execute_result"
    }
   ],
   "source": [
    "#pathToCombined = \"D:/Tmp/Coding/datasets/RICO/unique_uis/test_dataset\"\n",
    "traces_prefix = \"../sources/datasets/RICO/traces/filtered_traces\"\n",
    "path_to_gesture_json = f\"{traces_prefix}/*/trace_*/gestures.json\"\n",
    "path_to_gesture_json"
   ],
   "metadata": {
    "collapsed": false,
    "ExecuteTime": {
     "end_time": "2023-12-17T22:17:34.728505093Z",
     "start_time": "2023-12-17T22:17:34.425339310Z"
    }
   },
   "id": "1010903aaff8e289"
  },
  {
   "cell_type": "code",
   "execution_count": 6,
   "outputs": [
    {
     "data": {
      "text/plain": "10292"
     },
     "execution_count": 6,
     "metadata": {},
     "output_type": "execute_result"
    }
   ],
   "source": [
    "gesture_json_paths = glob.glob(path_to_gesture_json)\n",
    "len(gesture_json_paths)"
   ],
   "metadata": {
    "collapsed": false,
    "ExecuteTime": {
     "end_time": "2023-12-17T22:17:39.809279989Z",
     "start_time": "2023-12-17T22:17:34.439719407Z"
    }
   },
   "id": "3d96e858f6638676"
  },
  {
   "cell_type": "code",
   "execution_count": 7,
   "outputs": [],
   "source": [
    "def get_features_from_tree(frame_index, trace_path):\n",
    "  file_prefix = f\"{trace_path}view_hierarchies/{frame_index}\"\n",
    "  features_dict = pp.create_simple_features(file_prefix)\n",
    "  if features_dict is None:\n",
    "    return None\n",
    "  del features_dict['node_id']\n",
    "  feature_items = list(features_dict.items())\n",
    "  #feature_items = to_var_len_feature_dict(feature_items).items()\n",
    "  tree_feature_df = pd.DataFrame(feature_items, columns=['feat', frame_index])\n",
    "  tree_feature_df = tree_feature_df.set_index('feat')\n",
    "  tree_feature_df = tree_feature_df.transpose()\n",
    "  return tree_feature_df\n",
    "  #return pd.DataFrame(features_adapt, index=[frame_index])"
   ],
   "metadata": {
    "collapsed": false,
    "ExecuteTime": {
     "end_time": "2023-12-17T22:17:39.894112048Z",
     "start_time": "2023-12-17T22:17:39.807382254Z"
    }
   },
   "id": "897083222d435531"
  },
  {
   "cell_type": "code",
   "execution_count": 8,
   "outputs": [
    {
     "data": {
      "text/plain": "feat                                        obj_dom_pos  \\\n432   [1, 1, 68, 2, 2, 67, 2, 67, 2, 2, 68, 1, 3, 3,...   \n\nfeat                                        type_id_seq  \\\n432   [4, 4, 4, 4, 4, 4, 4, 4, 4, 4, 4, 4, 4, 4, 4, ...   \n\nfeat                                     visibility_seq  \\\n432   [1, 1, 1, 1, 0, 1, 1, 1, 1, 1, 1, 0, 1, 1, 1, ...   \n\nfeat                             visibility_to_user_seq  \\\n432   [1, 1, 1, 1, 0, 1, 1, 1, 1, 1, 1, 0, 1, 1, 1, ...   \n\nfeat                                      clickable_seq  \\\n432   [0, 0, 0, 0, 0, 0, 0, 0, 0, 0, 0, 0, 1, 1, 0, ...   \n\nfeat                                         cord_x_seq  \\\n432   [[0.0, 1.0], [0.0, 1.0], [0.0, 1.0], [0.0, 1.0...   \n\nfeat                                         cord_y_seq  \n432   [[0.0, 1.0], [0.0, 0.934375], [0.934375, 1.0],...  ",
      "text/html": "<div>\n<style scoped>\n    .dataframe tbody tr th:only-of-type {\n        vertical-align: middle;\n    }\n\n    .dataframe tbody tr th {\n        vertical-align: top;\n    }\n\n    .dataframe thead th {\n        text-align: right;\n    }\n</style>\n<table border=\"1\" class=\"dataframe\">\n  <thead>\n    <tr style=\"text-align: right;\">\n      <th>feat</th>\n      <th>obj_dom_pos</th>\n      <th>type_id_seq</th>\n      <th>visibility_seq</th>\n      <th>visibility_to_user_seq</th>\n      <th>clickable_seq</th>\n      <th>cord_x_seq</th>\n      <th>cord_y_seq</th>\n    </tr>\n  </thead>\n  <tbody>\n    <tr>\n      <th>432</th>\n      <td>[1, 1, 68, 2, 2, 67, 2, 67, 2, 2, 68, 1, 3, 3,...</td>\n      <td>[4, 4, 4, 4, 4, 4, 4, 4, 4, 4, 4, 4, 4, 4, 4, ...</td>\n      <td>[1, 1, 1, 1, 0, 1, 1, 1, 1, 1, 1, 0, 1, 1, 1, ...</td>\n      <td>[1, 1, 1, 1, 0, 1, 1, 1, 1, 1, 1, 0, 1, 1, 1, ...</td>\n      <td>[0, 0, 0, 0, 0, 0, 0, 0, 0, 0, 0, 0, 1, 1, 0, ...</td>\n      <td>[[0.0, 1.0], [0.0, 1.0], [0.0, 1.0], [0.0, 1.0...</td>\n      <td>[[0.0, 1.0], [0.0, 0.934375], [0.934375, 1.0],...</td>\n    </tr>\n  </tbody>\n</table>\n</div>"
     },
     "execution_count": 8,
     "metadata": {},
     "output_type": "execute_result"
    }
   ],
   "source": [
    "gesture_path = gesture_json_paths[42]\n",
    "gesture_df, trace_path = get_features_from_gestures(gesture_path)\n",
    "frameIndex = gesture_df.index.values[0]\n",
    "feature_df = get_features_from_tree(frameIndex, trace_path)\n",
    "feature_df\n",
    "#feature_item = features[0]\n",
    "#feature_item\n",
    "#tf.convert_to_tensor(feature_item[1], dtype=keys_to_dtype[feature_item[0]])"
   ],
   "metadata": {
    "collapsed": false,
    "ExecuteTime": {
     "end_time": "2023-12-17T22:17:40.022089154Z",
     "start_time": "2023-12-17T22:17:39.815034731Z"
    }
   },
   "id": "3fe910aceba99bcd"
  },
  {
   "cell_type": "code",
   "execution_count": 9,
   "outputs": [],
   "source": [
    "# gesture_df['x'].dtype # float64\n",
    "# gesture_df['y'].dtype # float64"
   ],
   "metadata": {
    "collapsed": false,
    "ExecuteTime": {
     "end_time": "2023-12-17T22:17:40.024325849Z",
     "start_time": "2023-12-17T22:17:39.887027822Z"
    }
   },
   "id": "b380f22ccb4ae7a7"
  },
  {
   "cell_type": "code",
   "execution_count": 10,
   "outputs": [],
   "source": [
    "# for t,v in keys_to_dtype.items():\n",
    "#     print(feature_df[t]['4758'][0].dtype)"
   ],
   "metadata": {
    "collapsed": false,
    "ExecuteTime": {
     "end_time": "2023-12-17T22:17:40.195957939Z",
     "start_time": "2023-12-17T22:17:39.892128432Z"
    }
   },
   "id": "ab1b2610bf47faf"
  },
  {
   "cell_type": "code",
   "execution_count": 11,
   "outputs": [
    {
     "data": {
      "text/plain": "             x         y                                        obj_dom_pos  \\\n432   0.407648  0.272727  [1, 1, 68, 2, 2, 67, 2, 67, 2, 2, 68, 1, 3, 3,...   \n514   0.848244  0.890693                                                NaN   \n705   0.063252  0.071429                                                NaN   \n947   0.430736  0.405844                                                NaN   \n2172  0.072872  0.068182                                                NaN   \n2212  0.242184  0.337662                                                NaN   \n\n                                            type_id_seq  \\\n432   [4, 4, 4, 4, 4, 4, 4, 4, 4, 4, 4, 4, 4, 4, 4, ...   \n514                                                 NaN   \n705                                                 NaN   \n947                                                 NaN   \n2172                                                NaN   \n2212                                                NaN   \n\n                                         visibility_seq  \\\n432   [1, 1, 1, 1, 0, 1, 1, 1, 1, 1, 1, 0, 1, 1, 1, ...   \n514                                                 NaN   \n705                                                 NaN   \n947                                                 NaN   \n2172                                                NaN   \n2212                                                NaN   \n\n                                 visibility_to_user_seq  \\\n432   [1, 1, 1, 1, 0, 1, 1, 1, 1, 1, 1, 0, 1, 1, 1, ...   \n514                                                 NaN   \n705                                                 NaN   \n947                                                 NaN   \n2172                                                NaN   \n2212                                                NaN   \n\n                                          clickable_seq  \\\n432   [0, 0, 0, 0, 0, 0, 0, 0, 0, 0, 0, 0, 1, 1, 0, ...   \n514                                                 NaN   \n705                                                 NaN   \n947                                                 NaN   \n2172                                                NaN   \n2212                                                NaN   \n\n                                             cord_x_seq  \\\n432   [[0.0, 1.0], [0.0, 1.0], [0.0, 1.0], [0.0, 1.0...   \n514                                                 NaN   \n705                                                 NaN   \n947                                                 NaN   \n2172                                                NaN   \n2212                                                NaN   \n\n                                             cord_y_seq  \n432   [[0.0, 1.0], [0.0, 0.934375], [0.934375, 1.0],...  \n514                                                 NaN  \n705                                                 NaN  \n947                                                 NaN  \n2172                                                NaN  \n2212                                                NaN  ",
      "text/html": "<div>\n<style scoped>\n    .dataframe tbody tr th:only-of-type {\n        vertical-align: middle;\n    }\n\n    .dataframe tbody tr th {\n        vertical-align: top;\n    }\n\n    .dataframe thead th {\n        text-align: right;\n    }\n</style>\n<table border=\"1\" class=\"dataframe\">\n  <thead>\n    <tr style=\"text-align: right;\">\n      <th></th>\n      <th>x</th>\n      <th>y</th>\n      <th>obj_dom_pos</th>\n      <th>type_id_seq</th>\n      <th>visibility_seq</th>\n      <th>visibility_to_user_seq</th>\n      <th>clickable_seq</th>\n      <th>cord_x_seq</th>\n      <th>cord_y_seq</th>\n    </tr>\n  </thead>\n  <tbody>\n    <tr>\n      <th>432</th>\n      <td>0.407648</td>\n      <td>0.272727</td>\n      <td>[1, 1, 68, 2, 2, 67, 2, 67, 2, 2, 68, 1, 3, 3,...</td>\n      <td>[4, 4, 4, 4, 4, 4, 4, 4, 4, 4, 4, 4, 4, 4, 4, ...</td>\n      <td>[1, 1, 1, 1, 0, 1, 1, 1, 1, 1, 1, 0, 1, 1, 1, ...</td>\n      <td>[1, 1, 1, 1, 0, 1, 1, 1, 1, 1, 1, 0, 1, 1, 1, ...</td>\n      <td>[0, 0, 0, 0, 0, 0, 0, 0, 0, 0, 0, 0, 1, 1, 0, ...</td>\n      <td>[[0.0, 1.0], [0.0, 1.0], [0.0, 1.0], [0.0, 1.0...</td>\n      <td>[[0.0, 1.0], [0.0, 0.934375], [0.934375, 1.0],...</td>\n    </tr>\n    <tr>\n      <th>514</th>\n      <td>0.848244</td>\n      <td>0.890693</td>\n      <td>NaN</td>\n      <td>NaN</td>\n      <td>NaN</td>\n      <td>NaN</td>\n      <td>NaN</td>\n      <td>NaN</td>\n      <td>NaN</td>\n    </tr>\n    <tr>\n      <th>705</th>\n      <td>0.063252</td>\n      <td>0.071429</td>\n      <td>NaN</td>\n      <td>NaN</td>\n      <td>NaN</td>\n      <td>NaN</td>\n      <td>NaN</td>\n      <td>NaN</td>\n      <td>NaN</td>\n    </tr>\n    <tr>\n      <th>947</th>\n      <td>0.430736</td>\n      <td>0.405844</td>\n      <td>NaN</td>\n      <td>NaN</td>\n      <td>NaN</td>\n      <td>NaN</td>\n      <td>NaN</td>\n      <td>NaN</td>\n      <td>NaN</td>\n    </tr>\n    <tr>\n      <th>2172</th>\n      <td>0.072872</td>\n      <td>0.068182</td>\n      <td>NaN</td>\n      <td>NaN</td>\n      <td>NaN</td>\n      <td>NaN</td>\n      <td>NaN</td>\n      <td>NaN</td>\n      <td>NaN</td>\n    </tr>\n    <tr>\n      <th>2212</th>\n      <td>0.242184</td>\n      <td>0.337662</td>\n      <td>NaN</td>\n      <td>NaN</td>\n      <td>NaN</td>\n      <td>NaN</td>\n      <td>NaN</td>\n      <td>NaN</td>\n      <td>NaN</td>\n    </tr>\n  </tbody>\n</table>\n</div>"
     },
     "execution_count": 11,
     "metadata": {},
     "output_type": "execute_result"
    }
   ],
   "source": [
    "# Try without features for now, only gestures\n",
    "all_feat_df = pd.concat([gesture_df, feature_df], axis=1)\n",
    "#all_feat_df = gesture_df\n",
    "all_feat_df"
   ],
   "metadata": {
    "collapsed": false,
    "ExecuteTime": {
     "end_time": "2023-12-17T22:17:40.391924914Z",
     "start_time": "2023-12-17T22:17:39.943966244Z"
    }
   },
   "id": "a60861c0e824008e"
  },
  {
   "cell_type": "code",
   "execution_count": 12,
   "outputs": [],
   "source": [
    "#feature_df['type_id_seq'].iloc[0][0].dtype"
   ],
   "metadata": {
    "collapsed": false,
    "ExecuteTime": {
     "end_time": "2023-12-17T22:17:40.394975905Z",
     "start_time": "2023-12-17T22:17:39.988205869Z"
    }
   },
   "id": "924f3487fba88fba"
  },
  {
   "cell_type": "code",
   "execution_count": 14,
   "outputs": [
    {
     "name": "stdout",
     "output_type": "stream",
     "text": [
      "Frame 7384 has no feature datatraces.\n",
      "Frame 341 has no feature data traces.\n",
      "Frame 521 has no feature data traces.\n",
      "Processed 10200 of 10292 (99%) traces.\r"
     ]
    },
    {
     "data": {
      "text/plain": "50304"
     },
     "execution_count": 14,
     "metadata": {},
     "output_type": "execute_result"
    }
   ],
   "source": [
    " # Get set of frames for each screen, but don't mix them during training LSTM\n",
    "feature_traces = pd.DataFrame()\n",
    "use_embeddings = True\n",
    "\n",
    "trace_progress = 0\n",
    "for trace_id, gesture_path in enumerate(gesture_json_paths):\n",
    "    trace_progress = trace_progress + 1\n",
    "    if trace_progress % 100 == 0:\n",
    "      print(f'Processed {trace_progress} of {len(gesture_json_paths)} ({trace_progress/len(gesture_json_paths):.0%}) traces.\\r', end=\"\")\n",
    "    gesture_df, trace_path = get_features_from_gestures(gesture_path)\n",
    "    # Traces with too few frames will be dropped\n",
    "    if len(gesture_df) < training_frames:\n",
    "        #print(f'Gesture (traceID: {trace_id}) has only {len(gesture_df)} of {training_frames} required frames: {gesture_path}')\n",
    "        continue\n",
    "    if use_embeddings: # Try without features for now, only gestures\n",
    "        tree_features_df = pd.DataFrame()\n",
    "        for frame_id in gesture_df.index.values:\n",
    "            tree_feature_df = get_features_from_tree(frame_id, trace_path)\n",
    "            if tree_feature_df is None:\n",
    "              print(f'Frame {frame_id} has no feature data')\n",
    "              continue\n",
    "            tree_features_df = pd.concat([tree_features_df, tree_feature_df], axis=0)\n",
    "        trace_features_df = pd.concat([gesture_df, tree_features_df], axis=1)\n",
    "    else:\n",
    "        trace_features_df = gesture_df\n",
    "    trace_features_df['trace_id'] = trace_id\n",
    "    feature_traces = pd.concat([feature_traces, trace_features_df], axis=0)\n",
    "\n",
    "len(feature_traces)\n",
    "        "
   ],
   "metadata": {
    "collapsed": false,
    "ExecuteTime": {
     "end_time": "2023-12-17T22:22:35.986792413Z",
     "start_time": "2023-12-17T22:17:39.988805899Z"
    }
   },
   "id": "288b287670f0c8ba"
  },
  {
   "cell_type": "code",
   "execution_count": 15,
   "outputs": [
    {
     "data": {
      "text/plain": "            x         y                                        obj_dom_pos  \\\n370  0.825156  0.351732  [1, 1, 251, 2, 2, 250, 2, 250, 2, 2, 251, 1, 3...   \n488  0.373016  0.224026  [1, 1, 251, 2, 2, 250, 2, 250, 2, 2, 251, 1, 3...   \n526  0.563492  0.898268  [1, 1, 251, 2, 2, 250, 2, 250, 2, 2, 251, 1, 3...   \n614  0.169072  0.336580  [1, 1, 251, 2, 2, 250, 2, 250, 2, 2, 251, 1, 3...   \n642  0.346080  0.136364  [1, 1, 143, 2, 2, 142, 2, 142, 2, 2, 143, 1, 3...   \n\n                                           type_id_seq  \\\n370  [4, 4, 4, 4, 4, 4, 4, 4, 4, 4, 4, 4, 4, 4, 4, ...   \n488  [4, 4, 4, 4, 4, 4, 4, 4, 4, 4, 4, 4, 4, 4, 4, ...   \n526  [4, 4, 4, 4, 4, 4, 4, 4, 4, 4, 4, 4, 4, 4, 4, ...   \n614  [4, 4, 4, 4, 4, 4, 4, 4, 4, 4, 4, 4, 4, 4, 4, ...   \n642  [4, 4, 4, 4, 4, 4, 4, 4, 4, 4, 4, 4, 4, 4, 4, ...   \n\n                                        visibility_seq  \\\n370  [1, 1, 1, 1, 0, 1, 1, 0, 1, 1, 1, 0, 1, 1, 1, ...   \n488  [1, 1, 1, 1, 0, 1, 1, 0, 1, 1, 1, 0, 1, 1, 1, ...   \n526  [1, 1, 1, 1, 0, 1, 1, 0, 1, 1, 1, 0, 1, 1, 1, ...   \n614  [1, 1, 1, 1, 0, 1, 1, 0, 1, 1, 1, 1, 1, 1, 1, ...   \n642  [1, 1, 1, 1, 0, 1, 1, 0, 1, 1, 1, 0, 1, 1, 1, ...   \n\n                                visibility_to_user_seq  \\\n370  [1, 1, 1, 1, 0, 1, 1, 0, 1, 1, 1, 0, 1, 1, 0, ...   \n488  [1, 1, 1, 1, 0, 1, 1, 0, 1, 1, 1, 0, 1, 1, 0, ...   \n526  [1, 1, 1, 1, 0, 1, 1, 0, 1, 1, 1, 0, 1, 1, 0, ...   \n614  [1, 1, 1, 1, 0, 1, 1, 0, 1, 1, 1, 1, 1, 1, 1, ...   \n642  [1, 1, 1, 1, 0, 1, 1, 0, 1, 1, 1, 0, 1, 1, 0, ...   \n\n                                         clickable_seq  \\\n370  [0, 0, 0, 0, 0, 0, 0, 0, 0, 0, 0, 1, 0, 0, 0, ...   \n488  [0, 0, 0, 0, 0, 0, 0, 0, 0, 0, 0, 1, 0, 0, 0, ...   \n526  [0, 0, 0, 0, 0, 0, 0, 0, 0, 0, 0, 1, 0, 0, 0, ...   \n614  [0, 0, 0, 0, 0, 0, 0, 0, 0, 0, 0, 1, 0, 0, 0, ...   \n642  [0, 0, 0, 0, 0, 0, 0, 0, 0, 0, 0, 1, 0, 0, 0, ...   \n\n                                            cord_x_seq  \\\n370  [[0.0, 1.0], [0.0, 1.0], [0.0, 1.0], [0.0, 1.0...   \n488  [[0.0, 1.0], [0.0, 1.0], [0.0, 1.0], [0.0, 1.0...   \n526  [[0.0, 1.0], [0.0, 1.0], [0.0, 1.0], [0.0, 1.0...   \n614  [[0.0, 1.0], [0.0, 1.0], [0.0, 1.0], [0.0, 1.0...   \n642  [[0.0, 1.0], [0.0, 1.0], [0.0, 1.0], [0.0, 1.0...   \n\n                                            cord_y_seq  trace_id  \n370  [[0.0, 1.0], [0.0, 0.934375], [0.934375, 1.0],...         3  \n488  [[0.0, 1.0], [0.0, 0.934375], [0.934375, 1.0],...         3  \n526  [[0.0, 1.0], [0.0, 0.934375], [0.934375, 1.0],...         3  \n614  [[0.0, 1.0], [0.0, 0.934375], [0.934375, 1.0],...         3  \n642  [[0.0, 1.0], [0.0, 0.934375], [0.934375, 1.0],...         3  ",
      "text/html": "<div>\n<style scoped>\n    .dataframe tbody tr th:only-of-type {\n        vertical-align: middle;\n    }\n\n    .dataframe tbody tr th {\n        vertical-align: top;\n    }\n\n    .dataframe thead th {\n        text-align: right;\n    }\n</style>\n<table border=\"1\" class=\"dataframe\">\n  <thead>\n    <tr style=\"text-align: right;\">\n      <th></th>\n      <th>x</th>\n      <th>y</th>\n      <th>obj_dom_pos</th>\n      <th>type_id_seq</th>\n      <th>visibility_seq</th>\n      <th>visibility_to_user_seq</th>\n      <th>clickable_seq</th>\n      <th>cord_x_seq</th>\n      <th>cord_y_seq</th>\n      <th>trace_id</th>\n    </tr>\n  </thead>\n  <tbody>\n    <tr>\n      <th>370</th>\n      <td>0.825156</td>\n      <td>0.351732</td>\n      <td>[1, 1, 251, 2, 2, 250, 2, 250, 2, 2, 251, 1, 3...</td>\n      <td>[4, 4, 4, 4, 4, 4, 4, 4, 4, 4, 4, 4, 4, 4, 4, ...</td>\n      <td>[1, 1, 1, 1, 0, 1, 1, 0, 1, 1, 1, 0, 1, 1, 1, ...</td>\n      <td>[1, 1, 1, 1, 0, 1, 1, 0, 1, 1, 1, 0, 1, 1, 0, ...</td>\n      <td>[0, 0, 0, 0, 0, 0, 0, 0, 0, 0, 0, 1, 0, 0, 0, ...</td>\n      <td>[[0.0, 1.0], [0.0, 1.0], [0.0, 1.0], [0.0, 1.0...</td>\n      <td>[[0.0, 1.0], [0.0, 0.934375], [0.934375, 1.0],...</td>\n      <td>3</td>\n    </tr>\n    <tr>\n      <th>488</th>\n      <td>0.373016</td>\n      <td>0.224026</td>\n      <td>[1, 1, 251, 2, 2, 250, 2, 250, 2, 2, 251, 1, 3...</td>\n      <td>[4, 4, 4, 4, 4, 4, 4, 4, 4, 4, 4, 4, 4, 4, 4, ...</td>\n      <td>[1, 1, 1, 1, 0, 1, 1, 0, 1, 1, 1, 0, 1, 1, 1, ...</td>\n      <td>[1, 1, 1, 1, 0, 1, 1, 0, 1, 1, 1, 0, 1, 1, 0, ...</td>\n      <td>[0, 0, 0, 0, 0, 0, 0, 0, 0, 0, 0, 1, 0, 0, 0, ...</td>\n      <td>[[0.0, 1.0], [0.0, 1.0], [0.0, 1.0], [0.0, 1.0...</td>\n      <td>[[0.0, 1.0], [0.0, 0.934375], [0.934375, 1.0],...</td>\n      <td>3</td>\n    </tr>\n    <tr>\n      <th>526</th>\n      <td>0.563492</td>\n      <td>0.898268</td>\n      <td>[1, 1, 251, 2, 2, 250, 2, 250, 2, 2, 251, 1, 3...</td>\n      <td>[4, 4, 4, 4, 4, 4, 4, 4, 4, 4, 4, 4, 4, 4, 4, ...</td>\n      <td>[1, 1, 1, 1, 0, 1, 1, 0, 1, 1, 1, 0, 1, 1, 1, ...</td>\n      <td>[1, 1, 1, 1, 0, 1, 1, 0, 1, 1, 1, 0, 1, 1, 0, ...</td>\n      <td>[0, 0, 0, 0, 0, 0, 0, 0, 0, 0, 0, 1, 0, 0, 0, ...</td>\n      <td>[[0.0, 1.0], [0.0, 1.0], [0.0, 1.0], [0.0, 1.0...</td>\n      <td>[[0.0, 1.0], [0.0, 0.934375], [0.934375, 1.0],...</td>\n      <td>3</td>\n    </tr>\n    <tr>\n      <th>614</th>\n      <td>0.169072</td>\n      <td>0.336580</td>\n      <td>[1, 1, 251, 2, 2, 250, 2, 250, 2, 2, 251, 1, 3...</td>\n      <td>[4, 4, 4, 4, 4, 4, 4, 4, 4, 4, 4, 4, 4, 4, 4, ...</td>\n      <td>[1, 1, 1, 1, 0, 1, 1, 0, 1, 1, 1, 1, 1, 1, 1, ...</td>\n      <td>[1, 1, 1, 1, 0, 1, 1, 0, 1, 1, 1, 1, 1, 1, 1, ...</td>\n      <td>[0, 0, 0, 0, 0, 0, 0, 0, 0, 0, 0, 1, 0, 0, 0, ...</td>\n      <td>[[0.0, 1.0], [0.0, 1.0], [0.0, 1.0], [0.0, 1.0...</td>\n      <td>[[0.0, 1.0], [0.0, 0.934375], [0.934375, 1.0],...</td>\n      <td>3</td>\n    </tr>\n    <tr>\n      <th>642</th>\n      <td>0.346080</td>\n      <td>0.136364</td>\n      <td>[1, 1, 143, 2, 2, 142, 2, 142, 2, 2, 143, 1, 3...</td>\n      <td>[4, 4, 4, 4, 4, 4, 4, 4, 4, 4, 4, 4, 4, 4, 4, ...</td>\n      <td>[1, 1, 1, 1, 0, 1, 1, 0, 1, 1, 1, 0, 1, 1, 1, ...</td>\n      <td>[1, 1, 1, 1, 0, 1, 1, 0, 1, 1, 1, 0, 1, 1, 0, ...</td>\n      <td>[0, 0, 0, 0, 0, 0, 0, 0, 0, 0, 0, 1, 0, 0, 0, ...</td>\n      <td>[[0.0, 1.0], [0.0, 1.0], [0.0, 1.0], [0.0, 1.0...</td>\n      <td>[[0.0, 1.0], [0.0, 0.934375], [0.934375, 1.0],...</td>\n      <td>3</td>\n    </tr>\n  </tbody>\n</table>\n</div>"
     },
     "execution_count": 15,
     "metadata": {},
     "output_type": "execute_result"
    }
   ],
   "source": [
    "feature_traces.head()"
   ],
   "metadata": {
    "collapsed": false,
    "ExecuteTime": {
     "end_time": "2023-12-17T22:22:36.131580525Z",
     "start_time": "2023-12-17T22:22:35.992496271Z"
    }
   },
   "id": "f671b3c1a1ee0b7b"
  },
  {
   "cell_type": "code",
   "execution_count": 16,
   "outputs": [
    {
     "data": {
      "text/plain": "                  x             y      trace_id\ncount  50304.000000  50304.000000  50304.000000\nmean       0.436052      0.455192   5148.693285\nstd        0.287890      0.321706   2975.276707\nmin        0.001040      0.002165      3.000000\n25%        0.196008      0.127778   2534.000000\n50%        0.426058      0.424784   5143.000000\n75%        0.661400      0.768707   7726.000000\nmax        1.000000      0.998665  10291.000000",
      "text/html": "<div>\n<style scoped>\n    .dataframe tbody tr th:only-of-type {\n        vertical-align: middle;\n    }\n\n    .dataframe tbody tr th {\n        vertical-align: top;\n    }\n\n    .dataframe thead th {\n        text-align: right;\n    }\n</style>\n<table border=\"1\" class=\"dataframe\">\n  <thead>\n    <tr style=\"text-align: right;\">\n      <th></th>\n      <th>x</th>\n      <th>y</th>\n      <th>trace_id</th>\n    </tr>\n  </thead>\n  <tbody>\n    <tr>\n      <th>count</th>\n      <td>50304.000000</td>\n      <td>50304.000000</td>\n      <td>50304.000000</td>\n    </tr>\n    <tr>\n      <th>mean</th>\n      <td>0.436052</td>\n      <td>0.455192</td>\n      <td>5148.693285</td>\n    </tr>\n    <tr>\n      <th>std</th>\n      <td>0.287890</td>\n      <td>0.321706</td>\n      <td>2975.276707</td>\n    </tr>\n    <tr>\n      <th>min</th>\n      <td>0.001040</td>\n      <td>0.002165</td>\n      <td>3.000000</td>\n    </tr>\n    <tr>\n      <th>25%</th>\n      <td>0.196008</td>\n      <td>0.127778</td>\n      <td>2534.000000</td>\n    </tr>\n    <tr>\n      <th>50%</th>\n      <td>0.426058</td>\n      <td>0.424784</td>\n      <td>5143.000000</td>\n    </tr>\n    <tr>\n      <th>75%</th>\n      <td>0.661400</td>\n      <td>0.768707</td>\n      <td>7726.000000</td>\n    </tr>\n    <tr>\n      <th>max</th>\n      <td>1.000000</td>\n      <td>0.998665</td>\n      <td>10291.000000</td>\n    </tr>\n  </tbody>\n</table>\n</div>"
     },
     "execution_count": 16,
     "metadata": {},
     "output_type": "execute_result"
    }
   ],
   "source": [
    "feature_traces.describe()"
   ],
   "metadata": {
    "collapsed": false,
    "ExecuteTime": {
     "end_time": "2023-12-17T22:22:36.167975304Z",
     "start_time": "2023-12-17T22:22:36.132289697Z"
    }
   },
   "id": "c6025a04827454b"
  },
  {
   "cell_type": "code",
   "execution_count": 17,
   "outputs": [
    {
     "name": "stdout",
     "output_type": "stream",
     "text": [
      "50304\n",
      "50301\n",
      "Preprocess \"obj_dom_pos\" with median array length of 231\n",
      "Feature \"obj_dom_pos\" has max array length of 500\n"
     ]
    },
    {
     "data": {
      "text/plain": "{'obj_dom_pos': 231}"
     },
     "execution_count": 17,
     "metadata": {},
     "output_type": "execute_result"
    }
   ],
   "source": [
    "import math\n",
    "import statistics\n",
    "\n",
    "# Preprocess data\n",
    "feature_traces_preprocessed = feature_traces\n",
    "print(len(feature_traces_preprocessed))\n",
    "feature_traces_preprocessed = feature_traces_preprocessed.dropna()\n",
    "feature_traces_preprocessed = feature_traces_preprocessed[['x','y', 'obj_dom_pos', 'trace_id']]\n",
    "print(len(feature_traces_preprocessed))\n",
    "# for t,v in keys_to_dtype.items():\n",
    "#   # try to convert float to list\n",
    "#   feature_traces_preprocessed[t] = feature_traces_preprocessed[t].apply(lambda x : [np.nan if (y is None or isinstance(y, float)) else y for y in x] if isinstance(x, list) else [x])\n",
    "# \n",
    "# #lens of list\n",
    "# print(feature_traces_preprocessed.isna().sum())\n",
    "# feature_traces_preprocessed\n",
    "\n",
    "# List of median value count for each feature.\n",
    "feat_median_array_length = {}\n",
    "\n",
    "# Check if feature is an array\n",
    "isFeatList = (feature_traces_preprocessed.map(type) == list).all(axis='rows')\n",
    "max_dom_pos = 500 # see screen2words\n",
    "for feat_name, isList in isFeatList.items():\n",
    "  if isList:\n",
    "    median_value = statistics.median(feature_traces_preprocessed[feat_name].map(len))\n",
    "    feat_median_array_length[feat_name] = median_value\n",
    "    print(f'Preprocess \"{feat_name}\" with median array length of {median_value}')\n",
    "    # Remove all NaN\n",
    "    feature_traces_preprocessed[feat_name] = feature_traces_preprocessed[feat_name].map(lambda row: [x for x in row if not math.isnan(x)])\n",
    "    # Pad all values to same length\n",
    "    feat_pad = keras.utils.pad_sequences(feature_traces_preprocessed[feat_name], value=0, padding='post', maxlen=max_dom_pos)\n",
    "    print(f'Feature \"{feat_name}\" has max array length of {len(feat_pad[0])}')\n",
    "    feature_traces_preprocessed[feat_name] = feat_pad.tolist()\n",
    "\n",
    "feat_median_array_length"
   ],
   "metadata": {
    "collapsed": false,
    "ExecuteTime": {
     "end_time": "2023-12-17T22:25:00.185257392Z",
     "start_time": "2023-12-17T22:24:58.033838037Z"
    }
   },
   "id": "96079ecf4c9fe3a2"
  },
  {
   "cell_type": "code",
   "execution_count": null,
   "outputs": [],
   "source": [
    "# feature_traces_flatten = feature_traces_preprocessed\n",
    "# for feat_name, isList in isFeatList.items():\n",
    "#   if isList:\n",
    "#     max_len = len(feature_traces_flatten[feat_name])\n",
    "#     feature_traces_flatten = feature_traces_flatten.drop(feat_name, axis= 1)\n",
    "#     feature_traces_flatten[[f'{feat_name}_{i}' for i in max_len]] = pd.DataFrame(feature_traces_preprocessed[feat_name].tolist(), index= feature_traces_preprocessed.index)\n",
    "#     #feature_traces_preprocessed = feature_traces_preprocessed + feature_traces_preprocessed.teams.apply(pd.Series)\n",
    "#     #df3.columns = ['team1', 'team2']"
   ],
   "metadata": {
    "collapsed": false,
    "ExecuteTime": {
     "start_time": "2023-12-17T18:48:46.553042607Z"
    }
   },
   "id": "9386cd8d843f63b6"
  },
  {
   "cell_type": "code",
   "execution_count": null,
   "outputs": [],
   "source": [
    "feature_traces_preprocessed.info()"
   ],
   "metadata": {
    "collapsed": false,
    "ExecuteTime": {
     "end_time": "2023-12-17T18:48:46.643256914Z",
     "start_time": "2023-12-17T18:48:46.555504536Z"
    }
   },
   "id": "4518fcc7b8bbdd90"
  },
  {
   "cell_type": "code",
   "execution_count": null,
   "outputs": [],
   "source": [
    "# The data is split by trace and not by frame windows as otherwise the model would be trained with similar apps before\n",
    "feature_traces_list = [pd.DataFrame(x[1]).drop('trace_id', axis=1) for x in feature_traces_preprocessed.groupby('trace_id')]"
   ],
   "metadata": {
    "collapsed": false,
    "ExecuteTime": {
     "start_time": "2023-12-17T18:48:46.557055917Z"
    }
   },
   "id": "2e5c1681d1fcf7f2"
  },
  {
   "cell_type": "code",
   "execution_count": null,
   "outputs": [],
   "source": [
    "feature_traces_list[0]\n",
    "# len(feature_traces_preprocessed[0].iloc[0]['obj_dom_pos'])"
   ],
   "metadata": {
    "collapsed": false,
    "ExecuteTime": {
     "start_time": "2023-12-17T18:48:46.559075805Z"
    }
   },
   "id": "1d11d0c674f86a3c"
  },
  {
   "cell_type": "code",
   "execution_count": null,
   "outputs": [],
   "source": [
    "# padding_info = [('screen_caption_token_ids', [1, None], 0),\n",
    "#                   ('appdesc_token_id', [1, None], 0),\n",
    "#                   ('label_flag', [None], 0),\n",
    "#                   ('obj_pixels', [None, 64, 64, 1], 0.0),\n",
    "#                   ('obj_type', [None], -1), ('obj_clickable', [None], 0),\n",
    "#                   ('obj_screen_pos', [None, 4], 0),\n",
    "#                   ('obj_dom_pos', [None, 3], 0), ('obj_visible', [None], 0),\n",
    "#                   ('attention_boxes', [1, 5, 4], 0.0),\n",
    "#                   ('attended_objects', [1, None], 0),\n",
    "#                   ('references', [None], tf.cast('', tf.string))]\n",
    "# padded_shapes = {}\n",
    "# padded_values = {}\n",
    "# for (key, padding_shape, padding_value) in padding_info:\n",
    "#   padded_shapes[key] = padding_shape\n",
    "#   padded_values[key] = padding_value"
   ],
   "metadata": {
    "collapsed": false,
    "ExecuteTime": {
     "start_time": "2023-12-17T18:48:46.603542150Z"
    }
   },
   "id": "df026ca56f4c860"
  },
  {
   "cell_type": "code",
   "execution_count": null,
   "outputs": [],
   "source": [
    "# tmp = pd.DataFrame(columns=['x','y', 'obj_dom_pos'], data=[[0.5,0.5,[1,2]],[0.5,0.5,[1,2,3]]], index=[1,2])\n",
    "# tmp['obj_dom_pos'].to_dict()\n",
    "\n",
    "\n",
    "# data = tf.data.Dataset.from_generator(lambda: tmp['obj_dom_pos'], output_signature=(\n",
    "#   tf.TensorSpec(shape=(), dtype=tf.string),\n",
    "#   tf.RaggedTensorSpec(shape=(), dtype=tf.int32),\n",
    "# ))\n"
   ],
   "metadata": {
    "collapsed": false,
    "ExecuteTime": {
     "start_time": "2023-12-17T18:48:46.603682165Z"
    }
   },
   "id": "1cef4282ab628205"
  },
  {
   "cell_type": "code",
   "execution_count": null,
   "outputs": [],
   "source": [
    "\n",
    "\n",
    "# dataset = tf.data.Dataset.from_tensor_slices(data)\n",
    "# dataset = dataset.map(lambda x: x.to_tensor()) # convert ragged -> uniform\n",
    "# \n",
    "# #data = tmp['obj_dom_pos']\n",
    "# batch_size = 64\n",
    "# data = data.padded_batch(\n",
    "#   batch_size, padded_shapes=padded_shapes, padding_values=padded_values)\n",
    "# data = data.prefetch(buffer_size=1024)\n",
    "# data\n",
    "\n",
    "#feature_traces_list = [tmp,tmp,tmp,tmp,tmp,tmp,tmp,tmp]"
   ],
   "metadata": {
    "collapsed": false,
    "ExecuteTime": {
     "start_time": "2023-12-17T18:48:46.603753905Z"
    }
   },
   "id": "ac203b0a1db96199"
  },
  {
   "cell_type": "code",
   "execution_count": null,
   "outputs": [],
   "source": [
    "test_size = len(feature_traces_list) // 4\n",
    "test_ind = len(feature_traces_list) - test_size\n",
    "\n",
    "train_traces = feature_traces_list[:test_ind]\n",
    "test_traces = feature_traces_list[test_ind:]"
   ],
   "metadata": {
    "collapsed": false,
    "ExecuteTime": {
     "start_time": "2023-12-17T18:48:46.603794803Z"
    }
   },
   "id": "68dc568c059d2160"
  },
  {
   "cell_type": "code",
   "execution_count": null,
   "outputs": [],
   "source": [
    "#df['obj_dom_pos'].dtype"
   ],
   "metadata": {
    "collapsed": false,
    "ExecuteTime": {
     "start_time": "2023-12-17T18:48:46.603834769Z"
    }
   },
   "id": "e7971c3e9fc1ce6c"
  },
  {
   "cell_type": "code",
   "execution_count": 141,
   "outputs": [
    {
     "ename": "NameError",
     "evalue": "name 'train_traces' is not defined",
     "output_type": "error",
     "traceback": [
      "\u001B[0;31m---------------------------------------------------------------------------\u001B[0m",
      "\u001B[0;31mNameError\u001B[0m                                 Traceback (most recent call last)",
      "Cell \u001B[0;32mIn[141], line 25\u001B[0m\n\u001B[1;32m     23\u001B[0m   \u001B[38;5;28mprint\u001B[39m(scaler_invert(scaled_train_traces[\u001B[38;5;241m0\u001B[39m]))\n\u001B[1;32m     24\u001B[0m \u001B[38;5;28;01melse\u001B[39;00m:\n\u001B[0;32m---> 25\u001B[0m   scaled_train_traces \u001B[38;5;241m=\u001B[39m \u001B[43mtrain_traces\u001B[49m\n\u001B[1;32m     26\u001B[0m   scaled_test_traces \u001B[38;5;241m=\u001B[39m test_traces\n",
      "\u001B[0;31mNameError\u001B[0m: name 'train_traces' is not defined"
     ]
    }
   ],
   "source": [
    "from keras.layers import Normalization\n",
    "\n",
    "isScale = False\n",
    "if isScale:\n",
    "  scaler = Normalization()\n",
    "  scaler_invert = Normalization(invert=True)\n",
    "  \n",
    "  print('Adapt scaler')\n",
    "  for train in train_traces:\n",
    "    scaler.adapt(train[['x','y']])\n",
    "    scaler_invert.adapt(train[['x','y']])\n",
    "  \n",
    "  print('Scale train data')\n",
    "  scaled_train_traces = train_traces\n",
    "  for train in train_traces[['x','y']]:\n",
    "    scaled_train_traces[['x','y']] = scaler(train)\n",
    "  \n",
    "  print('Scale test data')\n",
    "  scaled_test_traces = test_traces\n",
    "  for test in test_traces[['x','y']]:\n",
    "    scaled_test_traces[['x','y']] = scaler(test)\n",
    "  \n",
    "  print(scaler_invert(scaled_train_traces[0]))\n",
    "else:\n",
    "  scaled_train_traces = train_traces\n",
    "  scaled_test_traces = test_traces\n",
    "  "
   ],
   "metadata": {
    "collapsed": false,
    "ExecuteTime": {
     "end_time": "2023-12-17T18:48:46.934801630Z",
     "start_time": "2023-12-17T18:48:46.874056960Z"
    }
   },
   "id": "3ef65237c3f7c11e"
  },
  {
   "cell_type": "code",
   "execution_count": 142,
   "outputs": [
    {
     "data": {
      "text/plain": "array([[0.61011822, 0.64493811, 0.67046297],\n       [0.1359399 , 0.05668222, 0.40865385],\n       [0.73785811, 0.49889766, 0.56066093],\n       [0.75912023, 0.03728815, 0.99522048],\n       [0.32147904, 0.4479481 , 0.57301485],\n       [0.71411207, 0.57542624, 0.23246891],\n       [0.73647985, 0.61336427, 0.63039808],\n       [0.48275053, 0.10995183, 0.20955067],\n       [0.4653616 , 0.65283781, 0.11533508],\n       [0.15642773, 0.52051093, 0.98889933],\n       [0.99750906, 0.75398081, 0.51235555],\n       [0.11732587, 0.16141705, 0.80554198],\n       [0.51397068, 0.85118822, 0.45827486],\n       [0.85982384, 0.30204155, 0.16993058],\n       [0.18626978, 0.29648336, 0.73378744],\n       [0.2108386 , 0.87705095, 0.37403637],\n       [0.57265947, 0.19910736, 0.56397247],\n       [0.57471182, 0.23311879, 0.95023524],\n       [0.66493474, 0.21506825, 0.56116141],\n       [0.85545126, 0.05090565, 0.85783125],\n       [0.56723534, 0.3585936 , 0.03699648],\n       [0.40895189, 0.653733  , 0.79636597],\n       [0.62154159, 0.40700053, 0.01017274],\n       [0.57152474, 0.26066817, 0.03654445],\n       [0.43777519, 0.36646125, 0.58708635],\n       [0.20980163, 0.53419732, 0.0897226 ],\n       [0.54530584, 0.59737228, 0.06287195],\n       [0.38613206, 0.37655223, 0.87753427],\n       [0.58233304, 0.87423885, 0.65956405],\n       [0.0240101 , 0.4829185 , 0.02025118]])"
     },
     "execution_count": 142,
     "metadata": {},
     "output_type": "execute_result"
    }
   ],
   "source": [
    "scaled_train_traces[0]\n"
   ],
   "metadata": {
    "collapsed": false,
    "ExecuteTime": {
     "end_time": "2023-12-17T18:48:47.601767729Z",
     "start_time": "2023-12-17T18:48:47.589412331Z"
    }
   },
   "id": "95f3bafe5ec03b33"
  },
  {
   "cell_type": "code",
   "execution_count": 143,
   "outputs": [],
   "source": [
    "# from tensorflow.keras.preprocessing.sequence import TimeseriesGenerator\n",
    "# # Replace by timeseries_dataset_from_array\n",
    "# generator = TimeseriesGenerator(scaled_train, scaled_train, length=length, batch_size=1)\n",
    "# validation_generator = TimeseriesGenerator(scaled_test,scaled_test, length=length, batch_size=1)\n",
    "# len(generator)"
   ],
   "metadata": {
    "collapsed": false,
    "ExecuteTime": {
     "end_time": "2023-12-17T18:48:48.240166654Z",
     "start_time": "2023-12-17T18:48:48.217471001Z"
    }
   },
   "id": "b6de01b5523b9891"
  },
  {
   "cell_type": "code",
   "execution_count": 144,
   "outputs": [],
   "source": [
    "# X,y = generator[0]\n",
    "# X"
   ],
   "metadata": {
    "collapsed": false,
    "ExecuteTime": {
     "end_time": "2023-12-17T18:48:48.873510470Z",
     "start_time": "2023-12-17T18:48:48.856565848Z"
    }
   },
   "id": "bb6fb4ed4cb81857"
  },
  {
   "cell_type": "code",
   "execution_count": 145,
   "outputs": [],
   "source": [
    "#y"
   ],
   "metadata": {
    "collapsed": false,
    "ExecuteTime": {
     "end_time": "2023-12-17T18:48:49.654726717Z",
     "start_time": "2023-12-17T18:48:49.636394188Z"
    }
   },
   "id": "7b4c73197d04e7b"
  },
  {
   "cell_type": "code",
   "execution_count": 18,
   "outputs": [],
   "source": [
    "def timeseries_dataset_from_array(\n",
    "        data,\n",
    "        targets,\n",
    "        sequence_length,\n",
    "        sequence_stride=1,\n",
    "        sampling_rate=1,\n",
    "        batch_size=128,\n",
    "        shuffle=False,\n",
    "        seed=None,\n",
    "        start_index=None,\n",
    "        end_index=None,\n",
    "):\n",
    "  if start_index:\n",
    "    if start_index < 0:\n",
    "      raise ValueError(\n",
    "        \"`start_index` must be 0 or greater. Received: \"\n",
    "        f\"start_index={start_index}\"\n",
    "      )\n",
    "    if start_index >= len(data):\n",
    "      raise ValueError(\n",
    "        \"`start_index` must be lower than the length of the \"\n",
    "        f\"data. Received: start_index={start_index}, for data \"\n",
    "        f\"of length {len(data)}\"\n",
    "      )\n",
    "  if end_index:\n",
    "    if start_index and end_index <= start_index:\n",
    "      raise ValueError(\n",
    "        \"`end_index` must be higher than `start_index`. \"\n",
    "        f\"Received: start_index={start_index}, and \"\n",
    "        f\"end_index={end_index} \"\n",
    "      )\n",
    "    if end_index >= len(data):\n",
    "      raise ValueError(\n",
    "        \"`end_index` must be lower than the length of the \"\n",
    "        f\"data. Received: end_index={end_index}, for data of \"\n",
    "        f\"length {len(data)}\"\n",
    "      )\n",
    "    if end_index <= 0:\n",
    "      raise ValueError(\n",
    "        \"`end_index` must be higher than 0. \"\n",
    "        f\"Received: end_index={end_index}\"\n",
    "      )\n",
    "\n",
    "  # Validate strides\n",
    "  if sampling_rate <= 0:\n",
    "    raise ValueError(\n",
    "      \"`sampling_rate` must be higher than 0. Received: \"\n",
    "      f\"sampling_rate={sampling_rate}\"\n",
    "    )\n",
    "  if sampling_rate >= len(data):\n",
    "    raise ValueError(\n",
    "      \"`sampling_rate` must be lower than the length of the \"\n",
    "      f\"data. Received: sampling_rate={sampling_rate}, for data \"\n",
    "      f\"of length {len(data)}\"\n",
    "    )\n",
    "  if sequence_stride <= 0:\n",
    "    raise ValueError(\n",
    "      \"`sequence_stride` must be higher than 0. Received: \"\n",
    "      f\"sequence_stride={sequence_stride}\"\n",
    "    )\n",
    "  if sequence_stride >= len(data):\n",
    "    raise ValueError(\n",
    "      \"`sequence_stride` must be lower than the length of the \"\n",
    "      f\"data. Received: sequence_stride={sequence_stride}, for \"\n",
    "      f\"data of length {len(data)}\"\n",
    "    )\n",
    "\n",
    "  if start_index is None:\n",
    "    start_index = 0\n",
    "  if end_index is None:\n",
    "    end_index = len(data)\n",
    "\n",
    "  # Determine the lowest dtype to store start positions (to lower memory\n",
    "  # usage).\n",
    "  num_seqs = end_index - start_index - (sequence_length - 1) * sampling_rate\n",
    "  if targets is not None:\n",
    "    num_seqs = min(num_seqs, len(targets))\n",
    "  if num_seqs < 2147483647:\n",
    "    index_dtype = \"int32\"\n",
    "  else:\n",
    "    index_dtype = \"int64\"\n",
    "\n",
    "  # Generate start positions\n",
    "  start_positions = np.arange(0, num_seqs, sequence_stride, dtype=index_dtype)\n",
    "  if shuffle:\n",
    "    if seed is None:\n",
    "      seed = np.random.randint(1e6)\n",
    "    rng = np.random.RandomState(seed)\n",
    "    rng.shuffle(start_positions)\n",
    "\n",
    "  sequence_length = tf.cast(sequence_length, dtype=index_dtype)\n",
    "  sampling_rate = tf.cast(sampling_rate, dtype=index_dtype)\n",
    "\n",
    "  positions_ds = tf.data.Dataset.from_tensors(start_positions).repeat()\n",
    "\n",
    "  # For each initial window position, generates indices of the window elements\n",
    "  indices = tf.data.Dataset.zip(\n",
    "    (tf.data.Dataset.range(len(start_positions)), positions_ds)\n",
    "  ).map(\n",
    "    lambda i, positions: tf.range(\n",
    "      positions[i],\n",
    "      positions[i] + sequence_length * sampling_rate,\n",
    "      sampling_rate,\n",
    "    ),\n",
    "    num_parallel_calls=tf.data.AUTOTUNE,\n",
    "  )\n",
    "\n",
    "  # for i in indices.as_numpy_iterator():\n",
    "  #   print(f'index: {i}')\n",
    "  dataset = sequences_from_indices(data, indices, start_index, end_index)\n",
    "  if targets is not None:\n",
    "    indices = tf.data.Dataset.zip(\n",
    "      (tf.data.Dataset.range(len(start_positions)), positions_ds)\n",
    "    ).map(\n",
    "      lambda i, positions: positions[i],\n",
    "      num_parallel_calls=tf.data.AUTOTUNE,\n",
    "    )\n",
    "    target_ds = sequences_from_indices(\n",
    "      targets, indices, start_index, end_index\n",
    "    )\n",
    "    dataset = tf.data.Dataset.zip((dataset, target_ds))\n",
    "  dataset = dataset.prefetch(tf.data.AUTOTUNE)\n",
    "  if batch_size is not None:\n",
    "    if shuffle:\n",
    "      # Shuffle locally at each iteration\n",
    "      dataset = dataset.shuffle(buffer_size=batch_size * 8, seed=seed)\n",
    "    dataset = dataset.batch(batch_size)\n",
    "  else:\n",
    "    if shuffle:\n",
    "      dataset = dataset.shuffle(buffer_size=1024, seed=seed)\n",
    "  return dataset\n",
    "\n",
    "def sequences_from_indices(array, indices_ds, start_index, end_index):\n",
    "  if isinstance(array, tf.data.Dataset):\n",
    "    dataset = array.take(end_index)\n",
    "    dataset = dataset.skip(start_index)\n",
    "  else:\n",
    "    dataset = tf.data.Dataset.from_tensors(array[start_index:end_index])\n",
    "  dataset = tf.data.Dataset.zip((dataset.repeat(), indices_ds)).map(\n",
    "    lambda steps, inds: tf.gather(steps, inds), # works only with tensors with the same nested depth\n",
    "    num_parallel_calls=tf.data.AUTOTUNE,\n",
    "  )\n",
    "  return dataset"
   ],
   "metadata": {
    "collapsed": false,
    "ExecuteTime": {
     "end_time": "2023-12-17T22:25:25.204004885Z",
     "start_time": "2023-12-17T22:25:25.092694752Z"
    }
   },
   "id": "f15aea14dcc63ba5"
  },
  {
   "cell_type": "code",
   "execution_count": 126,
   "outputs": [
    {
     "name": "stdout",
     "output_type": "stream",
     "text": [
      "After: 30\n",
      "After: 30\n",
      "After: 30\n",
      "After: 20\n",
      "After: 20\n",
      "After: 20\n"
     ]
    },
    {
     "data": {
      "text/plain": "[[array([0.75692106, 0.17225894, 0.8597979 , 0.577664  ]),\n  array([0.80136651, 0.67897498, 0.81280121, 0.72823675]),\n  array([244,  37,  36, 225])],\n [array([0.19049498, 0.32964048, 0.5780277 , 0.4614456 ]),\n  array([0.3532125 , 0.71533134, 0.0487255 , 0.08126767]),\n  array([220, 142, 165,  78])],\n [array([0.07364209, 0.01111362, 0.58117763, 0.56204244]),\n  array([0.23397347, 0.13093756, 0.28260467, 0.8809815 ]),\n  array([241,  90,  89,  48])],\n [array([0.0496616 , 0.771345  , 0.19392323, 0.01280874]),\n  array([0.13672668, 0.78644241, 0.96410147, 0.280446  ]),\n  array([  1,  33,   1, 205])],\n [array([0.0255006 , 0.15671565, 0.7582985 , 0.82796649]),\n  array([0.04174655, 0.74224709, 0.3385378 , 0.91874225]),\n  array([195, 123, 205, 151])],\n [array([0.96065941, 0.69499589, 0.95120397, 0.57363343]),\n  array([0.98078988, 0.87073419, 0.9420498 , 0.91954412]),\n  array([ 55,  97,  11, 102])],\n [array([0.63854924, 0.35420631, 0.00293434, 0.97673268]),\n  array([0.90920697, 0.50555789, 0.74959295, 0.3750507 ]),\n  array([186,   1,  84, 163])],\n [array([0.27202424, 0.68792445, 0.44178136, 0.92244618]),\n  array([0.67968735, 0.26109145, 0.13248576, 0.85767493]),\n  array([ 74, 248, 254, 211])],\n [array([0.76558956, 0.66882728, 0.2991585 , 0.4698169 ]),\n  array([0.09917741, 0.30007611, 0.20545652, 0.70399408]),\n  array([169,  76, 135,  46])],\n [array([0.52102032, 0.39942741, 0.29624903, 0.05152685]),\n  array([0.27834971, 0.63515613, 0.83256019, 0.15374716]),\n  array([ 34, 106, 207, 111])],\n [array([0.7829657 , 0.99818312, 0.3658061 , 0.8987971 ]),\n  array([0.62902537, 0.78390511, 0.14737562, 0.84140533]),\n  array([207, 166, 101, 102])],\n [array([0.48360394, 0.83071261, 0.83744729, 0.71100078]),\n  array([0.72040603, 0.32999555, 0.8777167 , 0.15709471]),\n  array([ 12,   1, 160, 245])],\n [array([0.97148131, 0.55648454, 0.56402716, 0.45227806]),\n  array([0.30559294, 0.31806955, 0.53938139, 0.24982531]),\n  array([134,  96, 247, 169])],\n [array([0.80060425, 0.47395009, 0.7113971 , 0.89986698]),\n  array([0.51165755, 0.42187878, 0.38344168, 0.7953381 ]),\n  array([211,  27, 183,   5])],\n [array([0.07347451, 0.35292309, 0.74887537, 0.42047673]),\n  array([0.9629688 , 0.40105401, 0.94002666, 0.24187545]),\n  array([116, 180, 109,  47])],\n [array([0.21843887, 0.00338533, 0.78760679, 0.27225504]),\n  array([0.83823116, 0.77933659, 0.32906236, 0.64201964]),\n  array([ 12, 244, 149,  94])],\n [array([0.95274916, 0.79272393, 0.68724854, 0.27120683]),\n  array([0.69458703, 0.45003454, 0.06923028, 0.24734477]),\n  array([103,  16,   4,  64])],\n [array([0.89289677, 0.18575064, 0.63776077, 0.19465381]),\n  array([0.64872625, 0.00623246, 0.68772269, 0.84407905]),\n  array([ 36,  52, 127, 199])],\n [array([0.79211695, 0.8479311 , 0.92548887, 0.13949137]),\n  array([0.11181247, 0.55229337, 0.86146444, 0.76954548]),\n  array([ 42,  52, 150, 122])],\n [array([0.21896547, 0.7529413 , 0.18721406, 0.26291528]),\n  array([0.60427195, 0.2679724 , 0.67718685, 0.7123827 ]),\n  array([  2, 154, 244,  93])],\n [array([0.29448161, 0.25950854, 0.02489015, 0.5645585 ]),\n  array([0.4848241 , 0.16569943, 0.83012839, 0.73084489]),\n  array([176, 114,   4,  41])],\n [array([0.81725614, 0.48878204, 0.83428718, 0.1369423 ]),\n  array([0.00582366, 0.14378578, 0.72375125, 0.41009948]),\n  array([154,  11,  65, 218])],\n [array([0.46899805, 0.35196547, 0.34576077, 0.54669793]),\n  array([0.64524337, 0.25044662, 0.55407346, 0.21191159]),\n  array([ 97, 194, 217, 247])],\n [array([0.19129652, 0.11879715, 0.73353522, 0.16979858]),\n  array([0.79268808, 0.20895802, 0.25281953, 0.4048299 ]),\n  array([119, 239, 175,  16])],\n [array([0.93695792, 0.21135646, 0.08486566, 0.94843496]),\n  array([0.43491036, 0.0495414 , 0.05627595, 0.25409194]),\n  array([ 38,  41, 134,  54])],\n [array([0.1017715 , 0.25086138, 0.1004792 , 0.02637248]),\n  array([0.63417955, 0.09265831, 0.52765535, 0.24300167]),\n  array([196,  77,  37, 193])],\n [array([0.72320666, 0.56428338, 0.55314399, 0.68886846]),\n  array([0.80050919, 0.76875806, 0.2684665 , 0.9610254 ]),\n  array([253,  49, 161, 168])],\n [array([0.41605093, 0.11466316, 0.84372434, 0.54380283]),\n  array([0.89246867, 0.6310568 , 0.44974081, 0.93313244]),\n  array([253, 225, 104, 229])],\n [array([0.93428757, 0.50899669, 0.030147  , 0.29714513]),\n  array([0.80010483, 0.33905635, 0.72374057, 0.17358667]),\n  array([122,  76, 225, 182])],\n [array([0.08909867, 0.36426542, 0.44413583, 0.87360566]),\n  array([0.51233903, 0.6366589 , 0.79119051, 0.54166742]),\n  array([196,  56, 151, 175])]]"
     },
     "execution_count": 126,
     "metadata": {},
     "output_type": "execute_result"
    }
   ],
   "source": [
    "def create_fake_dataset(length=5):\n",
    "  # return [\n",
    "  #   {\n",
    "  #     'x': np.random.uniform(0, 1),\n",
    "  #     'y': np.random.uniform(0, 1),\n",
    "  #     #  'obj_dom_pos': np.random.randint(0, 250, size=length),\n",
    "  #     # 'x': [np.random.uniform(0, 1, size=length) for i in range(0, length)],\n",
    "  #     # 'y': [np.random.uniform(0, 1, size=length) for i in range(0, length)],\n",
    "  #     'obj_dom_pos': tuple([np.random.randint(0, 250, size=5)]),\n",
    "  #   } for i in range(0, length)\n",
    "  # ]\n",
    "  my_arr = []\n",
    "  for i in range(0, length):\n",
    "    my_dict = {\n",
    "      # 'x': np.random.uniform(0, 1, size=length),\n",
    "      # 'y': np.random.uniform(0, 1, size=length),\n",
    "      # 'obj_dom_pos': np.random.uniform(0, 1, size=length),\n",
    "      # 'obj_dom_pos': [np.random.randint(0, 1, size=length) for i in range(0, length)],\n",
    "      # 'x': [np.random.uniform(0, 1, size=4) for i in range(0, length)],\n",
    "      # 'y': [np.random.uniform(0, 1, size=4) for i in range(0, length)],\n",
    "      # 'obj_dom_pos': [np.random.uniform(0, 1, size=4) for i in range(0, length)],\n",
    "      'x': np.random.uniform(0, 1, size=max_dim_length),\n",
    "      'y': np.random.uniform(0, 1, size=max_dim_length),\n",
    "      'obj_dom_pos': np.random.randint(0, 255, size=max_dim_length),\n",
    "    }\n",
    "    my_arr.append(list(my_dict.values()))\n",
    "\n",
    "  # print(f'Before: {nparr.lenth}')\n",
    "  # TODO find a way to keep dict inside data structure.\n",
    "  # nparr = np.transpose(nparr, (1, 0, 2)) # Transpose list of values in second dim\n",
    "  print(f'After: {len(my_arr)}')\n",
    "  return my_arr\n",
    "  # np_arr = pd.DataFrame(my_dict).to_numpy()\n",
    "  # return np_arr\n",
    "  # coords = tf.data.Dataset.from_tensor_slices(tf.random.uniform([length, 8], dtype=tf.float32))\n",
    "  # obj_dom_pos = tf.data.Dataset.from_tensor_slices((\n",
    "  #   # tf.random.uniform([length]),\n",
    "  #   tf.random.uniform([length, 2], maxval=250, dtype=tf.float32),\n",
    "  #   tf.random.uniform([length, 2], maxval=250, dtype=tf.float32),\n",
    "  #   tf.random.uniform([length, 2], maxval=250, dtype=tf.float32)\n",
    "  # ))\n",
    "  # return obj_dom_pos\n",
    "  # return tf.data.Dataset.zip((coords, obj_dom_pos))\n",
    "\n",
    "\n",
    "scaled_train_traces = [create_fake_dataset(30) for i in range(0, 3)]\n",
    "scaled_test_traces = [create_fake_dataset(20) for i in range(0, 3)]\n",
    "#scaled_train_traces = scaled_train_traces.reshape((scaled_train_traces.shape[0], scaled_train_traces.shape[1], 1))\n",
    "\n",
    "# scaled_train_traces[0]\n",
    "scaled_train_traces[0]\n",
    "#for x in scaled_train_traces[0]:\n",
    "#  print(x)"
   ],
   "metadata": {
    "collapsed": false,
    "ExecuteTime": {
     "end_time": "2023-12-19T15:22:25.771494146Z",
     "start_time": "2023-12-19T15:22:25.745049366Z"
    }
   },
   "id": "269d16a30b66233b"
  },
  {
   "cell_type": "code",
   "execution_count": 115,
   "outputs": [],
   "source": [
    "from keras.preprocessing.sequence import TimeseriesGenerator"
   ],
   "metadata": {
    "collapsed": false,
    "ExecuteTime": {
     "end_time": "2023-12-19T15:21:03.187259623Z",
     "start_time": "2023-12-19T15:21:03.135490483Z"
    }
   },
   "id": "319001e7ee3658dd"
  },
  {
   "cell_type": "code",
   "execution_count": 127,
   "outputs": [
    {
     "data": {
      "text/plain": "(array([[[[7.56921056e-01, 1.72258937e-01, 8.59797899e-01,\n           5.77664001e-01],\n          [8.01366510e-01, 6.78974979e-01, 8.12801209e-01,\n           7.28236752e-01],\n          [2.44000000e+02, 3.70000000e+01, 3.60000000e+01,\n           2.25000000e+02]],\n \n         [[1.90494976e-01, 3.29640475e-01, 5.78027702e-01,\n           4.61445600e-01],\n          [3.53212504e-01, 7.15331339e-01, 4.87255018e-02,\n           8.12676721e-02],\n          [2.20000000e+02, 1.42000000e+02, 1.65000000e+02,\n           7.80000000e+01]],\n \n         [[7.36420873e-02, 1.11136174e-02, 5.81177630e-01,\n           5.62042438e-01],\n          [2.33973466e-01, 1.30937555e-01, 2.82604665e-01,\n           8.80981503e-01],\n          [2.41000000e+02, 9.00000000e+01, 8.90000000e+01,\n           4.80000000e+01]],\n \n         [[4.96615979e-02, 7.71344999e-01, 1.93923226e-01,\n           1.28087429e-02],\n          [1.36726681e-01, 7.86442413e-01, 9.64101465e-01,\n           2.80445998e-01],\n          [1.00000000e+00, 3.30000000e+01, 1.00000000e+00,\n           2.05000000e+02]],\n \n         [[2.55006041e-02, 1.56715650e-01, 7.58298498e-01,\n           8.27966490e-01],\n          [4.17465479e-02, 7.42247087e-01, 3.38537796e-01,\n           9.18742254e-01],\n          [1.95000000e+02, 1.23000000e+02, 2.05000000e+02,\n           1.51000000e+02]]]]),\n array([[[  0.96065941,   0.69499589,   0.95120397,   0.57363343],\n         [  0.98078988,   0.87073419,   0.9420498 ,   0.91954412],\n         [ 55.        ,  97.        ,  11.        , 102.        ]]]))"
     },
     "execution_count": 127,
     "metadata": {},
     "output_type": "execute_result"
    }
   ],
   "source": [
    "from functools import reduce\n",
    "def make_dataset_from_generator(data):\n",
    "  generator = TimeseriesGenerator(data, data, length=length, batch_size=1)\n",
    "  # shuffle=False, # TODO: Shuffle if possible\n",
    "  return generator\n",
    "\n",
    "# def reduce_generators(a,b):\n",
    "#   a = list(map(lambda a1: a1, a))\n",
    "#   b = list(map(lambda b1: b1, b))\n",
    "#   return np.concatenate((a, b))\n",
    "\n",
    "train_generators = list(map(make_dataset_from_generator,scaled_train_traces))\n",
    "validation_generators = list(map(make_dataset_from_generator,scaled_test_traces))\n",
    "generator = train_generators[0]\n",
    "validation_generator = validation_generators[0]\n",
    "generator[0]\n",
    "# train_dataset = reduce(reduce_generators, train_generators)\n",
    "# print(train_dataset)\n",
    "\n",
    "# print(generator)\n",
    "# X,y = generator[0]\n",
    "# print('X')\n",
    "# print(X)\n",
    "# print('y')\n",
    "# print(y)"
   ],
   "metadata": {
    "collapsed": false,
    "ExecuteTime": {
     "end_time": "2023-12-19T15:22:30.817546537Z",
     "start_time": "2023-12-19T15:22:30.693448126Z"
    }
   },
   "id": "360c3e4384131914"
  },
  {
   "cell_type": "code",
   "execution_count": 117,
   "outputs": [],
   "source": [
    "\n",
    "# validation_generator = TimeseriesGenerator(scaled_test,scaled_test, length=length, batch_size=1)"
   ],
   "metadata": {
    "collapsed": false,
    "ExecuteTime": {
     "end_time": "2023-12-19T15:21:05.977987544Z",
     "start_time": "2023-12-19T15:21:05.923851720Z"
    }
   },
   "id": "ebc2635a85601042"
  },
  {
   "cell_type": "code",
   "execution_count": 128,
   "outputs": [
    {
     "ename": "NameError",
     "evalue": "name 'timeseries_dataset_from_array' is not defined",
     "output_type": "error",
     "traceback": [
      "\u001B[0;31m---------------------------------------------------------------------------\u001B[0m",
      "\u001B[0;31mNameError\u001B[0m                                 Traceback (most recent call last)",
      "Cell \u001B[0;32mIn[128], line 20\u001B[0m\n\u001B[1;32m      9\u001B[0m   ds \u001B[38;5;241m=\u001B[39m timeseries_dataset_from_array(\n\u001B[1;32m     10\u001B[0m     data\u001B[38;5;241m=\u001B[39mdata,\n\u001B[1;32m     11\u001B[0m     targets\u001B[38;5;241m=\u001B[39m\u001B[38;5;28;01mNone\u001B[39;00m,\n\u001B[0;32m   (...)\u001B[0m\n\u001B[1;32m     16\u001B[0m     \u001B[38;5;66;03m# sampling_rate=1,\u001B[39;00m\n\u001B[1;32m     17\u001B[0m   )\n\u001B[1;32m     18\u001B[0m   \u001B[38;5;28;01mreturn\u001B[39;00m ds\u001B[38;5;241m.\u001B[39mmap(split_window)\n\u001B[0;32m---> 20\u001B[0m train_dataset_list \u001B[38;5;241m=\u001B[39m \u001B[38;5;28;43mlist\u001B[39;49m\u001B[43m(\u001B[49m\u001B[38;5;28;43mmap\u001B[39;49m\u001B[43m(\u001B[49m\u001B[43mmake_dataset\u001B[49m\u001B[43m,\u001B[49m\u001B[43mscaled_train_traces\u001B[49m\u001B[43m)\u001B[49m\u001B[43m)\u001B[49m\n\u001B[1;32m     21\u001B[0m dataset \u001B[38;5;241m=\u001B[39m functools\u001B[38;5;241m.\u001B[39mreduce(\u001B[38;5;28;01mlambda\u001B[39;00m a, b: a\u001B[38;5;241m.\u001B[39mconcatenate(b), train_dataset_list)\n\u001B[1;32m     23\u001B[0m test_dataset_list \u001B[38;5;241m=\u001B[39m \u001B[38;5;28mlist\u001B[39m(\u001B[38;5;28mmap\u001B[39m(make_dataset,scaled_test_traces))\n",
      "Cell \u001B[0;32mIn[128], line 9\u001B[0m, in \u001B[0;36mmake_dataset\u001B[0;34m(data)\u001B[0m\n\u001B[1;32m      8\u001B[0m \u001B[38;5;28;01mdef\u001B[39;00m \u001B[38;5;21mmake_dataset\u001B[39m(data):\n\u001B[0;32m----> 9\u001B[0m   ds \u001B[38;5;241m=\u001B[39m \u001B[43mtimeseries_dataset_from_array\u001B[49m(\n\u001B[1;32m     10\u001B[0m     data\u001B[38;5;241m=\u001B[39mdata,\n\u001B[1;32m     11\u001B[0m     targets\u001B[38;5;241m=\u001B[39m\u001B[38;5;28;01mNone\u001B[39;00m,\n\u001B[1;32m     12\u001B[0m     sequence_length\u001B[38;5;241m=\u001B[39mlength \u001B[38;5;241m+\u001B[39m label_length,\n\u001B[1;32m     13\u001B[0m     sequence_stride\u001B[38;5;241m=\u001B[39m\u001B[38;5;241m1\u001B[39m,\n\u001B[1;32m     14\u001B[0m     shuffle\u001B[38;5;241m=\u001B[39m\u001B[38;5;28;01mFalse\u001B[39;00m, \u001B[38;5;66;03m# TODO: Shuffle if possible\u001B[39;00m\n\u001B[1;32m     15\u001B[0m     batch_size\u001B[38;5;241m=\u001B[39m\u001B[38;5;241m32\u001B[39m,\n\u001B[1;32m     16\u001B[0m     \u001B[38;5;66;03m# sampling_rate=1,\u001B[39;00m\n\u001B[1;32m     17\u001B[0m   )\n\u001B[1;32m     18\u001B[0m   \u001B[38;5;28;01mreturn\u001B[39;00m ds\u001B[38;5;241m.\u001B[39mmap(split_window)\n",
      "\u001B[0;31mNameError\u001B[0m: name 'timeseries_dataset_from_array' is not defined"
     ]
    }
   ],
   "source": [
    "import functools\n",
    "\n",
    "def split_window(features):\n",
    "  inputs = features[:, slice(0, length), :]\n",
    "  labels = features[:, slice(length, length + label_length), :]\n",
    "  return inputs, labels\n",
    "\n",
    "def make_dataset(data):\n",
    "  ds = timeseries_dataset_from_array(\n",
    "    data=data,\n",
    "    targets=None,\n",
    "    sequence_length=length + label_length,\n",
    "    sequence_stride=1,\n",
    "    shuffle=False, # TODO: Shuffle if possible\n",
    "    batch_size=32,\n",
    "    # sampling_rate=1,\n",
    "  )\n",
    "  return ds.map(split_window)\n",
    "\n",
    "train_dataset_list = list(map(make_dataset,scaled_train_traces))\n",
    "dataset = functools.reduce(lambda a, b: a.concatenate(b), train_dataset_list)\n",
    "\n",
    "test_dataset_list = list(map(make_dataset,scaled_test_traces))\n",
    "validation_dataset = functools.reduce(lambda a, b: a.concatenate(b), test_dataset_list)\n",
    "# dataset\n",
    "# dataset = tf.data.Dataset.from_tensor_slices(scaled_train).window(length, drop_remainder=True)\n",
    "# for inputs, labels in dataset:\n",
    "#     print(len(inputs))\n",
    "#     print(list(inputs.numpy()))\n",
    "\n",
    "# dataset.asOutput()\n",
    "#train_dataset_list\n",
    "inputs, labels = next(iter(dataset))\n",
    "print(inputs, labels)\n",
    "\n",
    "# for x in dataset.as_numpy_iterator():\n",
    "#    print(x)"
   ],
   "metadata": {
    "collapsed": false,
    "ExecuteTime": {
     "end_time": "2023-12-19T15:24:00.034150900Z",
     "start_time": "2023-12-19T15:23:59.951643139Z"
    }
   },
   "id": "50754d7d00fba54b"
  },
  {
   "cell_type": "code",
   "execution_count": 129,
   "outputs": [],
   "source": [
    "# TODO create custom array to circumvent timeseriesgenerator."
   ],
   "metadata": {
    "collapsed": false,
    "ExecuteTime": {
     "end_time": "2023-12-19T15:24:01.665042667Z",
     "start_time": "2023-12-19T15:24:01.646244877Z"
    }
   },
   "id": "3be8bf3374aae8a3"
  },
  {
   "cell_type": "code",
   "execution_count": 130,
   "outputs": [],
   "source": [
    "from keras.models import Model,Sequential\n",
    "from keras.layers import Dense,LSTM,Embedding, Flatten,Reshape\n",
    "from keras.callbacks import EarlyStopping"
   ],
   "metadata": {
    "collapsed": false,
    "ExecuteTime": {
     "end_time": "2023-12-19T15:24:02.150314163Z",
     "start_time": "2023-12-19T15:24:02.066989919Z"
    }
   },
   "id": "4d041342072cad7e"
  },
  {
   "cell_type": "code",
   "execution_count": 135,
   "outputs": [],
   "source": [
    "class IntentPredictionModel(keras.Model):\n",
    "  def __init__(self, num_classes=2, n_features=2, embeddings=None):\n",
    "    super().__init__()\n",
    "    if embeddings is None:\n",
    "      self._embeddings = []\n",
    "    else:\n",
    "      self._embeddings = embeddings\n",
    "    self._lstm = LSTM(100, activation='relu', input_shape=(length, n_features))\n",
    "    self._dense = Dense(num_classes)\n",
    "\n",
    "  def call(self, inputs):\n",
    "    print(inputs.shape)\n",
    "\n",
    "    result = []\n",
    "    for frame in inputs[0]:\n",
    "      print(frame.shape)\n",
    "      frame_result = np.array([])\n",
    "      # Add embedding results to raw inputs\n",
    "      for i, (key, embedding) in enumerate(self._embeddings):\n",
    "        val = frame[i]\n",
    "        print(f'Val before: {val}')\n",
    "        if embedding is None:\n",
    "          # Feature needs no embedding\n",
    "          # TODO: use mean maybe (?)\n",
    "          val = [val[0]]\n",
    "        else:\n",
    "          val = embedding(val)\n",
    "        print(f'FrameResult: {frame_result}')\n",
    "        print(f'Val after: {val}')\n",
    "        frame_result = np.concatenate([frame_result, val])\n",
    "      print(f'Add frame result: {frame_result}')\n",
    "      result.append(frame_result)\n",
    "\n",
    "    print(result.shape)\n",
    "    result = result.reshape((1, None)) # reshape to (1, length, num_features)\n",
    "    print(result.shape)\n",
    "    x = self._lstm(result)\n",
    "    return self._dense(x)\n"
   ],
   "metadata": {
    "collapsed": false,
    "ExecuteTime": {
     "end_time": "2023-12-19T15:25:03.253682260Z",
     "start_time": "2023-12-19T15:25:03.199888955Z"
    }
   },
   "id": "8ff754a8066fecbb"
  },
  {
   "cell_type": "code",
   "execution_count": 136,
   "outputs": [
    {
     "name": "stdout",
     "output_type": "stream",
     "text": [
      "WARNING:tensorflow:Layer lstm_25 will not use cuDNN kernels since it doesn't meet the criteria. It will use a generic GPU kernel as fallback when running on GPU.\n"
     ]
    }
   ],
   "source": [
    "embeddings = [\n",
    "  ('x', None),\n",
    "  ('y', None),\n",
    "  # vocab_size = max count of ui elements\n",
    "  # embed_dim = average count of ui elements\n",
    "  ('obj_dom_pos', Embedding(input_dim=max_dim_length,\n",
    "                            output_dim=embedding_dim_length,\n",
    "                            mask_zero=True,\n",
    "                            # vocab_size=255,\n",
    "                            # batch_input_shape=[batch_size, None],\n",
    "                            )),\n",
    "  # Masking(mask_value=-1,input_shape=input_shape)\n",
    "  # ('obj_dom_pos', Dense(embedding_dim_length, input_shape=[max_dim_length], activation='relu')),\n",
    "]\n",
    "\n",
    "model = IntentPredictionModel(n_features=(1+1+embedding_dim_length), num_classes=2,embeddings=embeddings)\n",
    "model.compile(optimizer='adam', loss='mse')\n",
    "\n",
    "early_stop = EarlyStopping(monitor='val_loss',patience=4)"
   ],
   "metadata": {
    "collapsed": false,
    "ExecuteTime": {
     "end_time": "2023-12-19T15:25:03.644134285Z",
     "start_time": "2023-12-19T15:25:03.618430348Z"
    }
   },
   "id": "feb6a9d19ffc74d1"
  },
  {
   "cell_type": "code",
   "execution_count": 137,
   "outputs": [],
   "source": [
    "# batch_size = 128\n",
    "# \n",
    "# model = Sequential()\n",
    "# model.add(Reshape(target_shape=(length, n_features * max_dim_length), input_shape=(length, n_features, max_dim_length)))\n",
    "# # TODO need to use embedded features\n",
    "# model.add(LSTM(100, activation='relu', input_shape=(length, n_features * max_dim_length)))\n",
    "# model.add(Dense(n_features))\n",
    "# #model = IntentPredictionModel(n_features, embeddings=embeddings)\n",
    "# model.compile(optimizer='adam', loss='mse')\n",
    "# \n",
    "# early_stop = EarlyStopping(monitor='val_loss',patience=4)"
   ],
   "metadata": {
    "collapsed": false,
    "ExecuteTime": {
     "end_time": "2023-12-19T15:25:04.266702144Z",
     "start_time": "2023-12-19T15:25:04.226316157Z"
    }
   },
   "id": "b03b5a43a21a3d5e"
  },
  {
   "cell_type": "code",
   "execution_count": 138,
   "outputs": [
    {
     "name": "stdout",
     "output_type": "stream",
     "text": [
      "(1, 5, 3, 4)\n",
      "(3, 4)\n",
      "Val before: [0.75692105 0.17225894 0.8597979  0.577664  ]\n",
      "FrameResult: []\n",
      "Val after: [<tf.Tensor: shape=(), dtype=float32, numpy=0.75692105>]\n",
      "Val before: [0.8013665  0.678975   0.8128012  0.72823673]\n",
      "FrameResult: [0.75692105]\n",
      "Val after: [<tf.Tensor: shape=(), dtype=float32, numpy=0.8013665>]\n",
      "Val before: [244.  37.  36. 225.]\n",
      "FrameResult: [0.75692105 0.80136651]\n",
      "Val after: [[0. 0. 0.]\n",
      " [0. 0. 0.]\n",
      " [0. 0. 0.]\n",
      " [0. 0. 0.]]\n"
     ]
    },
    {
     "ename": "ValueError",
     "evalue": "Exception encountered when calling layer 'intent_prediction_model_25' (type IntentPredictionModel).\n\nall the input arrays must have same number of dimensions, but the array at index 0 has 1 dimension(s) and the array at index 1 has 2 dimension(s)\n\nCall arguments received by layer 'intent_prediction_model_25' (type IntentPredictionModel):\n  • inputs=tf.Tensor(shape=(1, 5, 3, 4), dtype=float32)",
     "output_type": "error",
     "traceback": [
      "\u001B[0;31m---------------------------------------------------------------------------\u001B[0m",
      "\u001B[0;31mValueError\u001B[0m                                Traceback (most recent call last)",
      "Cell \u001B[0;32mIn[138], line 1\u001B[0m\n\u001B[0;32m----> 1\u001B[0m \u001B[43mmodel\u001B[49m\u001B[38;5;241;43m.\u001B[39;49m\u001B[43mfit\u001B[49m\u001B[43m(\u001B[49m\u001B[43mgenerator\u001B[49m\u001B[43m,\u001B[49m\u001B[43mepochs\u001B[49m\u001B[38;5;241;43m=\u001B[39;49m\u001B[38;5;241;43m50\u001B[39;49m\u001B[43m,\u001B[49m\n\u001B[1;32m      2\u001B[0m \u001B[43m                    \u001B[49m\u001B[43mvalidation_data\u001B[49m\u001B[38;5;241;43m=\u001B[39;49m\u001B[43mvalidation_generator\u001B[49m\u001B[43m,\u001B[49m\n\u001B[1;32m      3\u001B[0m \u001B[43m                    \u001B[49m\u001B[43mcallbacks\u001B[49m\u001B[38;5;241;43m=\u001B[39;49m\u001B[43m[\u001B[49m\u001B[43mearly_stop\u001B[49m\u001B[43m]\u001B[49m\u001B[43m)\u001B[49m\n",
      "File \u001B[0;32m~/.venv/lib/python3.11/site-packages/keras/src/utils/traceback_utils.py:70\u001B[0m, in \u001B[0;36mfilter_traceback.<locals>.error_handler\u001B[0;34m(*args, **kwargs)\u001B[0m\n\u001B[1;32m     67\u001B[0m     filtered_tb \u001B[38;5;241m=\u001B[39m _process_traceback_frames(e\u001B[38;5;241m.\u001B[39m__traceback__)\n\u001B[1;32m     68\u001B[0m     \u001B[38;5;66;03m# To get the full stack trace, call:\u001B[39;00m\n\u001B[1;32m     69\u001B[0m     \u001B[38;5;66;03m# `tf.debugging.disable_traceback_filtering()`\u001B[39;00m\n\u001B[0;32m---> 70\u001B[0m     \u001B[38;5;28;01mraise\u001B[39;00m e\u001B[38;5;241m.\u001B[39mwith_traceback(filtered_tb) \u001B[38;5;28;01mfrom\u001B[39;00m \u001B[38;5;28;01mNone\u001B[39;00m\n\u001B[1;32m     71\u001B[0m \u001B[38;5;28;01mfinally\u001B[39;00m:\n\u001B[1;32m     72\u001B[0m     \u001B[38;5;28;01mdel\u001B[39;00m filtered_tb\n",
      "Cell \u001B[0;32mIn[135], line 30\u001B[0m, in \u001B[0;36mIntentPredictionModel.call\u001B[0;34m(self, inputs)\u001B[0m\n\u001B[1;32m     28\u001B[0m   \u001B[38;5;28mprint\u001B[39m(\u001B[38;5;124mf\u001B[39m\u001B[38;5;124m'\u001B[39m\u001B[38;5;124mFrameResult: \u001B[39m\u001B[38;5;132;01m{\u001B[39;00mframe_result\u001B[38;5;132;01m}\u001B[39;00m\u001B[38;5;124m'\u001B[39m)\n\u001B[1;32m     29\u001B[0m   \u001B[38;5;28mprint\u001B[39m(\u001B[38;5;124mf\u001B[39m\u001B[38;5;124m'\u001B[39m\u001B[38;5;124mVal after: \u001B[39m\u001B[38;5;132;01m{\u001B[39;00mval\u001B[38;5;132;01m}\u001B[39;00m\u001B[38;5;124m'\u001B[39m)\n\u001B[0;32m---> 30\u001B[0m   frame_result \u001B[38;5;241m=\u001B[39m \u001B[43mnp\u001B[49m\u001B[38;5;241;43m.\u001B[39;49m\u001B[43mconcatenate\u001B[49m\u001B[43m(\u001B[49m\u001B[43m[\u001B[49m\u001B[43mframe_result\u001B[49m\u001B[43m,\u001B[49m\u001B[43m \u001B[49m\u001B[43mval\u001B[49m\u001B[43m]\u001B[49m\u001B[43m)\u001B[49m\n\u001B[1;32m     31\u001B[0m \u001B[38;5;28mprint\u001B[39m(\u001B[38;5;124mf\u001B[39m\u001B[38;5;124m'\u001B[39m\u001B[38;5;124mAdd frame result: \u001B[39m\u001B[38;5;132;01m{\u001B[39;00mframe_result\u001B[38;5;132;01m}\u001B[39;00m\u001B[38;5;124m'\u001B[39m)\n\u001B[1;32m     32\u001B[0m result\u001B[38;5;241m.\u001B[39mappend(frame_result)\n",
      "File \u001B[0;32m<__array_function__ internals>:200\u001B[0m, in \u001B[0;36mconcatenate\u001B[0;34m(*args, **kwargs)\u001B[0m\n",
      "\u001B[0;31mValueError\u001B[0m: Exception encountered when calling layer 'intent_prediction_model_25' (type IntentPredictionModel).\n\nall the input arrays must have same number of dimensions, but the array at index 0 has 1 dimension(s) and the array at index 1 has 2 dimension(s)\n\nCall arguments received by layer 'intent_prediction_model_25' (type IntentPredictionModel):\n  • inputs=tf.Tensor(shape=(1, 5, 3, 4), dtype=float32)"
     ]
    }
   ],
   "source": [
    "model.fit(generator,epochs=50,\n",
    "                    validation_data=validation_generator,\n",
    "                    callbacks=[early_stop])"
   ],
   "metadata": {
    "collapsed": false,
    "ExecuteTime": {
     "end_time": "2023-12-19T15:25:04.725156559Z",
     "start_time": "2023-12-19T15:25:04.662352067Z"
    }
   },
   "id": "83538c16a652dff2"
  },
  {
   "cell_type": "code",
   "execution_count": 101,
   "outputs": [
    {
     "ename": "AttributeError",
     "evalue": "'NoneType' object has no attribute 'history'",
     "output_type": "error",
     "traceback": [
      "\u001B[0;31m---------------------------------------------------------------------------\u001B[0m",
      "\u001B[0;31mAttributeError\u001B[0m                            Traceback (most recent call last)",
      "Cell \u001B[0;32mIn[101], line 1\u001B[0m\n\u001B[0;32m----> 1\u001B[0m loss \u001B[38;5;241m=\u001B[39m pd\u001B[38;5;241m.\u001B[39mDataFrame(\u001B[43mmodel\u001B[49m\u001B[38;5;241;43m.\u001B[39;49m\u001B[43mhistory\u001B[49m\u001B[38;5;241;43m.\u001B[39;49m\u001B[43mhistory\u001B[49m)\n\u001B[1;32m      2\u001B[0m loss\u001B[38;5;241m.\u001B[39mplot()\n",
      "\u001B[0;31mAttributeError\u001B[0m: 'NoneType' object has no attribute 'history'"
     ]
    }
   ],
   "source": [
    "loss = pd.DataFrame(model.history.history)\n",
    "loss.plot()"
   ],
   "metadata": {
    "collapsed": false,
    "ExecuteTime": {
     "end_time": "2023-12-19T15:10:03.864290571Z",
     "start_time": "2023-12-19T15:10:03.818707128Z"
    }
   },
   "id": "c77bfad7c65a7364"
  },
  {
   "cell_type": "code",
   "execution_count": null,
   "outputs": [],
   "source": [
    "## Evaluate on Test Data"
   ],
   "metadata": {
    "collapsed": false,
    "ExecuteTime": {
     "start_time": "2023-12-10T20:17:48.190241163Z"
    }
   },
   "id": "a719850fbb1ea4b6"
  },
  {
   "cell_type": "code",
   "execution_count": 167,
   "outputs": [
    {
     "name": "stdout",
     "output_type": "stream",
     "text": [
      "20\n",
      "0\n"
     ]
    }
   ],
   "source": [
    "scaled_train_traces_lengths = list(map(len, scaled_test_traces))\n",
    "# Get the longest trace\n",
    "longest_scaled_train_trace = max(scaled_train_traces_lengths)\n",
    "print(longest_scaled_train_trace)\n",
    "index_longest_scaled_train_trace = scaled_train_traces_lengths.index(max(scaled_train_traces_lengths))\n",
    "print(index_longest_scaled_train_trace)"
   ],
   "metadata": {
    "collapsed": false,
    "ExecuteTime": {
     "end_time": "2023-12-17T18:50:05.531905400Z",
     "start_time": "2023-12-17T18:50:05.426844226Z"
    }
   },
   "id": "37aa4f8bb92ceaf7"
  },
  {
   "cell_type": "code",
   "execution_count": 168,
   "outputs": [],
   "source": [
    "my_prediction_trace = index_longest_scaled_train_trace\n",
    "scaled_train = scaled_test_traces[my_prediction_trace]"
   ],
   "metadata": {
    "collapsed": false,
    "ExecuteTime": {
     "end_time": "2023-12-17T18:50:07.197464510Z",
     "start_time": "2023-12-17T18:50:07.146123393Z"
    }
   },
   "id": "2e5d39e9e24960b9"
  },
  {
   "cell_type": "code",
   "execution_count": 169,
   "outputs": [
    {
     "ename": "ValueError",
     "evalue": "Failed to convert a NumPy array to a Tensor (Unsupported object type numpy.ndarray).",
     "output_type": "error",
     "traceback": [
      "\u001B[0;31m---------------------------------------------------------------------------\u001B[0m",
      "\u001B[0;31mValueError\u001B[0m                                Traceback (most recent call last)",
      "Cell \u001B[0;32mIn[169], line 4\u001B[0m\n\u001B[1;32m      1\u001B[0m test_predictions \u001B[38;5;241m=\u001B[39m []\n\u001B[1;32m      3\u001B[0m first_eval_batch \u001B[38;5;241m=\u001B[39m scaled_train[\u001B[38;5;241m-\u001B[39mlength:]\n\u001B[0;32m----> 4\u001B[0m current_batch \u001B[38;5;241m=\u001B[39m \u001B[43mtf\u001B[49m\u001B[38;5;241;43m.\u001B[39;49m\u001B[43mreshape\u001B[49m\u001B[43m(\u001B[49m\u001B[43mfirst_eval_batch\u001B[49m\u001B[43m,\u001B[49m\u001B[43m \u001B[49m\u001B[43m(\u001B[49m\u001B[38;5;241;43m1\u001B[39;49m\u001B[43m,\u001B[49m\u001B[43m \u001B[49m\u001B[43mlength\u001B[49m\u001B[43m,\u001B[49m\u001B[43m \u001B[49m\u001B[43mn_features\u001B[49m\u001B[43m)\u001B[49m\u001B[43m,\u001B[49m\u001B[43m \u001B[49m\u001B[43mname\u001B[49m\u001B[38;5;241;43m=\u001B[39;49m\u001B[38;5;28;43;01mNone\u001B[39;49;00m\u001B[43m)\u001B[49m\n\u001B[1;32m      6\u001B[0m \u001B[38;5;28;01mfor\u001B[39;00m i \u001B[38;5;129;01min\u001B[39;00m \u001B[38;5;28mrange\u001B[39m(\u001B[38;5;28mlen\u001B[39m(test)):\n\u001B[1;32m      7\u001B[0m \n\u001B[1;32m      8\u001B[0m   \u001B[38;5;66;03m# get prediction 1 time stamp ahead ([0] is for grabbing just the number instead of [array])\u001B[39;00m\n\u001B[1;32m      9\u001B[0m   current_pred \u001B[38;5;241m=\u001B[39m model\u001B[38;5;241m.\u001B[39mpredict(current_batch)[\u001B[38;5;241m0\u001B[39m]\n",
      "File \u001B[0;32m~/.venv/lib/python3.11/site-packages/tensorflow/python/ops/weak_tensor_ops.py:88\u001B[0m, in \u001B[0;36mweak_tensor_unary_op_wrapper.<locals>.wrapper\u001B[0;34m(*args, **kwargs)\u001B[0m\n\u001B[1;32m     86\u001B[0m \u001B[38;5;28;01mdef\u001B[39;00m \u001B[38;5;21mwrapper\u001B[39m(\u001B[38;5;241m*\u001B[39margs, \u001B[38;5;241m*\u001B[39m\u001B[38;5;241m*\u001B[39mkwargs):\n\u001B[1;32m     87\u001B[0m   \u001B[38;5;28;01mif\u001B[39;00m \u001B[38;5;129;01mnot\u001B[39;00m ops\u001B[38;5;241m.\u001B[39mis_auto_dtype_conversion_enabled():\n\u001B[0;32m---> 88\u001B[0m     \u001B[38;5;28;01mreturn\u001B[39;00m \u001B[43mop\u001B[49m\u001B[43m(\u001B[49m\u001B[38;5;241;43m*\u001B[39;49m\u001B[43margs\u001B[49m\u001B[43m,\u001B[49m\u001B[43m \u001B[49m\u001B[38;5;241;43m*\u001B[39;49m\u001B[38;5;241;43m*\u001B[39;49m\u001B[43mkwargs\u001B[49m\u001B[43m)\u001B[49m\n\u001B[1;32m     89\u001B[0m   bound_arguments \u001B[38;5;241m=\u001B[39m signature\u001B[38;5;241m.\u001B[39mbind(\u001B[38;5;241m*\u001B[39margs, \u001B[38;5;241m*\u001B[39m\u001B[38;5;241m*\u001B[39mkwargs)\n\u001B[1;32m     90\u001B[0m   bound_arguments\u001B[38;5;241m.\u001B[39mapply_defaults()\n",
      "File \u001B[0;32m~/.venv/lib/python3.11/site-packages/tensorflow/python/util/traceback_utils.py:153\u001B[0m, in \u001B[0;36mfilter_traceback.<locals>.error_handler\u001B[0;34m(*args, **kwargs)\u001B[0m\n\u001B[1;32m    151\u001B[0m \u001B[38;5;28;01mexcept\u001B[39;00m \u001B[38;5;167;01mException\u001B[39;00m \u001B[38;5;28;01mas\u001B[39;00m e:\n\u001B[1;32m    152\u001B[0m   filtered_tb \u001B[38;5;241m=\u001B[39m _process_traceback_frames(e\u001B[38;5;241m.\u001B[39m__traceback__)\n\u001B[0;32m--> 153\u001B[0m   \u001B[38;5;28;01mraise\u001B[39;00m e\u001B[38;5;241m.\u001B[39mwith_traceback(filtered_tb) \u001B[38;5;28;01mfrom\u001B[39;00m \u001B[38;5;28;01mNone\u001B[39;00m\n\u001B[1;32m    154\u001B[0m \u001B[38;5;28;01mfinally\u001B[39;00m:\n\u001B[1;32m    155\u001B[0m   \u001B[38;5;28;01mdel\u001B[39;00m filtered_tb\n",
      "File \u001B[0;32m~/.venv/lib/python3.11/site-packages/tensorflow/python/framework/constant_op.py:103\u001B[0m, in \u001B[0;36mconvert_to_eager_tensor\u001B[0;34m(value, ctx, dtype)\u001B[0m\n\u001B[1;32m    101\u001B[0m     dtype \u001B[38;5;241m=\u001B[39m dtypes\u001B[38;5;241m.\u001B[39mas_dtype(dtype)\u001B[38;5;241m.\u001B[39mas_datatype_enum\n\u001B[1;32m    102\u001B[0m ctx\u001B[38;5;241m.\u001B[39mensure_initialized()\n\u001B[0;32m--> 103\u001B[0m \u001B[38;5;28;01mreturn\u001B[39;00m \u001B[43mops\u001B[49m\u001B[38;5;241;43m.\u001B[39;49m\u001B[43mEagerTensor\u001B[49m\u001B[43m(\u001B[49m\u001B[43mvalue\u001B[49m\u001B[43m,\u001B[49m\u001B[43m \u001B[49m\u001B[43mctx\u001B[49m\u001B[38;5;241;43m.\u001B[39;49m\u001B[43mdevice_name\u001B[49m\u001B[43m,\u001B[49m\u001B[43m \u001B[49m\u001B[43mdtype\u001B[49m\u001B[43m)\u001B[49m\n",
      "\u001B[0;31mValueError\u001B[0m: Failed to convert a NumPy array to a Tensor (Unsupported object type numpy.ndarray)."
     ]
    }
   ],
   "source": [
    "test_predictions = []\n",
    "\n",
    "first_eval_batch = scaled_train[-length:]\n",
    "current_batch = tf.reshape(first_eval_batch, (1, length, n_features), name=None)\n",
    "\n",
    "for i in range(len(test)):\n",
    "\n",
    "  # get prediction 1 time stamp ahead ([0] is for grabbing just the number instead of [array])\n",
    "  current_pred = model.predict(current_batch)[0]\n",
    "\n",
    "  # store prediction\n",
    "  test_predictions.append(current_pred)\n",
    "\n",
    "  # update batch to now include prediction and drop first value\n",
    "  current_batch = np.append(current_batch[:,1:,:],[[current_pred]],axis=1)"
   ],
   "metadata": {
    "collapsed": false,
    "ExecuteTime": {
     "end_time": "2023-12-17T18:50:07.696881340Z",
     "start_time": "2023-12-17T18:50:07.646098701Z"
    }
   },
   "id": "9b1ca8a355e04809"
  },
  {
   "cell_type": "code",
   "execution_count": null,
   "outputs": [],
   "source": [
    "true_predictions = scaler_invert(test_predictions)\n",
    "test[['PredictionsX', 'PredictionsY']] = true_predictions"
   ],
   "metadata": {
    "collapsed": false,
    "ExecuteTime": {
     "start_time": "2023-12-10T20:17:48.190462320Z"
    }
   },
   "id": "aa1ec2a553956e07"
  },
  {
   "cell_type": "code",
   "execution_count": 61,
   "outputs": [
    {
     "data": {
      "text/plain": "             x         y  PredictionsX  PredictionsY\n859   0.076720  0.077922      0.430469      0.318399\n870   0.207552  0.255411      0.402668      0.326663\n892   0.086340  0.079004      0.388115      0.330901\n921   0.296056  0.320346      0.376984      0.343233\n961   0.061328  0.076840      0.374387      0.367625\n972   0.228716  0.411255      0.404930      0.393860\n999   0.105580  0.074675      0.408515      0.400848\n1015  0.244108  0.470779      0.411002      0.405288\n1055  0.215248  0.533550      0.412937      0.408607\n1092  0.474988  0.338745      0.414144      0.410848\n1399  0.209476  0.844156      0.415555      0.412522\n1414  0.036316  0.076840      0.416238      0.413411\n1420  0.399952  0.691558      0.416709      0.413998\n1453  0.247956  0.206710      0.417031      0.414390",
      "text/html": "<div>\n<style scoped>\n    .dataframe tbody tr th:only-of-type {\n        vertical-align: middle;\n    }\n\n    .dataframe tbody tr th {\n        vertical-align: top;\n    }\n\n    .dataframe thead th {\n        text-align: right;\n    }\n</style>\n<table border=\"1\" class=\"dataframe\">\n  <thead>\n    <tr style=\"text-align: right;\">\n      <th></th>\n      <th>x</th>\n      <th>y</th>\n      <th>PredictionsX</th>\n      <th>PredictionsY</th>\n    </tr>\n  </thead>\n  <tbody>\n    <tr>\n      <th>859</th>\n      <td>0.076720</td>\n      <td>0.077922</td>\n      <td>0.430469</td>\n      <td>0.318399</td>\n    </tr>\n    <tr>\n      <th>870</th>\n      <td>0.207552</td>\n      <td>0.255411</td>\n      <td>0.402668</td>\n      <td>0.326663</td>\n    </tr>\n    <tr>\n      <th>892</th>\n      <td>0.086340</td>\n      <td>0.079004</td>\n      <td>0.388115</td>\n      <td>0.330901</td>\n    </tr>\n    <tr>\n      <th>921</th>\n      <td>0.296056</td>\n      <td>0.320346</td>\n      <td>0.376984</td>\n      <td>0.343233</td>\n    </tr>\n    <tr>\n      <th>961</th>\n      <td>0.061328</td>\n      <td>0.076840</td>\n      <td>0.374387</td>\n      <td>0.367625</td>\n    </tr>\n    <tr>\n      <th>972</th>\n      <td>0.228716</td>\n      <td>0.411255</td>\n      <td>0.404930</td>\n      <td>0.393860</td>\n    </tr>\n    <tr>\n      <th>999</th>\n      <td>0.105580</td>\n      <td>0.074675</td>\n      <td>0.408515</td>\n      <td>0.400848</td>\n    </tr>\n    <tr>\n      <th>1015</th>\n      <td>0.244108</td>\n      <td>0.470779</td>\n      <td>0.411002</td>\n      <td>0.405288</td>\n    </tr>\n    <tr>\n      <th>1055</th>\n      <td>0.215248</td>\n      <td>0.533550</td>\n      <td>0.412937</td>\n      <td>0.408607</td>\n    </tr>\n    <tr>\n      <th>1092</th>\n      <td>0.474988</td>\n      <td>0.338745</td>\n      <td>0.414144</td>\n      <td>0.410848</td>\n    </tr>\n    <tr>\n      <th>1399</th>\n      <td>0.209476</td>\n      <td>0.844156</td>\n      <td>0.415555</td>\n      <td>0.412522</td>\n    </tr>\n    <tr>\n      <th>1414</th>\n      <td>0.036316</td>\n      <td>0.076840</td>\n      <td>0.416238</td>\n      <td>0.413411</td>\n    </tr>\n    <tr>\n      <th>1420</th>\n      <td>0.399952</td>\n      <td>0.691558</td>\n      <td>0.416709</td>\n      <td>0.413998</td>\n    </tr>\n    <tr>\n      <th>1453</th>\n      <td>0.247956</td>\n      <td>0.206710</td>\n      <td>0.417031</td>\n      <td>0.414390</td>\n    </tr>\n  </tbody>\n</table>\n</div>"
     },
     "execution_count": 61,
     "metadata": {},
     "output_type": "execute_result"
    }
   ],
   "source": [
    "test"
   ],
   "metadata": {
    "collapsed": false,
    "ExecuteTime": {
     "end_time": "2023-12-08T10:36:10.664485263Z",
     "start_time": "2023-12-08T10:36:10.650481804Z"
    }
   },
   "id": "210af86b477f7629"
  },
  {
   "cell_type": "code",
   "execution_count": 62,
   "outputs": [
    {
     "data": {
      "text/plain": "<AxesSubplot: >"
     },
     "execution_count": 62,
     "metadata": {},
     "output_type": "execute_result"
    },
    {
     "data": {
      "text/plain": "<Figure size 640x480 with 1 Axes>",
      "image/png": "[encoded data removed]"
     },
     "metadata": {},
     "output_type": "display_data"
    }
   ],
   "source": [
    "test.plot(color = ['#00FF00', '#FF0000', '#00FF88', '#FF0088'])"
   ],
   "metadata": {
    "collapsed": false,
    "ExecuteTime": {
     "end_time": "2023-12-08T10:36:11.927865674Z",
     "start_time": "2023-12-08T10:36:11.742766933Z"
    }
   },
   "id": "be71c392c2c63323"
  },
  {
   "cell_type": "code",
   "execution_count": 63,
   "outputs": [
    {
     "name": "stdout",
     "output_type": "stream",
     "text": [
      "0.23421116461721828\n",
      "0.23345033378661953\n"
     ]
    }
   ],
   "source": [
    "from sklearn.metrics import mean_squared_error\n",
    "print(np.sqrt(mean_squared_error(test['x'],test['PredictionsX'])))\n",
    "print(np.sqrt(mean_squared_error(test['y'],test['PredictionsY'])))"
   ],
   "metadata": {
    "collapsed": false,
    "ExecuteTime": {
     "end_time": "2023-12-08T10:36:13.318491873Z",
     "start_time": "2023-12-08T10:36:13.309807200Z"
    }
   },
   "id": "d9c81d675a439b2b"
  },
  {
   "cell_type": "code",
   "execution_count": null,
   "outputs": [],
   "source": [],
   "metadata": {
    "collapsed": false
   },
   "id": "171736bad9e0c6e1"
  }
 ],
 "metadata": {
  "kernelspec": {
   "display_name": "Python 3",
   "language": "python",
   "name": "python3"
  },
  "language_info": {
   "codemirror_mode": {
    "name": "ipython",
    "version": 2
   },
   "file_extension": ".py",
   "mimetype": "text/x-python",
   "name": "python",
   "nbconvert_exporter": "python",
   "pygments_lexer": "ipython2",
   "version": "2.7.6"
  }
 },
 "nbformat": 4,
 "nbformat_minor": 5
}
