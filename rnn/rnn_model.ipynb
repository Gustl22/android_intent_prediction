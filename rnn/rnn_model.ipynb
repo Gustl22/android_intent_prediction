{
 "cells": [
  {
   "cell_type": "code",
   "execution_count": 1,
   "outputs": [
    {
     "name": "stderr",
     "output_type": "stream",
     "text": [
      "2023-12-27 01:46:03.157518: E external/local_xla/xla/stream_executor/cuda/cuda_dnn.cc:9261] Unable to register cuDNN factory: Attempting to register factory for plugin cuDNN when one has already been registered\n",
      "2023-12-27 01:46:03.157549: E external/local_xla/xla/stream_executor/cuda/cuda_fft.cc:607] Unable to register cuFFT factory: Attempting to register factory for plugin cuFFT when one has already been registered\n",
      "2023-12-27 01:46:03.159017: E external/local_xla/xla/stream_executor/cuda/cuda_blas.cc:1515] Unable to register cuBLAS factory: Attempting to register factory for plugin cuBLAS when one has already been registered\n",
      "2023-12-27 01:46:03.166283: I tensorflow/core/platform/cpu_feature_guard.cc:182] This TensorFlow binary is optimized to use available CPU instructions in performance-critical operations.\n",
      "To enable the following instructions: AVX2 FMA, in other operations, rebuild TensorFlow with the appropriate compiler flags.\n",
      "2023-12-27 01:46:05.592980: W tensorflow/compiler/tf2tensorrt/utils/py_utils.cc:38] TF-TRT Warning: Could not find TensorRT\n"
     ]
    }
   ],
   "source": [
    "import glob\n",
    "#from pathlib import Path\n",
    "import json\n",
    "import preprocessing as pp\n",
    "import tensorflow as tf\n",
    "import pandas as pd\n",
    "import numpy as np\n",
    "import keras\n",
    "import matplotlib.pyplot as plt"
   ],
   "metadata": {
    "collapsed": false,
    "ExecuteTime": {
     "end_time": "2023-12-27T00:46:08.991952392Z",
     "start_time": "2023-12-27T00:46:02.694318012Z"
    }
   },
   "id": "daa48e61d9b31fa3"
  },
  {
   "cell_type": "code",
   "execution_count": 2,
   "outputs": [],
   "source": [
    "length = 5\n",
    "n_features=3\n",
    "max_embed_length=500\n",
    "out_embed_dim=4 # This may can be increased, default for screen2words: 2\n",
    "label_length=1\n",
    "training_frames = length + label_length\n",
    "batch_size = 32"
   ],
   "metadata": {
    "collapsed": false,
    "ExecuteTime": {
     "end_time": "2023-12-27T00:46:09.048535229Z",
     "start_time": "2023-12-27T00:46:08.993725299Z"
    }
   },
   "id": "55d7839ec1e2833a"
  },
  {
   "cell_type": "code",
   "execution_count": 3,
   "outputs": [],
   "source": [
    "keys_to_dtype = {\n",
    "  #'developer_token_id': tf.int64,\n",
    "  #'resource_token_id': tf.int64,\n",
    "  #'screen_caption_token_ids': tf.int64,\n",
    "  #'appdesc_token_id': tf.int64,\n",
    "  'clickable_seq': tf.int64,\n",
    "  'type_id_seq': tf.int64,\n",
    "  'cord_x_seq': tf.float32,\n",
    "  'cord_y_seq': tf.float32,\n",
    "  'visibility_to_user_seq': tf.int64,\n",
    "  'visibility_seq': tf.int64,\n",
    "  #'attended_objects': tf.int64,\n",
    "  #'label_flag': tf.int64,  # 0: padding 1: node\n",
    "  # 'obj_img_mat': tf.int64,\n",
    "  'obj_dom_pos': tf.int64,\n",
    "  #'attention_boxes': tf.float32,\n",
    "  #'gold_caption': tf.string,\n",
    "}"
   ],
   "metadata": {
    "collapsed": false,
    "ExecuteTime": {
     "end_time": "2023-12-27T00:46:09.051209199Z",
     "start_time": "2023-12-27T00:46:09.003930812Z"
    }
   },
   "id": "d8cde309fcb4de9b"
  },
  {
   "cell_type": "code",
   "execution_count": 4,
   "outputs": [],
   "source": [
    "def get_features_from_gestures(gesture_path):\n",
    "  with tf.io.gfile.GFile(gesture_path) as f:\n",
    "    gesture_json = json.load(f)\n",
    "  trace_path = gesture_path.replace('gestures.json', '')\n",
    "  # Throw away all gestures except the first\n",
    "  gesture_items = list(gesture_json.items())\n",
    "  # Remove empty gestures\n",
    "  gesture_items = [gesture for gesture in gesture_items if gesture[1]]\n",
    "  # TODO: Add column: isSwipe, if gesture has more than one entry\n",
    "  if gesture_items and gesture_items[0]:\n",
    "    gesture_dict = {gesture[0]:gesture[1][0] for gesture in gesture_items}\n",
    "  else:\n",
    "    gesture_dict = {}\n",
    "\n",
    "  first_gesture_item = list(gesture_dict.items())\n",
    "  if (not gesture_dict) or (not first_gesture_item[0]) or (not first_gesture_item[0][1]):\n",
    "    # Return empty dataframe, if no data is available\n",
    "    return pd.DataFrame(columns=['x', 'y']), trace_path\n",
    "  \n",
    "  gesture_df = pd.DataFrame(gesture_dict).transpose()\n",
    "  gesture_df.columns = ['x', 'y']\n",
    "  return gesture_df, trace_path"
   ],
   "metadata": {
    "collapsed": false,
    "ExecuteTime": {
     "end_time": "2023-12-27T00:46:09.083801341Z",
     "start_time": "2023-12-27T00:46:09.010678792Z"
    }
   },
   "id": "370e5596e68c7cc9"
  },
  {
   "cell_type": "code",
   "execution_count": 5,
   "outputs": [],
   "source": [
    "# def to_var_len_feature_dict(entries):\n",
    "#   dict = {}\n",
    "#   for feature_item in entries:\n",
    "#     dict[feature_item[0]] = tf.convert_to_tensor(feature_item[1], dtype=keys_to_dtype[feature_item[0]])\n",
    "#   return dict\n"
   ],
   "metadata": {
    "collapsed": false,
    "ExecuteTime": {
     "end_time": "2023-12-27T00:46:09.086138801Z",
     "start_time": "2023-12-27T00:46:09.022162874Z"
    }
   },
   "id": "89639235a8f4fd38"
  },
  {
   "cell_type": "code",
   "execution_count": 6,
   "outputs": [
    {
     "data": {
      "text/plain": "'../sources/datasets/RICO/traces/filtered_traces/*/trace_*/gestures.json'"
     },
     "execution_count": 6,
     "metadata": {},
     "output_type": "execute_result"
    }
   ],
   "source": [
    "#pathToCombined = \"D:/Tmp/Coding/datasets/RICO/unique_uis/test_dataset\"\n",
    "#pathToFilteredTraces = D:\\Tmp\\Coding\\datasets\\RICO\\traces\\filtered_traces\n",
    "traces_prefix = \"../sources/datasets/RICO/traces/filtered_traces\"\n",
    "path_to_gesture_json = f\"{traces_prefix}/*/trace_*/gestures.json\"\n",
    "path_to_gesture_json"
   ],
   "metadata": {
    "collapsed": false,
    "ExecuteTime": {
     "end_time": "2023-12-27T00:46:09.088693901Z",
     "start_time": "2023-12-27T00:46:09.034275922Z"
    }
   },
   "id": "1010903aaff8e289"
  },
  {
   "cell_type": "code",
   "execution_count": 7,
   "outputs": [
    {
     "data": {
      "text/plain": "10292"
     },
     "execution_count": 7,
     "metadata": {},
     "output_type": "execute_result"
    }
   ],
   "source": [
    "gesture_json_paths = glob.glob(path_to_gesture_json)\n",
    "len(gesture_json_paths)"
   ],
   "metadata": {
    "collapsed": false,
    "ExecuteTime": {
     "end_time": "2023-12-27T00:46:13.141124755Z",
     "start_time": "2023-12-27T00:46:09.042288473Z"
    }
   },
   "id": "3d96e858f6638676"
  },
  {
   "cell_type": "code",
   "execution_count": 8,
   "outputs": [],
   "source": [
    "def get_features_from_tree(frame_index, trace_path):\n",
    "  file_prefix = f\"{trace_path}view_hierarchies/{frame_index}\"\n",
    "  features_dict = pp.create_simple_features(file_prefix)\n",
    "  if features_dict is None:\n",
    "    return None\n",
    "  del features_dict['node_id']\n",
    "  feature_items = list(features_dict.items())\n",
    "  #feature_items = to_var_len_feature_dict(feature_items).items()\n",
    "  tree_feature_df = pd.DataFrame(feature_items, columns=['feat', frame_index])\n",
    "  tree_feature_df = tree_feature_df.set_index('feat')\n",
    "  tree_feature_df = tree_feature_df.transpose()\n",
    "  return tree_feature_df\n",
    "  #return pd.DataFrame(features_adapt, index=[frame_index])"
   ],
   "metadata": {
    "collapsed": false,
    "ExecuteTime": {
     "end_time": "2023-12-27T00:46:13.143892808Z",
     "start_time": "2023-12-27T00:46:13.134189679Z"
    }
   },
   "id": "897083222d435531"
  },
  {
   "cell_type": "code",
   "execution_count": 9,
   "outputs": [
    {
     "data": {
      "text/plain": "feat                                        obj_dom_pos  \\\n391   [1, 1, 7, 2, 2, 6, 2, 6, 2, 2, 7, 1, 3, 3, 5, ...   \n\nfeat            type_id_seq         visibility_seq visibility_to_user_seq  \\\n391   [4, 4, 4, 4, 4, 4, 4]  [1, 1, 1, 1, 0, 1, 1]  [1, 1, 1, 1, 0, 1, 1]   \n\nfeat          clickable_seq                     cord_x_seq_start  \\\n391   [0, 0, 0, 0, 0, 0, 1]  [0.0, 0.0, 0.0, 0.0, 0.0, 0.0, 0.0]   \n\nfeat                                     cord_x_seq_end  \\\n391   [(1.0,), (1.0,), (1.0,), (1.0,), (0.0,), (1.0,...   \n\nfeat                                   cord_y_seq_start  \\\n391   [0.0, 0.0, 0.934375, 0.0, 0.0, 0.0328125, 0.03...   \n\nfeat                                     cord_y_seq_end  \n391   [1.0, 0.934375, 1.0, 0.0328125, 0.0, 0.934375,...  ",
      "text/html": "<div>\n<style scoped>\n    .dataframe tbody tr th:only-of-type {\n        vertical-align: middle;\n    }\n\n    .dataframe tbody tr th {\n        vertical-align: top;\n    }\n\n    .dataframe thead th {\n        text-align: right;\n    }\n</style>\n<table border=\"1\" class=\"dataframe\">\n  <thead>\n    <tr style=\"text-align: right;\">\n      <th>feat</th>\n      <th>obj_dom_pos</th>\n      <th>type_id_seq</th>\n      <th>visibility_seq</th>\n      <th>visibility_to_user_seq</th>\n      <th>clickable_seq</th>\n      <th>cord_x_seq_start</th>\n      <th>cord_x_seq_end</th>\n      <th>cord_y_seq_start</th>\n      <th>cord_y_seq_end</th>\n    </tr>\n  </thead>\n  <tbody>\n    <tr>\n      <th>391</th>\n      <td>[1, 1, 7, 2, 2, 6, 2, 6, 2, 2, 7, 1, 3, 3, 5, ...</td>\n      <td>[4, 4, 4, 4, 4, 4, 4]</td>\n      <td>[1, 1, 1, 1, 0, 1, 1]</td>\n      <td>[1, 1, 1, 1, 0, 1, 1]</td>\n      <td>[0, 0, 0, 0, 0, 0, 1]</td>\n      <td>[0.0, 0.0, 0.0, 0.0, 0.0, 0.0, 0.0]</td>\n      <td>[(1.0,), (1.0,), (1.0,), (1.0,), (0.0,), (1.0,...</td>\n      <td>[0.0, 0.0, 0.934375, 0.0, 0.0, 0.0328125, 0.03...</td>\n      <td>[1.0, 0.934375, 1.0, 0.0328125, 0.0, 0.934375,...</td>\n    </tr>\n  </tbody>\n</table>\n</div>"
     },
     "execution_count": 9,
     "metadata": {},
     "output_type": "execute_result"
    }
   ],
   "source": [
    "gesture_path = gesture_json_paths[43]\n",
    "gesture_df, trace_path = get_features_from_gestures(gesture_path)\n",
    "frameIndex = gesture_df.index.values[0]\n",
    "feature_df = get_features_from_tree(frameIndex, trace_path)\n",
    "feature_df\n",
    "#feature_item = features[0]\n",
    "#feature_item\n",
    "#tf.convert_to_tensor(feature_item[1], dtype=keys_to_dtype[feature_item[0]])"
   ],
   "metadata": {
    "collapsed": false,
    "ExecuteTime": {
     "end_time": "2023-12-27T00:46:13.195667978Z",
     "start_time": "2023-12-27T00:46:13.136070090Z"
    }
   },
   "id": "3fe910aceba99bcd"
  },
  {
   "cell_type": "code",
   "execution_count": 10,
   "outputs": [],
   "source": [
    "# for t,v in keys_to_dtype.items():\n",
    "#     print(feature_df[t]['4758'][0].dtype)"
   ],
   "metadata": {
    "collapsed": false,
    "ExecuteTime": {
     "end_time": "2023-12-27T00:46:13.198002746Z",
     "start_time": "2023-12-27T00:46:13.158728594Z"
    }
   },
   "id": "ab1b2610bf47faf"
  },
  {
   "cell_type": "code",
   "execution_count": 11,
   "outputs": [
    {
     "data": {
      "text/plain": "            x         y                                        obj_dom_pos  \\\n391  0.515094  0.732075  [1, 1, 7, 2, 2, 6, 2, 6, 2, 2, 7, 1, 3, 3, 5, ...   \n\n               type_id_seq         visibility_seq visibility_to_user_seq  \\\n391  [4, 4, 4, 4, 4, 4, 4]  [1, 1, 1, 1, 0, 1, 1]  [1, 1, 1, 1, 0, 1, 1]   \n\n             clickable_seq                     cord_x_seq_start  \\\n391  [0, 0, 0, 0, 0, 0, 1]  [0.0, 0.0, 0.0, 0.0, 0.0, 0.0, 0.0]   \n\n                                        cord_x_seq_end  \\\n391  [(1.0,), (1.0,), (1.0,), (1.0,), (0.0,), (1.0,...   \n\n                                      cord_y_seq_start  \\\n391  [0.0, 0.0, 0.934375, 0.0, 0.0, 0.0328125, 0.03...   \n\n                                        cord_y_seq_end  \n391  [1.0, 0.934375, 1.0, 0.0328125, 0.0, 0.934375,...  ",
      "text/html": "<div>\n<style scoped>\n    .dataframe tbody tr th:only-of-type {\n        vertical-align: middle;\n    }\n\n    .dataframe tbody tr th {\n        vertical-align: top;\n    }\n\n    .dataframe thead th {\n        text-align: right;\n    }\n</style>\n<table border=\"1\" class=\"dataframe\">\n  <thead>\n    <tr style=\"text-align: right;\">\n      <th></th>\n      <th>x</th>\n      <th>y</th>\n      <th>obj_dom_pos</th>\n      <th>type_id_seq</th>\n      <th>visibility_seq</th>\n      <th>visibility_to_user_seq</th>\n      <th>clickable_seq</th>\n      <th>cord_x_seq_start</th>\n      <th>cord_x_seq_end</th>\n      <th>cord_y_seq_start</th>\n      <th>cord_y_seq_end</th>\n    </tr>\n  </thead>\n  <tbody>\n    <tr>\n      <th>391</th>\n      <td>0.515094</td>\n      <td>0.732075</td>\n      <td>[1, 1, 7, 2, 2, 6, 2, 6, 2, 2, 7, 1, 3, 3, 5, ...</td>\n      <td>[4, 4, 4, 4, 4, 4, 4]</td>\n      <td>[1, 1, 1, 1, 0, 1, 1]</td>\n      <td>[1, 1, 1, 1, 0, 1, 1]</td>\n      <td>[0, 0, 0, 0, 0, 0, 1]</td>\n      <td>[0.0, 0.0, 0.0, 0.0, 0.0, 0.0, 0.0]</td>\n      <td>[(1.0,), (1.0,), (1.0,), (1.0,), (0.0,), (1.0,...</td>\n      <td>[0.0, 0.0, 0.934375, 0.0, 0.0, 0.0328125, 0.03...</td>\n      <td>[1.0, 0.934375, 1.0, 0.0328125, 0.0, 0.934375,...</td>\n    </tr>\n  </tbody>\n</table>\n</div>"
     },
     "execution_count": 11,
     "metadata": {},
     "output_type": "execute_result"
    }
   ],
   "source": [
    "# Try without features for now, only gestures\n",
    "all_feat_df = pd.concat([gesture_df, feature_df], axis=1)\n",
    "#all_feat_df = gesture_df\n",
    "all_feat_df"
   ],
   "metadata": {
    "collapsed": false,
    "ExecuteTime": {
     "end_time": "2023-12-27T00:46:13.285790305Z",
     "start_time": "2023-12-27T00:46:13.162175316Z"
    }
   },
   "id": "a60861c0e824008e"
  },
  {
   "cell_type": "code",
   "execution_count": 12,
   "outputs": [],
   "source": [
    "#feature_df['type_id_seq'].iloc[0][0].dtype"
   ],
   "metadata": {
    "collapsed": false,
    "ExecuteTime": {
     "end_time": "2023-12-27T00:22:53.826054775Z",
     "start_time": "2023-12-27T00:22:53.793185271Z"
    }
   },
   "id": "924f3487fba88fba"
  },
  {
   "cell_type": "code",
   "execution_count": 13,
   "outputs": [
    {
     "name": "stdout",
     "output_type": "stream",
     "text": [
      "Frame 7384 has no feature datatraces.\n",
      "Frame 341 has no feature data traces.\n",
      "Frame 521 has no feature data traces.\n",
      "Processed 10200 of 10292 (99%) traces.\r"
     ]
    },
    {
     "data": {
      "text/plain": "50304"
     },
     "execution_count": 13,
     "metadata": {},
     "output_type": "execute_result"
    }
   ],
   "source": [
    " # Get set of frames for each screen, but don't mix them during training LSTM\n",
    "feature_traces = pd.DataFrame()\n",
    "use_embeddings = True\n",
    "\n",
    "trace_progress = 0\n",
    "for trace_id, gesture_path in enumerate(gesture_json_paths):\n",
    "    trace_progress = trace_progress + 1\n",
    "    if trace_progress % 100 == 0:\n",
    "      print(f'Processed {trace_progress} of {len(gesture_json_paths)} ({trace_progress/len(gesture_json_paths):.0%}) traces.\\r', end=\"\")\n",
    "    gesture_df, trace_path = get_features_from_gestures(gesture_path)\n",
    "    # Traces with too few frames will be dropped\n",
    "    if len(gesture_df) < training_frames:\n",
    "        #print(f'Gesture (traceID: {trace_id}) has only {len(gesture_df)} of {training_frames} required frames: {gesture_path}')\n",
    "        continue\n",
    "    if use_embeddings: # Try without features for now, only gestures\n",
    "        tree_features_df = pd.DataFrame()\n",
    "        for frame_id in gesture_df.index.values:\n",
    "            tree_feature_df = get_features_from_tree(frame_id, trace_path)\n",
    "            if tree_feature_df is None:\n",
    "              print(f'Frame {frame_id} has no feature data')\n",
    "              continue\n",
    "            tree_features_df = pd.concat([tree_features_df, tree_feature_df], axis=0)\n",
    "        trace_features_df = pd.concat([gesture_df, tree_features_df], axis=1)\n",
    "    else:\n",
    "        trace_features_df = gesture_df\n",
    "    trace_features_df['trace_id'] = trace_id\n",
    "    feature_traces = pd.concat([feature_traces, trace_features_df], axis=0)\n",
    "\n",
    "len(feature_traces)\n",
    "        "
   ],
   "metadata": {
    "collapsed": false,
    "ExecuteTime": {
     "end_time": "2023-12-27T00:27:30.036498063Z",
     "start_time": "2023-12-27T00:22:54.358928662Z"
    }
   },
   "id": "288b287670f0c8ba"
  },
  {
   "cell_type": "code",
   "execution_count": 14,
   "outputs": [
    {
     "data": {
      "text/plain": "            x         y                                        obj_dom_pos  \\\n370  0.825156  0.351732  [1, 1, 251, 2, 2, 250, 2, 250, 2, 2, 251, 1, 3...   \n488  0.373016  0.224026  [1, 1, 251, 2, 2, 250, 2, 250, 2, 2, 251, 1, 3...   \n526  0.563492  0.898268  [1, 1, 251, 2, 2, 250, 2, 250, 2, 2, 251, 1, 3...   \n614  0.169072  0.336580  [1, 1, 251, 2, 2, 250, 2, 250, 2, 2, 251, 1, 3...   \n642  0.346080  0.136364  [1, 1, 143, 2, 2, 142, 2, 142, 2, 2, 143, 1, 3...   \n\n                                           type_id_seq  \\\n370  [4, 4, 4, 4, 4, 4, 4, 4, 4, 4, 4, 4, 4, 4, 4, ...   \n488  [4, 4, 4, 4, 4, 4, 4, 4, 4, 4, 4, 4, 4, 4, 4, ...   \n526  [4, 4, 4, 4, 4, 4, 4, 4, 4, 4, 4, 4, 4, 4, 4, ...   \n614  [4, 4, 4, 4, 4, 4, 4, 4, 4, 4, 4, 4, 4, 4, 4, ...   \n642  [4, 4, 4, 4, 4, 4, 4, 4, 4, 4, 4, 4, 4, 4, 4, ...   \n\n                                        visibility_seq  \\\n370  [1, 1, 1, 1, 0, 1, 1, 0, 1, 1, 1, 0, 1, 1, 1, ...   \n488  [1, 1, 1, 1, 0, 1, 1, 0, 1, 1, 1, 0, 1, 1, 1, ...   \n526  [1, 1, 1, 1, 0, 1, 1, 0, 1, 1, 1, 0, 1, 1, 1, ...   \n614  [1, 1, 1, 1, 0, 1, 1, 0, 1, 1, 1, 1, 1, 1, 1, ...   \n642  [1, 1, 1, 1, 0, 1, 1, 0, 1, 1, 1, 0, 1, 1, 1, ...   \n\n                                visibility_to_user_seq  \\\n370  [1, 1, 1, 1, 0, 1, 1, 0, 1, 1, 1, 0, 1, 1, 0, ...   \n488  [1, 1, 1, 1, 0, 1, 1, 0, 1, 1, 1, 0, 1, 1, 0, ...   \n526  [1, 1, 1, 1, 0, 1, 1, 0, 1, 1, 1, 0, 1, 1, 0, ...   \n614  [1, 1, 1, 1, 0, 1, 1, 0, 1, 1, 1, 1, 1, 1, 1, ...   \n642  [1, 1, 1, 1, 0, 1, 1, 0, 1, 1, 1, 0, 1, 1, 0, ...   \n\n                                         clickable_seq  \\\n370  [0, 0, 0, 0, 0, 0, 0, 0, 0, 0, 0, 1, 0, 0, 0, ...   \n488  [0, 0, 0, 0, 0, 0, 0, 0, 0, 0, 0, 1, 0, 0, 0, ...   \n526  [0, 0, 0, 0, 0, 0, 0, 0, 0, 0, 0, 1, 0, 0, 0, ...   \n614  [0, 0, 0, 0, 0, 0, 0, 0, 0, 0, 0, 1, 0, 0, 0, ...   \n642  [0, 0, 0, 0, 0, 0, 0, 0, 0, 0, 0, 1, 0, 0, 0, ...   \n\n                                      cord_x_seq_start  \\\n370  [0.0, 0.0, 0.0, 0.0, 0.0, 0.0, 0.0, 0.0, 0.0, ...   \n488  [0.0, 0.0, 0.0, 0.0, 0.0, 0.0, 0.0, 0.0, 0.0, ...   \n526  [0.0, 0.0, 0.0, 0.0, 0.0, 0.0, 0.0, 0.0, 0.0, ...   \n614  [0.0, 0.0, 0.0, 0.0, 0.0, 0.0, 0.0, 0.0, 0.0, ...   \n642  [0.0, 0.0, 0.0, 0.0, 0.0, 0.0, 0.0, 0.0, 0.0, ...   \n\n                                        cord_x_seq_end  \\\n370  [(1.0,), (1.0,), (1.0,), (1.0,), (0.0,), (1.0,...   \n488  [(1.0,), (1.0,), (1.0,), (1.0,), (0.0,), (1.0,...   \n526  [(1.0,), (1.0,), (1.0,), (1.0,), (0.0,), (1.0,...   \n614  [(1.0,), (1.0,), (1.0,), (1.0,), (0.0,), (1.0,...   \n642  [(1.0,), (1.0,), (1.0,), (1.0,), (0.0,), (1.0,...   \n\n                                      cord_y_seq_start  \\\n370  [0.0, 0.0, 0.934375, 0.0, 0.0, 0.0, 0.0, 0.0, ...   \n488  [0.0, 0.0, 0.934375, 0.0, 0.0, 0.0, 0.0, 0.0, ...   \n526  [0.0, 0.0, 0.934375, 0.0, 0.0, 0.0, 0.0, 0.0, ...   \n614  [0.0, 0.0, 0.934375, 0.0, 0.0, 0.0, 0.0, 0.0, ...   \n642  [0.0, 0.0, 0.934375, 0.0, 0.0, 0.0328125, 0.03...   \n\n                                        cord_y_seq_end  trace_id  \n370  [1.0, 0.934375, 1.0, 0.0328125, 0.0, 0.934375,...         3  \n488  [1.0, 0.934375, 1.0, 0.0328125, 0.0, 0.934375,...         3  \n526  [1.0, 0.934375, 1.0, 0.0328125, 0.0, 0.934375,...         3  \n614  [1.0, 0.934375, 1.0, 0.0328125, 0.0, 0.934375,...         3  \n642  [1.0, 0.934375, 1.0, 0.0328125, 0.0, 0.934375,...         3  ",
      "text/html": "<div>\n<style scoped>\n    .dataframe tbody tr th:only-of-type {\n        vertical-align: middle;\n    }\n\n    .dataframe tbody tr th {\n        vertical-align: top;\n    }\n\n    .dataframe thead th {\n        text-align: right;\n    }\n</style>\n<table border=\"1\" class=\"dataframe\">\n  <thead>\n    <tr style=\"text-align: right;\">\n      <th></th>\n      <th>x</th>\n      <th>y</th>\n      <th>obj_dom_pos</th>\n      <th>type_id_seq</th>\n      <th>visibility_seq</th>\n      <th>visibility_to_user_seq</th>\n      <th>clickable_seq</th>\n      <th>cord_x_seq_start</th>\n      <th>cord_x_seq_end</th>\n      <th>cord_y_seq_start</th>\n      <th>cord_y_seq_end</th>\n      <th>trace_id</th>\n    </tr>\n  </thead>\n  <tbody>\n    <tr>\n      <th>370</th>\n      <td>0.825156</td>\n      <td>0.351732</td>\n      <td>[1, 1, 251, 2, 2, 250, 2, 250, 2, 2, 251, 1, 3...</td>\n      <td>[4, 4, 4, 4, 4, 4, 4, 4, 4, 4, 4, 4, 4, 4, 4, ...</td>\n      <td>[1, 1, 1, 1, 0, 1, 1, 0, 1, 1, 1, 0, 1, 1, 1, ...</td>\n      <td>[1, 1, 1, 1, 0, 1, 1, 0, 1, 1, 1, 0, 1, 1, 0, ...</td>\n      <td>[0, 0, 0, 0, 0, 0, 0, 0, 0, 0, 0, 1, 0, 0, 0, ...</td>\n      <td>[0.0, 0.0, 0.0, 0.0, 0.0, 0.0, 0.0, 0.0, 0.0, ...</td>\n      <td>[(1.0,), (1.0,), (1.0,), (1.0,), (0.0,), (1.0,...</td>\n      <td>[0.0, 0.0, 0.934375, 0.0, 0.0, 0.0, 0.0, 0.0, ...</td>\n      <td>[1.0, 0.934375, 1.0, 0.0328125, 0.0, 0.934375,...</td>\n      <td>3</td>\n    </tr>\n    <tr>\n      <th>488</th>\n      <td>0.373016</td>\n      <td>0.224026</td>\n      <td>[1, 1, 251, 2, 2, 250, 2, 250, 2, 2, 251, 1, 3...</td>\n      <td>[4, 4, 4, 4, 4, 4, 4, 4, 4, 4, 4, 4, 4, 4, 4, ...</td>\n      <td>[1, 1, 1, 1, 0, 1, 1, 0, 1, 1, 1, 0, 1, 1, 1, ...</td>\n      <td>[1, 1, 1, 1, 0, 1, 1, 0, 1, 1, 1, 0, 1, 1, 0, ...</td>\n      <td>[0, 0, 0, 0, 0, 0, 0, 0, 0, 0, 0, 1, 0, 0, 0, ...</td>\n      <td>[0.0, 0.0, 0.0, 0.0, 0.0, 0.0, 0.0, 0.0, 0.0, ...</td>\n      <td>[(1.0,), (1.0,), (1.0,), (1.0,), (0.0,), (1.0,...</td>\n      <td>[0.0, 0.0, 0.934375, 0.0, 0.0, 0.0, 0.0, 0.0, ...</td>\n      <td>[1.0, 0.934375, 1.0, 0.0328125, 0.0, 0.934375,...</td>\n      <td>3</td>\n    </tr>\n    <tr>\n      <th>526</th>\n      <td>0.563492</td>\n      <td>0.898268</td>\n      <td>[1, 1, 251, 2, 2, 250, 2, 250, 2, 2, 251, 1, 3...</td>\n      <td>[4, 4, 4, 4, 4, 4, 4, 4, 4, 4, 4, 4, 4, 4, 4, ...</td>\n      <td>[1, 1, 1, 1, 0, 1, 1, 0, 1, 1, 1, 0, 1, 1, 1, ...</td>\n      <td>[1, 1, 1, 1, 0, 1, 1, 0, 1, 1, 1, 0, 1, 1, 0, ...</td>\n      <td>[0, 0, 0, 0, 0, 0, 0, 0, 0, 0, 0, 1, 0, 0, 0, ...</td>\n      <td>[0.0, 0.0, 0.0, 0.0, 0.0, 0.0, 0.0, 0.0, 0.0, ...</td>\n      <td>[(1.0,), (1.0,), (1.0,), (1.0,), (0.0,), (1.0,...</td>\n      <td>[0.0, 0.0, 0.934375, 0.0, 0.0, 0.0, 0.0, 0.0, ...</td>\n      <td>[1.0, 0.934375, 1.0, 0.0328125, 0.0, 0.934375,...</td>\n      <td>3</td>\n    </tr>\n    <tr>\n      <th>614</th>\n      <td>0.169072</td>\n      <td>0.336580</td>\n      <td>[1, 1, 251, 2, 2, 250, 2, 250, 2, 2, 251, 1, 3...</td>\n      <td>[4, 4, 4, 4, 4, 4, 4, 4, 4, 4, 4, 4, 4, 4, 4, ...</td>\n      <td>[1, 1, 1, 1, 0, 1, 1, 0, 1, 1, 1, 1, 1, 1, 1, ...</td>\n      <td>[1, 1, 1, 1, 0, 1, 1, 0, 1, 1, 1, 1, 1, 1, 1, ...</td>\n      <td>[0, 0, 0, 0, 0, 0, 0, 0, 0, 0, 0, 1, 0, 0, 0, ...</td>\n      <td>[0.0, 0.0, 0.0, 0.0, 0.0, 0.0, 0.0, 0.0, 0.0, ...</td>\n      <td>[(1.0,), (1.0,), (1.0,), (1.0,), (0.0,), (1.0,...</td>\n      <td>[0.0, 0.0, 0.934375, 0.0, 0.0, 0.0, 0.0, 0.0, ...</td>\n      <td>[1.0, 0.934375, 1.0, 0.0328125, 0.0, 0.934375,...</td>\n      <td>3</td>\n    </tr>\n    <tr>\n      <th>642</th>\n      <td>0.346080</td>\n      <td>0.136364</td>\n      <td>[1, 1, 143, 2, 2, 142, 2, 142, 2, 2, 143, 1, 3...</td>\n      <td>[4, 4, 4, 4, 4, 4, 4, 4, 4, 4, 4, 4, 4, 4, 4, ...</td>\n      <td>[1, 1, 1, 1, 0, 1, 1, 0, 1, 1, 1, 0, 1, 1, 1, ...</td>\n      <td>[1, 1, 1, 1, 0, 1, 1, 0, 1, 1, 1, 0, 1, 1, 0, ...</td>\n      <td>[0, 0, 0, 0, 0, 0, 0, 0, 0, 0, 0, 1, 0, 0, 0, ...</td>\n      <td>[0.0, 0.0, 0.0, 0.0, 0.0, 0.0, 0.0, 0.0, 0.0, ...</td>\n      <td>[(1.0,), (1.0,), (1.0,), (1.0,), (0.0,), (1.0,...</td>\n      <td>[0.0, 0.0, 0.934375, 0.0, 0.0, 0.0328125, 0.03...</td>\n      <td>[1.0, 0.934375, 1.0, 0.0328125, 0.0, 0.934375,...</td>\n      <td>3</td>\n    </tr>\n  </tbody>\n</table>\n</div>"
     },
     "execution_count": 14,
     "metadata": {},
     "output_type": "execute_result"
    }
   ],
   "source": [
    "feature_traces.head()"
   ],
   "metadata": {
    "collapsed": false,
    "ExecuteTime": {
     "end_time": "2023-12-27T00:27:30.120971949Z",
     "start_time": "2023-12-27T00:27:30.040392771Z"
    }
   },
   "id": "f671b3c1a1ee0b7b"
  },
  {
   "cell_type": "code",
   "execution_count": 15,
   "outputs": [
    {
     "data": {
      "text/plain": "                  x             y      trace_id\ncount  50304.000000  50304.000000  50304.000000\nmean       0.436052      0.455192   5148.693285\nstd        0.287890      0.321706   2975.276707\nmin        0.001040      0.002165      3.000000\n25%        0.196008      0.127778   2534.000000\n50%        0.426058      0.424784   5143.000000\n75%        0.661400      0.768707   7726.000000\nmax        1.000000      0.998665  10291.000000",
      "text/html": "<div>\n<style scoped>\n    .dataframe tbody tr th:only-of-type {\n        vertical-align: middle;\n    }\n\n    .dataframe tbody tr th {\n        vertical-align: top;\n    }\n\n    .dataframe thead th {\n        text-align: right;\n    }\n</style>\n<table border=\"1\" class=\"dataframe\">\n  <thead>\n    <tr style=\"text-align: right;\">\n      <th></th>\n      <th>x</th>\n      <th>y</th>\n      <th>trace_id</th>\n    </tr>\n  </thead>\n  <tbody>\n    <tr>\n      <th>count</th>\n      <td>50304.000000</td>\n      <td>50304.000000</td>\n      <td>50304.000000</td>\n    </tr>\n    <tr>\n      <th>mean</th>\n      <td>0.436052</td>\n      <td>0.455192</td>\n      <td>5148.693285</td>\n    </tr>\n    <tr>\n      <th>std</th>\n      <td>0.287890</td>\n      <td>0.321706</td>\n      <td>2975.276707</td>\n    </tr>\n    <tr>\n      <th>min</th>\n      <td>0.001040</td>\n      <td>0.002165</td>\n      <td>3.000000</td>\n    </tr>\n    <tr>\n      <th>25%</th>\n      <td>0.196008</td>\n      <td>0.127778</td>\n      <td>2534.000000</td>\n    </tr>\n    <tr>\n      <th>50%</th>\n      <td>0.426058</td>\n      <td>0.424784</td>\n      <td>5143.000000</td>\n    </tr>\n    <tr>\n      <th>75%</th>\n      <td>0.661400</td>\n      <td>0.768707</td>\n      <td>7726.000000</td>\n    </tr>\n    <tr>\n      <th>max</th>\n      <td>1.000000</td>\n      <td>0.998665</td>\n      <td>10291.000000</td>\n    </tr>\n  </tbody>\n</table>\n</div>"
     },
     "execution_count": 15,
     "metadata": {},
     "output_type": "execute_result"
    }
   ],
   "source": [
    "feature_traces.describe()"
   ],
   "metadata": {
    "collapsed": false,
    "ExecuteTime": {
     "end_time": "2023-12-27T00:27:30.176273079Z",
     "start_time": "2023-12-27T00:27:30.129952324Z"
    }
   },
   "id": "c6025a04827454b"
  },
  {
   "cell_type": "code",
   "execution_count": 18,
   "outputs": [
    {
     "name": "stdout",
     "output_type": "stream",
     "text": [
      "['x', 'y', 'cord_x_seq_start', 'cord_x_seq_end', 'cord_x_seq_start', 'cord_x_seq_end', 'obj_dom_pos', 'type_id_seq', 'visibility_seq', 'visibility_to_user_seq', 'clickable_seq']\n",
      "['obj_dom_pos', 'type_id_seq']\n"
     ]
    }
   ],
   "source": [
    "# TODO use x and y gesture of current screen as prediction, to simulate the action on the current screen\n",
    "cat_embedding_specs = [\n",
    "  # feat_name, is_cat, input_dim, output_dim, # maybe needed: vocab_size\n",
    "  ('x', False, 1, None, None),\n",
    "  ('y', False, 1, None, None),\n",
    "  ('cord_x_seq_start', False, 1, None, None),\n",
    "  ('cord_x_seq_end', False, 1, None, None),\n",
    "  ('cord_x_seq_start', False, 1, None, None),\n",
    "  ('cord_x_seq_end', False, 1, None, None),\n",
    "  ('obj_dom_pos', True, max_embed_length, out_embed_dim, 255),\n",
    "  ('type_id_seq', True, max_embed_length, out_embed_dim, 10),\n",
    "  ('visibility_seq', False, max_embed_length, None, None),\n",
    "  ('visibility_to_user_seq', False, max_embed_length, None, None),\n",
    "  ('clickable_seq', False, max_embed_length, None, None),\n",
    "  # ('obj_dom_pos_2', True, max_embed_length, out_embed_dim),\n",
    "]\n",
    "considered_features = [specs[0] for specs in cat_embedding_specs]\n",
    "considered_cat_features = [specs[0] for specs in cat_embedding_specs if specs[1]]\n",
    "\n",
    "print(considered_features)\n",
    "print(considered_cat_features)"
   ],
   "metadata": {
    "collapsed": false,
    "ExecuteTime": {
     "end_time": "2023-12-27T00:33:15.928260768Z",
     "start_time": "2023-12-27T00:33:15.857893226Z"
    }
   },
   "id": "e144a7ffb986fc5e"
  },
  {
   "cell_type": "code",
   "execution_count": null,
   "outputs": [],
   "source": [
    "feature_traces_preprocessed = feature_traces\n",
    "print(len(feature_traces_preprocessed))\n",
    "feature_traces_preprocessed = feature_traces_preprocessed.dropna()\n",
    "feature_traces_preprocessed = feature_traces_preprocessed[considered_features + ['trace_id']]\n",
    "print(len(feature_traces_preprocessed))\n",
    "feature_traces_preprocessed.head()"
   ],
   "metadata": {
    "collapsed": false
   },
   "id": "ff3c0bf8c6dda573"
  },
  {
   "cell_type": "code",
   "execution_count": 27,
   "outputs": [
    {
     "name": "stdout",
     "output_type": "stream",
     "text": [
      "50304\n",
      "50301\n",
      "Handle Feature \"x\":\n",
      "\tis single value only\n",
      "Handle Feature \"y\":\n",
      "\tis single value only\n",
      "Handle Feature \"cord_x_seq_start\":\n",
      "      cord_x_seq_start  cord_x_seq_start\n",
      "370                251               251\n",
      "488                251               251\n",
      "526                251               251\n",
      "614                251               251\n",
      "642                143               143\n",
      "...                ...               ...\n",
      "1092               138               138\n",
      "1399               138               138\n",
      "1414               190               190\n",
      "1420               190               190\n",
      "1453               143               143\n",
      "\n",
      "[50301 rows x 2 columns]\n"
     ]
    },
    {
     "ename": "TypeError",
     "evalue": "unsupported operand type(s) for /: 'str' and 'int'",
     "output_type": "error",
     "traceback": [
      "\u001B[0;31m---------------------------------------------------------------------------\u001B[0m",
      "\u001B[0;31mTypeError\u001B[0m                                 Traceback (most recent call last)",
      "Cell \u001B[0;32mIn[27], line 32\u001B[0m\n\u001B[1;32m     28\u001B[0m \u001B[38;5;28mprint\u001B[39m(lengths_of_feature)\n\u001B[1;32m     29\u001B[0m \u001B[38;5;66;03m# for f_length in lengths_of_feature:\u001B[39;00m\n\u001B[1;32m     30\u001B[0m \u001B[38;5;66;03m#   if not isinstance(f_length, float):\u001B[39;00m\n\u001B[1;32m     31\u001B[0m \u001B[38;5;66;03m#     print(f_length)\u001B[39;00m\n\u001B[0;32m---> 32\u001B[0m median_value \u001B[38;5;241m=\u001B[39m \u001B[43mstatistics\u001B[49m\u001B[38;5;241;43m.\u001B[39;49m\u001B[43mmedian\u001B[49m\u001B[43m(\u001B[49m\u001B[43mlengths_of_feature\u001B[49m\u001B[43m)\u001B[49m\n\u001B[1;32m     33\u001B[0m feat_median_array_length[feat_name] \u001B[38;5;241m=\u001B[39m median_value\n\u001B[1;32m     34\u001B[0m \u001B[38;5;28mprint\u001B[39m(\u001B[38;5;124mf\u001B[39m\u001B[38;5;124m'\u001B[39m\u001B[38;5;130;01m\\t\u001B[39;00m\u001B[38;5;124mhas median array length of \u001B[39m\u001B[38;5;132;01m{\u001B[39;00mmedian_value\u001B[38;5;132;01m}\u001B[39;00m\u001B[38;5;124m'\u001B[39m)\n",
      "File \u001B[0;32m/usr/lib/python3.11/statistics.py:570\u001B[0m, in \u001B[0;36mmedian\u001B[0;34m(data)\u001B[0m\n\u001B[1;32m    568\u001B[0m \u001B[38;5;28;01melse\u001B[39;00m:\n\u001B[1;32m    569\u001B[0m     i \u001B[38;5;241m=\u001B[39m n \u001B[38;5;241m/\u001B[39m\u001B[38;5;241m/\u001B[39m \u001B[38;5;241m2\u001B[39m\n\u001B[0;32m--> 570\u001B[0m     \u001B[38;5;28;01mreturn\u001B[39;00m \u001B[43m(\u001B[49m\u001B[43mdata\u001B[49m\u001B[43m[\u001B[49m\u001B[43mi\u001B[49m\u001B[43m \u001B[49m\u001B[38;5;241;43m-\u001B[39;49m\u001B[43m \u001B[49m\u001B[38;5;241;43m1\u001B[39;49m\u001B[43m]\u001B[49m\u001B[43m \u001B[49m\u001B[38;5;241;43m+\u001B[39;49m\u001B[43m \u001B[49m\u001B[43mdata\u001B[49m\u001B[43m[\u001B[49m\u001B[43mi\u001B[49m\u001B[43m]\u001B[49m\u001B[43m)\u001B[49m\u001B[43m \u001B[49m\u001B[38;5;241;43m/\u001B[39;49m\u001B[43m \u001B[49m\u001B[38;5;241;43m2\u001B[39;49m\n",
      "\u001B[0;31mTypeError\u001B[0m: unsupported operand type(s) for /: 'str' and 'int'"
     ]
    }
   ],
   "source": [
    "import math\n",
    "import statistics\n",
    "\n",
    "# Preprocess data\n",
    "# for t,v in keys_to_dtype.items():\n",
    "#   # try to convert float to list\n",
    "#   feature_traces_preprocessed[t] = feature_traces_preprocessed[t].apply(lambda x : [np.nan if (y is None or isinstance(y, float)) else y for y in x] if isinstance(x, list) else [x])\n",
    "# \n",
    "# #lens of list\n",
    "# print(feature_traces_preprocessed.isna().sum())\n",
    "# feature_traces_preprocessed\n",
    "\n",
    "# List of median value count for each feature.\n",
    "feat_median_array_length = {}\n",
    "\n",
    "# Check if feature is an array\n",
    "isFeatList = (feature_traces_preprocessed.map(type) == list).all(axis='rows')\n",
    "max_dom_pos = 500 # see screen2words\n",
    "for feat_name, isList in isFeatList.items():\n",
    "  print(f'Handle Feature \"{feat_name}\":')\n",
    "  if isList:\n",
    "    lengths_of_feature = feature_traces_preprocessed[feat_name].map(len)\n",
    "    # FIXME: check why header is given as first row\n",
    "    # print(lengths_of_feature)\n",
    "    # for f_length in lengths_of_feature:\n",
    "    #   if not isinstance(f_length, float):\n",
    "    #     print(f_length)\n",
    "    median_value = statistics.median(lengths_of_feature)\n",
    "    feat_median_array_length[feat_name] = median_value\n",
    "    print(f'\\thas median array length of {median_value}')\n",
    "    print(f'\\thas max array length of {max(lengths_of_feature)}')\n",
    "    \n",
    "    # Remove all NaN inner values (?): TODO check!!!\n",
    "    feature_traces_preprocessed[feat_name] = feature_traces_preprocessed[feat_name].map(lambda row: [x for x in row if not math.isnan(x)])\n",
    "    \n",
    "    # Extract the maximum value:\n",
    "    allvals = [x for xs in feature_traces_preprocessed[feat_name] for x in xs]\n",
    "    print(f'\\thas median value of {statistics.median(allvals)}')\n",
    "    print(f'\\thas max value of {max(allvals)}')\n",
    "    \n",
    "    # Pad all values to same length\n",
    "    # TODO need to pad to higher values per input\n",
    "    feat_pad = keras.utils.pad_sequences(feature_traces_preprocessed[feat_name], value=0, padding='post', maxlen=max_dom_pos)\n",
    "    feature_traces_preprocessed[feat_name] = feat_pad.tolist()\n",
    "  else:\n",
    "    print(f'\\tis single value only')\n",
    "    \n",
    "\n",
    "feat_median_array_length"
   ],
   "metadata": {
    "collapsed": false,
    "ExecuteTime": {
     "end_time": "2023-12-27T00:41:54.590905200Z",
     "start_time": "2023-12-27T00:41:54.335891589Z"
    }
   },
   "id": "96079ecf4c9fe3a2"
  },
  {
   "cell_type": "code",
   "execution_count": null,
   "outputs": [],
   "source": [
    "# feature_traces_flatten = feature_traces_preprocessed\n",
    "# for feat_name, isList in isFeatList.items():\n",
    "#   if isList:\n",
    "#     max_len = len(feature_traces_flatten[feat_name])\n",
    "#     feature_traces_flatten = feature_traces_flatten.drop(feat_name, axis= 1)\n",
    "#     feature_traces_flatten[[f'{feat_name}_{i}' for i in max_len]] = pd.DataFrame(feature_traces_preprocessed[feat_name].tolist(), index= feature_traces_preprocessed.index)\n",
    "#     #feature_traces_preprocessed = feature_traces_preprocessed + feature_traces_preprocessed.teams.apply(pd.Series)\n",
    "#     #df3.columns = ['team1', 'team2']"
   ],
   "metadata": {
    "collapsed": false,
    "ExecuteTime": {
     "start_time": "2023-12-27T00:27:32.082486416Z"
    }
   },
   "id": "9386cd8d843f63b6"
  },
  {
   "cell_type": "code",
   "execution_count": null,
   "outputs": [],
   "source": [
    "feature_traces_preprocessed.info()"
   ],
   "metadata": {
    "collapsed": false,
    "ExecuteTime": {
     "end_time": "2023-12-27T00:27:32.210045338Z",
     "start_time": "2023-12-27T00:27:32.105556016Z"
    }
   },
   "id": "4518fcc7b8bbdd90"
  },
  {
   "cell_type": "code",
   "execution_count": null,
   "outputs": [],
   "source": [
    "# The data is split by trace and not by frame windows as otherwise the model would be trained with similar apps before\n",
    "feature_traces_list = [pd.DataFrame(x[1]).drop('trace_id', axis=1) for x in feature_traces_preprocessed.groupby('trace_id')]"
   ],
   "metadata": {
    "collapsed": false,
    "ExecuteTime": {
     "start_time": "2023-12-27T00:27:32.105668561Z"
    }
   },
   "id": "2e5c1681d1fcf7f2"
  },
  {
   "cell_type": "code",
   "execution_count": null,
   "outputs": [],
   "source": [
    "feature_traces_list[0]\n",
    "# len(feature_traces_preprocessed[0].iloc[0]['obj_dom_pos'])"
   ],
   "metadata": {
    "collapsed": false,
    "ExecuteTime": {
     "start_time": "2023-12-27T00:27:32.105725189Z"
    }
   },
   "id": "1d11d0c674f86a3c"
  },
  {
   "cell_type": "code",
   "execution_count": null,
   "outputs": [],
   "source": [
    "# padding_info = [('screen_caption_token_ids', [1, None], 0),\n",
    "#                   ('appdesc_token_id', [1, None], 0),\n",
    "#                   ('label_flag', [None], 0),\n",
    "#                   ('obj_pixels', [None, 64, 64, 1], 0.0),\n",
    "#                   ('obj_type', [None], -1), ('obj_clickable', [None], 0),\n",
    "#                   ('obj_screen_pos', [None, 4], 0),\n",
    "#                   ('obj_dom_pos', [None, 3], 0), ('obj_visible', [None], 0),\n",
    "#                   ('attention_boxes', [1, 5, 4], 0.0),\n",
    "#                   ('attended_objects', [1, None], 0),\n",
    "#                   ('references', [None], tf.cast('', tf.string))]\n",
    "# padded_shapes = {}\n",
    "# padded_values = {}\n",
    "# for (key, padding_shape, padding_value) in padding_info:\n",
    "#   padded_shapes[key] = padding_shape\n",
    "#   padded_values[key] = padding_value"
   ],
   "metadata": {
    "collapsed": false,
    "ExecuteTime": {
     "start_time": "2023-12-27T00:27:32.105779883Z"
    }
   },
   "id": "df026ca56f4c860"
  },
  {
   "cell_type": "code",
   "execution_count": null,
   "outputs": [],
   "source": [
    "# tmp = pd.DataFrame(columns=['x','y', 'obj_dom_pos'], data=[[0.5,0.5,[1,2]],[0.5,0.5,[1,2,3]]], index=[1,2])\n",
    "# tmp['obj_dom_pos'].to_dict()\n",
    "\n",
    "\n",
    "# data = tf.data.Dataset.from_generator(lambda: tmp['obj_dom_pos'], output_signature=(\n",
    "#   tf.TensorSpec(shape=(), dtype=tf.string),\n",
    "#   tf.RaggedTensorSpec(shape=(), dtype=tf.int32),\n",
    "# ))\n"
   ],
   "metadata": {
    "collapsed": false,
    "ExecuteTime": {
     "start_time": "2023-12-27T00:27:32.105836272Z"
    }
   },
   "id": "1cef4282ab628205"
  },
  {
   "cell_type": "code",
   "execution_count": null,
   "outputs": [],
   "source": [
    "\n",
    "\n",
    "# dataset = tf.data.Dataset.from_tensor_slices(data)\n",
    "# dataset = dataset.map(lambda x: x.to_tensor()) # convert ragged -> uniform\n",
    "# \n",
    "# #data = tmp['obj_dom_pos']\n",
    "# batch_size = 64\n",
    "# data = data.padded_batch(\n",
    "#   batch_size, padded_shapes=padded_shapes, padding_values=padded_values)\n",
    "# data = data.prefetch(buffer_size=1024)\n",
    "# data\n",
    "\n",
    "#feature_traces_list = [tmp,tmp,tmp,tmp,tmp,tmp,tmp,tmp]"
   ],
   "metadata": {
    "collapsed": false,
    "ExecuteTime": {
     "start_time": "2023-12-27T00:27:32.105888400Z"
    }
   },
   "id": "ac203b0a1db96199"
  },
  {
   "cell_type": "code",
   "execution_count": null,
   "outputs": [],
   "source": [
    "test_size = len(feature_traces_list) // 4\n",
    "test_ind = len(feature_traces_list) - test_size\n",
    "\n",
    "train_traces = feature_traces_list[:test_ind]\n",
    "test_traces = feature_traces_list[test_ind:]"
   ],
   "metadata": {
    "collapsed": false,
    "ExecuteTime": {
     "start_time": "2023-12-27T00:27:32.106051549Z"
    }
   },
   "id": "68dc568c059d2160"
  },
  {
   "cell_type": "code",
   "execution_count": null,
   "outputs": [],
   "source": [
    "#df['obj_dom_pos'].dtype"
   ],
   "metadata": {
    "collapsed": false,
    "ExecuteTime": {
     "start_time": "2023-12-27T00:27:32.106108712Z"
    }
   },
   "id": "e7971c3e9fc1ce6c"
  },
  {
   "cell_type": "code",
   "execution_count": null,
   "outputs": [],
   "source": [
    "from keras.layers import Normalization\n",
    "\n",
    "isScale = False\n",
    "if isScale:\n",
    "  scaler = Normalization()\n",
    "  scaler_invert = Normalization(invert=True)\n",
    "  \n",
    "  print('Adapt scaler')\n",
    "  for train in train_traces:\n",
    "    scaler.adapt(train[['x','y']])\n",
    "    scaler_invert.adapt(train[['x','y']])\n",
    "  \n",
    "  print('Scale train data')\n",
    "  scaled_train_traces = train_traces\n",
    "  for train in train_traces[['x','y']]:\n",
    "    scaled_train_traces[['x','y']] = scaler(train)\n",
    "  \n",
    "  print('Scale test data')\n",
    "  scaled_test_traces = test_traces\n",
    "  for test in test_traces[['x','y']]:\n",
    "    scaled_test_traces[['x','y']] = scaler(test)\n",
    "  \n",
    "  print(scaler_invert(scaled_train_traces[0]))\n",
    "else:\n",
    "  scaled_train_traces = train_traces\n",
    "  scaled_test_traces = test_traces\n",
    "  "
   ],
   "metadata": {
    "collapsed": false,
    "ExecuteTime": {
     "start_time": "2023-12-27T00:27:32.106173781Z"
    }
   },
   "id": "3ef65237c3f7c11e"
  },
  {
   "cell_type": "code",
   "execution_count": null,
   "outputs": [],
   "source": [
    "scaled_train_traces[0]\n"
   ],
   "metadata": {
    "collapsed": false,
    "ExecuteTime": {
     "start_time": "2023-12-27T00:27:32.106241533Z"
    }
   },
   "id": "95f3bafe5ec03b33"
  },
  {
   "cell_type": "code",
   "execution_count": null,
   "outputs": [],
   "source": [
    "# from tensorflow.keras.preprocessing.sequence import TimeseriesGenerator\n",
    "# # Replace by timeseries_dataset_from_array\n",
    "# generator = TimeseriesGenerator(scaled_train, scaled_train, length=length, batch_size=1)\n",
    "# validation_generator = TimeseriesGenerator(scaled_test,scaled_test, length=length, batch_size=1)\n",
    "# len(generator)"
   ],
   "metadata": {
    "collapsed": false,
    "ExecuteTime": {
     "start_time": "2023-12-27T00:27:32.106299456Z"
    }
   },
   "id": "b6de01b5523b9891"
  },
  {
   "cell_type": "code",
   "execution_count": null,
   "outputs": [],
   "source": [
    "# X,y = generator[0]\n",
    "# X"
   ],
   "metadata": {
    "collapsed": false,
    "ExecuteTime": {
     "start_time": "2023-12-27T00:27:32.106351109Z"
    }
   },
   "id": "bb6fb4ed4cb81857"
  },
  {
   "cell_type": "code",
   "execution_count": null,
   "outputs": [],
   "source": [
    "# Convert to list of dicts\n",
    "scaled_train_traces = [v.to_dict(orient='records') for v in scaled_train_traces]\n",
    "scaled_test_traces = [v.to_dict(orient='records') for v in scaled_test_traces]"
   ],
   "metadata": {
    "collapsed": false,
    "ExecuteTime": {
     "start_time": "2023-12-27T00:27:32.106447984Z"
    }
   },
   "id": "7b4c73197d04e7b"
  },
  {
   "cell_type": "code",
   "execution_count": null,
   "outputs": [],
   "source": [
    "def create_fake_dataset(length=5):\n",
    "  my_arr = []\n",
    "  for i in range(0, length):\n",
    "    my_dict = {\n",
    "      'x': np.random.uniform(0, 1),\n",
    "      'y': np.random.uniform(0, 1),\n",
    "      'obj_dom_pos': np.random.randint(0, 255, size=max_embed_length),\n",
    "    }\n",
    "    my_arr.append(my_dict)\n",
    "  return my_arr\n",
    "\n",
    "override_with_fake = False\n",
    "if override_with_fake:\n",
    "  scaled_train_traces = [create_fake_dataset(30) for i in range(0, 3)]\n",
    "  scaled_test_traces = [create_fake_dataset(20) for i in range(0, 3)]\n",
    "\n",
    "scaled_train_traces[0]\n",
    "#for x in scaled_train_traces[0]:\n",
    "#  print(x)"
   ],
   "metadata": {
    "collapsed": false,
    "ExecuteTime": {
     "start_time": "2023-12-27T00:27:32.107769268Z"
    }
   },
   "id": "269d16a30b66233b"
  },
  {
   "cell_type": "code",
   "execution_count": null,
   "outputs": [],
   "source": [
    "from keras.preprocessing.sequence import TimeseriesGenerator"
   ],
   "metadata": {
    "collapsed": false,
    "ExecuteTime": {
     "start_time": "2023-12-27T00:27:32.109335403Z"
    }
   },
   "id": "319001e7ee3658dd"
  },
  {
   "cell_type": "code",
   "execution_count": null,
   "outputs": [],
   "source": [
    "from functools import reduce\n",
    "def make_dataset_from_generator(data):\n",
    "  generator = TimeseriesGenerator(data, data, length=length, batch_size=1)\n",
    "  # shuffle=False, # TODO: Shuffle if possible\n",
    "  return generator\n",
    "\n",
    "# def reduce_generators(a,b):\n",
    "#   a = list(map(lambda a1: a1, a))\n",
    "#   b = list(map(lambda b1: b1, b))\n",
    "#   return np.concatenate((a, b))\n",
    "\n",
    "train_generators = list(map(make_dataset_from_generator,scaled_train_traces))\n",
    "validation_generators = list(map(make_dataset_from_generator,scaled_test_traces))\n",
    "print(f'#train generators: {len(train_generators)}')\n",
    "print(f'#test generators: {len(validation_generators)}')\n",
    "generator = train_generators[0]\n",
    "validation_generator = validation_generators[0]\n",
    "generator[0]\n",
    "# train_dataset = reduce(reduce_generators, train_generators)\n",
    "# print(train_dataset)\n",
    "\n",
    "# print(generator)\n",
    "# X,y = generator[0]\n",
    "# print('X')\n",
    "# print(X)\n",
    "# print('y')\n",
    "# print(y)"
   ],
   "metadata": {
    "collapsed": false,
    "ExecuteTime": {
     "start_time": "2023-12-27T00:27:32.110696591Z"
    }
   },
   "id": "360c3e4384131914"
  },
  {
   "cell_type": "code",
   "execution_count": null,
   "outputs": [],
   "source": [
    "# import functools\n",
    "# \n",
    "# def split_window(features):\n",
    "#   inputs = features[:, slice(0, length), :]\n",
    "#   labels = features[:, slice(length, length + label_length), :]\n",
    "#   return inputs, labels\n",
    "# \n",
    "# def make_dataset(data):\n",
    "#   ds = timeseries_dataset_from_array(\n",
    "#     data=data,\n",
    "#     targets=None,\n",
    "#     sequence_length=length + label_length,\n",
    "#     sequence_stride=1,\n",
    "#     shuffle=False, # TODO: Shuffle if possible\n",
    "#     batch_size=32,\n",
    "#     # sampling_rate=1,\n",
    "#   )\n",
    "#   return ds.map(split_window)\n",
    "# \n",
    "# train_dataset_list = list(map(make_dataset,scaled_train_traces))\n",
    "# dataset = functools.reduce(lambda a, b: a.concatenate(b), train_dataset_list)\n",
    "# \n",
    "# test_dataset_list = list(map(make_dataset,scaled_test_traces))\n",
    "# validation_dataset = functools.reduce(lambda a, b: a.concatenate(b), test_dataset_list)\n",
    "# # dataset\n",
    "# # dataset = tf.data.Dataset.from_tensor_slices(scaled_train).window(length, drop_remainder=True)\n",
    "# # for inputs, labels in dataset:\n",
    "# #     print(len(inputs))\n",
    "# #     print(list(inputs.numpy()))\n",
    "# \n",
    "# # dataset.asOutput()\n",
    "# #train_dataset_list\n",
    "# inputs, labels = next(iter(dataset))\n",
    "# print(inputs, labels)\n",
    "# \n",
    "# # for x in dataset.as_numpy_iterator():\n",
    "# #    print(x)"
   ],
   "metadata": {
    "collapsed": false,
    "ExecuteTime": {
     "start_time": "2023-12-27T00:27:32.158468885Z"
    }
   },
   "id": "50754d7d00fba54b"
  },
  {
   "cell_type": "code",
   "execution_count": null,
   "outputs": [],
   "source": [
    "from keras.models import Model,Sequential\n",
    "from keras.layers import Dense,LSTM,Embedding, Flatten,Reshape, Input\n",
    "from keras.callbacks import EarlyStopping"
   ],
   "metadata": {
    "collapsed": false,
    "ExecuteTime": {
     "start_time": "2023-12-27T00:27:32.158554776Z"
    }
   },
   "id": "4d041342072cad7e"
  },
  {
   "cell_type": "code",
   "execution_count": null,
   "outputs": [],
   "source": [
    "generator[0][1]#[0][0]#['y'][:]"
   ],
   "metadata": {
    "collapsed": false,
    "ExecuteTime": {
     "start_time": "2023-12-27T00:27:32.158615996Z"
    }
   },
   "id": "33887580cc2f711e"
  },
  {
   "cell_type": "code",
   "execution_count": null,
   "outputs": [],
   "source": [
    "def merge_generators(generators):\n",
    "  generators = [[v for v in g] for g in generators]\n",
    "  return reduce(lambda a,b: a + b, generators)\n",
    "\n",
    "def transform_generators_to_tuple(generators):\n",
    "  timeseries = merge_generators(generators)\n",
    "  # TODO find out, why these arrays are nested in [0] and [0,0]\n",
    "  return [xY[0][0] for xY in timeseries], [xY[1][0] for xY in timeseries]\n",
    "\n",
    "# Filter out a feature from a time window to its own array\n",
    "def filter_var(window, feat_name):\n",
    "  return [step[feat_name] for step in window]\n",
    "\n",
    "# def filter_var(generator, feat_name):\n",
    "#   return [[[filter_var_row(row, feat_name) for row in g[0]],filter_var_row(g[1], feat_name)] for g in generator]"
   ],
   "metadata": {
    "collapsed": false,
    "ExecuteTime": {
     "start_time": "2023-12-27T00:27:32.158656392Z"
    }
   },
   "id": "67076612bea0dab2"
  },
  {
   "cell_type": "code",
   "execution_count": null,
   "outputs": [],
   "source": [
    "train_X, train_y = transform_generators_to_tuple(train_generators)\n",
    "print(len(train_X))\n",
    "print(len(train_y))"
   ],
   "metadata": {
    "collapsed": false,
    "ExecuteTime": {
     "start_time": "2023-12-27T00:27:32.158693865Z"
    }
   },
   "id": "2e3135a8f3b8f65"
  },
  {
   "cell_type": "code",
   "execution_count": null,
   "outputs": [],
   "source": [
    "train_X[0]"
   ],
   "metadata": {
    "collapsed": false,
    "ExecuteTime": {
     "start_time": "2023-12-27T00:27:32.158730821Z"
    }
   },
   "id": "4883cb88bb5899bd"
  },
  {
   "cell_type": "code",
   "execution_count": null,
   "outputs": [],
   "source": [
    "train_y[0]"
   ],
   "metadata": {
    "collapsed": false,
    "ExecuteTime": {
     "start_time": "2023-12-27T00:27:32.158766187Z"
    }
   },
   "id": "5eba9fdb5c24e586"
  },
  {
   "cell_type": "code",
   "execution_count": null,
   "outputs": [],
   "source": [
    "test_X, test_y = transform_generators_to_tuple(validation_generators)"
   ],
   "metadata": {
    "collapsed": false,
    "ExecuteTime": {
     "start_time": "2023-12-27T00:27:32.158801188Z"
    }
   },
   "id": "5fb8d4cb043429b"
  },
  {
   "cell_type": "code",
   "execution_count": null,
   "outputs": [],
   "source": [
    "def transform_window_to_input(window, feat_name, is_cat):\n",
    "  if is_cat:\n",
    "    return filter_var(window, feat_name)\n",
    "  else:\n",
    "    feat_vals = filter_var(window, feat_name)\n",
    "    feat_vals = np.expand_dims(feat_vals, axis=1) # Bring to same shape as cats, just wrap the inner value in an array\n",
    "    return feat_vals\n",
    "\n",
    "# Transform list of windows of features to list of features of windows\n",
    "def transform_X_to_inputs(X):\n",
    "  inputs = []\n",
    "  for feat_name, is_cat, input_dim, output_dim, vocab_dim in cat_embedding_specs:\n",
    "    feat_input = [transform_window_to_input(window, feat_name, is_cat) for window in X]\n",
    "    inputs.append(np.array(feat_input))\n",
    "  return inputs\n",
    "\n",
    "def transform_y_to_labels(y):\n",
    "  labels_pos_x = filter_var(y, 'x')\n",
    "  labels_pos_y = filter_var(y, 'y')\n",
    "  return [np.array(labels_pos_x), np.array(labels_pos_y)]\n",
    "\n",
    "train_inputs = transform_X_to_inputs(train_X)\n",
    "train_labels = transform_y_to_labels(train_y)\n",
    "\n",
    "test_inputs = transform_X_to_inputs(test_X)\n",
    "test_labels = transform_y_to_labels(test_y)\n",
    "\n",
    "print(train_inputs[0].shape)\n",
    "print(train_inputs[1].shape)\n",
    "print(train_inputs[2].shape)"
   ],
   "metadata": {
    "collapsed": false,
    "ExecuteTime": {
     "start_time": "2023-12-27T00:27:32.158835543Z"
    }
   },
   "id": "51cc731cef710231"
  },
  {
   "cell_type": "code",
   "execution_count": null,
   "outputs": [],
   "source": [
    "# https://stackoverflow.com/questions/52627739/how-to-merge-numerical-and-embedding-sequential-models-to-treat-categories-in-rn/52629902#comment136040845_52629902"
   ],
   "metadata": {
    "collapsed": false,
    "ExecuteTime": {
     "start_time": "2023-12-27T00:27:32.158870301Z"
    }
   },
   "id": "3ed7eb195e0350a0"
  },
  {
   "cell_type": "code",
   "execution_count": null,
   "outputs": [],
   "source": [
    "numerical_inputs = []\n",
    "cat_inputs = []\n",
    "cat_embedded = []\n",
    "for i, (feat_name, is_cat, input_length, out_embed_dim, vocab_dim) in enumerate(cat_embedding_specs):\n",
    "  print(i, feat_name, is_cat, input_length, out_embed_dim)\n",
    "  if is_cat:\n",
    "    # We have multiple inputs for the same category\n",
    "    input = Input(shape=(length, input_length), name=feat_name)\n",
    "    cat_inputs.append(input)\n",
    "    embed = Embedding(input_dim=vocab_dim, output_dim=out_embed_dim, mask_zero=True)(input)\n",
    "    # Reshape embedding layer to be flattened:\n",
    "    # we have `input_dim` values for this category, which should each be embedded in its own column\n",
    "    # the third dimension is used as embedding dimension, which is shared with the float values dimension\n",
    "    embed = keras.layers.Reshape((length, input_length * out_embed_dim))(embed)\n",
    "    embed = Dense(4)(embed) # TODO: may introduce a dense layer to reduce values of each category, which can be extremely high!!\n",
    "    cat_embedded.append(embed)\n",
    "  elif input_length > 1:\n",
    "    input = Input(shape=(length, input_length), name=feat_name)\n",
    "    embed = Dense(4)(input)\n",
    "    numerical_inputs.append(input)\n",
    "  else:\n",
    "    input = Input(shape=(length, input_length), name=feat_name)\n",
    "    numerical_inputs.append(input)\n",
    "\n",
    "\n",
    "numerical_merged = keras.layers.concatenate(numerical_inputs)\n",
    "cat_merged = keras.layers.concatenate(cat_embedded)\n",
    "merged = keras.layers.concatenate([numerical_merged, cat_merged])\n",
    "\n",
    "# Consider adding `stateful=True` and `model.reset_states()` to keep interpreting windows as continous batch e.g. for one app.\n",
    "# See: https://stackoverflow.com/a/50235563/5164462\n",
    "lstm_out = LSTM(128, return_sequences=False)(merged)\n",
    "# Can remove the dense layer, if want to predict the whole screen\n",
    "dense = Dense(2)(lstm_out)\n",
    "\n",
    "model = Model(numerical_inputs + cat_inputs, dense)\n",
    "model.summary()"
   ],
   "metadata": {
    "collapsed": false,
    "ExecuteTime": {
     "start_time": "2023-12-27T00:27:32.158904590Z"
    }
   },
   "id": "34dd685643cc59ae"
  },
  {
   "cell_type": "code",
   "execution_count": null,
   "outputs": [],
   "source": [
    "model.compile(optimizer='adam', loss='mse')\n",
    "\n",
    "early_stop = EarlyStopping(monitor='val_loss',patience=4)"
   ],
   "metadata": {
    "collapsed": false,
    "ExecuteTime": {
     "start_time": "2023-12-27T00:27:32.158939252Z"
    }
   },
   "id": "5ddbd2551425ba6b"
  },
  {
   "cell_type": "code",
   "execution_count": null,
   "outputs": [],
   "source": [
    "model.fit(\n",
    "  train_inputs,\n",
    "  train_labels,\n",
    "  epochs=50,\n",
    "  validation_data=(test_inputs,test_labels),\n",
    "  callbacks=[early_stop]\n",
    ")"
   ],
   "metadata": {
    "collapsed": false,
    "ExecuteTime": {
     "start_time": "2023-12-27T00:27:32.158973640Z"
    }
   },
   "id": "5153ee85bd325762"
  },
  {
   "cell_type": "code",
   "execution_count": null,
   "outputs": [],
   "source": [
    "loss = pd.DataFrame(model.history.history)\n",
    "loss.plot()"
   ],
   "metadata": {
    "collapsed": false,
    "ExecuteTime": {
     "start_time": "2023-12-27T00:27:32.159024549Z"
    }
   },
   "id": "c77bfad7c65a7364"
  },
  {
   "cell_type": "code",
   "execution_count": 90,
   "outputs": [],
   "source": [
    "## Evaluate on Test Data"
   ],
   "metadata": {
    "collapsed": false,
    "ExecuteTime": {
     "end_time": "2023-12-26T09:55:20.878669913Z",
     "start_time": "2023-12-26T09:55:20.817522615Z"
    }
   },
   "id": "a719850fbb1ea4b6"
  },
  {
   "cell_type": "code",
   "execution_count": 126,
   "outputs": [
    {
     "name": "stdout",
     "output_type": "stream",
     "text": [
      "Length of longest test trace: 50\n",
      "Index of longest test trace: 657\n"
     ]
    },
    {
     "data": {
      "text/plain": "[{'x': 0.7017504821243139,\n  'y': 0.8931909212283045,\n  'obj_dom_pos': [1,\n   1,\n   15,\n   2,\n   2,\n   14,\n   3,\n   3,\n   13,\n   3,\n   6,\n   10,\n   4,\n   4,\n   12,\n   4,\n   5,\n   11,\n   4,\n   7,\n   9,\n   4,\n   8,\n   8,\n   5,\n   9,\n   7,\n   5,\n   13,\n   3,\n   6,\n   10,\n   6,\n   6,\n   11,\n   5,\n   6,\n   12,\n   4,\n   6,\n   14,\n   2,\n   6,\n   15,\n   1,\n   0,\n   0,\n   0,\n   0,\n   0,\n   0,\n   0,\n   0,\n   0,\n   0,\n   0,\n   0,\n   0,\n   0,\n   0,\n   0,\n   0,\n   0,\n   0,\n   0,\n   0,\n   0,\n   0,\n   0,\n   0,\n   0,\n   0,\n   0,\n   0,\n   0,\n   0,\n   0,\n   0,\n   0,\n   0,\n   0,\n   0,\n   0,\n   0,\n   0,\n   0,\n   0,\n   0,\n   0,\n   0,\n   0,\n   0,\n   0,\n   0,\n   0,\n   0,\n   0,\n   0,\n   0,\n   0,\n   0,\n   0,\n   0,\n   0,\n   0,\n   0,\n   0,\n   0,\n   0,\n   0,\n   0,\n   0,\n   0,\n   0,\n   0,\n   0,\n   0,\n   0,\n   0,\n   0,\n   0,\n   0,\n   0,\n   0,\n   0,\n   0,\n   0,\n   0,\n   0,\n   0,\n   0,\n   0,\n   0,\n   0,\n   0,\n   0,\n   0,\n   0,\n   0,\n   0,\n   0,\n   0,\n   0,\n   0,\n   0,\n   0,\n   0,\n   0,\n   0,\n   0,\n   0,\n   0,\n   0,\n   0,\n   0,\n   0,\n   0,\n   0,\n   0,\n   0,\n   0,\n   0,\n   0,\n   0,\n   0,\n   0,\n   0,\n   0,\n   0,\n   0,\n   0,\n   0,\n   0,\n   0,\n   0,\n   0,\n   0,\n   0,\n   0,\n   0,\n   0,\n   0,\n   0,\n   0,\n   0,\n   0,\n   0,\n   0,\n   0,\n   0,\n   0,\n   0,\n   0,\n   0,\n   0,\n   0,\n   0,\n   0,\n   0,\n   0,\n   0,\n   0,\n   0,\n   0,\n   0,\n   0,\n   0,\n   0,\n   0,\n   0,\n   0,\n   0,\n   0,\n   0,\n   0,\n   0,\n   0,\n   0,\n   0,\n   0,\n   0,\n   0,\n   0,\n   0,\n   0,\n   0,\n   0,\n   0,\n   0,\n   0,\n   0,\n   0,\n   0,\n   0,\n   0,\n   0,\n   0,\n   0,\n   0,\n   0,\n   0,\n   0,\n   0,\n   0,\n   0,\n   0,\n   0,\n   0,\n   0,\n   0,\n   0,\n   0,\n   0,\n   0,\n   0,\n   0,\n   0,\n   0,\n   0,\n   0,\n   0,\n   0,\n   0,\n   0,\n   0,\n   0,\n   0,\n   0,\n   0,\n   0,\n   0,\n   0,\n   0,\n   0,\n   0,\n   0,\n   0,\n   0,\n   0,\n   0,\n   0,\n   0,\n   0,\n   0,\n   0,\n   0,\n   0,\n   0,\n   0,\n   0,\n   0,\n   0,\n   0,\n   0,\n   0,\n   0,\n   0,\n   0,\n   0,\n   0,\n   0,\n   0,\n   0,\n   0,\n   0,\n   0,\n   0,\n   0,\n   0,\n   0,\n   0,\n   0,\n   0,\n   0,\n   0,\n   0,\n   0,\n   0,\n   0,\n   0,\n   0,\n   0,\n   0,\n   0,\n   0,\n   0,\n   0,\n   0,\n   0,\n   0,\n   0,\n   0,\n   0,\n   0,\n   0,\n   0,\n   0,\n   0,\n   0,\n   0,\n   0,\n   0,\n   0,\n   0,\n   0,\n   0,\n   0,\n   0,\n   0,\n   0,\n   0,\n   0,\n   0,\n   0,\n   0,\n   0,\n   0,\n   0,\n   0,\n   0,\n   0,\n   0,\n   0,\n   0,\n   0,\n   0,\n   0,\n   0,\n   0,\n   0,\n   0,\n   0,\n   0,\n   0,\n   0,\n   0,\n   0,\n   0,\n   0,\n   0,\n   0,\n   0,\n   0,\n   0,\n   0,\n   0,\n   0,\n   0,\n   0,\n   0,\n   0,\n   0,\n   0,\n   0,\n   0,\n   0,\n   0,\n   0,\n   0,\n   0,\n   0,\n   0,\n   0,\n   0,\n   0,\n   0,\n   0,\n   0,\n   0,\n   0,\n   0,\n   0,\n   0,\n   0,\n   0,\n   0,\n   0,\n   0,\n   0,\n   0,\n   0,\n   0,\n   0,\n   0,\n   0,\n   0,\n   0,\n   0,\n   0,\n   0,\n   0,\n   0,\n   0,\n   0,\n   0,\n   0,\n   0,\n   0,\n   0,\n   0,\n   0,\n   0,\n   0,\n   0,\n   0,\n   0,\n   0,\n   0,\n   0,\n   0,\n   0,\n   0,\n   0,\n   0,\n   0,\n   0,\n   0,\n   0,\n   0,\n   0,\n   0,\n   0,\n   0,\n   0,\n   0,\n   0,\n   0,\n   0,\n   0,\n   0,\n   0,\n   0,\n   0,\n   0,\n   0,\n   0,\n   0,\n   0,\n   0,\n   0,\n   0,\n   0,\n   0,\n   0,\n   0,\n   0,\n   0,\n   0,\n   0,\n   0,\n   0,\n   0,\n   0,\n   0,\n   0,\n   0,\n   0,\n   0,\n   0,\n   0]},\n {'x': 0.7349799732977303,\n  'y': 0.8691588785046729,\n  'obj_dom_pos': [1,\n   1,\n   32,\n   2,\n   2,\n   31,\n   3,\n   3,\n   30,\n   3,\n   32,\n   1,\n   4,\n   4,\n   29,\n   5,\n   5,\n   28,\n   5,\n   11,\n   22,\n   6,\n   6,\n   27,\n   6,\n   12,\n   21,\n   6,\n   28,\n   5,\n   7,\n   7,\n   26,\n   7,\n   8,\n   25,\n   7,\n   13,\n   20,\n   7,\n   29,\n   4,\n   8,\n   9,\n   24,\n   8,\n   10,\n   23,\n   8,\n   14,\n   19,\n   8,\n   17,\n   16,\n   8,\n   27,\n   6,\n   8,\n   30,\n   3,\n   8,\n   31,\n   2,\n   9,\n   15,\n   18,\n   9,\n   18,\n   15,\n   10,\n   16,\n   17,\n   10,\n   19,\n   14,\n   11,\n   20,\n   13,\n   12,\n   21,\n   12,\n   12,\n   22,\n   11,\n   12,\n   23,\n   10,\n   13,\n   24,\n   9,\n   13,\n   25,\n   8,\n   13,\n   26,\n   7,\n   0,\n   0,\n   0,\n   0,\n   0,\n   0,\n   0,\n   0,\n   0,\n   0,\n   0,\n   0,\n   0,\n   0,\n   0,\n   0,\n   0,\n   0,\n   0,\n   0,\n   0,\n   0,\n   0,\n   0,\n   0,\n   0,\n   0,\n   0,\n   0,\n   0,\n   0,\n   0,\n   0,\n   0,\n   0,\n   0,\n   0,\n   0,\n   0,\n   0,\n   0,\n   0,\n   0,\n   0,\n   0,\n   0,\n   0,\n   0,\n   0,\n   0,\n   0,\n   0,\n   0,\n   0,\n   0,\n   0,\n   0,\n   0,\n   0,\n   0,\n   0,\n   0,\n   0,\n   0,\n   0,\n   0,\n   0,\n   0,\n   0,\n   0,\n   0,\n   0,\n   0,\n   0,\n   0,\n   0,\n   0,\n   0,\n   0,\n   0,\n   0,\n   0,\n   0,\n   0,\n   0,\n   0,\n   0,\n   0,\n   0,\n   0,\n   0,\n   0,\n   0,\n   0,\n   0,\n   0,\n   0,\n   0,\n   0,\n   0,\n   0,\n   0,\n   0,\n   0,\n   0,\n   0,\n   0,\n   0,\n   0,\n   0,\n   0,\n   0,\n   0,\n   0,\n   0,\n   0,\n   0,\n   0,\n   0,\n   0,\n   0,\n   0,\n   0,\n   0,\n   0,\n   0,\n   0,\n   0,\n   0,\n   0,\n   0,\n   0,\n   0,\n   0,\n   0,\n   0,\n   0,\n   0,\n   0,\n   0,\n   0,\n   0,\n   0,\n   0,\n   0,\n   0,\n   0,\n   0,\n   0,\n   0,\n   0,\n   0,\n   0,\n   0,\n   0,\n   0,\n   0,\n   0,\n   0,\n   0,\n   0,\n   0,\n   0,\n   0,\n   0,\n   0,\n   0,\n   0,\n   0,\n   0,\n   0,\n   0,\n   0,\n   0,\n   0,\n   0,\n   0,\n   0,\n   0,\n   0,\n   0,\n   0,\n   0,\n   0,\n   0,\n   0,\n   0,\n   0,\n   0,\n   0,\n   0,\n   0,\n   0,\n   0,\n   0,\n   0,\n   0,\n   0,\n   0,\n   0,\n   0,\n   0,\n   0,\n   0,\n   0,\n   0,\n   0,\n   0,\n   0,\n   0,\n   0,\n   0,\n   0,\n   0,\n   0,\n   0,\n   0,\n   0,\n   0,\n   0,\n   0,\n   0,\n   0,\n   0,\n   0,\n   0,\n   0,\n   0,\n   0,\n   0,\n   0,\n   0,\n   0,\n   0,\n   0,\n   0,\n   0,\n   0,\n   0,\n   0,\n   0,\n   0,\n   0,\n   0,\n   0,\n   0,\n   0,\n   0,\n   0,\n   0,\n   0,\n   0,\n   0,\n   0,\n   0,\n   0,\n   0,\n   0,\n   0,\n   0,\n   0,\n   0,\n   0,\n   0,\n   0,\n   0,\n   0,\n   0,\n   0,\n   0,\n   0,\n   0,\n   0,\n   0,\n   0,\n   0,\n   0,\n   0,\n   0,\n   0,\n   0,\n   0,\n   0,\n   0,\n   0,\n   0,\n   0,\n   0,\n   0,\n   0,\n   0,\n   0,\n   0,\n   0,\n   0,\n   0,\n   0,\n   0,\n   0,\n   0,\n   0,\n   0,\n   0,\n   0,\n   0,\n   0,\n   0,\n   0,\n   0,\n   0,\n   0,\n   0,\n   0,\n   0,\n   0,\n   0,\n   0,\n   0,\n   0,\n   0,\n   0,\n   0,\n   0,\n   0,\n   0,\n   0,\n   0,\n   0,\n   0,\n   0,\n   0,\n   0,\n   0,\n   0,\n   0,\n   0,\n   0,\n   0,\n   0,\n   0,\n   0,\n   0,\n   0,\n   0,\n   0,\n   0,\n   0,\n   0,\n   0,\n   0,\n   0,\n   0,\n   0,\n   0,\n   0,\n   0,\n   0,\n   0,\n   0,\n   0,\n   0,\n   0,\n   0,\n   0,\n   0,\n   0,\n   0,\n   0,\n   0,\n   0,\n   0,\n   0,\n   0,\n   0,\n   0,\n   0,\n   0,\n   0,\n   0,\n   0,\n   0,\n   0,\n   0,\n   0,\n   0,\n   0,\n   0,\n   0,\n   0,\n   0,\n   0,\n   0,\n   0,\n   0,\n   0,\n   0,\n   0,\n   0,\n   0,\n   0,\n   0,\n   0,\n   0,\n   0]},\n {'x': 0.9272363150867824,\n  'y': 0.1548731642189586,\n  'obj_dom_pos': [1,\n   1,\n   146,\n   2,\n   2,\n   145,\n   2,\n   145,\n   2,\n   2,\n   146,\n   1,\n   3,\n   3,\n   144,\n   3,\n   110,\n   37,\n   4,\n   4,\n   143,\n   4,\n   111,\n   36,\n   4,\n   115,\n   32,\n   4,\n   120,\n   27,\n   4,\n   125,\n   22,\n   4,\n   130,\n   17,\n   4,\n   135,\n   12,\n   4,\n   140,\n   7,\n   5,\n   5,\n   142,\n   5,\n   6,\n   141,\n   5,\n   112,\n   35,\n   5,\n   113,\n   34,\n   5,\n   114,\n   33,\n   5,\n   116,\n   31,\n   5,\n   117,\n   30,\n   5,\n   118,\n   29,\n   5,\n   121,\n   26,\n   5,\n   122,\n   25,\n   5,\n   123,\n   24,\n   5,\n   126,\n   21,\n   5,\n   127,\n   20,\n   5,\n   128,\n   19,\n   5,\n   131,\n   16,\n   5,\n   132,\n   15,\n   5,\n   133,\n   14,\n   5,\n   136,\n   11,\n   5,\n   137,\n   10,\n   5,\n   138,\n   9,\n   5,\n   141,\n   6,\n   5,\n   142,\n   5,\n   5,\n   143,\n   4,\n   6,\n   7,\n   140,\n   6,\n   119,\n   28,\n   6,\n   124,\n   23,\n   6,\n   129,\n   18,\n   6,\n   134,\n   13,\n   6,\n   139,\n   8,\n   6,\n   144,\n   3,\n   7,\n   8,\n   139,\n   7,\n   98,\n   49,\n   8,\n   9,\n   138,\n   8,\n   99,\n   48,\n   8,\n   109,\n   38,\n   9,\n   10,\n   137,\n   9,\n   88,\n   59,\n   9,\n   89,\n   58,\n   9,\n   100,\n   47,\n   9,\n   107,\n   40,\n   10,\n   11,\n   136,\n   10,\n   16,\n   131,\n   10,\n   87,\n   60,\n   10,\n   90,\n   57,\n   10,\n   91,\n   56,\n   10,\n   93,\n   54,\n   10,\n   94,\n   53,\n   10,\n   95,\n   52,\n   10,\n   96,\n   51,\n   10,\n   97,\n   50,\n   10,\n   101,\n   46,\n   10,\n   102,\n   45,\n   10,\n   103,\n   44,\n   10,\n   104,\n   43,\n   10,\n   108,\n   39,\n   11,\n   12,\n   135,\n   11,\n   14,\n   133,\n   11,\n   15,\n   132,\n   11,\n   17,\n   130,\n   11,\n   52,\n   95,\n   11,\n   92,\n   55,\n   11,\n   105,\n   42,\n   11,\n   106,\n   41,\n   12,\n   13,\n   134,\n   12,\n   18,\n   129,\n   12,\n   23,\n   124,\n   12,\n   37,\n   110,\n   12,\n   43,\n   104,\n   12,\n   44,\n   103,\n   12,\n   45,\n   102,\n   12,\n   53,\n   94,\n   12,\n   58,\n   89,\n   12,\n   72,\n   75,\n   12,\n   78,\n   69,\n   12,\n   79,\n   68,\n   12,\n   80,\n   67,\n   13,\n   19,\n   128,\n   13,\n   24,\n   123,\n   13,\n   25,\n   122,\n   13,\n   26,\n   121,\n   13,\n   27,\n   120,\n   13,\n   28,\n   119,\n   13,\n   29,\n   118,\n   13,\n   31,\n   116,\n   13,\n   38,\n   109,\n   13,\n   39,\n   108,\n   13,\n   40,\n   107,\n   13,\n   41,\n   106,\n   13,\n   42,\n   105,\n   13,\n   46,\n   101,\n   13,\n   54,\n   93,\n   13,\n   59,\n   88,\n   13,\n   60,\n   87,\n   13,\n   61,\n   86,\n   13,\n   62,\n   85,\n   13,\n   63,\n   84,\n   13,\n   64,\n   83,\n   13,\n   66,\n   81,\n   13,\n   73,\n   74,\n   13,\n   74,\n   73,\n   13,\n   75,\n   72,\n   13,\n   76,\n   71,\n   13,\n   77,\n   70,\n   13,\n   81,\n   66,\n   14,\n   20,\n   127,\n   14,\n   22,\n   125,\n   14,\n   30,\n   117,\n   14,\n   32,\n   115,\n   14,\n   33,\n   114,\n   14,\n   47,\n   100,\n   14,\n   48,\n   99,\n   14,\n   55,\n   92,\n   14,\n   57,\n   90,\n   14,\n   65,\n   82,\n   14,\n   67,\n   80,\n   14,\n   68,\n   79,\n   14,\n   82,\n   65,\n   14,\n   83,\n   64,\n   15,\n   21,\n   126,\n   15,\n   34,\n   113,\n   15,\n   35,\n   112,\n   15,\n   36,\n   111,\n   15,\n   49,\n   98,\n   15,\n   50,\n   97,\n   15,\n   51,\n   96,\n   15,\n   56,\n   91,\n   15,\n   69,\n   78,\n   15,\n   70,\n   77,\n   15,\n   71,\n   76,\n   15,\n   84,\n   63,\n   15,\n   85,\n   62,\n   15,\n   86,\n   61,\n   0,\n   0,\n   0,\n   0,\n   0,\n   0,\n   0,\n   0,\n   0,\n   0,\n   0,\n   0,\n   0,\n   0,\n   0,\n   0,\n   0,\n   0,\n   0,\n   0,\n   0,\n   0,\n   0,\n   0,\n   0,\n   0,\n   0,\n   0,\n   0,\n   0,\n   0,\n   0,\n   0,\n   0,\n   0,\n   0,\n   0,\n   0,\n   0,\n   0,\n   0,\n   0,\n   0,\n   0,\n   0,\n   0,\n   0,\n   0,\n   0,\n   0,\n   0,\n   0,\n   0,\n   0,\n   0,\n   0,\n   0,\n   0,\n   0,\n   0,\n   0,\n   0]},\n {'x': 0.7136181575433912,\n  'y': 0.890520694259012,\n  'obj_dom_pos': [1,\n   1,\n   12,\n   2,\n   2,\n   11,\n   3,\n   3,\n   10,\n   3,\n   6,\n   7,\n   4,\n   4,\n   9,\n   4,\n   5,\n   8,\n   4,\n   7,\n   6,\n   4,\n   8,\n   5,\n   5,\n   9,\n   4,\n   5,\n   10,\n   3,\n   5,\n   11,\n   2,\n   5,\n   12,\n   1,\n   0,\n   0,\n   0,\n   0,\n   0,\n   0,\n   0,\n   0,\n   0,\n   0,\n   0,\n   0,\n   0,\n   0,\n   0,\n   0,\n   0,\n   0,\n   0,\n   0,\n   0,\n   0,\n   0,\n   0,\n   0,\n   0,\n   0,\n   0,\n   0,\n   0,\n   0,\n   0,\n   0,\n   0,\n   0,\n   0,\n   0,\n   0,\n   0,\n   0,\n   0,\n   0,\n   0,\n   0,\n   0,\n   0,\n   0,\n   0,\n   0,\n   0,\n   0,\n   0,\n   0,\n   0,\n   0,\n   0,\n   0,\n   0,\n   0,\n   0,\n   0,\n   0,\n   0,\n   0,\n   0,\n   0,\n   0,\n   0,\n   0,\n   0,\n   0,\n   0,\n   0,\n   0,\n   0,\n   0,\n   0,\n   0,\n   0,\n   0,\n   0,\n   0,\n   0,\n   0,\n   0,\n   0,\n   0,\n   0,\n   0,\n   0,\n   0,\n   0,\n   0,\n   0,\n   0,\n   0,\n   0,\n   0,\n   0,\n   0,\n   0,\n   0,\n   0,\n   0,\n   0,\n   0,\n   0,\n   0,\n   0,\n   0,\n   0,\n   0,\n   0,\n   0,\n   0,\n   0,\n   0,\n   0,\n   0,\n   0,\n   0,\n   0,\n   0,\n   0,\n   0,\n   0,\n   0,\n   0,\n   0,\n   0,\n   0,\n   0,\n   0,\n   0,\n   0,\n   0,\n   0,\n   0,\n   0,\n   0,\n   0,\n   0,\n   0,\n   0,\n   0,\n   0,\n   0,\n   0,\n   0,\n   0,\n   0,\n   0,\n   0,\n   0,\n   0,\n   0,\n   0,\n   0,\n   0,\n   0,\n   0,\n   0,\n   0,\n   0,\n   0,\n   0,\n   0,\n   0,\n   0,\n   0,\n   0,\n   0,\n   0,\n   0,\n   0,\n   0,\n   0,\n   0,\n   0,\n   0,\n   0,\n   0,\n   0,\n   0,\n   0,\n   0,\n   0,\n   0,\n   0,\n   0,\n   0,\n   0,\n   0,\n   0,\n   0,\n   0,\n   0,\n   0,\n   0,\n   0,\n   0,\n   0,\n   0,\n   0,\n   0,\n   0,\n   0,\n   0,\n   0,\n   0,\n   0,\n   0,\n   0,\n   0,\n   0,\n   0,\n   0,\n   0,\n   0,\n   0,\n   0,\n   0,\n   0,\n   0,\n   0,\n   0,\n   0,\n   0,\n   0,\n   0,\n   0,\n   0,\n   0,\n   0,\n   0,\n   0,\n   0,\n   0,\n   0,\n   0,\n   0,\n   0,\n   0,\n   0,\n   0,\n   0,\n   0,\n   0,\n   0,\n   0,\n   0,\n   0,\n   0,\n   0,\n   0,\n   0,\n   0,\n   0,\n   0,\n   0,\n   0,\n   0,\n   0,\n   0,\n   0,\n   0,\n   0,\n   0,\n   0,\n   0,\n   0,\n   0,\n   0,\n   0,\n   0,\n   0,\n   0,\n   0,\n   0,\n   0,\n   0,\n   0,\n   0,\n   0,\n   0,\n   0,\n   0,\n   0,\n   0,\n   0,\n   0,\n   0,\n   0,\n   0,\n   0,\n   0,\n   0,\n   0,\n   0,\n   0,\n   0,\n   0,\n   0,\n   0,\n   0,\n   0,\n   0,\n   0,\n   0,\n   0,\n   0,\n   0,\n   0,\n   0,\n   0,\n   0,\n   0,\n   0,\n   0,\n   0,\n   0,\n   0,\n   0,\n   0,\n   0,\n   0,\n   0,\n   0,\n   0,\n   0,\n   0,\n   0,\n   0,\n   0,\n   0,\n   0,\n   0,\n   0,\n   0,\n   0,\n   0,\n   0,\n   0,\n   0,\n   0,\n   0,\n   0,\n   0,\n   0,\n   0,\n   0,\n   0,\n   0,\n   0,\n   0,\n   0,\n   0,\n   0,\n   0,\n   0,\n   0,\n   0,\n   0,\n   0,\n   0,\n   0,\n   0,\n   0,\n   0,\n   0,\n   0,\n   0,\n   0,\n   0,\n   0,\n   0,\n   0,\n   0,\n   0,\n   0,\n   0,\n   0,\n   0,\n   0,\n   0,\n   0,\n   0,\n   0,\n   0,\n   0,\n   0,\n   0,\n   0,\n   0,\n   0,\n   0,\n   0,\n   0,\n   0,\n   0,\n   0,\n   0,\n   0,\n   0,\n   0,\n   0,\n   0,\n   0,\n   0,\n   0,\n   0,\n   0,\n   0,\n   0,\n   0,\n   0,\n   0,\n   0,\n   0,\n   0,\n   0,\n   0,\n   0,\n   0,\n   0,\n   0,\n   0,\n   0,\n   0,\n   0,\n   0,\n   0,\n   0,\n   0,\n   0,\n   0,\n   0,\n   0,\n   0,\n   0,\n   0,\n   0,\n   0,\n   0,\n   0,\n   0,\n   0,\n   0,\n   0,\n   0,\n   0,\n   0,\n   0,\n   0,\n   0,\n   0,\n   0,\n   0,\n   0,\n   0,\n   0,\n   0,\n   0,\n   0]},\n {'x': 0.8750185432428423,\n  'y': 0.630173564753004,\n  'obj_dom_pos': [1,\n   1,\n   148,\n   2,\n   2,\n   147,\n   2,\n   147,\n   2,\n   2,\n   148,\n   1,\n   3,\n   3,\n   146,\n   3,\n   112,\n   37,\n   4,\n   4,\n   145,\n   4,\n   113,\n   36,\n   4,\n   117,\n   32,\n   4,\n   122,\n   27,\n   4,\n   127,\n   22,\n   4,\n   132,\n   17,\n   4,\n   137,\n   12,\n   4,\n   142,\n   7,\n   5,\n   5,\n   144,\n   5,\n   6,\n   143,\n   5,\n   114,\n   35,\n   5,\n   115,\n   34,\n   5,\n   116,\n   33,\n   5,\n   118,\n   31,\n   5,\n   119,\n   30,\n   5,\n   120,\n   29,\n   5,\n   123,\n   26,\n   5,\n   124,\n   25,\n   5,\n   125,\n   24,\n   5,\n   128,\n   21,\n   5,\n   129,\n   20,\n   5,\n   130,\n   19,\n   5,\n   133,\n   16,\n   5,\n   134,\n   15,\n   5,\n   135,\n   14,\n   5,\n   138,\n   11,\n   5,\n   139,\n   10,\n   5,\n   140,\n   9,\n   5,\n   143,\n   6,\n   5,\n   144,\n   5,\n   5,\n   145,\n   4,\n   6,\n   7,\n   142,\n   6,\n   121,\n   28,\n   6,\n   126,\n   23,\n   6,\n   131,\n   18,\n   6,\n   136,\n   13,\n   6,\n   141,\n   8,\n   6,\n   146,\n   3,\n   7,\n   8,\n   141,\n   7,\n   100,\n   49,\n   8,\n   9,\n   140,\n   8,\n   98,\n   51,\n   8,\n   101,\n   48,\n   8,\n   111,\n   38,\n   9,\n   10,\n   139,\n   9,\n   88,\n   61,\n   9,\n   89,\n   60,\n   9,\n   99,\n   50,\n   9,\n   102,\n   47,\n   9,\n   109,\n   40,\n   10,\n   11,\n   138,\n   10,\n   16,\n   133,\n   10,\n   87,\n   62,\n   10,\n   90,\n   59,\n   10,\n   91,\n   58,\n   10,\n   93,\n   56,\n   10,\n   94,\n   55,\n   10,\n   95,\n   54,\n   10,\n   96,\n   53,\n   10,\n   97,\n   52,\n   10,\n   103,\n   46,\n   10,\n   104,\n   45,\n   10,\n   105,\n   44,\n   10,\n   106,\n   43,\n   10,\n   110,\n   39,\n   11,\n   12,\n   137,\n   11,\n   14,\n   135,\n   11,\n   15,\n   134,\n   11,\n   17,\n   132,\n   11,\n   52,\n   97,\n   11,\n   92,\n   57,\n   11,\n   107,\n   42,\n   11,\n   108,\n   41,\n   12,\n   13,\n   136,\n   12,\n   18,\n   131,\n   12,\n   23,\n   126,\n   12,\n   37,\n   112,\n   12,\n   43,\n   106,\n   12,\n   44,\n   105,\n   12,\n   45,\n   104,\n   12,\n   53,\n   96,\n   12,\n   58,\n   91,\n   12,\n   72,\n   77,\n   12,\n   78,\n   71,\n   12,\n   79,\n   70,\n   12,\n   80,\n   69,\n   13,\n   19,\n   130,\n   13,\n   24,\n   125,\n   13,\n   25,\n   124,\n   13,\n   26,\n   123,\n   13,\n   27,\n   122,\n   13,\n   28,\n   121,\n   13,\n   29,\n   120,\n   13,\n   31,\n   118,\n   13,\n   38,\n   111,\n   13,\n   39,\n   110,\n   13,\n   40,\n   109,\n   13,\n   41,\n   108,\n   13,\n   42,\n   107,\n   13,\n   46,\n   103,\n   13,\n   54,\n   95,\n   13,\n   59,\n   90,\n   13,\n   60,\n   89,\n   13,\n   61,\n   88,\n   13,\n   62,\n   87,\n   13,\n   63,\n   86,\n   13,\n   64,\n   85,\n   13,\n   66,\n   83,\n   13,\n   73,\n   76,\n   13,\n   74,\n   75,\n   13,\n   75,\n   74,\n   13,\n   76,\n   73,\n   13,\n   77,\n   72,\n   13,\n   81,\n   68,\n   14,\n   20,\n   129,\n   14,\n   22,\n   127,\n   14,\n   30,\n   119,\n   14,\n   32,\n   117,\n   14,\n   33,\n   116,\n   14,\n   47,\n   102,\n   14,\n   48,\n   101,\n   14,\n   55,\n   94,\n   14,\n   57,\n   92,\n   14,\n   65,\n   84,\n   14,\n   67,\n   82,\n   14,\n   68,\n   81,\n   14,\n   82,\n   67,\n   14,\n   83,\n   66,\n   15,\n   21,\n   128,\n   15,\n   34,\n   115,\n   15,\n   35,\n   114,\n   15,\n   36,\n   113,\n   15,\n   49,\n   100,\n   15,\n   50,\n   99,\n   15,\n   51,\n   98,\n   15,\n   56,\n   93,\n   15,\n   69,\n   80,\n   15,\n   70,\n   79,\n   15,\n   71,\n   78,\n   15,\n   84,\n   65,\n   15,\n   85,\n   64,\n   15,\n   86,\n   63,\n   0,\n   0,\n   0,\n   0,\n   0,\n   0,\n   0,\n   0,\n   0,\n   0,\n   0,\n   0,\n   0,\n   0,\n   0,\n   0,\n   0,\n   0,\n   0,\n   0,\n   0,\n   0,\n   0,\n   0,\n   0,\n   0,\n   0,\n   0,\n   0,\n   0,\n   0,\n   0,\n   0,\n   0,\n   0,\n   0,\n   0,\n   0,\n   0,\n   0,\n   0,\n   0,\n   0,\n   0,\n   0,\n   0,\n   0,\n   0,\n   0,\n   0,\n   0,\n   0,\n   0,\n   0,\n   0,\n   0]},\n {'x': 0.8536567274885032,\n  'y': 0.09212283044058744,\n  'obj_dom_pos': [1,\n   1,\n   146,\n   2,\n   2,\n   145,\n   2,\n   145,\n   2,\n   2,\n   146,\n   1,\n   3,\n   3,\n   144,\n   3,\n   110,\n   37,\n   4,\n   4,\n   143,\n   4,\n   111,\n   36,\n   4,\n   115,\n   32,\n   4,\n   120,\n   27,\n   4,\n   125,\n   22,\n   4,\n   130,\n   17,\n   4,\n   135,\n   12,\n   4,\n   140,\n   7,\n   5,\n   5,\n   142,\n   5,\n   6,\n   141,\n   5,\n   112,\n   35,\n   5,\n   113,\n   34,\n   5,\n   114,\n   33,\n   5,\n   116,\n   31,\n   5,\n   117,\n   30,\n   5,\n   118,\n   29,\n   5,\n   121,\n   26,\n   5,\n   122,\n   25,\n   5,\n   123,\n   24,\n   5,\n   126,\n   21,\n   5,\n   127,\n   20,\n   5,\n   128,\n   19,\n   5,\n   131,\n   16,\n   5,\n   132,\n   15,\n   5,\n   133,\n   14,\n   5,\n   136,\n   11,\n   5,\n   137,\n   10,\n   5,\n   138,\n   9,\n   5,\n   141,\n   6,\n   5,\n   142,\n   5,\n   5,\n   143,\n   4,\n   6,\n   7,\n   140,\n   6,\n   119,\n   28,\n   6,\n   124,\n   23,\n   6,\n   129,\n   18,\n   6,\n   134,\n   13,\n   6,\n   139,\n   8,\n   6,\n   144,\n   3,\n   7,\n   8,\n   139,\n   7,\n   98,\n   49,\n   8,\n   9,\n   138,\n   8,\n   99,\n   48,\n   8,\n   109,\n   38,\n   9,\n   10,\n   137,\n   9,\n   88,\n   59,\n   9,\n   89,\n   58,\n   9,\n   100,\n   47,\n   9,\n   107,\n   40,\n   10,\n   11,\n   136,\n   10,\n   16,\n   131,\n   10,\n   87,\n   60,\n   10,\n   90,\n   57,\n   10,\n   91,\n   56,\n   10,\n   93,\n   54,\n   10,\n   94,\n   53,\n   10,\n   95,\n   52,\n   10,\n   96,\n   51,\n   10,\n   97,\n   50,\n   10,\n   101,\n   46,\n   10,\n   102,\n   45,\n   10,\n   103,\n   44,\n   10,\n   104,\n   43,\n   10,\n   108,\n   39,\n   11,\n   12,\n   135,\n   11,\n   14,\n   133,\n   11,\n   15,\n   132,\n   11,\n   17,\n   130,\n   11,\n   52,\n   95,\n   11,\n   92,\n   55,\n   11,\n   105,\n   42,\n   11,\n   106,\n   41,\n   12,\n   13,\n   134,\n   12,\n   18,\n   129,\n   12,\n   23,\n   124,\n   12,\n   37,\n   110,\n   12,\n   43,\n   104,\n   12,\n   44,\n   103,\n   12,\n   45,\n   102,\n   12,\n   53,\n   94,\n   12,\n   58,\n   89,\n   12,\n   72,\n   75,\n   12,\n   78,\n   69,\n   12,\n   79,\n   68,\n   12,\n   80,\n   67,\n   13,\n   19,\n   128,\n   13,\n   24,\n   123,\n   13,\n   25,\n   122,\n   13,\n   26,\n   121,\n   13,\n   27,\n   120,\n   13,\n   28,\n   119,\n   13,\n   29,\n   118,\n   13,\n   31,\n   116,\n   13,\n   38,\n   109,\n   13,\n   39,\n   108,\n   13,\n   40,\n   107,\n   13,\n   41,\n   106,\n   13,\n   42,\n   105,\n   13,\n   46,\n   101,\n   13,\n   54,\n   93,\n   13,\n   59,\n   88,\n   13,\n   60,\n   87,\n   13,\n   61,\n   86,\n   13,\n   62,\n   85,\n   13,\n   63,\n   84,\n   13,\n   64,\n   83,\n   13,\n   66,\n   81,\n   13,\n   73,\n   74,\n   13,\n   74,\n   73,\n   13,\n   75,\n   72,\n   13,\n   76,\n   71,\n   13,\n   77,\n   70,\n   13,\n   81,\n   66,\n   14,\n   20,\n   127,\n   14,\n   22,\n   125,\n   14,\n   30,\n   117,\n   14,\n   32,\n   115,\n   14,\n   33,\n   114,\n   14,\n   47,\n   100,\n   14,\n   48,\n   99,\n   14,\n   55,\n   92,\n   14,\n   57,\n   90,\n   14,\n   65,\n   82,\n   14,\n   67,\n   80,\n   14,\n   68,\n   79,\n   14,\n   82,\n   65,\n   14,\n   83,\n   64,\n   15,\n   21,\n   126,\n   15,\n   34,\n   113,\n   15,\n   35,\n   112,\n   15,\n   36,\n   111,\n   15,\n   49,\n   98,\n   15,\n   50,\n   97,\n   15,\n   51,\n   96,\n   15,\n   56,\n   91,\n   15,\n   69,\n   78,\n   15,\n   70,\n   77,\n   15,\n   71,\n   76,\n   15,\n   84,\n   63,\n   15,\n   85,\n   62,\n   15,\n   86,\n   61,\n   0,\n   0,\n   0,\n   0,\n   0,\n   0,\n   0,\n   0,\n   0,\n   0,\n   0,\n   0,\n   0,\n   0,\n   0,\n   0,\n   0,\n   0,\n   0,\n   0,\n   0,\n   0,\n   0,\n   0,\n   0,\n   0,\n   0,\n   0,\n   0,\n   0,\n   0,\n   0,\n   0,\n   0,\n   0,\n   0,\n   0,\n   0,\n   0,\n   0,\n   0,\n   0,\n   0,\n   0,\n   0,\n   0,\n   0,\n   0,\n   0,\n   0,\n   0,\n   0,\n   0,\n   0,\n   0,\n   0,\n   0,\n   0,\n   0,\n   0,\n   0,\n   0]},\n {'x': 0.2317905355288533,\n  'y': 0.520694259012016,\n  'obj_dom_pos': [1,\n   1,\n   97,\n   2,\n   2,\n   96,\n   2,\n   96,\n   2,\n   2,\n   97,\n   1,\n   3,\n   3,\n   95,\n   3,\n   61,\n   37,\n   4,\n   4,\n   94,\n   4,\n   62,\n   36,\n   4,\n   66,\n   32,\n   4,\n   71,\n   27,\n   4,\n   76,\n   22,\n   4,\n   81,\n   17,\n   4,\n   86,\n   12,\n   4,\n   91,\n   7,\n   5,\n   5,\n   93,\n   5,\n   6,\n   92,\n   5,\n   63,\n   35,\n   5,\n   64,\n   34,\n   5,\n   65,\n   33,\n   5,\n   67,\n   31,\n   5,\n   68,\n   30,\n   5,\n   69,\n   29,\n   5,\n   72,\n   26,\n   5,\n   73,\n   25,\n   5,\n   74,\n   24,\n   5,\n   77,\n   21,\n   5,\n   78,\n   20,\n   5,\n   79,\n   19,\n   5,\n   82,\n   16,\n   5,\n   83,\n   15,\n   5,\n   84,\n   14,\n   5,\n   87,\n   11,\n   5,\n   88,\n   10,\n   5,\n   89,\n   9,\n   5,\n   92,\n   6,\n   5,\n   93,\n   5,\n   5,\n   94,\n   4,\n   6,\n   7,\n   91,\n   6,\n   70,\n   28,\n   6,\n   75,\n   23,\n   6,\n   80,\n   18,\n   6,\n   85,\n   13,\n   6,\n   90,\n   8,\n   6,\n   95,\n   3,\n   7,\n   8,\n   90,\n   7,\n   54,\n   44,\n   8,\n   9,\n   89,\n   8,\n   55,\n   43,\n   8,\n   60,\n   38,\n   9,\n   10,\n   88,\n   9,\n   15,\n   83,\n   9,\n   56,\n   42,\n   9,\n   59,\n   39,\n   10,\n   11,\n   87,\n   10,\n   12,\n   86,\n   10,\n   13,\n   85,\n   10,\n   14,\n   84,\n   10,\n   16,\n   82,\n   10,\n   45,\n   53,\n   10,\n   50,\n   48,\n   10,\n   57,\n   41,\n   10,\n   58,\n   40,\n   11,\n   17,\n   81,\n   11,\n   31,\n   67,\n   11,\n   46,\n   52,\n   11,\n   51,\n   47,\n   11,\n   52,\n   46,\n   11,\n   53,\n   45,\n   12,\n   18,\n   80,\n   12,\n   19,\n   79,\n   12,\n   20,\n   78,\n   12,\n   21,\n   77,\n   12,\n   22,\n   76,\n   12,\n   23,\n   75,\n   12,\n   24,\n   74,\n   12,\n   26,\n   72,\n   12,\n   27,\n   71,\n   12,\n   32,\n   66,\n   12,\n   33,\n   65,\n   12,\n   47,\n   51,\n   12,\n   48,\n   50,\n   12,\n   49,\n   49,\n   13,\n   25,\n   73,\n   13,\n   28,\n   70,\n   13,\n   29,\n   69,\n   13,\n   30,\n   68,\n   13,\n   34,\n   64,\n   13,\n   39,\n   59,\n   13,\n   40,\n   58,\n   13,\n   41,\n   57,\n   14,\n   35,\n   63,\n   14,\n   42,\n   56,\n   14,\n   43,\n   55,\n   14,\n   44,\n   54,\n   15,\n   36,\n   62,\n   15,\n   37,\n   61,\n   15,\n   38,\n   60,\n   0,\n   0,\n   0,\n   0,\n   0,\n   0,\n   0,\n   0,\n   0,\n   0,\n   0,\n   0,\n   0,\n   0,\n   0,\n   0,\n   0,\n   0,\n   0,\n   0,\n   0,\n   0,\n   0,\n   0,\n   0,\n   0,\n   0,\n   0,\n   0,\n   0,\n   0,\n   0,\n   0,\n   0,\n   0,\n   0,\n   0,\n   0,\n   0,\n   0,\n   0,\n   0,\n   0,\n   0,\n   0,\n   0,\n   0,\n   0,\n   0,\n   0,\n   0,\n   0,\n   0,\n   0,\n   0,\n   0,\n   0,\n   0,\n   0,\n   0,\n   0,\n   0,\n   0,\n   0,\n   0,\n   0,\n   0,\n   0,\n   0,\n   0,\n   0,\n   0,\n   0,\n   0,\n   0,\n   0,\n   0,\n   0,\n   0,\n   0,\n   0,\n   0,\n   0,\n   0,\n   0,\n   0,\n   0,\n   0,\n   0,\n   0,\n   0,\n   0,\n   0,\n   0,\n   0,\n   0,\n   0,\n   0,\n   0,\n   0,\n   0,\n   0,\n   0,\n   0,\n   0,\n   0,\n   0,\n   0,\n   0,\n   0,\n   0,\n   0,\n   0,\n   0,\n   0,\n   0,\n   0,\n   0,\n   0,\n   0,\n   0,\n   0,\n   0,\n   0,\n   0,\n   0,\n   0,\n   0,\n   0,\n   0,\n   0,\n   0,\n   0,\n   0,\n   0,\n   0,\n   0,\n   0,\n   0,\n   0,\n   0,\n   0,\n   0,\n   0,\n   0,\n   0,\n   0,\n   0,\n   0,\n   0,\n   0,\n   0,\n   0,\n   0,\n   0,\n   0,\n   0,\n   0,\n   0,\n   0,\n   0,\n   0,\n   0,\n   0,\n   0,\n   0,\n   0,\n   0,\n   0,\n   0,\n   0,\n   0,\n   0,\n   0,\n   0,\n   0,\n   0,\n   0,\n   0,\n   0,\n   0,\n   0,\n   0,\n   0,\n   0,\n   0,\n   0,\n   0,\n   0,\n   0,\n   0,\n   0,\n   0,\n   0,\n   0,\n   0,\n   0,\n   0,\n   0,\n   0,\n   0,\n   0,\n   0,\n   0,\n   0,\n   0,\n   0,\n   0,\n   0]},\n {'x': 0.8156801661474559,\n  'y': 0.08277703604806408,\n  'obj_dom_pos': [1,\n   1,\n   65,\n   2,\n   2,\n   64,\n   2,\n   64,\n   2,\n   2,\n   65,\n   1,\n   3,\n   3,\n   63,\n   3,\n   4,\n   62,\n   4,\n   5,\n   61,\n   5,\n   6,\n   60,\n   5,\n   51,\n   15,\n   6,\n   7,\n   59,\n   6,\n   52,\n   14,\n   6,\n   63,\n   3,\n   7,\n   8,\n   58,\n   7,\n   53,\n   13,\n   7,\n   60,\n   6,\n   8,\n   9,\n   57,\n   8,\n   45,\n   21,\n   8,\n   50,\n   16,\n   8,\n   54,\n   12,\n   8,\n   55,\n   11,\n   8,\n   56,\n   10,\n   8,\n   57,\n   9,\n   8,\n   61,\n   5,\n   8,\n   62,\n   4,\n   9,\n   10,\n   56,\n   9,\n   46,\n   20,\n   9,\n   47,\n   19,\n   9,\n   48,\n   18,\n   9,\n   49,\n   17,\n   9,\n   58,\n   8,\n   9,\n   59,\n   7,\n   10,\n   11,\n   55,\n   10,\n   16,\n   50,\n   10,\n   30,\n   36,\n   10,\n   36,\n   30,\n   10,\n   37,\n   29,\n   10,\n   38,\n   28,\n   11,\n   12,\n   54,\n   11,\n   17,\n   49,\n   11,\n   18,\n   48,\n   11,\n   19,\n   47,\n   11,\n   20,\n   46,\n   11,\n   21,\n   45,\n   11,\n   22,\n   44,\n   11,\n   24,\n   42,\n   11,\n   31,\n   35,\n   11,\n   32,\n   34,\n   11,\n   33,\n   33,\n   11,\n   34,\n   32,\n   11,\n   35,\n   31,\n   11,\n   39,\n   27,\n   12,\n   13,\n   53,\n   12,\n   15,\n   51,\n   12,\n   23,\n   43,\n   12,\n   25,\n   41,\n   12,\n   26,\n   40,\n   12,\n   40,\n   26,\n   12,\n   41,\n   25,\n   13,\n   14,\n   52,\n   13,\n   27,\n   39,\n   13,\n   28,\n   38,\n   13,\n   29,\n   37,\n   13,\n   42,\n   24,\n   13,\n   43,\n   23,\n   13,\n   44,\n   22,\n   0,\n   0,\n   0,\n   0,\n   0,\n   0,\n   0,\n   0,\n   0,\n   0,\n   0,\n   0,\n   0,\n   0,\n   0,\n   0,\n   0,\n   0,\n   0,\n   0,\n   0,\n   0,\n   0,\n   0,\n   0,\n   0,\n   0,\n   0,\n   0,\n   0,\n   0,\n   0,\n   0,\n   0,\n   0,\n   0,\n   0,\n   0,\n   0,\n   0,\n   0,\n   0,\n   0,\n   0,\n   0,\n   0,\n   0,\n   0,\n   0,\n   0,\n   0,\n   0,\n   0,\n   0,\n   0,\n   0,\n   0,\n   0,\n   0,\n   0,\n   0,\n   0,\n   0,\n   0,\n   0,\n   0,\n   0,\n   0,\n   0,\n   0,\n   0,\n   0,\n   0,\n   0,\n   0,\n   0,\n   0,\n   0,\n   0,\n   0,\n   0,\n   0,\n   0,\n   0,\n   0,\n   0,\n   0,\n   0,\n   0,\n   0,\n   0,\n   0,\n   0,\n   0,\n   0,\n   0,\n   0,\n   0,\n   0,\n   0,\n   0,\n   0,\n   0,\n   0,\n   0,\n   0,\n   0,\n   0,\n   0,\n   0,\n   0,\n   0,\n   0,\n   0,\n   0,\n   0,\n   0,\n   0,\n   0,\n   0,\n   0,\n   0,\n   0,\n   0,\n   0,\n   0,\n   0,\n   0,\n   0,\n   0,\n   0,\n   0,\n   0,\n   0,\n   0,\n   0,\n   0,\n   0,\n   0,\n   0,\n   0,\n   0,\n   0,\n   0,\n   0,\n   0,\n   0,\n   0,\n   0,\n   0,\n   0,\n   0,\n   0,\n   0,\n   0,\n   0,\n   0,\n   0,\n   0,\n   0,\n   0,\n   0,\n   0,\n   0,\n   0,\n   0,\n   0,\n   0,\n   0,\n   0,\n   0,\n   0,\n   0,\n   0,\n   0,\n   0,\n   0,\n   0,\n   0,\n   0,\n   0,\n   0,\n   0,\n   0,\n   0,\n   0,\n   0,\n   0,\n   0,\n   0,\n   0,\n   0,\n   0,\n   0,\n   0,\n   0,\n   0,\n   0,\n   0,\n   0,\n   0,\n   0,\n   0,\n   0,\n   0,\n   0,\n   0,\n   0,\n   0,\n   0,\n   0,\n   0,\n   0,\n   0,\n   0,\n   0,\n   0,\n   0,\n   0,\n   0,\n   0,\n   0,\n   0,\n   0,\n   0,\n   0,\n   0,\n   0,\n   0,\n   0,\n   0,\n   0,\n   0,\n   0,\n   0,\n   0,\n   0,\n   0,\n   0,\n   0,\n   0,\n   0,\n   0,\n   0,\n   0,\n   0,\n   0,\n   0,\n   0,\n   0,\n   0,\n   0,\n   0,\n   0,\n   0,\n   0,\n   0,\n   0,\n   0,\n   0,\n   0,\n   0,\n   0,\n   0,\n   0,\n   0,\n   0,\n   0,\n   0,\n   0,\n   0,\n   0,\n   0,\n   0,\n   0,\n   0,\n   0,\n   0,\n   0,\n   0,\n   0,\n   0,\n   0,\n   0,\n   0,\n   0,\n   0,\n   0,\n   0,\n   0,\n   0,\n   0,\n   0,\n   0,\n   0,\n   0,\n   0,\n   0,\n   0,\n   0,\n   0,\n   0,\n   0,\n   0,\n   0]},\n {'x': 0.20568164960688326,\n  'y': 0.7409879839786382,\n  'obj_dom_pos': [1,\n   1,\n   31,\n   2,\n   2,\n   30,\n   3,\n   3,\n   29,\n   3,\n   4,\n   28,\n   4,\n   5,\n   27,\n   5,\n   6,\n   26,\n   6,\n   7,\n   25,\n   7,\n   8,\n   24,\n   7,\n   11,\n   21,\n   7,\n   14,\n   18,\n   7,\n   17,\n   15,\n   7,\n   20,\n   12,\n   7,\n   23,\n   9,\n   7,\n   26,\n   6,\n   7,\n   29,\n   3,\n   8,\n   9,\n   23,\n   8,\n   10,\n   22,\n   8,\n   12,\n   20,\n   8,\n   13,\n   19,\n   8,\n   15,\n   17,\n   8,\n   16,\n   16,\n   8,\n   18,\n   14,\n   8,\n   19,\n   13,\n   8,\n   21,\n   11,\n   8,\n   22,\n   10,\n   8,\n   24,\n   8,\n   8,\n   25,\n   7,\n   8,\n   27,\n   5,\n   8,\n   28,\n   4,\n   8,\n   30,\n   2,\n   8,\n   31,\n   1,\n   0,\n   0,\n   0,\n   0,\n   0,\n   0,\n   0,\n   0,\n   0,\n   0,\n   0,\n   0,\n   0,\n   0,\n   0,\n   0,\n   0,\n   0,\n   0,\n   0,\n   0,\n   0,\n   0,\n   0,\n   0,\n   0,\n   0,\n   0,\n   0,\n   0,\n   0,\n   0,\n   0,\n   0,\n   0,\n   0,\n   0,\n   0,\n   0,\n   0,\n   0,\n   0,\n   0,\n   0,\n   0,\n   0,\n   0,\n   0,\n   0,\n   0,\n   0,\n   0,\n   0,\n   0,\n   0,\n   0,\n   0,\n   0,\n   0,\n   0,\n   0,\n   0,\n   0,\n   0,\n   0,\n   0,\n   0,\n   0,\n   0,\n   0,\n   0,\n   0,\n   0,\n   0,\n   0,\n   0,\n   0,\n   0,\n   0,\n   0,\n   0,\n   0,\n   0,\n   0,\n   0,\n   0,\n   0,\n   0,\n   0,\n   0,\n   0,\n   0,\n   0,\n   0,\n   0,\n   0,\n   0,\n   0,\n   0,\n   0,\n   0,\n   0,\n   0,\n   0,\n   0,\n   0,\n   0,\n   0,\n   0,\n   0,\n   0,\n   0,\n   0,\n   0,\n   0,\n   0,\n   0,\n   0,\n   0,\n   0,\n   0,\n   0,\n   0,\n   0,\n   0,\n   0,\n   0,\n   0,\n   0,\n   0,\n   0,\n   0,\n   0,\n   0,\n   0,\n   0,\n   0,\n   0,\n   0,\n   0,\n   0,\n   0,\n   0,\n   0,\n   0,\n   0,\n   0,\n   0,\n   0,\n   0,\n   0,\n   0,\n   0,\n   0,\n   0,\n   0,\n   0,\n   0,\n   0,\n   0,\n   0,\n   0,\n   0,\n   0,\n   0,\n   0,\n   0,\n   0,\n   0,\n   0,\n   0,\n   0,\n   0,\n   0,\n   0,\n   0,\n   0,\n   0,\n   0,\n   0,\n   0,\n   0,\n   0,\n   0,\n   0,\n   0,\n   0,\n   0,\n   0,\n   0,\n   0,\n   0,\n   0,\n   0,\n   0,\n   0,\n   0,\n   0,\n   0,\n   0,\n   0,\n   0,\n   0,\n   0,\n   0,\n   0,\n   0,\n   0,\n   0,\n   0,\n   0,\n   0,\n   0,\n   0,\n   0,\n   0,\n   0,\n   0,\n   0,\n   0,\n   0,\n   0,\n   0,\n   0,\n   0,\n   0,\n   0,\n   0,\n   0,\n   0,\n   0,\n   0,\n   0,\n   0,\n   0,\n   0,\n   0,\n   0,\n   0,\n   0,\n   0,\n   0,\n   0,\n   0,\n   0,\n   0,\n   0,\n   0,\n   0,\n   0,\n   0,\n   0,\n   0,\n   0,\n   0,\n   0,\n   0,\n   0,\n   0,\n   0,\n   0,\n   0,\n   0,\n   0,\n   0,\n   0,\n   0,\n   0,\n   0,\n   0,\n   0,\n   0,\n   0,\n   0,\n   0,\n   0,\n   0,\n   0,\n   0,\n   0,\n   0,\n   0,\n   0,\n   0,\n   0,\n   0,\n   0,\n   0,\n   0,\n   0,\n   0,\n   0,\n   0,\n   0,\n   0,\n   0,\n   0,\n   0,\n   0,\n   0,\n   0,\n   0,\n   0,\n   0,\n   0,\n   0,\n   0,\n   0,\n   0,\n   0,\n   0,\n   0,\n   0,\n   0,\n   0,\n   0,\n   0,\n   0,\n   0,\n   0,\n   0,\n   0,\n   0,\n   0,\n   0,\n   0,\n   0,\n   0,\n   0,\n   0,\n   0,\n   0,\n   0,\n   0,\n   0,\n   0,\n   0,\n   0,\n   0,\n   0,\n   0,\n   0,\n   0,\n   0,\n   0,\n   0,\n   0,\n   0,\n   0,\n   0,\n   0,\n   0,\n   0,\n   0,\n   0,\n   0,\n   0,\n   0,\n   0,\n   0,\n   0,\n   0,\n   0,\n   0,\n   0,\n   0,\n   0,\n   0,\n   0,\n   0,\n   0,\n   0,\n   0,\n   0,\n   0,\n   0,\n   0,\n   0,\n   0,\n   0,\n   0,\n   0,\n   0,\n   0,\n   0,\n   0,\n   0,\n   0,\n   0,\n   0,\n   0,\n   0,\n   0,\n   0,\n   0,\n   0,\n   0,\n   0,\n   0,\n   0,\n   0,\n   0,\n   0,\n   0,\n   0,\n   0,\n   0]},\n {'x': 0.08225782524847945,\n  'y': 0.06675567423230974,\n  'obj_dom_pos': [1,\n   1,\n   109,\n   2,\n   2,\n   108,\n   2,\n   108,\n   2,\n   2,\n   109,\n   1,\n   3,\n   3,\n   107,\n   3,\n   73,\n   37,\n   4,\n   4,\n   106,\n   4,\n   74,\n   36,\n   4,\n   78,\n   32,\n   4,\n   83,\n   27,\n   4,\n   88,\n   22,\n   4,\n   93,\n   17,\n   4,\n   98,\n   12,\n   4,\n   103,\n   7,\n   5,\n   5,\n   105,\n   5,\n   6,\n   104,\n   5,\n   75,\n   35,\n   5,\n   76,\n   34,\n   5,\n   77,\n   33,\n   5,\n   79,\n   31,\n   5,\n   80,\n   30,\n   5,\n   81,\n   29,\n   5,\n   84,\n   26,\n   5,\n   85,\n   25,\n   5,\n   86,\n   24,\n   5,\n   89,\n   21,\n   5,\n   90,\n   20,\n   5,\n   91,\n   19,\n   5,\n   94,\n   16,\n   5,\n   95,\n   15,\n   5,\n   96,\n   14,\n   5,\n   99,\n   11,\n   5,\n   100,\n   10,\n   5,\n   101,\n   9,\n   5,\n   104,\n   6,\n   5,\n   105,\n   5,\n   5,\n   106,\n   4,\n   6,\n   7,\n   103,\n   6,\n   82,\n   28,\n   6,\n   87,\n   23,\n   6,\n   92,\n   18,\n   6,\n   97,\n   13,\n   6,\n   102,\n   8,\n   6,\n   107,\n   3,\n   7,\n   8,\n   102,\n   7,\n   60,\n   50,\n   8,\n   9,\n   101,\n   8,\n   61,\n   49,\n   8,\n   72,\n   38,\n   9,\n   10,\n   100,\n   9,\n   59,\n   51,\n   9,\n   62,\n   48,\n   9,\n   69,\n   41,\n   10,\n   11,\n   99,\n   10,\n   23,\n   87,\n   10,\n   35,\n   75,\n   10,\n   47,\n   63,\n   10,\n   63,\n   47,\n   10,\n   64,\n   46,\n   10,\n   65,\n   45,\n   10,\n   66,\n   44,\n   10,\n   70,\n   40,\n   10,\n   71,\n   39,\n   11,\n   12,\n   98,\n   11,\n   15,\n   95,\n   11,\n   24,\n   86,\n   11,\n   27,\n   83,\n   11,\n   36,\n   74,\n   11,\n   39,\n   71,\n   11,\n   48,\n   62,\n   11,\n   51,\n   59,\n   11,\n   67,\n   43,\n   11,\n   68,\n   42,\n   12,\n   13,\n   97,\n   12,\n   16,\n   94,\n   12,\n   17,\n   93,\n   12,\n   18,\n   92,\n   12,\n   21,\n   89,\n   12,\n   22,\n   88,\n   12,\n   25,\n   85,\n   12,\n   28,\n   82,\n   12,\n   29,\n   81,\n   12,\n   30,\n   80,\n   12,\n   33,\n   77,\n   12,\n   34,\n   76,\n   12,\n   37,\n   73,\n   12,\n   40,\n   70,\n   12,\n   41,\n   69,\n   12,\n   42,\n   68,\n   12,\n   45,\n   65,\n   12,\n   46,\n   64,\n   12,\n   49,\n   61,\n   12,\n   52,\n   58,\n   12,\n   53,\n   57,\n   12,\n   54,\n   56,\n   12,\n   57,\n   53,\n   12,\n   58,\n   52,\n   13,\n   14,\n   96,\n   13,\n   19,\n   91,\n   13,\n   20,\n   90,\n   13,\n   26,\n   84,\n   13,\n   31,\n   79,\n   13,\n   32,\n   78,\n   13,\n   38,\n   72,\n   13,\n   43,\n   67,\n   13,\n   44,\n   66,\n   13,\n   50,\n   60,\n   13,\n   55,\n   55,\n   13,\n   56,\n   54,\n   0,\n   0,\n   0,\n   0,\n   0,\n   0,\n   0,\n   0,\n   0,\n   0,\n   0,\n   0,\n   0,\n   0,\n   0,\n   0,\n   0,\n   0,\n   0,\n   0,\n   0,\n   0,\n   0,\n   0,\n   0,\n   0,\n   0,\n   0,\n   0,\n   0,\n   0,\n   0,\n   0,\n   0,\n   0,\n   0,\n   0,\n   0,\n   0,\n   0,\n   0,\n   0,\n   0,\n   0,\n   0,\n   0,\n   0,\n   0,\n   0,\n   0,\n   0,\n   0,\n   0,\n   0,\n   0,\n   0,\n   0,\n   0,\n   0,\n   0,\n   0,\n   0,\n   0,\n   0,\n   0,\n   0,\n   0,\n   0,\n   0,\n   0,\n   0,\n   0,\n   0,\n   0,\n   0,\n   0,\n   0,\n   0,\n   0,\n   0,\n   0,\n   0,\n   0,\n   0,\n   0,\n   0,\n   0,\n   0,\n   0,\n   0,\n   0,\n   0,\n   0,\n   0,\n   0,\n   0,\n   0,\n   0,\n   0,\n   0,\n   0,\n   0,\n   0,\n   0,\n   0,\n   0,\n   0,\n   0,\n   0,\n   0,\n   0,\n   0,\n   0,\n   0,\n   0,\n   0,\n   0,\n   0,\n   0,\n   0,\n   0,\n   0,\n   0,\n   0,\n   0,\n   0,\n   0,\n   0,\n   0,\n   0,\n   0,\n   0,\n   0,\n   0,\n   0,\n   0,\n   0,\n   0,\n   0,\n   0,\n   0,\n   0,\n   0,\n   0,\n   0,\n   0,\n   0,\n   0,\n   0,\n   0,\n   0,\n   0,\n   0,\n   0,\n   0,\n   0,\n   0,\n   0,\n   0,\n   0,\n   0,\n   0,\n   0,\n   0,\n   0,\n   0,\n   0,\n   0,\n   0,\n   0,\n   0,\n   0,\n   0]},\n {'x': 0.29112891262423973,\n  'y': 0.30173564753004006,\n  'obj_dom_pos': [1,\n   1,\n   109,\n   2,\n   2,\n   108,\n   2,\n   108,\n   2,\n   2,\n   109,\n   1,\n   3,\n   3,\n   107,\n   3,\n   73,\n   37,\n   4,\n   4,\n   106,\n   4,\n   74,\n   36,\n   4,\n   78,\n   32,\n   4,\n   83,\n   27,\n   4,\n   88,\n   22,\n   4,\n   93,\n   17,\n   4,\n   98,\n   12,\n   4,\n   103,\n   7,\n   5,\n   5,\n   105,\n   5,\n   6,\n   104,\n   5,\n   75,\n   35,\n   5,\n   76,\n   34,\n   5,\n   77,\n   33,\n   5,\n   79,\n   31,\n   5,\n   80,\n   30,\n   5,\n   81,\n   29,\n   5,\n   84,\n   26,\n   5,\n   85,\n   25,\n   5,\n   86,\n   24,\n   5,\n   89,\n   21,\n   5,\n   90,\n   20,\n   5,\n   91,\n   19,\n   5,\n   94,\n   16,\n   5,\n   95,\n   15,\n   5,\n   96,\n   14,\n   5,\n   99,\n   11,\n   5,\n   100,\n   10,\n   5,\n   101,\n   9,\n   5,\n   104,\n   6,\n   5,\n   105,\n   5,\n   5,\n   106,\n   4,\n   6,\n   7,\n   103,\n   6,\n   82,\n   28,\n   6,\n   87,\n   23,\n   6,\n   92,\n   18,\n   6,\n   97,\n   13,\n   6,\n   102,\n   8,\n   6,\n   107,\n   3,\n   7,\n   8,\n   102,\n   7,\n   60,\n   50,\n   8,\n   9,\n   101,\n   8,\n   61,\n   49,\n   8,\n   72,\n   38,\n   9,\n   10,\n   100,\n   9,\n   59,\n   51,\n   9,\n   62,\n   48,\n   9,\n   69,\n   41,\n   10,\n   11,\n   99,\n   10,\n   23,\n   87,\n   10,\n   35,\n   75,\n   10,\n   47,\n   63,\n   10,\n   63,\n   47,\n   10,\n   64,\n   46,\n   10,\n   65,\n   45,\n   10,\n   66,\n   44,\n   10,\n   70,\n   40,\n   10,\n   71,\n   39,\n   11,\n   12,\n   98,\n   11,\n   15,\n   95,\n   11,\n   24,\n   86,\n   11,\n   27,\n   83,\n   11,\n   36,\n   74,\n   11,\n   39,\n   71,\n   11,\n   48,\n   62,\n   11,\n   51,\n   59,\n   11,\n   67,\n   43,\n   11,\n   68,\n   42,\n   12,\n   13,\n   97,\n   12,\n   16,\n   94,\n   12,\n   17,\n   93,\n   12,\n   18,\n   92,\n   12,\n   21,\n   89,\n   12,\n   22,\n   88,\n   12,\n   25,\n   85,\n   12,\n   28,\n   82,\n   12,\n   29,\n   81,\n   12,\n   30,\n   80,\n   12,\n   33,\n   77,\n   12,\n   34,\n   76,\n   12,\n   37,\n   73,\n   12,\n   40,\n   70,\n   12,\n   41,\n   69,\n   12,\n   42,\n   68,\n   12,\n   45,\n   65,\n   12,\n   46,\n   64,\n   12,\n   49,\n   61,\n   12,\n   52,\n   58,\n   12,\n   53,\n   57,\n   12,\n   54,\n   56,\n   12,\n   57,\n   53,\n   12,\n   58,\n   52,\n   13,\n   14,\n   96,\n   13,\n   19,\n   91,\n   13,\n   20,\n   90,\n   13,\n   26,\n   84,\n   13,\n   31,\n   79,\n   13,\n   32,\n   78,\n   13,\n   38,\n   72,\n   13,\n   43,\n   67,\n   13,\n   44,\n   66,\n   13,\n   50,\n   60,\n   13,\n   55,\n   55,\n   13,\n   56,\n   54,\n   0,\n   0,\n   0,\n   0,\n   0,\n   0,\n   0,\n   0,\n   0,\n   0,\n   0,\n   0,\n   0,\n   0,\n   0,\n   0,\n   0,\n   0,\n   0,\n   0,\n   0,\n   0,\n   0,\n   0,\n   0,\n   0,\n   0,\n   0,\n   0,\n   0,\n   0,\n   0,\n   0,\n   0,\n   0,\n   0,\n   0,\n   0,\n   0,\n   0,\n   0,\n   0,\n   0,\n   0,\n   0,\n   0,\n   0,\n   0,\n   0,\n   0,\n   0,\n   0,\n   0,\n   0,\n   0,\n   0,\n   0,\n   0,\n   0,\n   0,\n   0,\n   0,\n   0,\n   0,\n   0,\n   0,\n   0,\n   0,\n   0,\n   0,\n   0,\n   0,\n   0,\n   0,\n   0,\n   0,\n   0,\n   0,\n   0,\n   0,\n   0,\n   0,\n   0,\n   0,\n   0,\n   0,\n   0,\n   0,\n   0,\n   0,\n   0,\n   0,\n   0,\n   0,\n   0,\n   0,\n   0,\n   0,\n   0,\n   0,\n   0,\n   0,\n   0,\n   0,\n   0,\n   0,\n   0,\n   0,\n   0,\n   0,\n   0,\n   0,\n   0,\n   0,\n   0,\n   0,\n   0,\n   0,\n   0,\n   0,\n   0,\n   0,\n   0,\n   0,\n   0,\n   0,\n   0,\n   0,\n   0,\n   0,\n   0,\n   0,\n   0,\n   0,\n   0,\n   0,\n   0,\n   0,\n   0,\n   0,\n   0,\n   0,\n   0,\n   0,\n   0,\n   0,\n   0,\n   0,\n   0,\n   0,\n   0,\n   0,\n   0,\n   0,\n   0,\n   0,\n   0,\n   0,\n   0,\n   0,\n   0,\n   0,\n   0,\n   0,\n   0,\n   0,\n   0,\n   0,\n   0,\n   0,\n   0,\n   0,\n   0]},\n {'x': 0.25552588636700785,\n  'y': 0.1628838451268358,\n  'obj_dom_pos': [1,\n   1,\n   138,\n   2,\n   2,\n   137,\n   2,\n   137,\n   2,\n   2,\n   138,\n   1,\n   3,\n   3,\n   136,\n   3,\n   102,\n   37,\n   4,\n   4,\n   135,\n   4,\n   103,\n   36,\n   4,\n   107,\n   32,\n   4,\n   112,\n   27,\n   4,\n   117,\n   22,\n   4,\n   122,\n   17,\n   4,\n   127,\n   12,\n   4,\n   132,\n   7,\n   5,\n   5,\n   134,\n   5,\n   6,\n   133,\n   5,\n   104,\n   35,\n   5,\n   105,\n   34,\n   5,\n   106,\n   33,\n   5,\n   108,\n   31,\n   5,\n   109,\n   30,\n   5,\n   110,\n   29,\n   5,\n   113,\n   26,\n   5,\n   114,\n   25,\n   5,\n   115,\n   24,\n   5,\n   118,\n   21,\n   5,\n   119,\n   20,\n   5,\n   120,\n   19,\n   5,\n   123,\n   16,\n   5,\n   124,\n   15,\n   5,\n   125,\n   14,\n   5,\n   128,\n   11,\n   5,\n   129,\n   10,\n   5,\n   130,\n   9,\n   5,\n   133,\n   6,\n   5,\n   134,\n   5,\n   5,\n   135,\n   4,\n   6,\n   7,\n   132,\n   6,\n   111,\n   28,\n   6,\n   116,\n   23,\n   6,\n   121,\n   18,\n   6,\n   126,\n   13,\n   6,\n   131,\n   8,\n   6,\n   136,\n   3,\n   7,\n   8,\n   131,\n   7,\n   90,\n   49,\n   8,\n   9,\n   130,\n   8,\n   91,\n   48,\n   8,\n   101,\n   38,\n   9,\n   10,\n   129,\n   9,\n   88,\n   51,\n   9,\n   89,\n   50,\n   9,\n   92,\n   47,\n   9,\n   99,\n   40,\n   10,\n   11,\n   128,\n   10,\n   16,\n   123,\n   10,\n   87,\n   52,\n   10,\n   93,\n   46,\n   10,\n   94,\n   45,\n   10,\n   95,\n   44,\n   10,\n   96,\n   43,\n   10,\n   100,\n   39,\n   11,\n   12,\n   127,\n   11,\n   14,\n   125,\n   11,\n   15,\n   124,\n   11,\n   17,\n   122,\n   11,\n   52,\n   87,\n   11,\n   97,\n   42,\n   11,\n   98,\n   41,\n   12,\n   13,\n   126,\n   12,\n   18,\n   121,\n   12,\n   23,\n   116,\n   12,\n   37,\n   102,\n   12,\n   43,\n   96,\n   12,\n   44,\n   95,\n   12,\n   45,\n   94,\n   12,\n   53,\n   86,\n   12,\n   58,\n   81,\n   12,\n   72,\n   67,\n   12,\n   78,\n   61,\n   12,\n   79,\n   60,\n   12,\n   80,\n   59,\n   13,\n   19,\n   120,\n   13,\n   24,\n   115,\n   13,\n   25,\n   114,\n   13,\n   26,\n   113,\n   13,\n   27,\n   112,\n   13,\n   28,\n   111,\n   13,\n   29,\n   110,\n   13,\n   31,\n   108,\n   13,\n   38,\n   101,\n   13,\n   39,\n   100,\n   13,\n   40,\n   99,\n   13,\n   41,\n   98,\n   13,\n   42,\n   97,\n   13,\n   46,\n   93,\n   13,\n   54,\n   85,\n   13,\n   59,\n   80,\n   13,\n   60,\n   79,\n   13,\n   61,\n   78,\n   13,\n   62,\n   77,\n   13,\n   63,\n   76,\n   13,\n   64,\n   75,\n   13,\n   66,\n   73,\n   13,\n   73,\n   66,\n   13,\n   74,\n   65,\n   13,\n   75,\n   64,\n   13,\n   76,\n   63,\n   13,\n   77,\n   62,\n   13,\n   81,\n   58,\n   14,\n   20,\n   119,\n   14,\n   22,\n   117,\n   14,\n   30,\n   109,\n   14,\n   32,\n   107,\n   14,\n   33,\n   106,\n   14,\n   47,\n   92,\n   14,\n   48,\n   91,\n   14,\n   55,\n   84,\n   14,\n   57,\n   82,\n   14,\n   65,\n   74,\n   14,\n   67,\n   72,\n   14,\n   68,\n   71,\n   14,\n   82,\n   57,\n   14,\n   83,\n   56,\n   15,\n   21,\n   118,\n   15,\n   34,\n   105,\n   15,\n   35,\n   104,\n   15,\n   36,\n   103,\n   15,\n   49,\n   90,\n   15,\n   50,\n   89,\n   15,\n   51,\n   88,\n   15,\n   56,\n   83,\n   15,\n   69,\n   70,\n   15,\n   70,\n   69,\n   15,\n   71,\n   68,\n   15,\n   84,\n   55,\n   15,\n   85,\n   54,\n   15,\n   86,\n   53,\n   0,\n   0,\n   0,\n   0,\n   0,\n   0,\n   0,\n   0,\n   0,\n   0,\n   0,\n   0,\n   0,\n   0,\n   0,\n   0,\n   0,\n   0,\n   0,\n   0,\n   0,\n   0,\n   0,\n   0,\n   0,\n   0,\n   0,\n   0,\n   0,\n   0,\n   0,\n   0,\n   0,\n   0,\n   0,\n   0,\n   0,\n   0,\n   0,\n   0,\n   0,\n   0,\n   0,\n   0,\n   0,\n   0,\n   0,\n   0,\n   0,\n   0,\n   0,\n   0,\n   0,\n   0,\n   0,\n   0,\n   0,\n   0,\n   0,\n   0,\n   0,\n   0,\n   0,\n   0,\n   0,\n   0,\n   0,\n   0,\n   0,\n   0,\n   0,\n   0,\n   0,\n   0,\n   0,\n   0,\n   0,\n   0,\n   0,\n   0,\n   0,\n   0,\n   0,\n   0,\n   0,\n   0]},\n {'x': 0.9343569203382287,\n  'y': 0.15220293724966621,\n  'obj_dom_pos': [44,\n   185,\n   11,\n   50,\n   179,\n   11,\n   55,\n   174,\n   11,\n   60,\n   169,\n   11,\n   66,\n   163,\n   11,\n   88,\n   141,\n   11,\n   89,\n   140,\n   11,\n   90,\n   139,\n   11,\n   93,\n   136,\n   11,\n   106,\n   123,\n   11,\n   141,\n   88,\n   11,\n   142,\n   87,\n   11,\n   149,\n   80,\n   11,\n   151,\n   78,\n   11,\n   205,\n   24,\n   12,\n   15,\n   214,\n   12,\n   16,\n   213,\n   12,\n   18,\n   211,\n   12,\n   33,\n   196,\n   12,\n   34,\n   195,\n   12,\n   38,\n   191,\n   12,\n   39,\n   190,\n   12,\n   40,\n   189,\n   12,\n   45,\n   184,\n   12,\n   46,\n   183,\n   12,\n   47,\n   182,\n   12,\n   51,\n   178,\n   12,\n   56,\n   173,\n   12,\n   61,\n   168,\n   12,\n   67,\n   162,\n   12,\n   68,\n   161,\n   12,\n   69,\n   160,\n   12,\n   75,\n   154,\n   12,\n   79,\n   150,\n   12,\n   81,\n   148,\n   12,\n   94,\n   135,\n   12,\n   95,\n   134,\n   12,\n   96,\n   133,\n   12,\n   99,\n   130,\n   12,\n   107,\n   122,\n   12,\n   113,\n   116,\n   12,\n   120,\n   109,\n   12,\n   127,\n   102,\n   12,\n   134,\n   95,\n   12,\n   143,\n   86,\n   12,\n   144,\n   85,\n   12,\n   150,\n   79,\n   12,\n   152,\n   77,\n   12,\n   206,\n   23,\n   13,\n   52,\n   177,\n   13,\n   53,\n   176,\n   13,\n   54,\n   175,\n   13,\n   57,\n   172,\n   13,\n   58,\n   171,\n   13,\n   59,\n   170,\n   13,\n   62,\n   167,\n   13,\n   63,\n   166,\n   13,\n   64,\n   165,\n   13,\n   70,\n   159,\n   13,\n   71,\n   158,\n   13,\n   72,\n   157,\n   13,\n   73,\n   156,\n   13,\n   74,\n   155,\n   13,\n   76,\n   153,\n   13,\n   77,\n   152,\n   13,\n   78,\n   151,\n   13,\n   80,\n   149,\n   13,\n   82,\n   147,\n   13,\n   83,\n   146,\n   13,\n   97,\n   132,\n   13,\n   98,\n   131,\n   13,\n   100,\n   129,\n   13,\n   101,\n   128,\n   13,\n   102,\n   127,\n   13,\n   108,\n   121,\n   13,\n   109,\n   120,\n   13,\n   114,\n   115,\n   13,\n   115,\n   114,\n   13,\n   121,\n   108,\n   13,\n   122,\n   107,\n   13,\n   128,\n   101,\n   13,\n   129,\n   100,\n   13,\n   135,\n   94,\n   13,\n   136,\n   93,\n   13,\n   145,\n   84,\n   13,\n   146,\n   83,\n   13,\n   147,\n   82,\n   13,\n   153,\n   76,\n   13,\n   155,\n   74,\n   13,\n   158,\n   71,\n   13,\n   161,\n   68,\n   13,\n   164,\n   65,\n   13,\n   167,\n   62,\n   13,\n   170,\n   59,\n   13,\n   173,\n   56,\n   13,\n   176,\n   53,\n   13,\n   179,\n   50,\n   13,\n   182,\n   47,\n   13,\n   185,\n   44,\n   13,\n   188,\n   41,\n   13,\n   191,\n   38,\n   13,\n   194,\n   35,\n   13,\n   197,\n   32,\n   13,\n   200,\n   29,\n   13,\n   203,\n   26,\n   13,\n   207,\n   22,\n   13,\n   208,\n   21,\n   13,\n   209,\n   20,\n   14,\n   84,\n   145,\n   14,\n   85,\n   144,\n   14,\n   86,\n   143,\n   14,\n   103,\n   126,\n   14,\n   104,\n   125,\n   14,\n   105,\n   124,\n   14,\n   110,\n   119,\n   14,\n   111,\n   118,\n   14,\n   112,\n   117,\n   14,\n   116,\n   113,\n   14,\n   118,\n   111,\n   14,\n   119,\n   110,\n   14,\n   123,\n   106,\n   14,\n   125,\n   104,\n   14,\n   126,\n   103,\n   14,\n   130,\n   99,\n   14,\n   132,\n   97,\n   14,\n   133,\n   96,\n   14,\n   137,\n   92,\n   14,\n   139,\n   90,\n   14,\n   140,\n   89,\n   14,\n   154,\n   75,\n   14,\n   156,\n   73,\n   14,\n   157,\n   72,\n   14,\n   159,\n   70,\n   14,\n   160,\n   69,\n   14,\n   162,\n   67,\n   14,\n   163,\n   66,\n   14,\n   165,\n   64,\n   14,\n   166,\n   63,\n   14,\n   168,\n   61,\n   14,\n   169,\n   60,\n   14,\n   171,\n   58,\n   14,\n   172,\n   57,\n   14,\n   174,\n   55,\n   14,\n   175,\n   54,\n   14,\n   177,\n   52,\n   14,\n   178,\n   51,\n   14,\n   180,\n   49,\n   14,\n   181,\n   48,\n   14,\n   183,\n   46,\n   14,\n   184,\n   45,\n   14,\n   186,\n   43,\n   14,\n   187,\n   42,\n   14,\n   189,\n   40,\n   14,\n   190,\n   39,\n   14,\n   192,\n   37,\n   14,\n   193,\n   36,\n   14,\n   195,\n   34,\n   14,\n   196,\n   33,\n   14,\n   198,\n   31,\n   14,\n   199,\n   30,\n   14,\n   201,\n   28,\n   14,\n   202,\n   27,\n   14,\n   204,\n   25,\n   15,\n   117,\n   112,\n   15,\n   124,\n   105,\n   15,\n   131,\n   98,\n   15,\n   138,\n   91]},\n {'x': 0.9391039905058597,\n  'y': 0.0814419225634179,\n  'obj_dom_pos': [26,\n   192,\n   11,\n   30,\n   188,\n   11,\n   31,\n   187,\n   11,\n   33,\n   185,\n   11,\n   39,\n   179,\n   11,\n   44,\n   174,\n   11,\n   49,\n   169,\n   11,\n   55,\n   163,\n   11,\n   77,\n   141,\n   11,\n   78,\n   140,\n   11,\n   79,\n   139,\n   11,\n   82,\n   136,\n   11,\n   95,\n   123,\n   11,\n   130,\n   88,\n   11,\n   131,\n   87,\n   11,\n   138,\n   80,\n   11,\n   140,\n   78,\n   11,\n   194,\n   24,\n   12,\n   22,\n   196,\n   12,\n   23,\n   195,\n   12,\n   27,\n   191,\n   12,\n   28,\n   190,\n   12,\n   29,\n   189,\n   12,\n   34,\n   184,\n   12,\n   35,\n   183,\n   12,\n   36,\n   182,\n   12,\n   40,\n   178,\n   12,\n   45,\n   173,\n   12,\n   50,\n   168,\n   12,\n   56,\n   162,\n   12,\n   57,\n   161,\n   12,\n   58,\n   160,\n   12,\n   64,\n   154,\n   12,\n   68,\n   150,\n   12,\n   70,\n   148,\n   12,\n   83,\n   135,\n   12,\n   84,\n   134,\n   12,\n   85,\n   133,\n   12,\n   88,\n   130,\n   12,\n   96,\n   122,\n   12,\n   102,\n   116,\n   12,\n   109,\n   109,\n   12,\n   116,\n   102,\n   12,\n   123,\n   95,\n   12,\n   132,\n   86,\n   12,\n   133,\n   85,\n   12,\n   139,\n   79,\n   12,\n   141,\n   77,\n   12,\n   195,\n   23,\n   13,\n   41,\n   177,\n   13,\n   42,\n   176,\n   13,\n   43,\n   175,\n   13,\n   46,\n   172,\n   13,\n   47,\n   171,\n   13,\n   48,\n   170,\n   13,\n   51,\n   167,\n   13,\n   52,\n   166,\n   13,\n   53,\n   165,\n   13,\n   59,\n   159,\n   13,\n   60,\n   158,\n   13,\n   61,\n   157,\n   13,\n   62,\n   156,\n   13,\n   63,\n   155,\n   13,\n   65,\n   153,\n   13,\n   66,\n   152,\n   13,\n   67,\n   151,\n   13,\n   69,\n   149,\n   13,\n   71,\n   147,\n   13,\n   72,\n   146,\n   13,\n   86,\n   132,\n   13,\n   87,\n   131,\n   13,\n   89,\n   129,\n   13,\n   90,\n   128,\n   13,\n   91,\n   127,\n   13,\n   97,\n   121,\n   13,\n   98,\n   120,\n   13,\n   103,\n   115,\n   13,\n   104,\n   114,\n   13,\n   110,\n   108,\n   13,\n   111,\n   107,\n   13,\n   117,\n   101,\n   13,\n   118,\n   100,\n   13,\n   124,\n   94,\n   13,\n   125,\n   93,\n   13,\n   134,\n   84,\n   13,\n   135,\n   83,\n   13,\n   136,\n   82,\n   13,\n   142,\n   76,\n   13,\n   144,\n   74,\n   13,\n   147,\n   71,\n   13,\n   150,\n   68,\n   13,\n   153,\n   65,\n   13,\n   156,\n   62,\n   13,\n   159,\n   59,\n   13,\n   162,\n   56,\n   13,\n   165,\n   53,\n   13,\n   168,\n   50,\n   13,\n   171,\n   47,\n   13,\n   174,\n   44,\n   13,\n   177,\n   41,\n   13,\n   180,\n   38,\n   13,\n   183,\n   35,\n   13,\n   186,\n   32,\n   13,\n   189,\n   29,\n   13,\n   192,\n   26,\n   13,\n   196,\n   22,\n   13,\n   197,\n   21,\n   13,\n   198,\n   20,\n   14,\n   73,\n   145,\n   14,\n   74,\n   144,\n   14,\n   75,\n   143,\n   14,\n   92,\n   126,\n   14,\n   93,\n   125,\n   14,\n   94,\n   124,\n   14,\n   99,\n   119,\n   14,\n   100,\n   118,\n   14,\n   101,\n   117,\n   14,\n   105,\n   113,\n   14,\n   107,\n   111,\n   14,\n   108,\n   110,\n   14,\n   112,\n   106,\n   14,\n   114,\n   104,\n   14,\n   115,\n   103,\n   14,\n   119,\n   99,\n   14,\n   121,\n   97,\n   14,\n   122,\n   96,\n   14,\n   126,\n   92,\n   14,\n   128,\n   90,\n   14,\n   129,\n   89,\n   14,\n   143,\n   75,\n   14,\n   145,\n   73,\n   14,\n   146,\n   72,\n   14,\n   148,\n   70,\n   14,\n   149,\n   69,\n   14,\n   151,\n   67,\n   14,\n   152,\n   66,\n   14,\n   154,\n   64,\n   14,\n   155,\n   63,\n   14,\n   157,\n   61,\n   14,\n   158,\n   60,\n   14,\n   160,\n   58,\n   14,\n   161,\n   57,\n   14,\n   163,\n   55,\n   14,\n   164,\n   54,\n   14,\n   166,\n   52,\n   14,\n   167,\n   51,\n   14,\n   169,\n   49,\n   14,\n   170,\n   48,\n   14,\n   172,\n   46,\n   14,\n   173,\n   45,\n   14,\n   175,\n   43,\n   14,\n   176,\n   42,\n   14,\n   178,\n   40,\n   14,\n   179,\n   39,\n   14,\n   181,\n   37,\n   14,\n   182,\n   36,\n   14,\n   184,\n   34,\n   14,\n   185,\n   33,\n   14,\n   187,\n   31,\n   14,\n   188,\n   30,\n   14,\n   190,\n   28,\n   14,\n   191,\n   27,\n   14,\n   193,\n   25,\n   15,\n   106,\n   112,\n   15,\n   113,\n   105,\n   15,\n   120,\n   98,\n   15,\n   127,\n   91]},\n {'x': 0.2033081145230678,\n  'y': 0.7610146862483311,\n  'obj_dom_pos': [1,\n   1,\n   31,\n   2,\n   2,\n   30,\n   3,\n   3,\n   29,\n   3,\n   4,\n   28,\n   4,\n   5,\n   27,\n   5,\n   6,\n   26,\n   6,\n   7,\n   25,\n   7,\n   8,\n   24,\n   7,\n   11,\n   21,\n   7,\n   14,\n   18,\n   7,\n   17,\n   15,\n   7,\n   20,\n   12,\n   7,\n   23,\n   9,\n   7,\n   26,\n   6,\n   7,\n   29,\n   3,\n   8,\n   9,\n   23,\n   8,\n   10,\n   22,\n   8,\n   12,\n   20,\n   8,\n   13,\n   19,\n   8,\n   15,\n   17,\n   8,\n   16,\n   16,\n   8,\n   18,\n   14,\n   8,\n   19,\n   13,\n   8,\n   21,\n   11,\n   8,\n   22,\n   10,\n   8,\n   24,\n   8,\n   8,\n   25,\n   7,\n   8,\n   27,\n   5,\n   8,\n   28,\n   4,\n   8,\n   30,\n   2,\n   8,\n   31,\n   1,\n   0,\n   0,\n   0,\n   0,\n   0,\n   0,\n   0,\n   0,\n   0,\n   0,\n   0,\n   0,\n   0,\n   0,\n   0,\n   0,\n   0,\n   0,\n   0,\n   0,\n   0,\n   0,\n   0,\n   0,\n   0,\n   0,\n   0,\n   0,\n   0,\n   0,\n   0,\n   0,\n   0,\n   0,\n   0,\n   0,\n   0,\n   0,\n   0,\n   0,\n   0,\n   0,\n   0,\n   0,\n   0,\n   0,\n   0,\n   0,\n   0,\n   0,\n   0,\n   0,\n   0,\n   0,\n   0,\n   0,\n   0,\n   0,\n   0,\n   0,\n   0,\n   0,\n   0,\n   0,\n   0,\n   0,\n   0,\n   0,\n   0,\n   0,\n   0,\n   0,\n   0,\n   0,\n   0,\n   0,\n   0,\n   0,\n   0,\n   0,\n   0,\n   0,\n   0,\n   0,\n   0,\n   0,\n   0,\n   0,\n   0,\n   0,\n   0,\n   0,\n   0,\n   0,\n   0,\n   0,\n   0,\n   0,\n   0,\n   0,\n   0,\n   0,\n   0,\n   0,\n   0,\n   0,\n   0,\n   0,\n   0,\n   0,\n   0,\n   0,\n   0,\n   0,\n   0,\n   0,\n   0,\n   0,\n   0,\n   0,\n   0,\n   0,\n   0,\n   0,\n   0,\n   0,\n   0,\n   0,\n   0,\n   0,\n   0,\n   0,\n   0,\n   0,\n   0,\n   0,\n   0,\n   0,\n   0,\n   0,\n   0,\n   0,\n   0,\n   0,\n   0,\n   0,\n   0,\n   0,\n   0,\n   0,\n   0,\n   0,\n   0,\n   0,\n   0,\n   0,\n   0,\n   0,\n   0,\n   0,\n   0,\n   0,\n   0,\n   0,\n   0,\n   0,\n   0,\n   0,\n   0,\n   0,\n   0,\n   0,\n   0,\n   0,\n   0,\n   0,\n   0,\n   0,\n   0,\n   0,\n   0,\n   0,\n   0,\n   0,\n   0,\n   0,\n   0,\n   0,\n   0,\n   0,\n   0,\n   0,\n   0,\n   0,\n   0,\n   0,\n   0,\n   0,\n   0,\n   0,\n   0,\n   0,\n   0,\n   0,\n   0,\n   0,\n   0,\n   0,\n   0,\n   0,\n   0,\n   0,\n   0,\n   0,\n   0,\n   0,\n   0,\n   0,\n   0,\n   0,\n   0,\n   0,\n   0,\n   0,\n   0,\n   0,\n   0,\n   0,\n   0,\n   0,\n   0,\n   0,\n   0,\n   0,\n   0,\n   0,\n   0,\n   0,\n   0,\n   0,\n   0,\n   0,\n   0,\n   0,\n   0,\n   0,\n   0,\n   0,\n   0,\n   0,\n   0,\n   0,\n   0,\n   0,\n   0,\n   0,\n   0,\n   0,\n   0,\n   0,\n   0,\n   0,\n   0,\n   0,\n   0,\n   0,\n   0,\n   0,\n   0,\n   0,\n   0,\n   0,\n   0,\n   0,\n   0,\n   0,\n   0,\n   0,\n   0,\n   0,\n   0,\n   0,\n   0,\n   0,\n   0,\n   0,\n   0,\n   0,\n   0,\n   0,\n   0,\n   0,\n   0,\n   0,\n   0,\n   0,\n   0,\n   0,\n   0,\n   0,\n   0,\n   0,\n   0,\n   0,\n   0,\n   0,\n   0,\n   0,\n   0,\n   0,\n   0,\n   0,\n   0,\n   0,\n   0,\n   0,\n   0,\n   0,\n   0,\n   0,\n   0,\n   0,\n   0,\n   0,\n   0,\n   0,\n   0,\n   0,\n   0,\n   0,\n   0,\n   0,\n   0,\n   0,\n   0,\n   0,\n   0,\n   0,\n   0,\n   0,\n   0,\n   0,\n   0,\n   0,\n   0,\n   0,\n   0,\n   0,\n   0,\n   0,\n   0,\n   0,\n   0,\n   0,\n   0,\n   0,\n   0,\n   0,\n   0,\n   0,\n   0,\n   0,\n   0,\n   0,\n   0,\n   0,\n   0,\n   0,\n   0,\n   0,\n   0,\n   0,\n   0,\n   0,\n   0,\n   0,\n   0,\n   0,\n   0,\n   0,\n   0,\n   0,\n   0,\n   0,\n   0,\n   0,\n   0,\n   0,\n   0,\n   0,\n   0,\n   0,\n   0,\n   0,\n   0,\n   0,\n   0,\n   0,\n   0,\n   0,\n   0,\n   0,\n   0,\n   0,\n   0,\n   0,\n   0]},\n {'x': 0.41929980715027443,\n  'y': 0.37917222963951935,\n  'obj_dom_pos': [20,\n   195,\n   11,\n   21,\n   194,\n   11,\n   24,\n   191,\n   11,\n   26,\n   189,\n   11,\n   30,\n   185,\n   11,\n   31,\n   184,\n   11,\n   33,\n   182,\n   11,\n   39,\n   176,\n   11,\n   44,\n   171,\n   11,\n   49,\n   166,\n   11,\n   55,\n   160,\n   11,\n   77,\n   138,\n   11,\n   78,\n   137,\n   11,\n   79,\n   136,\n   11,\n   82,\n   133,\n   11,\n   95,\n   120,\n   11,\n   127,\n   88,\n   11,\n   128,\n   87,\n   11,\n   135,\n   80,\n   11,\n   137,\n   78,\n   11,\n   191,\n   24,\n   12,\n   22,\n   193,\n   12,\n   23,\n   192,\n   12,\n   27,\n   188,\n   12,\n   28,\n   187,\n   12,\n   29,\n   186,\n   12,\n   34,\n   181,\n   12,\n   35,\n   180,\n   12,\n   36,\n   179,\n   12,\n   40,\n   175,\n   12,\n   45,\n   170,\n   12,\n   50,\n   165,\n   12,\n   56,\n   159,\n   12,\n   57,\n   158,\n   12,\n   58,\n   157,\n   12,\n   64,\n   151,\n   12,\n   68,\n   147,\n   12,\n   70,\n   145,\n   12,\n   83,\n   132,\n   12,\n   84,\n   131,\n   12,\n   85,\n   130,\n   12,\n   88,\n   127,\n   12,\n   96,\n   119,\n   12,\n   103,\n   112,\n   12,\n   110,\n   105,\n   12,\n   117,\n   98,\n   12,\n   124,\n   91,\n   12,\n   129,\n   86,\n   12,\n   130,\n   85,\n   12,\n   136,\n   79,\n   12,\n   138,\n   77,\n   12,\n   192,\n   23,\n   13,\n   41,\n   174,\n   13,\n   42,\n   173,\n   13,\n   43,\n   172,\n   13,\n   46,\n   169,\n   13,\n   47,\n   168,\n   13,\n   48,\n   167,\n   13,\n   51,\n   164,\n   13,\n   52,\n   163,\n   13,\n   53,\n   162,\n   13,\n   59,\n   156,\n   13,\n   60,\n   155,\n   13,\n   61,\n   154,\n   13,\n   62,\n   153,\n   13,\n   63,\n   152,\n   13,\n   65,\n   150,\n   13,\n   66,\n   149,\n   13,\n   67,\n   148,\n   13,\n   69,\n   146,\n   13,\n   71,\n   144,\n   13,\n   72,\n   143,\n   13,\n   86,\n   129,\n   13,\n   87,\n   128,\n   13,\n   89,\n   126,\n   13,\n   90,\n   125,\n   13,\n   91,\n   124,\n   13,\n   97,\n   118,\n   13,\n   98,\n   117,\n   13,\n   104,\n   111,\n   13,\n   105,\n   110,\n   13,\n   111,\n   104,\n   13,\n   112,\n   103,\n   13,\n   118,\n   97,\n   13,\n   119,\n   96,\n   13,\n   125,\n   90,\n   13,\n   126,\n   89,\n   13,\n   131,\n   84,\n   13,\n   132,\n   83,\n   13,\n   133,\n   82,\n   13,\n   139,\n   76,\n   13,\n   141,\n   74,\n   13,\n   144,\n   71,\n   13,\n   147,\n   68,\n   13,\n   150,\n   65,\n   13,\n   153,\n   62,\n   13,\n   156,\n   59,\n   13,\n   159,\n   56,\n   13,\n   162,\n   53,\n   13,\n   165,\n   50,\n   13,\n   168,\n   47,\n   13,\n   171,\n   44,\n   13,\n   174,\n   41,\n   13,\n   177,\n   38,\n   13,\n   180,\n   35,\n   13,\n   183,\n   32,\n   13,\n   186,\n   29,\n   13,\n   189,\n   26,\n   13,\n   193,\n   22,\n   13,\n   194,\n   21,\n   13,\n   195,\n   20,\n   14,\n   73,\n   142,\n   14,\n   74,\n   141,\n   14,\n   75,\n   140,\n   14,\n   92,\n   123,\n   14,\n   93,\n   122,\n   14,\n   94,\n   121,\n   14,\n   99,\n   116,\n   14,\n   101,\n   114,\n   14,\n   102,\n   113,\n   14,\n   106,\n   109,\n   14,\n   108,\n   107,\n   14,\n   109,\n   106,\n   14,\n   113,\n   102,\n   14,\n   115,\n   100,\n   14,\n   116,\n   99,\n   14,\n   120,\n   95,\n   14,\n   122,\n   93,\n   14,\n   123,\n   92,\n   14,\n   140,\n   75,\n   14,\n   142,\n   73,\n   14,\n   143,\n   72,\n   14,\n   145,\n   70,\n   14,\n   146,\n   69,\n   14,\n   148,\n   67,\n   14,\n   149,\n   66,\n   14,\n   151,\n   64,\n   14,\n   152,\n   63,\n   14,\n   154,\n   61,\n   14,\n   155,\n   60,\n   14,\n   157,\n   58,\n   14,\n   158,\n   57,\n   14,\n   160,\n   55,\n   14,\n   161,\n   54,\n   14,\n   163,\n   52,\n   14,\n   164,\n   51,\n   14,\n   166,\n   49,\n   14,\n   167,\n   48,\n   14,\n   169,\n   46,\n   14,\n   170,\n   45,\n   14,\n   172,\n   43,\n   14,\n   173,\n   42,\n   14,\n   175,\n   40,\n   14,\n   176,\n   39,\n   14,\n   178,\n   37,\n   14,\n   179,\n   36,\n   14,\n   181,\n   34,\n   14,\n   182,\n   33,\n   14,\n   184,\n   31,\n   14,\n   185,\n   30,\n   14,\n   187,\n   28,\n   14,\n   188,\n   27,\n   14,\n   190,\n   25,\n   15,\n   100,\n   115,\n   15,\n   107,\n   108,\n   15,\n   114,\n   101,\n   15,\n   121,\n   94]},\n {'x': 0.43591455273698265,\n  'y': 0.7610146862483311,\n  'obj_dom_pos': [128,\n   105,\n   11,\n   135,\n   98,\n   11,\n   137,\n   96,\n   11,\n   191,\n   42,\n   11,\n   197,\n   36,\n   11,\n   203,\n   30,\n   11,\n   209,\n   24,\n   12,\n   22,\n   211,\n   12,\n   23,\n   210,\n   12,\n   27,\n   206,\n   12,\n   28,\n   205,\n   12,\n   29,\n   204,\n   12,\n   34,\n   199,\n   12,\n   35,\n   198,\n   12,\n   36,\n   197,\n   12,\n   40,\n   193,\n   12,\n   45,\n   188,\n   12,\n   50,\n   183,\n   12,\n   56,\n   177,\n   12,\n   57,\n   176,\n   12,\n   58,\n   175,\n   12,\n   64,\n   169,\n   12,\n   68,\n   165,\n   12,\n   70,\n   163,\n   12,\n   83,\n   150,\n   12,\n   84,\n   149,\n   12,\n   85,\n   148,\n   12,\n   88,\n   145,\n   12,\n   96,\n   137,\n   12,\n   103,\n   130,\n   12,\n   110,\n   123,\n   12,\n   117,\n   116,\n   12,\n   124,\n   109,\n   12,\n   129,\n   104,\n   12,\n   130,\n   103,\n   12,\n   136,\n   97,\n   12,\n   138,\n   95,\n   12,\n   192,\n   41,\n   12,\n   198,\n   35,\n   12,\n   202,\n   31,\n   12,\n   204,\n   29,\n   12,\n   208,\n   25,\n   12,\n   210,\n   23,\n   13,\n   41,\n   192,\n   13,\n   42,\n   191,\n   13,\n   43,\n   190,\n   13,\n   46,\n   187,\n   13,\n   47,\n   186,\n   13,\n   48,\n   185,\n   13,\n   51,\n   182,\n   13,\n   52,\n   181,\n   13,\n   53,\n   180,\n   13,\n   59,\n   174,\n   13,\n   60,\n   173,\n   13,\n   61,\n   172,\n   13,\n   62,\n   171,\n   13,\n   63,\n   170,\n   13,\n   65,\n   168,\n   13,\n   66,\n   167,\n   13,\n   67,\n   166,\n   13,\n   69,\n   164,\n   13,\n   71,\n   162,\n   13,\n   72,\n   161,\n   13,\n   86,\n   147,\n   13,\n   87,\n   146,\n   13,\n   89,\n   144,\n   13,\n   90,\n   143,\n   13,\n   91,\n   142,\n   13,\n   97,\n   136,\n   13,\n   98,\n   135,\n   13,\n   104,\n   129,\n   13,\n   105,\n   128,\n   13,\n   111,\n   122,\n   13,\n   112,\n   121,\n   13,\n   118,\n   115,\n   13,\n   119,\n   114,\n   13,\n   125,\n   108,\n   13,\n   126,\n   107,\n   13,\n   131,\n   102,\n   13,\n   132,\n   101,\n   13,\n   133,\n   100,\n   13,\n   139,\n   94,\n   13,\n   141,\n   92,\n   13,\n   144,\n   89,\n   13,\n   147,\n   86,\n   13,\n   150,\n   83,\n   13,\n   153,\n   80,\n   13,\n   156,\n   77,\n   13,\n   159,\n   74,\n   13,\n   162,\n   71,\n   13,\n   165,\n   68,\n   13,\n   168,\n   65,\n   13,\n   171,\n   62,\n   13,\n   174,\n   59,\n   13,\n   177,\n   56,\n   13,\n   180,\n   53,\n   13,\n   183,\n   50,\n   13,\n   186,\n   47,\n   13,\n   189,\n   44,\n   13,\n   193,\n   40,\n   13,\n   194,\n   39,\n   13,\n   195,\n   38,\n   13,\n   199,\n   34,\n   13,\n   200,\n   33,\n   13,\n   201,\n   32,\n   13,\n   205,\n   28,\n   13,\n   206,\n   27,\n   13,\n   207,\n   26,\n   13,\n   211,\n   22,\n   13,\n   212,\n   21,\n   13,\n   213,\n   20,\n   14,\n   73,\n   160,\n   14,\n   74,\n   159,\n   14,\n   75,\n   158,\n   14,\n   92,\n   141,\n   14,\n   93,\n   140,\n   14,\n   94,\n   139,\n   14,\n   99,\n   134,\n   14,\n   101,\n   132,\n   14,\n   102,\n   131,\n   14,\n   106,\n   127,\n   14,\n   108,\n   125,\n   14,\n   109,\n   124,\n   14,\n   113,\n   120,\n   14,\n   115,\n   118,\n   14,\n   116,\n   117,\n   14,\n   120,\n   113,\n   14,\n   122,\n   111,\n   14,\n   123,\n   110,\n   14,\n   140,\n   93,\n   14,\n   142,\n   91,\n   14,\n   143,\n   90,\n   14,\n   145,\n   88,\n   14,\n   146,\n   87,\n   14,\n   148,\n   85,\n   14,\n   149,\n   84,\n   14,\n   151,\n   82,\n   14,\n   152,\n   81,\n   14,\n   154,\n   79,\n   14,\n   155,\n   78,\n   14,\n   157,\n   76,\n   14,\n   158,\n   75,\n   14,\n   160,\n   73,\n   14,\n   161,\n   72,\n   14,\n   163,\n   70,\n   14,\n   164,\n   69,\n   14,\n   166,\n   67,\n   14,\n   167,\n   66,\n   14,\n   169,\n   64,\n   14,\n   170,\n   63,\n   14,\n   172,\n   61,\n   14,\n   173,\n   60,\n   14,\n   175,\n   58,\n   14,\n   176,\n   57,\n   14,\n   178,\n   55,\n   14,\n   179,\n   54,\n   14,\n   181,\n   52,\n   14,\n   182,\n   51,\n   14,\n   184,\n   49,\n   14,\n   185,\n   48,\n   14,\n   187,\n   46,\n   14,\n   188,\n   45,\n   14,\n   190,\n   43,\n   15,\n   100,\n   133,\n   15,\n   107,\n   126,\n   15,\n   114,\n   119,\n   15,\n   121,\n   112]},\n {'x': 0.5237353508381546,\n  'y': 0.6475300400534045,\n  'obj_dom_pos': [8,\n   172,\n   7,\n   13,\n   167,\n   7,\n   162,\n   18,\n   7,\n   164,\n   16,\n   7,\n   169,\n   11,\n   7,\n   176,\n   4,\n   8,\n   9,\n   171,\n   8,\n   14,\n   166,\n   8,\n   17,\n   163,\n   8,\n   161,\n   19,\n   8,\n   163,\n   17,\n   8,\n   165,\n   15,\n   8,\n   166,\n   14,\n   8,\n   170,\n   10,\n   8,\n   171,\n   9,\n   8,\n   172,\n   8,\n   8,\n   173,\n   7,\n   9,\n   10,\n   170,\n   9,\n   12,\n   168,\n   9,\n   15,\n   165,\n   9,\n   16,\n   164,\n   9,\n   18,\n   162,\n   9,\n   37,\n   143,\n   9,\n   80,\n   100,\n   9,\n   174,\n   6,\n   9,\n   175,\n   5,\n   10,\n   11,\n   169,\n   10,\n   19,\n   161,\n   10,\n   25,\n   155,\n   10,\n   32,\n   148,\n   10,\n   38,\n   142,\n   10,\n   54,\n   126,\n   10,\n   76,\n   104,\n   10,\n   81,\n   99,\n   10,\n   143,\n   37,\n   11,\n   20,\n   160,\n   11,\n   21,\n   159,\n   11,\n   24,\n   156,\n   11,\n   26,\n   154,\n   11,\n   30,\n   150,\n   11,\n   31,\n   149,\n   11,\n   33,\n   147,\n   11,\n   39,\n   141,\n   11,\n   44,\n   136,\n   11,\n   49,\n   131,\n   11,\n   55,\n   125,\n   11,\n   77,\n   103,\n   11,\n   78,\n   102,\n   11,\n   79,\n   101,\n   11,\n   82,\n   98,\n   11,\n   84,\n   96,\n   11,\n   138,\n   42,\n   11,\n   144,\n   36,\n   11,\n   150,\n   30,\n   11,\n   156,\n   24,\n   12,\n   22,\n   158,\n   12,\n   23,\n   157,\n   12,\n   27,\n   153,\n   12,\n   28,\n   152,\n   12,\n   29,\n   151,\n   12,\n   34,\n   146,\n   12,\n   35,\n   145,\n   12,\n   36,\n   144,\n   12,\n   40,\n   140,\n   12,\n   45,\n   135,\n   12,\n   50,\n   130,\n   12,\n   56,\n   124,\n   12,\n   57,\n   123,\n   12,\n   58,\n   122,\n   12,\n   64,\n   116,\n   12,\n   68,\n   112,\n   12,\n   70,\n   110,\n   12,\n   83,\n   97,\n   12,\n   85,\n   95,\n   12,\n   139,\n   41,\n   12,\n   145,\n   35,\n   12,\n   149,\n   31,\n   12,\n   151,\n   29,\n   12,\n   155,\n   25,\n   12,\n   157,\n   23,\n   13,\n   41,\n   139,\n   13,\n   42,\n   138,\n   13,\n   43,\n   137,\n   13,\n   46,\n   134,\n   13,\n   47,\n   133,\n   13,\n   48,\n   132,\n   13,\n   51,\n   129,\n   13,\n   52,\n   128,\n   13,\n   53,\n   127,\n   13,\n   59,\n   121,\n   13,\n   60,\n   120,\n   13,\n   61,\n   119,\n   13,\n   62,\n   118,\n   13,\n   63,\n   117,\n   13,\n   65,\n   115,\n   13,\n   66,\n   114,\n   13,\n   67,\n   113,\n   13,\n   69,\n   111,\n   13,\n   71,\n   109,\n   13,\n   72,\n   108,\n   13,\n   86,\n   94,\n   13,\n   88,\n   92,\n   13,\n   91,\n   89,\n   13,\n   94,\n   86,\n   13,\n   97,\n   83,\n   13,\n   100,\n   80,\n   13,\n   103,\n   77,\n   13,\n   106,\n   74,\n   13,\n   109,\n   71,\n   13,\n   112,\n   68,\n   13,\n   115,\n   65,\n   13,\n   118,\n   62,\n   13,\n   121,\n   59,\n   13,\n   124,\n   56,\n   13,\n   127,\n   53,\n   13,\n   130,\n   50,\n   13,\n   133,\n   47,\n   13,\n   136,\n   44,\n   13,\n   140,\n   40,\n   13,\n   141,\n   39,\n   13,\n   142,\n   38,\n   13,\n   146,\n   34,\n   13,\n   147,\n   33,\n   13,\n   148,\n   32,\n   13,\n   152,\n   28,\n   13,\n   153,\n   27,\n   13,\n   154,\n   26,\n   13,\n   158,\n   22,\n   13,\n   159,\n   21,\n   13,\n   160,\n   20,\n   14,\n   73,\n   107,\n   14,\n   74,\n   106,\n   14,\n   75,\n   105,\n   14,\n   87,\n   93,\n   14,\n   89,\n   91,\n   14,\n   90,\n   90,\n   14,\n   92,\n   88,\n   14,\n   93,\n   87,\n   14,\n   95,\n   85,\n   14,\n   96,\n   84,\n   14,\n   98,\n   82,\n   14,\n   99,\n   81,\n   14,\n   101,\n   79,\n   14,\n   102,\n   78,\n   14,\n   104,\n   76,\n   14,\n   105,\n   75,\n   14,\n   107,\n   73,\n   14,\n   108,\n   72,\n   14,\n   110,\n   70,\n   14,\n   111,\n   69,\n   14,\n   113,\n   67,\n   14,\n   114,\n   66,\n   14,\n   116,\n   64,\n   14,\n   117,\n   63,\n   14,\n   119,\n   61,\n   14,\n   120,\n   60,\n   14,\n   122,\n   58,\n   14,\n   123,\n   57,\n   14,\n   125,\n   55,\n   14,\n   126,\n   54,\n   14,\n   128,\n   52,\n   14,\n   129,\n   51,\n   14,\n   131,\n   49,\n   14,\n   132,\n   48,\n   14,\n   134,\n   46,\n   14,\n   135,\n   45,\n   14,\n   137,\n   43]},\n {'x': 0.9272363150867824,\n  'y': 0.5367156208277704,\n  'obj_dom_pos': [8,\n   172,\n   7,\n   13,\n   167,\n   7,\n   162,\n   18,\n   7,\n   164,\n   16,\n   7,\n   169,\n   11,\n   7,\n   176,\n   4,\n   8,\n   9,\n   171,\n   8,\n   14,\n   166,\n   8,\n   17,\n   163,\n   8,\n   161,\n   19,\n   8,\n   163,\n   17,\n   8,\n   165,\n   15,\n   8,\n   166,\n   14,\n   8,\n   170,\n   10,\n   8,\n   171,\n   9,\n   8,\n   172,\n   8,\n   8,\n   173,\n   7,\n   9,\n   10,\n   170,\n   9,\n   12,\n   168,\n   9,\n   15,\n   165,\n   9,\n   16,\n   164,\n   9,\n   18,\n   162,\n   9,\n   37,\n   143,\n   9,\n   80,\n   100,\n   9,\n   174,\n   6,\n   9,\n   175,\n   5,\n   10,\n   11,\n   169,\n   10,\n   19,\n   161,\n   10,\n   25,\n   155,\n   10,\n   32,\n   148,\n   10,\n   38,\n   142,\n   10,\n   54,\n   126,\n   10,\n   76,\n   104,\n   10,\n   81,\n   99,\n   10,\n   143,\n   37,\n   11,\n   20,\n   160,\n   11,\n   21,\n   159,\n   11,\n   24,\n   156,\n   11,\n   26,\n   154,\n   11,\n   30,\n   150,\n   11,\n   31,\n   149,\n   11,\n   33,\n   147,\n   11,\n   39,\n   141,\n   11,\n   44,\n   136,\n   11,\n   49,\n   131,\n   11,\n   55,\n   125,\n   11,\n   77,\n   103,\n   11,\n   78,\n   102,\n   11,\n   79,\n   101,\n   11,\n   82,\n   98,\n   11,\n   84,\n   96,\n   11,\n   138,\n   42,\n   11,\n   144,\n   36,\n   11,\n   150,\n   30,\n   11,\n   156,\n   24,\n   12,\n   22,\n   158,\n   12,\n   23,\n   157,\n   12,\n   27,\n   153,\n   12,\n   28,\n   152,\n   12,\n   29,\n   151,\n   12,\n   34,\n   146,\n   12,\n   35,\n   145,\n   12,\n   36,\n   144,\n   12,\n   40,\n   140,\n   12,\n   45,\n   135,\n   12,\n   50,\n   130,\n   12,\n   56,\n   124,\n   12,\n   57,\n   123,\n   12,\n   58,\n   122,\n   12,\n   64,\n   116,\n   12,\n   68,\n   112,\n   12,\n   70,\n   110,\n   12,\n   83,\n   97,\n   12,\n   85,\n   95,\n   12,\n   139,\n   41,\n   12,\n   145,\n   35,\n   12,\n   149,\n   31,\n   12,\n   151,\n   29,\n   12,\n   155,\n   25,\n   12,\n   157,\n   23,\n   13,\n   41,\n   139,\n   13,\n   42,\n   138,\n   13,\n   43,\n   137,\n   13,\n   46,\n   134,\n   13,\n   47,\n   133,\n   13,\n   48,\n   132,\n   13,\n   51,\n   129,\n   13,\n   52,\n   128,\n   13,\n   53,\n   127,\n   13,\n   59,\n   121,\n   13,\n   60,\n   120,\n   13,\n   61,\n   119,\n   13,\n   62,\n   118,\n   13,\n   63,\n   117,\n   13,\n   65,\n   115,\n   13,\n   66,\n   114,\n   13,\n   67,\n   113,\n   13,\n   69,\n   111,\n   13,\n   71,\n   109,\n   13,\n   72,\n   108,\n   13,\n   86,\n   94,\n   13,\n   88,\n   92,\n   13,\n   91,\n   89,\n   13,\n   94,\n   86,\n   13,\n   97,\n   83,\n   13,\n   100,\n   80,\n   13,\n   103,\n   77,\n   13,\n   106,\n   74,\n   13,\n   109,\n   71,\n   13,\n   112,\n   68,\n   13,\n   115,\n   65,\n   13,\n   118,\n   62,\n   13,\n   121,\n   59,\n   13,\n   124,\n   56,\n   13,\n   127,\n   53,\n   13,\n   130,\n   50,\n   13,\n   133,\n   47,\n   13,\n   136,\n   44,\n   13,\n   140,\n   40,\n   13,\n   141,\n   39,\n   13,\n   142,\n   38,\n   13,\n   146,\n   34,\n   13,\n   147,\n   33,\n   13,\n   148,\n   32,\n   13,\n   152,\n   28,\n   13,\n   153,\n   27,\n   13,\n   154,\n   26,\n   13,\n   158,\n   22,\n   13,\n   159,\n   21,\n   13,\n   160,\n   20,\n   14,\n   73,\n   107,\n   14,\n   74,\n   106,\n   14,\n   75,\n   105,\n   14,\n   87,\n   93,\n   14,\n   89,\n   91,\n   14,\n   90,\n   90,\n   14,\n   92,\n   88,\n   14,\n   93,\n   87,\n   14,\n   95,\n   85,\n   14,\n   96,\n   84,\n   14,\n   98,\n   82,\n   14,\n   99,\n   81,\n   14,\n   101,\n   79,\n   14,\n   102,\n   78,\n   14,\n   104,\n   76,\n   14,\n   105,\n   75,\n   14,\n   107,\n   73,\n   14,\n   108,\n   72,\n   14,\n   110,\n   70,\n   14,\n   111,\n   69,\n   14,\n   113,\n   67,\n   14,\n   114,\n   66,\n   14,\n   116,\n   64,\n   14,\n   117,\n   63,\n   14,\n   119,\n   61,\n   14,\n   120,\n   60,\n   14,\n   122,\n   58,\n   14,\n   123,\n   57,\n   14,\n   125,\n   55,\n   14,\n   126,\n   54,\n   14,\n   128,\n   52,\n   14,\n   129,\n   51,\n   14,\n   131,\n   49,\n   14,\n   132,\n   48,\n   14,\n   134,\n   46,\n   14,\n   135,\n   45,\n   14,\n   137,\n   43]},\n {'x': 0.9177421747515205,\n  'y': 0.08544726301735647,\n  'obj_dom_pos': [8,\n   172,\n   7,\n   13,\n   167,\n   7,\n   162,\n   18,\n   7,\n   164,\n   16,\n   7,\n   169,\n   11,\n   7,\n   176,\n   4,\n   8,\n   9,\n   171,\n   8,\n   14,\n   166,\n   8,\n   17,\n   163,\n   8,\n   161,\n   19,\n   8,\n   163,\n   17,\n   8,\n   165,\n   15,\n   8,\n   166,\n   14,\n   8,\n   170,\n   10,\n   8,\n   171,\n   9,\n   8,\n   172,\n   8,\n   8,\n   173,\n   7,\n   9,\n   10,\n   170,\n   9,\n   12,\n   168,\n   9,\n   15,\n   165,\n   9,\n   16,\n   164,\n   9,\n   18,\n   162,\n   9,\n   37,\n   143,\n   9,\n   80,\n   100,\n   9,\n   174,\n   6,\n   9,\n   175,\n   5,\n   10,\n   11,\n   169,\n   10,\n   19,\n   161,\n   10,\n   25,\n   155,\n   10,\n   32,\n   148,\n   10,\n   38,\n   142,\n   10,\n   54,\n   126,\n   10,\n   76,\n   104,\n   10,\n   81,\n   99,\n   10,\n   143,\n   37,\n   11,\n   20,\n   160,\n   11,\n   21,\n   159,\n   11,\n   24,\n   156,\n   11,\n   26,\n   154,\n   11,\n   30,\n   150,\n   11,\n   31,\n   149,\n   11,\n   33,\n   147,\n   11,\n   39,\n   141,\n   11,\n   44,\n   136,\n   11,\n   49,\n   131,\n   11,\n   55,\n   125,\n   11,\n   77,\n   103,\n   11,\n   78,\n   102,\n   11,\n   79,\n   101,\n   11,\n   82,\n   98,\n   11,\n   84,\n   96,\n   11,\n   138,\n   42,\n   11,\n   144,\n   36,\n   11,\n   150,\n   30,\n   11,\n   156,\n   24,\n   12,\n   22,\n   158,\n   12,\n   23,\n   157,\n   12,\n   27,\n   153,\n   12,\n   28,\n   152,\n   12,\n   29,\n   151,\n   12,\n   34,\n   146,\n   12,\n   35,\n   145,\n   12,\n   36,\n   144,\n   12,\n   40,\n   140,\n   12,\n   45,\n   135,\n   12,\n   50,\n   130,\n   12,\n   56,\n   124,\n   12,\n   57,\n   123,\n   12,\n   58,\n   122,\n   12,\n   64,\n   116,\n   12,\n   68,\n   112,\n   12,\n   70,\n   110,\n   12,\n   83,\n   97,\n   12,\n   85,\n   95,\n   12,\n   139,\n   41,\n   12,\n   145,\n   35,\n   12,\n   149,\n   31,\n   12,\n   151,\n   29,\n   12,\n   155,\n   25,\n   12,\n   157,\n   23,\n   13,\n   41,\n   139,\n   13,\n   42,\n   138,\n   13,\n   43,\n   137,\n   13,\n   46,\n   134,\n   13,\n   47,\n   133,\n   13,\n   48,\n   132,\n   13,\n   51,\n   129,\n   13,\n   52,\n   128,\n   13,\n   53,\n   127,\n   13,\n   59,\n   121,\n   13,\n   60,\n   120,\n   13,\n   61,\n   119,\n   13,\n   62,\n   118,\n   13,\n   63,\n   117,\n   13,\n   65,\n   115,\n   13,\n   66,\n   114,\n   13,\n   67,\n   113,\n   13,\n   69,\n   111,\n   13,\n   71,\n   109,\n   13,\n   72,\n   108,\n   13,\n   86,\n   94,\n   13,\n   88,\n   92,\n   13,\n   91,\n   89,\n   13,\n   94,\n   86,\n   13,\n   97,\n   83,\n   13,\n   100,\n   80,\n   13,\n   103,\n   77,\n   13,\n   106,\n   74,\n   13,\n   109,\n   71,\n   13,\n   112,\n   68,\n   13,\n   115,\n   65,\n   13,\n   118,\n   62,\n   13,\n   121,\n   59,\n   13,\n   124,\n   56,\n   13,\n   127,\n   53,\n   13,\n   130,\n   50,\n   13,\n   133,\n   47,\n   13,\n   136,\n   44,\n   13,\n   140,\n   40,\n   13,\n   141,\n   39,\n   13,\n   142,\n   38,\n   13,\n   146,\n   34,\n   13,\n   147,\n   33,\n   13,\n   148,\n   32,\n   13,\n   152,\n   28,\n   13,\n   153,\n   27,\n   13,\n   154,\n   26,\n   13,\n   158,\n   22,\n   13,\n   159,\n   21,\n   13,\n   160,\n   20,\n   14,\n   73,\n   107,\n   14,\n   74,\n   106,\n   14,\n   75,\n   105,\n   14,\n   87,\n   93,\n   14,\n   89,\n   91,\n   14,\n   90,\n   90,\n   14,\n   92,\n   88,\n   14,\n   93,\n   87,\n   14,\n   95,\n   85,\n   14,\n   96,\n   84,\n   14,\n   98,\n   82,\n   14,\n   99,\n   81,\n   14,\n   101,\n   79,\n   14,\n   102,\n   78,\n   14,\n   104,\n   76,\n   14,\n   105,\n   75,\n   14,\n   107,\n   73,\n   14,\n   108,\n   72,\n   14,\n   110,\n   70,\n   14,\n   111,\n   69,\n   14,\n   113,\n   67,\n   14,\n   114,\n   66,\n   14,\n   116,\n   64,\n   14,\n   117,\n   63,\n   14,\n   119,\n   61,\n   14,\n   120,\n   60,\n   14,\n   122,\n   58,\n   14,\n   123,\n   57,\n   14,\n   125,\n   55,\n   14,\n   126,\n   54,\n   14,\n   128,\n   52,\n   14,\n   129,\n   51,\n   14,\n   131,\n   49,\n   14,\n   132,\n   48,\n   14,\n   134,\n   46,\n   14,\n   135,\n   45,\n   14,\n   137,\n   43]},\n {'x': 0.9414775255896751,\n  'y': 0.2910547396528705,\n  'obj_dom_pos': [1,\n   1,\n   97,\n   2,\n   2,\n   96,\n   2,\n   96,\n   2,\n   2,\n   97,\n   1,\n   3,\n   3,\n   95,\n   3,\n   61,\n   37,\n   4,\n   4,\n   94,\n   4,\n   62,\n   36,\n   4,\n   66,\n   32,\n   4,\n   71,\n   27,\n   4,\n   76,\n   22,\n   4,\n   81,\n   17,\n   4,\n   86,\n   12,\n   4,\n   91,\n   7,\n   5,\n   5,\n   93,\n   5,\n   6,\n   92,\n   5,\n   63,\n   35,\n   5,\n   64,\n   34,\n   5,\n   65,\n   33,\n   5,\n   67,\n   31,\n   5,\n   68,\n   30,\n   5,\n   69,\n   29,\n   5,\n   72,\n   26,\n   5,\n   73,\n   25,\n   5,\n   74,\n   24,\n   5,\n   77,\n   21,\n   5,\n   78,\n   20,\n   5,\n   79,\n   19,\n   5,\n   82,\n   16,\n   5,\n   83,\n   15,\n   5,\n   84,\n   14,\n   5,\n   87,\n   11,\n   5,\n   88,\n   10,\n   5,\n   89,\n   9,\n   5,\n   92,\n   6,\n   5,\n   93,\n   5,\n   5,\n   94,\n   4,\n   6,\n   7,\n   91,\n   6,\n   70,\n   28,\n   6,\n   75,\n   23,\n   6,\n   80,\n   18,\n   6,\n   85,\n   13,\n   6,\n   90,\n   8,\n   6,\n   95,\n   3,\n   7,\n   8,\n   90,\n   7,\n   54,\n   44,\n   8,\n   9,\n   89,\n   8,\n   55,\n   43,\n   8,\n   60,\n   38,\n   9,\n   10,\n   88,\n   9,\n   15,\n   83,\n   9,\n   56,\n   42,\n   9,\n   59,\n   39,\n   10,\n   11,\n   87,\n   10,\n   12,\n   86,\n   10,\n   13,\n   85,\n   10,\n   14,\n   84,\n   10,\n   16,\n   82,\n   10,\n   45,\n   53,\n   10,\n   50,\n   48,\n   10,\n   57,\n   41,\n   10,\n   58,\n   40,\n   11,\n   17,\n   81,\n   11,\n   31,\n   67,\n   11,\n   46,\n   52,\n   11,\n   51,\n   47,\n   11,\n   52,\n   46,\n   11,\n   53,\n   45,\n   12,\n   18,\n   80,\n   12,\n   19,\n   79,\n   12,\n   20,\n   78,\n   12,\n   21,\n   77,\n   12,\n   22,\n   76,\n   12,\n   23,\n   75,\n   12,\n   24,\n   74,\n   12,\n   26,\n   72,\n   12,\n   27,\n   71,\n   12,\n   32,\n   66,\n   12,\n   33,\n   65,\n   12,\n   47,\n   51,\n   12,\n   48,\n   50,\n   12,\n   49,\n   49,\n   13,\n   25,\n   73,\n   13,\n   28,\n   70,\n   13,\n   29,\n   69,\n   13,\n   30,\n   68,\n   13,\n   34,\n   64,\n   13,\n   39,\n   59,\n   13,\n   40,\n   58,\n   13,\n   41,\n   57,\n   14,\n   35,\n   63,\n   14,\n   42,\n   56,\n   14,\n   43,\n   55,\n   14,\n   44,\n   54,\n   15,\n   36,\n   62,\n   15,\n   37,\n   61,\n   15,\n   38,\n   60,\n   0,\n   0,\n   0,\n   0,\n   0,\n   0,\n   0,\n   0,\n   0,\n   0,\n   0,\n   0,\n   0,\n   0,\n   0,\n   0,\n   0,\n   0,\n   0,\n   0,\n   0,\n   0,\n   0,\n   0,\n   0,\n   0,\n   0,\n   0,\n   0,\n   0,\n   0,\n   0,\n   0,\n   0,\n   0,\n   0,\n   0,\n   0,\n   0,\n   0,\n   0,\n   0,\n   0,\n   0,\n   0,\n   0,\n   0,\n   0,\n   0,\n   0,\n   0,\n   0,\n   0,\n   0,\n   0,\n   0,\n   0,\n   0,\n   0,\n   0,\n   0,\n   0,\n   0,\n   0,\n   0,\n   0,\n   0,\n   0,\n   0,\n   0,\n   0,\n   0,\n   0,\n   0,\n   0,\n   0,\n   0,\n   0,\n   0,\n   0,\n   0,\n   0,\n   0,\n   0,\n   0,\n   0,\n   0,\n   0,\n   0,\n   0,\n   0,\n   0,\n   0,\n   0,\n   0,\n   0,\n   0,\n   0,\n   0,\n   0,\n   0,\n   0,\n   0,\n   0,\n   0,\n   0,\n   0,\n   0,\n   0,\n   0,\n   0,\n   0,\n   0,\n   0,\n   0,\n   0,\n   0,\n   0,\n   0,\n   0,\n   0,\n   0,\n   0,\n   0,\n   0,\n   0,\n   0,\n   0,\n   0,\n   0,\n   0,\n   0,\n   0,\n   0,\n   0,\n   0,\n   0,\n   0,\n   0,\n   0,\n   0,\n   0,\n   0,\n   0,\n   0,\n   0,\n   0,\n   0,\n   0,\n   0,\n   0,\n   0,\n   0,\n   0,\n   0,\n   0,\n   0,\n   0,\n   0,\n   0,\n   0,\n   0,\n   0,\n   0,\n   0,\n   0,\n   0,\n   0,\n   0,\n   0,\n   0,\n   0,\n   0,\n   0,\n   0,\n   0,\n   0,\n   0,\n   0,\n   0,\n   0,\n   0,\n   0,\n   0,\n   0,\n   0,\n   0,\n   0,\n   0,\n   0,\n   0,\n   0,\n   0,\n   0,\n   0,\n   0,\n   0,\n   0,\n   0,\n   0,\n   0,\n   0,\n   0,\n   0,\n   0,\n   0,\n   0,\n   0,\n   0]},\n {'x': 0.09412550066755675,\n  'y': 0.2656875834445928,\n  'obj_dom_pos': [1,\n   1,\n   89,\n   2,\n   2,\n   88,\n   3,\n   3,\n   87,\n   3,\n   89,\n   1,\n   4,\n   4,\n   86,\n   5,\n   5,\n   85,\n   6,\n   6,\n   84,\n   6,\n   12,\n   78,\n   6,\n   82,\n   8,\n   7,\n   7,\n   83,\n   7,\n   8,\n   82,\n   7,\n   13,\n   77,\n   7,\n   83,\n   7,\n   8,\n   9,\n   81,\n   8,\n   10,\n   80,\n   8,\n   11,\n   79,\n   8,\n   14,\n   76,\n   8,\n   20,\n   70,\n   8,\n   41,\n   49,\n   8,\n   84,\n   6,\n   8,\n   86,\n   4,\n   9,\n   15,\n   75,\n   9,\n   21,\n   69,\n   9,\n   42,\n   48,\n   9,\n   85,\n   5,\n   9,\n   87,\n   3,\n   9,\n   88,\n   2,\n   10,\n   16,\n   74,\n   10,\n   19,\n   71,\n   10,\n   22,\n   68,\n   10,\n   25,\n   65,\n   10,\n   43,\n   47,\n   10,\n   76,\n   14,\n   11,\n   17,\n   73,\n   11,\n   18,\n   72,\n   11,\n   23,\n   67,\n   11,\n   24,\n   66,\n   11,\n   26,\n   64,\n   11,\n   31,\n   59,\n   11,\n   36,\n   54,\n   11,\n   44,\n   46,\n   11,\n   77,\n   13,\n   11,\n   78,\n   12,\n   11,\n   79,\n   11,\n   11,\n   80,\n   10,\n   11,\n   81,\n   9,\n   12,\n   27,\n   63,\n   12,\n   28,\n   62,\n   12,\n   29,\n   61,\n   12,\n   32,\n   58,\n   12,\n   33,\n   57,\n   12,\n   34,\n   56,\n   12,\n   37,\n   53,\n   12,\n   38,\n   52,\n   12,\n   39,\n   51,\n   12,\n   45,\n   45,\n   12,\n   70,\n   20,\n   12,\n   71,\n   19,\n   12,\n   72,\n   18,\n   12,\n   73,\n   17,\n   12,\n   74,\n   16,\n   12,\n   75,\n   15,\n   13,\n   30,\n   60,\n   13,\n   35,\n   55,\n   13,\n   40,\n   50,\n   13,\n   46,\n   44,\n   13,\n   54,\n   36,\n   13,\n   62,\n   28,\n   14,\n   47,\n   43,\n   14,\n   48,\n   42,\n   14,\n   49,\n   41,\n   14,\n   50,\n   40,\n   14,\n   53,\n   37,\n   14,\n   55,\n   35,\n   14,\n   56,\n   34,\n   14,\n   57,\n   33,\n   14,\n   58,\n   32,\n   14,\n   61,\n   29,\n   14,\n   63,\n   27,\n   14,\n   64,\n   26,\n   14,\n   65,\n   25,\n   14,\n   66,\n   24,\n   14,\n   69,\n   21,\n   15,\n   51,\n   39,\n   15,\n   52,\n   38,\n   15,\n   59,\n   31,\n   15,\n   60,\n   30,\n   15,\n   67,\n   23,\n   15,\n   68,\n   22,\n   0,\n   0,\n   0,\n   0,\n   0,\n   0,\n   0,\n   0,\n   0,\n   0,\n   0,\n   0,\n   0,\n   0,\n   0,\n   0,\n   0,\n   0,\n   0,\n   0,\n   0,\n   0,\n   0,\n   0,\n   0,\n   0,\n   0,\n   0,\n   0,\n   0,\n   0,\n   0,\n   0,\n   0,\n   0,\n   0,\n   0,\n   0,\n   0,\n   0,\n   0,\n   0,\n   0,\n   0,\n   0,\n   0,\n   0,\n   0,\n   0,\n   0,\n   0,\n   0,\n   0,\n   0,\n   0,\n   0,\n   0,\n   0,\n   0,\n   0,\n   0,\n   0,\n   0,\n   0,\n   0,\n   0,\n   0,\n   0,\n   0,\n   0,\n   0,\n   0,\n   0,\n   0,\n   0,\n   0,\n   0,\n   0,\n   0,\n   0,\n   0,\n   0,\n   0,\n   0,\n   0,\n   0,\n   0,\n   0,\n   0,\n   0,\n   0,\n   0,\n   0,\n   0,\n   0,\n   0,\n   0,\n   0,\n   0,\n   0,\n   0,\n   0,\n   0,\n   0,\n   0,\n   0,\n   0,\n   0,\n   0,\n   0,\n   0,\n   0,\n   0,\n   0,\n   0,\n   0,\n   0,\n   0,\n   0,\n   0,\n   0,\n   0,\n   0,\n   0,\n   0,\n   0,\n   0,\n   0,\n   0,\n   0,\n   0,\n   0,\n   0,\n   0,\n   0,\n   0,\n   0,\n   0,\n   0,\n   0,\n   0,\n   0,\n   0,\n   0,\n   0,\n   0,\n   0,\n   0,\n   0,\n   0,\n   0,\n   0,\n   0,\n   0,\n   0,\n   0,\n   0,\n   0,\n   0,\n   0,\n   0,\n   0,\n   0,\n   0,\n   0,\n   0,\n   0,\n   0,\n   0,\n   0,\n   0,\n   0,\n   0,\n   0,\n   0,\n   0,\n   0,\n   0,\n   0,\n   0,\n   0,\n   0,\n   0,\n   0,\n   0,\n   0,\n   0,\n   0,\n   0,\n   0,\n   0,\n   0,\n   0,\n   0,\n   0,\n   0,\n   0,\n   0,\n   0,\n   0,\n   0,\n   0,\n   0,\n   0,\n   0,\n   0,\n   0,\n   0,\n   0,\n   0,\n   0,\n   0,\n   0,\n   0,\n   0,\n   0,\n   0,\n   0,\n   0,\n   0,\n   0,\n   0,\n   0,\n   0,\n   0,\n   0,\n   0,\n   0,\n   0,\n   0,\n   0,\n   0,\n   0]},\n {'x': 0.09887257083518766,\n  'y': 0.0774365821094793,\n  'obj_dom_pos': [1,\n   1,\n   89,\n   2,\n   2,\n   88,\n   3,\n   3,\n   87,\n   3,\n   89,\n   1,\n   4,\n   4,\n   86,\n   5,\n   5,\n   85,\n   6,\n   6,\n   84,\n   6,\n   12,\n   78,\n   6,\n   82,\n   8,\n   7,\n   7,\n   83,\n   7,\n   8,\n   82,\n   7,\n   13,\n   77,\n   7,\n   83,\n   7,\n   8,\n   9,\n   81,\n   8,\n   10,\n   80,\n   8,\n   11,\n   79,\n   8,\n   14,\n   76,\n   8,\n   20,\n   70,\n   8,\n   41,\n   49,\n   8,\n   84,\n   6,\n   8,\n   86,\n   4,\n   9,\n   15,\n   75,\n   9,\n   21,\n   69,\n   9,\n   42,\n   48,\n   9,\n   85,\n   5,\n   9,\n   87,\n   3,\n   9,\n   88,\n   2,\n   10,\n   16,\n   74,\n   10,\n   19,\n   71,\n   10,\n   22,\n   68,\n   10,\n   25,\n   65,\n   10,\n   43,\n   47,\n   10,\n   76,\n   14,\n   11,\n   17,\n   73,\n   11,\n   18,\n   72,\n   11,\n   23,\n   67,\n   11,\n   24,\n   66,\n   11,\n   26,\n   64,\n   11,\n   31,\n   59,\n   11,\n   36,\n   54,\n   11,\n   44,\n   46,\n   11,\n   77,\n   13,\n   11,\n   78,\n   12,\n   11,\n   79,\n   11,\n   11,\n   80,\n   10,\n   11,\n   81,\n   9,\n   12,\n   27,\n   63,\n   12,\n   28,\n   62,\n   12,\n   29,\n   61,\n   12,\n   32,\n   58,\n   12,\n   33,\n   57,\n   12,\n   34,\n   56,\n   12,\n   37,\n   53,\n   12,\n   38,\n   52,\n   12,\n   39,\n   51,\n   12,\n   45,\n   45,\n   12,\n   70,\n   20,\n   12,\n   71,\n   19,\n   12,\n   72,\n   18,\n   12,\n   73,\n   17,\n   12,\n   74,\n   16,\n   12,\n   75,\n   15,\n   13,\n   30,\n   60,\n   13,\n   35,\n   55,\n   13,\n   40,\n   50,\n   13,\n   46,\n   44,\n   13,\n   54,\n   36,\n   13,\n   62,\n   28,\n   14,\n   47,\n   43,\n   14,\n   48,\n   42,\n   14,\n   49,\n   41,\n   14,\n   50,\n   40,\n   14,\n   53,\n   37,\n   14,\n   55,\n   35,\n   14,\n   56,\n   34,\n   14,\n   57,\n   33,\n   14,\n   58,\n   32,\n   14,\n   61,\n   29,\n   14,\n   63,\n   27,\n   14,\n   64,\n   26,\n   14,\n   65,\n   25,\n   14,\n   66,\n   24,\n   14,\n   69,\n   21,\n   15,\n   51,\n   39,\n   15,\n   52,\n   38,\n   15,\n   59,\n   31,\n   15,\n   60,\n   30,\n   15,\n   67,\n   23,\n   15,\n   68,\n   22,\n   0,\n   0,\n   0,\n   0,\n   0,\n   0,\n   0,\n   0,\n   0,\n   0,\n   0,\n   0,\n   0,\n   0,\n   0,\n   0,\n   0,\n   0,\n   0,\n   0,\n   0,\n   0,\n   0,\n   0,\n   0,\n   0,\n   0,\n   0,\n   0,\n   0,\n   0,\n   0,\n   0,\n   0,\n   0,\n   0,\n   0,\n   0,\n   0,\n   0,\n   0,\n   0,\n   0,\n   0,\n   0,\n   0,\n   0,\n   0,\n   0,\n   0,\n   0,\n   0,\n   0,\n   0,\n   0,\n   0,\n   0,\n   0,\n   0,\n   0,\n   0,\n   0,\n   0,\n   0,\n   0,\n   0,\n   0,\n   0,\n   0,\n   0,\n   0,\n   0,\n   0,\n   0,\n   0,\n   0,\n   0,\n   0,\n   0,\n   0,\n   0,\n   0,\n   0,\n   0,\n   0,\n   0,\n   0,\n   0,\n   0,\n   0,\n   0,\n   0,\n   0,\n   0,\n   0,\n   0,\n   0,\n   0,\n   0,\n   0,\n   0,\n   0,\n   0,\n   0,\n   0,\n   0,\n   0,\n   0,\n   0,\n   0,\n   0,\n   0,\n   0,\n   0,\n   0,\n   0,\n   0,\n   0,\n   0,\n   0,\n   0,\n   0,\n   0,\n   0,\n   0,\n   0,\n   0,\n   0,\n   0,\n   0,\n   0,\n   0,\n   0,\n   0,\n   0,\n   0,\n   0,\n   0,\n   0,\n   0,\n   0,\n   0,\n   0,\n   0,\n   0,\n   0,\n   0,\n   0,\n   0,\n   0,\n   0,\n   0,\n   0,\n   0,\n   0,\n   0,\n   0,\n   0,\n   0,\n   0,\n   0,\n   0,\n   0,\n   0,\n   0,\n   0,\n   0,\n   0,\n   0,\n   0,\n   0,\n   0,\n   0,\n   0,\n   0,\n   0,\n   0,\n   0,\n   0,\n   0,\n   0,\n   0,\n   0,\n   0,\n   0,\n   0,\n   0,\n   0,\n   0,\n   0,\n   0,\n   0,\n   0,\n   0,\n   0,\n   0,\n   0,\n   0,\n   0,\n   0,\n   0,\n   0,\n   0,\n   0,\n   0,\n   0,\n   0,\n   0,\n   0,\n   0,\n   0,\n   0,\n   0,\n   0,\n   0,\n   0,\n   0,\n   0,\n   0,\n   0,\n   0,\n   0,\n   0,\n   0,\n   0,\n   0,\n   0,\n   0,\n   0,\n   0,\n   0,\n   0,\n   0]},\n {'x': 0.6519062453641893,\n  'y': 0.4499332443257677,\n  'obj_dom_pos': [1,\n   1,\n   114,\n   2,\n   2,\n   113,\n   2,\n   113,\n   2,\n   2,\n   114,\n   1,\n   3,\n   3,\n   112,\n   3,\n   78,\n   37,\n   4,\n   4,\n   111,\n   4,\n   79,\n   36,\n   4,\n   83,\n   32,\n   4,\n   88,\n   27,\n   4,\n   93,\n   22,\n   4,\n   98,\n   17,\n   4,\n   103,\n   12,\n   4,\n   108,\n   7,\n   5,\n   5,\n   110,\n   5,\n   6,\n   109,\n   5,\n   80,\n   35,\n   5,\n   81,\n   34,\n   5,\n   82,\n   33,\n   5,\n   84,\n   31,\n   5,\n   85,\n   30,\n   5,\n   86,\n   29,\n   5,\n   89,\n   26,\n   5,\n   90,\n   25,\n   5,\n   91,\n   24,\n   5,\n   94,\n   21,\n   5,\n   95,\n   20,\n   5,\n   96,\n   19,\n   5,\n   99,\n   16,\n   5,\n   100,\n   15,\n   5,\n   101,\n   14,\n   5,\n   104,\n   11,\n   5,\n   105,\n   10,\n   5,\n   106,\n   9,\n   5,\n   109,\n   6,\n   5,\n   110,\n   5,\n   5,\n   111,\n   4,\n   6,\n   7,\n   108,\n   6,\n   87,\n   28,\n   6,\n   92,\n   23,\n   6,\n   97,\n   18,\n   6,\n   102,\n   13,\n   6,\n   107,\n   8,\n   6,\n   112,\n   3,\n   7,\n   8,\n   107,\n   7,\n   71,\n   44,\n   8,\n   9,\n   106,\n   8,\n   72,\n   43,\n   8,\n   77,\n   38,\n   9,\n   10,\n   105,\n   9,\n   15,\n   100,\n   9,\n   73,\n   42,\n   9,\n   76,\n   39,\n   10,\n   11,\n   104,\n   10,\n   12,\n   103,\n   10,\n   13,\n   102,\n   10,\n   14,\n   101,\n   10,\n   16,\n   99,\n   10,\n   62,\n   53,\n   10,\n   67,\n   48,\n   10,\n   74,\n   41,\n   10,\n   75,\n   40,\n   11,\n   17,\n   98,\n   11,\n   31,\n   84,\n   11,\n   63,\n   52,\n   11,\n   68,\n   47,\n   11,\n   69,\n   46,\n   11,\n   70,\n   45,\n   12,\n   18,\n   97,\n   12,\n   19,\n   96,\n   12,\n   20,\n   95,\n   12,\n   21,\n   94,\n   12,\n   22,\n   93,\n   12,\n   23,\n   92,\n   12,\n   24,\n   91,\n   12,\n   26,\n   89,\n   12,\n   27,\n   88,\n   12,\n   32,\n   83,\n   12,\n   33,\n   82,\n   12,\n   64,\n   51,\n   12,\n   65,\n   50,\n   12,\n   66,\n   49,\n   13,\n   25,\n   90,\n   13,\n   28,\n   87,\n   13,\n   29,\n   86,\n   13,\n   30,\n   85,\n   13,\n   34,\n   81,\n   13,\n   56,\n   59,\n   13,\n   57,\n   58,\n   13,\n   58,\n   57,\n   14,\n   35,\n   80,\n   14,\n   59,\n   56,\n   14,\n   60,\n   55,\n   14,\n   61,\n   54,\n   15,\n   36,\n   79,\n   15,\n   54,\n   61,\n   15,\n   55,\n   60,\n   16,\n   37,\n   78,\n   16,\n   41,\n   74,\n   17,\n   38,\n   77,\n   17,\n   39,\n   76,\n   17,\n   40,\n   75,\n   17,\n   42,\n   73,\n   17,\n   47,\n   68,\n   18,\n   43,\n   72,\n   18,\n   45,\n   70,\n   18,\n   48,\n   67,\n   18,\n   49,\n   66,\n   18,\n   50,\n   65,\n   19,\n   44,\n   71,\n   19,\n   46,\n   69,\n   19,\n   51,\n   64,\n   19,\n   52,\n   63,\n   20,\n   53,\n   62,\n   0,\n   0,\n   0,\n   0,\n   0,\n   0,\n   0,\n   0,\n   0,\n   0,\n   0,\n   0,\n   0,\n   0,\n   0,\n   0,\n   0,\n   0,\n   0,\n   0,\n   0,\n   0,\n   0,\n   0,\n   0,\n   0,\n   0,\n   0,\n   0,\n   0,\n   0,\n   0,\n   0,\n   0,\n   0,\n   0,\n   0,\n   0,\n   0,\n   0,\n   0,\n   0,\n   0,\n   0,\n   0,\n   0,\n   0,\n   0,\n   0,\n   0,\n   0,\n   0,\n   0,\n   0,\n   0,\n   0,\n   0,\n   0,\n   0,\n   0,\n   0,\n   0,\n   0,\n   0,\n   0,\n   0,\n   0,\n   0,\n   0,\n   0,\n   0,\n   0,\n   0,\n   0,\n   0,\n   0,\n   0,\n   0,\n   0,\n   0,\n   0,\n   0,\n   0,\n   0,\n   0,\n   0,\n   0,\n   0,\n   0,\n   0,\n   0,\n   0,\n   0,\n   0,\n   0,\n   0,\n   0,\n   0,\n   0,\n   0,\n   0,\n   0,\n   0,\n   0,\n   0,\n   0,\n   0,\n   0,\n   0,\n   0,\n   0,\n   0,\n   0,\n   0,\n   0,\n   0,\n   0,\n   0,\n   0,\n   0,\n   0,\n   0,\n   0,\n   0,\n   0,\n   0,\n   0,\n   0,\n   0,\n   0,\n   0,\n   0,\n   0,\n   0,\n   0,\n   0,\n   0,\n   0,\n   0,\n   0,\n   0,\n   0,\n   0,\n   0,\n   0,\n   0,\n   0,\n   0,\n   0,\n   0,\n   0,\n   0,\n   0,\n   0,\n   0,\n   0,\n   0,\n   0]},\n {'x': 0.3765761756415962,\n  'y': 0.2883845126835781,\n  'obj_dom_pos': [1,\n   1,\n   114,\n   2,\n   2,\n   113,\n   2,\n   113,\n   2,\n   2,\n   114,\n   1,\n   3,\n   3,\n   112,\n   3,\n   78,\n   37,\n   4,\n   4,\n   111,\n   4,\n   79,\n   36,\n   4,\n   83,\n   32,\n   4,\n   88,\n   27,\n   4,\n   93,\n   22,\n   4,\n   98,\n   17,\n   4,\n   103,\n   12,\n   4,\n   108,\n   7,\n   5,\n   5,\n   110,\n   5,\n   6,\n   109,\n   5,\n   80,\n   35,\n   5,\n   81,\n   34,\n   5,\n   82,\n   33,\n   5,\n   84,\n   31,\n   5,\n   85,\n   30,\n   5,\n   86,\n   29,\n   5,\n   89,\n   26,\n   5,\n   90,\n   25,\n   5,\n   91,\n   24,\n   5,\n   94,\n   21,\n   5,\n   95,\n   20,\n   5,\n   96,\n   19,\n   5,\n   99,\n   16,\n   5,\n   100,\n   15,\n   5,\n   101,\n   14,\n   5,\n   104,\n   11,\n   5,\n   105,\n   10,\n   5,\n   106,\n   9,\n   5,\n   109,\n   6,\n   5,\n   110,\n   5,\n   5,\n   111,\n   4,\n   6,\n   7,\n   108,\n   6,\n   87,\n   28,\n   6,\n   92,\n   23,\n   6,\n   97,\n   18,\n   6,\n   102,\n   13,\n   6,\n   107,\n   8,\n   6,\n   112,\n   3,\n   7,\n   8,\n   107,\n   7,\n   71,\n   44,\n   8,\n   9,\n   106,\n   8,\n   72,\n   43,\n   8,\n   77,\n   38,\n   9,\n   10,\n   105,\n   9,\n   15,\n   100,\n   9,\n   73,\n   42,\n   9,\n   76,\n   39,\n   10,\n   11,\n   104,\n   10,\n   12,\n   103,\n   10,\n   13,\n   102,\n   10,\n   14,\n   101,\n   10,\n   16,\n   99,\n   10,\n   62,\n   53,\n   10,\n   67,\n   48,\n   10,\n   74,\n   41,\n   10,\n   75,\n   40,\n   11,\n   17,\n   98,\n   11,\n   31,\n   84,\n   11,\n   63,\n   52,\n   11,\n   68,\n   47,\n   11,\n   69,\n   46,\n   11,\n   70,\n   45,\n   12,\n   18,\n   97,\n   12,\n   19,\n   96,\n   12,\n   20,\n   95,\n   12,\n   21,\n   94,\n   12,\n   22,\n   93,\n   12,\n   23,\n   92,\n   12,\n   24,\n   91,\n   12,\n   26,\n   89,\n   12,\n   27,\n   88,\n   12,\n   32,\n   83,\n   12,\n   61,\n   54,\n   12,\n   64,\n   51,\n   12,\n   65,\n   50,\n   12,\n   66,\n   49,\n   13,\n   25,\n   90,\n   13,\n   28,\n   87,\n   13,\n   29,\n   86,\n   13,\n   30,\n   85,\n   13,\n   33,\n   82,\n   13,\n   55,\n   60,\n   13,\n   56,\n   59,\n   13,\n   57,\n   58,\n   14,\n   34,\n   81,\n   14,\n   58,\n   57,\n   14,\n   59,\n   56,\n   14,\n   60,\n   55,\n   15,\n   35,\n   80,\n   15,\n   53,\n   62,\n   15,\n   54,\n   61,\n   16,\n   36,\n   79,\n   16,\n   40,\n   75,\n   17,\n   37,\n   78,\n   17,\n   38,\n   77,\n   17,\n   39,\n   76,\n   17,\n   41,\n   74,\n   17,\n   46,\n   69,\n   18,\n   42,\n   73,\n   18,\n   44,\n   71,\n   18,\n   47,\n   68,\n   18,\n   48,\n   67,\n   18,\n   49,\n   66,\n   19,\n   43,\n   72,\n   19,\n   45,\n   70,\n   19,\n   50,\n   65,\n   19,\n   51,\n   64,\n   20,\n   52,\n   63,\n   0,\n   0,\n   0,\n   0,\n   0,\n   0,\n   0,\n   0,\n   0,\n   0,\n   0,\n   0,\n   0,\n   0,\n   0,\n   0,\n   0,\n   0,\n   0,\n   0,\n   0,\n   0,\n   0,\n   0,\n   0,\n   0,\n   0,\n   0,\n   0,\n   0,\n   0,\n   0,\n   0,\n   0,\n   0,\n   0,\n   0,\n   0,\n   0,\n   0,\n   0,\n   0,\n   0,\n   0,\n   0,\n   0,\n   0,\n   0,\n   0,\n   0,\n   0,\n   0,\n   0,\n   0,\n   0,\n   0,\n   0,\n   0,\n   0,\n   0,\n   0,\n   0,\n   0,\n   0,\n   0,\n   0,\n   0,\n   0,\n   0,\n   0,\n   0,\n   0,\n   0,\n   0,\n   0,\n   0,\n   0,\n   0,\n   0,\n   0,\n   0,\n   0,\n   0,\n   0,\n   0,\n   0,\n   0,\n   0,\n   0,\n   0,\n   0,\n   0,\n   0,\n   0,\n   0,\n   0,\n   0,\n   0,\n   0,\n   0,\n   0,\n   0,\n   0,\n   0,\n   0,\n   0,\n   0,\n   0,\n   0,\n   0,\n   0,\n   0,\n   0,\n   0,\n   0,\n   0,\n   0,\n   0,\n   0,\n   0,\n   0,\n   0,\n   0,\n   0,\n   0,\n   0,\n   0,\n   0,\n   0,\n   0,\n   0,\n   0,\n   0,\n   0,\n   0,\n   0,\n   0,\n   0,\n   0,\n   0,\n   0,\n   0,\n   0,\n   0,\n   0,\n   0,\n   0,\n   0,\n   0,\n   0,\n   0,\n   0,\n   0,\n   0,\n   0,\n   0,\n   0,\n   0]},\n {'x': 0.07513721999703309,\n  'y': 0.08678237650200267,\n  'obj_dom_pos': [1,\n   1,\n   116,\n   2,\n   2,\n   115,\n   2,\n   115,\n   2,\n   2,\n   116,\n   1,\n   3,\n   3,\n   114,\n   3,\n   80,\n   37,\n   4,\n   4,\n   113,\n   4,\n   81,\n   36,\n   4,\n   85,\n   32,\n   4,\n   90,\n   27,\n   4,\n   95,\n   22,\n   4,\n   100,\n   17,\n   4,\n   105,\n   12,\n   4,\n   110,\n   7,\n   5,\n   5,\n   112,\n   5,\n   6,\n   111,\n   5,\n   82,\n   35,\n   5,\n   83,\n   34,\n   5,\n   84,\n   33,\n   5,\n   86,\n   31,\n   5,\n   87,\n   30,\n   5,\n   88,\n   29,\n   5,\n   91,\n   26,\n   5,\n   92,\n   25,\n   5,\n   93,\n   24,\n   5,\n   96,\n   21,\n   5,\n   97,\n   20,\n   5,\n   98,\n   19,\n   5,\n   101,\n   16,\n   5,\n   102,\n   15,\n   5,\n   103,\n   14,\n   5,\n   106,\n   11,\n   5,\n   107,\n   10,\n   5,\n   108,\n   9,\n   5,\n   111,\n   6,\n   5,\n   112,\n   5,\n   5,\n   113,\n   4,\n   6,\n   7,\n   110,\n   6,\n   89,\n   28,\n   6,\n   94,\n   23,\n   6,\n   99,\n   18,\n   6,\n   104,\n   13,\n   6,\n   109,\n   8,\n   6,\n   114,\n   3,\n   7,\n   8,\n   109,\n   7,\n   73,\n   44,\n   8,\n   9,\n   108,\n   8,\n   74,\n   43,\n   8,\n   79,\n   38,\n   9,\n   10,\n   107,\n   9,\n   15,\n   102,\n   9,\n   75,\n   42,\n   9,\n   78,\n   39,\n   10,\n   11,\n   106,\n   10,\n   12,\n   105,\n   10,\n   13,\n   104,\n   10,\n   14,\n   103,\n   10,\n   16,\n   101,\n   10,\n   64,\n   53,\n   10,\n   69,\n   48,\n   10,\n   76,\n   41,\n   10,\n   77,\n   40,\n   11,\n   17,\n   100,\n   11,\n   31,\n   86,\n   11,\n   65,\n   52,\n   11,\n   70,\n   47,\n   11,\n   71,\n   46,\n   11,\n   72,\n   45,\n   12,\n   18,\n   99,\n   12,\n   19,\n   98,\n   12,\n   20,\n   97,\n   12,\n   21,\n   96,\n   12,\n   22,\n   95,\n   12,\n   23,\n   94,\n   12,\n   24,\n   93,\n   12,\n   26,\n   91,\n   12,\n   27,\n   90,\n   12,\n   32,\n   85,\n   12,\n   63,\n   54,\n   12,\n   66,\n   51,\n   12,\n   67,\n   50,\n   12,\n   68,\n   49,\n   13,\n   25,\n   92,\n   13,\n   28,\n   89,\n   13,\n   29,\n   88,\n   13,\n   30,\n   87,\n   13,\n   33,\n   84,\n   13,\n   57,\n   60,\n   13,\n   58,\n   59,\n   13,\n   59,\n   58,\n   14,\n   34,\n   83,\n   14,\n   60,\n   57,\n   14,\n   61,\n   56,\n   14,\n   62,\n   55,\n   15,\n   35,\n   82,\n   15,\n   55,\n   62,\n   15,\n   56,\n   61,\n   16,\n   36,\n   81,\n   16,\n   42,\n   75,\n   17,\n   37,\n   80,\n   17,\n   38,\n   79,\n   17,\n   39,\n   78,\n   17,\n   43,\n   74,\n   17,\n   48,\n   69,\n   18,\n   40,\n   77,\n   18,\n   41,\n   76,\n   18,\n   44,\n   73,\n   18,\n   46,\n   71,\n   18,\n   49,\n   68,\n   18,\n   50,\n   67,\n   18,\n   51,\n   66,\n   19,\n   45,\n   72,\n   19,\n   47,\n   70,\n   19,\n   52,\n   65,\n   19,\n   53,\n   64,\n   20,\n   54,\n   63,\n   0,\n   0,\n   0,\n   0,\n   0,\n   0,\n   0,\n   0,\n   0,\n   0,\n   0,\n   0,\n   0,\n   0,\n   0,\n   0,\n   0,\n   0,\n   0,\n   0,\n   0,\n   0,\n   0,\n   0,\n   0,\n   0,\n   0,\n   0,\n   0,\n   0,\n   0,\n   0,\n   0,\n   0,\n   0,\n   0,\n   0,\n   0,\n   0,\n   0,\n   0,\n   0,\n   0,\n   0,\n   0,\n   0,\n   0,\n   0,\n   0,\n   0,\n   0,\n   0,\n   0,\n   0,\n   0,\n   0,\n   0,\n   0,\n   0,\n   0,\n   0,\n   0,\n   0,\n   0,\n   0,\n   0,\n   0,\n   0,\n   0,\n   0,\n   0,\n   0,\n   0,\n   0,\n   0,\n   0,\n   0,\n   0,\n   0,\n   0,\n   0,\n   0,\n   0,\n   0,\n   0,\n   0,\n   0,\n   0,\n   0,\n   0,\n   0,\n   0,\n   0,\n   0,\n   0,\n   0,\n   0,\n   0,\n   0,\n   0,\n   0,\n   0,\n   0,\n   0,\n   0,\n   0,\n   0,\n   0,\n   0,\n   0,\n   0,\n   0,\n   0,\n   0,\n   0,\n   0,\n   0,\n   0,\n   0,\n   0,\n   0,\n   0,\n   0,\n   0,\n   0,\n   0,\n   0,\n   0,\n   0,\n   0,\n   0,\n   0,\n   0,\n   0,\n   0,\n   0,\n   0,\n   0,\n   0,\n   0,\n   0,\n   0,\n   0,\n   0,\n   0,\n   0,\n   0,\n   0,\n   0,\n   0,\n   0,\n   0]},\n {'x': 0.25789942145082334,\n  'y': 0.4485981308411215,\n  'obj_dom_pos': [1,\n   1,\n   116,\n   2,\n   2,\n   115,\n   2,\n   115,\n   2,\n   2,\n   116,\n   1,\n   3,\n   3,\n   114,\n   3,\n   80,\n   37,\n   4,\n   4,\n   113,\n   4,\n   81,\n   36,\n   4,\n   85,\n   32,\n   4,\n   90,\n   27,\n   4,\n   95,\n   22,\n   4,\n   100,\n   17,\n   4,\n   105,\n   12,\n   4,\n   110,\n   7,\n   5,\n   5,\n   112,\n   5,\n   6,\n   111,\n   5,\n   82,\n   35,\n   5,\n   83,\n   34,\n   5,\n   84,\n   33,\n   5,\n   86,\n   31,\n   5,\n   87,\n   30,\n   5,\n   88,\n   29,\n   5,\n   91,\n   26,\n   5,\n   92,\n   25,\n   5,\n   93,\n   24,\n   5,\n   96,\n   21,\n   5,\n   97,\n   20,\n   5,\n   98,\n   19,\n   5,\n   101,\n   16,\n   5,\n   102,\n   15,\n   5,\n   103,\n   14,\n   5,\n   106,\n   11,\n   5,\n   107,\n   10,\n   5,\n   108,\n   9,\n   5,\n   111,\n   6,\n   5,\n   112,\n   5,\n   5,\n   113,\n   4,\n   6,\n   7,\n   110,\n   6,\n   89,\n   28,\n   6,\n   94,\n   23,\n   6,\n   99,\n   18,\n   6,\n   104,\n   13,\n   6,\n   109,\n   8,\n   6,\n   114,\n   3,\n   7,\n   8,\n   109,\n   7,\n   73,\n   44,\n   8,\n   9,\n   108,\n   8,\n   74,\n   43,\n   8,\n   79,\n   38,\n   9,\n   10,\n   107,\n   9,\n   15,\n   102,\n   9,\n   75,\n   42,\n   9,\n   78,\n   39,\n   10,\n   11,\n   106,\n   10,\n   12,\n   105,\n   10,\n   13,\n   104,\n   10,\n   14,\n   103,\n   10,\n   16,\n   101,\n   10,\n   64,\n   53,\n   10,\n   69,\n   48,\n   10,\n   76,\n   41,\n   10,\n   77,\n   40,\n   11,\n   17,\n   100,\n   11,\n   31,\n   86,\n   11,\n   65,\n   52,\n   11,\n   70,\n   47,\n   11,\n   71,\n   46,\n   11,\n   72,\n   45,\n   12,\n   18,\n   99,\n   12,\n   19,\n   98,\n   12,\n   20,\n   97,\n   12,\n   21,\n   96,\n   12,\n   22,\n   95,\n   12,\n   23,\n   94,\n   12,\n   24,\n   93,\n   12,\n   26,\n   91,\n   12,\n   27,\n   90,\n   12,\n   32,\n   85,\n   12,\n   63,\n   54,\n   12,\n   66,\n   51,\n   12,\n   67,\n   50,\n   12,\n   68,\n   49,\n   13,\n   25,\n   92,\n   13,\n   28,\n   89,\n   13,\n   29,\n   88,\n   13,\n   30,\n   87,\n   13,\n   33,\n   84,\n   13,\n   57,\n   60,\n   13,\n   58,\n   59,\n   13,\n   59,\n   58,\n   14,\n   34,\n   83,\n   14,\n   60,\n   57,\n   14,\n   61,\n   56,\n   14,\n   62,\n   55,\n   15,\n   35,\n   82,\n   15,\n   55,\n   62,\n   15,\n   56,\n   61,\n   16,\n   36,\n   81,\n   16,\n   42,\n   75,\n   17,\n   37,\n   80,\n   17,\n   38,\n   79,\n   17,\n   39,\n   78,\n   17,\n   43,\n   74,\n   17,\n   48,\n   69,\n   18,\n   40,\n   77,\n   18,\n   41,\n   76,\n   18,\n   44,\n   73,\n   18,\n   46,\n   71,\n   18,\n   49,\n   68,\n   18,\n   50,\n   67,\n   18,\n   51,\n   66,\n   19,\n   45,\n   72,\n   19,\n   47,\n   70,\n   19,\n   52,\n   65,\n   19,\n   53,\n   64,\n   20,\n   54,\n   63,\n   0,\n   0,\n   0,\n   0,\n   0,\n   0,\n   0,\n   0,\n   0,\n   0,\n   0,\n   0,\n   0,\n   0,\n   0,\n   0,\n   0,\n   0,\n   0,\n   0,\n   0,\n   0,\n   0,\n   0,\n   0,\n   0,\n   0,\n   0,\n   0,\n   0,\n   0,\n   0,\n   0,\n   0,\n   0,\n   0,\n   0,\n   0,\n   0,\n   0,\n   0,\n   0,\n   0,\n   0,\n   0,\n   0,\n   0,\n   0,\n   0,\n   0,\n   0,\n   0,\n   0,\n   0,\n   0,\n   0,\n   0,\n   0,\n   0,\n   0,\n   0,\n   0,\n   0,\n   0,\n   0,\n   0,\n   0,\n   0,\n   0,\n   0,\n   0,\n   0,\n   0,\n   0,\n   0,\n   0,\n   0,\n   0,\n   0,\n   0,\n   0,\n   0,\n   0,\n   0,\n   0,\n   0,\n   0,\n   0,\n   0,\n   0,\n   0,\n   0,\n   0,\n   0,\n   0,\n   0,\n   0,\n   0,\n   0,\n   0,\n   0,\n   0,\n   0,\n   0,\n   0,\n   0,\n   0,\n   0,\n   0,\n   0,\n   0,\n   0,\n   0,\n   0,\n   0,\n   0,\n   0,\n   0,\n   0,\n   0,\n   0,\n   0,\n   0,\n   0,\n   0,\n   0,\n   0,\n   0,\n   0,\n   0,\n   0,\n   0,\n   0,\n   0,\n   0,\n   0,\n   0,\n   0,\n   0,\n   0,\n   0,\n   0,\n   0,\n   0,\n   0,\n   0,\n   0,\n   0,\n   0,\n   0,\n   0,\n   0]},\n {'x': 0.9438510606734906,\n  'y': 0.07209612817089453,\n  'obj_dom_pos': [1,\n   1,\n   143,\n   2,\n   2,\n   142,\n   2,\n   142,\n   2,\n   2,\n   143,\n   1,\n   3,\n   3,\n   141,\n   3,\n   107,\n   37,\n   4,\n   4,\n   140,\n   4,\n   108,\n   36,\n   4,\n   112,\n   32,\n   4,\n   117,\n   27,\n   4,\n   122,\n   22,\n   4,\n   127,\n   17,\n   4,\n   132,\n   12,\n   4,\n   137,\n   7,\n   5,\n   5,\n   139,\n   5,\n   6,\n   138,\n   5,\n   109,\n   35,\n   5,\n   110,\n   34,\n   5,\n   111,\n   33,\n   5,\n   113,\n   31,\n   5,\n   114,\n   30,\n   5,\n   115,\n   29,\n   5,\n   118,\n   26,\n   5,\n   119,\n   25,\n   5,\n   120,\n   24,\n   5,\n   123,\n   21,\n   5,\n   124,\n   20,\n   5,\n   125,\n   19,\n   5,\n   128,\n   16,\n   5,\n   129,\n   15,\n   5,\n   130,\n   14,\n   5,\n   133,\n   11,\n   5,\n   134,\n   10,\n   5,\n   135,\n   9,\n   5,\n   138,\n   6,\n   5,\n   139,\n   5,\n   5,\n   140,\n   4,\n   6,\n   7,\n   137,\n   6,\n   116,\n   28,\n   6,\n   121,\n   23,\n   6,\n   126,\n   18,\n   6,\n   131,\n   13,\n   6,\n   136,\n   8,\n   6,\n   141,\n   3,\n   7,\n   8,\n   136,\n   7,\n   90,\n   54,\n   8,\n   9,\n   135,\n   8,\n   91,\n   53,\n   8,\n   106,\n   38,\n   9,\n   10,\n   134,\n   9,\n   82,\n   62,\n   9,\n   92,\n   52,\n   9,\n   95,\n   49,\n   10,\n   11,\n   133,\n   10,\n   83,\n   61,\n   10,\n   84,\n   60,\n   10,\n   85,\n   59,\n   10,\n   93,\n   51,\n   10,\n   94,\n   50,\n   10,\n   96,\n   48,\n   10,\n   97,\n   47,\n   10,\n   98,\n   46,\n   10,\n   105,\n   39,\n   11,\n   12,\n   132,\n   11,\n   76,\n   68,\n   11,\n   86,\n   58,\n   11,\n   87,\n   57,\n   11,\n   88,\n   56,\n   11,\n   89,\n   55,\n   11,\n   99,\n   45,\n   11,\n   104,\n   40,\n   12,\n   13,\n   131,\n   12,\n   14,\n   130,\n   12,\n   69,\n   75,\n   12,\n   72,\n   72,\n   12,\n   77,\n   67,\n   12,\n   81,\n   63,\n   12,\n   100,\n   44,\n   12,\n   101,\n   43,\n   12,\n   102,\n   42,\n   12,\n   103,\n   41,\n   13,\n   15,\n   129,\n   13,\n   42,\n   102,\n   13,\n   70,\n   74,\n   13,\n   71,\n   73,\n   13,\n   73,\n   71,\n   13,\n   74,\n   70,\n   13,\n   75,\n   69,\n   13,\n   78,\n   66,\n   13,\n   79,\n   65,\n   13,\n   80,\n   64,\n   14,\n   16,\n   128,\n   14,\n   21,\n   123,\n   14,\n   34,\n   110,\n   14,\n   40,\n   104,\n   14,\n   41,\n   103,\n   14,\n   43,\n   101,\n   14,\n   48,\n   96,\n   14,\n   61,\n   83,\n   14,\n   67,\n   77,\n   14,\n   68,\n   76,\n   15,\n   17,\n   127,\n   15,\n   22,\n   122,\n   15,\n   23,\n   121,\n   15,\n   24,\n   120,\n   15,\n   25,\n   119,\n   15,\n   26,\n   118,\n   15,\n   28,\n   116,\n   15,\n   35,\n   109,\n   15,\n   36,\n   108,\n   15,\n   37,\n   107,\n   15,\n   38,\n   106,\n   15,\n   39,\n   105,\n   15,\n   44,\n   100,\n   15,\n   49,\n   95,\n   15,\n   50,\n   94,\n   15,\n   51,\n   93,\n   15,\n   52,\n   92,\n   15,\n   53,\n   91,\n   15,\n   55,\n   89,\n   15,\n   62,\n   82,\n   15,\n   63,\n   81,\n   15,\n   64,\n   80,\n   15,\n   65,\n   79,\n   15,\n   66,\n   78,\n   16,\n   18,\n   126,\n   16,\n   20,\n   124,\n   16,\n   27,\n   117,\n   16,\n   29,\n   115,\n   16,\n   30,\n   114,\n   16,\n   45,\n   99,\n   16,\n   47,\n   97,\n   16,\n   54,\n   90,\n   16,\n   56,\n   88,\n   16,\n   57,\n   87,\n   17,\n   19,\n   125,\n   17,\n   31,\n   113,\n   17,\n   32,\n   112,\n   17,\n   33,\n   111,\n   17,\n   46,\n   98,\n   17,\n   58,\n   86,\n   17,\n   59,\n   85,\n   17,\n   60,\n   84,\n   0,\n   0,\n   0,\n   0,\n   0,\n   0,\n   0,\n   0,\n   0,\n   0,\n   0,\n   0,\n   0,\n   0,\n   0,\n   0,\n   0,\n   0,\n   0,\n   0,\n   0,\n   0,\n   0,\n   0,\n   0,\n   0,\n   0,\n   0,\n   0,\n   0,\n   0,\n   0,\n   0,\n   0,\n   0,\n   0,\n   0,\n   0,\n   0,\n   0,\n   0,\n   0,\n   0,\n   0,\n   0,\n   0,\n   0,\n   0,\n   0,\n   0,\n   0,\n   0,\n   0,\n   0,\n   0,\n   0,\n   0,\n   0,\n   0,\n   0,\n   0,\n   0,\n   0,\n   0,\n   0,\n   0,\n   0,\n   0,\n   0,\n   0,\n   0]},\n {'x': 0.9438510606734906,\n  'y': 0.07209612817089453,\n  'obj_dom_pos': [164,\n   26,\n   5,\n   165,\n   25,\n   5,\n   166,\n   24,\n   5,\n   169,\n   21,\n   5,\n   170,\n   20,\n   5,\n   171,\n   19,\n   5,\n   174,\n   16,\n   5,\n   175,\n   15,\n   5,\n   176,\n   14,\n   5,\n   179,\n   11,\n   5,\n   180,\n   10,\n   5,\n   181,\n   9,\n   5,\n   184,\n   6,\n   5,\n   185,\n   5,\n   5,\n   186,\n   4,\n   6,\n   7,\n   183,\n   6,\n   162,\n   28,\n   6,\n   167,\n   23,\n   6,\n   172,\n   18,\n   6,\n   177,\n   13,\n   6,\n   182,\n   8,\n   6,\n   187,\n   3,\n   7,\n   8,\n   182,\n   7,\n   138,\n   52,\n   8,\n   9,\n   181,\n   8,\n   139,\n   51,\n   8,\n   152,\n   38,\n   9,\n   10,\n   180,\n   9,\n   130,\n   60,\n   9,\n   140,\n   50,\n   9,\n   141,\n   49,\n   10,\n   11,\n   179,\n   10,\n   131,\n   59,\n   10,\n   132,\n   58,\n   10,\n   133,\n   57,\n   10,\n   142,\n   48,\n   10,\n   143,\n   47,\n   10,\n   144,\n   46,\n   10,\n   151,\n   39,\n   11,\n   12,\n   178,\n   11,\n   103,\n   87,\n   11,\n   134,\n   56,\n   11,\n   135,\n   55,\n   11,\n   136,\n   54,\n   11,\n   137,\n   53,\n   11,\n   145,\n   45,\n   11,\n   150,\n   40,\n   12,\n   13,\n   177,\n   12,\n   14,\n   176,\n   12,\n   96,\n   94,\n   12,\n   99,\n   91,\n   12,\n   104,\n   86,\n   12,\n   129,\n   61,\n   12,\n   146,\n   44,\n   12,\n   147,\n   43,\n   12,\n   148,\n   42,\n   12,\n   149,\n   41,\n   13,\n   15,\n   175,\n   13,\n   42,\n   148,\n   13,\n   69,\n   121,\n   13,\n   97,\n   93,\n   13,\n   98,\n   92,\n   13,\n   100,\n   90,\n   13,\n   101,\n   89,\n   13,\n   102,\n   88,\n   13,\n   105,\n   85,\n   13,\n   106,\n   84,\n   13,\n   107,\n   83,\n   14,\n   16,\n   174,\n   14,\n   21,\n   169,\n   14,\n   34,\n   156,\n   14,\n   40,\n   150,\n   14,\n   41,\n   149,\n   14,\n   43,\n   147,\n   14,\n   48,\n   142,\n   14,\n   61,\n   129,\n   14,\n   67,\n   123,\n   14,\n   68,\n   122,\n   14,\n   70,\n   120,\n   14,\n   75,\n   115,\n   14,\n   88,\n   102,\n   14,\n   94,\n   96,\n   14,\n   95,\n   95,\n   14,\n   108,\n   82,\n   14,\n   111,\n   79,\n   14,\n   114,\n   76,\n   14,\n   117,\n   73,\n   14,\n   120,\n   70,\n   14,\n   123,\n   67,\n   14,\n   126,\n   64,\n   15,\n   17,\n   173,\n   15,\n   22,\n   168,\n   15,\n   23,\n   167,\n   15,\n   24,\n   166,\n   15,\n   25,\n   165,\n   15,\n   26,\n   164,\n   15,\n   28,\n   162,\n   15,\n   35,\n   155,\n   15,\n   36,\n   154,\n   15,\n   37,\n   153,\n   15,\n   38,\n   152,\n   15,\n   39,\n   151,\n   15,\n   44,\n   146,\n   15,\n   49,\n   141,\n   15,\n   50,\n   140,\n   15,\n   51,\n   139,\n   15,\n   52,\n   138,\n   15,\n   53,\n   137,\n   15,\n   55,\n   135,\n   15,\n   62,\n   128,\n   15,\n   63,\n   127,\n   15,\n   64,\n   126,\n   15,\n   65,\n   125,\n   15,\n   66,\n   124,\n   15,\n   71,\n   119,\n   15,\n   76,\n   114,\n   15,\n   77,\n   113,\n   15,\n   78,\n   112,\n   15,\n   79,\n   111,\n   15,\n   80,\n   110,\n   15,\n   82,\n   108,\n   15,\n   89,\n   101,\n   15,\n   90,\n   100,\n   15,\n   91,\n   99,\n   15,\n   92,\n   98,\n   15,\n   93,\n   97,\n   15,\n   109,\n   81,\n   15,\n   110,\n   80,\n   15,\n   112,\n   78,\n   15,\n   113,\n   77,\n   15,\n   115,\n   75,\n   15,\n   116,\n   74,\n   15,\n   118,\n   72,\n   15,\n   119,\n   71,\n   15,\n   121,\n   69,\n   15,\n   122,\n   68,\n   15,\n   124,\n   66,\n   15,\n   125,\n   65,\n   15,\n   127,\n   63,\n   15,\n   128,\n   62,\n   16,\n   18,\n   172,\n   16,\n   20,\n   170,\n   16,\n   27,\n   163,\n   16,\n   29,\n   161,\n   16,\n   30,\n   160,\n   16,\n   45,\n   145,\n   16,\n   47,\n   143,\n   16,\n   54,\n   136,\n   16,\n   56,\n   134,\n   16,\n   57,\n   133,\n   16,\n   72,\n   118,\n   16,\n   74,\n   116,\n   16,\n   81,\n   109,\n   16,\n   83,\n   107,\n   16,\n   84,\n   106,\n   17,\n   19,\n   171,\n   17,\n   31,\n   159,\n   17,\n   32,\n   158,\n   17,\n   33,\n   157,\n   17,\n   46,\n   144,\n   17,\n   58,\n   132,\n   17,\n   59,\n   131,\n   17,\n   60,\n   130,\n   17,\n   73,\n   117,\n   17,\n   85,\n   105,\n   17,\n   86,\n   104,\n   17,\n   87,\n   103]},\n {'x': 0.8916332888295505,\n  'y': 0.369826435246996,\n  'obj_dom_pos': [184,\n   23,\n   6,\n   189,\n   18,\n   6,\n   194,\n   13,\n   6,\n   199,\n   8,\n   6,\n   204,\n   3,\n   7,\n   8,\n   199,\n   7,\n   155,\n   52,\n   8,\n   9,\n   198,\n   8,\n   156,\n   51,\n   8,\n   169,\n   38,\n   9,\n   10,\n   197,\n   9,\n   147,\n   60,\n   9,\n   157,\n   50,\n   9,\n   158,\n   49,\n   10,\n   11,\n   196,\n   10,\n   148,\n   59,\n   10,\n   149,\n   58,\n   10,\n   150,\n   57,\n   10,\n   159,\n   48,\n   10,\n   160,\n   47,\n   10,\n   161,\n   46,\n   10,\n   168,\n   39,\n   11,\n   12,\n   195,\n   11,\n   103,\n   104,\n   11,\n   151,\n   56,\n   11,\n   152,\n   55,\n   11,\n   153,\n   54,\n   11,\n   154,\n   53,\n   11,\n   162,\n   45,\n   11,\n   167,\n   40,\n   12,\n   13,\n   194,\n   12,\n   14,\n   193,\n   12,\n   96,\n   111,\n   12,\n   99,\n   108,\n   12,\n   104,\n   103,\n   12,\n   129,\n   78,\n   12,\n   163,\n   44,\n   12,\n   164,\n   43,\n   12,\n   165,\n   42,\n   12,\n   166,\n   41,\n   13,\n   15,\n   192,\n   13,\n   42,\n   165,\n   13,\n   69,\n   138,\n   13,\n   97,\n   110,\n   13,\n   98,\n   109,\n   13,\n   100,\n   107,\n   13,\n   101,\n   106,\n   13,\n   102,\n   105,\n   13,\n   105,\n   102,\n   13,\n   106,\n   101,\n   13,\n   107,\n   100,\n   13,\n   130,\n   77,\n   14,\n   16,\n   191,\n   14,\n   21,\n   186,\n   14,\n   34,\n   173,\n   14,\n   40,\n   167,\n   14,\n   41,\n   166,\n   14,\n   43,\n   164,\n   14,\n   48,\n   159,\n   14,\n   61,\n   146,\n   14,\n   67,\n   140,\n   14,\n   68,\n   139,\n   14,\n   70,\n   137,\n   14,\n   75,\n   132,\n   14,\n   88,\n   119,\n   14,\n   94,\n   113,\n   14,\n   95,\n   112,\n   14,\n   108,\n   99,\n   14,\n   111,\n   96,\n   14,\n   114,\n   93,\n   14,\n   117,\n   90,\n   14,\n   120,\n   87,\n   14,\n   123,\n   84,\n   14,\n   126,\n   81,\n   14,\n   131,\n   76,\n   14,\n   132,\n   75,\n   14,\n   136,\n   71,\n   14,\n   144,\n   63,\n   14,\n   145,\n   62,\n   15,\n   17,\n   190,\n   15,\n   22,\n   185,\n   15,\n   23,\n   184,\n   15,\n   24,\n   183,\n   15,\n   25,\n   182,\n   15,\n   26,\n   181,\n   15,\n   28,\n   179,\n   15,\n   35,\n   172,\n   15,\n   36,\n   171,\n   15,\n   37,\n   170,\n   15,\n   38,\n   169,\n   15,\n   39,\n   168,\n   15,\n   44,\n   163,\n   15,\n   49,\n   158,\n   15,\n   50,\n   157,\n   15,\n   51,\n   156,\n   15,\n   52,\n   155,\n   15,\n   53,\n   154,\n   15,\n   55,\n   152,\n   15,\n   62,\n   145,\n   15,\n   63,\n   144,\n   15,\n   64,\n   143,\n   15,\n   65,\n   142,\n   15,\n   66,\n   141,\n   15,\n   71,\n   136,\n   15,\n   76,\n   131,\n   15,\n   77,\n   130,\n   15,\n   78,\n   129,\n   15,\n   79,\n   128,\n   15,\n   80,\n   127,\n   15,\n   82,\n   125,\n   15,\n   89,\n   118,\n   15,\n   90,\n   117,\n   15,\n   91,\n   116,\n   15,\n   92,\n   115,\n   15,\n   93,\n   114,\n   15,\n   109,\n   98,\n   15,\n   110,\n   97,\n   15,\n   112,\n   95,\n   15,\n   113,\n   94,\n   15,\n   115,\n   92,\n   15,\n   116,\n   91,\n   15,\n   118,\n   89,\n   15,\n   119,\n   88,\n   15,\n   121,\n   86,\n   15,\n   122,\n   85,\n   15,\n   124,\n   83,\n   15,\n   125,\n   82,\n   15,\n   127,\n   80,\n   15,\n   128,\n   79,\n   15,\n   133,\n   74,\n   15,\n   134,\n   73,\n   15,\n   135,\n   72,\n   15,\n   137,\n   70,\n   15,\n   146,\n   61,\n   16,\n   18,\n   189,\n   16,\n   20,\n   187,\n   16,\n   27,\n   180,\n   16,\n   29,\n   178,\n   16,\n   30,\n   177,\n   16,\n   45,\n   162,\n   16,\n   47,\n   160,\n   16,\n   54,\n   153,\n   16,\n   56,\n   151,\n   16,\n   57,\n   150,\n   16,\n   72,\n   135,\n   16,\n   74,\n   133,\n   16,\n   81,\n   126,\n   16,\n   83,\n   124,\n   16,\n   84,\n   123,\n   16,\n   138,\n   69,\n   17,\n   19,\n   188,\n   17,\n   31,\n   176,\n   17,\n   32,\n   175,\n   17,\n   33,\n   174,\n   17,\n   46,\n   161,\n   17,\n   58,\n   149,\n   17,\n   59,\n   148,\n   17,\n   60,\n   147,\n   17,\n   73,\n   134,\n   17,\n   85,\n   122,\n   17,\n   86,\n   121,\n   17,\n   87,\n   120,\n   17,\n   139,\n   68,\n   18,\n   140,\n   67,\n   18,\n   141,\n   66,\n   18,\n   142,\n   65,\n   18,\n   143,\n   64]},\n {'x': 0.6257973594422193,\n  'y': 0.3604806408544726,\n  'obj_dom_pos': [184,\n   23,\n   6,\n   189,\n   18,\n   6,\n   194,\n   13,\n   6,\n   199,\n   8,\n   6,\n   204,\n   3,\n   7,\n   8,\n   199,\n   7,\n   155,\n   52,\n   8,\n   9,\n   198,\n   8,\n   156,\n   51,\n   8,\n   169,\n   38,\n   9,\n   10,\n   197,\n   9,\n   147,\n   60,\n   9,\n   157,\n   50,\n   9,\n   158,\n   49,\n   10,\n   11,\n   196,\n   10,\n   148,\n   59,\n   10,\n   149,\n   58,\n   10,\n   150,\n   57,\n   10,\n   159,\n   48,\n   10,\n   160,\n   47,\n   10,\n   161,\n   46,\n   10,\n   168,\n   39,\n   11,\n   12,\n   195,\n   11,\n   103,\n   104,\n   11,\n   151,\n   56,\n   11,\n   152,\n   55,\n   11,\n   153,\n   54,\n   11,\n   154,\n   53,\n   11,\n   162,\n   45,\n   11,\n   167,\n   40,\n   12,\n   13,\n   194,\n   12,\n   14,\n   193,\n   12,\n   96,\n   111,\n   12,\n   99,\n   108,\n   12,\n   104,\n   103,\n   12,\n   129,\n   78,\n   12,\n   163,\n   44,\n   12,\n   164,\n   43,\n   12,\n   165,\n   42,\n   12,\n   166,\n   41,\n   13,\n   15,\n   192,\n   13,\n   42,\n   165,\n   13,\n   69,\n   138,\n   13,\n   97,\n   110,\n   13,\n   98,\n   109,\n   13,\n   100,\n   107,\n   13,\n   101,\n   106,\n   13,\n   102,\n   105,\n   13,\n   105,\n   102,\n   13,\n   106,\n   101,\n   13,\n   107,\n   100,\n   13,\n   130,\n   77,\n   14,\n   16,\n   191,\n   14,\n   21,\n   186,\n   14,\n   34,\n   173,\n   14,\n   40,\n   167,\n   14,\n   41,\n   166,\n   14,\n   43,\n   164,\n   14,\n   48,\n   159,\n   14,\n   61,\n   146,\n   14,\n   67,\n   140,\n   14,\n   68,\n   139,\n   14,\n   70,\n   137,\n   14,\n   75,\n   132,\n   14,\n   88,\n   119,\n   14,\n   94,\n   113,\n   14,\n   95,\n   112,\n   14,\n   108,\n   99,\n   14,\n   111,\n   96,\n   14,\n   114,\n   93,\n   14,\n   117,\n   90,\n   14,\n   120,\n   87,\n   14,\n   123,\n   84,\n   14,\n   126,\n   81,\n   14,\n   131,\n   76,\n   14,\n   132,\n   75,\n   14,\n   136,\n   71,\n   14,\n   144,\n   63,\n   14,\n   145,\n   62,\n   15,\n   17,\n   190,\n   15,\n   22,\n   185,\n   15,\n   23,\n   184,\n   15,\n   24,\n   183,\n   15,\n   25,\n   182,\n   15,\n   26,\n   181,\n   15,\n   28,\n   179,\n   15,\n   35,\n   172,\n   15,\n   36,\n   171,\n   15,\n   37,\n   170,\n   15,\n   38,\n   169,\n   15,\n   39,\n   168,\n   15,\n   44,\n   163,\n   15,\n   49,\n   158,\n   15,\n   50,\n   157,\n   15,\n   51,\n   156,\n   15,\n   52,\n   155,\n   15,\n   53,\n   154,\n   15,\n   55,\n   152,\n   15,\n   62,\n   145,\n   15,\n   63,\n   144,\n   15,\n   64,\n   143,\n   15,\n   65,\n   142,\n   15,\n   66,\n   141,\n   15,\n   71,\n   136,\n   15,\n   76,\n   131,\n   15,\n   77,\n   130,\n   15,\n   78,\n   129,\n   15,\n   79,\n   128,\n   15,\n   80,\n   127,\n   15,\n   82,\n   125,\n   15,\n   89,\n   118,\n   15,\n   90,\n   117,\n   15,\n   91,\n   116,\n   15,\n   92,\n   115,\n   15,\n   93,\n   114,\n   15,\n   109,\n   98,\n   15,\n   110,\n   97,\n   15,\n   112,\n   95,\n   15,\n   113,\n   94,\n   15,\n   115,\n   92,\n   15,\n   116,\n   91,\n   15,\n   118,\n   89,\n   15,\n   119,\n   88,\n   15,\n   121,\n   86,\n   15,\n   122,\n   85,\n   15,\n   124,\n   83,\n   15,\n   125,\n   82,\n   15,\n   127,\n   80,\n   15,\n   128,\n   79,\n   15,\n   133,\n   74,\n   15,\n   134,\n   73,\n   15,\n   135,\n   72,\n   15,\n   137,\n   70,\n   15,\n   146,\n   61,\n   16,\n   18,\n   189,\n   16,\n   20,\n   187,\n   16,\n   27,\n   180,\n   16,\n   29,\n   178,\n   16,\n   30,\n   177,\n   16,\n   45,\n   162,\n   16,\n   47,\n   160,\n   16,\n   54,\n   153,\n   16,\n   56,\n   151,\n   16,\n   57,\n   150,\n   16,\n   72,\n   135,\n   16,\n   74,\n   133,\n   16,\n   81,\n   126,\n   16,\n   83,\n   124,\n   16,\n   84,\n   123,\n   16,\n   138,\n   69,\n   17,\n   19,\n   188,\n   17,\n   31,\n   176,\n   17,\n   32,\n   175,\n   17,\n   33,\n   174,\n   17,\n   46,\n   161,\n   17,\n   58,\n   149,\n   17,\n   59,\n   148,\n   17,\n   60,\n   147,\n   17,\n   73,\n   134,\n   17,\n   85,\n   122,\n   17,\n   86,\n   121,\n   17,\n   87,\n   120,\n   17,\n   139,\n   68,\n   18,\n   140,\n   67,\n   18,\n   141,\n   66,\n   18,\n   142,\n   65,\n   18,\n   143,\n   64]},\n {'x': 0.07276368491321762,\n  'y': 0.09345794392523364,\n  'obj_dom_pos': [184,\n   23,\n   6,\n   189,\n   18,\n   6,\n   194,\n   13,\n   6,\n   199,\n   8,\n   6,\n   204,\n   3,\n   7,\n   8,\n   199,\n   7,\n   155,\n   52,\n   8,\n   9,\n   198,\n   8,\n   156,\n   51,\n   8,\n   169,\n   38,\n   9,\n   10,\n   197,\n   9,\n   147,\n   60,\n   9,\n   157,\n   50,\n   9,\n   158,\n   49,\n   10,\n   11,\n   196,\n   10,\n   148,\n   59,\n   10,\n   149,\n   58,\n   10,\n   150,\n   57,\n   10,\n   159,\n   48,\n   10,\n   160,\n   47,\n   10,\n   161,\n   46,\n   10,\n   168,\n   39,\n   11,\n   12,\n   195,\n   11,\n   103,\n   104,\n   11,\n   151,\n   56,\n   11,\n   152,\n   55,\n   11,\n   153,\n   54,\n   11,\n   154,\n   53,\n   11,\n   162,\n   45,\n   11,\n   167,\n   40,\n   12,\n   13,\n   194,\n   12,\n   14,\n   193,\n   12,\n   96,\n   111,\n   12,\n   99,\n   108,\n   12,\n   104,\n   103,\n   12,\n   129,\n   78,\n   12,\n   163,\n   44,\n   12,\n   164,\n   43,\n   12,\n   165,\n   42,\n   12,\n   166,\n   41,\n   13,\n   15,\n   192,\n   13,\n   42,\n   165,\n   13,\n   69,\n   138,\n   13,\n   97,\n   110,\n   13,\n   98,\n   109,\n   13,\n   100,\n   107,\n   13,\n   101,\n   106,\n   13,\n   102,\n   105,\n   13,\n   105,\n   102,\n   13,\n   106,\n   101,\n   13,\n   107,\n   100,\n   13,\n   130,\n   77,\n   14,\n   16,\n   191,\n   14,\n   21,\n   186,\n   14,\n   34,\n   173,\n   14,\n   40,\n   167,\n   14,\n   41,\n   166,\n   14,\n   43,\n   164,\n   14,\n   48,\n   159,\n   14,\n   61,\n   146,\n   14,\n   67,\n   140,\n   14,\n   68,\n   139,\n   14,\n   70,\n   137,\n   14,\n   75,\n   132,\n   14,\n   88,\n   119,\n   14,\n   94,\n   113,\n   14,\n   95,\n   112,\n   14,\n   108,\n   99,\n   14,\n   111,\n   96,\n   14,\n   114,\n   93,\n   14,\n   117,\n   90,\n   14,\n   120,\n   87,\n   14,\n   123,\n   84,\n   14,\n   126,\n   81,\n   14,\n   131,\n   76,\n   14,\n   132,\n   75,\n   14,\n   136,\n   71,\n   14,\n   144,\n   63,\n   14,\n   145,\n   62,\n   15,\n   17,\n   190,\n   15,\n   22,\n   185,\n   15,\n   23,\n   184,\n   15,\n   24,\n   183,\n   15,\n   25,\n   182,\n   15,\n   26,\n   181,\n   15,\n   28,\n   179,\n   15,\n   35,\n   172,\n   15,\n   36,\n   171,\n   15,\n   37,\n   170,\n   15,\n   38,\n   169,\n   15,\n   39,\n   168,\n   15,\n   44,\n   163,\n   15,\n   49,\n   158,\n   15,\n   50,\n   157,\n   15,\n   51,\n   156,\n   15,\n   52,\n   155,\n   15,\n   53,\n   154,\n   15,\n   55,\n   152,\n   15,\n   62,\n   145,\n   15,\n   63,\n   144,\n   15,\n   64,\n   143,\n   15,\n   65,\n   142,\n   15,\n   66,\n   141,\n   15,\n   71,\n   136,\n   15,\n   76,\n   131,\n   15,\n   77,\n   130,\n   15,\n   78,\n   129,\n   15,\n   79,\n   128,\n   15,\n   80,\n   127,\n   15,\n   82,\n   125,\n   15,\n   89,\n   118,\n   15,\n   90,\n   117,\n   15,\n   91,\n   116,\n   15,\n   92,\n   115,\n   15,\n   93,\n   114,\n   15,\n   109,\n   98,\n   15,\n   110,\n   97,\n   15,\n   112,\n   95,\n   15,\n   113,\n   94,\n   15,\n   115,\n   92,\n   15,\n   116,\n   91,\n   15,\n   118,\n   89,\n   15,\n   119,\n   88,\n   15,\n   121,\n   86,\n   15,\n   122,\n   85,\n   15,\n   124,\n   83,\n   15,\n   125,\n   82,\n   15,\n   127,\n   80,\n   15,\n   128,\n   79,\n   15,\n   133,\n   74,\n   15,\n   134,\n   73,\n   15,\n   135,\n   72,\n   15,\n   137,\n   70,\n   15,\n   146,\n   61,\n   16,\n   18,\n   189,\n   16,\n   20,\n   187,\n   16,\n   27,\n   180,\n   16,\n   29,\n   178,\n   16,\n   30,\n   177,\n   16,\n   45,\n   162,\n   16,\n   47,\n   160,\n   16,\n   54,\n   153,\n   16,\n   56,\n   151,\n   16,\n   57,\n   150,\n   16,\n   72,\n   135,\n   16,\n   74,\n   133,\n   16,\n   81,\n   126,\n   16,\n   83,\n   124,\n   16,\n   84,\n   123,\n   16,\n   138,\n   69,\n   17,\n   19,\n   188,\n   17,\n   31,\n   176,\n   17,\n   32,\n   175,\n   17,\n   33,\n   174,\n   17,\n   46,\n   161,\n   17,\n   58,\n   149,\n   17,\n   59,\n   148,\n   17,\n   60,\n   147,\n   17,\n   73,\n   134,\n   17,\n   85,\n   122,\n   17,\n   86,\n   121,\n   17,\n   87,\n   120,\n   17,\n   139,\n   68,\n   18,\n   140,\n   67,\n   18,\n   141,\n   66,\n   18,\n   142,\n   65,\n   18,\n   143,\n   64]},\n {'x': 0.09887257083518766,\n  'y': 0.08544726301735647,\n  'obj_dom_pos': [5,\n   177,\n   5,\n   6,\n   176,\n   5,\n   147,\n   35,\n   5,\n   148,\n   34,\n   5,\n   149,\n   33,\n   5,\n   151,\n   31,\n   5,\n   152,\n   30,\n   5,\n   153,\n   29,\n   5,\n   156,\n   26,\n   5,\n   157,\n   25,\n   5,\n   158,\n   24,\n   5,\n   161,\n   21,\n   5,\n   162,\n   20,\n   5,\n   163,\n   19,\n   5,\n   166,\n   16,\n   5,\n   167,\n   15,\n   5,\n   168,\n   14,\n   5,\n   171,\n   11,\n   5,\n   172,\n   10,\n   5,\n   173,\n   9,\n   5,\n   176,\n   6,\n   5,\n   177,\n   5,\n   5,\n   178,\n   4,\n   6,\n   7,\n   175,\n   6,\n   154,\n   28,\n   6,\n   159,\n   23,\n   6,\n   164,\n   18,\n   6,\n   169,\n   13,\n   6,\n   174,\n   8,\n   6,\n   179,\n   3,\n   7,\n   8,\n   174,\n   7,\n   128,\n   54,\n   8,\n   9,\n   173,\n   8,\n   129,\n   53,\n   8,\n   144,\n   38,\n   9,\n   10,\n   172,\n   9,\n   120,\n   62,\n   9,\n   130,\n   52,\n   9,\n   133,\n   49,\n   10,\n   11,\n   171,\n   10,\n   121,\n   61,\n   10,\n   122,\n   60,\n   10,\n   123,\n   59,\n   10,\n   131,\n   51,\n   10,\n   132,\n   50,\n   10,\n   134,\n   48,\n   10,\n   135,\n   47,\n   10,\n   136,\n   46,\n   10,\n   143,\n   39,\n   11,\n   12,\n   170,\n   11,\n   76,\n   106,\n   11,\n   124,\n   58,\n   11,\n   125,\n   57,\n   11,\n   126,\n   56,\n   11,\n   127,\n   55,\n   11,\n   137,\n   45,\n   11,\n   142,\n   40,\n   12,\n   13,\n   169,\n   12,\n   14,\n   168,\n   12,\n   69,\n   113,\n   12,\n   72,\n   110,\n   12,\n   77,\n   105,\n   12,\n   102,\n   80,\n   12,\n   138,\n   44,\n   12,\n   139,\n   43,\n   12,\n   140,\n   42,\n   12,\n   141,\n   41,\n   13,\n   15,\n   167,\n   13,\n   42,\n   140,\n   13,\n   70,\n   112,\n   13,\n   71,\n   111,\n   13,\n   73,\n   109,\n   13,\n   74,\n   108,\n   13,\n   75,\n   107,\n   13,\n   78,\n   104,\n   13,\n   79,\n   103,\n   13,\n   80,\n   102,\n   13,\n   103,\n   79,\n   14,\n   16,\n   166,\n   14,\n   21,\n   161,\n   14,\n   34,\n   148,\n   14,\n   40,\n   142,\n   14,\n   41,\n   141,\n   14,\n   43,\n   139,\n   14,\n   48,\n   134,\n   14,\n   61,\n   121,\n   14,\n   67,\n   115,\n   14,\n   68,\n   114,\n   14,\n   81,\n   101,\n   14,\n   84,\n   98,\n   14,\n   87,\n   95,\n   14,\n   90,\n   92,\n   14,\n   93,\n   89,\n   14,\n   96,\n   86,\n   14,\n   99,\n   83,\n   14,\n   104,\n   78,\n   14,\n   105,\n   77,\n   14,\n   109,\n   73,\n   14,\n   117,\n   65,\n   14,\n   118,\n   64,\n   15,\n   17,\n   165,\n   15,\n   22,\n   160,\n   15,\n   23,\n   159,\n   15,\n   24,\n   158,\n   15,\n   25,\n   157,\n   15,\n   26,\n   156,\n   15,\n   28,\n   154,\n   15,\n   35,\n   147,\n   15,\n   36,\n   146,\n   15,\n   37,\n   145,\n   15,\n   38,\n   144,\n   15,\n   39,\n   143,\n   15,\n   44,\n   138,\n   15,\n   49,\n   133,\n   15,\n   50,\n   132,\n   15,\n   51,\n   131,\n   15,\n   52,\n   130,\n   15,\n   53,\n   129,\n   15,\n   55,\n   127,\n   15,\n   62,\n   120,\n   15,\n   63,\n   119,\n   15,\n   64,\n   118,\n   15,\n   65,\n   117,\n   15,\n   66,\n   116,\n   15,\n   82,\n   100,\n   15,\n   83,\n   99,\n   15,\n   85,\n   97,\n   15,\n   86,\n   96,\n   15,\n   88,\n   94,\n   15,\n   89,\n   93,\n   15,\n   91,\n   91,\n   15,\n   92,\n   90,\n   15,\n   94,\n   88,\n   15,\n   95,\n   87,\n   15,\n   97,\n   85,\n   15,\n   98,\n   84,\n   15,\n   100,\n   82,\n   15,\n   101,\n   81,\n   15,\n   106,\n   76,\n   15,\n   107,\n   75,\n   15,\n   108,\n   74,\n   15,\n   110,\n   72,\n   15,\n   119,\n   63,\n   16,\n   18,\n   164,\n   16,\n   20,\n   162,\n   16,\n   27,\n   155,\n   16,\n   29,\n   153,\n   16,\n   30,\n   152,\n   16,\n   45,\n   137,\n   16,\n   47,\n   135,\n   16,\n   54,\n   128,\n   16,\n   56,\n   126,\n   16,\n   57,\n   125,\n   16,\n   111,\n   71,\n   17,\n   19,\n   163,\n   17,\n   31,\n   151,\n   17,\n   32,\n   150,\n   17,\n   33,\n   149,\n   17,\n   46,\n   136,\n   17,\n   58,\n   124,\n   17,\n   59,\n   123,\n   17,\n   60,\n   122,\n   17,\n   112,\n   70,\n   18,\n   113,\n   69,\n   18,\n   114,\n   68,\n   18,\n   115,\n   67,\n   18,\n   116,\n   66]},\n {'x': 0.24128467586411512,\n  'y': 0.5166889185580774,\n  'obj_dom_pos': [5,\n   177,\n   5,\n   6,\n   176,\n   5,\n   147,\n   35,\n   5,\n   148,\n   34,\n   5,\n   149,\n   33,\n   5,\n   151,\n   31,\n   5,\n   152,\n   30,\n   5,\n   153,\n   29,\n   5,\n   156,\n   26,\n   5,\n   157,\n   25,\n   5,\n   158,\n   24,\n   5,\n   161,\n   21,\n   5,\n   162,\n   20,\n   5,\n   163,\n   19,\n   5,\n   166,\n   16,\n   5,\n   167,\n   15,\n   5,\n   168,\n   14,\n   5,\n   171,\n   11,\n   5,\n   172,\n   10,\n   5,\n   173,\n   9,\n   5,\n   176,\n   6,\n   5,\n   177,\n   5,\n   5,\n   178,\n   4,\n   6,\n   7,\n   175,\n   6,\n   154,\n   28,\n   6,\n   159,\n   23,\n   6,\n   164,\n   18,\n   6,\n   169,\n   13,\n   6,\n   174,\n   8,\n   6,\n   179,\n   3,\n   7,\n   8,\n   174,\n   7,\n   128,\n   54,\n   8,\n   9,\n   173,\n   8,\n   129,\n   53,\n   8,\n   144,\n   38,\n   9,\n   10,\n   172,\n   9,\n   120,\n   62,\n   9,\n   130,\n   52,\n   9,\n   133,\n   49,\n   10,\n   11,\n   171,\n   10,\n   121,\n   61,\n   10,\n   122,\n   60,\n   10,\n   123,\n   59,\n   10,\n   131,\n   51,\n   10,\n   132,\n   50,\n   10,\n   134,\n   48,\n   10,\n   135,\n   47,\n   10,\n   136,\n   46,\n   10,\n   143,\n   39,\n   11,\n   12,\n   170,\n   11,\n   76,\n   106,\n   11,\n   124,\n   58,\n   11,\n   125,\n   57,\n   11,\n   126,\n   56,\n   11,\n   127,\n   55,\n   11,\n   137,\n   45,\n   11,\n   142,\n   40,\n   12,\n   13,\n   169,\n   12,\n   14,\n   168,\n   12,\n   69,\n   113,\n   12,\n   72,\n   110,\n   12,\n   77,\n   105,\n   12,\n   102,\n   80,\n   12,\n   138,\n   44,\n   12,\n   139,\n   43,\n   12,\n   140,\n   42,\n   12,\n   141,\n   41,\n   13,\n   15,\n   167,\n   13,\n   42,\n   140,\n   13,\n   70,\n   112,\n   13,\n   71,\n   111,\n   13,\n   73,\n   109,\n   13,\n   74,\n   108,\n   13,\n   75,\n   107,\n   13,\n   78,\n   104,\n   13,\n   79,\n   103,\n   13,\n   80,\n   102,\n   13,\n   103,\n   79,\n   14,\n   16,\n   166,\n   14,\n   21,\n   161,\n   14,\n   34,\n   148,\n   14,\n   40,\n   142,\n   14,\n   41,\n   141,\n   14,\n   43,\n   139,\n   14,\n   48,\n   134,\n   14,\n   61,\n   121,\n   14,\n   67,\n   115,\n   14,\n   68,\n   114,\n   14,\n   81,\n   101,\n   14,\n   84,\n   98,\n   14,\n   87,\n   95,\n   14,\n   90,\n   92,\n   14,\n   93,\n   89,\n   14,\n   96,\n   86,\n   14,\n   99,\n   83,\n   14,\n   104,\n   78,\n   14,\n   105,\n   77,\n   14,\n   109,\n   73,\n   14,\n   117,\n   65,\n   14,\n   118,\n   64,\n   15,\n   17,\n   165,\n   15,\n   22,\n   160,\n   15,\n   23,\n   159,\n   15,\n   24,\n   158,\n   15,\n   25,\n   157,\n   15,\n   26,\n   156,\n   15,\n   28,\n   154,\n   15,\n   35,\n   147,\n   15,\n   36,\n   146,\n   15,\n   37,\n   145,\n   15,\n   38,\n   144,\n   15,\n   39,\n   143,\n   15,\n   44,\n   138,\n   15,\n   49,\n   133,\n   15,\n   50,\n   132,\n   15,\n   51,\n   131,\n   15,\n   52,\n   130,\n   15,\n   53,\n   129,\n   15,\n   55,\n   127,\n   15,\n   62,\n   120,\n   15,\n   63,\n   119,\n   15,\n   64,\n   118,\n   15,\n   65,\n   117,\n   15,\n   66,\n   116,\n   15,\n   82,\n   100,\n   15,\n   83,\n   99,\n   15,\n   85,\n   97,\n   15,\n   86,\n   96,\n   15,\n   88,\n   94,\n   15,\n   89,\n   93,\n   15,\n   91,\n   91,\n   15,\n   92,\n   90,\n   15,\n   94,\n   88,\n   15,\n   95,\n   87,\n   15,\n   97,\n   85,\n   15,\n   98,\n   84,\n   15,\n   100,\n   82,\n   15,\n   101,\n   81,\n   15,\n   106,\n   76,\n   15,\n   107,\n   75,\n   15,\n   108,\n   74,\n   15,\n   110,\n   72,\n   15,\n   119,\n   63,\n   16,\n   18,\n   164,\n   16,\n   20,\n   162,\n   16,\n   27,\n   155,\n   16,\n   29,\n   153,\n   16,\n   30,\n   152,\n   16,\n   45,\n   137,\n   16,\n   47,\n   135,\n   16,\n   54,\n   128,\n   16,\n   56,\n   126,\n   16,\n   57,\n   125,\n   16,\n   111,\n   71,\n   17,\n   19,\n   163,\n   17,\n   31,\n   151,\n   17,\n   32,\n   150,\n   17,\n   33,\n   149,\n   17,\n   46,\n   136,\n   17,\n   58,\n   124,\n   17,\n   59,\n   123,\n   17,\n   60,\n   122,\n   17,\n   112,\n   70,\n   18,\n   113,\n   69,\n   18,\n   114,\n   68,\n   18,\n   115,\n   67,\n   18,\n   116,\n   66]},\n {'x': 0.5854472630173565,\n  'y': 0.7903871829105474,\n  'obj_dom_pos': [1,\n   1,\n   109,\n   2,\n   2,\n   108,\n   2,\n   108,\n   2,\n   2,\n   109,\n   1,\n   3,\n   3,\n   107,\n   3,\n   73,\n   37,\n   4,\n   4,\n   106,\n   4,\n   74,\n   36,\n   4,\n   78,\n   32,\n   4,\n   83,\n   27,\n   4,\n   88,\n   22,\n   4,\n   93,\n   17,\n   4,\n   98,\n   12,\n   4,\n   103,\n   7,\n   5,\n   5,\n   105,\n   5,\n   6,\n   104,\n   5,\n   75,\n   35,\n   5,\n   76,\n   34,\n   5,\n   77,\n   33,\n   5,\n   79,\n   31,\n   5,\n   80,\n   30,\n   5,\n   81,\n   29,\n   5,\n   84,\n   26,\n   5,\n   85,\n   25,\n   5,\n   86,\n   24,\n   5,\n   89,\n   21,\n   5,\n   90,\n   20,\n   5,\n   91,\n   19,\n   5,\n   94,\n   16,\n   5,\n   95,\n   15,\n   5,\n   96,\n   14,\n   5,\n   99,\n   11,\n   5,\n   100,\n   10,\n   5,\n   101,\n   9,\n   5,\n   104,\n   6,\n   5,\n   105,\n   5,\n   5,\n   106,\n   4,\n   6,\n   7,\n   103,\n   6,\n   82,\n   28,\n   6,\n   87,\n   23,\n   6,\n   92,\n   18,\n   6,\n   97,\n   13,\n   6,\n   102,\n   8,\n   6,\n   107,\n   3,\n   7,\n   8,\n   102,\n   7,\n   60,\n   50,\n   8,\n   9,\n   101,\n   8,\n   61,\n   49,\n   8,\n   72,\n   38,\n   9,\n   10,\n   100,\n   9,\n   59,\n   51,\n   9,\n   62,\n   48,\n   9,\n   69,\n   41,\n   10,\n   11,\n   99,\n   10,\n   23,\n   87,\n   10,\n   35,\n   75,\n   10,\n   47,\n   63,\n   10,\n   63,\n   47,\n   10,\n   64,\n   46,\n   10,\n   65,\n   45,\n   10,\n   66,\n   44,\n   10,\n   70,\n   40,\n   10,\n   71,\n   39,\n   11,\n   12,\n   98,\n   11,\n   15,\n   95,\n   11,\n   24,\n   86,\n   11,\n   27,\n   83,\n   11,\n   36,\n   74,\n   11,\n   39,\n   71,\n   11,\n   48,\n   62,\n   11,\n   51,\n   59,\n   11,\n   67,\n   43,\n   11,\n   68,\n   42,\n   12,\n   13,\n   97,\n   12,\n   16,\n   94,\n   12,\n   17,\n   93,\n   12,\n   18,\n   92,\n   12,\n   21,\n   89,\n   12,\n   22,\n   88,\n   12,\n   25,\n   85,\n   12,\n   28,\n   82,\n   12,\n   29,\n   81,\n   12,\n   30,\n   80,\n   12,\n   33,\n   77,\n   12,\n   34,\n   76,\n   12,\n   37,\n   73,\n   12,\n   40,\n   70,\n   12,\n   41,\n   69,\n   12,\n   42,\n   68,\n   12,\n   45,\n   65,\n   12,\n   46,\n   64,\n   12,\n   49,\n   61,\n   12,\n   52,\n   58,\n   12,\n   53,\n   57,\n   12,\n   54,\n   56,\n   12,\n   57,\n   53,\n   12,\n   58,\n   52,\n   13,\n   14,\n   96,\n   13,\n   19,\n   91,\n   13,\n   20,\n   90,\n   13,\n   26,\n   84,\n   13,\n   31,\n   79,\n   13,\n   32,\n   78,\n   13,\n   38,\n   72,\n   13,\n   43,\n   67,\n   13,\n   44,\n   66,\n   13,\n   50,\n   60,\n   13,\n   55,\n   55,\n   13,\n   56,\n   54,\n   0,\n   0,\n   0,\n   0,\n   0,\n   0,\n   0,\n   0,\n   0,\n   0,\n   0,\n   0,\n   0,\n   0,\n   0,\n   0,\n   0,\n   0,\n   0,\n   0,\n   0,\n   0,\n   0,\n   0,\n   0,\n   0,\n   0,\n   0,\n   0,\n   0,\n   0,\n   0,\n   0,\n   0,\n   0,\n   0,\n   0,\n   0,\n   0,\n   0,\n   0,\n   0,\n   0,\n   0,\n   0,\n   0,\n   0,\n   0,\n   0,\n   0,\n   0,\n   0,\n   0,\n   0,\n   0,\n   0,\n   0,\n   0,\n   0,\n   0,\n   0,\n   0,\n   0,\n   0,\n   0,\n   0,\n   0,\n   0,\n   0,\n   0,\n   0,\n   0,\n   0,\n   0,\n   0,\n   0,\n   0,\n   0,\n   0,\n   0,\n   0,\n   0,\n   0,\n   0,\n   0,\n   0,\n   0,\n   0,\n   0,\n   0,\n   0,\n   0,\n   0,\n   0,\n   0,\n   0,\n   0,\n   0,\n   0,\n   0,\n   0,\n   0,\n   0,\n   0,\n   0,\n   0,\n   0,\n   0,\n   0,\n   0,\n   0,\n   0,\n   0,\n   0,\n   0,\n   0,\n   0,\n   0,\n   0,\n   0,\n   0,\n   0,\n   0,\n   0,\n   0,\n   0,\n   0,\n   0,\n   0,\n   0,\n   0,\n   0,\n   0,\n   0,\n   0,\n   0,\n   0,\n   0,\n   0,\n   0,\n   0,\n   0,\n   0,\n   0,\n   0,\n   0,\n   0,\n   0,\n   0,\n   0,\n   0,\n   0,\n   0,\n   0,\n   0,\n   0,\n   0,\n   0,\n   0,\n   0,\n   0,\n   0,\n   0,\n   0,\n   0,\n   0,\n   0,\n   0,\n   0,\n   0,\n   0,\n   0,\n   0]},\n {'x': 0.3836967808930426,\n  'y': 0.6288384512683578,\n  'obj_dom_pos': [1,\n   1,\n   109,\n   2,\n   2,\n   108,\n   2,\n   108,\n   2,\n   2,\n   109,\n   1,\n   3,\n   3,\n   107,\n   3,\n   73,\n   37,\n   4,\n   4,\n   106,\n   4,\n   74,\n   36,\n   4,\n   78,\n   32,\n   4,\n   83,\n   27,\n   4,\n   88,\n   22,\n   4,\n   93,\n   17,\n   4,\n   98,\n   12,\n   4,\n   103,\n   7,\n   5,\n   5,\n   105,\n   5,\n   6,\n   104,\n   5,\n   75,\n   35,\n   5,\n   76,\n   34,\n   5,\n   77,\n   33,\n   5,\n   79,\n   31,\n   5,\n   80,\n   30,\n   5,\n   81,\n   29,\n   5,\n   84,\n   26,\n   5,\n   85,\n   25,\n   5,\n   86,\n   24,\n   5,\n   89,\n   21,\n   5,\n   90,\n   20,\n   5,\n   91,\n   19,\n   5,\n   94,\n   16,\n   5,\n   95,\n   15,\n   5,\n   96,\n   14,\n   5,\n   99,\n   11,\n   5,\n   100,\n   10,\n   5,\n   101,\n   9,\n   5,\n   104,\n   6,\n   5,\n   105,\n   5,\n   5,\n   106,\n   4,\n   6,\n   7,\n   103,\n   6,\n   82,\n   28,\n   6,\n   87,\n   23,\n   6,\n   92,\n   18,\n   6,\n   97,\n   13,\n   6,\n   102,\n   8,\n   6,\n   107,\n   3,\n   7,\n   8,\n   102,\n   7,\n   60,\n   50,\n   8,\n   9,\n   101,\n   8,\n   61,\n   49,\n   8,\n   72,\n   38,\n   9,\n   10,\n   100,\n   9,\n   59,\n   51,\n   9,\n   62,\n   48,\n   9,\n   69,\n   41,\n   10,\n   11,\n   99,\n   10,\n   23,\n   87,\n   10,\n   35,\n   75,\n   10,\n   47,\n   63,\n   10,\n   63,\n   47,\n   10,\n   64,\n   46,\n   10,\n   65,\n   45,\n   10,\n   66,\n   44,\n   10,\n   70,\n   40,\n   10,\n   71,\n   39,\n   11,\n   12,\n   98,\n   11,\n   15,\n   95,\n   11,\n   24,\n   86,\n   11,\n   27,\n   83,\n   11,\n   36,\n   74,\n   11,\n   39,\n   71,\n   11,\n   48,\n   62,\n   11,\n   51,\n   59,\n   11,\n   67,\n   43,\n   11,\n   68,\n   42,\n   12,\n   13,\n   97,\n   12,\n   16,\n   94,\n   12,\n   17,\n   93,\n   12,\n   18,\n   92,\n   12,\n   21,\n   89,\n   12,\n   22,\n   88,\n   12,\n   25,\n   85,\n   12,\n   28,\n   82,\n   12,\n   29,\n   81,\n   12,\n   30,\n   80,\n   12,\n   33,\n   77,\n   12,\n   34,\n   76,\n   12,\n   37,\n   73,\n   12,\n   40,\n   70,\n   12,\n   41,\n   69,\n   12,\n   42,\n   68,\n   12,\n   45,\n   65,\n   12,\n   46,\n   64,\n   12,\n   49,\n   61,\n   12,\n   52,\n   58,\n   12,\n   53,\n   57,\n   12,\n   54,\n   56,\n   12,\n   57,\n   53,\n   12,\n   58,\n   52,\n   13,\n   14,\n   96,\n   13,\n   19,\n   91,\n   13,\n   20,\n   90,\n   13,\n   26,\n   84,\n   13,\n   31,\n   79,\n   13,\n   32,\n   78,\n   13,\n   38,\n   72,\n   13,\n   43,\n   67,\n   13,\n   44,\n   66,\n   13,\n   50,\n   60,\n   13,\n   55,\n   55,\n   13,\n   56,\n   54,\n   0,\n   0,\n   0,\n   0,\n   0,\n   0,\n   0,\n   0,\n   0,\n   0,\n   0,\n   0,\n   0,\n   0,\n   0,\n   0,\n   0,\n   0,\n   0,\n   0,\n   0,\n   0,\n   0,\n   0,\n   0,\n   0,\n   0,\n   0,\n   0,\n   0,\n   0,\n   0,\n   0,\n   0,\n   0,\n   0,\n   0,\n   0,\n   0,\n   0,\n   0,\n   0,\n   0,\n   0,\n   0,\n   0,\n   0,\n   0,\n   0,\n   0,\n   0,\n   0,\n   0,\n   0,\n   0,\n   0,\n   0,\n   0,\n   0,\n   0,\n   0,\n   0,\n   0,\n   0,\n   0,\n   0,\n   0,\n   0,\n   0,\n   0,\n   0,\n   0,\n   0,\n   0,\n   0,\n   0,\n   0,\n   0,\n   0,\n   0,\n   0,\n   0,\n   0,\n   0,\n   0,\n   0,\n   0,\n   0,\n   0,\n   0,\n   0,\n   0,\n   0,\n   0,\n   0,\n   0,\n   0,\n   0,\n   0,\n   0,\n   0,\n   0,\n   0,\n   0,\n   0,\n   0,\n   0,\n   0,\n   0,\n   0,\n   0,\n   0,\n   0,\n   0,\n   0,\n   0,\n   0,\n   0,\n   0,\n   0,\n   0,\n   0,\n   0,\n   0,\n   0,\n   0,\n   0,\n   0,\n   0,\n   0,\n   0,\n   0,\n   0,\n   0,\n   0,\n   0,\n   0,\n   0,\n   0,\n   0,\n   0,\n   0,\n   0,\n   0,\n   0,\n   0,\n   0,\n   0,\n   0,\n   0,\n   0,\n   0,\n   0,\n   0,\n   0,\n   0,\n   0,\n   0,\n   0,\n   0,\n   0,\n   0,\n   0,\n   0,\n   0,\n   0,\n   0,\n   0,\n   0,\n   0,\n   0,\n   0,\n   0]},\n {'x': 0.08937843049992583,\n  'y': 0.102803738317757,\n  'obj_dom_pos': [1,\n   1,\n   63,\n   2,\n   2,\n   62,\n   2,\n   62,\n   2,\n   2,\n   63,\n   1,\n   3,\n   3,\n   61,\n   3,\n   4,\n   60,\n   4,\n   5,\n   59,\n   5,\n   6,\n   58,\n   5,\n   51,\n   13,\n   6,\n   7,\n   57,\n   6,\n   52,\n   12,\n   6,\n   61,\n   3,\n   7,\n   8,\n   56,\n   7,\n   48,\n   16,\n   7,\n   53,\n   11,\n   7,\n   60,\n   4,\n   8,\n   9,\n   55,\n   8,\n   49,\n   15,\n   8,\n   50,\n   14,\n   8,\n   54,\n   10,\n   8,\n   55,\n   9,\n   8,\n   56,\n   8,\n   8,\n   57,\n   7,\n   9,\n   10,\n   54,\n   9,\n   14,\n   50,\n   9,\n   58,\n   6,\n   9,\n   59,\n   5,\n   10,\n   11,\n   53,\n   10,\n   12,\n   52,\n   10,\n   13,\n   51,\n   10,\n   15,\n   49,\n   11,\n   16,\n   48,\n   11,\n   27,\n   37,\n   11,\n   39,\n   25,\n   11,\n   42,\n   22,\n   11,\n   45,\n   19,\n   12,\n   17,\n   47,\n   12,\n   24,\n   40,\n   12,\n   28,\n   36,\n   12,\n   29,\n   35,\n   12,\n   30,\n   34,\n   12,\n   33,\n   31,\n   12,\n   36,\n   28,\n   12,\n   40,\n   24,\n   12,\n   41,\n   23,\n   12,\n   43,\n   21,\n   12,\n   44,\n   20,\n   12,\n   46,\n   18,\n   12,\n   47,\n   17,\n   13,\n   18,\n   46,\n   13,\n   19,\n   45,\n   13,\n   25,\n   39,\n   13,\n   26,\n   38,\n   13,\n   31,\n   33,\n   13,\n   32,\n   32,\n   13,\n   34,\n   30,\n   13,\n   35,\n   29,\n   13,\n   37,\n   27,\n   13,\n   38,\n   26,\n   14,\n   20,\n   44,\n   14,\n   21,\n   43,\n   15,\n   22,\n   42,\n   15,\n   23,\n   41,\n   0,\n   0,\n   0,\n   0,\n   0,\n   0,\n   0,\n   0,\n   0,\n   0,\n   0,\n   0,\n   0,\n   0,\n   0,\n   0,\n   0,\n   0,\n   0,\n   0,\n   0,\n   0,\n   0,\n   0,\n   0,\n   0,\n   0,\n   0,\n   0,\n   0,\n   0,\n   0,\n   0,\n   0,\n   0,\n   0,\n   0,\n   0,\n   0,\n   0,\n   0,\n   0,\n   0,\n   0,\n   0,\n   0,\n   0,\n   0,\n   0,\n   0,\n   0,\n   0,\n   0,\n   0,\n   0,\n   0,\n   0,\n   0,\n   0,\n   0,\n   0,\n   0,\n   0,\n   0,\n   0,\n   0,\n   0,\n   0,\n   0,\n   0,\n   0,\n   0,\n   0,\n   0,\n   0,\n   0,\n   0,\n   0,\n   0,\n   0,\n   0,\n   0,\n   0,\n   0,\n   0,\n   0,\n   0,\n   0,\n   0,\n   0,\n   0,\n   0,\n   0,\n   0,\n   0,\n   0,\n   0,\n   0,\n   0,\n   0,\n   0,\n   0,\n   0,\n   0,\n   0,\n   0,\n   0,\n   0,\n   0,\n   0,\n   0,\n   0,\n   0,\n   0,\n   0,\n   0,\n   0,\n   0,\n   0,\n   0,\n   0,\n   0,\n   0,\n   0,\n   0,\n   0,\n   0,\n   0,\n   0,\n   0,\n   0,\n   0,\n   0,\n   0,\n   0,\n   0,\n   0,\n   0,\n   0,\n   0,\n   0,\n   0,\n   0,\n   0,\n   0,\n   0,\n   0,\n   0,\n   0,\n   0,\n   0,\n   0,\n   0,\n   0,\n   0,\n   0,\n   0,\n   0,\n   0,\n   0,\n   0,\n   0,\n   0,\n   0,\n   0,\n   0,\n   0,\n   0,\n   0,\n   0,\n   0,\n   0,\n   0,\n   0,\n   0,\n   0,\n   0,\n   0,\n   0,\n   0,\n   0,\n   0,\n   0,\n   0,\n   0,\n   0,\n   0,\n   0,\n   0,\n   0,\n   0,\n   0,\n   0,\n   0,\n   0,\n   0,\n   0,\n   0,\n   0,\n   0,\n   0,\n   0,\n   0,\n   0,\n   0,\n   0,\n   0,\n   0,\n   0,\n   0,\n   0,\n   0,\n   0,\n   0,\n   0,\n   0,\n   0,\n   0,\n   0,\n   0,\n   0,\n   0,\n   0,\n   0,\n   0,\n   0,\n   0,\n   0,\n   0,\n   0,\n   0,\n   0,\n   0,\n   0,\n   0,\n   0,\n   0,\n   0,\n   0,\n   0,\n   0,\n   0,\n   0,\n   0,\n   0,\n   0,\n   0,\n   0,\n   0,\n   0,\n   0,\n   0,\n   0,\n   0,\n   0,\n   0,\n   0,\n   0,\n   0,\n   0,\n   0,\n   0,\n   0,\n   0,\n   0,\n   0,\n   0,\n   0,\n   0,\n   0,\n   0,\n   0,\n   0,\n   0,\n   0,\n   0,\n   0,\n   0,\n   0,\n   0,\n   0,\n   0,\n   0,\n   0,\n   0,\n   0,\n   0,\n   0,\n   0,\n   0,\n   0,\n   0,\n   0,\n   0,\n   0,\n   0,\n   0,\n   0,\n   0,\n   0,\n   0,\n   0,\n   0,\n   0,\n   0,\n   0,\n   0,\n   0,\n   0,\n   0,\n   0]},\n {'x': 0.058522474410324876,\n  'y': 0.08678237650200267,\n  'obj_dom_pos': [1,\n   1,\n   70,\n   2,\n   2,\n   69,\n   2,\n   69,\n   2,\n   2,\n   70,\n   1,\n   3,\n   3,\n   68,\n   3,\n   4,\n   67,\n   4,\n   5,\n   66,\n   5,\n   6,\n   65,\n   5,\n   58,\n   13,\n   6,\n   7,\n   64,\n   6,\n   59,\n   12,\n   6,\n   68,\n   3,\n   7,\n   8,\n   63,\n   7,\n   55,\n   16,\n   7,\n   60,\n   11,\n   7,\n   67,\n   4,\n   8,\n   9,\n   62,\n   8,\n   56,\n   15,\n   8,\n   57,\n   14,\n   8,\n   61,\n   10,\n   8,\n   62,\n   9,\n   8,\n   63,\n   8,\n   8,\n   64,\n   7,\n   9,\n   10,\n   61,\n   9,\n   13,\n   58,\n   9,\n   65,\n   6,\n   9,\n   66,\n   5,\n   10,\n   11,\n   60,\n   10,\n   12,\n   59,\n   10,\n   14,\n   57,\n   11,\n   15,\n   56,\n   12,\n   16,\n   55,\n   12,\n   18,\n   53,\n   12,\n   23,\n   48,\n   12,\n   25,\n   46,\n   12,\n   30,\n   41,\n   12,\n   35,\n   36,\n   12,\n   40,\n   31,\n   12,\n   45,\n   26,\n   12,\n   50,\n   21,\n   13,\n   17,\n   54,\n   13,\n   19,\n   52,\n   13,\n   21,\n   50,\n   13,\n   24,\n   47,\n   13,\n   26,\n   45,\n   13,\n   28,\n   43,\n   13,\n   31,\n   40,\n   13,\n   33,\n   38,\n   13,\n   36,\n   35,\n   13,\n   38,\n   33,\n   13,\n   41,\n   30,\n   13,\n   43,\n   28,\n   13,\n   46,\n   25,\n   13,\n   48,\n   23,\n   13,\n   51,\n   20,\n   13,\n   53,\n   18,\n   14,\n   20,\n   51,\n   14,\n   22,\n   49,\n   14,\n   27,\n   44,\n   14,\n   29,\n   42,\n   14,\n   32,\n   39,\n   14,\n   34,\n   37,\n   14,\n   37,\n   34,\n   14,\n   39,\n   32,\n   14,\n   42,\n   29,\n   14,\n   44,\n   27,\n   14,\n   47,\n   24,\n   14,\n   49,\n   22,\n   14,\n   52,\n   19,\n   14,\n   54,\n   17,\n   0,\n   0,\n   0,\n   0,\n   0,\n   0,\n   0,\n   0,\n   0,\n   0,\n   0,\n   0,\n   0,\n   0,\n   0,\n   0,\n   0,\n   0,\n   0,\n   0,\n   0,\n   0,\n   0,\n   0,\n   0,\n   0,\n   0,\n   0,\n   0,\n   0,\n   0,\n   0,\n   0,\n   0,\n   0,\n   0,\n   0,\n   0,\n   0,\n   0,\n   0,\n   0,\n   0,\n   0,\n   0,\n   0,\n   0,\n   0,\n   0,\n   0,\n   0,\n   0,\n   0,\n   0,\n   0,\n   0,\n   0,\n   0,\n   0,\n   0,\n   0,\n   0,\n   0,\n   0,\n   0,\n   0,\n   0,\n   0,\n   0,\n   0,\n   0,\n   0,\n   0,\n   0,\n   0,\n   0,\n   0,\n   0,\n   0,\n   0,\n   0,\n   0,\n   0,\n   0,\n   0,\n   0,\n   0,\n   0,\n   0,\n   0,\n   0,\n   0,\n   0,\n   0,\n   0,\n   0,\n   0,\n   0,\n   0,\n   0,\n   0,\n   0,\n   0,\n   0,\n   0,\n   0,\n   0,\n   0,\n   0,\n   0,\n   0,\n   0,\n   0,\n   0,\n   0,\n   0,\n   0,\n   0,\n   0,\n   0,\n   0,\n   0,\n   0,\n   0,\n   0,\n   0,\n   0,\n   0,\n   0,\n   0,\n   0,\n   0,\n   0,\n   0,\n   0,\n   0,\n   0,\n   0,\n   0,\n   0,\n   0,\n   0,\n   0,\n   0,\n   0,\n   0,\n   0,\n   0,\n   0,\n   0,\n   0,\n   0,\n   0,\n   0,\n   0,\n   0,\n   0,\n   0,\n   0,\n   0,\n   0,\n   0,\n   0,\n   0,\n   0,\n   0,\n   0,\n   0,\n   0,\n   0,\n   0,\n   0,\n   0,\n   0,\n   0,\n   0,\n   0,\n   0,\n   0,\n   0,\n   0,\n   0,\n   0,\n   0,\n   0,\n   0,\n   0,\n   0,\n   0,\n   0,\n   0,\n   0,\n   0,\n   0,\n   0,\n   0,\n   0,\n   0,\n   0,\n   0,\n   0,\n   0,\n   0,\n   0,\n   0,\n   0,\n   0,\n   0,\n   0,\n   0,\n   0,\n   0,\n   0,\n   0,\n   0,\n   0,\n   0,\n   0,\n   0,\n   0,\n   0,\n   0,\n   0,\n   0,\n   0,\n   0,\n   0,\n   0,\n   0,\n   0,\n   0,\n   0,\n   0,\n   0,\n   0,\n   0,\n   0,\n   0,\n   0,\n   0,\n   0,\n   0,\n   0,\n   0,\n   0,\n   0,\n   0,\n   0,\n   0,\n   0,\n   0,\n   0,\n   0,\n   0,\n   0,\n   0,\n   0,\n   0,\n   0,\n   0,\n   0,\n   0,\n   0,\n   0,\n   0,\n   0,\n   0,\n   0,\n   0,\n   0,\n   0,\n   0,\n   0,\n   0,\n   0,\n   0,\n   0,\n   0,\n   0,\n   0,\n   0,\n   0,\n   0,\n   0,\n   0,\n   0,\n   0,\n   0,\n   0,\n   0]},\n {'x': 0.21280225485832963,\n  'y': 0.4699599465954606,\n  'obj_dom_pos': [1,\n   1,\n   77,\n   2,\n   2,\n   76,\n   2,\n   76,\n   2,\n   2,\n   77,\n   1,\n   3,\n   3,\n   75,\n   3,\n   41,\n   37,\n   4,\n   4,\n   74,\n   4,\n   42,\n   36,\n   4,\n   46,\n   32,\n   4,\n   51,\n   27,\n   4,\n   56,\n   22,\n   4,\n   61,\n   17,\n   4,\n   66,\n   12,\n   4,\n   71,\n   7,\n   5,\n   5,\n   73,\n   5,\n   6,\n   72,\n   5,\n   43,\n   35,\n   5,\n   44,\n   34,\n   5,\n   45,\n   33,\n   5,\n   47,\n   31,\n   5,\n   48,\n   30,\n   5,\n   49,\n   29,\n   5,\n   52,\n   26,\n   5,\n   53,\n   25,\n   5,\n   54,\n   24,\n   5,\n   57,\n   21,\n   5,\n   58,\n   20,\n   5,\n   59,\n   19,\n   5,\n   62,\n   16,\n   5,\n   63,\n   15,\n   5,\n   64,\n   14,\n   5,\n   67,\n   11,\n   5,\n   68,\n   10,\n   5,\n   69,\n   9,\n   5,\n   72,\n   6,\n   5,\n   73,\n   5,\n   5,\n   74,\n   4,\n   6,\n   7,\n   71,\n   6,\n   50,\n   28,\n   6,\n   55,\n   23,\n   6,\n   60,\n   18,\n   6,\n   65,\n   13,\n   6,\n   70,\n   8,\n   6,\n   75,\n   3,\n   7,\n   8,\n   70,\n   7,\n   30,\n   48,\n   8,\n   9,\n   69,\n   8,\n   31,\n   47,\n   8,\n   40,\n   38,\n   9,\n   10,\n   68,\n   9,\n   32,\n   46,\n   9,\n   39,\n   39,\n   10,\n   11,\n   67,\n   10,\n   14,\n   64,\n   10,\n   33,\n   45,\n   10,\n   34,\n   44,\n   10,\n   35,\n   43,\n   10,\n   36,\n   42,\n   11,\n   12,\n   66,\n   11,\n   13,\n   65,\n   11,\n   15,\n   63,\n   11,\n   18,\n   60,\n   11,\n   21,\n   57,\n   11,\n   24,\n   54,\n   11,\n   27,\n   51,\n   11,\n   37,\n   41,\n   11,\n   38,\n   40,\n   12,\n   16,\n   62,\n   12,\n   17,\n   61,\n   12,\n   19,\n   59,\n   12,\n   20,\n   58,\n   12,\n   22,\n   56,\n   12,\n   23,\n   55,\n   12,\n   25,\n   53,\n   12,\n   26,\n   52,\n   12,\n   28,\n   50,\n   12,\n   29,\n   49,\n   0,\n   0,\n   0,\n   0,\n   0,\n   0,\n   0,\n   0,\n   0,\n   0,\n   0,\n   0,\n   0,\n   0,\n   0,\n   0,\n   0,\n   0,\n   0,\n   0,\n   0,\n   0,\n   0,\n   0,\n   0,\n   0,\n   0,\n   0,\n   0,\n   0,\n   0,\n   0,\n   0,\n   0,\n   0,\n   0,\n   0,\n   0,\n   0,\n   0,\n   0,\n   0,\n   0,\n   0,\n   0,\n   0,\n   0,\n   0,\n   0,\n   0,\n   0,\n   0,\n   0,\n   0,\n   0,\n   0,\n   0,\n   0,\n   0,\n   0,\n   0,\n   0,\n   0,\n   0,\n   0,\n   0,\n   0,\n   0,\n   0,\n   0,\n   0,\n   0,\n   0,\n   0,\n   0,\n   0,\n   0,\n   0,\n   0,\n   0,\n   0,\n   0,\n   0,\n   0,\n   0,\n   0,\n   0,\n   0,\n   0,\n   0,\n   0,\n   0,\n   0,\n   0,\n   0,\n   0,\n   0,\n   0,\n   0,\n   0,\n   0,\n   0,\n   0,\n   0,\n   0,\n   0,\n   0,\n   0,\n   0,\n   0,\n   0,\n   0,\n   0,\n   0,\n   0,\n   0,\n   0,\n   0,\n   0,\n   0,\n   0,\n   0,\n   0,\n   0,\n   0,\n   0,\n   0,\n   0,\n   0,\n   0,\n   0,\n   0,\n   0,\n   0,\n   0,\n   0,\n   0,\n   0,\n   0,\n   0,\n   0,\n   0,\n   0,\n   0,\n   0,\n   0,\n   0,\n   0,\n   0,\n   0,\n   0,\n   0,\n   0,\n   0,\n   0,\n   0,\n   0,\n   0,\n   0,\n   0,\n   0,\n   0,\n   0,\n   0,\n   0,\n   0,\n   0,\n   0,\n   0,\n   0,\n   0,\n   0,\n   0,\n   0,\n   0,\n   0,\n   0,\n   0,\n   0,\n   0,\n   0,\n   0,\n   0,\n   0,\n   0,\n   0,\n   0,\n   0,\n   0,\n   0,\n   0,\n   0,\n   0,\n   0,\n   0,\n   0,\n   0,\n   0,\n   0,\n   0,\n   0,\n   0,\n   0,\n   0,\n   0,\n   0,\n   0,\n   0,\n   0,\n   0,\n   0,\n   0,\n   0,\n   0,\n   0,\n   0,\n   0,\n   0,\n   0,\n   0,\n   0,\n   0,\n   0,\n   0,\n   0,\n   0,\n   0,\n   0,\n   0,\n   0,\n   0,\n   0,\n   0,\n   0,\n   0,\n   0,\n   0,\n   0,\n   0,\n   0,\n   0,\n   0,\n   0,\n   0,\n   0,\n   0,\n   0,\n   0,\n   0,\n   0,\n   0,\n   0,\n   0,\n   0,\n   0,\n   0,\n   0,\n   0,\n   0,\n   0,\n   0,\n   0,\n   0,\n   0,\n   0,\n   0,\n   0,\n   0,\n   0]},\n {'x': 0.07276368491321762,\n  'y': 0.07209612817089453,\n  'obj_dom_pos': [1,\n   1,\n   41,\n   2,\n   2,\n   40,\n   2,\n   40,\n   2,\n   2,\n   41,\n   1,\n   3,\n   3,\n   39,\n   3,\n   4,\n   38,\n   4,\n   5,\n   37,\n   5,\n   6,\n   36,\n   5,\n   29,\n   13,\n   6,\n   7,\n   35,\n   6,\n   30,\n   12,\n   6,\n   39,\n   3,\n   7,\n   8,\n   34,\n   7,\n   26,\n   16,\n   7,\n   31,\n   11,\n   7,\n   38,\n   4,\n   8,\n   9,\n   33,\n   8,\n   27,\n   15,\n   8,\n   28,\n   14,\n   8,\n   32,\n   10,\n   8,\n   33,\n   9,\n   8,\n   34,\n   8,\n   8,\n   35,\n   7,\n   9,\n   10,\n   32,\n   9,\n   11,\n   31,\n   9,\n   18,\n   24,\n   9,\n   36,\n   6,\n   9,\n   37,\n   5,\n   10,\n   12,\n   30,\n   10,\n   13,\n   29,\n   10,\n   14,\n   28,\n   10,\n   19,\n   23,\n   10,\n   22,\n   20,\n   10,\n   25,\n   17,\n   11,\n   15,\n   27,\n   11,\n   16,\n   26,\n   11,\n   17,\n   25,\n   11,\n   20,\n   22,\n   11,\n   21,\n   21,\n   11,\n   23,\n   19,\n   11,\n   24,\n   18,\n   0,\n   0,\n   0,\n   0,\n   0,\n   0,\n   0,\n   0,\n   0,\n   0,\n   0,\n   0,\n   0,\n   0,\n   0,\n   0,\n   0,\n   0,\n   0,\n   0,\n   0,\n   0,\n   0,\n   0,\n   0,\n   0,\n   0,\n   0,\n   0,\n   0,\n   0,\n   0,\n   0,\n   0,\n   0,\n   0,\n   0,\n   0,\n   0,\n   0,\n   0,\n   0,\n   0,\n   0,\n   0,\n   0,\n   0,\n   0,\n   0,\n   0,\n   0,\n   0,\n   0,\n   0,\n   0,\n   0,\n   0,\n   0,\n   0,\n   0,\n   0,\n   0,\n   0,\n   0,\n   0,\n   0,\n   0,\n   0,\n   0,\n   0,\n   0,\n   0,\n   0,\n   0,\n   0,\n   0,\n   0,\n   0,\n   0,\n   0,\n   0,\n   0,\n   0,\n   0,\n   0,\n   0,\n   0,\n   0,\n   0,\n   0,\n   0,\n   0,\n   0,\n   0,\n   0,\n   0,\n   0,\n   0,\n   0,\n   0,\n   0,\n   0,\n   0,\n   0,\n   0,\n   0,\n   0,\n   0,\n   0,\n   0,\n   0,\n   0,\n   0,\n   0,\n   0,\n   0,\n   0,\n   0,\n   0,\n   0,\n   0,\n   0,\n   0,\n   0,\n   0,\n   0,\n   0,\n   0,\n   0,\n   0,\n   0,\n   0,\n   0,\n   0,\n   0,\n   0,\n   0,\n   0,\n   0,\n   0,\n   0,\n   0,\n   0,\n   0,\n   0,\n   0,\n   0,\n   0,\n   0,\n   0,\n   0,\n   0,\n   0,\n   0,\n   0,\n   0,\n   0,\n   0,\n   0,\n   0,\n   0,\n   0,\n   0,\n   0,\n   0,\n   0,\n   0,\n   0,\n   0,\n   0,\n   0,\n   0,\n   0,\n   0,\n   0,\n   0,\n   0,\n   0,\n   0,\n   0,\n   0,\n   0,\n   0,\n   0,\n   0,\n   0,\n   0,\n   0,\n   0,\n   0,\n   0,\n   0,\n   0,\n   0,\n   0,\n   0,\n   0,\n   0,\n   0,\n   0,\n   0,\n   0,\n   0,\n   0,\n   0,\n   0,\n   0,\n   0,\n   0,\n   0,\n   0,\n   0,\n   0,\n   0,\n   0,\n   0,\n   0,\n   0,\n   0,\n   0,\n   0,\n   0,\n   0,\n   0,\n   0,\n   0,\n   0,\n   0,\n   0,\n   0,\n   0,\n   0,\n   0,\n   0,\n   0,\n   0,\n   0,\n   0,\n   0,\n   0,\n   0,\n   0,\n   0,\n   0,\n   0,\n   0,\n   0,\n   0,\n   0,\n   0,\n   0,\n   0,\n   0,\n   0,\n   0,\n   0,\n   0,\n   0,\n   0,\n   0,\n   0,\n   0,\n   0,\n   0,\n   0,\n   0,\n   0,\n   0,\n   0,\n   0,\n   0,\n   0,\n   0,\n   0,\n   0,\n   0,\n   0,\n   0,\n   0,\n   0,\n   0,\n   0,\n   0,\n   0,\n   0,\n   0,\n   0,\n   0,\n   0,\n   0,\n   0,\n   0,\n   0,\n   0,\n   0,\n   0,\n   0,\n   0,\n   0,\n   0,\n   0,\n   0,\n   0,\n   0,\n   0,\n   0,\n   0,\n   0,\n   0,\n   0,\n   0,\n   0,\n   0,\n   0,\n   0,\n   0,\n   0,\n   0,\n   0,\n   0,\n   0,\n   0,\n   0,\n   0,\n   0,\n   0,\n   0,\n   0,\n   0,\n   0,\n   0,\n   0,\n   0,\n   0,\n   0,\n   0,\n   0,\n   0,\n   0,\n   0,\n   0,\n   0,\n   0,\n   0,\n   0,\n   0,\n   0,\n   0,\n   0,\n   0,\n   0,\n   0,\n   0,\n   0,\n   0,\n   0,\n   0,\n   0,\n   0,\n   0,\n   0,\n   0,\n   0,\n   0,\n   0,\n   0,\n   0,\n   0,\n   0,\n   0,\n   0,\n   0,\n   0,\n   0,\n   0,\n   0,\n   0]},\n {'x': 0.2365376056964842,\n  'y': 0.9773030707610146,\n  'obj_dom_pos': [1,\n   1,\n   49,\n   2,\n   2,\n   48,\n   2,\n   48,\n   2,\n   2,\n   49,\n   1,\n   3,\n   3,\n   47,\n   3,\n   4,\n   46,\n   4,\n   5,\n   45,\n   5,\n   6,\n   44,\n   5,\n   37,\n   13,\n   6,\n   7,\n   43,\n   6,\n   38,\n   12,\n   6,\n   47,\n   3,\n   7,\n   8,\n   42,\n   7,\n   34,\n   16,\n   7,\n   39,\n   11,\n   7,\n   46,\n   4,\n   8,\n   9,\n   41,\n   8,\n   35,\n   15,\n   8,\n   36,\n   14,\n   8,\n   40,\n   10,\n   8,\n   41,\n   9,\n   8,\n   42,\n   8,\n   8,\n   43,\n   7,\n   9,\n   10,\n   40,\n   9,\n   13,\n   37,\n   9,\n   14,\n   36,\n   9,\n   15,\n   35,\n   9,\n   44,\n   6,\n   9,\n   45,\n   5,\n   10,\n   11,\n   39,\n   10,\n   12,\n   38,\n   10,\n   16,\n   34,\n   10,\n   19,\n   31,\n   10,\n   22,\n   28,\n   10,\n   25,\n   25,\n   10,\n   28,\n   22,\n   10,\n   31,\n   19,\n   11,\n   17,\n   33,\n   11,\n   18,\n   32,\n   11,\n   20,\n   30,\n   11,\n   21,\n   29,\n   11,\n   23,\n   27,\n   11,\n   24,\n   26,\n   11,\n   26,\n   24,\n   11,\n   27,\n   23,\n   11,\n   29,\n   21,\n   11,\n   30,\n   20,\n   11,\n   32,\n   18,\n   11,\n   33,\n   17,\n   0,\n   0,\n   0,\n   0,\n   0,\n   0,\n   0,\n   0,\n   0,\n   0,\n   0,\n   0,\n   0,\n   0,\n   0,\n   0,\n   0,\n   0,\n   0,\n   0,\n   0,\n   0,\n   0,\n   0,\n   0,\n   0,\n   0,\n   0,\n   0,\n   0,\n   0,\n   0,\n   0,\n   0,\n   0,\n   0,\n   0,\n   0,\n   0,\n   0,\n   0,\n   0,\n   0,\n   0,\n   0,\n   0,\n   0,\n   0,\n   0,\n   0,\n   0,\n   0,\n   0,\n   0,\n   0,\n   0,\n   0,\n   0,\n   0,\n   0,\n   0,\n   0,\n   0,\n   0,\n   0,\n   0,\n   0,\n   0,\n   0,\n   0,\n   0,\n   0,\n   0,\n   0,\n   0,\n   0,\n   0,\n   0,\n   0,\n   0,\n   0,\n   0,\n   0,\n   0,\n   0,\n   0,\n   0,\n   0,\n   0,\n   0,\n   0,\n   0,\n   0,\n   0,\n   0,\n   0,\n   0,\n   0,\n   0,\n   0,\n   0,\n   0,\n   0,\n   0,\n   0,\n   0,\n   0,\n   0,\n   0,\n   0,\n   0,\n   0,\n   0,\n   0,\n   0,\n   0,\n   0,\n   0,\n   0,\n   0,\n   0,\n   0,\n   0,\n   0,\n   0,\n   0,\n   0,\n   0,\n   0,\n   0,\n   0,\n   0,\n   0,\n   0,\n   0,\n   0,\n   0,\n   0,\n   0,\n   0,\n   0,\n   0,\n   0,\n   0,\n   0,\n   0,\n   0,\n   0,\n   0,\n   0,\n   0,\n   0,\n   0,\n   0,\n   0,\n   0,\n   0,\n   0,\n   0,\n   0,\n   0,\n   0,\n   0,\n   0,\n   0,\n   0,\n   0,\n   0,\n   0,\n   0,\n   0,\n   0,\n   0,\n   0,\n   0,\n   0,\n   0,\n   0,\n   0,\n   0,\n   0,\n   0,\n   0,\n   0,\n   0,\n   0,\n   0,\n   0,\n   0,\n   0,\n   0,\n   0,\n   0,\n   0,\n   0,\n   0,\n   0,\n   0,\n   0,\n   0,\n   0,\n   0,\n   0,\n   0,\n   0,\n   0,\n   0,\n   0,\n   0,\n   0,\n   0,\n   0,\n   0,\n   0,\n   0,\n   0,\n   0,\n   0,\n   0,\n   0,\n   0,\n   0,\n   0,\n   0,\n   0,\n   0,\n   0,\n   0,\n   0,\n   0,\n   0,\n   0,\n   0,\n   0,\n   0,\n   0,\n   0,\n   0,\n   0,\n   0,\n   0,\n   0,\n   0,\n   0,\n   0,\n   0,\n   0,\n   0,\n   0,\n   0,\n   0,\n   0,\n   0,\n   0,\n   0,\n   0,\n   0,\n   0,\n   0,\n   0,\n   0,\n   0,\n   0,\n   0,\n   0,\n   0,\n   0,\n   0,\n   0,\n   0,\n   0,\n   0,\n   0,\n   0,\n   0,\n   0,\n   0,\n   0,\n   0,\n   0,\n   0,\n   0,\n   0,\n   0,\n   0,\n   0,\n   0,\n   0,\n   0,\n   0,\n   0,\n   0,\n   0,\n   0,\n   0,\n   0,\n   0,\n   0,\n   0,\n   0,\n   0,\n   0,\n   0,\n   0,\n   0,\n   0,\n   0,\n   0,\n   0,\n   0,\n   0,\n   0,\n   0,\n   0,\n   0,\n   0,\n   0,\n   0,\n   0,\n   0,\n   0,\n   0,\n   0,\n   0,\n   0,\n   0,\n   0,\n   0,\n   0,\n   0,\n   0,\n   0,\n   0,\n   0,\n   0,\n   0,\n   0,\n   0,\n   0,\n   0,\n   0,\n   0,\n   0,\n   0,\n   0,\n   0,\n   0,\n   0,\n   0,\n   0,\n   0,\n   0,\n   0]},\n {'x': 0.2531523512831924,\n  'y': 0.7169559412550067,\n  'obj_dom_pos': [1,\n   1,\n   77,\n   2,\n   2,\n   76,\n   2,\n   76,\n   2,\n   2,\n   77,\n   1,\n   3,\n   3,\n   75,\n   3,\n   41,\n   37,\n   4,\n   4,\n   74,\n   4,\n   42,\n   36,\n   4,\n   46,\n   32,\n   4,\n   51,\n   27,\n   4,\n   56,\n   22,\n   4,\n   61,\n   17,\n   4,\n   66,\n   12,\n   4,\n   71,\n   7,\n   5,\n   5,\n   73,\n   5,\n   6,\n   72,\n   5,\n   43,\n   35,\n   5,\n   44,\n   34,\n   5,\n   45,\n   33,\n   5,\n   47,\n   31,\n   5,\n   48,\n   30,\n   5,\n   49,\n   29,\n   5,\n   52,\n   26,\n   5,\n   53,\n   25,\n   5,\n   54,\n   24,\n   5,\n   57,\n   21,\n   5,\n   58,\n   20,\n   5,\n   59,\n   19,\n   5,\n   62,\n   16,\n   5,\n   63,\n   15,\n   5,\n   64,\n   14,\n   5,\n   67,\n   11,\n   5,\n   68,\n   10,\n   5,\n   69,\n   9,\n   5,\n   72,\n   6,\n   5,\n   73,\n   5,\n   5,\n   74,\n   4,\n   6,\n   7,\n   71,\n   6,\n   50,\n   28,\n   6,\n   55,\n   23,\n   6,\n   60,\n   18,\n   6,\n   65,\n   13,\n   6,\n   70,\n   8,\n   6,\n   75,\n   3,\n   7,\n   8,\n   70,\n   7,\n   30,\n   48,\n   8,\n   9,\n   69,\n   8,\n   31,\n   47,\n   8,\n   40,\n   38,\n   9,\n   10,\n   68,\n   9,\n   32,\n   46,\n   9,\n   39,\n   39,\n   10,\n   11,\n   67,\n   10,\n   14,\n   64,\n   10,\n   33,\n   45,\n   10,\n   34,\n   44,\n   10,\n   35,\n   43,\n   10,\n   36,\n   42,\n   11,\n   12,\n   66,\n   11,\n   13,\n   65,\n   11,\n   15,\n   63,\n   11,\n   18,\n   60,\n   11,\n   21,\n   57,\n   11,\n   24,\n   54,\n   11,\n   27,\n   51,\n   11,\n   37,\n   41,\n   11,\n   38,\n   40,\n   12,\n   16,\n   62,\n   12,\n   17,\n   61,\n   12,\n   19,\n   59,\n   12,\n   20,\n   58,\n   12,\n   22,\n   56,\n   12,\n   23,\n   55,\n   12,\n   25,\n   53,\n   12,\n   26,\n   52,\n   12,\n   28,\n   50,\n   12,\n   29,\n   49,\n   0,\n   0,\n   0,\n   0,\n   0,\n   0,\n   0,\n   0,\n   0,\n   0,\n   0,\n   0,\n   0,\n   0,\n   0,\n   0,\n   0,\n   0,\n   0,\n   0,\n   0,\n   0,\n   0,\n   0,\n   0,\n   0,\n   0,\n   0,\n   0,\n   0,\n   0,\n   0,\n   0,\n   0,\n   0,\n   0,\n   0,\n   0,\n   0,\n   0,\n   0,\n   0,\n   0,\n   0,\n   0,\n   0,\n   0,\n   0,\n   0,\n   0,\n   0,\n   0,\n   0,\n   0,\n   0,\n   0,\n   0,\n   0,\n   0,\n   0,\n   0,\n   0,\n   0,\n   0,\n   0,\n   0,\n   0,\n   0,\n   0,\n   0,\n   0,\n   0,\n   0,\n   0,\n   0,\n   0,\n   0,\n   0,\n   0,\n   0,\n   0,\n   0,\n   0,\n   0,\n   0,\n   0,\n   0,\n   0,\n   0,\n   0,\n   0,\n   0,\n   0,\n   0,\n   0,\n   0,\n   0,\n   0,\n   0,\n   0,\n   0,\n   0,\n   0,\n   0,\n   0,\n   0,\n   0,\n   0,\n   0,\n   0,\n   0,\n   0,\n   0,\n   0,\n   0,\n   0,\n   0,\n   0,\n   0,\n   0,\n   0,\n   0,\n   0,\n   0,\n   0,\n   0,\n   0,\n   0,\n   0,\n   0,\n   0,\n   0,\n   0,\n   0,\n   0,\n   0,\n   0,\n   0,\n   0,\n   0,\n   0,\n   0,\n   0,\n   0,\n   0,\n   0,\n   0,\n   0,\n   0,\n   0,\n   0,\n   0,\n   0,\n   0,\n   0,\n   0,\n   0,\n   0,\n   0,\n   0,\n   0,\n   0,\n   0,\n   0,\n   0,\n   0,\n   0,\n   0,\n   0,\n   0,\n   0,\n   0,\n   0,\n   0,\n   0,\n   0,\n   0,\n   0,\n   0,\n   0,\n   0,\n   0,\n   0,\n   0,\n   0,\n   0,\n   0,\n   0,\n   0,\n   0,\n   0,\n   0,\n   0,\n   0,\n   0,\n   0,\n   0,\n   0,\n   0,\n   0,\n   0,\n   0,\n   0,\n   0,\n   0,\n   0,\n   0,\n   0,\n   0,\n   0,\n   0,\n   0,\n   0,\n   0,\n   0,\n   0,\n   0,\n   0,\n   0,\n   0,\n   0,\n   0,\n   0,\n   0,\n   0,\n   0,\n   0,\n   0,\n   0,\n   0,\n   0,\n   0,\n   0,\n   0,\n   0,\n   0,\n   0,\n   0,\n   0,\n   0,\n   0,\n   0,\n   0,\n   0,\n   0,\n   0,\n   0,\n   0,\n   0,\n   0,\n   0,\n   0,\n   0,\n   0,\n   0,\n   0,\n   0,\n   0,\n   0,\n   0,\n   0,\n   0,\n   0,\n   0,\n   0,\n   0,\n   0,\n   0,\n   0]},\n {'x': 0.10836671117044949,\n  'y': 0.06942590120160214,\n  'obj_dom_pos': [1,\n   1,\n   138,\n   2,\n   2,\n   137,\n   2,\n   137,\n   2,\n   2,\n   138,\n   1,\n   3,\n   3,\n   136,\n   3,\n   102,\n   37,\n   4,\n   4,\n   135,\n   4,\n   103,\n   36,\n   4,\n   107,\n   32,\n   4,\n   112,\n   27,\n   4,\n   117,\n   22,\n   4,\n   122,\n   17,\n   4,\n   127,\n   12,\n   4,\n   132,\n   7,\n   5,\n   5,\n   134,\n   5,\n   6,\n   133,\n   5,\n   104,\n   35,\n   5,\n   105,\n   34,\n   5,\n   106,\n   33,\n   5,\n   108,\n   31,\n   5,\n   109,\n   30,\n   5,\n   110,\n   29,\n   5,\n   113,\n   26,\n   5,\n   114,\n   25,\n   5,\n   115,\n   24,\n   5,\n   118,\n   21,\n   5,\n   119,\n   20,\n   5,\n   120,\n   19,\n   5,\n   123,\n   16,\n   5,\n   124,\n   15,\n   5,\n   125,\n   14,\n   5,\n   128,\n   11,\n   5,\n   129,\n   10,\n   5,\n   130,\n   9,\n   5,\n   133,\n   6,\n   5,\n   134,\n   5,\n   5,\n   135,\n   4,\n   6,\n   7,\n   132,\n   6,\n   111,\n   28,\n   6,\n   116,\n   23,\n   6,\n   121,\n   18,\n   6,\n   126,\n   13,\n   6,\n   131,\n   8,\n   6,\n   136,\n   3,\n   7,\n   8,\n   131,\n   7,\n   90,\n   49,\n   8,\n   9,\n   130,\n   8,\n   91,\n   48,\n   8,\n   101,\n   38,\n   9,\n   10,\n   129,\n   9,\n   88,\n   51,\n   9,\n   89,\n   50,\n   9,\n   92,\n   47,\n   9,\n   99,\n   40,\n   10,\n   11,\n   128,\n   10,\n   16,\n   123,\n   10,\n   87,\n   52,\n   10,\n   93,\n   46,\n   10,\n   94,\n   45,\n   10,\n   95,\n   44,\n   10,\n   96,\n   43,\n   10,\n   100,\n   39,\n   11,\n   12,\n   127,\n   11,\n   14,\n   125,\n   11,\n   15,\n   124,\n   11,\n   17,\n   122,\n   11,\n   52,\n   87,\n   11,\n   97,\n   42,\n   11,\n   98,\n   41,\n   12,\n   13,\n   126,\n   12,\n   18,\n   121,\n   12,\n   23,\n   116,\n   12,\n   37,\n   102,\n   12,\n   43,\n   96,\n   12,\n   44,\n   95,\n   12,\n   45,\n   94,\n   12,\n   53,\n   86,\n   12,\n   58,\n   81,\n   12,\n   72,\n   67,\n   12,\n   78,\n   61,\n   12,\n   79,\n   60,\n   12,\n   80,\n   59,\n   13,\n   19,\n   120,\n   13,\n   24,\n   115,\n   13,\n   25,\n   114,\n   13,\n   26,\n   113,\n   13,\n   27,\n   112,\n   13,\n   28,\n   111,\n   13,\n   29,\n   110,\n   13,\n   31,\n   108,\n   13,\n   38,\n   101,\n   13,\n   39,\n   100,\n   13,\n   40,\n   99,\n   13,\n   41,\n   98,\n   13,\n   42,\n   97,\n   13,\n   46,\n   93,\n   13,\n   54,\n   85,\n   13,\n   59,\n   80,\n   13,\n   60,\n   79,\n   13,\n   61,\n   78,\n   13,\n   62,\n   77,\n   13,\n   63,\n   76,\n   13,\n   64,\n   75,\n   13,\n   66,\n   73,\n   13,\n   73,\n   66,\n   13,\n   74,\n   65,\n   13,\n   75,\n   64,\n   13,\n   76,\n   63,\n   13,\n   77,\n   62,\n   13,\n   81,\n   58,\n   14,\n   20,\n   119,\n   14,\n   22,\n   117,\n   14,\n   30,\n   109,\n   14,\n   32,\n   107,\n   14,\n   33,\n   106,\n   14,\n   47,\n   92,\n   14,\n   48,\n   91,\n   14,\n   55,\n   84,\n   14,\n   57,\n   82,\n   14,\n   65,\n   74,\n   14,\n   67,\n   72,\n   14,\n   68,\n   71,\n   14,\n   82,\n   57,\n   14,\n   83,\n   56,\n   15,\n   21,\n   118,\n   15,\n   34,\n   105,\n   15,\n   35,\n   104,\n   15,\n   36,\n   103,\n   15,\n   49,\n   90,\n   15,\n   50,\n   89,\n   15,\n   51,\n   88,\n   15,\n   56,\n   83,\n   15,\n   69,\n   70,\n   15,\n   70,\n   69,\n   15,\n   71,\n   68,\n   15,\n   84,\n   55,\n   15,\n   85,\n   54,\n   15,\n   86,\n   53,\n   0,\n   0,\n   0,\n   0,\n   0,\n   0,\n   0,\n   0,\n   0,\n   0,\n   0,\n   0,\n   0,\n   0,\n   0,\n   0,\n   0,\n   0,\n   0,\n   0,\n   0,\n   0,\n   0,\n   0,\n   0,\n   0,\n   0,\n   0,\n   0,\n   0,\n   0,\n   0,\n   0,\n   0,\n   0,\n   0,\n   0,\n   0,\n   0,\n   0,\n   0,\n   0,\n   0,\n   0,\n   0,\n   0,\n   0,\n   0,\n   0,\n   0,\n   0,\n   0,\n   0,\n   0,\n   0,\n   0,\n   0,\n   0,\n   0,\n   0,\n   0,\n   0,\n   0,\n   0,\n   0,\n   0,\n   0,\n   0,\n   0,\n   0,\n   0,\n   0,\n   0,\n   0,\n   0,\n   0,\n   0,\n   0,\n   0,\n   0,\n   0,\n   0,\n   0,\n   0,\n   0,\n   0]},\n {'x': 0.8868862186619196,\n  'y': 0.27636849132176233,\n  'obj_dom_pos': [1,\n   1,\n   138,\n   2,\n   2,\n   137,\n   2,\n   137,\n   2,\n   2,\n   138,\n   1,\n   3,\n   3,\n   136,\n   3,\n   102,\n   37,\n   4,\n   4,\n   135,\n   4,\n   103,\n   36,\n   4,\n   107,\n   32,\n   4,\n   112,\n   27,\n   4,\n   117,\n   22,\n   4,\n   122,\n   17,\n   4,\n   127,\n   12,\n   4,\n   132,\n   7,\n   5,\n   5,\n   134,\n   5,\n   6,\n   133,\n   5,\n   104,\n   35,\n   5,\n   105,\n   34,\n   5,\n   106,\n   33,\n   5,\n   108,\n   31,\n   5,\n   109,\n   30,\n   5,\n   110,\n   29,\n   5,\n   113,\n   26,\n   5,\n   114,\n   25,\n   5,\n   115,\n   24,\n   5,\n   118,\n   21,\n   5,\n   119,\n   20,\n   5,\n   120,\n   19,\n   5,\n   123,\n   16,\n   5,\n   124,\n   15,\n   5,\n   125,\n   14,\n   5,\n   128,\n   11,\n   5,\n   129,\n   10,\n   5,\n   130,\n   9,\n   5,\n   133,\n   6,\n   5,\n   134,\n   5,\n   5,\n   135,\n   4,\n   6,\n   7,\n   132,\n   6,\n   111,\n   28,\n   6,\n   116,\n   23,\n   6,\n   121,\n   18,\n   6,\n   126,\n   13,\n   6,\n   131,\n   8,\n   6,\n   136,\n   3,\n   7,\n   8,\n   131,\n   7,\n   90,\n   49,\n   8,\n   9,\n   130,\n   8,\n   91,\n   48,\n   8,\n   101,\n   38,\n   9,\n   10,\n   129,\n   9,\n   88,\n   51,\n   9,\n   89,\n   50,\n   9,\n   92,\n   47,\n   9,\n   99,\n   40,\n   10,\n   11,\n   128,\n   10,\n   16,\n   123,\n   10,\n   87,\n   52,\n   10,\n   93,\n   46,\n   10,\n   94,\n   45,\n   10,\n   95,\n   44,\n   10,\n   96,\n   43,\n   10,\n   100,\n   39,\n   11,\n   12,\n   127,\n   11,\n   14,\n   125,\n   11,\n   15,\n   124,\n   11,\n   17,\n   122,\n   11,\n   52,\n   87,\n   11,\n   97,\n   42,\n   11,\n   98,\n   41,\n   12,\n   13,\n   126,\n   12,\n   18,\n   121,\n   12,\n   23,\n   116,\n   12,\n   37,\n   102,\n   12,\n   43,\n   96,\n   12,\n   44,\n   95,\n   12,\n   45,\n   94,\n   12,\n   53,\n   86,\n   12,\n   58,\n   81,\n   12,\n   72,\n   67,\n   12,\n   78,\n   61,\n   12,\n   79,\n   60,\n   12,\n   80,\n   59,\n   13,\n   19,\n   120,\n   13,\n   24,\n   115,\n   13,\n   25,\n   114,\n   13,\n   26,\n   113,\n   13,\n   27,\n   112,\n   13,\n   28,\n   111,\n   13,\n   29,\n   110,\n   13,\n   31,\n   108,\n   13,\n   38,\n   101,\n   13,\n   39,\n   100,\n   13,\n   40,\n   99,\n   13,\n   41,\n   98,\n   13,\n   42,\n   97,\n   13,\n   46,\n   93,\n   13,\n   54,\n   85,\n   13,\n   59,\n   80,\n   13,\n   60,\n   79,\n   13,\n   61,\n   78,\n   13,\n   62,\n   77,\n   13,\n   63,\n   76,\n   13,\n   64,\n   75,\n   13,\n   66,\n   73,\n   13,\n   73,\n   66,\n   13,\n   74,\n   65,\n   13,\n   75,\n   64,\n   13,\n   76,\n   63,\n   13,\n   77,\n   62,\n   13,\n   81,\n   58,\n   14,\n   20,\n   119,\n   14,\n   22,\n   117,\n   14,\n   30,\n   109,\n   14,\n   32,\n   107,\n   14,\n   33,\n   106,\n   14,\n   47,\n   92,\n   14,\n   48,\n   91,\n   14,\n   55,\n   84,\n   14,\n   57,\n   82,\n   14,\n   65,\n   74,\n   14,\n   67,\n   72,\n   14,\n   68,\n   71,\n   14,\n   82,\n   57,\n   14,\n   83,\n   56,\n   15,\n   21,\n   118,\n   15,\n   34,\n   105,\n   15,\n   35,\n   104,\n   15,\n   36,\n   103,\n   15,\n   49,\n   90,\n   15,\n   50,\n   89,\n   15,\n   51,\n   88,\n   15,\n   56,\n   83,\n   15,\n   69,\n   70,\n   15,\n   70,\n   69,\n   15,\n   71,\n   68,\n   15,\n   84,\n   55,\n   15,\n   85,\n   54,\n   15,\n   86,\n   53,\n   0,\n   0,\n   0,\n   0,\n   0,\n   0,\n   0,\n   0,\n   0,\n   0,\n   0,\n   0,\n   0,\n   0,\n   0,\n   0,\n   0,\n   0,\n   0,\n   0,\n   0,\n   0,\n   0,\n   0,\n   0,\n   0,\n   0,\n   0,\n   0,\n   0,\n   0,\n   0,\n   0,\n   0,\n   0,\n   0,\n   0,\n   0,\n   0,\n   0,\n   0,\n   0,\n   0,\n   0,\n   0,\n   0,\n   0,\n   0,\n   0,\n   0,\n   0,\n   0,\n   0,\n   0,\n   0,\n   0,\n   0,\n   0,\n   0,\n   0,\n   0,\n   0,\n   0,\n   0,\n   0,\n   0,\n   0,\n   0,\n   0,\n   0,\n   0,\n   0,\n   0,\n   0,\n   0,\n   0,\n   0,\n   0,\n   0,\n   0,\n   0,\n   0,\n   0,\n   0,\n   0,\n   0]},\n {'x': 0.6614003856994511,\n  'y': 0.5927903871829105,\n  'obj_dom_pos': [1,\n   1,\n   138,\n   2,\n   2,\n   137,\n   2,\n   137,\n   2,\n   2,\n   138,\n   1,\n   3,\n   3,\n   136,\n   3,\n   102,\n   37,\n   4,\n   4,\n   135,\n   4,\n   103,\n   36,\n   4,\n   107,\n   32,\n   4,\n   112,\n   27,\n   4,\n   117,\n   22,\n   4,\n   122,\n   17,\n   4,\n   127,\n   12,\n   4,\n   132,\n   7,\n   5,\n   5,\n   134,\n   5,\n   6,\n   133,\n   5,\n   104,\n   35,\n   5,\n   105,\n   34,\n   5,\n   106,\n   33,\n   5,\n   108,\n   31,\n   5,\n   109,\n   30,\n   5,\n   110,\n   29,\n   5,\n   113,\n   26,\n   5,\n   114,\n   25,\n   5,\n   115,\n   24,\n   5,\n   118,\n   21,\n   5,\n   119,\n   20,\n   5,\n   120,\n   19,\n   5,\n   123,\n   16,\n   5,\n   124,\n   15,\n   5,\n   125,\n   14,\n   5,\n   128,\n   11,\n   5,\n   129,\n   10,\n   5,\n   130,\n   9,\n   5,\n   133,\n   6,\n   5,\n   134,\n   5,\n   5,\n   135,\n   4,\n   6,\n   7,\n   132,\n   6,\n   111,\n   28,\n   6,\n   116,\n   23,\n   6,\n   121,\n   18,\n   6,\n   126,\n   13,\n   6,\n   131,\n   8,\n   6,\n   136,\n   3,\n   7,\n   8,\n   131,\n   7,\n   90,\n   49,\n   8,\n   9,\n   130,\n   8,\n   91,\n   48,\n   8,\n   101,\n   38,\n   9,\n   10,\n   129,\n   9,\n   88,\n   51,\n   9,\n   89,\n   50,\n   9,\n   92,\n   47,\n   9,\n   99,\n   40,\n   10,\n   11,\n   128,\n   10,\n   16,\n   123,\n   10,\n   87,\n   52,\n   10,\n   93,\n   46,\n   10,\n   94,\n   45,\n   10,\n   95,\n   44,\n   10,\n   96,\n   43,\n   10,\n   100,\n   39,\n   11,\n   12,\n   127,\n   11,\n   14,\n   125,\n   11,\n   15,\n   124,\n   11,\n   17,\n   122,\n   11,\n   52,\n   87,\n   11,\n   97,\n   42,\n   11,\n   98,\n   41,\n   12,\n   13,\n   126,\n   12,\n   18,\n   121,\n   12,\n   23,\n   116,\n   12,\n   37,\n   102,\n   12,\n   43,\n   96,\n   12,\n   44,\n   95,\n   12,\n   45,\n   94,\n   12,\n   53,\n   86,\n   12,\n   58,\n   81,\n   12,\n   72,\n   67,\n   12,\n   78,\n   61,\n   12,\n   79,\n   60,\n   12,\n   80,\n   59,\n   13,\n   19,\n   120,\n   13,\n   24,\n   115,\n   13,\n   25,\n   114,\n   13,\n   26,\n   113,\n   13,\n   27,\n   112,\n   13,\n   28,\n   111,\n   13,\n   29,\n   110,\n   13,\n   31,\n   108,\n   13,\n   38,\n   101,\n   13,\n   39,\n   100,\n   13,\n   40,\n   99,\n   13,\n   41,\n   98,\n   13,\n   42,\n   97,\n   13,\n   46,\n   93,\n   13,\n   54,\n   85,\n   13,\n   59,\n   80,\n   13,\n   60,\n   79,\n   13,\n   61,\n   78,\n   13,\n   62,\n   77,\n   13,\n   63,\n   76,\n   13,\n   64,\n   75,\n   13,\n   66,\n   73,\n   13,\n   73,\n   66,\n   13,\n   74,\n   65,\n   13,\n   75,\n   64,\n   13,\n   76,\n   63,\n   13,\n   77,\n   62,\n   13,\n   81,\n   58,\n   14,\n   20,\n   119,\n   14,\n   22,\n   117,\n   14,\n   30,\n   109,\n   14,\n   32,\n   107,\n   14,\n   33,\n   106,\n   14,\n   47,\n   92,\n   14,\n   48,\n   91,\n   14,\n   55,\n   84,\n   14,\n   57,\n   82,\n   14,\n   65,\n   74,\n   14,\n   67,\n   72,\n   14,\n   68,\n   71,\n   14,\n   82,\n   57,\n   14,\n   83,\n   56,\n   15,\n   21,\n   118,\n   15,\n   34,\n   105,\n   15,\n   35,\n   104,\n   15,\n   36,\n   103,\n   15,\n   49,\n   90,\n   15,\n   50,\n   89,\n   15,\n   51,\n   88,\n   15,\n   56,\n   83,\n   15,\n   69,\n   70,\n   15,\n   70,\n   69,\n   15,\n   71,\n   68,\n   15,\n   84,\n   55,\n   15,\n   85,\n   54,\n   15,\n   86,\n   53,\n   0,\n   0,\n   0,\n   0,\n   0,\n   0,\n   0,\n   0,\n   0,\n   0,\n   0,\n   0,\n   0,\n   0,\n   0,\n   0,\n   0,\n   0,\n   0,\n   0,\n   0,\n   0,\n   0,\n   0,\n   0,\n   0,\n   0,\n   0,\n   0,\n   0,\n   0,\n   0,\n   0,\n   0,\n   0,\n   0,\n   0,\n   0,\n   0,\n   0,\n   0,\n   0,\n   0,\n   0,\n   0,\n   0,\n   0,\n   0,\n   0,\n   0,\n   0,\n   0,\n   0,\n   0,\n   0,\n   0,\n   0,\n   0,\n   0,\n   0,\n   0,\n   0,\n   0,\n   0,\n   0,\n   0,\n   0,\n   0,\n   0,\n   0,\n   0,\n   0,\n   0,\n   0,\n   0,\n   0,\n   0,\n   0,\n   0,\n   0,\n   0,\n   0,\n   0,\n   0,\n   0,\n   0]},\n {'x': 0.5237353508381546,\n  'y': 0.6675567423230975,\n  'obj_dom_pos': [4,\n   170,\n   4,\n   138,\n   36,\n   4,\n   142,\n   32,\n   4,\n   147,\n   27,\n   4,\n   152,\n   22,\n   4,\n   157,\n   17,\n   4,\n   162,\n   12,\n   4,\n   167,\n   7,\n   5,\n   5,\n   169,\n   5,\n   6,\n   168,\n   5,\n   139,\n   35,\n   5,\n   140,\n   34,\n   5,\n   141,\n   33,\n   5,\n   143,\n   31,\n   5,\n   144,\n   30,\n   5,\n   145,\n   29,\n   5,\n   148,\n   26,\n   5,\n   149,\n   25,\n   5,\n   150,\n   24,\n   5,\n   153,\n   21,\n   5,\n   154,\n   20,\n   5,\n   155,\n   19,\n   5,\n   158,\n   16,\n   5,\n   159,\n   15,\n   5,\n   160,\n   14,\n   5,\n   163,\n   11,\n   5,\n   164,\n   10,\n   5,\n   165,\n   9,\n   5,\n   168,\n   6,\n   5,\n   169,\n   5,\n   5,\n   170,\n   4,\n   6,\n   7,\n   167,\n   6,\n   146,\n   28,\n   6,\n   151,\n   23,\n   6,\n   156,\n   18,\n   6,\n   161,\n   13,\n   6,\n   166,\n   8,\n   6,\n   171,\n   3,\n   7,\n   8,\n   166,\n   7,\n   125,\n   49,\n   8,\n   9,\n   165,\n   8,\n   126,\n   48,\n   8,\n   136,\n   38,\n   9,\n   10,\n   164,\n   9,\n   123,\n   51,\n   9,\n   124,\n   50,\n   9,\n   127,\n   47,\n   9,\n   134,\n   40,\n   10,\n   11,\n   163,\n   10,\n   16,\n   158,\n   10,\n   122,\n   52,\n   10,\n   128,\n   46,\n   10,\n   129,\n   45,\n   10,\n   130,\n   44,\n   10,\n   131,\n   43,\n   10,\n   135,\n   39,\n   11,\n   12,\n   162,\n   11,\n   14,\n   160,\n   11,\n   15,\n   159,\n   11,\n   17,\n   157,\n   11,\n   52,\n   122,\n   11,\n   87,\n   87,\n   11,\n   132,\n   42,\n   11,\n   133,\n   41,\n   12,\n   13,\n   161,\n   12,\n   18,\n   156,\n   12,\n   23,\n   151,\n   12,\n   37,\n   137,\n   12,\n   43,\n   131,\n   12,\n   44,\n   130,\n   12,\n   45,\n   129,\n   12,\n   53,\n   121,\n   12,\n   58,\n   116,\n   12,\n   72,\n   102,\n   12,\n   78,\n   96,\n   12,\n   79,\n   95,\n   12,\n   80,\n   94,\n   12,\n   88,\n   86,\n   12,\n   93,\n   81,\n   12,\n   107,\n   67,\n   12,\n   113,\n   61,\n   12,\n   114,\n   60,\n   12,\n   115,\n   59,\n   13,\n   19,\n   155,\n   13,\n   24,\n   150,\n   13,\n   25,\n   149,\n   13,\n   26,\n   148,\n   13,\n   27,\n   147,\n   13,\n   28,\n   146,\n   13,\n   29,\n   145,\n   13,\n   31,\n   143,\n   13,\n   38,\n   136,\n   13,\n   39,\n   135,\n   13,\n   40,\n   134,\n   13,\n   41,\n   133,\n   13,\n   42,\n   132,\n   13,\n   46,\n   128,\n   13,\n   54,\n   120,\n   13,\n   59,\n   115,\n   13,\n   60,\n   114,\n   13,\n   61,\n   113,\n   13,\n   62,\n   112,\n   13,\n   63,\n   111,\n   13,\n   64,\n   110,\n   13,\n   66,\n   108,\n   13,\n   73,\n   101,\n   13,\n   74,\n   100,\n   13,\n   75,\n   99,\n   13,\n   76,\n   98,\n   13,\n   77,\n   97,\n   13,\n   81,\n   93,\n   13,\n   89,\n   85,\n   13,\n   94,\n   80,\n   13,\n   95,\n   79,\n   13,\n   96,\n   78,\n   13,\n   97,\n   77,\n   13,\n   98,\n   76,\n   13,\n   99,\n   75,\n   13,\n   101,\n   73,\n   13,\n   108,\n   66,\n   13,\n   109,\n   65,\n   13,\n   110,\n   64,\n   13,\n   111,\n   63,\n   13,\n   112,\n   62,\n   13,\n   116,\n   58,\n   14,\n   20,\n   154,\n   14,\n   22,\n   152,\n   14,\n   30,\n   144,\n   14,\n   32,\n   142,\n   14,\n   33,\n   141,\n   14,\n   47,\n   127,\n   14,\n   48,\n   126,\n   14,\n   55,\n   119,\n   14,\n   57,\n   117,\n   14,\n   65,\n   109,\n   14,\n   67,\n   107,\n   14,\n   68,\n   106,\n   14,\n   82,\n   92,\n   14,\n   83,\n   91,\n   14,\n   90,\n   84,\n   14,\n   92,\n   82,\n   14,\n   100,\n   74,\n   14,\n   102,\n   72,\n   14,\n   103,\n   71,\n   14,\n   117,\n   57,\n   14,\n   118,\n   56,\n   15,\n   21,\n   153,\n   15,\n   34,\n   140,\n   15,\n   35,\n   139,\n   15,\n   36,\n   138,\n   15,\n   49,\n   125,\n   15,\n   50,\n   124,\n   15,\n   51,\n   123,\n   15,\n   56,\n   118,\n   15,\n   69,\n   105,\n   15,\n   70,\n   104,\n   15,\n   71,\n   103,\n   15,\n   84,\n   90,\n   15,\n   85,\n   89,\n   15,\n   86,\n   88,\n   15,\n   91,\n   83,\n   15,\n   104,\n   70,\n   15,\n   105,\n   69,\n   15,\n   106,\n   68,\n   15,\n   119,\n   55,\n   15,\n   120,\n   54,\n   15,\n   121,\n   53]},\n {'x': 0.8726450081590269,\n  'y': 0.253671562082777,\n  'obj_dom_pos': [1,\n   1,\n   138,\n   2,\n   2,\n   137,\n   2,\n   137,\n   2,\n   2,\n   138,\n   1,\n   3,\n   3,\n   136,\n   3,\n   102,\n   37,\n   4,\n   4,\n   135,\n   4,\n   103,\n   36,\n   4,\n   107,\n   32,\n   4,\n   112,\n   27,\n   4,\n   117,\n   22,\n   4,\n   122,\n   17,\n   4,\n   127,\n   12,\n   4,\n   132,\n   7,\n   5,\n   5,\n   134,\n   5,\n   6,\n   133,\n   5,\n   104,\n   35,\n   5,\n   105,\n   34,\n   5,\n   106,\n   33,\n   5,\n   108,\n   31,\n   5,\n   109,\n   30,\n   5,\n   110,\n   29,\n   5,\n   113,\n   26,\n   5,\n   114,\n   25,\n   5,\n   115,\n   24,\n   5,\n   118,\n   21,\n   5,\n   119,\n   20,\n   5,\n   120,\n   19,\n   5,\n   123,\n   16,\n   5,\n   124,\n   15,\n   5,\n   125,\n   14,\n   5,\n   128,\n   11,\n   5,\n   129,\n   10,\n   5,\n   130,\n   9,\n   5,\n   133,\n   6,\n   5,\n   134,\n   5,\n   5,\n   135,\n   4,\n   6,\n   7,\n   132,\n   6,\n   111,\n   28,\n   6,\n   116,\n   23,\n   6,\n   121,\n   18,\n   6,\n   126,\n   13,\n   6,\n   131,\n   8,\n   6,\n   136,\n   3,\n   7,\n   8,\n   131,\n   7,\n   90,\n   49,\n   8,\n   9,\n   130,\n   8,\n   91,\n   48,\n   8,\n   101,\n   38,\n   9,\n   10,\n   129,\n   9,\n   88,\n   51,\n   9,\n   89,\n   50,\n   9,\n   92,\n   47,\n   9,\n   99,\n   40,\n   10,\n   11,\n   128,\n   10,\n   16,\n   123,\n   10,\n   87,\n   52,\n   10,\n   93,\n   46,\n   10,\n   94,\n   45,\n   10,\n   95,\n   44,\n   10,\n   96,\n   43,\n   10,\n   100,\n   39,\n   11,\n   12,\n   127,\n   11,\n   14,\n   125,\n   11,\n   15,\n   124,\n   11,\n   17,\n   122,\n   11,\n   52,\n   87,\n   11,\n   97,\n   42,\n   11,\n   98,\n   41,\n   12,\n   13,\n   126,\n   12,\n   18,\n   121,\n   12,\n   23,\n   116,\n   12,\n   37,\n   102,\n   12,\n   43,\n   96,\n   12,\n   44,\n   95,\n   12,\n   45,\n   94,\n   12,\n   53,\n   86,\n   12,\n   58,\n   81,\n   12,\n   72,\n   67,\n   12,\n   78,\n   61,\n   12,\n   79,\n   60,\n   12,\n   80,\n   59,\n   13,\n   19,\n   120,\n   13,\n   24,\n   115,\n   13,\n   25,\n   114,\n   13,\n   26,\n   113,\n   13,\n   27,\n   112,\n   13,\n   28,\n   111,\n   13,\n   29,\n   110,\n   13,\n   31,\n   108,\n   13,\n   38,\n   101,\n   13,\n   39,\n   100,\n   13,\n   40,\n   99,\n   13,\n   41,\n   98,\n   13,\n   42,\n   97,\n   13,\n   46,\n   93,\n   13,\n   54,\n   85,\n   13,\n   59,\n   80,\n   13,\n   60,\n   79,\n   13,\n   61,\n   78,\n   13,\n   62,\n   77,\n   13,\n   63,\n   76,\n   13,\n   64,\n   75,\n   13,\n   66,\n   73,\n   13,\n   73,\n   66,\n   13,\n   74,\n   65,\n   13,\n   75,\n   64,\n   13,\n   76,\n   63,\n   13,\n   77,\n   62,\n   13,\n   81,\n   58,\n   14,\n   20,\n   119,\n   14,\n   22,\n   117,\n   14,\n   30,\n   109,\n   14,\n   32,\n   107,\n   14,\n   33,\n   106,\n   14,\n   47,\n   92,\n   14,\n   48,\n   91,\n   14,\n   55,\n   84,\n   14,\n   57,\n   82,\n   14,\n   65,\n   74,\n   14,\n   67,\n   72,\n   14,\n   68,\n   71,\n   14,\n   82,\n   57,\n   14,\n   83,\n   56,\n   15,\n   21,\n   118,\n   15,\n   34,\n   105,\n   15,\n   35,\n   104,\n   15,\n   36,\n   103,\n   15,\n   49,\n   90,\n   15,\n   50,\n   89,\n   15,\n   51,\n   88,\n   15,\n   56,\n   83,\n   15,\n   69,\n   70,\n   15,\n   70,\n   69,\n   15,\n   71,\n   68,\n   15,\n   84,\n   55,\n   15,\n   85,\n   54,\n   15,\n   86,\n   53,\n   0,\n   0,\n   0,\n   0,\n   0,\n   0,\n   0,\n   0,\n   0,\n   0,\n   0,\n   0,\n   0,\n   0,\n   0,\n   0,\n   0,\n   0,\n   0,\n   0,\n   0,\n   0,\n   0,\n   0,\n   0,\n   0,\n   0,\n   0,\n   0,\n   0,\n   0,\n   0,\n   0,\n   0,\n   0,\n   0,\n   0,\n   0,\n   0,\n   0,\n   0,\n   0,\n   0,\n   0,\n   0,\n   0,\n   0,\n   0,\n   0,\n   0,\n   0,\n   0,\n   0,\n   0,\n   0,\n   0,\n   0,\n   0,\n   0,\n   0,\n   0,\n   0,\n   0,\n   0,\n   0,\n   0,\n   0,\n   0,\n   0,\n   0,\n   0,\n   0,\n   0,\n   0,\n   0,\n   0,\n   0,\n   0,\n   0,\n   0,\n   0,\n   0,\n   0,\n   0,\n   0,\n   0]},\n {'x': 0.7705829995549621,\n  'y': 0.08277703604806408,\n  'obj_dom_pos': [1,\n   1,\n   138,\n   2,\n   2,\n   137,\n   2,\n   137,\n   2,\n   2,\n   138,\n   1,\n   3,\n   3,\n   136,\n   3,\n   102,\n   37,\n   4,\n   4,\n   135,\n   4,\n   103,\n   36,\n   4,\n   107,\n   32,\n   4,\n   112,\n   27,\n   4,\n   117,\n   22,\n   4,\n   122,\n   17,\n   4,\n   127,\n   12,\n   4,\n   132,\n   7,\n   5,\n   5,\n   134,\n   5,\n   6,\n   133,\n   5,\n   104,\n   35,\n   5,\n   105,\n   34,\n   5,\n   106,\n   33,\n   5,\n   108,\n   31,\n   5,\n   109,\n   30,\n   5,\n   110,\n   29,\n   5,\n   113,\n   26,\n   5,\n   114,\n   25,\n   5,\n   115,\n   24,\n   5,\n   118,\n   21,\n   5,\n   119,\n   20,\n   5,\n   120,\n   19,\n   5,\n   123,\n   16,\n   5,\n   124,\n   15,\n   5,\n   125,\n   14,\n   5,\n   128,\n   11,\n   5,\n   129,\n   10,\n   5,\n   130,\n   9,\n   5,\n   133,\n   6,\n   5,\n   134,\n   5,\n   5,\n   135,\n   4,\n   6,\n   7,\n   132,\n   6,\n   111,\n   28,\n   6,\n   116,\n   23,\n   6,\n   121,\n   18,\n   6,\n   126,\n   13,\n   6,\n   131,\n   8,\n   6,\n   136,\n   3,\n   7,\n   8,\n   131,\n   7,\n   90,\n   49,\n   8,\n   9,\n   130,\n   8,\n   91,\n   48,\n   8,\n   101,\n   38,\n   9,\n   10,\n   129,\n   9,\n   88,\n   51,\n   9,\n   89,\n   50,\n   9,\n   92,\n   47,\n   9,\n   99,\n   40,\n   10,\n   11,\n   128,\n   10,\n   16,\n   123,\n   10,\n   87,\n   52,\n   10,\n   93,\n   46,\n   10,\n   94,\n   45,\n   10,\n   95,\n   44,\n   10,\n   96,\n   43,\n   10,\n   100,\n   39,\n   11,\n   12,\n   127,\n   11,\n   14,\n   125,\n   11,\n   15,\n   124,\n   11,\n   17,\n   122,\n   11,\n   52,\n   87,\n   11,\n   97,\n   42,\n   11,\n   98,\n   41,\n   12,\n   13,\n   126,\n   12,\n   18,\n   121,\n   12,\n   23,\n   116,\n   12,\n   37,\n   102,\n   12,\n   43,\n   96,\n   12,\n   44,\n   95,\n   12,\n   45,\n   94,\n   12,\n   53,\n   86,\n   12,\n   58,\n   81,\n   12,\n   72,\n   67,\n   12,\n   78,\n   61,\n   12,\n   79,\n   60,\n   12,\n   80,\n   59,\n   13,\n   19,\n   120,\n   13,\n   24,\n   115,\n   13,\n   25,\n   114,\n   13,\n   26,\n   113,\n   13,\n   27,\n   112,\n   13,\n   28,\n   111,\n   13,\n   29,\n   110,\n   13,\n   31,\n   108,\n   13,\n   38,\n   101,\n   13,\n   39,\n   100,\n   13,\n   40,\n   99,\n   13,\n   41,\n   98,\n   13,\n   42,\n   97,\n   13,\n   46,\n   93,\n   13,\n   54,\n   85,\n   13,\n   59,\n   80,\n   13,\n   60,\n   79,\n   13,\n   61,\n   78,\n   13,\n   62,\n   77,\n   13,\n   63,\n   76,\n   13,\n   64,\n   75,\n   13,\n   66,\n   73,\n   13,\n   73,\n   66,\n   13,\n   74,\n   65,\n   13,\n   75,\n   64,\n   13,\n   76,\n   63,\n   13,\n   77,\n   62,\n   13,\n   81,\n   58,\n   14,\n   20,\n   119,\n   14,\n   22,\n   117,\n   14,\n   30,\n   109,\n   14,\n   32,\n   107,\n   14,\n   33,\n   106,\n   14,\n   47,\n   92,\n   14,\n   48,\n   91,\n   14,\n   55,\n   84,\n   14,\n   57,\n   82,\n   14,\n   65,\n   74,\n   14,\n   67,\n   72,\n   14,\n   68,\n   71,\n   14,\n   82,\n   57,\n   14,\n   83,\n   56,\n   15,\n   21,\n   118,\n   15,\n   34,\n   105,\n   15,\n   35,\n   104,\n   15,\n   36,\n   103,\n   15,\n   49,\n   90,\n   15,\n   50,\n   89,\n   15,\n   51,\n   88,\n   15,\n   56,\n   83,\n   15,\n   69,\n   70,\n   15,\n   70,\n   69,\n   15,\n   71,\n   68,\n   15,\n   84,\n   55,\n   15,\n   85,\n   54,\n   15,\n   86,\n   53,\n   0,\n   0,\n   0,\n   0,\n   0,\n   0,\n   0,\n   0,\n   0,\n   0,\n   0,\n   0,\n   0,\n   0,\n   0,\n   0,\n   0,\n   0,\n   0,\n   0,\n   0,\n   0,\n   0,\n   0,\n   0,\n   0,\n   0,\n   0,\n   0,\n   0,\n   0,\n   0,\n   0,\n   0,\n   0,\n   0,\n   0,\n   0,\n   0,\n   0,\n   0,\n   0,\n   0,\n   0,\n   0,\n   0,\n   0,\n   0,\n   0,\n   0,\n   0,\n   0,\n   0,\n   0,\n   0,\n   0,\n   0,\n   0,\n   0,\n   0,\n   0,\n   0,\n   0,\n   0,\n   0,\n   0,\n   0,\n   0,\n   0,\n   0,\n   0,\n   0,\n   0,\n   0,\n   0,\n   0,\n   0,\n   0,\n   0,\n   0,\n   0,\n   0,\n   0,\n   0,\n   0,\n   0]},\n {'x': 0.8133066310636404,\n  'y': 0.17757009345794392,\n  'obj_dom_pos': [1,\n   1,\n   113,\n   2,\n   2,\n   112,\n   2,\n   112,\n   2,\n   2,\n   113,\n   1,\n   3,\n   3,\n   111,\n   3,\n   77,\n   37,\n   4,\n   4,\n   110,\n   4,\n   78,\n   36,\n   4,\n   82,\n   32,\n   4,\n   87,\n   27,\n   4,\n   92,\n   22,\n   4,\n   97,\n   17,\n   4,\n   102,\n   12,\n   4,\n   107,\n   7,\n   5,\n   5,\n   109,\n   5,\n   6,\n   108,\n   5,\n   79,\n   35,\n   5,\n   80,\n   34,\n   5,\n   81,\n   33,\n   5,\n   83,\n   31,\n   5,\n   84,\n   30,\n   5,\n   85,\n   29,\n   5,\n   88,\n   26,\n   5,\n   89,\n   25,\n   5,\n   90,\n   24,\n   5,\n   93,\n   21,\n   5,\n   94,\n   20,\n   5,\n   95,\n   19,\n   5,\n   98,\n   16,\n   5,\n   99,\n   15,\n   5,\n   100,\n   14,\n   5,\n   103,\n   11,\n   5,\n   104,\n   10,\n   5,\n   105,\n   9,\n   5,\n   108,\n   6,\n   5,\n   109,\n   5,\n   5,\n   110,\n   4,\n   6,\n   7,\n   107,\n   6,\n   86,\n   28,\n   6,\n   91,\n   23,\n   6,\n   96,\n   18,\n   6,\n   101,\n   13,\n   6,\n   106,\n   8,\n   6,\n   111,\n   3,\n   7,\n   8,\n   106,\n   7,\n   70,\n   44,\n   8,\n   9,\n   105,\n   8,\n   71,\n   43,\n   8,\n   76,\n   38,\n   9,\n   10,\n   104,\n   9,\n   15,\n   99,\n   9,\n   72,\n   42,\n   9,\n   75,\n   39,\n   10,\n   11,\n   103,\n   10,\n   12,\n   102,\n   10,\n   13,\n   101,\n   10,\n   14,\n   100,\n   10,\n   16,\n   98,\n   10,\n   61,\n   53,\n   10,\n   66,\n   48,\n   10,\n   73,\n   41,\n   10,\n   74,\n   40,\n   11,\n   17,\n   97,\n   11,\n   31,\n   83,\n   11,\n   62,\n   52,\n   11,\n   67,\n   47,\n   11,\n   68,\n   46,\n   11,\n   69,\n   45,\n   12,\n   18,\n   96,\n   12,\n   19,\n   95,\n   12,\n   20,\n   94,\n   12,\n   21,\n   93,\n   12,\n   22,\n   92,\n   12,\n   23,\n   91,\n   12,\n   24,\n   90,\n   12,\n   26,\n   88,\n   12,\n   27,\n   87,\n   12,\n   32,\n   82,\n   12,\n   33,\n   81,\n   12,\n   63,\n   51,\n   12,\n   64,\n   50,\n   12,\n   65,\n   49,\n   13,\n   25,\n   89,\n   13,\n   28,\n   86,\n   13,\n   29,\n   85,\n   13,\n   30,\n   84,\n   13,\n   34,\n   80,\n   13,\n   58,\n   56,\n   13,\n   59,\n   55,\n   13,\n   60,\n   54,\n   14,\n   35,\n   79,\n   15,\n   36,\n   78,\n   15,\n   56,\n   58,\n   15,\n   57,\n   57,\n   16,\n   37,\n   77,\n   16,\n   43,\n   71,\n   17,\n   38,\n   76,\n   17,\n   39,\n   75,\n   17,\n   40,\n   74,\n   17,\n   44,\n   70,\n   17,\n   49,\n   65,\n   18,\n   41,\n   73,\n   18,\n   42,\n   72,\n   18,\n   45,\n   69,\n   18,\n   47,\n   67,\n   18,\n   50,\n   64,\n   18,\n   51,\n   63,\n   18,\n   52,\n   62,\n   19,\n   46,\n   68,\n   19,\n   48,\n   66,\n   19,\n   53,\n   61,\n   19,\n   54,\n   60,\n   20,\n   55,\n   59,\n   0,\n   0,\n   0,\n   0,\n   0,\n   0,\n   0,\n   0,\n   0,\n   0,\n   0,\n   0,\n   0,\n   0,\n   0,\n   0,\n   0,\n   0,\n   0,\n   0,\n   0,\n   0,\n   0,\n   0,\n   0,\n   0,\n   0,\n   0,\n   0,\n   0,\n   0,\n   0,\n   0,\n   0,\n   0,\n   0,\n   0,\n   0,\n   0,\n   0,\n   0,\n   0,\n   0,\n   0,\n   0,\n   0,\n   0,\n   0,\n   0,\n   0,\n   0,\n   0,\n   0,\n   0,\n   0,\n   0,\n   0,\n   0,\n   0,\n   0,\n   0,\n   0,\n   0,\n   0,\n   0,\n   0,\n   0,\n   0,\n   0,\n   0,\n   0,\n   0,\n   0,\n   0,\n   0,\n   0,\n   0,\n   0,\n   0,\n   0,\n   0,\n   0,\n   0,\n   0,\n   0,\n   0,\n   0,\n   0,\n   0,\n   0,\n   0,\n   0,\n   0,\n   0,\n   0,\n   0,\n   0,\n   0,\n   0,\n   0,\n   0,\n   0,\n   0,\n   0,\n   0,\n   0,\n   0,\n   0,\n   0,\n   0,\n   0,\n   0,\n   0,\n   0,\n   0,\n   0,\n   0,\n   0,\n   0,\n   0,\n   0,\n   0,\n   0,\n   0,\n   0,\n   0,\n   0,\n   0,\n   0,\n   0,\n   0,\n   0,\n   0,\n   0,\n   0,\n   0,\n   0,\n   0,\n   0,\n   0,\n   0,\n   0,\n   0,\n   0,\n   0,\n   0,\n   0,\n   0,\n   0,\n   0,\n   0,\n   0,\n   0,\n   0,\n   0,\n   0,\n   0,\n   0,\n   0,\n   0,\n   0]},\n {'x': 0.0964990357513722,\n  'y': 0.11214953271028037,\n  'obj_dom_pos': [1,\n   1,\n   113,\n   2,\n   2,\n   112,\n   2,\n   112,\n   2,\n   2,\n   113,\n   1,\n   3,\n   3,\n   111,\n   3,\n   77,\n   37,\n   4,\n   4,\n   110,\n   4,\n   78,\n   36,\n   4,\n   82,\n   32,\n   4,\n   87,\n   27,\n   4,\n   92,\n   22,\n   4,\n   97,\n   17,\n   4,\n   102,\n   12,\n   4,\n   107,\n   7,\n   5,\n   5,\n   109,\n   5,\n   6,\n   108,\n   5,\n   79,\n   35,\n   5,\n   80,\n   34,\n   5,\n   81,\n   33,\n   5,\n   83,\n   31,\n   5,\n   84,\n   30,\n   5,\n   85,\n   29,\n   5,\n   88,\n   26,\n   5,\n   89,\n   25,\n   5,\n   90,\n   24,\n   5,\n   93,\n   21,\n   5,\n   94,\n   20,\n   5,\n   95,\n   19,\n   5,\n   98,\n   16,\n   5,\n   99,\n   15,\n   5,\n   100,\n   14,\n   5,\n   103,\n   11,\n   5,\n   104,\n   10,\n   5,\n   105,\n   9,\n   5,\n   108,\n   6,\n   5,\n   109,\n   5,\n   5,\n   110,\n   4,\n   6,\n   7,\n   107,\n   6,\n   86,\n   28,\n   6,\n   91,\n   23,\n   6,\n   96,\n   18,\n   6,\n   101,\n   13,\n   6,\n   106,\n   8,\n   6,\n   111,\n   3,\n   7,\n   8,\n   106,\n   7,\n   70,\n   44,\n   8,\n   9,\n   105,\n   8,\n   71,\n   43,\n   8,\n   76,\n   38,\n   9,\n   10,\n   104,\n   9,\n   15,\n   99,\n   9,\n   72,\n   42,\n   9,\n   75,\n   39,\n   10,\n   11,\n   103,\n   10,\n   12,\n   102,\n   10,\n   13,\n   101,\n   10,\n   14,\n   100,\n   10,\n   16,\n   98,\n   10,\n   61,\n   53,\n   10,\n   66,\n   48,\n   10,\n   73,\n   41,\n   10,\n   74,\n   40,\n   11,\n   17,\n   97,\n   11,\n   31,\n   83,\n   11,\n   62,\n   52,\n   11,\n   67,\n   47,\n   11,\n   68,\n   46,\n   11,\n   69,\n   45,\n   12,\n   18,\n   96,\n   12,\n   19,\n   95,\n   12,\n   20,\n   94,\n   12,\n   21,\n   93,\n   12,\n   22,\n   92,\n   12,\n   23,\n   91,\n   12,\n   24,\n   90,\n   12,\n   26,\n   88,\n   12,\n   27,\n   87,\n   12,\n   32,\n   82,\n   12,\n   33,\n   81,\n   12,\n   63,\n   51,\n   12,\n   64,\n   50,\n   12,\n   65,\n   49,\n   13,\n   25,\n   89,\n   13,\n   28,\n   86,\n   13,\n   29,\n   85,\n   13,\n   30,\n   84,\n   13,\n   34,\n   80,\n   13,\n   58,\n   56,\n   13,\n   59,\n   55,\n   13,\n   60,\n   54,\n   14,\n   35,\n   79,\n   15,\n   36,\n   78,\n   15,\n   56,\n   58,\n   15,\n   57,\n   57,\n   16,\n   37,\n   77,\n   16,\n   43,\n   71,\n   17,\n   38,\n   76,\n   17,\n   39,\n   75,\n   17,\n   40,\n   74,\n   17,\n   44,\n   70,\n   17,\n   49,\n   65,\n   18,\n   41,\n   73,\n   18,\n   42,\n   72,\n   18,\n   45,\n   69,\n   18,\n   47,\n   67,\n   18,\n   50,\n   64,\n   18,\n   51,\n   63,\n   18,\n   52,\n   62,\n   19,\n   46,\n   68,\n   19,\n   48,\n   66,\n   19,\n   53,\n   61,\n   19,\n   54,\n   60,\n   20,\n   55,\n   59,\n   0,\n   0,\n   0,\n   0,\n   0,\n   0,\n   0,\n   0,\n   0,\n   0,\n   0,\n   0,\n   0,\n   0,\n   0,\n   0,\n   0,\n   0,\n   0,\n   0,\n   0,\n   0,\n   0,\n   0,\n   0,\n   0,\n   0,\n   0,\n   0,\n   0,\n   0,\n   0,\n   0,\n   0,\n   0,\n   0,\n   0,\n   0,\n   0,\n   0,\n   0,\n   0,\n   0,\n   0,\n   0,\n   0,\n   0,\n   0,\n   0,\n   0,\n   0,\n   0,\n   0,\n   0,\n   0,\n   0,\n   0,\n   0,\n   0,\n   0,\n   0,\n   0,\n   0,\n   0,\n   0,\n   0,\n   0,\n   0,\n   0,\n   0,\n   0,\n   0,\n   0,\n   0,\n   0,\n   0,\n   0,\n   0,\n   0,\n   0,\n   0,\n   0,\n   0,\n   0,\n   0,\n   0,\n   0,\n   0,\n   0,\n   0,\n   0,\n   0,\n   0,\n   0,\n   0,\n   0,\n   0,\n   0,\n   0,\n   0,\n   0,\n   0,\n   0,\n   0,\n   0,\n   0,\n   0,\n   0,\n   0,\n   0,\n   0,\n   0,\n   0,\n   0,\n   0,\n   0,\n   0,\n   0,\n   0,\n   0,\n   0,\n   0,\n   0,\n   0,\n   0,\n   0,\n   0,\n   0,\n   0,\n   0,\n   0,\n   0,\n   0,\n   0,\n   0,\n   0,\n   0,\n   0,\n   0,\n   0,\n   0,\n   0,\n   0,\n   0,\n   0,\n   0,\n   0,\n   0,\n   0,\n   0,\n   0,\n   0,\n   0,\n   0,\n   0,\n   0,\n   0,\n   0,\n   0,\n   0,\n   0]}]"
     },
     "execution_count": 126,
     "metadata": {},
     "output_type": "execute_result"
    }
   ],
   "source": [
    "scaled_test_traces_lengths = list(map(len, scaled_test_traces))\n",
    "# Get the longest trace\n",
    "longest_scaled_test_trace = max(scaled_test_traces_lengths)\n",
    "print(f'Length of longest test trace: {longest_scaled_test_trace}')\n",
    "index_longest_scaled_test_trace = scaled_test_traces_lengths.index(max(scaled_test_traces_lengths))\n",
    "print(f'Index of longest test trace: {index_longest_scaled_test_trace}')\n",
    "\n",
    "scaled_test_traces[657]"
   ],
   "metadata": {
    "collapsed": false,
    "ExecuteTime": {
     "end_time": "2023-12-26T11:04:14.751789181Z",
     "start_time": "2023-12-26T11:04:14.612295963Z"
    }
   },
   "id": "37aa4f8bb92ceaf7"
  },
  {
   "cell_type": "code",
   "execution_count": 127,
   "outputs": [],
   "source": [
    "my_prediction_trace = index_longest_scaled_test_trace\n",
    "scaled_test = scaled_test_traces[my_prediction_trace]"
   ],
   "metadata": {
    "collapsed": false,
    "ExecuteTime": {
     "end_time": "2023-12-26T11:04:16.921344045Z",
     "start_time": "2023-12-26T11:04:16.861952083Z"
    }
   },
   "id": "2e5d39e9e24960b9"
  },
  {
   "cell_type": "code",
   "execution_count": 190,
   "outputs": [
    {
     "name": "stdout",
     "output_type": "stream",
     "text": [
      "[array([[[0.70175048],\n",
      "        [0.73497997],\n",
      "        [0.92723632],\n",
      "        [0.71361816],\n",
      "        [0.87501854]]]), array([[[0.89319092],\n",
      "        [0.86915888],\n",
      "        [0.15487316],\n",
      "        [0.89052069],\n",
      "        [0.63017356]]]), array([[[  1,   1,  15, ...,   0,   0,   0],\n",
      "        [  1,   1,  32, ...,   0,   0,   0],\n",
      "        [  1,   1, 146, ...,   0,   0,   0],\n",
      "        [  1,   1,  12, ...,   0,   0,   0],\n",
      "        [  1,   1, 148, ...,   0,   0,   0]]])]\n"
     ]
    }
   ],
   "source": [
    "test_predictions = []\n",
    "\n",
    "first_eval_batch = scaled_test[:length] # Use first batch from a test set and predict the next value\n",
    "first_eval_batch = [first_eval_batch] # Must be wrapped in an array to represent shape of X (here: only one entry)\n",
    "first_eval_batch = transform_X_to_inputs(first_eval_batch)\n",
    "current_batch = first_eval_batch\n",
    "\n",
    "print(current_batch)\n",
    "\n",
    "# Of course cannot predict more than one step, as we only predict gesture_pos_x and gesture_pos_y and not the whole tree\n",
    "# for i in range(len(scaled_test)):\n",
    "# \n",
    "#   # get prediction 1 time stamp ahead ([0] is for grabbing just the number instead of [array])\n",
    "#   current_pred = model.predict(current_batch)[0]\n",
    "# \n",
    "#   # store prediction\n",
    "#   test_predictions.append(current_pred)\n",
    "#   \n",
    "#   # drop first value\n",
    "#   current_batch = [feat_input[:,1:,:] for feat_input in current_batch]\n",
    "# \n",
    "#   # update batch to now include prediction\n",
    "#   current_batch = np.append(current_batch,[[current_pred]],axis=1)"
   ],
   "metadata": {
    "collapsed": false,
    "ExecuteTime": {
     "end_time": "2023-12-26T11:52:50.326520501Z",
     "start_time": "2023-12-26T11:52:50.270900504Z"
    }
   },
   "id": "9b1ca8a355e04809"
  },
  {
   "cell_type": "code",
   "execution_count": 193,
   "outputs": [
    {
     "name": "stdout",
     "output_type": "stream",
     "text": [
      "1/1 [==============================] - 0s 24ms/step\n",
      "[[0.8297629 0.832512 ]]\n"
     ]
    },
    {
     "data": {
      "text/plain": "[array([0.8297629, 0.832512 ], dtype=float32),\n array([0.8297629, 0.832512 ], dtype=float32),\n array([0.8297629, 0.832512 ], dtype=float32)]"
     },
     "execution_count": 193,
     "metadata": {},
     "output_type": "execute_result"
    }
   ],
   "source": [
    "# Current prediction only\n",
    "current_pred = model.predict(current_batch)\n",
    "print(current_pred)\n",
    "test_predictions.append(current_pred[0]) # Model only predicts one gesture per batch, this can be \"easily\" changed by handing over a batch of labels during training and setting `return_sequences` to true\n",
    "test_predictions"
   ],
   "metadata": {
    "collapsed": false,
    "ExecuteTime": {
     "end_time": "2023-12-26T11:52:58.214005861Z",
     "start_time": "2023-12-26T11:52:58.128336256Z"
    }
   },
   "id": "a397607d6f3bc2ba"
  },
  {
   "cell_type": "code",
   "execution_count": 200,
   "outputs": [
    {
     "data": {
      "text/plain": "array([[0.8297629, 0.832512 ],\n       [0.8297629, 0.832512 ],\n       [0.8297629, 0.832512 ]], dtype=float32)"
     },
     "execution_count": 200,
     "metadata": {},
     "output_type": "execute_result"
    }
   ],
   "source": [
    "test_predictions = np.array(test_predictions)\n",
    "test_predictions"
   ],
   "metadata": {
    "collapsed": false,
    "ExecuteTime": {
     "end_time": "2023-12-26T11:55:11.976844300Z",
     "start_time": "2023-12-26T11:55:11.911174373Z"
    }
   },
   "id": "ca20633d1fee164c"
  },
  {
   "cell_type": "code",
   "execution_count": 202,
   "outputs": [
    {
     "data": {
      "text/plain": "array([[0.85365673, 0.09212283],\n       [0.23179054, 0.52069426],\n       [0.81568017, 0.08277704]])"
     },
     "execution_count": 202,
     "metadata": {},
     "output_type": "execute_result"
    }
   ],
   "source": [
    "next_values = scaled_test[length:length + 3] # Remove the first batch and just select the next one, as we don't predict more right now\n",
    "next_labels = transform_y_to_labels(next_values)\n",
    "next_labels = np.transpose(next_labels, (1,0))\n",
    "next_labels"
   ],
   "metadata": {
    "collapsed": false,
    "ExecuteTime": {
     "end_time": "2023-12-26T11:55:42.068788256Z",
     "start_time": "2023-12-26T11:55:41.991552044Z"
    }
   },
   "id": "d4765d69f35307f3"
  },
  {
   "cell_type": "code",
   "execution_count": 206,
   "outputs": [
    {
     "data": {
      "text/plain": "          x         y  PredictionsX  PredictionsY\n0  0.853657  0.092123      0.829763      0.832512\n1  0.231791  0.520694      0.829763      0.832512\n2  0.815680  0.082777      0.829763      0.832512",
      "text/html": "<div>\n<style scoped>\n    .dataframe tbody tr th:only-of-type {\n        vertical-align: middle;\n    }\n\n    .dataframe tbody tr th {\n        vertical-align: top;\n    }\n\n    .dataframe thead th {\n        text-align: right;\n    }\n</style>\n<table border=\"1\" class=\"dataframe\">\n  <thead>\n    <tr style=\"text-align: right;\">\n      <th></th>\n      <th>x</th>\n      <th>y</th>\n      <th>PredictionsX</th>\n      <th>PredictionsY</th>\n    </tr>\n  </thead>\n  <tbody>\n    <tr>\n      <th>0</th>\n      <td>0.853657</td>\n      <td>0.092123</td>\n      <td>0.829763</td>\n      <td>0.832512</td>\n    </tr>\n    <tr>\n      <th>1</th>\n      <td>0.231791</td>\n      <td>0.520694</td>\n      <td>0.829763</td>\n      <td>0.832512</td>\n    </tr>\n    <tr>\n      <th>2</th>\n      <td>0.815680</td>\n      <td>0.082777</td>\n      <td>0.829763</td>\n      <td>0.832512</td>\n    </tr>\n  </tbody>\n</table>\n</div>"
     },
     "execution_count": 206,
     "metadata": {},
     "output_type": "execute_result"
    }
   ],
   "source": [
    "if isScale:\n",
    "  # TODO: validate\n",
    "  true_predictions_labels = scaler_invert(test_predictions)\n",
    "  true_next_labels = scaler_invert(next_labels)\n",
    "else:\n",
    "  true_predictions_labels = test_predictions\n",
    "  true_next_labels = next_labels\n",
    "\n",
    "comparison = np.concatenate([true_next_labels, true_predictions_labels], axis=1)\n",
    "comparison_df = pd.DataFrame(comparison, columns=['x','y','PredictionsX', 'PredictionsY'])\n",
    "comparison_df"
   ],
   "metadata": {
    "collapsed": false,
    "ExecuteTime": {
     "end_time": "2023-12-26T11:59:08.957749197Z",
     "start_time": "2023-12-26T11:59:08.892874363Z"
    }
   },
   "id": "aa1ec2a553956e07"
  },
  {
   "cell_type": "code",
   "execution_count": 207,
   "outputs": [
    {
     "data": {
      "text/plain": "<AxesSubplot: >"
     },
     "execution_count": 207,
     "metadata": {},
     "output_type": "execute_result"
    },
    {
     "data": {
      "text/plain": "<Figure size 640x480 with 1 Axes>",
      "image/png": "[encoded data removed]"
     },
     "metadata": {},
     "output_type": "display_data"
    }
   ],
   "source": [
    "comparison_df.plot(color = ['#00FF00', '#FF0000', '#00FF88', '#FF0088'])"
   ],
   "metadata": {
    "collapsed": false,
    "ExecuteTime": {
     "end_time": "2023-12-26T11:59:26.673493258Z",
     "start_time": "2023-12-26T11:59:26.461427539Z"
    }
   },
   "id": "be71c392c2c63323"
  },
  {
   "cell_type": "code",
   "execution_count": 209,
   "outputs": [
    {
     "name": "stdout",
     "output_type": "stream",
     "text": [
      "0.3456106474363052\n",
      "0.6344312460996537\n"
     ]
    }
   ],
   "source": [
    "from sklearn.metrics import mean_squared_error\n",
    "print(np.sqrt(mean_squared_error(comparison_df['x'],comparison_df['PredictionsX'])))\n",
    "print(np.sqrt(mean_squared_error(comparison_df['y'],comparison_df['PredictionsY'])))"
   ],
   "metadata": {
    "collapsed": false,
    "ExecuteTime": {
     "end_time": "2023-12-26T12:00:03.219857952Z",
     "start_time": "2023-12-26T12:00:03.168243793Z"
    }
   },
   "id": "d9c81d675a439b2b"
  },
  {
   "cell_type": "code",
   "execution_count": null,
   "outputs": [],
   "source": [],
   "metadata": {
    "collapsed": false
   },
   "id": "171736bad9e0c6e1"
  }
 ],
 "metadata": {
  "kernelspec": {
   "display_name": "Python 3",
   "language": "python",
   "name": "python3"
  },
  "language_info": {
   "codemirror_mode": {
    "name": "ipython",
    "version": 2
   },
   "file_extension": ".py",
   "mimetype": "text/x-python",
   "name": "python",
   "nbconvert_exporter": "python",
   "pygments_lexer": "ipython2",
   "version": "2.7.6"
  }
 },
 "nbformat": 4,
 "nbformat_minor": 5
}
