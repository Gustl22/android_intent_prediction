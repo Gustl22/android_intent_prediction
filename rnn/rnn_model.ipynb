{
 "cells": [
  {
   "cell_type": "code",
   "execution_count": 1,
   "id": "initial_id",
   "metadata": {
    "collapsed": true,
    "ExecuteTime": {
     "end_time": "2023-12-04T18:52:24.647183200Z",
     "start_time": "2023-12-04T18:52:07.887349900Z"
    }
   },
   "outputs": [],
   "source": [
    "import pandas as pd\n",
    "import numpy as np\n",
    "import matplotlib.pyplot as plt\n",
    "import tensorflow as tf\n",
    "import json"
   ]
  },
  {
   "cell_type": "code",
   "execution_count": 2,
   "outputs": [],
   "source": [
    "#pathToCombined = \"D:/Tmp/Coding/datasets/RICO/unique_uis/test_dataset\"\n",
    "traces_prefix = \"D:/Tmp/Coding/datasets/RICO/traces/test_traces\"\n",
    "path_to_gesture_json = f\"{traces_prefix}/*/trace_*/gestures.json\""
   ],
   "metadata": {
    "collapsed": false,
    "ExecuteTime": {
     "end_time": "2023-12-04T18:52:24.831223700Z",
     "start_time": "2023-12-04T18:52:24.655838100Z"
    }
   },
   "id": "1010903aaff8e289"
  },
  {
   "cell_type": "code",
   "execution_count": 3,
   "outputs": [],
   "source": [
    "import glob\n",
    "#from pathlib import Path\n",
    "import preprocessing as pp"
   ],
   "metadata": {
    "collapsed": false,
    "ExecuteTime": {
     "end_time": "2023-12-04T18:52:24.831223700Z",
     "start_time": "2023-12-04T18:52:24.676155200Z"
    }
   },
   "id": "daa48e61d9b31fa3"
  },
  {
   "cell_type": "code",
   "execution_count": 4,
   "outputs": [
    {
     "data": {
      "text/plain": "['D:/Tmp/Coding/datasets/RICO/traces/test_traces\\\\muchoapps.frasesdelavida\\\\trace_1\\\\gestures.json',\n 'D:/Tmp/Coding/datasets/RICO/traces/test_traces\\\\muchoapps.frasesdelavida\\\\trace_2\\\\gestures.json',\n 'D:/Tmp/Coding/datasets/RICO/traces/test_traces\\\\yourapp24.android.tools.alice_lite\\\\trace_0\\\\gestures.json',\n 'D:/Tmp/Coding/datasets/RICO/traces/test_traces\\\\yourapp24.android.tools.alice_lite\\\\trace_1\\\\gestures.json',\n 'D:/Tmp/Coding/datasets/RICO/traces/test_traces\\\\yourapp24.android.tools.alice_lite\\\\trace_2\\\\gestures.json']"
     },
     "execution_count": 4,
     "metadata": {},
     "output_type": "execute_result"
    }
   ],
   "source": [
    "gesture_json_paths = glob.glob(path_to_gesture_json)\n",
    "gesture_json_paths"
   ],
   "metadata": {
    "collapsed": false,
    "ExecuteTime": {
     "end_time": "2023-12-04T18:52:24.831223700Z",
     "start_time": "2023-12-04T18:52:24.703320500Z"
    }
   },
   "id": "3d96e858f6638676"
  },
  {
   "cell_type": "code",
   "execution_count": 5,
   "outputs": [],
   "source": [
    "def get_features_from_gestures(gesture_path):\n",
    "    with tf.io.gfile.GFile(gesture_path) as f:\n",
    "        gesture_json = json.load(f)\n",
    "    trace_path = gesture_path.replace('gestures.json', '')\n",
    "    # Throw away all gestures except the first\n",
    "    gesture_dict = {gesture[0]:gesture[1][0] for gesture in gesture_json.items()}\n",
    "    gesture_df = pd.DataFrame(gesture_dict).transpose()\n",
    "    gesture_df.columns = ['x', 'y']\n",
    "    return gesture_df, trace_path"
   ],
   "metadata": {
    "collapsed": false,
    "ExecuteTime": {
     "end_time": "2023-12-04T18:52:24.831223700Z",
     "start_time": "2023-12-04T18:52:24.736295800Z"
    }
   },
   "id": "1a3b084f0148240e"
  },
  {
   "cell_type": "code",
   "execution_count": 25,
   "outputs": [],
   "source": [
    "keys_to_dtype = {\n",
    "    #'developer_token_id': tf.int64,\n",
    "    #'resource_token_id': tf.int64,\n",
    "    #'screen_caption_token_ids': tf.int64,\n",
    "    #'appdesc_token_id': tf.int64,\n",
    "    'clickable_seq': tf.int64,\n",
    "    'type_id_seq': tf.int64,\n",
    "    'cord_x_seq': tf.float32,\n",
    "    'cord_y_seq': tf.float32,\n",
    "    'visibility_to_user_seq': tf.int64,\n",
    "    'visibility_seq': tf.int64,\n",
    "    #'attended_objects': tf.int64,\n",
    "    #'label_flag': tf.int64,  # 0: padding 1: node\n",
    "    # 'obj_img_mat': tf.int64,\n",
    "    'obj_dom_pos': tf.int64,\n",
    "    #'attention_boxes': tf.float32,\n",
    "    #'gold_caption': tf.string,\n",
    "}"
   ],
   "metadata": {
    "collapsed": false,
    "ExecuteTime": {
     "end_time": "2023-12-04T18:55:07.081504700Z",
     "start_time": "2023-12-04T18:55:07.036791900Z"
    }
   },
   "id": "97831e8600fdf834"
  },
  {
   "cell_type": "code",
   "execution_count": 26,
   "outputs": [],
   "source": [
    "def get_features_tensor_from_tree(frame_index, trace_path):\n",
    "    file_prefix = f\"{trace_path}view_hierarchies/{frame_index}\"\n",
    "    features_dict = pp.create_simple_features(file_prefix)\n",
    "    del features_dict['node_id']\n",
    "    feature_items = list(features_dict.items())\n",
    "    features_adapt = to_var_len_feature_dict(feature_items)\n",
    "    tree_feature_df = pd.DataFrame(features_adapt.items(), columns=['feat', frame_index])\n",
    "    tree_feature_df = tree_feature_df.set_index('feat')\n",
    "    tree_feature_df = tree_feature_df.transpose()\n",
    "    return tree_feature_df\n",
    "    #return pd.DataFrame(features_adapt, index=[frame_index])"
   ],
   "metadata": {
    "collapsed": false,
    "ExecuteTime": {
     "end_time": "2023-12-04T18:55:08.131131800Z",
     "start_time": "2023-12-04T18:55:08.073725Z"
    }
   },
   "id": "13da6c7953586f4d"
  },
  {
   "cell_type": "code",
   "execution_count": 27,
   "outputs": [],
   "source": [
    "def to_var_len_feature_dict(entries):\n",
    "    dict = {}\n",
    "    for feature_item in entries:\n",
    "        dict[feature_item[0]] = tf.convert_to_tensor(feature_item[1], dtype=keys_to_dtype[feature_item[0]])\n",
    "    return dict"
   ],
   "metadata": {
    "collapsed": false,
    "ExecuteTime": {
     "end_time": "2023-12-04T18:55:09.121268400Z",
     "start_time": "2023-12-04T18:55:09.075226400Z"
    }
   },
   "id": "4afa13ba14c53cce"
  },
  {
   "cell_type": "code",
   "execution_count": 43,
   "outputs": [
    {
     "ename": "KeyboardInterrupt",
     "evalue": "",
     "output_type": "error",
     "traceback": [
      "\u001B[1;31m---------------------------------------------------------------------------\u001B[0m",
      "\u001B[1;31mKeyboardInterrupt\u001B[0m                         Traceback (most recent call last)",
      "Cell \u001B[1;32mIn[43], line 2\u001B[0m\n\u001B[0;32m      1\u001B[0m gesture_path \u001B[38;5;241m=\u001B[39m gesture_json_paths[\u001B[38;5;241m1\u001B[39m]\n\u001B[1;32m----> 2\u001B[0m gesture_df, trace_path \u001B[38;5;241m=\u001B[39m get_features_from_gestures(gesture_path)\n\u001B[0;32m      3\u001B[0m frameIndex \u001B[38;5;241m=\u001B[39m gesture_df\u001B[38;5;241m.\u001B[39mindex\u001B[38;5;241m.\u001B[39mvalues[\u001B[38;5;241m1\u001B[39m]\n\u001B[0;32m      4\u001B[0m feature_df \u001B[38;5;241m=\u001B[39m get_features_tensor_from_tree(frameIndex, trace_path)\n",
      "File \u001B[1;32m_pydevd_bundle\\pydevd_cython_win32_311_64.pyx:1179\u001B[0m, in \u001B[0;36m_pydevd_bundle.pydevd_cython_win32_311_64.SafeCallWrapper.__call__\u001B[1;34m()\u001B[0m\n",
      "File \u001B[1;32m_pydevd_bundle\\pydevd_cython_win32_311_64.pyx:620\u001B[0m, in \u001B[0;36m_pydevd_bundle.pydevd_cython_win32_311_64.PyDBFrame.trace_dispatch\u001B[1;34m()\u001B[0m\n",
      "File \u001B[1;32m_pydevd_bundle\\pydevd_cython_win32_311_64.pyx:929\u001B[0m, in \u001B[0;36m_pydevd_bundle.pydevd_cython_win32_311_64.PyDBFrame.trace_dispatch\u001B[1;34m()\u001B[0m\n",
      "File \u001B[1;32m_pydevd_bundle\\pydevd_cython_win32_311_64.pyx:920\u001B[0m, in \u001B[0;36m_pydevd_bundle.pydevd_cython_win32_311_64.PyDBFrame.trace_dispatch\u001B[1;34m()\u001B[0m\n",
      "File \u001B[1;32m_pydevd_bundle\\pydevd_cython_win32_311_64.pyx:317\u001B[0m, in \u001B[0;36m_pydevd_bundle.pydevd_cython_win32_311_64.PyDBFrame.do_wait_suspend\u001B[1;34m()\u001B[0m\n",
      "File \u001B[1;32m~\\AppData\\Roaming\\JetBrains\\IntelliJIdea2023.2\\plugins\\python\\helpers\\pydev\\pydevd.py:1160\u001B[0m, in \u001B[0;36mPyDB.do_wait_suspend\u001B[1;34m(self, thread, frame, event, arg, send_suspend_message, is_unhandled_exception)\u001B[0m\n\u001B[0;32m   1157\u001B[0m         from_this_thread\u001B[38;5;241m.\u001B[39mappend(frame_id)\n\u001B[0;32m   1159\u001B[0m \u001B[38;5;28;01mwith\u001B[39;00m \u001B[38;5;28mself\u001B[39m\u001B[38;5;241m.\u001B[39m_threads_suspended_single_notification\u001B[38;5;241m.\u001B[39mnotify_thread_suspended(thread_id, stop_reason):\n\u001B[1;32m-> 1160\u001B[0m     \u001B[38;5;28;43mself\u001B[39;49m\u001B[38;5;241;43m.\u001B[39;49m\u001B[43m_do_wait_suspend\u001B[49m\u001B[43m(\u001B[49m\u001B[43mthread\u001B[49m\u001B[43m,\u001B[49m\u001B[43m \u001B[49m\u001B[43mframe\u001B[49m\u001B[43m,\u001B[49m\u001B[43m \u001B[49m\u001B[43mevent\u001B[49m\u001B[43m,\u001B[49m\u001B[43m \u001B[49m\u001B[43marg\u001B[49m\u001B[43m,\u001B[49m\u001B[43m \u001B[49m\u001B[43msuspend_type\u001B[49m\u001B[43m,\u001B[49m\u001B[43m \u001B[49m\u001B[43mfrom_this_thread\u001B[49m\u001B[43m)\u001B[49m\n",
      "File \u001B[1;32m~\\AppData\\Roaming\\JetBrains\\IntelliJIdea2023.2\\plugins\\python\\helpers\\pydev\\pydevd.py:1175\u001B[0m, in \u001B[0;36mPyDB._do_wait_suspend\u001B[1;34m(self, thread, frame, event, arg, suspend_type, from_this_thread)\u001B[0m\n\u001B[0;32m   1172\u001B[0m             \u001B[38;5;28mself\u001B[39m\u001B[38;5;241m.\u001B[39m_call_mpl_hook()\n\u001B[0;32m   1174\u001B[0m         \u001B[38;5;28mself\u001B[39m\u001B[38;5;241m.\u001B[39mprocess_internal_commands()\n\u001B[1;32m-> 1175\u001B[0m         \u001B[43mtime\u001B[49m\u001B[38;5;241;43m.\u001B[39;49m\u001B[43msleep\u001B[49m\u001B[43m(\u001B[49m\u001B[38;5;241;43m0.01\u001B[39;49m\u001B[43m)\u001B[49m\n\u001B[0;32m   1177\u001B[0m \u001B[38;5;28mself\u001B[39m\u001B[38;5;241m.\u001B[39mcancel_async_evaluation(get_current_thread_id(thread), \u001B[38;5;28mstr\u001B[39m(\u001B[38;5;28mid\u001B[39m(frame)))\n\u001B[0;32m   1179\u001B[0m \u001B[38;5;66;03m# process any stepping instructions\u001B[39;00m\n",
      "\u001B[1;31mKeyboardInterrupt\u001B[0m: "
     ]
    }
   ],
   "source": [
    "gesture_path = gesture_json_paths[1]\n",
    "gesture_df, trace_path = get_features_from_gestures(gesture_path)\n",
    "frameIndex = gesture_df.index.values[1]\n",
    "feature_df = get_features_tensor_from_tree(frameIndex, trace_path)\n",
    "feature_df\n",
    "#feature_item = features[0]\n",
    "#feature_item\n",
    "#tf.convert_to_tensor(feature_item[1], dtype=keys_to_dtype[feature_item[0]])"
   ],
   "metadata": {
    "collapsed": false,
    "ExecuteTime": {
     "end_time": "2023-12-05T00:43:24.574230600Z",
     "start_time": "2023-12-04T22:43:26.030900Z"
    }
   },
   "id": "3fe910aceba99bcd"
  },
  {
   "cell_type": "code",
   "execution_count": 29,
   "outputs": [],
   "source": [
    "# gesture_df['x'].dtype # float64\n",
    "# gesture_df['y'].dtype # float64"
   ],
   "metadata": {
    "collapsed": false,
    "ExecuteTime": {
     "end_time": "2023-12-04T18:55:15.720469200Z",
     "start_time": "2023-12-04T18:55:15.651137500Z"
    }
   },
   "id": "b380f22ccb4ae7a7"
  },
  {
   "cell_type": "code",
   "execution_count": 30,
   "outputs": [
    {
     "name": "stdout",
     "output_type": "stream",
     "text": [
      "<dtype: 'int64'>\n",
      "<dtype: 'int64'>\n",
      "<dtype: 'float32'>\n",
      "<dtype: 'float32'>\n",
      "<dtype: 'int64'>\n",
      "<dtype: 'int64'>\n",
      "<dtype: 'int64'>\n"
     ]
    }
   ],
   "source": [
    "for t,v in keys_to_dtype.items():\n",
    "    print(feature_df[t]['4758'][0].dtype)"
   ],
   "metadata": {
    "collapsed": false,
    "ExecuteTime": {
     "end_time": "2023-12-04T18:55:16.585423800Z",
     "start_time": "2023-12-04T18:55:16.395465600Z"
    }
   },
   "id": "ab1b2610bf47faf"
  },
  {
   "cell_type": "code",
   "execution_count": null,
   "outputs": [],
   "source": [
    "all_feat_df = pd.concat([gesture_df, feature_df], axis=1)\n",
    "all_feat_df"
   ],
   "metadata": {
    "collapsed": false,
    "ExecuteTime": {
     "start_time": "2023-12-05T00:43:24.574230600Z"
    }
   },
   "id": "a60861c0e824008e"
  },
  {
   "cell_type": "code",
   "execution_count": 39,
   "outputs": [
    {
     "data": {
      "text/plain": "tf.int64"
     },
     "execution_count": 39,
     "metadata": {},
     "output_type": "execute_result"
    }
   ],
   "source": [
    "feature_df['type_id_seq'].iloc[0][0].dtype"
   ],
   "metadata": {
    "collapsed": false,
    "ExecuteTime": {
     "end_time": "2023-12-04T22:35:37.337534500Z",
     "start_time": "2023-12-04T22:35:37.269083300Z"
    }
   },
   "id": "924f3487fba88fba"
  },
  {
   "cell_type": "code",
   "execution_count": 34,
   "outputs": [
    {
     "data": {
      "text/plain": "             x         y                                        obj_dom_pos  \\\n2     0.094011  0.083688  (tf.Tensor(1, shape=(), dtype=int64), tf.Tenso...   \n457   0.969031  0.026950  (tf.Tensor(1, shape=(), dtype=int64), tf.Tenso...   \n2160  0.454610  0.648227  (tf.Tensor(1, shape=(), dtype=int64), tf.Tenso...   \n2677  0.068794  0.070922  (tf.Tensor(1, shape=(), dtype=int64), tf.Tenso...   \n4998  0.880772  0.821277  (tf.Tensor(1, shape=(), dtype=int64), tf.Tenso...   \n\n                                            type_id_seq  \\\n2     (tf.Tensor(4, shape=(), dtype=int64), tf.Tenso...   \n457   (tf.Tensor(4, shape=(), dtype=int64), tf.Tenso...   \n2160  (tf.Tensor(4, shape=(), dtype=int64), tf.Tenso...   \n2677  (tf.Tensor(4, shape=(), dtype=int64), tf.Tenso...   \n4998  (tf.Tensor(4, shape=(), dtype=int64), tf.Tenso...   \n\n                                         visibility_seq  \\\n2     (tf.Tensor(1, shape=(), dtype=int64), tf.Tenso...   \n457   (tf.Tensor(1, shape=(), dtype=int64), tf.Tenso...   \n2160  (tf.Tensor(1, shape=(), dtype=int64), tf.Tenso...   \n2677  (tf.Tensor(1, shape=(), dtype=int64), tf.Tenso...   \n4998  (tf.Tensor(1, shape=(), dtype=int64), tf.Tenso...   \n\n                                 visibility_to_user_seq  \\\n2     (tf.Tensor(1, shape=(), dtype=int64), tf.Tenso...   \n457   (tf.Tensor(1, shape=(), dtype=int64), tf.Tenso...   \n2160  (tf.Tensor(1, shape=(), dtype=int64), tf.Tenso...   \n2677  (tf.Tensor(1, shape=(), dtype=int64), tf.Tenso...   \n4998  (tf.Tensor(1, shape=(), dtype=int64), tf.Tenso...   \n\n                                          clickable_seq  \\\n2     (tf.Tensor(0, shape=(), dtype=int64), tf.Tenso...   \n457   (tf.Tensor(0, shape=(), dtype=int64), tf.Tenso...   \n2160  (tf.Tensor(0, shape=(), dtype=int64), tf.Tenso...   \n2677  (tf.Tensor(0, shape=(), dtype=int64), tf.Tenso...   \n4998  (tf.Tensor(0, shape=(), dtype=int64), tf.Tenso...   \n\n                                             cord_x_seq  \\\n2     ((tf.Tensor(0.0, shape=(), dtype=float32), tf....   \n457   ((tf.Tensor(0.0, shape=(), dtype=float32), tf....   \n2160  ((tf.Tensor(0.11111111, shape=(), dtype=float3...   \n2677  ((tf.Tensor(0.0, shape=(), dtype=float32), tf....   \n4998  ((tf.Tensor(0.0, shape=(), dtype=float32), tf....   \n\n                                             cord_y_seq  trace_id  \n2     ((tf.Tensor(0.0, shape=(), dtype=float32), tf....         0  \n457   ((tf.Tensor(0.0, shape=(), dtype=float32), tf....         0  \n2160  ((tf.Tensor(0.15585938, shape=(), dtype=float3...         0  \n2677  ((tf.Tensor(0.0, shape=(), dtype=float32), tf....         0  \n4998  ((tf.Tensor(0.0, shape=(), dtype=float32), tf....         0  ",
      "text/html": "<div>\n<style scoped>\n    .dataframe tbody tr th:only-of-type {\n        vertical-align: middle;\n    }\n\n    .dataframe tbody tr th {\n        vertical-align: top;\n    }\n\n    .dataframe thead th {\n        text-align: right;\n    }\n</style>\n<table border=\"1\" class=\"dataframe\">\n  <thead>\n    <tr style=\"text-align: right;\">\n      <th></th>\n      <th>x</th>\n      <th>y</th>\n      <th>obj_dom_pos</th>\n      <th>type_id_seq</th>\n      <th>visibility_seq</th>\n      <th>visibility_to_user_seq</th>\n      <th>clickable_seq</th>\n      <th>cord_x_seq</th>\n      <th>cord_y_seq</th>\n      <th>trace_id</th>\n    </tr>\n  </thead>\n  <tbody>\n    <tr>\n      <th>2</th>\n      <td>0.094011</td>\n      <td>0.083688</td>\n      <td>(tf.Tensor(1, shape=(), dtype=int64), tf.Tenso...</td>\n      <td>(tf.Tensor(4, shape=(), dtype=int64), tf.Tenso...</td>\n      <td>(tf.Tensor(1, shape=(), dtype=int64), tf.Tenso...</td>\n      <td>(tf.Tensor(1, shape=(), dtype=int64), tf.Tenso...</td>\n      <td>(tf.Tensor(0, shape=(), dtype=int64), tf.Tenso...</td>\n      <td>((tf.Tensor(0.0, shape=(), dtype=float32), tf....</td>\n      <td>((tf.Tensor(0.0, shape=(), dtype=float32), tf....</td>\n      <td>0</td>\n    </tr>\n    <tr>\n      <th>457</th>\n      <td>0.969031</td>\n      <td>0.026950</td>\n      <td>(tf.Tensor(1, shape=(), dtype=int64), tf.Tenso...</td>\n      <td>(tf.Tensor(4, shape=(), dtype=int64), tf.Tenso...</td>\n      <td>(tf.Tensor(1, shape=(), dtype=int64), tf.Tenso...</td>\n      <td>(tf.Tensor(1, shape=(), dtype=int64), tf.Tenso...</td>\n      <td>(tf.Tensor(0, shape=(), dtype=int64), tf.Tenso...</td>\n      <td>((tf.Tensor(0.0, shape=(), dtype=float32), tf....</td>\n      <td>((tf.Tensor(0.0, shape=(), dtype=float32), tf....</td>\n      <td>0</td>\n    </tr>\n    <tr>\n      <th>2160</th>\n      <td>0.454610</td>\n      <td>0.648227</td>\n      <td>(tf.Tensor(1, shape=(), dtype=int64), tf.Tenso...</td>\n      <td>(tf.Tensor(4, shape=(), dtype=int64), tf.Tenso...</td>\n      <td>(tf.Tensor(1, shape=(), dtype=int64), tf.Tenso...</td>\n      <td>(tf.Tensor(1, shape=(), dtype=int64), tf.Tenso...</td>\n      <td>(tf.Tensor(0, shape=(), dtype=int64), tf.Tenso...</td>\n      <td>((tf.Tensor(0.11111111, shape=(), dtype=float3...</td>\n      <td>((tf.Tensor(0.15585938, shape=(), dtype=float3...</td>\n      <td>0</td>\n    </tr>\n    <tr>\n      <th>2677</th>\n      <td>0.068794</td>\n      <td>0.070922</td>\n      <td>(tf.Tensor(1, shape=(), dtype=int64), tf.Tenso...</td>\n      <td>(tf.Tensor(4, shape=(), dtype=int64), tf.Tenso...</td>\n      <td>(tf.Tensor(1, shape=(), dtype=int64), tf.Tenso...</td>\n      <td>(tf.Tensor(1, shape=(), dtype=int64), tf.Tenso...</td>\n      <td>(tf.Tensor(0, shape=(), dtype=int64), tf.Tenso...</td>\n      <td>((tf.Tensor(0.0, shape=(), dtype=float32), tf....</td>\n      <td>((tf.Tensor(0.0, shape=(), dtype=float32), tf....</td>\n      <td>0</td>\n    </tr>\n    <tr>\n      <th>4998</th>\n      <td>0.880772</td>\n      <td>0.821277</td>\n      <td>(tf.Tensor(1, shape=(), dtype=int64), tf.Tenso...</td>\n      <td>(tf.Tensor(4, shape=(), dtype=int64), tf.Tenso...</td>\n      <td>(tf.Tensor(1, shape=(), dtype=int64), tf.Tenso...</td>\n      <td>(tf.Tensor(1, shape=(), dtype=int64), tf.Tenso...</td>\n      <td>(tf.Tensor(0, shape=(), dtype=int64), tf.Tenso...</td>\n      <td>((tf.Tensor(0.0, shape=(), dtype=float32), tf....</td>\n      <td>((tf.Tensor(0.0, shape=(), dtype=float32), tf....</td>\n      <td>0</td>\n    </tr>\n  </tbody>\n</table>\n</div>"
     },
     "execution_count": 34,
     "metadata": {},
     "output_type": "execute_result"
    }
   ],
   "source": [
    " # Get set of frames for each screen, but don't mix them during training LSTM\n",
    "all_features_df = pd.DataFrame()\n",
    "for trace_id, gesture_path in enumerate(gesture_json_paths):\n",
    "    gesture_df, trace_path = get_features_from_gestures(gesture_path)\n",
    "    tree_features_df = pd.DataFrame()\n",
    "    for frame_id in gesture_df.index.values:\n",
    "        tree_feature_df = get_features_tensor_from_tree(frame_id, trace_path)\n",
    "        tree_features_df = pd.concat([tree_features_df, tree_feature_df], axis=0)\n",
    "    trace_features_df = pd.concat([gesture_df, tree_features_df], axis=1)\n",
    "    trace_features_df['trace_id'] = trace_id\n",
    "    all_features_df = pd.concat([all_features_df, trace_features_df], axis=0)\n",
    "    \n",
    "all_features_df.head()\n",
    "        "
   ],
   "metadata": {
    "collapsed": false,
    "ExecuteTime": {
     "end_time": "2023-12-04T18:56:43.756837400Z",
     "start_time": "2023-12-04T18:56:35.837742700Z"
    }
   },
   "id": "288b287670f0c8ba"
  },
  {
   "cell_type": "code",
   "execution_count": 35,
   "outputs": [],
   "source": [
    "# TODO: split by trace id\n",
    "df = all_features_df\n",
    "test_size = 6\n",
    "test_ind = len(df) - test_size\n",
    "\n",
    "train = df.iloc[:test_ind]\n",
    "test = df.iloc[test_ind:]"
   ],
   "metadata": {
    "collapsed": false,
    "ExecuteTime": {
     "end_time": "2023-12-04T18:56:43.757863900Z",
     "start_time": "2023-12-04T18:56:43.720771500Z"
    }
   },
   "id": "68dc568c059d2160"
  },
  {
   "cell_type": "code",
   "execution_count": 36,
   "outputs": [],
   "source": [
    "#df['obj_dom_pos'].dtype"
   ],
   "metadata": {
    "collapsed": false,
    "ExecuteTime": {
     "end_time": "2023-12-04T18:56:43.798074100Z",
     "start_time": "2023-12-04T18:56:43.733205100Z"
    }
   },
   "id": "e7971c3e9fc1ce6c"
  },
  {
   "cell_type": "code",
   "execution_count": 37,
   "outputs": [
    {
     "ename": "ValueError",
     "evalue": "Failed to convert a NumPy array to a Tensor (Unsupported object type float).",
     "output_type": "error",
     "traceback": [
      "\u001B[1;31m---------------------------------------------------------------------------\u001B[0m",
      "\u001B[1;31mTypeError\u001B[0m                                 Traceback (most recent call last)",
      "File \u001B[1;32m~\\AppData\\Roaming\\Python\\Python311\\site-packages\\tensorflow\\python\\data\\util\\structure.py:104\u001B[0m, in \u001B[0;36mnormalize_element\u001B[1;34m(element, element_signature)\u001B[0m\n\u001B[0;32m    103\u001B[0m   \u001B[38;5;28;01mif\u001B[39;00m spec \u001B[38;5;129;01mis\u001B[39;00m \u001B[38;5;28;01mNone\u001B[39;00m:\n\u001B[1;32m--> 104\u001B[0m     spec \u001B[38;5;241m=\u001B[39m \u001B[43mtype_spec_from_value\u001B[49m\u001B[43m(\u001B[49m\u001B[43mt\u001B[49m\u001B[43m,\u001B[49m\u001B[43m \u001B[49m\u001B[43muse_fallback\u001B[49m\u001B[38;5;241;43m=\u001B[39;49m\u001B[38;5;28;43;01mFalse\u001B[39;49;00m\u001B[43m)\u001B[49m\n\u001B[0;32m    105\u001B[0m \u001B[38;5;28;01mexcept\u001B[39;00m \u001B[38;5;167;01mTypeError\u001B[39;00m:\n\u001B[0;32m    106\u001B[0m   \u001B[38;5;66;03m# TypeError indicates it was not possible to compute a `TypeSpec` for\u001B[39;00m\n\u001B[0;32m    107\u001B[0m   \u001B[38;5;66;03m# the value. As a fallback try converting the value to a tensor.\u001B[39;00m\n",
      "File \u001B[1;32m~\\AppData\\Roaming\\Python\\Python311\\site-packages\\tensorflow\\python\\data\\util\\structure.py:507\u001B[0m, in \u001B[0;36mtype_spec_from_value\u001B[1;34m(element, use_fallback)\u001B[0m\n\u001B[0;32m    504\u001B[0m     logging\u001B[38;5;241m.\u001B[39mvlog(\n\u001B[0;32m    505\u001B[0m         \u001B[38;5;241m3\u001B[39m, \u001B[38;5;124m\"\u001B[39m\u001B[38;5;124mFailed to convert \u001B[39m\u001B[38;5;132;01m%r\u001B[39;00m\u001B[38;5;124m to tensor: \u001B[39m\u001B[38;5;132;01m%s\u001B[39;00m\u001B[38;5;124m\"\u001B[39m \u001B[38;5;241m%\u001B[39m (\u001B[38;5;28mtype\u001B[39m(element)\u001B[38;5;241m.\u001B[39m\u001B[38;5;18m__name__\u001B[39m, e))\n\u001B[1;32m--> 507\u001B[0m \u001B[38;5;28;01mraise\u001B[39;00m \u001B[38;5;167;01mTypeError\u001B[39;00m(\u001B[38;5;124m\"\u001B[39m\u001B[38;5;124mCould not build a `TypeSpec` for \u001B[39m\u001B[38;5;132;01m{}\u001B[39;00m\u001B[38;5;124m with type \u001B[39m\u001B[38;5;132;01m{}\u001B[39;00m\u001B[38;5;124m\"\u001B[39m\u001B[38;5;241m.\u001B[39mformat(\n\u001B[0;32m    508\u001B[0m     element,\n\u001B[0;32m    509\u001B[0m     \u001B[38;5;28mtype\u001B[39m(element)\u001B[38;5;241m.\u001B[39m\u001B[38;5;18m__name__\u001B[39m))\n",
      "\u001B[1;31mTypeError\u001B[0m: Could not build a `TypeSpec` for              x         y                                        obj_dom_pos  \\\n2     0.094011  0.083688  (tf.Tensor(1, shape=(), dtype=int64), tf.Tenso...   \n457   0.969031  0.026950  (tf.Tensor(1, shape=(), dtype=int64), tf.Tenso...   \n2160  0.454610  0.648227  (tf.Tensor(1, shape=(), dtype=int64), tf.Tenso...   \n2677  0.068794  0.070922  (tf.Tensor(1, shape=(), dtype=int64), tf.Tenso...   \n4998  0.880772  0.821277  (tf.Tensor(1, shape=(), dtype=int64), tf.Tenso...   \n6423  0.295745  0.459574  (tf.Tensor(1, shape=(), dtype=int64), tf.Tenso...   \n7199  0.121749  0.136170  (tf.Tensor(1, shape=(), dtype=int64), tf.Tenso...   \n7332  0.878251  0.831206  (tf.Tensor(1, shape=(), dtype=int64), tf.Tenso...   \n1457  0.291129  0.675567  (tf.Tensor(1, shape=(), dtype=int64), tf.Tenso...   \n4758  0.210429  0.066756  (tf.Tensor(1, shape=(), dtype=int64), tf.Tenso...   \n61    0.219298  0.758665  (tf.Tensor(1, shape=(), dtype=int64), tf.Tenso...   \n132   0.086935  0.762516  (tf.Tensor(1, shape=(), dtype=int64), tf.Tenso...   \n491   0.457672  0.061688  (tf.Tensor(1, shape=(), dtype=int64), tf.Tenso...   \n597   0.286436  0.959957  (tf.Tensor(1, shape=(), dtype=int64), tf.Tenso...   \n614   0.211400  0.959957  (tf.Tensor(1, shape=(), dtype=int64), tf.Tenso...   \n743   0.094036  0.774892  (tf.Tensor(1, shape=(), dtype=int64), tf.Tenso...   \n1038  0.767248  0.766340  (tf.Tensor(1, shape=(), dtype=int64), tf.Tenso...   \n1268  0.209513  0.959150  (tf.Tensor(1, shape=(), dtype=int64), tf.Tenso...   \n1289  0.366376  0.959150  (tf.Tensor(1, shape=(), dtype=int64), tf.Tenso...   \n\n                                            type_id_seq  \\\n2     (tf.Tensor(4, shape=(), dtype=int64), tf.Tenso...   \n457   (tf.Tensor(4, shape=(), dtype=int64), tf.Tenso...   \n2160  (tf.Tensor(4, shape=(), dtype=int64), tf.Tenso...   \n2677  (tf.Tensor(4, shape=(), dtype=int64), tf.Tenso...   \n4998  (tf.Tensor(4, shape=(), dtype=int64), tf.Tenso...   \n6423  (tf.Tensor(4, shape=(), dtype=int64), tf.Tenso...   \n7199  (tf.Tensor(4, shape=(), dtype=int64), tf.Tenso...   \n7332  (tf.Tensor(4, shape=(), dtype=int64), tf.Tenso...   \n1457  (tf.Tensor(4, shape=(), dtype=int64), tf.Tenso...   \n4758  (tf.Tensor(4, shape=(), dtype=int64), tf.Tenso...   \n61    (tf.Tensor(4, shape=(), dtype=int64), tf.Tenso...   \n132   (tf.Tensor(4, shape=(), dtype=int64), tf.Tenso...   \n491   (tf.Tensor(4, shape=(), dtype=int64), tf.Tenso...   \n597   (tf.Tensor(4, shape=(), dtype=int64), tf.Tenso...   \n614   (tf.Tensor(4, shape=(), dtype=int64), tf.Tenso...   \n743   (tf.Tensor(4, shape=(), dtype=int64), tf.Tenso...   \n1038  (tf.Tensor(4, shape=(), dtype=int64), tf.Tenso...   \n1268  (tf.Tensor(4, shape=(), dtype=int64), tf.Tenso...   \n1289  (tf.Tensor(4, shape=(), dtype=int64), tf.Tenso...   \n\n                                         visibility_seq  \\\n2     (tf.Tensor(1, shape=(), dtype=int64), tf.Tenso...   \n457   (tf.Tensor(1, shape=(), dtype=int64), tf.Tenso...   \n2160  (tf.Tensor(1, shape=(), dtype=int64), tf.Tenso...   \n2677  (tf.Tensor(1, shape=(), dtype=int64), tf.Tenso...   \n4998  (tf.Tensor(1, shape=(), dtype=int64), tf.Tenso...   \n6423  (tf.Tensor(1, shape=(), dtype=int64), tf.Tenso...   \n7199  (tf.Tensor(1, shape=(), dtype=int64), tf.Tenso...   \n7332  (tf.Tensor(1, shape=(), dtype=int64), tf.Tenso...   \n1457  (tf.Tensor(1, shape=(), dtype=int64), tf.Tenso...   \n4758  (tf.Tensor(1, shape=(), dtype=int64), tf.Tenso...   \n61    (tf.Tensor(1, shape=(), dtype=int64), tf.Tenso...   \n132   (tf.Tensor(1, shape=(), dtype=int64), tf.Tenso...   \n491   (tf.Tensor(1, shape=(), dtype=int64), tf.Tenso...   \n597   (tf.Tensor(1, shape=(), dtype=int64), tf.Tenso...   \n614   (tf.Tensor(1, shape=(), dtype=int64), tf.Tenso...   \n743   (tf.Tensor(1, shape=(), dtype=int64), tf.Tenso...   \n1038  (tf.Tensor(1, shape=(), dtype=int64), tf.Tenso...   \n1268  (tf.Tensor(1, shape=(), dtype=int64), tf.Tenso...   \n1289  (tf.Tensor(1, shape=(), dtype=int64), tf.Tenso...   \n\n                                 visibility_to_user_seq  \\\n2     (tf.Tensor(1, shape=(), dtype=int64), tf.Tenso...   \n457   (tf.Tensor(1, shape=(), dtype=int64), tf.Tenso...   \n2160  (tf.Tensor(1, shape=(), dtype=int64), tf.Tenso...   \n2677  (tf.Tensor(1, shape=(), dtype=int64), tf.Tenso...   \n4998  (tf.Tensor(1, shape=(), dtype=int64), tf.Tenso...   \n6423  (tf.Tensor(1, shape=(), dtype=int64), tf.Tenso...   \n7199  (tf.Tensor(1, shape=(), dtype=int64), tf.Tenso...   \n7332  (tf.Tensor(1, shape=(), dtype=int64), tf.Tenso...   \n1457  (tf.Tensor(1, shape=(), dtype=int64), tf.Tenso...   \n4758  (tf.Tensor(1, shape=(), dtype=int64), tf.Tenso...   \n61    (tf.Tensor(1, shape=(), dtype=int64), tf.Tenso...   \n132   (tf.Tensor(1, shape=(), dtype=int64), tf.Tenso...   \n491   (tf.Tensor(1, shape=(), dtype=int64), tf.Tenso...   \n597   (tf.Tensor(1, shape=(), dtype=int64), tf.Tenso...   \n614   (tf.Tensor(1, shape=(), dtype=int64), tf.Tenso...   \n743   (tf.Tensor(1, shape=(), dtype=int64), tf.Tenso...   \n1038  (tf.Tensor(1, shape=(), dtype=int64), tf.Tenso...   \n1268  (tf.Tensor(1, shape=(), dtype=int64), tf.Tenso...   \n1289  (tf.Tensor(1, shape=(), dtype=int64), tf.Tenso...   \n\n                                          clickable_seq  \\\n2     (tf.Tensor(0, shape=(), dtype=int64), tf.Tenso...   \n457   (tf.Tensor(0, shape=(), dtype=int64), tf.Tenso...   \n2160  (tf.Tensor(0, shape=(), dtype=int64), tf.Tenso...   \n2677  (tf.Tensor(0, shape=(), dtype=int64), tf.Tenso...   \n4998  (tf.Tensor(0, shape=(), dtype=int64), tf.Tenso...   \n6423  (tf.Tensor(0, shape=(), dtype=int64), tf.Tenso...   \n7199  (tf.Tensor(0, shape=(), dtype=int64), tf.Tenso...   \n7332  (tf.Tensor(0, shape=(), dtype=int64), tf.Tenso...   \n1457  (tf.Tensor(0, shape=(), dtype=int64), tf.Tenso...   \n4758  (tf.Tensor(0, shape=(), dtype=int64), tf.Tenso...   \n61    (tf.Tensor(0, shape=(), dtype=int64), tf.Tenso...   \n132   (tf.Tensor(0, shape=(), dtype=int64), tf.Tenso...   \n491   (tf.Tensor(0, shape=(), dtype=int64), tf.Tenso...   \n597   (tf.Tensor(0, shape=(), dtype=int64), tf.Tenso...   \n614   (tf.Tensor(0, shape=(), dtype=int64), tf.Tenso...   \n743   (tf.Tensor(0, shape=(), dtype=int64), tf.Tenso...   \n1038  (tf.Tensor(0, shape=(), dtype=int64), tf.Tenso...   \n1268  (tf.Tensor(0, shape=(), dtype=int64), tf.Tenso...   \n1289  (tf.Tensor(0, shape=(), dtype=int64), tf.Tenso...   \n\n                                             cord_x_seq  \\\n2     ((tf.Tensor(0.0, shape=(), dtype=float32), tf....   \n457   ((tf.Tensor(0.0, shape=(), dtype=float32), tf....   \n2160  ((tf.Tensor(0.11111111, shape=(), dtype=float3...   \n2677  ((tf.Tensor(0.0, shape=(), dtype=float32), tf....   \n4998  ((tf.Tensor(0.0, shape=(), dtype=float32), tf....   \n6423  ((tf.Tensor(0.0, shape=(), dtype=float32), tf....   \n7199  ((tf.Tensor(0.0, shape=(), dtype=float32), tf....   \n7332  ((tf.Tensor(0.0, shape=(), dtype=float32), tf....   \n1457  ((tf.Tensor(0.11111111, shape=(), dtype=float3...   \n4758  ((tf.Tensor(0.0, shape=(), dtype=float32), tf....   \n61    ((tf.Tensor(0.0, shape=(), dtype=float32), tf....   \n132   ((tf.Tensor(0.0, shape=(), dtype=float32), tf....   \n491   ((tf.Tensor(0.0, shape=(), dtype=float32), tf....   \n597   ((tf.Tensor(0.0, shape=(), dtype=float32), tf....   \n614   ((tf.Tensor(0.0, shape=(), dtype=float32), tf....   \n743   ((tf.Tensor(0.0, shape=(), dtype=float32), tf....   \n1038  ((tf.Tensor(0.0, shape=(), dtype=float32), tf....   \n1268  ((tf.Tensor(0.0, shape=(), dtype=float32), tf....   \n1289  ((tf.Tensor(0.0, shape=(), dtype=float32), tf....   \n\n                                             cord_y_seq  trace_id  \n2     ((tf.Tensor(0.0, shape=(), dtype=float32), tf....         0  \n457   ((tf.Tensor(0.0, shape=(), dtype=float32), tf....         0  \n2160  ((tf.Tensor(0.15585938, shape=(), dtype=float3...         0  \n2677  ((tf.Tensor(0.0, shape=(), dtype=float32), tf....         0  \n4998  ((tf.Tensor(0.0, shape=(), dtype=float32), tf....         0  \n6423  ((tf.Tensor(0.0328125, shape=(), dtype=float32...         0  \n7199  ((tf.Tensor(0.0, shape=(), dtype=float32), tf....         0  \n7332  ((tf.Tensor(0.0, shape=(), dtype=float32), tf....         0  \n1457  ((tf.Tensor(0.175, shape=(), dtype=float32), t...         1  \n4758  ((tf.Tensor(0.0, shape=(), dtype=float32), tf....         1  \n61    ((tf.Tensor(0.0, shape=(), dtype=float32), tf....         2  \n132   ((tf.Tensor(0.0, shape=(), dtype=float32), tf....         2  \n491   ((tf.Tensor(0.0, shape=(), dtype=float32), tf....         3  \n597   ((tf.Tensor(0.0, shape=(), dtype=float32), tf....         3  \n614   ((tf.Tensor(0.0, shape=(), dtype=float32), tf....         3  \n743   ((tf.Tensor(0.0, shape=(), dtype=float32), tf....         3  \n1038  ((tf.Tensor(0.0, shape=(), dtype=float32), tf....         4  \n1268  ((tf.Tensor(0.0, shape=(), dtype=float32), tf....         4  \n1289  ((tf.Tensor(0.0, shape=(), dtype=float32), tf....         4   with type DataFrame",
      "\nDuring handling of the above exception, another exception occurred:\n",
      "\u001B[1;31mValueError\u001B[0m                                Traceback (most recent call last)",
      "Cell \u001B[1;32mIn[37], line 6\u001B[0m\n\u001B[0;32m      3\u001B[0m scaler \u001B[38;5;241m=\u001B[39m Normalization()\n\u001B[0;32m      4\u001B[0m scaler_invert \u001B[38;5;241m=\u001B[39m Normalization(invert\u001B[38;5;241m=\u001B[39m\u001B[38;5;28;01mTrue\u001B[39;00m)\n\u001B[1;32m----> 6\u001B[0m \u001B[43mscaler\u001B[49m\u001B[38;5;241;43m.\u001B[39;49m\u001B[43madapt\u001B[49m\u001B[43m(\u001B[49m\u001B[43mtrain\u001B[49m\u001B[43m)\u001B[49m\n\u001B[0;32m      7\u001B[0m scaler_invert\u001B[38;5;241m.\u001B[39madapt(train)\n\u001B[0;32m      9\u001B[0m scaled_train \u001B[38;5;241m=\u001B[39m scaler(train)\n",
      "File \u001B[1;32m~\\AppData\\Roaming\\Python\\Python311\\site-packages\\keras\\src\\layers\\preprocessing\\normalization.py:287\u001B[0m, in \u001B[0;36mNormalization.adapt\u001B[1;34m(self, data, batch_size, steps)\u001B[0m\n\u001B[0;32m    241\u001B[0m \u001B[38;5;28;01mdef\u001B[39;00m \u001B[38;5;21madapt\u001B[39m(\u001B[38;5;28mself\u001B[39m, data, batch_size\u001B[38;5;241m=\u001B[39m\u001B[38;5;28;01mNone\u001B[39;00m, steps\u001B[38;5;241m=\u001B[39m\u001B[38;5;28;01mNone\u001B[39;00m):\n\u001B[0;32m    242\u001B[0m \u001B[38;5;250m    \u001B[39m\u001B[38;5;124;03m\"\"\"Computes the mean and variance of values in a dataset.\u001B[39;00m\n\u001B[0;32m    243\u001B[0m \n\u001B[0;32m    244\u001B[0m \u001B[38;5;124;03m    Calling `adapt()` on a `Normalization` layer is an alternative to\u001B[39;00m\n\u001B[1;32m   (...)\u001B[0m\n\u001B[0;32m    285\u001B[0m \u001B[38;5;124;03m          argument is not supported with array inputs.\u001B[39;00m\n\u001B[0;32m    286\u001B[0m \u001B[38;5;124;03m    \"\"\"\u001B[39;00m\n\u001B[1;32m--> 287\u001B[0m     \u001B[38;5;28;43msuper\u001B[39;49m\u001B[43m(\u001B[49m\u001B[43m)\u001B[49m\u001B[38;5;241;43m.\u001B[39;49m\u001B[43madapt\u001B[49m\u001B[43m(\u001B[49m\u001B[43mdata\u001B[49m\u001B[43m,\u001B[49m\u001B[43m \u001B[49m\u001B[43mbatch_size\u001B[49m\u001B[38;5;241;43m=\u001B[39;49m\u001B[43mbatch_size\u001B[49m\u001B[43m,\u001B[49m\u001B[43m \u001B[49m\u001B[43msteps\u001B[49m\u001B[38;5;241;43m=\u001B[39;49m\u001B[43msteps\u001B[49m\u001B[43m)\u001B[49m\n",
      "File \u001B[1;32m~\\AppData\\Roaming\\Python\\Python311\\site-packages\\keras\\src\\engine\\base_preprocessing_layer.py:246\u001B[0m, in \u001B[0;36mPreprocessingLayer.adapt\u001B[1;34m(self, data, batch_size, steps)\u001B[0m\n\u001B[0;32m    244\u001B[0m \u001B[38;5;28;01mif\u001B[39;00m \u001B[38;5;28mself\u001B[39m\u001B[38;5;241m.\u001B[39mbuilt:\n\u001B[0;32m    245\u001B[0m     \u001B[38;5;28mself\u001B[39m\u001B[38;5;241m.\u001B[39mreset_state()\n\u001B[1;32m--> 246\u001B[0m data_handler \u001B[38;5;241m=\u001B[39m \u001B[43mdata_adapter\u001B[49m\u001B[38;5;241;43m.\u001B[39;49m\u001B[43mDataHandler\u001B[49m\u001B[43m(\u001B[49m\n\u001B[0;32m    247\u001B[0m \u001B[43m    \u001B[49m\u001B[43mdata\u001B[49m\u001B[43m,\u001B[49m\n\u001B[0;32m    248\u001B[0m \u001B[43m    \u001B[49m\u001B[43mbatch_size\u001B[49m\u001B[38;5;241;43m=\u001B[39;49m\u001B[43mbatch_size\u001B[49m\u001B[43m,\u001B[49m\n\u001B[0;32m    249\u001B[0m \u001B[43m    \u001B[49m\u001B[43msteps_per_epoch\u001B[49m\u001B[38;5;241;43m=\u001B[39;49m\u001B[43msteps\u001B[49m\u001B[43m,\u001B[49m\n\u001B[0;32m    250\u001B[0m \u001B[43m    \u001B[49m\u001B[43mepochs\u001B[49m\u001B[38;5;241;43m=\u001B[39;49m\u001B[38;5;241;43m1\u001B[39;49m\u001B[43m,\u001B[49m\n\u001B[0;32m    251\u001B[0m \u001B[43m    \u001B[49m\u001B[43msteps_per_execution\u001B[49m\u001B[38;5;241;43m=\u001B[39;49m\u001B[38;5;28;43mself\u001B[39;49m\u001B[38;5;241;43m.\u001B[39;49m\u001B[43m_steps_per_execution\u001B[49m\u001B[43m,\u001B[49m\n\u001B[0;32m    252\u001B[0m \u001B[43m    \u001B[49m\u001B[43mdistribute\u001B[49m\u001B[38;5;241;43m=\u001B[39;49m\u001B[38;5;28;43;01mFalse\u001B[39;49;00m\u001B[43m,\u001B[49m\n\u001B[0;32m    253\u001B[0m \u001B[43m\u001B[49m\u001B[43m)\u001B[49m\n\u001B[0;32m    254\u001B[0m \u001B[38;5;28mself\u001B[39m\u001B[38;5;241m.\u001B[39m_adapt_function \u001B[38;5;241m=\u001B[39m \u001B[38;5;28mself\u001B[39m\u001B[38;5;241m.\u001B[39mmake_adapt_function()\n\u001B[0;32m    255\u001B[0m \u001B[38;5;28;01mfor\u001B[39;00m _, iterator \u001B[38;5;129;01min\u001B[39;00m data_handler\u001B[38;5;241m.\u001B[39menumerate_epochs():\n",
      "File \u001B[1;32m~\\AppData\\Roaming\\Python\\Python311\\site-packages\\keras\\src\\engine\\data_adapter.py:1285\u001B[0m, in \u001B[0;36mDataHandler.__init__\u001B[1;34m(self, x, y, sample_weight, batch_size, steps_per_epoch, initial_epoch, epochs, shuffle, class_weight, max_queue_size, workers, use_multiprocessing, model, steps_per_execution, distribute, pss_evaluation_shards)\u001B[0m\n\u001B[0;32m   1282\u001B[0m     \u001B[38;5;28mself\u001B[39m\u001B[38;5;241m.\u001B[39m_steps_per_execution \u001B[38;5;241m=\u001B[39m steps_per_execution\n\u001B[0;32m   1284\u001B[0m adapter_cls \u001B[38;5;241m=\u001B[39m select_data_adapter(x, y)\n\u001B[1;32m-> 1285\u001B[0m \u001B[38;5;28mself\u001B[39m\u001B[38;5;241m.\u001B[39m_adapter \u001B[38;5;241m=\u001B[39m \u001B[43madapter_cls\u001B[49m\u001B[43m(\u001B[49m\n\u001B[0;32m   1286\u001B[0m \u001B[43m    \u001B[49m\u001B[43mx\u001B[49m\u001B[43m,\u001B[49m\n\u001B[0;32m   1287\u001B[0m \u001B[43m    \u001B[49m\u001B[43my\u001B[49m\u001B[43m,\u001B[49m\n\u001B[0;32m   1288\u001B[0m \u001B[43m    \u001B[49m\u001B[43mbatch_size\u001B[49m\u001B[38;5;241;43m=\u001B[39;49m\u001B[43mbatch_size\u001B[49m\u001B[43m,\u001B[49m\n\u001B[0;32m   1289\u001B[0m \u001B[43m    \u001B[49m\u001B[43msteps\u001B[49m\u001B[38;5;241;43m=\u001B[39;49m\u001B[43msteps_per_epoch\u001B[49m\u001B[43m,\u001B[49m\n\u001B[0;32m   1290\u001B[0m \u001B[43m    \u001B[49m\u001B[43mepochs\u001B[49m\u001B[38;5;241;43m=\u001B[39;49m\u001B[43mepochs\u001B[49m\u001B[43m \u001B[49m\u001B[38;5;241;43m-\u001B[39;49m\u001B[43m \u001B[49m\u001B[43minitial_epoch\u001B[49m\u001B[43m,\u001B[49m\n\u001B[0;32m   1291\u001B[0m \u001B[43m    \u001B[49m\u001B[43msample_weights\u001B[49m\u001B[38;5;241;43m=\u001B[39;49m\u001B[43msample_weight\u001B[49m\u001B[43m,\u001B[49m\n\u001B[0;32m   1292\u001B[0m \u001B[43m    \u001B[49m\u001B[43mshuffle\u001B[49m\u001B[38;5;241;43m=\u001B[39;49m\u001B[43mshuffle\u001B[49m\u001B[43m,\u001B[49m\n\u001B[0;32m   1293\u001B[0m \u001B[43m    \u001B[49m\u001B[43mmax_queue_size\u001B[49m\u001B[38;5;241;43m=\u001B[39;49m\u001B[43mmax_queue_size\u001B[49m\u001B[43m,\u001B[49m\n\u001B[0;32m   1294\u001B[0m \u001B[43m    \u001B[49m\u001B[43mworkers\u001B[49m\u001B[38;5;241;43m=\u001B[39;49m\u001B[43mworkers\u001B[49m\u001B[43m,\u001B[49m\n\u001B[0;32m   1295\u001B[0m \u001B[43m    \u001B[49m\u001B[43muse_multiprocessing\u001B[49m\u001B[38;5;241;43m=\u001B[39;49m\u001B[43muse_multiprocessing\u001B[49m\u001B[43m,\u001B[49m\n\u001B[0;32m   1296\u001B[0m \u001B[43m    \u001B[49m\u001B[43mdistribution_strategy\u001B[49m\u001B[38;5;241;43m=\u001B[39;49m\u001B[43mtf\u001B[49m\u001B[38;5;241;43m.\u001B[39;49m\u001B[43mdistribute\u001B[49m\u001B[38;5;241;43m.\u001B[39;49m\u001B[43mget_strategy\u001B[49m\u001B[43m(\u001B[49m\u001B[43m)\u001B[49m\u001B[43m,\u001B[49m\n\u001B[0;32m   1297\u001B[0m \u001B[43m    \u001B[49m\u001B[43mmodel\u001B[49m\u001B[38;5;241;43m=\u001B[39;49m\u001B[43mmodel\u001B[49m\u001B[43m,\u001B[49m\n\u001B[0;32m   1298\u001B[0m \u001B[43m    \u001B[49m\u001B[43mpss_evaluation_shards\u001B[49m\u001B[38;5;241;43m=\u001B[39;49m\u001B[43mpss_evaluation_shards\u001B[49m\u001B[43m,\u001B[49m\n\u001B[0;32m   1299\u001B[0m \u001B[43m\u001B[49m\u001B[43m)\u001B[49m\n\u001B[0;32m   1301\u001B[0m strategy \u001B[38;5;241m=\u001B[39m tf\u001B[38;5;241m.\u001B[39mdistribute\u001B[38;5;241m.\u001B[39mget_strategy()\n\u001B[0;32m   1303\u001B[0m \u001B[38;5;28mself\u001B[39m\u001B[38;5;241m.\u001B[39m_current_step \u001B[38;5;241m=\u001B[39m \u001B[38;5;241m0\u001B[39m\n",
      "File \u001B[1;32m~\\AppData\\Roaming\\Python\\Python311\\site-packages\\keras\\src\\engine\\data_adapter.py:355\u001B[0m, in \u001B[0;36mTensorLikeDataAdapter.__init__\u001B[1;34m(self, x, y, sample_weights, sample_weight_modes, batch_size, epochs, steps, shuffle, **kwargs)\u001B[0m\n\u001B[0;32m    351\u001B[0m     \u001B[38;5;28;01mreturn\u001B[39;00m flat_dataset\n\u001B[0;32m    353\u001B[0m indices_dataset \u001B[38;5;241m=\u001B[39m indices_dataset\u001B[38;5;241m.\u001B[39mflat_map(slice_batch_indices)\n\u001B[1;32m--> 355\u001B[0m dataset \u001B[38;5;241m=\u001B[39m \u001B[38;5;28;43mself\u001B[39;49m\u001B[38;5;241;43m.\u001B[39;49m\u001B[43mslice_inputs\u001B[49m\u001B[43m(\u001B[49m\u001B[43mindices_dataset\u001B[49m\u001B[43m,\u001B[49m\u001B[43m \u001B[49m\u001B[43minputs\u001B[49m\u001B[43m)\u001B[49m\n\u001B[0;32m    357\u001B[0m \u001B[38;5;28;01mif\u001B[39;00m shuffle \u001B[38;5;241m==\u001B[39m \u001B[38;5;124m\"\u001B[39m\u001B[38;5;124mbatch\u001B[39m\u001B[38;5;124m\"\u001B[39m:\n\u001B[0;32m    359\u001B[0m     \u001B[38;5;28;01mdef\u001B[39;00m \u001B[38;5;21mshuffle_batch\u001B[39m(\u001B[38;5;241m*\u001B[39mbatch):\n",
      "File \u001B[1;32m~\\AppData\\Roaming\\Python\\Python311\\site-packages\\keras\\src\\engine\\data_adapter.py:388\u001B[0m, in \u001B[0;36mTensorLikeDataAdapter.slice_inputs\u001B[1;34m(self, indices_dataset, inputs)\u001B[0m\n\u001B[0;32m    372\u001B[0m \u001B[38;5;28;01mdef\u001B[39;00m \u001B[38;5;21mslice_inputs\u001B[39m(\u001B[38;5;28mself\u001B[39m, indices_dataset, inputs):\n\u001B[0;32m    373\u001B[0m \u001B[38;5;250m    \u001B[39m\u001B[38;5;124;03m\"\"\"Slice inputs into a Dataset of batches.\u001B[39;00m\n\u001B[0;32m    374\u001B[0m \n\u001B[0;32m    375\u001B[0m \u001B[38;5;124;03m    Given a Dataset of batch indices and the unsliced inputs,\u001B[39;00m\n\u001B[1;32m   (...)\u001B[0m\n\u001B[0;32m    385\u001B[0m \u001B[38;5;124;03m      A Dataset of input batches matching the batch indices.\u001B[39;00m\n\u001B[0;32m    386\u001B[0m \u001B[38;5;124;03m    \"\"\"\u001B[39;00m\n\u001B[0;32m    387\u001B[0m     dataset \u001B[38;5;241m=\u001B[39m tf\u001B[38;5;241m.\u001B[39mdata\u001B[38;5;241m.\u001B[39mDataset\u001B[38;5;241m.\u001B[39mzip(\n\u001B[1;32m--> 388\u001B[0m         (indices_dataset, \u001B[43mtf\u001B[49m\u001B[38;5;241;43m.\u001B[39;49m\u001B[43mdata\u001B[49m\u001B[38;5;241;43m.\u001B[39;49m\u001B[43mDataset\u001B[49m\u001B[38;5;241;43m.\u001B[39;49m\u001B[43mfrom_tensors\u001B[49m\u001B[43m(\u001B[49m\u001B[43minputs\u001B[49m\u001B[43m)\u001B[49m\u001B[38;5;241m.\u001B[39mrepeat())\n\u001B[0;32m    389\u001B[0m     )\n\u001B[0;32m    391\u001B[0m     \u001B[38;5;28;01mdef\u001B[39;00m \u001B[38;5;21mgrab_batch\u001B[39m(i, data):\n\u001B[0;32m    392\u001B[0m         \u001B[38;5;28;01mreturn\u001B[39;00m tf\u001B[38;5;241m.\u001B[39mnest\u001B[38;5;241m.\u001B[39mmap_structure(\n\u001B[0;32m    393\u001B[0m             \u001B[38;5;28;01mlambda\u001B[39;00m d: tf\u001B[38;5;241m.\u001B[39mgather(d, i, axis\u001B[38;5;241m=\u001B[39m\u001B[38;5;241m0\u001B[39m), data\n\u001B[0;32m    394\u001B[0m         )\n",
      "File \u001B[1;32m~\\AppData\\Roaming\\Python\\Python311\\site-packages\\tensorflow\\python\\data\\ops\\dataset_ops.py:746\u001B[0m, in \u001B[0;36mDatasetV2.from_tensors\u001B[1;34m(tensors, name)\u001B[0m\n\u001B[0;32m    742\u001B[0m \u001B[38;5;66;03m# Loaded lazily due to a circular dependency (dataset_ops ->\u001B[39;00m\n\u001B[0;32m    743\u001B[0m \u001B[38;5;66;03m# from_tensors_op -> dataset_ops).\u001B[39;00m\n\u001B[0;32m    744\u001B[0m \u001B[38;5;66;03m# pylint: disable=g-import-not-at-top,protected-access\u001B[39;00m\n\u001B[0;32m    745\u001B[0m \u001B[38;5;28;01mfrom\u001B[39;00m \u001B[38;5;21;01mtensorflow\u001B[39;00m\u001B[38;5;21;01m.\u001B[39;00m\u001B[38;5;21;01mpython\u001B[39;00m\u001B[38;5;21;01m.\u001B[39;00m\u001B[38;5;21;01mdata\u001B[39;00m\u001B[38;5;21;01m.\u001B[39;00m\u001B[38;5;21;01mops\u001B[39;00m \u001B[38;5;28;01mimport\u001B[39;00m from_tensors_op\n\u001B[1;32m--> 746\u001B[0m \u001B[38;5;28;01mreturn\u001B[39;00m \u001B[43mfrom_tensors_op\u001B[49m\u001B[38;5;241;43m.\u001B[39;49m\u001B[43m_from_tensors\u001B[49m\u001B[43m(\u001B[49m\u001B[43mtensors\u001B[49m\u001B[43m,\u001B[49m\u001B[43m \u001B[49m\u001B[43mname\u001B[49m\u001B[43m)\u001B[49m\n",
      "File \u001B[1;32m~\\AppData\\Roaming\\Python\\Python311\\site-packages\\tensorflow\\python\\data\\ops\\from_tensors_op.py:23\u001B[0m, in \u001B[0;36m_from_tensors\u001B[1;34m(tensors, name)\u001B[0m\n\u001B[0;32m     22\u001B[0m \u001B[38;5;28;01mdef\u001B[39;00m \u001B[38;5;21m_from_tensors\u001B[39m(tensors, name):  \u001B[38;5;66;03m# pylint: disable=unused-private-name\u001B[39;00m\n\u001B[1;32m---> 23\u001B[0m   \u001B[38;5;28;01mreturn\u001B[39;00m \u001B[43m_TensorDataset\u001B[49m\u001B[43m(\u001B[49m\u001B[43mtensors\u001B[49m\u001B[43m,\u001B[49m\u001B[43m \u001B[49m\u001B[43mname\u001B[49m\u001B[43m)\u001B[49m\n",
      "File \u001B[1;32m~\\AppData\\Roaming\\Python\\Python311\\site-packages\\tensorflow\\python\\data\\ops\\from_tensors_op.py:31\u001B[0m, in \u001B[0;36m_TensorDataset.__init__\u001B[1;34m(self, element, name)\u001B[0m\n\u001B[0;32m     29\u001B[0m \u001B[38;5;28;01mdef\u001B[39;00m \u001B[38;5;21m__init__\u001B[39m(\u001B[38;5;28mself\u001B[39m, element, name\u001B[38;5;241m=\u001B[39m\u001B[38;5;28;01mNone\u001B[39;00m):\n\u001B[0;32m     30\u001B[0m \u001B[38;5;250m  \u001B[39m\u001B[38;5;124;03m\"\"\"See `tf.data.Dataset.from_tensors` for details.\"\"\"\u001B[39;00m\n\u001B[1;32m---> 31\u001B[0m   element \u001B[38;5;241m=\u001B[39m \u001B[43mstructure\u001B[49m\u001B[38;5;241;43m.\u001B[39;49m\u001B[43mnormalize_element\u001B[49m\u001B[43m(\u001B[49m\u001B[43melement\u001B[49m\u001B[43m)\u001B[49m\n\u001B[0;32m     32\u001B[0m   \u001B[38;5;28mself\u001B[39m\u001B[38;5;241m.\u001B[39m_structure \u001B[38;5;241m=\u001B[39m structure\u001B[38;5;241m.\u001B[39mtype_spec_from_value(element)\n\u001B[0;32m     33\u001B[0m   \u001B[38;5;28mself\u001B[39m\u001B[38;5;241m.\u001B[39m_tensors \u001B[38;5;241m=\u001B[39m structure\u001B[38;5;241m.\u001B[39mto_tensor_list(\u001B[38;5;28mself\u001B[39m\u001B[38;5;241m.\u001B[39m_structure, element)\n",
      "File \u001B[1;32m~\\AppData\\Roaming\\Python\\Python311\\site-packages\\tensorflow\\python\\data\\util\\structure.py:109\u001B[0m, in \u001B[0;36mnormalize_element\u001B[1;34m(element, element_signature)\u001B[0m\n\u001B[0;32m    104\u001B[0m     spec \u001B[38;5;241m=\u001B[39m type_spec_from_value(t, use_fallback\u001B[38;5;241m=\u001B[39m\u001B[38;5;28;01mFalse\u001B[39;00m)\n\u001B[0;32m    105\u001B[0m \u001B[38;5;28;01mexcept\u001B[39;00m \u001B[38;5;167;01mTypeError\u001B[39;00m:\n\u001B[0;32m    106\u001B[0m   \u001B[38;5;66;03m# TypeError indicates it was not possible to compute a `TypeSpec` for\u001B[39;00m\n\u001B[0;32m    107\u001B[0m   \u001B[38;5;66;03m# the value. As a fallback try converting the value to a tensor.\u001B[39;00m\n\u001B[0;32m    108\u001B[0m   normalized_components\u001B[38;5;241m.\u001B[39mappend(\n\u001B[1;32m--> 109\u001B[0m       \u001B[43mops\u001B[49m\u001B[38;5;241;43m.\u001B[39;49m\u001B[43mconvert_to_tensor\u001B[49m\u001B[43m(\u001B[49m\u001B[43mt\u001B[49m\u001B[43m,\u001B[49m\u001B[43m \u001B[49m\u001B[43mname\u001B[49m\u001B[38;5;241;43m=\u001B[39;49m\u001B[38;5;124;43m\"\u001B[39;49m\u001B[38;5;124;43mcomponent_\u001B[39;49m\u001B[38;5;132;43;01m%d\u001B[39;49;00m\u001B[38;5;124;43m\"\u001B[39;49m\u001B[43m \u001B[49m\u001B[38;5;241;43m%\u001B[39;49m\u001B[43m \u001B[49m\u001B[43mi\u001B[49m\u001B[43m)\u001B[49m)\n\u001B[0;32m    110\u001B[0m \u001B[38;5;28;01melse\u001B[39;00m:\n\u001B[0;32m    111\u001B[0m   \u001B[38;5;66;03m# To avoid a circular dependency between dataset_ops and structure,\u001B[39;00m\n\u001B[0;32m    112\u001B[0m   \u001B[38;5;66;03m# we check the class name instead of using `isinstance`.\u001B[39;00m\n\u001B[0;32m    113\u001B[0m   \u001B[38;5;28;01mif\u001B[39;00m spec\u001B[38;5;241m.\u001B[39m\u001B[38;5;18m__class__\u001B[39m\u001B[38;5;241m.\u001B[39m\u001B[38;5;18m__name__\u001B[39m \u001B[38;5;241m==\u001B[39m \u001B[38;5;124m\"\u001B[39m\u001B[38;5;124mDatasetSpec\u001B[39m\u001B[38;5;124m\"\u001B[39m:\n",
      "File \u001B[1;32m~\\AppData\\Roaming\\Python\\Python311\\site-packages\\tensorflow\\python\\profiler\\trace.py:183\u001B[0m, in \u001B[0;36mtrace_wrapper.<locals>.inner_wrapper.<locals>.wrapped\u001B[1;34m(*args, **kwargs)\u001B[0m\n\u001B[0;32m    181\u001B[0m   \u001B[38;5;28;01mwith\u001B[39;00m Trace(trace_name, \u001B[38;5;241m*\u001B[39m\u001B[38;5;241m*\u001B[39mtrace_kwargs):\n\u001B[0;32m    182\u001B[0m     \u001B[38;5;28;01mreturn\u001B[39;00m func(\u001B[38;5;241m*\u001B[39margs, \u001B[38;5;241m*\u001B[39m\u001B[38;5;241m*\u001B[39mkwargs)\n\u001B[1;32m--> 183\u001B[0m \u001B[38;5;28;01mreturn\u001B[39;00m \u001B[43mfunc\u001B[49m\u001B[43m(\u001B[49m\u001B[38;5;241;43m*\u001B[39;49m\u001B[43margs\u001B[49m\u001B[43m,\u001B[49m\u001B[43m \u001B[49m\u001B[38;5;241;43m*\u001B[39;49m\u001B[38;5;241;43m*\u001B[39;49m\u001B[43mkwargs\u001B[49m\u001B[43m)\u001B[49m\n",
      "File \u001B[1;32m~\\AppData\\Roaming\\Python\\Python311\\site-packages\\tensorflow\\python\\framework\\ops.py:1443\u001B[0m, in \u001B[0;36mconvert_to_tensor\u001B[1;34m(value, dtype, name, as_ref, preferred_dtype, dtype_hint, ctx, accepted_result_types)\u001B[0m\n\u001B[0;32m   1441\u001B[0m \u001B[38;5;66;03m# TODO(b/142518781): Fix all call-sites and remove redundant arg\u001B[39;00m\n\u001B[0;32m   1442\u001B[0m preferred_dtype \u001B[38;5;241m=\u001B[39m preferred_dtype \u001B[38;5;129;01mor\u001B[39;00m dtype_hint\n\u001B[1;32m-> 1443\u001B[0m \u001B[38;5;28;01mreturn\u001B[39;00m \u001B[43mtensor_conversion_registry\u001B[49m\u001B[38;5;241;43m.\u001B[39;49m\u001B[43mconvert\u001B[49m\u001B[43m(\u001B[49m\n\u001B[0;32m   1444\u001B[0m \u001B[43m    \u001B[49m\u001B[43mvalue\u001B[49m\u001B[43m,\u001B[49m\u001B[43m \u001B[49m\u001B[43mdtype\u001B[49m\u001B[43m,\u001B[49m\u001B[43m \u001B[49m\u001B[43mname\u001B[49m\u001B[43m,\u001B[49m\u001B[43m \u001B[49m\u001B[43mas_ref\u001B[49m\u001B[43m,\u001B[49m\u001B[43m \u001B[49m\u001B[43mpreferred_dtype\u001B[49m\u001B[43m,\u001B[49m\u001B[43m \u001B[49m\u001B[43maccepted_result_types\u001B[49m\n\u001B[0;32m   1445\u001B[0m \u001B[43m\u001B[49m\u001B[43m)\u001B[49m\n",
      "File \u001B[1;32m~\\AppData\\Roaming\\Python\\Python311\\site-packages\\tensorflow\\python\\framework\\tensor_conversion_registry.py:234\u001B[0m, in \u001B[0;36mconvert\u001B[1;34m(value, dtype, name, as_ref, preferred_dtype, accepted_result_types)\u001B[0m\n\u001B[0;32m    225\u001B[0m       \u001B[38;5;28;01mraise\u001B[39;00m \u001B[38;5;167;01mRuntimeError\u001B[39;00m(\n\u001B[0;32m    226\u001B[0m           _add_error_prefix(\n\u001B[0;32m    227\u001B[0m               \u001B[38;5;124mf\u001B[39m\u001B[38;5;124m\"\u001B[39m\u001B[38;5;124mConversion function \u001B[39m\u001B[38;5;132;01m{\u001B[39;00mconversion_func\u001B[38;5;132;01m!r}\u001B[39;00m\u001B[38;5;124m for type \u001B[39m\u001B[38;5;124m\"\u001B[39m\n\u001B[1;32m   (...)\u001B[0m\n\u001B[0;32m    230\u001B[0m               \u001B[38;5;124mf\u001B[39m\u001B[38;5;124m\"\u001B[39m\u001B[38;5;124mactual = \u001B[39m\u001B[38;5;132;01m{\u001B[39;00mret\u001B[38;5;241m.\u001B[39mdtype\u001B[38;5;241m.\u001B[39mbase_dtype\u001B[38;5;241m.\u001B[39mname\u001B[38;5;132;01m}\u001B[39;00m\u001B[38;5;124m\"\u001B[39m,\n\u001B[0;32m    231\u001B[0m               name\u001B[38;5;241m=\u001B[39mname))\n\u001B[0;32m    233\u001B[0m \u001B[38;5;28;01mif\u001B[39;00m ret \u001B[38;5;129;01mis\u001B[39;00m \u001B[38;5;28;01mNone\u001B[39;00m:\n\u001B[1;32m--> 234\u001B[0m   ret \u001B[38;5;241m=\u001B[39m \u001B[43mconversion_func\u001B[49m\u001B[43m(\u001B[49m\u001B[43mvalue\u001B[49m\u001B[43m,\u001B[49m\u001B[43m \u001B[49m\u001B[43mdtype\u001B[49m\u001B[38;5;241;43m=\u001B[39;49m\u001B[43mdtype\u001B[49m\u001B[43m,\u001B[49m\u001B[43m \u001B[49m\u001B[43mname\u001B[49m\u001B[38;5;241;43m=\u001B[39;49m\u001B[43mname\u001B[49m\u001B[43m,\u001B[49m\u001B[43m \u001B[49m\u001B[43mas_ref\u001B[49m\u001B[38;5;241;43m=\u001B[39;49m\u001B[43mas_ref\u001B[49m\u001B[43m)\u001B[49m\n\u001B[0;32m    236\u001B[0m \u001B[38;5;28;01mif\u001B[39;00m ret \u001B[38;5;129;01mis\u001B[39;00m \u001B[38;5;28mNotImplemented\u001B[39m:\n\u001B[0;32m    237\u001B[0m   \u001B[38;5;28;01mcontinue\u001B[39;00m\n",
      "File \u001B[1;32m~\\AppData\\Roaming\\Python\\Python311\\site-packages\\tensorflow\\python\\framework\\constant_op.py:324\u001B[0m, in \u001B[0;36m_constant_tensor_conversion_function\u001B[1;34m(v, dtype, name, as_ref)\u001B[0m\n\u001B[0;32m    321\u001B[0m \u001B[38;5;28;01mdef\u001B[39;00m \u001B[38;5;21m_constant_tensor_conversion_function\u001B[39m(v, dtype\u001B[38;5;241m=\u001B[39m\u001B[38;5;28;01mNone\u001B[39;00m, name\u001B[38;5;241m=\u001B[39m\u001B[38;5;28;01mNone\u001B[39;00m,\n\u001B[0;32m    322\u001B[0m                                          as_ref\u001B[38;5;241m=\u001B[39m\u001B[38;5;28;01mFalse\u001B[39;00m):\n\u001B[0;32m    323\u001B[0m   _ \u001B[38;5;241m=\u001B[39m as_ref\n\u001B[1;32m--> 324\u001B[0m   \u001B[38;5;28;01mreturn\u001B[39;00m \u001B[43mconstant\u001B[49m\u001B[43m(\u001B[49m\u001B[43mv\u001B[49m\u001B[43m,\u001B[49m\u001B[43m \u001B[49m\u001B[43mdtype\u001B[49m\u001B[38;5;241;43m=\u001B[39;49m\u001B[43mdtype\u001B[49m\u001B[43m,\u001B[49m\u001B[43m \u001B[49m\u001B[43mname\u001B[49m\u001B[38;5;241;43m=\u001B[39;49m\u001B[43mname\u001B[49m\u001B[43m)\u001B[49m\n",
      "File \u001B[1;32m~\\AppData\\Roaming\\Python\\Python311\\site-packages\\tensorflow\\python\\framework\\constant_op.py:263\u001B[0m, in \u001B[0;36mconstant\u001B[1;34m(value, dtype, shape, name)\u001B[0m\n\u001B[0;32m    166\u001B[0m \u001B[38;5;129m@tf_export\u001B[39m(\u001B[38;5;124m\"\u001B[39m\u001B[38;5;124mconstant\u001B[39m\u001B[38;5;124m\"\u001B[39m, v1\u001B[38;5;241m=\u001B[39m[])\n\u001B[0;32m    167\u001B[0m \u001B[38;5;28;01mdef\u001B[39;00m \u001B[38;5;21mconstant\u001B[39m(value, dtype\u001B[38;5;241m=\u001B[39m\u001B[38;5;28;01mNone\u001B[39;00m, shape\u001B[38;5;241m=\u001B[39m\u001B[38;5;28;01mNone\u001B[39;00m, name\u001B[38;5;241m=\u001B[39m\u001B[38;5;124m\"\u001B[39m\u001B[38;5;124mConst\u001B[39m\u001B[38;5;124m\"\u001B[39m):\n\u001B[0;32m    168\u001B[0m \u001B[38;5;250m  \u001B[39m\u001B[38;5;124;03m\"\"\"Creates a constant tensor from a tensor-like object.\u001B[39;00m\n\u001B[0;32m    169\u001B[0m \n\u001B[0;32m    170\u001B[0m \u001B[38;5;124;03m  Note: All eager `tf.Tensor` values are immutable (in contrast to\u001B[39;00m\n\u001B[1;32m   (...)\u001B[0m\n\u001B[0;32m    261\u001B[0m \u001B[38;5;124;03m    ValueError: if called on a symbolic tensor.\u001B[39;00m\n\u001B[0;32m    262\u001B[0m \u001B[38;5;124;03m  \"\"\"\u001B[39;00m\n\u001B[1;32m--> 263\u001B[0m   \u001B[38;5;28;01mreturn\u001B[39;00m \u001B[43m_constant_impl\u001B[49m\u001B[43m(\u001B[49m\u001B[43mvalue\u001B[49m\u001B[43m,\u001B[49m\u001B[43m \u001B[49m\u001B[43mdtype\u001B[49m\u001B[43m,\u001B[49m\u001B[43m \u001B[49m\u001B[43mshape\u001B[49m\u001B[43m,\u001B[49m\u001B[43m \u001B[49m\u001B[43mname\u001B[49m\u001B[43m,\u001B[49m\u001B[43m \u001B[49m\u001B[43mverify_shape\u001B[49m\u001B[38;5;241;43m=\u001B[39;49m\u001B[38;5;28;43;01mFalse\u001B[39;49;00m\u001B[43m,\u001B[49m\n\u001B[0;32m    264\u001B[0m \u001B[43m                        \u001B[49m\u001B[43mallow_broadcast\u001B[49m\u001B[38;5;241;43m=\u001B[39;49m\u001B[38;5;28;43;01mTrue\u001B[39;49;00m\u001B[43m)\u001B[49m\n",
      "File \u001B[1;32m~\\AppData\\Roaming\\Python\\Python311\\site-packages\\tensorflow\\python\\framework\\constant_op.py:275\u001B[0m, in \u001B[0;36m_constant_impl\u001B[1;34m(value, dtype, shape, name, verify_shape, allow_broadcast)\u001B[0m\n\u001B[0;32m    273\u001B[0m     \u001B[38;5;28;01mwith\u001B[39;00m trace\u001B[38;5;241m.\u001B[39mTrace(\u001B[38;5;124m\"\u001B[39m\u001B[38;5;124mtf.constant\u001B[39m\u001B[38;5;124m\"\u001B[39m):\n\u001B[0;32m    274\u001B[0m       \u001B[38;5;28;01mreturn\u001B[39;00m _constant_eager_impl(ctx, value, dtype, shape, verify_shape)\n\u001B[1;32m--> 275\u001B[0m   \u001B[38;5;28;01mreturn\u001B[39;00m \u001B[43m_constant_eager_impl\u001B[49m\u001B[43m(\u001B[49m\u001B[43mctx\u001B[49m\u001B[43m,\u001B[49m\u001B[43m \u001B[49m\u001B[43mvalue\u001B[49m\u001B[43m,\u001B[49m\u001B[43m \u001B[49m\u001B[43mdtype\u001B[49m\u001B[43m,\u001B[49m\u001B[43m \u001B[49m\u001B[43mshape\u001B[49m\u001B[43m,\u001B[49m\u001B[43m \u001B[49m\u001B[43mverify_shape\u001B[49m\u001B[43m)\u001B[49m\n\u001B[0;32m    277\u001B[0m const_tensor \u001B[38;5;241m=\u001B[39m ops\u001B[38;5;241m.\u001B[39m_create_graph_constant(  \u001B[38;5;66;03m# pylint: disable=protected-access\u001B[39;00m\n\u001B[0;32m    278\u001B[0m     value, dtype, shape, name, verify_shape, allow_broadcast\n\u001B[0;32m    279\u001B[0m )\n\u001B[0;32m    280\u001B[0m \u001B[38;5;28;01mreturn\u001B[39;00m const_tensor\n",
      "File \u001B[1;32m~\\AppData\\Roaming\\Python\\Python311\\site-packages\\tensorflow\\python\\framework\\constant_op.py:285\u001B[0m, in \u001B[0;36m_constant_eager_impl\u001B[1;34m(ctx, value, dtype, shape, verify_shape)\u001B[0m\n\u001B[0;32m    283\u001B[0m \u001B[38;5;28;01mdef\u001B[39;00m \u001B[38;5;21m_constant_eager_impl\u001B[39m(ctx, value, dtype, shape, verify_shape):\n\u001B[0;32m    284\u001B[0m \u001B[38;5;250m  \u001B[39m\u001B[38;5;124;03m\"\"\"Creates a constant on the current device.\"\"\"\u001B[39;00m\n\u001B[1;32m--> 285\u001B[0m   t \u001B[38;5;241m=\u001B[39m \u001B[43mconvert_to_eager_tensor\u001B[49m\u001B[43m(\u001B[49m\u001B[43mvalue\u001B[49m\u001B[43m,\u001B[49m\u001B[43m \u001B[49m\u001B[43mctx\u001B[49m\u001B[43m,\u001B[49m\u001B[43m \u001B[49m\u001B[43mdtype\u001B[49m\u001B[43m)\u001B[49m\n\u001B[0;32m    286\u001B[0m   \u001B[38;5;28;01mif\u001B[39;00m shape \u001B[38;5;129;01mis\u001B[39;00m \u001B[38;5;28;01mNone\u001B[39;00m:\n\u001B[0;32m    287\u001B[0m     \u001B[38;5;28;01mreturn\u001B[39;00m t\n",
      "File \u001B[1;32m~\\AppData\\Roaming\\Python\\Python311\\site-packages\\tensorflow\\python\\framework\\constant_op.py:98\u001B[0m, in \u001B[0;36mconvert_to_eager_tensor\u001B[1;34m(value, ctx, dtype)\u001B[0m\n\u001B[0;32m     96\u001B[0m     dtype \u001B[38;5;241m=\u001B[39m dtypes\u001B[38;5;241m.\u001B[39mas_dtype(dtype)\u001B[38;5;241m.\u001B[39mas_datatype_enum\n\u001B[0;32m     97\u001B[0m ctx\u001B[38;5;241m.\u001B[39mensure_initialized()\n\u001B[1;32m---> 98\u001B[0m \u001B[38;5;28;01mreturn\u001B[39;00m \u001B[43mops\u001B[49m\u001B[38;5;241;43m.\u001B[39;49m\u001B[43mEagerTensor\u001B[49m\u001B[43m(\u001B[49m\u001B[43mvalue\u001B[49m\u001B[43m,\u001B[49m\u001B[43m \u001B[49m\u001B[43mctx\u001B[49m\u001B[38;5;241;43m.\u001B[39;49m\u001B[43mdevice_name\u001B[49m\u001B[43m,\u001B[49m\u001B[43m \u001B[49m\u001B[43mdtype\u001B[49m\u001B[43m)\u001B[49m\n",
      "\u001B[1;31mValueError\u001B[0m: Failed to convert a NumPy array to a Tensor (Unsupported object type float)."
     ]
    }
   ],
   "source": [
    "from keras.layers import Normalization\n",
    "\n",
    "scaler = Normalization()\n",
    "scaler_invert = Normalization(invert=True)\n",
    "\n",
    "scaler.adapt(train)\n",
    "scaler_invert.adapt(train)\n",
    "\n",
    "scaled_train = scaler(train)\n",
    "scaled_test = scaler(test)\n",
    "\n",
    "print(scaler_invert(scaled_train))"
   ],
   "metadata": {
    "collapsed": false,
    "ExecuteTime": {
     "end_time": "2023-12-04T18:56:55.878413400Z",
     "start_time": "2023-12-04T18:56:43.753753400Z"
    }
   },
   "id": "3ef65237c3f7c11e"
  },
  {
   "cell_type": "code",
   "execution_count": 68,
   "outputs": [],
   "source": [],
   "metadata": {
    "collapsed": false,
    "ExecuteTime": {
     "end_time": "2023-11-29T19:59:32.079125800Z",
     "start_time": "2023-11-29T19:59:27.694289500Z"
    }
   },
   "id": "e5558a8d8a392c8e"
  },
  {
   "cell_type": "code",
   "execution_count": 70,
   "outputs": [
    {
     "ename": "ValueError",
     "evalue": "setting an array element with a sequence.",
     "output_type": "error",
     "traceback": [
      "\u001B[1;31m---------------------------------------------------------------------------\u001B[0m",
      "\u001B[1;31mTypeError\u001B[0m                                 Traceback (most recent call last)",
      "\u001B[1;31mTypeError\u001B[0m: only size-1 arrays can be converted to Python scalars",
      "\nThe above exception was the direct cause of the following exception:\n",
      "\u001B[1;31mValueError\u001B[0m                                Traceback (most recent call last)",
      "\u001B[1;32m~\\AppData\\Local\\Temp\\ipykernel_8672\\1164466917.py\u001B[0m in \u001B[0;36m?\u001B[1;34m()\u001B[0m\n\u001B[1;32m----> 1\u001B[1;33m \u001B[0mscaled_train\u001B[0m \u001B[1;33m=\u001B[0m \u001B[0mscaler\u001B[0m\u001B[1;33m.\u001B[0m\u001B[0mfit_transform\u001B[0m\u001B[1;33m(\u001B[0m\u001B[0mtrain\u001B[0m\u001B[1;33m)\u001B[0m\u001B[1;33m\u001B[0m\u001B[1;33m\u001B[0m\u001B[0m\n\u001B[0m\u001B[0;32m      2\u001B[0m \u001B[0mscaled_test\u001B[0m \u001B[1;33m=\u001B[0m \u001B[0mscaler\u001B[0m\u001B[1;33m.\u001B[0m\u001B[0mtransform\u001B[0m\u001B[1;33m(\u001B[0m\u001B[0mtest\u001B[0m\u001B[1;33m)\u001B[0m\u001B[1;33m\u001B[0m\u001B[1;33m\u001B[0m\u001B[0m\n",
      "\u001B[1;32m~\\AppData\\Roaming\\Python\\Python311\\site-packages\\sklearn\\utils\\_set_output.py\u001B[0m in \u001B[0;36m?\u001B[1;34m(self, X, *args, **kwargs)\u001B[0m\n\u001B[0;32m    155\u001B[0m     \u001B[1;33m@\u001B[0m\u001B[0mwraps\u001B[0m\u001B[1;33m(\u001B[0m\u001B[0mf\u001B[0m\u001B[1;33m)\u001B[0m\u001B[1;33m\u001B[0m\u001B[1;33m\u001B[0m\u001B[0m\n\u001B[0;32m    156\u001B[0m     \u001B[1;32mdef\u001B[0m \u001B[0mwrapped\u001B[0m\u001B[1;33m(\u001B[0m\u001B[0mself\u001B[0m\u001B[1;33m,\u001B[0m \u001B[0mX\u001B[0m\u001B[1;33m,\u001B[0m \u001B[1;33m*\u001B[0m\u001B[0margs\u001B[0m\u001B[1;33m,\u001B[0m \u001B[1;33m**\u001B[0m\u001B[0mkwargs\u001B[0m\u001B[1;33m)\u001B[0m\u001B[1;33m:\u001B[0m\u001B[1;33m\u001B[0m\u001B[1;33m\u001B[0m\u001B[0m\n\u001B[1;32m--> 157\u001B[1;33m         \u001B[0mdata_to_wrap\u001B[0m \u001B[1;33m=\u001B[0m \u001B[0mf\u001B[0m\u001B[1;33m(\u001B[0m\u001B[0mself\u001B[0m\u001B[1;33m,\u001B[0m \u001B[0mX\u001B[0m\u001B[1;33m,\u001B[0m \u001B[1;33m*\u001B[0m\u001B[0margs\u001B[0m\u001B[1;33m,\u001B[0m \u001B[1;33m**\u001B[0m\u001B[0mkwargs\u001B[0m\u001B[1;33m)\u001B[0m\u001B[1;33m\u001B[0m\u001B[1;33m\u001B[0m\u001B[0m\n\u001B[0m\u001B[0;32m    158\u001B[0m         \u001B[1;32mif\u001B[0m \u001B[0misinstance\u001B[0m\u001B[1;33m(\u001B[0m\u001B[0mdata_to_wrap\u001B[0m\u001B[1;33m,\u001B[0m \u001B[0mtuple\u001B[0m\u001B[1;33m)\u001B[0m\u001B[1;33m:\u001B[0m\u001B[1;33m\u001B[0m\u001B[1;33m\u001B[0m\u001B[0m\n\u001B[0;32m    159\u001B[0m             \u001B[1;31m# only wrap the first output for cross decomposition\u001B[0m\u001B[1;33m\u001B[0m\u001B[1;33m\u001B[0m\u001B[0m\n\u001B[0;32m    160\u001B[0m             return_tuple = (\n",
      "\u001B[1;32m~\\AppData\\Roaming\\Python\\Python311\\site-packages\\sklearn\\base.py\u001B[0m in \u001B[0;36m?\u001B[1;34m(self, X, y, **fit_params)\u001B[0m\n\u001B[0;32m    912\u001B[0m         \u001B[1;31m# non-optimized default implementation; override when a better\u001B[0m\u001B[1;33m\u001B[0m\u001B[1;33m\u001B[0m\u001B[0m\n\u001B[0;32m    913\u001B[0m         \u001B[1;31m# method is possible for a given clustering algorithm\u001B[0m\u001B[1;33m\u001B[0m\u001B[1;33m\u001B[0m\u001B[0m\n\u001B[0;32m    914\u001B[0m         \u001B[1;32mif\u001B[0m \u001B[0my\u001B[0m \u001B[1;32mis\u001B[0m \u001B[1;32mNone\u001B[0m\u001B[1;33m:\u001B[0m\u001B[1;33m\u001B[0m\u001B[1;33m\u001B[0m\u001B[0m\n\u001B[0;32m    915\u001B[0m             \u001B[1;31m# fit method of arity 1 (unsupervised transformation)\u001B[0m\u001B[1;33m\u001B[0m\u001B[1;33m\u001B[0m\u001B[0m\n\u001B[1;32m--> 916\u001B[1;33m             \u001B[1;32mreturn\u001B[0m \u001B[0mself\u001B[0m\u001B[1;33m.\u001B[0m\u001B[0mfit\u001B[0m\u001B[1;33m(\u001B[0m\u001B[0mX\u001B[0m\u001B[1;33m,\u001B[0m \u001B[1;33m**\u001B[0m\u001B[0mfit_params\u001B[0m\u001B[1;33m)\u001B[0m\u001B[1;33m.\u001B[0m\u001B[0mtransform\u001B[0m\u001B[1;33m(\u001B[0m\u001B[0mX\u001B[0m\u001B[1;33m)\u001B[0m\u001B[1;33m\u001B[0m\u001B[1;33m\u001B[0m\u001B[0m\n\u001B[0m\u001B[0;32m    917\u001B[0m         \u001B[1;32melse\u001B[0m\u001B[1;33m:\u001B[0m\u001B[1;33m\u001B[0m\u001B[1;33m\u001B[0m\u001B[0m\n\u001B[0;32m    918\u001B[0m             \u001B[1;31m# fit method of arity 2 (supervised transformation)\u001B[0m\u001B[1;33m\u001B[0m\u001B[1;33m\u001B[0m\u001B[0m\n\u001B[0;32m    919\u001B[0m             \u001B[1;32mreturn\u001B[0m \u001B[0mself\u001B[0m\u001B[1;33m.\u001B[0m\u001B[0mfit\u001B[0m\u001B[1;33m(\u001B[0m\u001B[0mX\u001B[0m\u001B[1;33m,\u001B[0m \u001B[0my\u001B[0m\u001B[1;33m,\u001B[0m \u001B[1;33m**\u001B[0m\u001B[0mfit_params\u001B[0m\u001B[1;33m)\u001B[0m\u001B[1;33m.\u001B[0m\u001B[0mtransform\u001B[0m\u001B[1;33m(\u001B[0m\u001B[0mX\u001B[0m\u001B[1;33m)\u001B[0m\u001B[1;33m\u001B[0m\u001B[1;33m\u001B[0m\u001B[0m\n",
      "\u001B[1;32m~\\AppData\\Roaming\\Python\\Python311\\site-packages\\sklearn\\preprocessing\\_data.py\u001B[0m in \u001B[0;36m?\u001B[1;34m(self, X, y)\u001B[0m\n\u001B[0;32m    431\u001B[0m             \u001B[0mFitted\u001B[0m \u001B[0mscaler\u001B[0m\u001B[1;33m.\u001B[0m\u001B[1;33m\u001B[0m\u001B[1;33m\u001B[0m\u001B[0m\n\u001B[0;32m    432\u001B[0m         \"\"\"\n\u001B[0;32m    433\u001B[0m         \u001B[1;31m# Reset internal state before fitting\u001B[0m\u001B[1;33m\u001B[0m\u001B[1;33m\u001B[0m\u001B[0m\n\u001B[0;32m    434\u001B[0m         \u001B[0mself\u001B[0m\u001B[1;33m.\u001B[0m\u001B[0m_reset\u001B[0m\u001B[1;33m(\u001B[0m\u001B[1;33m)\u001B[0m\u001B[1;33m\u001B[0m\u001B[1;33m\u001B[0m\u001B[0m\n\u001B[1;32m--> 435\u001B[1;33m         \u001B[1;32mreturn\u001B[0m \u001B[0mself\u001B[0m\u001B[1;33m.\u001B[0m\u001B[0mpartial_fit\u001B[0m\u001B[1;33m(\u001B[0m\u001B[0mX\u001B[0m\u001B[1;33m,\u001B[0m \u001B[0my\u001B[0m\u001B[1;33m)\u001B[0m\u001B[1;33m\u001B[0m\u001B[1;33m\u001B[0m\u001B[0m\n\u001B[0m",
      "\u001B[1;32m~\\AppData\\Roaming\\Python\\Python311\\site-packages\\sklearn\\base.py\u001B[0m in \u001B[0;36m?\u001B[1;34m(estimator, *args, **kwargs)\u001B[0m\n\u001B[0;32m   1148\u001B[0m                 skip_parameter_validation=(\n\u001B[0;32m   1149\u001B[0m                     \u001B[0mprefer_skip_nested_validation\u001B[0m \u001B[1;32mor\u001B[0m \u001B[0mglobal_skip_validation\u001B[0m\u001B[1;33m\u001B[0m\u001B[1;33m\u001B[0m\u001B[0m\n\u001B[0;32m   1150\u001B[0m                 )\n\u001B[0;32m   1151\u001B[0m             ):\n\u001B[1;32m-> 1152\u001B[1;33m                 \u001B[1;32mreturn\u001B[0m \u001B[0mfit_method\u001B[0m\u001B[1;33m(\u001B[0m\u001B[0mestimator\u001B[0m\u001B[1;33m,\u001B[0m \u001B[1;33m*\u001B[0m\u001B[0margs\u001B[0m\u001B[1;33m,\u001B[0m \u001B[1;33m**\u001B[0m\u001B[0mkwargs\u001B[0m\u001B[1;33m)\u001B[0m\u001B[1;33m\u001B[0m\u001B[1;33m\u001B[0m\u001B[0m\n\u001B[0m",
      "\u001B[1;32m~\\AppData\\Roaming\\Python\\Python311\\site-packages\\sklearn\\preprocessing\\_data.py\u001B[0m in \u001B[0;36m?\u001B[1;34m(self, X, y)\u001B[0m\n\u001B[0;32m    469\u001B[0m                 \u001B[1;34m\"Consider using MaxAbsScaler instead.\"\u001B[0m\u001B[1;33m\u001B[0m\u001B[1;33m\u001B[0m\u001B[0m\n\u001B[0;32m    470\u001B[0m             )\n\u001B[0;32m    471\u001B[0m \u001B[1;33m\u001B[0m\u001B[0m\n\u001B[0;32m    472\u001B[0m         \u001B[0mfirst_pass\u001B[0m \u001B[1;33m=\u001B[0m \u001B[1;32mnot\u001B[0m \u001B[0mhasattr\u001B[0m\u001B[1;33m(\u001B[0m\u001B[0mself\u001B[0m\u001B[1;33m,\u001B[0m \u001B[1;34m\"n_samples_seen_\"\u001B[0m\u001B[1;33m)\u001B[0m\u001B[1;33m\u001B[0m\u001B[1;33m\u001B[0m\u001B[0m\n\u001B[1;32m--> 473\u001B[1;33m         X = self._validate_data(\n\u001B[0m\u001B[0;32m    474\u001B[0m             \u001B[0mX\u001B[0m\u001B[1;33m,\u001B[0m\u001B[1;33m\u001B[0m\u001B[1;33m\u001B[0m\u001B[0m\n\u001B[0;32m    475\u001B[0m             \u001B[0mreset\u001B[0m\u001B[1;33m=\u001B[0m\u001B[0mfirst_pass\u001B[0m\u001B[1;33m,\u001B[0m\u001B[1;33m\u001B[0m\u001B[1;33m\u001B[0m\u001B[0m\n\u001B[0;32m    476\u001B[0m             \u001B[0mdtype\u001B[0m\u001B[1;33m=\u001B[0m\u001B[0mFLOAT_DTYPES\u001B[0m\u001B[1;33m,\u001B[0m\u001B[1;33m\u001B[0m\u001B[1;33m\u001B[0m\u001B[0m\n",
      "\u001B[1;32m~\\AppData\\Roaming\\Python\\Python311\\site-packages\\sklearn\\base.py\u001B[0m in \u001B[0;36m?\u001B[1;34m(self, X, y, reset, validate_separately, cast_to_ndarray, **check_params)\u001B[0m\n\u001B[0;32m    601\u001B[0m                 \u001B[0mout\u001B[0m \u001B[1;33m=\u001B[0m \u001B[0my\u001B[0m\u001B[1;33m\u001B[0m\u001B[1;33m\u001B[0m\u001B[0m\n\u001B[0;32m    602\u001B[0m             \u001B[1;32melse\u001B[0m\u001B[1;33m:\u001B[0m\u001B[1;33m\u001B[0m\u001B[1;33m\u001B[0m\u001B[0m\n\u001B[0;32m    603\u001B[0m                 \u001B[0mout\u001B[0m \u001B[1;33m=\u001B[0m \u001B[0mX\u001B[0m\u001B[1;33m,\u001B[0m \u001B[0my\u001B[0m\u001B[1;33m\u001B[0m\u001B[1;33m\u001B[0m\u001B[0m\n\u001B[0;32m    604\u001B[0m         \u001B[1;32melif\u001B[0m \u001B[1;32mnot\u001B[0m \u001B[0mno_val_X\u001B[0m \u001B[1;32mand\u001B[0m \u001B[0mno_val_y\u001B[0m\u001B[1;33m:\u001B[0m\u001B[1;33m\u001B[0m\u001B[1;33m\u001B[0m\u001B[0m\n\u001B[1;32m--> 605\u001B[1;33m             \u001B[0mout\u001B[0m \u001B[1;33m=\u001B[0m \u001B[0mcheck_array\u001B[0m\u001B[1;33m(\u001B[0m\u001B[0mX\u001B[0m\u001B[1;33m,\u001B[0m \u001B[0minput_name\u001B[0m\u001B[1;33m=\u001B[0m\u001B[1;34m\"X\"\u001B[0m\u001B[1;33m,\u001B[0m \u001B[1;33m**\u001B[0m\u001B[0mcheck_params\u001B[0m\u001B[1;33m)\u001B[0m\u001B[1;33m\u001B[0m\u001B[1;33m\u001B[0m\u001B[0m\n\u001B[0m\u001B[0;32m    606\u001B[0m         \u001B[1;32melif\u001B[0m \u001B[0mno_val_X\u001B[0m \u001B[1;32mand\u001B[0m \u001B[1;32mnot\u001B[0m \u001B[0mno_val_y\u001B[0m\u001B[1;33m:\u001B[0m\u001B[1;33m\u001B[0m\u001B[1;33m\u001B[0m\u001B[0m\n\u001B[0;32m    607\u001B[0m             \u001B[0mout\u001B[0m \u001B[1;33m=\u001B[0m \u001B[0m_check_y\u001B[0m\u001B[1;33m(\u001B[0m\u001B[0my\u001B[0m\u001B[1;33m,\u001B[0m \u001B[1;33m**\u001B[0m\u001B[0mcheck_params\u001B[0m\u001B[1;33m)\u001B[0m\u001B[1;33m\u001B[0m\u001B[1;33m\u001B[0m\u001B[0m\n\u001B[0;32m    608\u001B[0m         \u001B[1;32melse\u001B[0m\u001B[1;33m:\u001B[0m\u001B[1;33m\u001B[0m\u001B[1;33m\u001B[0m\u001B[0m\n",
      "\u001B[1;32m~\\AppData\\Roaming\\Python\\Python311\\site-packages\\sklearn\\utils\\validation.py\u001B[0m in \u001B[0;36m?\u001B[1;34m(array, accept_sparse, accept_large_sparse, dtype, order, copy, force_all_finite, ensure_2d, allow_nd, ensure_min_samples, ensure_min_features, estimator, input_name)\u001B[0m\n\u001B[0;32m    912\u001B[0m                         )\n\u001B[0;32m    913\u001B[0m                     \u001B[0marray\u001B[0m \u001B[1;33m=\u001B[0m \u001B[0mxp\u001B[0m\u001B[1;33m.\u001B[0m\u001B[0mastype\u001B[0m\u001B[1;33m(\u001B[0m\u001B[0marray\u001B[0m\u001B[1;33m,\u001B[0m \u001B[0mdtype\u001B[0m\u001B[1;33m,\u001B[0m \u001B[0mcopy\u001B[0m\u001B[1;33m=\u001B[0m\u001B[1;32mFalse\u001B[0m\u001B[1;33m)\u001B[0m\u001B[1;33m\u001B[0m\u001B[1;33m\u001B[0m\u001B[0m\n\u001B[0;32m    914\u001B[0m                 \u001B[1;32melse\u001B[0m\u001B[1;33m:\u001B[0m\u001B[1;33m\u001B[0m\u001B[1;33m\u001B[0m\u001B[0m\n\u001B[0;32m    915\u001B[0m                     \u001B[0marray\u001B[0m \u001B[1;33m=\u001B[0m \u001B[0m_asarray_with_order\u001B[0m\u001B[1;33m(\u001B[0m\u001B[0marray\u001B[0m\u001B[1;33m,\u001B[0m \u001B[0morder\u001B[0m\u001B[1;33m=\u001B[0m\u001B[0morder\u001B[0m\u001B[1;33m,\u001B[0m \u001B[0mdtype\u001B[0m\u001B[1;33m=\u001B[0m\u001B[0mdtype\u001B[0m\u001B[1;33m,\u001B[0m \u001B[0mxp\u001B[0m\u001B[1;33m=\u001B[0m\u001B[0mxp\u001B[0m\u001B[1;33m)\u001B[0m\u001B[1;33m\u001B[0m\u001B[1;33m\u001B[0m\u001B[0m\n\u001B[1;32m--> 916\u001B[1;33m             \u001B[1;32mexcept\u001B[0m \u001B[0mComplexWarning\u001B[0m \u001B[1;32mas\u001B[0m \u001B[0mcomplex_warning\u001B[0m\u001B[1;33m:\u001B[0m\u001B[1;33m\u001B[0m\u001B[1;33m\u001B[0m\u001B[0m\n\u001B[0m\u001B[0;32m    917\u001B[0m                 raise ValueError(\n\u001B[0;32m    918\u001B[0m                     \u001B[1;34m\"Complex data not supported\\n{}\\n\"\u001B[0m\u001B[1;33m.\u001B[0m\u001B[0mformat\u001B[0m\u001B[1;33m(\u001B[0m\u001B[0marray\u001B[0m\u001B[1;33m)\u001B[0m\u001B[1;33m\u001B[0m\u001B[1;33m\u001B[0m\u001B[0m\n\u001B[0;32m    919\u001B[0m                 ) from complex_warning\n",
      "\u001B[1;32m~\\AppData\\Roaming\\Python\\Python311\\site-packages\\sklearn\\utils\\_array_api.py\u001B[0m in \u001B[0;36m?\u001B[1;34m(array, dtype, order, copy, xp)\u001B[0m\n\u001B[0;32m    376\u001B[0m         \u001B[1;31m# Use NumPy API to support order\u001B[0m\u001B[1;33m\u001B[0m\u001B[1;33m\u001B[0m\u001B[0m\n\u001B[0;32m    377\u001B[0m         \u001B[1;32mif\u001B[0m \u001B[0mcopy\u001B[0m \u001B[1;32mis\u001B[0m \u001B[1;32mTrue\u001B[0m\u001B[1;33m:\u001B[0m\u001B[1;33m\u001B[0m\u001B[1;33m\u001B[0m\u001B[0m\n\u001B[0;32m    378\u001B[0m             \u001B[0marray\u001B[0m \u001B[1;33m=\u001B[0m \u001B[0mnumpy\u001B[0m\u001B[1;33m.\u001B[0m\u001B[0marray\u001B[0m\u001B[1;33m(\u001B[0m\u001B[0marray\u001B[0m\u001B[1;33m,\u001B[0m \u001B[0morder\u001B[0m\u001B[1;33m=\u001B[0m\u001B[0morder\u001B[0m\u001B[1;33m,\u001B[0m \u001B[0mdtype\u001B[0m\u001B[1;33m=\u001B[0m\u001B[0mdtype\u001B[0m\u001B[1;33m)\u001B[0m\u001B[1;33m\u001B[0m\u001B[1;33m\u001B[0m\u001B[0m\n\u001B[0;32m    379\u001B[0m         \u001B[1;32melse\u001B[0m\u001B[1;33m:\u001B[0m\u001B[1;33m\u001B[0m\u001B[1;33m\u001B[0m\u001B[0m\n\u001B[1;32m--> 380\u001B[1;33m             \u001B[0marray\u001B[0m \u001B[1;33m=\u001B[0m \u001B[0mnumpy\u001B[0m\u001B[1;33m.\u001B[0m\u001B[0masarray\u001B[0m\u001B[1;33m(\u001B[0m\u001B[0marray\u001B[0m\u001B[1;33m,\u001B[0m \u001B[0morder\u001B[0m\u001B[1;33m=\u001B[0m\u001B[0morder\u001B[0m\u001B[1;33m,\u001B[0m \u001B[0mdtype\u001B[0m\u001B[1;33m=\u001B[0m\u001B[0mdtype\u001B[0m\u001B[1;33m)\u001B[0m\u001B[1;33m\u001B[0m\u001B[1;33m\u001B[0m\u001B[0m\n\u001B[0m\u001B[0;32m    381\u001B[0m \u001B[1;33m\u001B[0m\u001B[0m\n\u001B[0;32m    382\u001B[0m         \u001B[1;31m# At this point array is a NumPy ndarray. We convert it to an array\u001B[0m\u001B[1;33m\u001B[0m\u001B[1;33m\u001B[0m\u001B[0m\n\u001B[0;32m    383\u001B[0m         \u001B[1;31m# container that is consistent with the input's namespace.\u001B[0m\u001B[1;33m\u001B[0m\u001B[1;33m\u001B[0m\u001B[0m\n",
      "\u001B[1;32m~\\AppData\\Roaming\\Python\\Python311\\site-packages\\pandas\\core\\generic.py\u001B[0m in \u001B[0;36m?\u001B[1;34m(self, dtype)\u001B[0m\n\u001B[0;32m   2082\u001B[0m     \u001B[1;32mdef\u001B[0m \u001B[0m__array__\u001B[0m\u001B[1;33m(\u001B[0m\u001B[0mself\u001B[0m\u001B[1;33m,\u001B[0m \u001B[0mdtype\u001B[0m\u001B[1;33m:\u001B[0m \u001B[0mnpt\u001B[0m\u001B[1;33m.\u001B[0m\u001B[0mDTypeLike\u001B[0m \u001B[1;33m|\u001B[0m \u001B[1;32mNone\u001B[0m \u001B[1;33m=\u001B[0m \u001B[1;32mNone\u001B[0m\u001B[1;33m)\u001B[0m \u001B[1;33m->\u001B[0m \u001B[0mnp\u001B[0m\u001B[1;33m.\u001B[0m\u001B[0mndarray\u001B[0m\u001B[1;33m:\u001B[0m\u001B[1;33m\u001B[0m\u001B[1;33m\u001B[0m\u001B[0m\n\u001B[0;32m   2083\u001B[0m         \u001B[0mvalues\u001B[0m \u001B[1;33m=\u001B[0m \u001B[0mself\u001B[0m\u001B[1;33m.\u001B[0m\u001B[0m_values\u001B[0m\u001B[1;33m\u001B[0m\u001B[1;33m\u001B[0m\u001B[0m\n\u001B[1;32m-> 2084\u001B[1;33m         \u001B[0marr\u001B[0m \u001B[1;33m=\u001B[0m \u001B[0mnp\u001B[0m\u001B[1;33m.\u001B[0m\u001B[0masarray\u001B[0m\u001B[1;33m(\u001B[0m\u001B[0mvalues\u001B[0m\u001B[1;33m,\u001B[0m \u001B[0mdtype\u001B[0m\u001B[1;33m=\u001B[0m\u001B[0mdtype\u001B[0m\u001B[1;33m)\u001B[0m\u001B[1;33m\u001B[0m\u001B[1;33m\u001B[0m\u001B[0m\n\u001B[0m\u001B[0;32m   2085\u001B[0m         if (\n\u001B[0;32m   2086\u001B[0m             \u001B[0mastype_is_view\u001B[0m\u001B[1;33m(\u001B[0m\u001B[0mvalues\u001B[0m\u001B[1;33m.\u001B[0m\u001B[0mdtype\u001B[0m\u001B[1;33m,\u001B[0m \u001B[0marr\u001B[0m\u001B[1;33m.\u001B[0m\u001B[0mdtype\u001B[0m\u001B[1;33m)\u001B[0m\u001B[1;33m\u001B[0m\u001B[1;33m\u001B[0m\u001B[0m\n\u001B[0;32m   2087\u001B[0m             \u001B[1;32mand\u001B[0m \u001B[0musing_copy_on_write\u001B[0m\u001B[1;33m(\u001B[0m\u001B[1;33m)\u001B[0m\u001B[1;33m\u001B[0m\u001B[1;33m\u001B[0m\u001B[0m\n",
      "\u001B[1;31mValueError\u001B[0m: setting an array element with a sequence."
     ]
    }
   ],
   "source": [],
   "metadata": {
    "collapsed": false,
    "ExecuteTime": {
     "end_time": "2023-11-29T20:01:54.971706Z",
     "start_time": "2023-11-29T20:01:53.859851400Z"
    }
   },
   "id": "7640736b9d7ee5c8"
  },
  {
   "cell_type": "code",
   "execution_count": 53,
   "outputs": [
    {
     "data": {
      "text/plain": "defaultdict(list,\n            {'obj_dom_pos': array([ 1,  1, 46,  2,  2, 45,  2, 45,  2,  2, 46,  1,  3,  3, 44,  3,  4,\n                    43,  4,  5, 42,  5,  6, 41,  5, 44,  3,  6,  7, 40,  7,  8, 39,  7,\n                    41,  6,  8,  9, 38,  8, 13, 34,  8, 36, 11,  8, 40,  7,  8, 42,  5,\n                     8, 43,  4,  9, 10, 37,  9, 11, 36,  9, 12, 35,  9, 14, 33,  9, 37,\n                    10, 10, 15, 32, 10, 17, 30, 10, 38,  9, 11, 16, 31, 11, 18, 29, 11,\n                    19, 28, 11, 39,  8, 12, 20, 27, 12, 24, 23, 12, 28, 19, 12, 32, 15,\n                    13, 21, 26, 13, 22, 25, 13, 23, 24, 13, 25, 22, 13, 26, 21, 13, 27,\n                    20, 13, 29, 18, 13, 30, 17, 13, 31, 16, 13, 33, 14, 13, 34, 13, 13,\n                    35, 12]),\n             'node_id': array([b'0', b'0.0', b'0.1', b'0.2', b'0.0.0', b'0.0.1', b'0.0.1.0',\n                    b'0.0.1.0.0', b'0.0.1.0.1', b'0.0.1.0.0.0', b'0.0.1.0.0.0.0',\n                    b'0.0.1.0.0.0.1', b'0.0.1.0.0.0.0.0', b'0.0.1.0.0.0.0.1',\n                    b'0.0.1.0.0.0.0.2', b'0.0.1.0.0.0.0.3', b'0.0.1.0.0.0.1.0',\n                    b'0.0.1.0.0.0.1.1', b'0.0.1.0.0.0.0.0.0', b'0.0.1.0.0.0.0.0.1',\n                    b'0.0.1.0.0.0.0.0.2', b'0.0.1.0.0.0.0.1.0', b'0.0.1.0.0.0.0.2.0',\n                    b'0.0.1.0.0.0.0.1.0.0', b'0.0.1.0.0.0.0.1.0.1',\n                    b'0.0.1.0.0.0.0.2.0.0', b'0.0.1.0.0.0.0.1.0.0.0',\n                    b'0.0.1.0.0.0.0.1.0.1.0', b'0.0.1.0.0.0.0.1.0.1.1',\n                    b'0.0.1.0.0.0.0.2.0.0.0', b'0.0.1.0.0.0.0.1.0.1.1.0',\n                    b'0.0.1.0.0.0.0.1.0.1.1.1', b'0.0.1.0.0.0.0.1.0.1.1.2',\n                    b'0.0.1.0.0.0.0.1.0.1.1.3', b'0.0.1.0.0.0.0.1.0.1.1.0.0',\n                    b'0.0.1.0.0.0.0.1.0.1.1.0.1', b'0.0.1.0.0.0.0.1.0.1.1.0.2',\n                    b'0.0.1.0.0.0.0.1.0.1.1.1.0', b'0.0.1.0.0.0.0.1.0.1.1.1.1',\n                    b'0.0.1.0.0.0.0.1.0.1.1.1.2', b'0.0.1.0.0.0.0.1.0.1.1.2.0',\n                    b'0.0.1.0.0.0.0.1.0.1.1.2.1', b'0.0.1.0.0.0.0.1.0.1.1.2.2',\n                    b'0.0.1.0.0.0.0.1.0.1.1.3.0', b'0.0.1.0.0.0.0.1.0.1.1.3.1',\n                    b'0.0.1.0.0.0.0.1.0.1.1.3.2'], dtype='|S25'),\n             'type_id_seq': array([4, 4, 4, 4, 4, 4, 4, 4, 4, 4, 4, 4, 4, 4, 4, 4, 4, 4, 4, 3, 4, 4,\n                    4, 4, 4, 4, 4, 4, 4, 4, 4, 4, 4, 4, 1, 1, 4, 1, 1, 4, 1, 1, 4, 1,\n                    1, 4]),\n             'visibility_seq': array([1, 1, 1, 1, 0, 1, 1, 1, 0, 1, 1, 0, 1, 1, 1, 1, 1, 1, 1, 1, 1, 1,\n                    1, 0, 1, 1, 1, 0, 1, 1, 1, 1, 1, 1, 1, 1, 1, 1, 1, 1, 1, 1, 1, 1,\n                    1, 1]),\n             'visibility_to_user_seq': array([1, 1, 1, 1, 0, 1, 1, 1, 0, 1, 1, 0, 1, 1, 1, 1, 0, 0, 1, 1, 0, 1,\n                    1, 0, 1, 1, 0, 0, 1, 1, 1, 1, 1, 1, 1, 1, 1, 1, 1, 1, 1, 1, 1, 1,\n                    0, 0]),\n             'clickable_seq': array([0, 0, 0, 0, 0, 0, 0, 0, 0, 0, 0, 1, 0, 0, 0, 0, 0, 0, 0, 1, 0, 0,\n                    0, 0, 0, 0, 0, 0, 1, 1, 0, 0, 0, 0, 0, 0, 0, 0, 0, 0, 0, 0, 0, 0,\n                    0, 0]),\n             'cord_x_seq': array([[0.        , 1.        ],\n                    [0.        , 1.        ],\n                    [0.        , 1.        ],\n                    [0.        , 1.        ],\n                    [0.        , 0.        ],\n                    [0.        , 1.        ],\n                    [0.        , 1.        ],\n                    [0.        , 1.        ],\n                    [0.        , 0.        ],\n                    [0.        , 1.        ],\n                    [0.        , 1.        ],\n                    [0.        , 0.        ],\n                    [0.        , 1.        ],\n                    [0.        , 1.        ],\n                    [0.        , 1.        ],\n                    [0.        , 1.        ],\n                    [0.        , 0.        ],\n                    [0.        , 0.        ],\n                    [0.175     , 0.4125    ],\n                    [0.        , 0.13611111],\n                    [1.        , 1.        ],\n                    [0.        , 1.        ],\n                    [0.        , 1.        ],\n                    [0.        , 0.        ],\n                    [0.        , 1.        ],\n                    [0.        , 1.        ],\n                    [0.        , 0.        ],\n                    [0.        , 1.        ],\n                    [0.        , 1.        ],\n                    [0.        , 1.        ],\n                    [0.        , 1.        ],\n                    [0.        , 1.        ],\n                    [0.        , 1.        ],\n                    [0.        , 1.        ],\n                    [0.        , 1.        ],\n                    [0.        , 1.        ],\n                    [0.82638889, 0.97569444],\n                    [0.        , 1.        ],\n                    [0.        , 1.        ],\n                    [0.45138889, 0.97569444],\n                    [0.        , 1.        ],\n                    [0.        , 1.        ],\n                    [0.50416667, 0.97569444],\n                    [0.        , 1.        ],\n                    [0.        , 1.        ],\n                    [0.48125   , 0.97569444]]),\n             'cord_y_seq': array([[0.        , 1.        ],\n                    [0.        , 0.934375  ],\n                    [0.934375  , 1.        ],\n                    [0.        , 0.0328125 ],\n                    [0.        , 0.        ],\n                    [0.0328125 , 0.934375  ],\n                    [0.0328125 , 0.934375  ],\n                    [0.0328125 , 0.934375  ],\n                    [0.0328125 , 0.0328125 ],\n                    [0.0328125 , 0.934375  ],\n                    [0.0328125 , 0.934375  ],\n                    [0.0328125 , 0.934375  ],\n                    [0.0328125 , 0.109375  ],\n                    [0.109375  , 0.8578125 ],\n                    [0.86601562, 0.934375  ],\n                    [0.109375  , 0.284375  ],\n                    [0.0328125 , 0.0984375 ],\n                    [0.09804688, 0.16367187],\n                    [0.05273438, 0.0890625 ],\n                    [0.0328125 , 0.109375  ],\n                    [0.0328125 , 0.109375  ],\n                    [0.109375  , 0.8578125 ],\n                    [0.86601562, 0.934375  ],\n                    [0.109375  , 0.109375  ],\n                    [0.109375  , 0.8578125 ],\n                    [0.86601562, 0.934375  ],\n                    [0.109375  , 0.109375  ],\n                    [0.109375  , 0.8578125 ],\n                    [0.109375  , 0.8578125 ],\n                    [0.86601562, 0.934375  ],\n                    [0.109375  , 0.31445312],\n                    [0.31601563, 0.52109375],\n                    [0.52265625, 0.72773438],\n                    [0.72929687, 0.8578125 ],\n                    [0.109375  , 0.31445312],\n                    [0.24140625, 0.31445312],\n                    [0.24140625, 0.31445312],\n                    [0.31601563, 0.52109375],\n                    [0.44804688, 0.52109375],\n                    [0.44804688, 0.52109375],\n                    [0.52265625, 0.72773438],\n                    [0.6546875 , 0.72773438],\n                    [0.6546875 , 0.72773438],\n                    [0.72929687, 0.8578125 ],\n                    [0.86132812, 0.8578125 ],\n                    [0.86132812, 0.8578125 ]])})"
     },
     "execution_count": 53,
     "metadata": {},
     "output_type": "execute_result"
    }
   ],
   "source": [],
   "metadata": {
    "collapsed": false,
    "ExecuteTime": {
     "end_time": "2023-11-28T08:00:54.983066700Z",
     "start_time": "2023-11-28T08:00:54.948519400Z"
    }
   },
   "id": "55d7839ec1e2833a"
  },
  {
   "cell_type": "code",
   "execution_count": null,
   "outputs": [],
   "source": [
    "for baseName in baseNames:\n",
    "    file_prefix = f\"{pathToCombined}/{baseName}.json\"\n",
    "    features = pp.create_simple_features(file_prefix)"
   ],
   "metadata": {
    "collapsed": false
   },
   "id": "d59368b36a80009d"
  }
 ],
 "metadata": {
  "kernelspec": {
   "display_name": "Python 3",
   "language": "python",
   "name": "python3"
  },
  "language_info": {
   "codemirror_mode": {
    "name": "ipython",
    "version": 2
   },
   "file_extension": ".py",
   "mimetype": "text/x-python",
   "name": "python",
   "nbconvert_exporter": "python",
   "pygments_lexer": "ipython2",
   "version": "2.7.6"
  }
 },
 "nbformat": 4,
 "nbformat_minor": 5
}
