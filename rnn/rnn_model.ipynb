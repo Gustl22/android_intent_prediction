{
 "cells": [
  {
   "cell_type": "code",
   "execution_count": 85,
   "outputs": [],
   "source": [
    "import glob\n",
    "#from pathlib import Path\n",
    "import json\n",
    "import preprocessing as pp\n",
    "import tensorflow as tf\n",
    "import pandas as pd\n",
    "import numpy as np\n",
    "import matplotlib.pyplot as plt"
   ],
   "metadata": {
    "collapsed": false,
    "ExecuteTime": {
     "end_time": "2023-12-08T00:01:59.434219862Z",
     "start_time": "2023-12-08T00:01:59.419743147Z"
    }
   },
   "id": "daa48e61d9b31fa3"
  },
  {
   "cell_type": "code",
   "execution_count": 6,
   "outputs": [],
   "source": [
    "keys_to_dtype = {\n",
    "  #'developer_token_id': tf.int64,\n",
    "  #'resource_token_id': tf.int64,\n",
    "  #'screen_caption_token_ids': tf.int64,\n",
    "  #'appdesc_token_id': tf.int64,\n",
    "  'clickable_seq': tf.int64,\n",
    "  'type_id_seq': tf.int64,\n",
    "  'cord_x_seq': tf.float32,\n",
    "  'cord_y_seq': tf.float32,\n",
    "  'visibility_to_user_seq': tf.int64,\n",
    "  'visibility_seq': tf.int64,\n",
    "  #'attended_objects': tf.int64,\n",
    "  #'label_flag': tf.int64,  # 0: padding 1: node\n",
    "  # 'obj_img_mat': tf.int64,\n",
    "  'obj_dom_pos': tf.int64,\n",
    "  #'attention_boxes': tf.float32,\n",
    "  #'gold_caption': tf.string,\n",
    "}"
   ],
   "metadata": {
    "collapsed": false,
    "ExecuteTime": {
     "end_time": "2023-12-07T21:33:20.152347613Z",
     "start_time": "2023-12-07T21:33:20.146854777Z"
    }
   },
   "id": "d8cde309fcb4de9b"
  },
  {
   "cell_type": "code",
   "execution_count": 7,
   "outputs": [],
   "source": [
    "def get_features_from_gestures(gesture_path):\n",
    "  with tf.io.gfile.GFile(gesture_path) as f:\n",
    "    gesture_json = json.load(f)\n",
    "  trace_path = gesture_path.replace('gestures.json', '')\n",
    "  # Throw away all gestures except the first\n",
    "  gesture_dict = {gesture[0]:gesture[1][0] for gesture in gesture_json.items()}\n",
    "  gesture_df = pd.DataFrame(gesture_dict).transpose()\n",
    "  gesture_df.columns = ['x', 'y']\n",
    "  return gesture_df, trace_path"
   ],
   "metadata": {
    "collapsed": false,
    "ExecuteTime": {
     "end_time": "2023-12-07T21:33:20.488011017Z",
     "start_time": "2023-12-07T21:33:20.484638274Z"
    }
   },
   "id": "370e5596e68c7cc9"
  },
  {
   "cell_type": "code",
   "execution_count": 15,
   "outputs": [],
   "source": [
    "def to_var_len_feature_dict(entries):\n",
    "  dict = {}\n",
    "  for feature_item in entries:\n",
    "    dict[feature_item[0]] = tf.convert_to_tensor(feature_item[1], dtype=keys_to_dtype[feature_item[0]])\n",
    "  return dict\n"
   ],
   "metadata": {
    "collapsed": false,
    "ExecuteTime": {
     "end_time": "2023-12-07T21:35:49.477794460Z",
     "start_time": "2023-12-07T21:35:49.425240510Z"
    }
   },
   "id": "89639235a8f4fd38"
  },
  {
   "cell_type": "code",
   "execution_count": 16,
   "outputs": [
    {
     "data": {
      "text/plain": "'../sources/datasets/RICO/traces/filtered_traces/*/trace_*/gestures.json'"
     },
     "execution_count": 16,
     "metadata": {},
     "output_type": "execute_result"
    }
   ],
   "source": [
    "#pathToCombined = \"D:/Tmp/Coding/datasets/RICO/unique_uis/test_dataset\"\n",
    "traces_prefix = \"../sources/datasets/RICO/traces/filtered_traces\"\n",
    "path_to_gesture_json = f\"{traces_prefix}/*/trace_*/gestures.json\"\n",
    "path_to_gesture_json"
   ],
   "metadata": {
    "collapsed": false,
    "ExecuteTime": {
     "end_time": "2023-12-07T21:35:49.952227657Z",
     "start_time": "2023-12-07T21:35:49.945952117Z"
    }
   },
   "id": "1010903aaff8e289"
  },
  {
   "cell_type": "code",
   "execution_count": 21,
   "outputs": [
    {
     "data": {
      "text/plain": "['../sources/datasets/RICO/traces/filtered_traces/muchoapps.frasesdelavida/trace_1/gestures.json',\n '../sources/datasets/RICO/traces/filtered_traces/muchoapps.frasesdelavida/trace_2/gestures.json',\n '../sources/datasets/RICO/traces/filtered_traces/yourapp24.android.tools.alice_lite/trace_0/gestures.json',\n '../sources/datasets/RICO/traces/filtered_traces/yourapp24.android.tools.alice_lite/trace_1/gestures.json',\n '../sources/datasets/RICO/traces/filtered_traces/yourapp24.android.tools.alice_lite/trace_2/gestures.json']"
     },
     "execution_count": 21,
     "metadata": {},
     "output_type": "execute_result"
    }
   ],
   "source": [
    "gesture_json_paths = glob.glob(path_to_gesture_json)\n",
    "gesture_json_paths"
   ],
   "metadata": {
    "collapsed": false,
    "ExecuteTime": {
     "end_time": "2023-12-07T21:36:49.871347557Z",
     "start_time": "2023-12-07T21:36:49.847039885Z"
    }
   },
   "id": "3d96e858f6638676"
  },
  {
   "cell_type": "code",
   "execution_count": 40,
   "outputs": [],
   "source": [
    "def get_features_from_tree(frame_index, trace_path):\n",
    "  file_prefix = f\"{trace_path}view_hierarchies/{frame_index}\"\n",
    "  features_dict = pp.create_simple_features(file_prefix)\n",
    "  del features_dict['node_id']\n",
    "  feature_items = list(features_dict.items())\n",
    "  #feature_items = to_var_len_feature_dict(feature_items).items()\n",
    "  tree_feature_df = pd.DataFrame(feature_items, columns=['feat', frame_index])\n",
    "  tree_feature_df = tree_feature_df.set_index('feat')\n",
    "  tree_feature_df = tree_feature_df.transpose()\n",
    "  return tree_feature_df\n",
    "  return pd.DataFrame(features_adapt, index=[frame_index])"
   ],
   "metadata": {
    "collapsed": false,
    "ExecuteTime": {
     "end_time": "2023-12-07T21:45:03.880297383Z",
     "start_time": "2023-12-07T21:45:03.807763165Z"
    }
   },
   "id": "897083222d435531"
  },
  {
   "cell_type": "code",
   "execution_count": 41,
   "outputs": [
    {
     "data": {
      "text/plain": "feat                                        obj_dom_pos  \\\n4758  [1, 1, 39, 2, 2, 38, 2, 38, 2, 2, 39, 1, 3, 3,...   \n\nfeat                                        type_id_seq  \\\n4758  [4, 4, 4, 4, 4, 4, 4, 4, 4, 4, 4, 4, 4, 4, 4, ...   \n\nfeat                                     visibility_seq  \\\n4758  [1, 1, 1, 1, 0, 1, 1, 1, 0, 1, 1, 1, 1, 1, 1, ...   \n\nfeat                             visibility_to_user_seq  \\\n4758  [1, 1, 1, 1, 0, 1, 1, 1, 0, 1, 1, 1, 1, 1, 1, ...   \n\nfeat                                      clickable_seq  \\\n4758  [0, 0, 0, 0, 0, 0, 0, 0, 0, 0, 0, 1, 0, 0, 0, ...   \n\nfeat                                         cord_x_seq  \\\n4758  [[0.0, 1.0], [0.0, 1.0], [0.0, 1.0], [0.0, 1.0...   \n\nfeat                                         cord_y_seq  \n4758  [[0.0, 1.0], [0.0, 0.934375], [0.934375, 1.0],...  ",
      "text/html": "<div>\n<style scoped>\n    .dataframe tbody tr th:only-of-type {\n        vertical-align: middle;\n    }\n\n    .dataframe tbody tr th {\n        vertical-align: top;\n    }\n\n    .dataframe thead th {\n        text-align: right;\n    }\n</style>\n<table border=\"1\" class=\"dataframe\">\n  <thead>\n    <tr style=\"text-align: right;\">\n      <th>feat</th>\n      <th>obj_dom_pos</th>\n      <th>type_id_seq</th>\n      <th>visibility_seq</th>\n      <th>visibility_to_user_seq</th>\n      <th>clickable_seq</th>\n      <th>cord_x_seq</th>\n      <th>cord_y_seq</th>\n    </tr>\n  </thead>\n  <tbody>\n    <tr>\n      <th>4758</th>\n      <td>[1, 1, 39, 2, 2, 38, 2, 38, 2, 2, 39, 1, 3, 3,...</td>\n      <td>[4, 4, 4, 4, 4, 4, 4, 4, 4, 4, 4, 4, 4, 4, 4, ...</td>\n      <td>[1, 1, 1, 1, 0, 1, 1, 1, 0, 1, 1, 1, 1, 1, 1, ...</td>\n      <td>[1, 1, 1, 1, 0, 1, 1, 1, 0, 1, 1, 1, 1, 1, 1, ...</td>\n      <td>[0, 0, 0, 0, 0, 0, 0, 0, 0, 0, 0, 1, 0, 0, 0, ...</td>\n      <td>[[0.0, 1.0], [0.0, 1.0], [0.0, 1.0], [0.0, 1.0...</td>\n      <td>[[0.0, 1.0], [0.0, 0.934375], [0.934375, 1.0],...</td>\n    </tr>\n  </tbody>\n</table>\n</div>"
     },
     "execution_count": 41,
     "metadata": {},
     "output_type": "execute_result"
    }
   ],
   "source": [
    "gesture_path = gesture_json_paths[1]\n",
    "gesture_df, trace_path = get_features_from_gestures(gesture_path)\n",
    "frameIndex = gesture_df.index.values[1]\n",
    "feature_df = get_features_from_tree(frameIndex, trace_path)\n",
    "feature_df\n",
    "#feature_item = features[0]\n",
    "#feature_item\n",
    "#tf.convert_to_tensor(feature_item[1], dtype=keys_to_dtype[feature_item[0]])"
   ],
   "metadata": {
    "collapsed": false,
    "ExecuteTime": {
     "end_time": "2023-12-07T21:45:04.660446410Z",
     "start_time": "2023-12-07T21:45:04.584190077Z"
    }
   },
   "id": "3fe910aceba99bcd"
  },
  {
   "cell_type": "code",
   "execution_count": 9,
   "outputs": [],
   "source": [
    "# gesture_df['x'].dtype # float64\n",
    "# gesture_df['y'].dtype # float64"
   ],
   "metadata": {
    "collapsed": false,
    "ExecuteTime": {
     "end_time": "2023-12-07T12:48:07.667504678Z",
     "start_time": "2023-12-07T12:48:07.535877931Z"
    }
   },
   "id": "b380f22ccb4ae7a7"
  },
  {
   "cell_type": "code",
   "execution_count": 49,
   "outputs": [],
   "source": [
    "# for t,v in keys_to_dtype.items():\n",
    "#     print(feature_df[t]['4758'][0].dtype)"
   ],
   "metadata": {
    "collapsed": false,
    "ExecuteTime": {
     "end_time": "2023-12-07T23:32:40.189563210Z",
     "start_time": "2023-12-07T23:32:40.110858685Z"
    }
   },
   "id": "ab1b2610bf47faf"
  },
  {
   "cell_type": "code",
   "execution_count": 43,
   "outputs": [
    {
     "data": {
      "text/plain": "             x         y\n1457  0.291129  0.675567\n4758  0.210429  0.066756",
      "text/html": "<div>\n<style scoped>\n    .dataframe tbody tr th:only-of-type {\n        vertical-align: middle;\n    }\n\n    .dataframe tbody tr th {\n        vertical-align: top;\n    }\n\n    .dataframe thead th {\n        text-align: right;\n    }\n</style>\n<table border=\"1\" class=\"dataframe\">\n  <thead>\n    <tr style=\"text-align: right;\">\n      <th></th>\n      <th>x</th>\n      <th>y</th>\n    </tr>\n  </thead>\n  <tbody>\n    <tr>\n      <th>1457</th>\n      <td>0.291129</td>\n      <td>0.675567</td>\n    </tr>\n    <tr>\n      <th>4758</th>\n      <td>0.210429</td>\n      <td>0.066756</td>\n    </tr>\n  </tbody>\n</table>\n</div>"
     },
     "execution_count": 43,
     "metadata": {},
     "output_type": "execute_result"
    }
   ],
   "source": [
    "# Try without features for now, only gestures\n",
    "# all_feat_df = pd.concat([gesture_df, feature_df], axis=1)\n",
    "all_feat_df = gesture_df\n",
    "all_feat_df"
   ],
   "metadata": {
    "collapsed": false,
    "ExecuteTime": {
     "end_time": "2023-12-07T21:46:29.851538292Z",
     "start_time": "2023-12-07T21:46:29.777719589Z"
    }
   },
   "id": "a60861c0e824008e"
  },
  {
   "cell_type": "code",
   "execution_count": 50,
   "outputs": [],
   "source": [
    "#feature_df['type_id_seq'].iloc[0][0].dtype"
   ],
   "metadata": {
    "collapsed": false,
    "ExecuteTime": {
     "end_time": "2023-12-07T23:32:42.447070289Z",
     "start_time": "2023-12-07T23:32:42.414971852Z"
    }
   },
   "id": "924f3487fba88fba"
  },
  {
   "cell_type": "code",
   "execution_count": 55,
   "outputs": [
    {
     "data": {
      "text/plain": "             x         y\n2     0.094011  0.083688\n457   0.969031  0.026950\n2160  0.454610  0.648227\n2677  0.068794  0.070922\n4998  0.880772  0.821277",
      "text/html": "<div>\n<style scoped>\n    .dataframe tbody tr th:only-of-type {\n        vertical-align: middle;\n    }\n\n    .dataframe tbody tr th {\n        vertical-align: top;\n    }\n\n    .dataframe thead th {\n        text-align: right;\n    }\n</style>\n<table border=\"1\" class=\"dataframe\">\n  <thead>\n    <tr style=\"text-align: right;\">\n      <th></th>\n      <th>x</th>\n      <th>y</th>\n    </tr>\n  </thead>\n  <tbody>\n    <tr>\n      <th>2</th>\n      <td>0.094011</td>\n      <td>0.083688</td>\n    </tr>\n    <tr>\n      <th>457</th>\n      <td>0.969031</td>\n      <td>0.026950</td>\n    </tr>\n    <tr>\n      <th>2160</th>\n      <td>0.454610</td>\n      <td>0.648227</td>\n    </tr>\n    <tr>\n      <th>2677</th>\n      <td>0.068794</td>\n      <td>0.070922</td>\n    </tr>\n    <tr>\n      <th>4998</th>\n      <td>0.880772</td>\n      <td>0.821277</td>\n    </tr>\n  </tbody>\n</table>\n</div>"
     },
     "execution_count": 55,
     "metadata": {},
     "output_type": "execute_result"
    }
   ],
   "source": [
    " # Get set of frames for each screen, but don't mix them during training LSTM\n",
    "all_features_df = pd.DataFrame()\n",
    "for trace_id, gesture_path in enumerate(gesture_json_paths):\n",
    "    gesture_df, trace_path = get_features_from_gestures(gesture_path)\n",
    "    if False: # Try without features for now, only gestures\n",
    "        tree_features_df = pd.DataFrame()\n",
    "        for frame_id in gesture_df.index.values:\n",
    "            tree_feature_df = get_features_tensor_from_tree(frame_id, trace_path)\n",
    "            tree_features_df = pd.concat([tree_features_df, tree_feature_df], axis=0)\n",
    "        trace_features_df = pd.concat([gesture_df, tree_features_df], axis=1)\n",
    "    else:\n",
    "        trace_features_df = gesture_df\n",
    "    #trace_features_df = tree_feature_df\n",
    "    # TODO: save in list of traces\n",
    "    #trace_features_df['trace_id'] = trace_id\n",
    "    all_features_df = pd.concat([all_features_df, trace_features_df], axis=0)\n",
    "    \n",
    "all_features_df.head()\n",
    "        "
   ],
   "metadata": {
    "collapsed": false,
    "ExecuteTime": {
     "end_time": "2023-12-07T23:40:33.432558659Z",
     "start_time": "2023-12-07T23:40:33.391945435Z"
    }
   },
   "id": "288b287670f0c8ba"
  },
  {
   "cell_type": "code",
   "execution_count": 62,
   "outputs": [],
   "source": [
    "# TODO: split by trace id\n",
    "df = all_features_df\n",
    "test_size = len(df) // 4\n",
    "test_ind = len(df) - test_size\n",
    "\n",
    "train = df.iloc[:test_ind]\n",
    "test = df.iloc[test_ind:]"
   ],
   "metadata": {
    "collapsed": false,
    "ExecuteTime": {
     "end_time": "2023-12-07T23:44:05.704283169Z",
     "start_time": "2023-12-07T23:44:05.662003427Z"
    }
   },
   "id": "68dc568c059d2160"
  },
  {
   "cell_type": "code",
   "execution_count": 63,
   "outputs": [],
   "source": [
    "#df['obj_dom_pos'].dtype"
   ],
   "metadata": {
    "collapsed": false,
    "ExecuteTime": {
     "end_time": "2023-12-07T23:44:08.173087457Z",
     "start_time": "2023-12-07T23:44:08.152962493Z"
    }
   },
   "id": "e7971c3e9fc1ce6c"
  },
  {
   "cell_type": "code",
   "execution_count": 64,
   "outputs": [
    {
     "name": "stdout",
     "output_type": "stream",
     "text": [
      "WARNING:tensorflow:5 out of the last 5 calls to <function PreprocessingLayer.make_adapt_function.<locals>.adapt_step at 0x7ffa44d328e0> triggered tf.function retracing. Tracing is expensive and the excessive number of tracings could be due to (1) creating @tf.function repeatedly in a loop, (2) passing tensors with different shapes, (3) passing Python objects instead of tensors. For (1), please define your @tf.function outside of the loop. For (2), @tf.function has reduce_retracing=True option that can avoid unnecessary retracing. For (3), please refer to https://www.tensorflow.org/guide/function#controlling_retracing and https://www.tensorflow.org/api_docs/python/tf/function for  more details.\n",
      "WARNING:tensorflow:6 out of the last 6 calls to <function PreprocessingLayer.make_adapt_function.<locals>.adapt_step at 0x7ffa44d97ba0> triggered tf.function retracing. Tracing is expensive and the excessive number of tracings could be due to (1) creating @tf.function repeatedly in a loop, (2) passing tensors with different shapes, (3) passing Python objects instead of tensors. For (1), please define your @tf.function outside of the loop. For (2), @tf.function has reduce_retracing=True option that can avoid unnecessary retracing. For (3), please refer to https://www.tensorflow.org/guide/function#controlling_retracing and https://www.tensorflow.org/api_docs/python/tf/function for  more details.\n",
      "tf.Tensor(\n",
      "[[0.09401104 0.08368796]\n",
      " [0.96903074 0.02695036]\n",
      " [0.45460993 0.648227  ]\n",
      " [0.06879434 0.07092199]\n",
      " [0.88077223 0.8212766 ]\n",
      " [0.2957447  0.45957446]\n",
      " [0.1217494  0.13617021]\n",
      " [0.8782506  0.83120567]\n",
      " [0.2911289  0.67556745]\n",
      " [0.21042871 0.06675565]\n",
      " [0.21929823 0.75866497]\n",
      " [0.08693483 0.762516  ]\n",
      " [0.45767197 0.0616883 ]\n",
      " [0.28643578 0.9599567 ]\n",
      " [0.2113997  0.9599567 ]\n",
      " [0.0940356  0.7748918 ]\n",
      " [0.7672476  0.7663399 ]\n",
      " [0.20951344 0.9591503 ]\n",
      " [0.3663762  0.9591503 ]], shape=(19, 2), dtype=float32)\n"
     ]
    }
   ],
   "source": [
    "from keras.layers import Normalization\n",
    "\n",
    "scaler = Normalization()\n",
    "scaler_invert = Normalization(invert=True)\n",
    "\n",
    "scaler.adapt(train)\n",
    "scaler_invert.adapt(train)\n",
    "\n",
    "scaled_train = scaler(train)\n",
    "scaled_test = scaler(test)\n",
    "\n",
    "print(scaler_invert(scaled_train))"
   ],
   "metadata": {
    "collapsed": false,
    "ExecuteTime": {
     "end_time": "2023-12-07T23:44:08.920751722Z",
     "start_time": "2023-12-07T23:44:08.574522766Z"
    }
   },
   "id": "3ef65237c3f7c11e"
  },
  {
   "cell_type": "code",
   "execution_count": 65,
   "outputs": [],
   "source": [
    "from tensorflow.keras.preprocessing.sequence import TimeseriesGenerator"
   ],
   "metadata": {
    "collapsed": false,
    "ExecuteTime": {
     "end_time": "2023-12-07T23:44:10.173172693Z",
     "start_time": "2023-12-07T23:44:10.153071630Z"
    }
   },
   "id": "8c2832181414424f"
  },
  {
   "cell_type": "code",
   "execution_count": 101,
   "outputs": [],
   "source": [
    "length = 5\n",
    "n_features=2\n",
    "label_length=1"
   ],
   "metadata": {
    "collapsed": false,
    "ExecuteTime": {
     "end_time": "2023-12-08T00:38:52.977110556Z",
     "start_time": "2023-12-08T00:38:52.960099539Z"
    }
   },
   "id": "55d7839ec1e2833a"
  },
  {
   "cell_type": "code",
   "execution_count": 119,
   "outputs": [
    {
     "data": {
      "text/plain": "<tf.Tensor: shape=(19, 2), dtype=float32, numpy=\narray([[-9.5306593e-01, -1.3609554e+00],\n       [ 2.1074693e+00, -1.5205547e+00],\n       [ 3.0819210e-01,  2.2705747e-01],\n       [-1.0412657e+00, -1.3968652e+00],\n       [ 1.7987696e+00,  7.1383524e-01],\n       [-2.4746703e-01, -3.0361024e-01],\n       [-8.5604614e-01, -1.2133261e+00],\n       [ 1.7899498e+00,  7.4176502e-01],\n       [-2.6361153e-01,  3.0396450e-01],\n       [-5.4587466e-01, -1.4085850e+00],\n       [-5.1485193e-01,  5.3771263e-01],\n       [-9.7781622e-01,  5.4854536e-01],\n       [ 3.1890213e-01, -1.4228390e+00],\n       [-2.8002656e-01,  1.1039337e+00],\n       [-5.4247844e-01,  1.1039337e+00],\n       [-9.5298004e-01,  5.8335763e-01],\n       [ 1.4016974e+00,  5.5930173e-01],\n       [-5.4907596e-01,  1.1016654e+00],\n       [-4.2091653e-04,  1.1016654e+00]], dtype=float32)>"
     },
     "execution_count": 119,
     "metadata": {},
     "output_type": "execute_result"
    }
   ],
   "source": [
    "scaled_train"
   ],
   "metadata": {
    "collapsed": false,
    "ExecuteTime": {
     "end_time": "2023-12-08T01:01:24.339714007Z",
     "start_time": "2023-12-08T01:01:24.281369195Z"
    }
   },
   "id": "95f3bafe5ec03b33"
  },
  {
   "cell_type": "code",
   "execution_count": 115,
   "outputs": [
    {
     "data": {
      "text/plain": "14"
     },
     "execution_count": 115,
     "metadata": {},
     "output_type": "execute_result"
    }
   ],
   "source": [
    "# Replace by timeseries_dataset_from_array\n",
    "generator = TimeseriesGenerator(scaled_train, scaled_train, length=length, batch_size=1)\n",
    "validation_generator = TimeseriesGenerator(scaled_test,scaled_test, length=length, batch_size=1)\n",
    "len(generator)"
   ],
   "metadata": {
    "collapsed": false,
    "ExecuteTime": {
     "end_time": "2023-12-08T00:58:31.326009956Z",
     "start_time": "2023-12-08T00:58:31.265537443Z"
    }
   },
   "id": "b6de01b5523b9891"
  },
  {
   "cell_type": "code",
   "execution_count": 117,
   "outputs": [
    {
     "data": {
      "text/plain": "array([[[-0.95306593, -1.3609554 ],\n        [ 2.1074693 , -1.5205547 ],\n        [ 0.3081921 ,  0.22705747],\n        [-1.0412657 , -1.3968652 ],\n        [ 1.7987696 ,  0.71383524]]], dtype=float32)"
     },
     "execution_count": 117,
     "metadata": {},
     "output_type": "execute_result"
    }
   ],
   "source": [
    "X,y = generator[0]\n",
    "X"
   ],
   "metadata": {
    "collapsed": false,
    "ExecuteTime": {
     "end_time": "2023-12-08T00:59:08.716446886Z",
     "start_time": "2023-12-08T00:59:08.690163910Z"
    }
   },
   "id": "bb6fb4ed4cb81857"
  },
  {
   "cell_type": "code",
   "execution_count": 118,
   "outputs": [
    {
     "data": {
      "text/plain": "array([[-0.24746703, -0.30361024]], dtype=float32)"
     },
     "execution_count": 118,
     "metadata": {},
     "output_type": "execute_result"
    }
   ],
   "source": [
    "y"
   ],
   "metadata": {
    "collapsed": false,
    "ExecuteTime": {
     "end_time": "2023-12-08T01:00:20.565193621Z",
     "start_time": "2023-12-08T01:00:20.524879028Z"
    }
   },
   "id": "7b4c73197d04e7b"
  },
  {
   "cell_type": "code",
   "execution_count": 143,
   "outputs": [
    {
     "data": {
      "text/plain": "<tf.Tensor: shape=(14, 5, 2), dtype=float32, numpy=\narray([[[ 1.7899498 ,  0.741765  ],\n        [-0.26361153,  0.3039645 ],\n        [-0.54587466, -1.408585  ],\n        [-0.5148519 ,  0.53771263],\n        [-0.9778162 ,  0.54854536]],\n\n       [[-0.5148519 ,  0.53771263],\n        [-0.9778162 ,  0.54854536],\n        [ 0.31890213, -1.422839  ],\n        [-0.28002656,  1.1039337 ],\n        [-0.54247844,  1.1039337 ]],\n\n       [[ 2.1074693 , -1.5205547 ],\n        [ 0.3081921 ,  0.22705747],\n        [-1.0412657 , -1.3968652 ],\n        [ 1.7987696 ,  0.71383524],\n        [-0.24746703, -0.30361024]],\n\n       [[-0.28002656,  1.1039337 ],\n        [-0.54247844,  1.1039337 ],\n        [-0.95298004,  0.58335763],\n        [ 1.4016974 ,  0.55930173],\n        [-0.54907596,  1.1016654 ]],\n\n       [[-0.9778162 ,  0.54854536],\n        [ 0.31890213, -1.422839  ],\n        [-0.28002656,  1.1039337 ],\n        [-0.54247844,  1.1039337 ],\n        [-0.95298004,  0.58335763]],\n\n       [[ 1.7987696 ,  0.71383524],\n        [-0.24746703, -0.30361024],\n        [-0.85604614, -1.2133261 ],\n        [ 1.7899498 ,  0.741765  ],\n        [-0.26361153,  0.3039645 ]],\n\n       [[-0.85604614, -1.2133261 ],\n        [ 1.7899498 ,  0.741765  ],\n        [-0.26361153,  0.3039645 ],\n        [-0.54587466, -1.408585  ],\n        [-0.5148519 ,  0.53771263]],\n\n       [[-0.95306593, -1.3609554 ],\n        [ 2.1074693 , -1.5205547 ],\n        [ 0.3081921 ,  0.22705747],\n        [-1.0412657 , -1.3968652 ],\n        [ 1.7987696 ,  0.71383524]],\n\n       [[-1.0412657 , -1.3968652 ],\n        [ 1.7987696 ,  0.71383524],\n        [-0.24746703, -0.30361024],\n        [-0.85604614, -1.2133261 ],\n        [ 1.7899498 ,  0.741765  ]],\n\n       [[-0.24746703, -0.30361024],\n        [-0.85604614, -1.2133261 ],\n        [ 1.7899498 ,  0.741765  ],\n        [-0.26361153,  0.3039645 ],\n        [-0.54587466, -1.408585  ]],\n\n       [[ 0.31890213, -1.422839  ],\n        [-0.28002656,  1.1039337 ],\n        [-0.54247844,  1.1039337 ],\n        [-0.95298004,  0.58335763],\n        [ 1.4016974 ,  0.55930173]],\n\n       [[ 0.3081921 ,  0.22705747],\n        [-1.0412657 , -1.3968652 ],\n        [ 1.7987696 ,  0.71383524],\n        [-0.24746703, -0.30361024],\n        [-0.85604614, -1.2133261 ]],\n\n       [[-0.26361153,  0.3039645 ],\n        [-0.54587466, -1.408585  ],\n        [-0.5148519 ,  0.53771263],\n        [-0.9778162 ,  0.54854536],\n        [ 0.31890213, -1.422839  ]],\n\n       [[-0.54587466, -1.408585  ],\n        [-0.5148519 ,  0.53771263],\n        [-0.9778162 ,  0.54854536],\n        [ 0.31890213, -1.422839  ],\n        [-0.28002656,  1.1039337 ]]], dtype=float32)>"
     },
     "execution_count": 143,
     "metadata": {},
     "output_type": "execute_result"
    }
   ],
   "source": [
    "def split_window(features):\n",
    "  inputs = features[:, slice(0, length), :]\n",
    "  labels = features[:, slice(length, length + label_length), :]\n",
    "  return inputs, labels\n",
    "\n",
    "def make_dataset(data):\n",
    "  ds = tf.keras.utils.timeseries_dataset_from_array(\n",
    "    data=data,\n",
    "    targets=None,\n",
    "    sequence_length=length + label_length,\n",
    "    sequence_stride=1,\n",
    "    shuffle=False, # TODO: Shuffle if possible\n",
    "    batch_size=32,)\n",
    "\n",
    "  ds = ds.map(split_window)\n",
    "\n",
    "  return ds\n",
    "\n",
    "dataset = make_dataset(scaled_train)\n",
    "validaton_dataset = make_dataset(scaled_test)\n",
    "\n",
    "# dataset\n",
    "# dataset = tf.data.Dataset.from_tensor_slices(scaled_train).window(length, drop_remainder=True)\n",
    "# for inputs, labels in dataset:\n",
    "#     print(len(inputs))\n",
    "#     print(list(inputs.numpy()))\n",
    "\n",
    "inputs, labels = next(iter(dataset))\n",
    "inputs"
   ],
   "metadata": {
    "collapsed": false,
    "ExecuteTime": {
     "end_time": "2023-12-08T01:15:49.915001333Z",
     "start_time": "2023-12-08T01:15:49.768325626Z"
    }
   },
   "id": "50754d7d00fba54b"
  },
  {
   "cell_type": "code",
   "execution_count": 144,
   "outputs": [
    {
     "data": {
      "text/plain": "<tf.Tensor: shape=(14, 1, 2), dtype=float32, numpy=\narray([[[ 3.1890213e-01, -1.4228390e+00]],\n\n       [[-9.5298004e-01,  5.8335763e-01]],\n\n       [[-8.5604614e-01, -1.2133261e+00]],\n\n       [[-4.2091653e-04,  1.1016654e+00]],\n\n       [[ 1.4016974e+00,  5.5930173e-01]],\n\n       [[-5.4587466e-01, -1.4085850e+00]],\n\n       [[-9.7781622e-01,  5.4854536e-01]],\n\n       [[-2.4746703e-01, -3.0361024e-01]],\n\n       [[-2.6361153e-01,  3.0396450e-01]],\n\n       [[-5.1485193e-01,  5.3771263e-01]],\n\n       [[-5.4907596e-01,  1.1016654e+00]],\n\n       [[ 1.7899498e+00,  7.4176502e-01]],\n\n       [[-2.8002656e-01,  1.1039337e+00]],\n\n       [[-5.4247844e-01,  1.1039337e+00]]], dtype=float32)>"
     },
     "execution_count": 144,
     "metadata": {},
     "output_type": "execute_result"
    }
   ],
   "source": [
    "labels"
   ],
   "metadata": {
    "collapsed": false,
    "ExecuteTime": {
     "end_time": "2023-12-08T01:15:55.058090221Z",
     "start_time": "2023-12-08T01:15:55.037400875Z"
    }
   },
   "id": "4d2cba0a5fe86e9e"
  },
  {
   "cell_type": "code",
   "execution_count": 145,
   "outputs": [],
   "source": [
    "from tensorflow.keras.models import Sequential\n",
    "from tensorflow.keras.layers import Dense,LSTM\n",
    "from tensorflow.keras.callbacks import EarlyStopping"
   ],
   "metadata": {
    "collapsed": false,
    "ExecuteTime": {
     "end_time": "2023-12-08T01:15:57.732998891Z",
     "start_time": "2023-12-08T01:15:57.708501494Z"
    }
   },
   "id": "4d041342072cad7e"
  },
  {
   "cell_type": "code",
   "execution_count": 146,
   "outputs": [
    {
     "name": "stdout",
     "output_type": "stream",
     "text": [
      "WARNING:tensorflow:Layer lstm_4 will not use cuDNN kernels since it doesn't meet the criteria. It will use a generic GPU kernel as fallback when running on GPU.\n"
     ]
    }
   ],
   "source": [
    "model = Sequential()\n",
    "model.add(LSTM(100, activation='relu', input_shape=(length, n_features)))\n",
    "model.add(Dense(n_features))\n",
    "model.compile(optimizer='adam', loss='mse')\n",
    "\n",
    "early_stop = EarlyStopping(monitor='val_loss',patience=2)"
   ],
   "metadata": {
    "collapsed": false,
    "ExecuteTime": {
     "end_time": "2023-12-08T01:15:58.477281728Z",
     "start_time": "2023-12-08T01:15:58.388665366Z"
    }
   },
   "id": "b03b5a43a21a3d5e"
  },
  {
   "cell_type": "code",
   "execution_count": 147,
   "outputs": [
    {
     "name": "stdout",
     "output_type": "stream",
     "text": [
      "Epoch 1/50\n",
      "1/1 [==============================] - 2s 2s/step - loss: 0.7730 - val_loss: 0.7756\n",
      "Epoch 2/50\n",
      "1/1 [==============================] - 0s 69ms/step - loss: 0.7671 - val_loss: 0.7504\n",
      "Epoch 3/50\n",
      "1/1 [==============================] - 0s 73ms/step - loss: 0.7616 - val_loss: 0.7260\n",
      "Epoch 4/50\n",
      "1/1 [==============================] - 0s 87ms/step - loss: 0.7567 - val_loss: 0.7024\n",
      "Epoch 5/50\n",
      "1/1 [==============================] - 0s 101ms/step - loss: 0.7522 - val_loss: 0.6793\n",
      "Epoch 6/50\n",
      "1/1 [==============================] - 0s 99ms/step - loss: 0.7481 - val_loss: 0.6569\n",
      "Epoch 7/50\n",
      "1/1 [==============================] - 0s 80ms/step - loss: 0.7444 - val_loss: 0.6346\n",
      "Epoch 8/50\n",
      "1/1 [==============================] - 0s 71ms/step - loss: 0.7411 - val_loss: 0.6128\n",
      "Epoch 9/50\n",
      "1/1 [==============================] - 0s 89ms/step - loss: 0.7383 - val_loss: 0.5915\n",
      "Epoch 10/50\n",
      "1/1 [==============================] - 0s 136ms/step - loss: 0.7358 - val_loss: 0.5708\n",
      "Epoch 11/50\n",
      "1/1 [==============================] - 0s 84ms/step - loss: 0.7338 - val_loss: 0.5505\n",
      "Epoch 12/50\n",
      "1/1 [==============================] - 0s 68ms/step - loss: 0.7321 - val_loss: 0.5309\n",
      "Epoch 13/50\n",
      "1/1 [==============================] - 0s 167ms/step - loss: 0.7309 - val_loss: 0.5120\n",
      "Epoch 14/50\n",
      "1/1 [==============================] - 0s 92ms/step - loss: 0.7301 - val_loss: 0.4939\n",
      "Epoch 15/50\n",
      "1/1 [==============================] - 0s 61ms/step - loss: 0.7298 - val_loss: 0.4768\n",
      "Epoch 16/50\n",
      "1/1 [==============================] - 0s 69ms/step - loss: 0.7297 - val_loss: 0.4612\n",
      "Epoch 17/50\n",
      "1/1 [==============================] - 0s 69ms/step - loss: 0.7300 - val_loss: 0.4475\n",
      "Epoch 18/50\n",
      "1/1 [==============================] - 0s 68ms/step - loss: 0.7303 - val_loss: 0.4361\n",
      "Epoch 19/50\n",
      "1/1 [==============================] - 0s 69ms/step - loss: 0.7307 - val_loss: 0.4274\n",
      "Epoch 20/50\n",
      "1/1 [==============================] - 0s 72ms/step - loss: 0.7311 - val_loss: 0.4212\n",
      "Epoch 21/50\n",
      "1/1 [==============================] - 0s 86ms/step - loss: 0.7313 - val_loss: 0.4175\n",
      "Epoch 22/50\n",
      "1/1 [==============================] - 0s 83ms/step - loss: 0.7313 - val_loss: 0.4160\n",
      "Epoch 23/50\n",
      "1/1 [==============================] - 0s 103ms/step - loss: 0.7312 - val_loss: 0.4163\n",
      "Epoch 24/50\n",
      "1/1 [==============================] - 0s 94ms/step - loss: 0.7310 - val_loss: 0.4182\n"
     ]
    },
    {
     "data": {
      "text/plain": "<keras.src.callbacks.History at 0x7ff9fdca8610>"
     },
     "execution_count": 147,
     "metadata": {},
     "output_type": "execute_result"
    }
   ],
   "source": [
    "model.fit(dataset,epochs=50,\n",
    "                    validation_data=validaton_dataset,\n",
    "                    callbacks=[early_stop])"
   ],
   "metadata": {
    "collapsed": false,
    "ExecuteTime": {
     "start_time": "2023-12-08T01:15:59.456392066Z"
    }
   },
   "id": "83538c16a652dff2"
  },
  {
   "cell_type": "code",
   "execution_count": 142,
   "outputs": [
    {
     "data": {
      "text/plain": "<AxesSubplot: >"
     },
     "execution_count": 142,
     "metadata": {},
     "output_type": "execute_result"
    },
    {
     "data": {
      "text/plain": "<Figure size 640x480 with 1 Axes>",
      "image/png": "[encoded data removed]"
     },
     "metadata": {},
     "output_type": "display_data"
    }
   ],
   "source": [
    "loss = pd.DataFrame(model.history.history)\n",
    "loss.plot()"
   ],
   "metadata": {
    "collapsed": false,
    "ExecuteTime": {
     "start_time": "2023-12-08T01:14:31.996669736Z"
    }
   },
   "id": "c77bfad7c65a7364"
  },
  {
   "cell_type": "code",
   "execution_count": 72,
   "outputs": [],
   "source": [
    "## Evaluate on Test Data"
   ],
   "metadata": {
    "collapsed": false,
    "ExecuteTime": {
     "start_time": "2023-12-07T23:46:43.656707086Z"
    }
   },
   "id": "a719850fbb1ea4b6"
  },
  {
   "cell_type": "code",
   "execution_count": 154,
   "outputs": [
    {
     "data": {
      "text/plain": "<tf.Tensor: shape=(19, 2), dtype=float32, numpy=\narray([[-9.5306593e-01, -1.3609554e+00],\n       [ 2.1074693e+00, -1.5205547e+00],\n       [ 3.0819210e-01,  2.2705747e-01],\n       [-1.0412657e+00, -1.3968652e+00],\n       [ 1.7987696e+00,  7.1383524e-01],\n       [-2.4746703e-01, -3.0361024e-01],\n       [-8.5604614e-01, -1.2133261e+00],\n       [ 1.7899498e+00,  7.4176502e-01],\n       [-2.6361153e-01,  3.0396450e-01],\n       [-5.4587466e-01, -1.4085850e+00],\n       [-5.1485193e-01,  5.3771263e-01],\n       [-9.7781622e-01,  5.4854536e-01],\n       [ 3.1890213e-01, -1.4228390e+00],\n       [-2.8002656e-01,  1.1039337e+00],\n       [-5.4247844e-01,  1.1039337e+00],\n       [-9.5298004e-01,  5.8335763e-01],\n       [ 1.4016974e+00,  5.5930173e-01],\n       [-5.4907596e-01,  1.1016654e+00],\n       [-4.2091653e-04,  1.1016654e+00]], dtype=float32)>"
     },
     "execution_count": 154,
     "metadata": {},
     "output_type": "execute_result"
    }
   ],
   "source": [
    "scaled_train"
   ],
   "metadata": {
    "collapsed": false,
    "ExecuteTime": {
     "end_time": "2023-12-08T01:22:23.639952405Z",
     "start_time": "2023-12-08T01:22:23.620321865Z"
    }
   },
   "id": "2e5d39e9e24960b9"
  },
  {
   "cell_type": "code",
   "execution_count": 155,
   "outputs": [
    {
     "name": "stdout",
     "output_type": "stream",
     "text": [
      "1/1 [==============================] - 0s 136ms/step\n",
      "1/1 [==============================] - 0s 24ms/step\n",
      "1/1 [==============================] - 0s 18ms/step\n",
      "1/1 [==============================] - 0s 20ms/step\n",
      "1/1 [==============================] - 0s 19ms/step\n",
      "1/1 [==============================] - 0s 17ms/step\n"
     ]
    }
   ],
   "source": [
    "test_predictions = []\n",
    "\n",
    "first_eval_batch = scaled_train[-length:]\n",
    "#print(first_eval_batch)\n",
    "current_batch = first_eval_batch\n",
    "current_batch = tf.reshape(first_eval_batch, (1, length, n_features), name=None)\n",
    "\n",
    "for i in range(len(test)):\n",
    "\n",
    "  # get prediction 1 time stamp ahead ([0] is for grabbing just the number instead of [array])\n",
    "  current_pred = model.predict(current_batch)[0]\n",
    "\n",
    "  # store prediction\n",
    "  test_predictions.append(current_pred)\n",
    "\n",
    "  # update batch to now include prediction and drop first value\n",
    "  current_batch = np.append(current_batch[:,1:,:],[[current_pred]],axis=1)"
   ],
   "metadata": {
    "collapsed": false,
    "ExecuteTime": {
     "end_time": "2023-12-08T01:23:30.751102984Z",
     "start_time": "2023-12-08T01:23:30.284588517Z"
    }
   },
   "id": "9b1ca8a355e04809"
  },
  {
   "cell_type": "code",
   "execution_count": 159,
   "outputs": [
    {
     "name": "stderr",
     "output_type": "stream",
     "text": [
      "/tmp/ipykernel_52227/4294280599.py:2: SettingWithCopyWarning: \n",
      "A value is trying to be set on a copy of a slice from a DataFrame.\n",
      "Try using .loc[row_indexer,col_indexer] = value instead\n",
      "\n",
      "See the caveats in the documentation: https://pandas.pydata.org/pandas-docs/stable/user_guide/indexing.html#returning-a-view-versus-a-copy\n",
      "  test[['PredictionsX', 'PredictionsY']] = true_predictions\n",
      "/tmp/ipykernel_52227/4294280599.py:2: SettingWithCopyWarning: \n",
      "A value is trying to be set on a copy of a slice from a DataFrame.\n",
      "Try using .loc[row_indexer,col_indexer] = value instead\n",
      "\n",
      "See the caveats in the documentation: https://pandas.pydata.org/pandas-docs/stable/user_guide/indexing.html#returning-a-view-versus-a-copy\n",
      "  test[['PredictionsX', 'PredictionsY']] = true_predictions\n"
     ]
    }
   ],
   "source": [
    "true_predictions = scaler_invert(test_predictions)\n",
    "test[['PredictionsX', 'PredictionsY']] = true_predictions"
   ],
   "metadata": {
    "collapsed": false,
    "ExecuteTime": {
     "end_time": "2023-12-08T01:27:49.102460608Z",
     "start_time": "2023-12-08T01:27:49.057554262Z"
    }
   },
   "id": "aa1ec2a553956e07"
  },
  {
   "cell_type": "code",
   "execution_count": 160,
   "outputs": [
    {
     "data": {
      "text/plain": "             x         y  PredictionsX  PredictionsY\n1340  0.880537  0.781046      0.310699      0.660990\n1363  0.279230  0.903595      0.317054      0.657010\n1379  0.427378  0.364379      0.322807      0.650084\n1394  0.087509  0.955882      0.331946      0.634408\n1428  0.255991  0.949346      0.338462      0.622150\n1455  0.194989  0.955882      0.344178      0.611629",
      "text/html": "<div>\n<style scoped>\n    .dataframe tbody tr th:only-of-type {\n        vertical-align: middle;\n    }\n\n    .dataframe tbody tr th {\n        vertical-align: top;\n    }\n\n    .dataframe thead th {\n        text-align: right;\n    }\n</style>\n<table border=\"1\" class=\"dataframe\">\n  <thead>\n    <tr style=\"text-align: right;\">\n      <th></th>\n      <th>x</th>\n      <th>y</th>\n      <th>PredictionsX</th>\n      <th>PredictionsY</th>\n    </tr>\n  </thead>\n  <tbody>\n    <tr>\n      <th>1340</th>\n      <td>0.880537</td>\n      <td>0.781046</td>\n      <td>0.310699</td>\n      <td>0.660990</td>\n    </tr>\n    <tr>\n      <th>1363</th>\n      <td>0.279230</td>\n      <td>0.903595</td>\n      <td>0.317054</td>\n      <td>0.657010</td>\n    </tr>\n    <tr>\n      <th>1379</th>\n      <td>0.427378</td>\n      <td>0.364379</td>\n      <td>0.322807</td>\n      <td>0.650084</td>\n    </tr>\n    <tr>\n      <th>1394</th>\n      <td>0.087509</td>\n      <td>0.955882</td>\n      <td>0.331946</td>\n      <td>0.634408</td>\n    </tr>\n    <tr>\n      <th>1428</th>\n      <td>0.255991</td>\n      <td>0.949346</td>\n      <td>0.338462</td>\n      <td>0.622150</td>\n    </tr>\n    <tr>\n      <th>1455</th>\n      <td>0.194989</td>\n      <td>0.955882</td>\n      <td>0.344178</td>\n      <td>0.611629</td>\n    </tr>\n  </tbody>\n</table>\n</div>"
     },
     "execution_count": 160,
     "metadata": {},
     "output_type": "execute_result"
    }
   ],
   "source": [
    "test"
   ],
   "metadata": {
    "collapsed": false,
    "ExecuteTime": {
     "end_time": "2023-12-08T01:27:58.403805615Z",
     "start_time": "2023-12-08T01:27:58.384191929Z"
    }
   },
   "id": "210af86b477f7629"
  },
  {
   "cell_type": "code",
   "execution_count": 167,
   "outputs": [
    {
     "data": {
      "text/plain": "<AxesSubplot: >"
     },
     "execution_count": 167,
     "metadata": {},
     "output_type": "execute_result"
    },
    {
     "data": {
      "text/plain": "<Figure size 640x480 with 1 Axes>",
      "image/png": "[encoded data removed]"
     },
     "metadata": {},
     "output_type": "display_data"
    }
   ],
   "source": [
    "test.plot(color = ['#00FF00', '#FF0000', '#00FF88', '#FF0088'])"
   ],
   "metadata": {
    "collapsed": false,
    "ExecuteTime": {
     "end_time": "2023-12-08T01:35:16.090732252Z",
     "start_time": "2023-12-08T01:35:15.948761756Z"
    }
   },
   "id": "be71c392c2c63323"
  },
  {
   "cell_type": "code",
   "execution_count": 170,
   "outputs": [
    {
     "name": "stdout",
     "output_type": "stream",
     "text": [
      "0.2664237030456812\n",
      "0.2845341108456235\n"
     ]
    }
   ],
   "source": [
    "from sklearn.metrics import mean_squared_error\n",
    "print(np.sqrt(mean_squared_error(test['x'],test['PredictionsX'])))\n",
    "print(np.sqrt(mean_squared_error(test['y'],test['PredictionsY'])))"
   ],
   "metadata": {
    "collapsed": false,
    "ExecuteTime": {
     "end_time": "2023-12-08T01:36:55.952760722Z",
     "start_time": "2023-12-08T01:36:55.885437018Z"
    }
   },
   "id": "d9c81d675a439b2b"
  },
  {
   "cell_type": "code",
   "execution_count": null,
   "outputs": [],
   "source": [],
   "metadata": {
    "collapsed": false
   },
   "id": "171736bad9e0c6e1"
  }
 ],
 "metadata": {
  "kernelspec": {
   "display_name": "Python 3",
   "language": "python",
   "name": "python3"
  },
  "language_info": {
   "codemirror_mode": {
    "name": "ipython",
    "version": 2
   },
   "file_extension": ".py",
   "mimetype": "text/x-python",
   "name": "python",
   "nbconvert_exporter": "python",
   "pygments_lexer": "ipython2",
   "version": "2.7.6"
  }
 },
 "nbformat": 4,
 "nbformat_minor": 5
}
