{
 "cells": [
  {
   "cell_type": "code",
   "execution_count": 18,
   "outputs": [],
   "source": [
    "import glob\n",
    "#from pathlib import Path\n",
    "import json\n",
    "import preprocessing as pp\n",
    "import tensorflow as tf\n",
    "import pandas as pd\n",
    "import numpy as np\n",
    "import keras\n",
    "import matplotlib.pyplot as plt"
   ],
   "metadata": {
    "collapsed": false,
    "ExecuteTime": {
     "end_time": "2023-12-12T10:04:16.407951138Z",
     "start_time": "2023-12-12T10:04:16.154503405Z"
    }
   },
   "id": "daa48e61d9b31fa3"
  },
  {
   "cell_type": "code",
   "execution_count": 22,
   "outputs": [],
   "source": [
    "keys_to_dtype = {\n",
    "  #'developer_token_id': tf.int64,\n",
    "  #'resource_token_id': tf.int64,\n",
    "  #'screen_caption_token_ids': tf.int64,\n",
    "  #'appdesc_token_id': tf.int64,\n",
    "  'clickable_seq': tf.int64,\n",
    "  'type_id_seq': tf.int64,\n",
    "  'cord_x_seq': tf.float32,\n",
    "  'cord_y_seq': tf.float32,\n",
    "  'visibility_to_user_seq': tf.int64,\n",
    "  'visibility_seq': tf.int64,\n",
    "  #'attended_objects': tf.int64,\n",
    "  #'label_flag': tf.int64,  # 0: padding 1: node\n",
    "  # 'obj_img_mat': tf.int64,\n",
    "  'obj_dom_pos': tf.int64,\n",
    "  #'attention_boxes': tf.float32,\n",
    "  #'gold_caption': tf.string,\n",
    "}"
   ],
   "metadata": {
    "collapsed": false,
    "ExecuteTime": {
     "end_time": "2023-12-12T10:08:03.165003345Z",
     "start_time": "2023-12-12T10:08:03.154123700Z"
    }
   },
   "id": "d8cde309fcb4de9b"
  },
  {
   "cell_type": "code",
   "execution_count": 23,
   "outputs": [],
   "source": [
    "def get_features_from_gestures(gesture_path):\n",
    "  with tf.io.gfile.GFile(gesture_path) as f:\n",
    "    gesture_json = json.load(f)\n",
    "  trace_path = gesture_path.replace('gestures.json', '')\n",
    "  # Throw away all gestures except the first\n",
    "  gesture_items = list(gesture_json.items())\n",
    "  # Remove empty gestures\n",
    "  gesture_items = [gesture for gesture in gesture_items if gesture[1]]\n",
    "  # TODO: Add column: isSwipe, if gesture has more than one entry\n",
    "  if gesture_items and gesture_items[0]:\n",
    "    gesture_dict = {gesture[0]:gesture[1][0] for gesture in gesture_items}\n",
    "  else:\n",
    "    gesture_dict = {}\n",
    "\n",
    "  first_gesture_item = list(gesture_dict.items())\n",
    "  if (not gesture_dict) or (not first_gesture_item[0]) or (not first_gesture_item[0][1]):\n",
    "    # Return empty dataframe, if no data is available\n",
    "    return pd.DataFrame(columns=['x', 'y']), trace_path\n",
    "  \n",
    "  gesture_df = pd.DataFrame(gesture_dict).transpose()\n",
    "  gesture_df.columns = ['x', 'y']\n",
    "  return gesture_df, trace_path"
   ],
   "metadata": {
    "collapsed": false,
    "ExecuteTime": {
     "end_time": "2023-12-12T10:08:03.625606786Z",
     "start_time": "2023-12-12T10:08:03.586784351Z"
    }
   },
   "id": "370e5596e68c7cc9"
  },
  {
   "cell_type": "code",
   "execution_count": 24,
   "outputs": [],
   "source": [
    "# def to_var_len_feature_dict(entries):\n",
    "#   dict = {}\n",
    "#   for feature_item in entries:\n",
    "#     dict[feature_item[0]] = tf.convert_to_tensor(feature_item[1], dtype=keys_to_dtype[feature_item[0]])\n",
    "#   return dict\n"
   ],
   "metadata": {
    "collapsed": false,
    "ExecuteTime": {
     "end_time": "2023-12-12T10:08:04.163129052Z",
     "start_time": "2023-12-12T10:08:04.120356495Z"
    }
   },
   "id": "89639235a8f4fd38"
  },
  {
   "cell_type": "code",
   "execution_count": 25,
   "outputs": [
    {
     "data": {
      "text/plain": "'../sources/datasets/RICO/traces/filtered_traces/*/trace_*/gestures.json'"
     },
     "execution_count": 25,
     "metadata": {},
     "output_type": "execute_result"
    }
   ],
   "source": [
    "#pathToCombined = \"D:/Tmp/Coding/datasets/RICO/unique_uis/test_dataset\"\n",
    "traces_prefix = \"../sources/datasets/RICO/traces/filtered_traces\"\n",
    "path_to_gesture_json = f\"{traces_prefix}/*/trace_*/gestures.json\"\n",
    "path_to_gesture_json"
   ],
   "metadata": {
    "collapsed": false,
    "ExecuteTime": {
     "end_time": "2023-12-12T10:08:04.540010453Z",
     "start_time": "2023-12-12T10:08:04.515610356Z"
    }
   },
   "id": "1010903aaff8e289"
  },
  {
   "cell_type": "code",
   "execution_count": 26,
   "outputs": [
    {
     "data": {
      "text/plain": "10292"
     },
     "execution_count": 26,
     "metadata": {},
     "output_type": "execute_result"
    }
   ],
   "source": [
    "gesture_json_paths = glob.glob(path_to_gesture_json)\n",
    "len(gesture_json_paths)"
   ],
   "metadata": {
    "collapsed": false,
    "ExecuteTime": {
     "end_time": "2023-12-12T10:08:07.600743893Z",
     "start_time": "2023-12-12T10:08:05.026687965Z"
    }
   },
   "id": "3d96e858f6638676"
  },
  {
   "cell_type": "code",
   "execution_count": 27,
   "outputs": [],
   "source": [
    "def get_features_from_tree(frame_index, trace_path):\n",
    "  file_prefix = f\"{trace_path}view_hierarchies/{frame_index}\"\n",
    "  features_dict = pp.create_simple_features(file_prefix)\n",
    "  if features_dict is None:\n",
    "    return None\n",
    "  del features_dict['node_id']\n",
    "  feature_items = list(features_dict.items())\n",
    "  #feature_items = to_var_len_feature_dict(feature_items).items()\n",
    "  tree_feature_df = pd.DataFrame(feature_items, columns=['feat', frame_index])\n",
    "  tree_feature_df = tree_feature_df.set_index('feat')\n",
    "  tree_feature_df = tree_feature_df.transpose()\n",
    "  return tree_feature_df\n",
    "  #return pd.DataFrame(features_adapt, index=[frame_index])"
   ],
   "metadata": {
    "collapsed": false,
    "ExecuteTime": {
     "end_time": "2023-12-12T10:08:07.656382558Z",
     "start_time": "2023-12-12T10:08:07.602585280Z"
    }
   },
   "id": "897083222d435531"
  },
  {
   "cell_type": "code",
   "execution_count": 28,
   "outputs": [
    {
     "data": {
      "text/plain": "feat                                        obj_dom_pos  \\\n432   [1, 1, 68, 2, 2, 67, 2, 67, 2, 2, 68, 1, 3, 3,...   \n\nfeat                                        type_id_seq  \\\n432   [4, 4, 4, 4, 4, 4, 4, 4, 4, 4, 4, 4, 4, 4, 4, ...   \n\nfeat                                     visibility_seq  \\\n432   [1, 1, 1, 1, 0, 1, 1, 1, 1, 1, 1, 0, 1, 1, 1, ...   \n\nfeat                             visibility_to_user_seq  \\\n432   [1, 1, 1, 1, 0, 1, 1, 1, 1, 1, 1, 0, 1, 1, 1, ...   \n\nfeat                                      clickable_seq  \\\n432   [0, 0, 0, 0, 0, 0, 0, 0, 0, 0, 0, 0, 1, 1, 0, ...   \n\nfeat                                         cord_x_seq  \\\n432   [[0.0, 1.0], [0.0, 1.0], [0.0, 1.0], [0.0, 1.0...   \n\nfeat                                         cord_y_seq  \n432   [[0.0, 1.0], [0.0, 0.934375], [0.934375, 1.0],...  ",
      "text/html": "<div>\n<style scoped>\n    .dataframe tbody tr th:only-of-type {\n        vertical-align: middle;\n    }\n\n    .dataframe tbody tr th {\n        vertical-align: top;\n    }\n\n    .dataframe thead th {\n        text-align: right;\n    }\n</style>\n<table border=\"1\" class=\"dataframe\">\n  <thead>\n    <tr style=\"text-align: right;\">\n      <th>feat</th>\n      <th>obj_dom_pos</th>\n      <th>type_id_seq</th>\n      <th>visibility_seq</th>\n      <th>visibility_to_user_seq</th>\n      <th>clickable_seq</th>\n      <th>cord_x_seq</th>\n      <th>cord_y_seq</th>\n    </tr>\n  </thead>\n  <tbody>\n    <tr>\n      <th>432</th>\n      <td>[1, 1, 68, 2, 2, 67, 2, 67, 2, 2, 68, 1, 3, 3,...</td>\n      <td>[4, 4, 4, 4, 4, 4, 4, 4, 4, 4, 4, 4, 4, 4, 4, ...</td>\n      <td>[1, 1, 1, 1, 0, 1, 1, 1, 1, 1, 1, 0, 1, 1, 1, ...</td>\n      <td>[1, 1, 1, 1, 0, 1, 1, 1, 1, 1, 1, 0, 1, 1, 1, ...</td>\n      <td>[0, 0, 0, 0, 0, 0, 0, 0, 0, 0, 0, 0, 1, 1, 0, ...</td>\n      <td>[[0.0, 1.0], [0.0, 1.0], [0.0, 1.0], [0.0, 1.0...</td>\n      <td>[[0.0, 1.0], [0.0, 0.934375], [0.934375, 1.0],...</td>\n    </tr>\n  </tbody>\n</table>\n</div>"
     },
     "execution_count": 28,
     "metadata": {},
     "output_type": "execute_result"
    }
   ],
   "source": [
    "gesture_path = gesture_json_paths[42]\n",
    "gesture_df, trace_path = get_features_from_gestures(gesture_path)\n",
    "frameIndex = gesture_df.index.values[0]\n",
    "feature_df = get_features_from_tree(frameIndex, trace_path)\n",
    "feature_df\n",
    "#feature_item = features[0]\n",
    "#feature_item\n",
    "#tf.convert_to_tensor(feature_item[1], dtype=keys_to_dtype[feature_item[0]])"
   ],
   "metadata": {
    "collapsed": false,
    "ExecuteTime": {
     "end_time": "2023-12-12T10:08:07.659248054Z",
     "start_time": "2023-12-12T10:08:07.645938294Z"
    }
   },
   "id": "3fe910aceba99bcd"
  },
  {
   "cell_type": "code",
   "execution_count": 29,
   "outputs": [],
   "source": [
    "# gesture_df['x'].dtype # float64\n",
    "# gesture_df['y'].dtype # float64"
   ],
   "metadata": {
    "collapsed": false,
    "ExecuteTime": {
     "end_time": "2023-12-12T10:08:07.716595254Z",
     "start_time": "2023-12-12T10:08:07.646199829Z"
    }
   },
   "id": "b380f22ccb4ae7a7"
  },
  {
   "cell_type": "code",
   "execution_count": 30,
   "outputs": [],
   "source": [
    "# for t,v in keys_to_dtype.items():\n",
    "#     print(feature_df[t]['4758'][0].dtype)"
   ],
   "metadata": {
    "collapsed": false,
    "ExecuteTime": {
     "end_time": "2023-12-12T10:08:07.718199076Z",
     "start_time": "2023-12-12T10:08:07.689891409Z"
    }
   },
   "id": "ab1b2610bf47faf"
  },
  {
   "cell_type": "code",
   "execution_count": 31,
   "outputs": [
    {
     "data": {
      "text/plain": "             x         y                                        obj_dom_pos  \\\n432   0.407648  0.272727  [1, 1, 68, 2, 2, 67, 2, 67, 2, 2, 68, 1, 3, 3,...   \n514   0.848244  0.890693                                                NaN   \n705   0.063252  0.071429                                                NaN   \n947   0.430736  0.405844                                                NaN   \n2172  0.072872  0.068182                                                NaN   \n2212  0.242184  0.337662                                                NaN   \n\n                                            type_id_seq  \\\n432   [4, 4, 4, 4, 4, 4, 4, 4, 4, 4, 4, 4, 4, 4, 4, ...   \n514                                                 NaN   \n705                                                 NaN   \n947                                                 NaN   \n2172                                                NaN   \n2212                                                NaN   \n\n                                         visibility_seq  \\\n432   [1, 1, 1, 1, 0, 1, 1, 1, 1, 1, 1, 0, 1, 1, 1, ...   \n514                                                 NaN   \n705                                                 NaN   \n947                                                 NaN   \n2172                                                NaN   \n2212                                                NaN   \n\n                                 visibility_to_user_seq  \\\n432   [1, 1, 1, 1, 0, 1, 1, 1, 1, 1, 1, 0, 1, 1, 1, ...   \n514                                                 NaN   \n705                                                 NaN   \n947                                                 NaN   \n2172                                                NaN   \n2212                                                NaN   \n\n                                          clickable_seq  \\\n432   [0, 0, 0, 0, 0, 0, 0, 0, 0, 0, 0, 0, 1, 1, 0, ...   \n514                                                 NaN   \n705                                                 NaN   \n947                                                 NaN   \n2172                                                NaN   \n2212                                                NaN   \n\n                                             cord_x_seq  \\\n432   [[0.0, 1.0], [0.0, 1.0], [0.0, 1.0], [0.0, 1.0...   \n514                                                 NaN   \n705                                                 NaN   \n947                                                 NaN   \n2172                                                NaN   \n2212                                                NaN   \n\n                                             cord_y_seq  \n432   [[0.0, 1.0], [0.0, 0.934375], [0.934375, 1.0],...  \n514                                                 NaN  \n705                                                 NaN  \n947                                                 NaN  \n2172                                                NaN  \n2212                                                NaN  ",
      "text/html": "<div>\n<style scoped>\n    .dataframe tbody tr th:only-of-type {\n        vertical-align: middle;\n    }\n\n    .dataframe tbody tr th {\n        vertical-align: top;\n    }\n\n    .dataframe thead th {\n        text-align: right;\n    }\n</style>\n<table border=\"1\" class=\"dataframe\">\n  <thead>\n    <tr style=\"text-align: right;\">\n      <th></th>\n      <th>x</th>\n      <th>y</th>\n      <th>obj_dom_pos</th>\n      <th>type_id_seq</th>\n      <th>visibility_seq</th>\n      <th>visibility_to_user_seq</th>\n      <th>clickable_seq</th>\n      <th>cord_x_seq</th>\n      <th>cord_y_seq</th>\n    </tr>\n  </thead>\n  <tbody>\n    <tr>\n      <th>432</th>\n      <td>0.407648</td>\n      <td>0.272727</td>\n      <td>[1, 1, 68, 2, 2, 67, 2, 67, 2, 2, 68, 1, 3, 3,...</td>\n      <td>[4, 4, 4, 4, 4, 4, 4, 4, 4, 4, 4, 4, 4, 4, 4, ...</td>\n      <td>[1, 1, 1, 1, 0, 1, 1, 1, 1, 1, 1, 0, 1, 1, 1, ...</td>\n      <td>[1, 1, 1, 1, 0, 1, 1, 1, 1, 1, 1, 0, 1, 1, 1, ...</td>\n      <td>[0, 0, 0, 0, 0, 0, 0, 0, 0, 0, 0, 0, 1, 1, 0, ...</td>\n      <td>[[0.0, 1.0], [0.0, 1.0], [0.0, 1.0], [0.0, 1.0...</td>\n      <td>[[0.0, 1.0], [0.0, 0.934375], [0.934375, 1.0],...</td>\n    </tr>\n    <tr>\n      <th>514</th>\n      <td>0.848244</td>\n      <td>0.890693</td>\n      <td>NaN</td>\n      <td>NaN</td>\n      <td>NaN</td>\n      <td>NaN</td>\n      <td>NaN</td>\n      <td>NaN</td>\n      <td>NaN</td>\n    </tr>\n    <tr>\n      <th>705</th>\n      <td>0.063252</td>\n      <td>0.071429</td>\n      <td>NaN</td>\n      <td>NaN</td>\n      <td>NaN</td>\n      <td>NaN</td>\n      <td>NaN</td>\n      <td>NaN</td>\n      <td>NaN</td>\n    </tr>\n    <tr>\n      <th>947</th>\n      <td>0.430736</td>\n      <td>0.405844</td>\n      <td>NaN</td>\n      <td>NaN</td>\n      <td>NaN</td>\n      <td>NaN</td>\n      <td>NaN</td>\n      <td>NaN</td>\n      <td>NaN</td>\n    </tr>\n    <tr>\n      <th>2172</th>\n      <td>0.072872</td>\n      <td>0.068182</td>\n      <td>NaN</td>\n      <td>NaN</td>\n      <td>NaN</td>\n      <td>NaN</td>\n      <td>NaN</td>\n      <td>NaN</td>\n      <td>NaN</td>\n    </tr>\n    <tr>\n      <th>2212</th>\n      <td>0.242184</td>\n      <td>0.337662</td>\n      <td>NaN</td>\n      <td>NaN</td>\n      <td>NaN</td>\n      <td>NaN</td>\n      <td>NaN</td>\n      <td>NaN</td>\n      <td>NaN</td>\n    </tr>\n  </tbody>\n</table>\n</div>"
     },
     "execution_count": 31,
     "metadata": {},
     "output_type": "execute_result"
    }
   ],
   "source": [
    "# Try without features for now, only gestures\n",
    "all_feat_df = pd.concat([gesture_df, feature_df], axis=1)\n",
    "#all_feat_df = gesture_df\n",
    "all_feat_df"
   ],
   "metadata": {
    "collapsed": false,
    "ExecuteTime": {
     "end_time": "2023-12-12T10:08:07.738919115Z",
     "start_time": "2023-12-12T10:08:07.690093327Z"
    }
   },
   "id": "a60861c0e824008e"
  },
  {
   "cell_type": "code",
   "execution_count": 32,
   "outputs": [],
   "source": [
    "#feature_df['type_id_seq'].iloc[0][0].dtype"
   ],
   "metadata": {
    "collapsed": false,
    "ExecuteTime": {
     "end_time": "2023-12-12T10:08:08.056483607Z",
     "start_time": "2023-12-12T10:08:07.886403942Z"
    }
   },
   "id": "924f3487fba88fba"
  },
  {
   "cell_type": "code",
   "execution_count": 33,
   "outputs": [],
   "source": [
    "length = 5\n",
    "n_features=2\n",
    "label_length=1\n",
    "training_frames = length + label_length"
   ],
   "metadata": {
    "collapsed": false,
    "ExecuteTime": {
     "end_time": "2023-12-12T10:08:08.351435253Z",
     "start_time": "2023-12-12T10:08:08.238040695Z"
    }
   },
   "id": "55d7839ec1e2833a"
  },
  {
   "cell_type": "code",
   "execution_count": 34,
   "outputs": [
    {
     "name": "stdout",
     "output_type": "stream",
     "text": [
      "Processed 800 of 10292 (8%) traces.\r"
     ]
    },
    {
     "ename": "KeyboardInterrupt",
     "evalue": "",
     "output_type": "error",
     "traceback": [
      "\u001B[0;31m---------------------------------------------------------------------------\u001B[0m",
      "\u001B[0;31mKeyboardInterrupt\u001B[0m                         Traceback (most recent call last)",
      "Cell \u001B[0;32mIn[34], line 10\u001B[0m\n\u001B[1;32m      8\u001B[0m \u001B[38;5;28;01mif\u001B[39;00m trace_progress \u001B[38;5;241m%\u001B[39m \u001B[38;5;241m100\u001B[39m \u001B[38;5;241m==\u001B[39m \u001B[38;5;241m0\u001B[39m:\n\u001B[1;32m      9\u001B[0m   \u001B[38;5;28mprint\u001B[39m(\u001B[38;5;124mf\u001B[39m\u001B[38;5;124m'\u001B[39m\u001B[38;5;124mProcessed \u001B[39m\u001B[38;5;132;01m{\u001B[39;00mtrace_progress\u001B[38;5;132;01m}\u001B[39;00m\u001B[38;5;124m of \u001B[39m\u001B[38;5;132;01m{\u001B[39;00m\u001B[38;5;28mlen\u001B[39m(gesture_json_paths)\u001B[38;5;132;01m}\u001B[39;00m\u001B[38;5;124m (\u001B[39m\u001B[38;5;132;01m{\u001B[39;00mtrace_progress\u001B[38;5;241m/\u001B[39m\u001B[38;5;28mlen\u001B[39m(gesture_json_paths)\u001B[38;5;132;01m:\u001B[39;00m\u001B[38;5;124m.0%\u001B[39m\u001B[38;5;132;01m}\u001B[39;00m\u001B[38;5;124m) traces.\u001B[39m\u001B[38;5;130;01m\\r\u001B[39;00m\u001B[38;5;124m'\u001B[39m, end\u001B[38;5;241m=\u001B[39m\u001B[38;5;124m\"\u001B[39m\u001B[38;5;124m\"\u001B[39m)\n\u001B[0;32m---> 10\u001B[0m gesture_df, trace_path \u001B[38;5;241m=\u001B[39m \u001B[43mget_features_from_gestures\u001B[49m\u001B[43m(\u001B[49m\u001B[43mgesture_path\u001B[49m\u001B[43m)\u001B[49m\n\u001B[1;32m     11\u001B[0m \u001B[38;5;66;03m# Traces with too few frames will be dropped\u001B[39;00m\n\u001B[1;32m     12\u001B[0m \u001B[38;5;28;01mif\u001B[39;00m \u001B[38;5;28mlen\u001B[39m(gesture_df) \u001B[38;5;241m<\u001B[39m training_frames:\n\u001B[1;32m     13\u001B[0m     \u001B[38;5;66;03m#print(f'Gesture (traceID: {trace_id}) has only {len(gesture_df)} of {training_frames} required frames: {gesture_path}')\u001B[39;00m\n",
      "Cell \u001B[0;32mIn[23], line 3\u001B[0m, in \u001B[0;36mget_features_from_gestures\u001B[0;34m(gesture_path)\u001B[0m\n\u001B[1;32m      1\u001B[0m \u001B[38;5;28;01mdef\u001B[39;00m \u001B[38;5;21mget_features_from_gestures\u001B[39m(gesture_path):\n\u001B[1;32m      2\u001B[0m   \u001B[38;5;28;01mwith\u001B[39;00m tf\u001B[38;5;241m.\u001B[39mio\u001B[38;5;241m.\u001B[39mgfile\u001B[38;5;241m.\u001B[39mGFile(gesture_path) \u001B[38;5;28;01mas\u001B[39;00m f:\n\u001B[0;32m----> 3\u001B[0m     gesture_json \u001B[38;5;241m=\u001B[39m \u001B[43mjson\u001B[49m\u001B[38;5;241;43m.\u001B[39;49m\u001B[43mload\u001B[49m\u001B[43m(\u001B[49m\u001B[43mf\u001B[49m\u001B[43m)\u001B[49m\n\u001B[1;32m      4\u001B[0m   trace_path \u001B[38;5;241m=\u001B[39m gesture_path\u001B[38;5;241m.\u001B[39mreplace(\u001B[38;5;124m'\u001B[39m\u001B[38;5;124mgestures.json\u001B[39m\u001B[38;5;124m'\u001B[39m, \u001B[38;5;124m'\u001B[39m\u001B[38;5;124m'\u001B[39m)\n\u001B[1;32m      5\u001B[0m   \u001B[38;5;66;03m# Throw away all gestures except the first\u001B[39;00m\n",
      "File \u001B[0;32m/usr/lib/python3.11/json/__init__.py:293\u001B[0m, in \u001B[0;36mload\u001B[0;34m(fp, cls, object_hook, parse_float, parse_int, parse_constant, object_pairs_hook, **kw)\u001B[0m\n\u001B[1;32m    274\u001B[0m \u001B[38;5;28;01mdef\u001B[39;00m \u001B[38;5;21mload\u001B[39m(fp, \u001B[38;5;241m*\u001B[39m, \u001B[38;5;28mcls\u001B[39m\u001B[38;5;241m=\u001B[39m\u001B[38;5;28;01mNone\u001B[39;00m, object_hook\u001B[38;5;241m=\u001B[39m\u001B[38;5;28;01mNone\u001B[39;00m, parse_float\u001B[38;5;241m=\u001B[39m\u001B[38;5;28;01mNone\u001B[39;00m,\n\u001B[1;32m    275\u001B[0m         parse_int\u001B[38;5;241m=\u001B[39m\u001B[38;5;28;01mNone\u001B[39;00m, parse_constant\u001B[38;5;241m=\u001B[39m\u001B[38;5;28;01mNone\u001B[39;00m, object_pairs_hook\u001B[38;5;241m=\u001B[39m\u001B[38;5;28;01mNone\u001B[39;00m, \u001B[38;5;241m*\u001B[39m\u001B[38;5;241m*\u001B[39mkw):\n\u001B[1;32m    276\u001B[0m \u001B[38;5;250m    \u001B[39m\u001B[38;5;124;03m\"\"\"Deserialize ``fp`` (a ``.read()``-supporting file-like object containing\u001B[39;00m\n\u001B[1;32m    277\u001B[0m \u001B[38;5;124;03m    a JSON document) to a Python object.\u001B[39;00m\n\u001B[1;32m    278\u001B[0m \n\u001B[0;32m   (...)\u001B[0m\n\u001B[1;32m    291\u001B[0m \u001B[38;5;124;03m    kwarg; otherwise ``JSONDecoder`` is used.\u001B[39;00m\n\u001B[1;32m    292\u001B[0m \u001B[38;5;124;03m    \"\"\"\u001B[39;00m\n\u001B[0;32m--> 293\u001B[0m     \u001B[38;5;28;01mreturn\u001B[39;00m loads(\u001B[43mfp\u001B[49m\u001B[38;5;241;43m.\u001B[39;49m\u001B[43mread\u001B[49m\u001B[43m(\u001B[49m\u001B[43m)\u001B[49m,\n\u001B[1;32m    294\u001B[0m         \u001B[38;5;28mcls\u001B[39m\u001B[38;5;241m=\u001B[39m\u001B[38;5;28mcls\u001B[39m, object_hook\u001B[38;5;241m=\u001B[39mobject_hook,\n\u001B[1;32m    295\u001B[0m         parse_float\u001B[38;5;241m=\u001B[39mparse_float, parse_int\u001B[38;5;241m=\u001B[39mparse_int,\n\u001B[1;32m    296\u001B[0m         parse_constant\u001B[38;5;241m=\u001B[39mparse_constant, object_pairs_hook\u001B[38;5;241m=\u001B[39mobject_pairs_hook, \u001B[38;5;241m*\u001B[39m\u001B[38;5;241m*\u001B[39mkw)\n",
      "File \u001B[0;32m~/.venv/lib/python3.11/site-packages/tensorflow/python/lib/io/file_io.py:116\u001B[0m, in \u001B[0;36mFileIO.read\u001B[0;34m(self, n)\u001B[0m\n\u001B[1;32m    104\u001B[0m \u001B[38;5;28;01mdef\u001B[39;00m \u001B[38;5;21mread\u001B[39m(\u001B[38;5;28mself\u001B[39m, n\u001B[38;5;241m=\u001B[39m\u001B[38;5;241m-\u001B[39m\u001B[38;5;241m1\u001B[39m):\n\u001B[1;32m    105\u001B[0m \u001B[38;5;250m  \u001B[39m\u001B[38;5;124;03m\"\"\"Returns the contents of a file as a string.\u001B[39;00m\n\u001B[1;32m    106\u001B[0m \n\u001B[1;32m    107\u001B[0m \u001B[38;5;124;03m  Starts reading from current position in file.\u001B[39;00m\n\u001B[0;32m   (...)\u001B[0m\n\u001B[1;32m    114\u001B[0m \u001B[38;5;124;03m    string if in string (regular) mode.\u001B[39;00m\n\u001B[1;32m    115\u001B[0m \u001B[38;5;124;03m  \"\"\"\u001B[39;00m\n\u001B[0;32m--> 116\u001B[0m   \u001B[38;5;28;43mself\u001B[39;49m\u001B[38;5;241;43m.\u001B[39;49m\u001B[43m_preread_check\u001B[49m\u001B[43m(\u001B[49m\u001B[43m)\u001B[49m\n\u001B[1;32m    117\u001B[0m   \u001B[38;5;28;01mif\u001B[39;00m n \u001B[38;5;241m==\u001B[39m \u001B[38;5;241m-\u001B[39m\u001B[38;5;241m1\u001B[39m:\n\u001B[1;32m    118\u001B[0m     length \u001B[38;5;241m=\u001B[39m \u001B[38;5;28mself\u001B[39m\u001B[38;5;241m.\u001B[39msize() \u001B[38;5;241m-\u001B[39m \u001B[38;5;28mself\u001B[39m\u001B[38;5;241m.\u001B[39mtell()\n",
      "File \u001B[0;32m~/.venv/lib/python3.11/site-packages/tensorflow/python/lib/io/file_io.py:77\u001B[0m, in \u001B[0;36mFileIO._preread_check\u001B[0;34m(self)\u001B[0m\n\u001B[1;32m     74\u001B[0m \u001B[38;5;28;01mif\u001B[39;00m \u001B[38;5;129;01mnot\u001B[39;00m \u001B[38;5;28mself\u001B[39m\u001B[38;5;241m.\u001B[39m_read_check_passed:\n\u001B[1;32m     75\u001B[0m   \u001B[38;5;28;01mraise\u001B[39;00m errors\u001B[38;5;241m.\u001B[39mPermissionDeniedError(\u001B[38;5;28;01mNone\u001B[39;00m, \u001B[38;5;28;01mNone\u001B[39;00m,\n\u001B[1;32m     76\u001B[0m                                      \u001B[38;5;124m\"\u001B[39m\u001B[38;5;124mFile isn\u001B[39m\u001B[38;5;124m'\u001B[39m\u001B[38;5;124mt open for reading\u001B[39m\u001B[38;5;124m\"\u001B[39m)\n\u001B[0;32m---> 77\u001B[0m \u001B[38;5;28mself\u001B[39m\u001B[38;5;241m.\u001B[39m_read_buf \u001B[38;5;241m=\u001B[39m \u001B[43m_pywrap_file_io\u001B[49m\u001B[38;5;241;43m.\u001B[39;49m\u001B[43mBufferedInputStream\u001B[49m\u001B[43m(\u001B[49m\n\u001B[1;32m     78\u001B[0m \u001B[43m    \u001B[49m\u001B[43mcompat\u001B[49m\u001B[38;5;241;43m.\u001B[39;49m\u001B[43mpath_to_str\u001B[49m\u001B[43m(\u001B[49m\u001B[38;5;28;43mself\u001B[39;49m\u001B[38;5;241;43m.\u001B[39;49m\u001B[43m__name\u001B[49m\u001B[43m)\u001B[49m\u001B[43m,\u001B[49m\u001B[43m \u001B[49m\u001B[38;5;241;43m1024\u001B[39;49m\u001B[43m \u001B[49m\u001B[38;5;241;43m*\u001B[39;49m\u001B[43m \u001B[49m\u001B[38;5;241;43m512\u001B[39;49m\u001B[43m)\u001B[49m\n",
      "\u001B[0;31mKeyboardInterrupt\u001B[0m: "
     ]
    }
   ],
   "source": [
    " # Get set of frames for each screen, but don't mix them during training LSTM\n",
    "feature_traces = pd.DataFrame()\n",
    "use_embeddings = True\n",
    "\n",
    "trace_progress = 0\n",
    "for trace_id, gesture_path in enumerate(gesture_json_paths):\n",
    "    trace_progress = trace_progress + 1\n",
    "    if trace_progress % 100 == 0:\n",
    "      print(f'Processed {trace_progress} of {len(gesture_json_paths)} ({trace_progress/len(gesture_json_paths):.0%}) traces.\\r', end=\"\")\n",
    "    gesture_df, trace_path = get_features_from_gestures(gesture_path)\n",
    "    # Traces with too few frames will be dropped\n",
    "    if len(gesture_df) < training_frames:\n",
    "        #print(f'Gesture (traceID: {trace_id}) has only {len(gesture_df)} of {training_frames} required frames: {gesture_path}')\n",
    "        continue\n",
    "    if use_embeddings: # Try without features for now, only gestures\n",
    "        tree_features_df = pd.DataFrame()\n",
    "        for frame_id in gesture_df.index.values:\n",
    "            tree_feature_df = get_features_from_tree(frame_id, trace_path)\n",
    "            if tree_feature_df is None:\n",
    "              print(f'Frame {frame_id} has no feature data')\n",
    "              continue\n",
    "            tree_features_df = pd.concat([tree_features_df, tree_feature_df], axis=0)\n",
    "        trace_features_df = pd.concat([gesture_df, tree_features_df], axis=1)\n",
    "    else:\n",
    "        trace_features_df = gesture_df\n",
    "    trace_features_df['trace_id'] = trace_id\n",
    "    feature_traces = pd.concat([feature_traces, trace_features_df], axis=0)\n",
    "\n",
    "len(feature_traces)\n",
    "        "
   ],
   "metadata": {
    "collapsed": false,
    "ExecuteTime": {
     "end_time": "2023-12-12T10:08:27.170299178Z",
     "start_time": "2023-12-12T10:08:08.480567207Z"
    }
   },
   "id": "288b287670f0c8ba"
  },
  {
   "cell_type": "code",
   "execution_count": null,
   "outputs": [],
   "source": [
    "feature_traces.head()"
   ],
   "metadata": {
    "collapsed": false,
    "ExecuteTime": {
     "start_time": "2023-12-12T10:08:27.171766913Z"
    }
   },
   "id": "f671b3c1a1ee0b7b"
  },
  {
   "cell_type": "code",
   "execution_count": null,
   "outputs": [],
   "source": [
    "feature_traces.describe()"
   ],
   "metadata": {
    "collapsed": false,
    "ExecuteTime": {
     "end_time": "2023-12-12T10:08:27.201171713Z",
     "start_time": "2023-12-12T10:08:27.173728494Z"
    }
   },
   "id": "c6025a04827454b"
  },
  {
   "cell_type": "code",
   "execution_count": null,
   "outputs": [],
   "source": [
    "import math\n",
    "import statistics\n",
    "\n",
    "# Preprocess data\n",
    "feature_traces_preprocessed = feature_traces\n",
    "print(len(feature_traces_preprocessed))\n",
    "feature_traces_preprocessed = feature_traces_preprocessed.dropna()\n",
    "feature_traces_preprocessed = feature_traces_preprocessed[['x','y', 'obj_dom_pos', 'trace_id']]\n",
    "print(len(feature_traces_preprocessed))\n",
    "# for t,v in keys_to_dtype.items():\n",
    "#   # try to convert float to list\n",
    "#   feature_traces_preprocessed[t] = feature_traces_preprocessed[t].apply(lambda x : [np.nan if (y is None or isinstance(y, float)) else y for y in x] if isinstance(x, list) else [x])\n",
    "# \n",
    "# #lens of list\n",
    "# print(feature_traces_preprocessed.isna().sum())\n",
    "# feature_traces_preprocessed\n",
    "\n",
    "# List of median value count for each feature.\n",
    "feat_median_array_length = {}\n",
    "\n",
    "# Check if feature is an array\n",
    "isFeatList = (feature_traces_preprocessed.map(type) == list).all(axis='rows')\n",
    "max_dom_pos = 500 # see screen2words\n",
    "for feat_name, isList in isFeatList.items():\n",
    "  if isList:\n",
    "    median_value = statistics.median(feature_traces_preprocessed[feat_name].map(len))\n",
    "    feat_median_array_length[feat_name] = median_value\n",
    "    print(f'Preprocess \"{feat_name}\" with median array length of {median_value}')\n",
    "    # Remove all NaN\n",
    "    feature_traces_preprocessed[feat_name] = feature_traces_preprocessed[feat_name].map(lambda row: [x for x in row if not math.isnan(x)])\n",
    "    # Pad all values to same length\n",
    "    feat_pad = keras.utils.pad_sequences(feature_traces_preprocessed[feat_name], value=0, padding='post', maxlen=max_dom_pos)\n",
    "    print(f'Feature \"{feat_name}\" has max array length of {len(feat_pad[0])}')\n",
    "    feature_traces_preprocessed[feat_name] = feat_pad.tolist()\n",
    "\n",
    "feat_median_array_length"
   ],
   "metadata": {
    "collapsed": false,
    "ExecuteTime": {
     "start_time": "2023-12-12T10:08:27.175746991Z"
    }
   },
   "id": "96079ecf4c9fe3a2"
  },
  {
   "cell_type": "code",
   "execution_count": null,
   "outputs": [],
   "source": [
    "# feature_traces_flatten = feature_traces_preprocessed\n",
    "# for feat_name, isList in isFeatList.items():\n",
    "#   if isList:\n",
    "#     max_len = len(feature_traces_flatten[feat_name])\n",
    "#     feature_traces_flatten = feature_traces_flatten.drop(feat_name, axis= 1)\n",
    "#     feature_traces_flatten[[f'{feat_name}_{i}' for i in max_len]] = pd.DataFrame(feature_traces_preprocessed[feat_name].tolist(), index= feature_traces_preprocessed.index)\n",
    "#     #feature_traces_preprocessed = feature_traces_preprocessed + feature_traces_preprocessed.teams.apply(pd.Series)\n",
    "#     #df3.columns = ['team1', 'team2']"
   ],
   "metadata": {
    "collapsed": false,
    "ExecuteTime": {
     "start_time": "2023-12-12T10:08:27.205443852Z"
    }
   },
   "id": "9386cd8d843f63b6"
  },
  {
   "cell_type": "code",
   "execution_count": null,
   "outputs": [],
   "source": [
    "feature_traces_preprocessed.info()"
   ],
   "metadata": {
    "collapsed": false,
    "ExecuteTime": {
     "start_time": "2023-12-12T10:08:27.205635422Z"
    }
   },
   "id": "4518fcc7b8bbdd90"
  },
  {
   "cell_type": "code",
   "execution_count": null,
   "outputs": [],
   "source": [
    "# The data is split by trace and not by frame windows as otherwise the model would be trained with similar apps before\n",
    "feature_traces_list = [pd.DataFrame(x[1]).drop('trace_id', axis=1) for x in feature_traces_preprocessed.groupby('trace_id')]"
   ],
   "metadata": {
    "collapsed": false,
    "ExecuteTime": {
     "start_time": "2023-12-12T10:08:27.205745181Z"
    }
   },
   "id": "2e5c1681d1fcf7f2"
  },
  {
   "cell_type": "code",
   "execution_count": null,
   "outputs": [],
   "source": [
    "feature_traces_list[0]\n",
    "# len(feature_traces_preprocessed[0].iloc[0]['obj_dom_pos'])"
   ],
   "metadata": {
    "collapsed": false,
    "ExecuteTime": {
     "start_time": "2023-12-12T10:08:27.205840879Z"
    }
   },
   "id": "1d11d0c674f86a3c"
  },
  {
   "cell_type": "code",
   "execution_count": 22,
   "outputs": [],
   "source": [
    "# padding_info = [('screen_caption_token_ids', [1, None], 0),\n",
    "#                   ('appdesc_token_id', [1, None], 0),\n",
    "#                   ('label_flag', [None], 0),\n",
    "#                   ('obj_pixels', [None, 64, 64, 1], 0.0),\n",
    "#                   ('obj_type', [None], -1), ('obj_clickable', [None], 0),\n",
    "#                   ('obj_screen_pos', [None, 4], 0),\n",
    "#                   ('obj_dom_pos', [None, 3], 0), ('obj_visible', [None], 0),\n",
    "#                   ('attention_boxes', [1, 5, 4], 0.0),\n",
    "#                   ('attended_objects', [1, None], 0),\n",
    "#                   ('references', [None], tf.cast('', tf.string))]\n",
    "# padded_shapes = {}\n",
    "# padded_values = {}\n",
    "# for (key, padding_shape, padding_value) in padding_info:\n",
    "#   padded_shapes[key] = padding_shape\n",
    "#   padded_values[key] = padding_value"
   ],
   "metadata": {
    "collapsed": false,
    "ExecuteTime": {
     "end_time": "2023-12-11T21:12:52.739816745Z",
     "start_time": "2023-12-11T21:12:52.657648046Z"
    }
   },
   "id": "df026ca56f4c860"
  },
  {
   "cell_type": "code",
   "execution_count": 23,
   "outputs": [],
   "source": [
    "# tmp = pd.DataFrame(columns=['x','y', 'obj_dom_pos'], data=[[0.5,0.5,[1,2]],[0.5,0.5,[1,2,3]]], index=[1,2])\n",
    "# tmp['obj_dom_pos'].to_dict()\n",
    "\n",
    "\n",
    "# data = tf.data.Dataset.from_generator(lambda: tmp['obj_dom_pos'], output_signature=(\n",
    "#   tf.TensorSpec(shape=(), dtype=tf.string),\n",
    "#   tf.RaggedTensorSpec(shape=(), dtype=tf.int32),\n",
    "# ))\n"
   ],
   "metadata": {
    "collapsed": false,
    "ExecuteTime": {
     "end_time": "2023-12-11T21:12:52.741693653Z",
     "start_time": "2023-12-11T21:12:52.657911463Z"
    }
   },
   "id": "1cef4282ab628205"
  },
  {
   "cell_type": "code",
   "execution_count": 24,
   "outputs": [],
   "source": [
    "\n",
    "\n",
    "# dataset = tf.data.Dataset.from_tensor_slices(data)\n",
    "# dataset = dataset.map(lambda x: x.to_tensor()) # convert ragged -> uniform\n",
    "# \n",
    "# #data = tmp['obj_dom_pos']\n",
    "# batch_size = 64\n",
    "# data = data.padded_batch(\n",
    "#   batch_size, padded_shapes=padded_shapes, padding_values=padded_values)\n",
    "# data = data.prefetch(buffer_size=1024)\n",
    "# data\n",
    "\n",
    "#feature_traces_list = [tmp,tmp,tmp,tmp,tmp,tmp,tmp,tmp]"
   ],
   "metadata": {
    "collapsed": false,
    "ExecuteTime": {
     "end_time": "2023-12-11T21:12:52.747074355Z",
     "start_time": "2023-12-11T21:12:52.658141017Z"
    }
   },
   "id": "ac203b0a1db96199"
  },
  {
   "cell_type": "code",
   "execution_count": 25,
   "outputs": [],
   "source": [
    "test_size = len(feature_traces_list) // 4\n",
    "test_ind = len(feature_traces_list) - test_size\n",
    "\n",
    "train_traces = feature_traces_list[:test_ind]\n",
    "test_traces = feature_traces_list[test_ind:]"
   ],
   "metadata": {
    "collapsed": false,
    "ExecuteTime": {
     "end_time": "2023-12-11T21:12:52.748883016Z",
     "start_time": "2023-12-11T21:12:52.658304958Z"
    }
   },
   "id": "68dc568c059d2160"
  },
  {
   "cell_type": "code",
   "execution_count": 26,
   "outputs": [],
   "source": [
    "#df['obj_dom_pos'].dtype"
   ],
   "metadata": {
    "collapsed": false,
    "ExecuteTime": {
     "end_time": "2023-12-11T21:12:52.819906097Z",
     "start_time": "2023-12-11T21:12:52.701577652Z"
    }
   },
   "id": "e7971c3e9fc1ce6c"
  },
  {
   "cell_type": "code",
   "execution_count": 27,
   "outputs": [],
   "source": [
    "from keras.layers import Normalization\n",
    "\n",
    "isScale = False\n",
    "if isScale:\n",
    "  scaler = Normalization()\n",
    "  scaler_invert = Normalization(invert=True)\n",
    "  \n",
    "  print('Adapt scaler')\n",
    "  for train in train_traces:\n",
    "    scaler.adapt(train[['x','y']])\n",
    "    scaler_invert.adapt(train[['x','y']])\n",
    "  \n",
    "  print('Scale train data')\n",
    "  scaled_train_traces = train_traces\n",
    "  for train in train_traces[['x','y']]:\n",
    "    scaled_train_traces[['x','y']] = scaler(train)\n",
    "  \n",
    "  print('Scale test data')\n",
    "  scaled_test_traces = test_traces\n",
    "  for test in test_traces[['x','y']]:\n",
    "    scaled_test_traces[['x','y']] = scaler(test)\n",
    "  \n",
    "  print(scaler_invert(scaled_train_traces[0]))\n",
    "else:\n",
    "  scaled_train_traces = train_traces\n",
    "  scaled_test_traces = test_traces\n",
    "  "
   ],
   "metadata": {
    "collapsed": false,
    "ExecuteTime": {
     "end_time": "2023-12-11T21:12:52.823217945Z",
     "start_time": "2023-12-11T21:12:52.701881999Z"
    }
   },
   "id": "3ef65237c3f7c11e"
  },
  {
   "cell_type": "code",
   "execution_count": 28,
   "outputs": [
    {
     "data": {
      "text/plain": "            x         y                                        obj_dom_pos\n370  0.825156  0.351732  [50, 202, 11, 154, 98, 11, 156, 96, 11, 209, 4...\n488  0.373016  0.224026  [50, 202, 11, 154, 98, 11, 156, 96, 11, 209, 4...\n526  0.563492  0.898268  [50, 202, 11, 154, 98, 11, 156, 96, 11, 209, 4...\n614  0.169072  0.336580  [50, 202, 11, 154, 98, 11, 156, 96, 11, 209, 4...\n642  0.346080  0.136364  [1, 1, 143, 2, 2, 142, 2, 142, 2, 2, 143, 1, 3...\n683  0.413420  0.257576  [152, 75, 10, 153, 74, 10, 154, 73, 10, 158, 6...\n688  0.090188  0.070346  [50, 202, 11, 154, 98, 11, 156, 96, 11, 209, 4...\n700  0.257576  0.786797  [50, 202, 11, 154, 98, 11, 156, 96, 11, 209, 4...\n709  0.078644  0.900433  [13, 230, 11, 22, 221, 11, 28, 215, 11, 50, 19...\n736  0.159452  0.980519  [1, 1, 130, 2, 2, 129, 3, 3, 128, 3, 130, 1, 4...",
      "text/html": "<div>\n<style scoped>\n    .dataframe tbody tr th:only-of-type {\n        vertical-align: middle;\n    }\n\n    .dataframe tbody tr th {\n        vertical-align: top;\n    }\n\n    .dataframe thead th {\n        text-align: right;\n    }\n</style>\n<table border=\"1\" class=\"dataframe\">\n  <thead>\n    <tr style=\"text-align: right;\">\n      <th></th>\n      <th>x</th>\n      <th>y</th>\n      <th>obj_dom_pos</th>\n    </tr>\n  </thead>\n  <tbody>\n    <tr>\n      <th>370</th>\n      <td>0.825156</td>\n      <td>0.351732</td>\n      <td>[50, 202, 11, 154, 98, 11, 156, 96, 11, 209, 4...</td>\n    </tr>\n    <tr>\n      <th>488</th>\n      <td>0.373016</td>\n      <td>0.224026</td>\n      <td>[50, 202, 11, 154, 98, 11, 156, 96, 11, 209, 4...</td>\n    </tr>\n    <tr>\n      <th>526</th>\n      <td>0.563492</td>\n      <td>0.898268</td>\n      <td>[50, 202, 11, 154, 98, 11, 156, 96, 11, 209, 4...</td>\n    </tr>\n    <tr>\n      <th>614</th>\n      <td>0.169072</td>\n      <td>0.336580</td>\n      <td>[50, 202, 11, 154, 98, 11, 156, 96, 11, 209, 4...</td>\n    </tr>\n    <tr>\n      <th>642</th>\n      <td>0.346080</td>\n      <td>0.136364</td>\n      <td>[1, 1, 143, 2, 2, 142, 2, 142, 2, 2, 143, 1, 3...</td>\n    </tr>\n    <tr>\n      <th>683</th>\n      <td>0.413420</td>\n      <td>0.257576</td>\n      <td>[152, 75, 10, 153, 74, 10, 154, 73, 10, 158, 6...</td>\n    </tr>\n    <tr>\n      <th>688</th>\n      <td>0.090188</td>\n      <td>0.070346</td>\n      <td>[50, 202, 11, 154, 98, 11, 156, 96, 11, 209, 4...</td>\n    </tr>\n    <tr>\n      <th>700</th>\n      <td>0.257576</td>\n      <td>0.786797</td>\n      <td>[50, 202, 11, 154, 98, 11, 156, 96, 11, 209, 4...</td>\n    </tr>\n    <tr>\n      <th>709</th>\n      <td>0.078644</td>\n      <td>0.900433</td>\n      <td>[13, 230, 11, 22, 221, 11, 28, 215, 11, 50, 19...</td>\n    </tr>\n    <tr>\n      <th>736</th>\n      <td>0.159452</td>\n      <td>0.980519</td>\n      <td>[1, 1, 130, 2, 2, 129, 3, 3, 128, 3, 130, 1, 4...</td>\n    </tr>\n  </tbody>\n</table>\n</div>"
     },
     "execution_count": 28,
     "metadata": {},
     "output_type": "execute_result"
    }
   ],
   "source": [
    "scaled_train_traces[0]\n"
   ],
   "metadata": {
    "collapsed": false,
    "ExecuteTime": {
     "end_time": "2023-12-11T21:12:52.824078131Z",
     "start_time": "2023-12-11T21:12:52.702051050Z"
    }
   },
   "id": "95f3bafe5ec03b33"
  },
  {
   "cell_type": "code",
   "execution_count": null,
   "outputs": [],
   "source": [
    "# from tensorflow.keras.preprocessing.sequence import TimeseriesGenerator\n",
    "# # Replace by timeseries_dataset_from_array\n",
    "# generator = TimeseriesGenerator(scaled_train, scaled_train, length=length, batch_size=1)\n",
    "# validation_generator = TimeseriesGenerator(scaled_test,scaled_test, length=length, batch_size=1)\n",
    "# len(generator)"
   ],
   "metadata": {
    "collapsed": false,
    "ExecuteTime": {
     "start_time": "2023-12-10T20:17:48.189670747Z"
    }
   },
   "id": "b6de01b5523b9891"
  },
  {
   "cell_type": "code",
   "execution_count": null,
   "outputs": [],
   "source": [
    "# X,y = generator[0]\n",
    "# X"
   ],
   "metadata": {
    "collapsed": false,
    "ExecuteTime": {
     "start_time": "2023-12-10T20:17:48.189731144Z"
    }
   },
   "id": "bb6fb4ed4cb81857"
  },
  {
   "cell_type": "code",
   "execution_count": null,
   "outputs": [],
   "source": [
    "#y"
   ],
   "metadata": {
    "collapsed": false,
    "ExecuteTime": {
     "start_time": "2023-12-10T20:17:48.189791101Z"
    }
   },
   "id": "7b4c73197d04e7b"
  },
  {
   "cell_type": "code",
   "execution_count": 70,
   "outputs": [
    {
     "data": {
      "text/plain": "[<_ZipDataset element_spec=(TensorSpec(shape=(2,), dtype=tf.float32, name=None), (TensorSpec(shape=(), dtype=tf.float32, name=None), TensorSpec(shape=(8,), dtype=tf.int32, name=None)))>,\n <_ZipDataset element_spec=(TensorSpec(shape=(2,), dtype=tf.float32, name=None), (TensorSpec(shape=(), dtype=tf.float32, name=None), TensorSpec(shape=(8,), dtype=tf.int32, name=None)))>,\n <_ZipDataset element_spec=(TensorSpec(shape=(2,), dtype=tf.float32, name=None), (TensorSpec(shape=(), dtype=tf.float32, name=None), TensorSpec(shape=(8,), dtype=tf.int32, name=None)))>]"
     },
     "execution_count": 70,
     "metadata": {},
     "output_type": "execute_result"
    }
   ],
   "source": [
    "def create_fake_dataset(length=10):\n",
    "  # return [\n",
    "  #   {\n",
    "  #     'x': np.random.uniform(0, 1),\n",
    "  #     'y': np.random.uniform(0, 1),\n",
    "  #     #  'obj_dom_pos': np.random.randint(0, 250, size=length),\n",
    "  #     # 'x': [np.random.uniform(0, 1, size=length) for i in range(0, length)],\n",
    "  #     # 'y': [np.random.uniform(0, 1, size=length) for i in range(0, length)],\n",
    "  #     'obj_dom_pos': tuple([np.random.randint(0, 250, size=5)]),\n",
    "  #   } for i in range(0, length)\n",
    "  # ]\n",
    "  # my_dict = {\n",
    "  #   'x': np.random.uniform(0, 1, size=length),\n",
    "  #   'y': np.random.uniform(0, 1, size=length),\n",
    "  #   #  'obj_dom_pos': np.random.randint(0, 250, size=length),\n",
    "  #   # 'x': [np.random.uniform(0, 1, size=length) for i in range(0, length)],\n",
    "  #   # 'y': [np.random.uniform(0, 1, size=length) for i in range(0, length)],\n",
    "  #   'obj_dom_pos': tuple([np.random.randint(0, 250, size=5) for i in range(0, length)]),\n",
    "  # }\n",
    "  # return my_dict\n",
    "  # df = pd.DataFrame(my_dict)\n",
    "  # return df\n",
    "  coords = tf.data.Dataset.from_tensor_slices(tf.random.uniform([length, 2]))\n",
    "  obj_dom_pos = tf.data.Dataset.from_tensor_slices((\n",
    "    tf.random.uniform([length]),\n",
    "    tf.random.uniform([length, 8], maxval=250, dtype=tf.int32)\n",
    "  ))\n",
    "  #return obj_dom_pos\n",
    "  return tf.data.Dataset.zip((coords, obj_dom_pos))\n",
    "\n",
    "\n",
    "scaled_train_traces = [create_fake_dataset(30) for i in range(0, 3)]\n",
    "scaled_test_traces = [create_fake_dataset(20) for i in range(0, 2)]\n",
    "#scaled_train_traces = scaled_train_traces.reshape((scaled_train_traces.shape[0], scaled_train_traces.shape[1], 1))\n",
    "scaled_train_traces"
   ],
   "metadata": {
    "collapsed": false,
    "ExecuteTime": {
     "end_time": "2023-12-12T11:16:38.084111267Z",
     "start_time": "2023-12-12T11:16:38.028148269Z"
    }
   },
   "id": "9c166b3d92f46dfd"
  },
  {
   "cell_type": "code",
   "execution_count": 71,
   "outputs": [],
   "source": [
    "def timeseries_dataset_from_array(\n",
    "        data,\n",
    "        targets,\n",
    "        sequence_length,\n",
    "        sequence_stride=1,\n",
    "        sampling_rate=1,\n",
    "        batch_size=128,\n",
    "        shuffle=False,\n",
    "        seed=None,\n",
    "        start_index=None,\n",
    "        end_index=None,\n",
    "):\n",
    "  if start_index:\n",
    "    if start_index < 0:\n",
    "      raise ValueError(\n",
    "        \"`start_index` must be 0 or greater. Received: \"\n",
    "        f\"start_index={start_index}\"\n",
    "      )\n",
    "    if start_index >= len(data):\n",
    "      raise ValueError(\n",
    "        \"`start_index` must be lower than the length of the \"\n",
    "        f\"data. Received: start_index={start_index}, for data \"\n",
    "        f\"of length {len(data)}\"\n",
    "      )\n",
    "  if end_index:\n",
    "    if start_index and end_index <= start_index:\n",
    "      raise ValueError(\n",
    "        \"`end_index` must be higher than `start_index`. \"\n",
    "        f\"Received: start_index={start_index}, and \"\n",
    "        f\"end_index={end_index} \"\n",
    "      )\n",
    "    if end_index >= len(data):\n",
    "      raise ValueError(\n",
    "        \"`end_index` must be lower than the length of the \"\n",
    "        f\"data. Received: end_index={end_index}, for data of \"\n",
    "        f\"length {len(data)}\"\n",
    "      )\n",
    "    if end_index <= 0:\n",
    "      raise ValueError(\n",
    "        \"`end_index` must be higher than 0. \"\n",
    "        f\"Received: end_index={end_index}\"\n",
    "      )\n",
    "\n",
    "  # Validate strides\n",
    "  if sampling_rate <= 0:\n",
    "    raise ValueError(\n",
    "      \"`sampling_rate` must be higher than 0. Received: \"\n",
    "      f\"sampling_rate={sampling_rate}\"\n",
    "    )\n",
    "  if sampling_rate >= len(data):\n",
    "    raise ValueError(\n",
    "      \"`sampling_rate` must be lower than the length of the \"\n",
    "      f\"data. Received: sampling_rate={sampling_rate}, for data \"\n",
    "      f\"of length {len(data)}\"\n",
    "    )\n",
    "  if sequence_stride <= 0:\n",
    "    raise ValueError(\n",
    "      \"`sequence_stride` must be higher than 0. Received: \"\n",
    "      f\"sequence_stride={sequence_stride}\"\n",
    "    )\n",
    "  if sequence_stride >= len(data):\n",
    "    raise ValueError(\n",
    "      \"`sequence_stride` must be lower than the length of the \"\n",
    "      f\"data. Received: sequence_stride={sequence_stride}, for \"\n",
    "      f\"data of length {len(data)}\"\n",
    "    )\n",
    "\n",
    "  if start_index is None:\n",
    "    start_index = 0\n",
    "  if end_index is None:\n",
    "    end_index = len(data)\n",
    "\n",
    "  # Determine the lowest dtype to store start positions (to lower memory\n",
    "  # usage).\n",
    "  num_seqs = end_index - start_index - (sequence_length - 1) * sampling_rate\n",
    "  if targets is not None:\n",
    "    num_seqs = min(num_seqs, len(targets))\n",
    "  if num_seqs < 2147483647:\n",
    "    index_dtype = \"int32\"\n",
    "  else:\n",
    "    index_dtype = \"int64\"\n",
    "\n",
    "  # Generate start positions\n",
    "  start_positions = np.arange(0, num_seqs, sequence_stride, dtype=index_dtype)\n",
    "  if shuffle:\n",
    "    if seed is None:\n",
    "      seed = np.random.randint(1e6)\n",
    "    rng = np.random.RandomState(seed)\n",
    "    rng.shuffle(start_positions)\n",
    "\n",
    "  sequence_length = tf.cast(sequence_length, dtype=index_dtype)\n",
    "  sampling_rate = tf.cast(sampling_rate, dtype=index_dtype)\n",
    "\n",
    "  positions_ds = tf.data.Dataset.from_tensors(start_positions).repeat()\n",
    "\n",
    "  # For each initial window position, generates indices of the window elements\n",
    "  indices = tf.data.Dataset.zip(\n",
    "    (tf.data.Dataset.range(len(start_positions)), positions_ds)\n",
    "  ).map(\n",
    "    lambda i, positions: tf.range(\n",
    "      positions[i],\n",
    "      positions[i] + sequence_length * sampling_rate,\n",
    "      sampling_rate,\n",
    "    ),\n",
    "    num_parallel_calls=tf.data.AUTOTUNE,\n",
    "  )\n",
    "\n",
    "  dataset = sequences_from_indices(data, indices, start_index, end_index)\n",
    "  if targets is not None:\n",
    "    indices = tf.data.Dataset.zip(\n",
    "      (tf.data.Dataset.range(len(start_positions)), positions_ds)\n",
    "    ).map(\n",
    "      lambda i, positions: positions[i],\n",
    "      num_parallel_calls=tf.data.AUTOTUNE,\n",
    "    )\n",
    "    target_ds = sequences_from_indices(\n",
    "      targets, indices, start_index, end_index\n",
    "    )\n",
    "    dataset = tf.data.Dataset.zip((dataset, target_ds))\n",
    "  dataset = dataset.prefetch(tf.data.AUTOTUNE)\n",
    "  if batch_size is not None:\n",
    "    if shuffle:\n",
    "      # Shuffle locally at each iteration\n",
    "      dataset = dataset.shuffle(buffer_size=batch_size * 8, seed=seed)\n",
    "    dataset = dataset.batch(batch_size)\n",
    "  else:\n",
    "    if shuffle:\n",
    "      dataset = dataset.shuffle(buffer_size=1024, seed=seed)\n",
    "  return dataset\n",
    "\n",
    "def sequences_from_indices(array, indices_ds, start_index, end_index):\n",
    "  if isinstance(array, tf.data.Dataset):\n",
    "    dataset = array.take(end_index)\n",
    "    dataset = dataset.skip(start_index)\n",
    "  else:\n",
    "    dataset = tf.data.Dataset.from_tensors(array[start_index:end_index])\n",
    "  dataset = tf.data.Dataset.zip((dataset.repeat(), indices_ds)).map(\n",
    "    lambda steps, inds: tf.gather(steps, inds),\n",
    "    num_parallel_calls=tf.data.AUTOTUNE,\n",
    "  )\n",
    "  return dataset"
   ],
   "metadata": {
    "collapsed": false,
    "ExecuteTime": {
     "end_time": "2023-12-12T11:16:41.507971899Z",
     "start_time": "2023-12-12T11:16:41.489505099Z"
    }
   },
   "id": "f15aea14dcc63ba5"
  },
  {
   "cell_type": "code",
   "execution_count": 73,
   "outputs": [
    {
     "ename": "TypeError",
     "evalue": "in user code:\n\n    File \"/tmp/ipykernel_22097/4068012706.py\", line 138, in None  *\n        lambda steps, inds: tf.gather(steps, inds)\n\n    TypeError: Cannot convert a list containing a tensor of dtype <dtype: 'int32'> to <dtype: 'float32'> (Tensor is: <tf.Tensor 'args_2:0' shape=(8,) dtype=int32>)\n",
     "output_type": "error",
     "traceback": [
      "\u001B[0;31m---------------------------------------------------------------------------\u001B[0m",
      "\u001B[0;31mTypeError\u001B[0m                                 Traceback (most recent call last)",
      "Cell \u001B[0;32mIn[73], line 22\u001B[0m\n\u001B[1;32m     19\u001B[0m   ds \u001B[38;5;241m=\u001B[39m ds\u001B[38;5;241m.\u001B[39mmap(split_window)\n\u001B[1;32m     20\u001B[0m   \u001B[38;5;28;01mreturn\u001B[39;00m ds\n\u001B[0;32m---> 22\u001B[0m train_dataset_list \u001B[38;5;241m=\u001B[39m \u001B[38;5;28;43mlist\u001B[39;49m\u001B[43m(\u001B[49m\u001B[38;5;28;43mmap\u001B[39;49m\u001B[43m(\u001B[49m\u001B[43mmake_dataset\u001B[49m\u001B[43m,\u001B[49m\u001B[43mscaled_train_traces\u001B[49m\u001B[43m)\u001B[49m\u001B[43m)\u001B[49m\n\u001B[1;32m     23\u001B[0m dataset \u001B[38;5;241m=\u001B[39m functools\u001B[38;5;241m.\u001B[39mreduce(\u001B[38;5;28;01mlambda\u001B[39;00m a, b: a\u001B[38;5;241m.\u001B[39mconcatenate(b), train_dataset_list)\n\u001B[1;32m     25\u001B[0m test_dataset_list \u001B[38;5;241m=\u001B[39m \u001B[38;5;28mlist\u001B[39m(\u001B[38;5;28mmap\u001B[39m(make_dataset,scaled_test_traces))\n",
      "Cell \u001B[0;32mIn[73], line 9\u001B[0m, in \u001B[0;36mmake_dataset\u001B[0;34m(data)\u001B[0m\n\u001B[1;32m      8\u001B[0m \u001B[38;5;28;01mdef\u001B[39;00m \u001B[38;5;21mmake_dataset\u001B[39m(data):\n\u001B[0;32m----> 9\u001B[0m   ds \u001B[38;5;241m=\u001B[39m \u001B[43mtimeseries_dataset_from_array\u001B[49m\u001B[43m(\u001B[49m\n\u001B[1;32m     10\u001B[0m \u001B[43m    \u001B[49m\u001B[43mdata\u001B[49m\u001B[38;5;241;43m=\u001B[39;49m\u001B[43mdata\u001B[49m\u001B[43m,\u001B[49m\n\u001B[1;32m     11\u001B[0m \u001B[43m    \u001B[49m\u001B[43mtargets\u001B[49m\u001B[38;5;241;43m=\u001B[39;49m\u001B[38;5;28;43;01mNone\u001B[39;49;00m\u001B[43m,\u001B[49m\n\u001B[1;32m     12\u001B[0m \u001B[43m    \u001B[49m\u001B[43msequence_length\u001B[49m\u001B[38;5;241;43m=\u001B[39;49m\u001B[43mlength\u001B[49m\u001B[43m \u001B[49m\u001B[38;5;241;43m+\u001B[39;49m\u001B[43m \u001B[49m\u001B[43mlabel_length\u001B[49m\u001B[43m,\u001B[49m\n\u001B[1;32m     13\u001B[0m \u001B[43m    \u001B[49m\u001B[43msequence_stride\u001B[49m\u001B[38;5;241;43m=\u001B[39;49m\u001B[38;5;241;43m1\u001B[39;49m\u001B[43m,\u001B[49m\n\u001B[1;32m     14\u001B[0m \u001B[43m    \u001B[49m\u001B[43mshuffle\u001B[49m\u001B[38;5;241;43m=\u001B[39;49m\u001B[38;5;28;43;01mFalse\u001B[39;49;00m\u001B[43m,\u001B[49m\u001B[43m \u001B[49m\u001B[38;5;66;43;03m# TODO: Shuffle if possible\u001B[39;49;00m\n\u001B[1;32m     15\u001B[0m \u001B[43m    \u001B[49m\u001B[43mbatch_size\u001B[49m\u001B[38;5;241;43m=\u001B[39;49m\u001B[38;5;241;43m32\u001B[39;49m\u001B[43m,\u001B[49m\n\u001B[1;32m     16\u001B[0m \u001B[43m    \u001B[49m\u001B[38;5;66;43;03m# sampling_rate=1,\u001B[39;49;00m\n\u001B[1;32m     17\u001B[0m \u001B[43m  \u001B[49m\u001B[43m)\u001B[49m\n\u001B[1;32m     19\u001B[0m   ds \u001B[38;5;241m=\u001B[39m ds\u001B[38;5;241m.\u001B[39mmap(split_window)\n\u001B[1;32m     20\u001B[0m   \u001B[38;5;28;01mreturn\u001B[39;00m ds\n",
      "Cell \u001B[0;32mIn[71], line 108\u001B[0m, in \u001B[0;36mtimeseries_dataset_from_array\u001B[0;34m(data, targets, sequence_length, sequence_stride, sampling_rate, batch_size, shuffle, seed, start_index, end_index)\u001B[0m\n\u001B[1;32m     96\u001B[0m \u001B[38;5;66;03m# For each initial window position, generates indices of the window elements\u001B[39;00m\n\u001B[1;32m     97\u001B[0m indices \u001B[38;5;241m=\u001B[39m tf\u001B[38;5;241m.\u001B[39mdata\u001B[38;5;241m.\u001B[39mDataset\u001B[38;5;241m.\u001B[39mzip(\n\u001B[1;32m     98\u001B[0m   (tf\u001B[38;5;241m.\u001B[39mdata\u001B[38;5;241m.\u001B[39mDataset\u001B[38;5;241m.\u001B[39mrange(\u001B[38;5;28mlen\u001B[39m(start_positions)), positions_ds)\n\u001B[1;32m     99\u001B[0m )\u001B[38;5;241m.\u001B[39mmap(\n\u001B[0;32m   (...)\u001B[0m\n\u001B[1;32m    105\u001B[0m   num_parallel_calls\u001B[38;5;241m=\u001B[39mtf\u001B[38;5;241m.\u001B[39mdata\u001B[38;5;241m.\u001B[39mAUTOTUNE,\n\u001B[1;32m    106\u001B[0m )\n\u001B[0;32m--> 108\u001B[0m dataset \u001B[38;5;241m=\u001B[39m \u001B[43msequences_from_indices\u001B[49m\u001B[43m(\u001B[49m\u001B[43mdata\u001B[49m\u001B[43m,\u001B[49m\u001B[43m \u001B[49m\u001B[43mindices\u001B[49m\u001B[43m,\u001B[49m\u001B[43m \u001B[49m\u001B[43mstart_index\u001B[49m\u001B[43m,\u001B[49m\u001B[43m \u001B[49m\u001B[43mend_index\u001B[49m\u001B[43m)\u001B[49m\n\u001B[1;32m    109\u001B[0m \u001B[38;5;28;01mif\u001B[39;00m targets \u001B[38;5;129;01mis\u001B[39;00m \u001B[38;5;129;01mnot\u001B[39;00m \u001B[38;5;28;01mNone\u001B[39;00m:\n\u001B[1;32m    110\u001B[0m   indices \u001B[38;5;241m=\u001B[39m tf\u001B[38;5;241m.\u001B[39mdata\u001B[38;5;241m.\u001B[39mDataset\u001B[38;5;241m.\u001B[39mzip(\n\u001B[1;32m    111\u001B[0m     (tf\u001B[38;5;241m.\u001B[39mdata\u001B[38;5;241m.\u001B[39mDataset\u001B[38;5;241m.\u001B[39mrange(\u001B[38;5;28mlen\u001B[39m(start_positions)), positions_ds)\n\u001B[1;32m    112\u001B[0m   )\u001B[38;5;241m.\u001B[39mmap(\n\u001B[1;32m    113\u001B[0m     \u001B[38;5;28;01mlambda\u001B[39;00m i, positions: positions[i],\n\u001B[1;32m    114\u001B[0m     num_parallel_calls\u001B[38;5;241m=\u001B[39mtf\u001B[38;5;241m.\u001B[39mdata\u001B[38;5;241m.\u001B[39mAUTOTUNE,\n\u001B[1;32m    115\u001B[0m   )\n",
      "Cell \u001B[0;32mIn[71], line 137\u001B[0m, in \u001B[0;36msequences_from_indices\u001B[0;34m(array, indices_ds, start_index, end_index)\u001B[0m\n\u001B[1;32m    135\u001B[0m \u001B[38;5;28;01melse\u001B[39;00m:\n\u001B[1;32m    136\u001B[0m   dataset \u001B[38;5;241m=\u001B[39m tf\u001B[38;5;241m.\u001B[39mdata\u001B[38;5;241m.\u001B[39mDataset\u001B[38;5;241m.\u001B[39mfrom_tensors(array[start_index:end_index])\n\u001B[0;32m--> 137\u001B[0m dataset \u001B[38;5;241m=\u001B[39m \u001B[43mtf\u001B[49m\u001B[38;5;241;43m.\u001B[39;49m\u001B[43mdata\u001B[49m\u001B[38;5;241;43m.\u001B[39;49m\u001B[43mDataset\u001B[49m\u001B[38;5;241;43m.\u001B[39;49m\u001B[43mzip\u001B[49m\u001B[43m(\u001B[49m\u001B[43m(\u001B[49m\u001B[43mdataset\u001B[49m\u001B[38;5;241;43m.\u001B[39;49m\u001B[43mrepeat\u001B[49m\u001B[43m(\u001B[49m\u001B[43m)\u001B[49m\u001B[43m,\u001B[49m\u001B[43m \u001B[49m\u001B[43mindices_ds\u001B[49m\u001B[43m)\u001B[49m\u001B[43m)\u001B[49m\u001B[38;5;241;43m.\u001B[39;49m\u001B[43mmap\u001B[49m\u001B[43m(\u001B[49m\n\u001B[1;32m    138\u001B[0m \u001B[43m  \u001B[49m\u001B[38;5;28;43;01mlambda\u001B[39;49;00m\u001B[43m \u001B[49m\u001B[43msteps\u001B[49m\u001B[43m,\u001B[49m\u001B[43m \u001B[49m\u001B[43minds\u001B[49m\u001B[43m:\u001B[49m\u001B[43m \u001B[49m\u001B[43mtf\u001B[49m\u001B[38;5;241;43m.\u001B[39;49m\u001B[43mgather\u001B[49m\u001B[43m(\u001B[49m\u001B[43msteps\u001B[49m\u001B[43m,\u001B[49m\u001B[43m \u001B[49m\u001B[43minds\u001B[49m\u001B[43m)\u001B[49m\u001B[43m,\u001B[49m\n\u001B[1;32m    139\u001B[0m \u001B[43m  \u001B[49m\u001B[43mnum_parallel_calls\u001B[49m\u001B[38;5;241;43m=\u001B[39;49m\u001B[43mtf\u001B[49m\u001B[38;5;241;43m.\u001B[39;49m\u001B[43mdata\u001B[49m\u001B[38;5;241;43m.\u001B[39;49m\u001B[43mAUTOTUNE\u001B[49m\u001B[43m,\u001B[49m\n\u001B[1;32m    140\u001B[0m \u001B[43m\u001B[49m\u001B[43m)\u001B[49m\n\u001B[1;32m    141\u001B[0m \u001B[38;5;28;01mreturn\u001B[39;00m dataset\n",
      "File \u001B[0;32m~/.venv/lib/python3.11/site-packages/tensorflow/python/data/ops/dataset_ops.py:2280\u001B[0m, in \u001B[0;36mDatasetV2.map\u001B[0;34m(self, map_func, num_parallel_calls, deterministic, name)\u001B[0m\n\u001B[1;32m   2276\u001B[0m \u001B[38;5;66;03m# Loaded lazily due to a circular dependency (dataset_ops -> map_op ->\u001B[39;00m\n\u001B[1;32m   2277\u001B[0m \u001B[38;5;66;03m# dataset_ops).\u001B[39;00m\n\u001B[1;32m   2278\u001B[0m \u001B[38;5;66;03m# pylint: disable=g-import-not-at-top,protected-access\u001B[39;00m\n\u001B[1;32m   2279\u001B[0m \u001B[38;5;28;01mfrom\u001B[39;00m \u001B[38;5;21;01mtensorflow\u001B[39;00m\u001B[38;5;21;01m.\u001B[39;00m\u001B[38;5;21;01mpython\u001B[39;00m\u001B[38;5;21;01m.\u001B[39;00m\u001B[38;5;21;01mdata\u001B[39;00m\u001B[38;5;21;01m.\u001B[39;00m\u001B[38;5;21;01mops\u001B[39;00m \u001B[38;5;28;01mimport\u001B[39;00m map_op\n\u001B[0;32m-> 2280\u001B[0m \u001B[38;5;28;01mreturn\u001B[39;00m \u001B[43mmap_op\u001B[49m\u001B[38;5;241;43m.\u001B[39;49m\u001B[43m_map_v2\u001B[49m\u001B[43m(\u001B[49m\n\u001B[1;32m   2281\u001B[0m \u001B[43m    \u001B[49m\u001B[38;5;28;43mself\u001B[39;49m\u001B[43m,\u001B[49m\n\u001B[1;32m   2282\u001B[0m \u001B[43m    \u001B[49m\u001B[43mmap_func\u001B[49m\u001B[43m,\u001B[49m\n\u001B[1;32m   2283\u001B[0m \u001B[43m    \u001B[49m\u001B[43mnum_parallel_calls\u001B[49m\u001B[38;5;241;43m=\u001B[39;49m\u001B[43mnum_parallel_calls\u001B[49m\u001B[43m,\u001B[49m\n\u001B[1;32m   2284\u001B[0m \u001B[43m    \u001B[49m\u001B[43mdeterministic\u001B[49m\u001B[38;5;241;43m=\u001B[39;49m\u001B[43mdeterministic\u001B[49m\u001B[43m,\u001B[49m\n\u001B[1;32m   2285\u001B[0m \u001B[43m    \u001B[49m\u001B[43mname\u001B[49m\u001B[38;5;241;43m=\u001B[39;49m\u001B[43mname\u001B[49m\u001B[43m)\u001B[49m\n",
      "File \u001B[0;32m~/.venv/lib/python3.11/site-packages/tensorflow/python/data/ops/map_op.py:40\u001B[0m, in \u001B[0;36m_map_v2\u001B[0;34m(input_dataset, map_func, num_parallel_calls, deterministic, name)\u001B[0m\n\u001B[1;32m     37\u001B[0m   \u001B[38;5;28;01mreturn\u001B[39;00m _MapDataset(\n\u001B[1;32m     38\u001B[0m       input_dataset, map_func, preserve_cardinality\u001B[38;5;241m=\u001B[39m\u001B[38;5;28;01mTrue\u001B[39;00m, name\u001B[38;5;241m=\u001B[39mname)\n\u001B[1;32m     39\u001B[0m \u001B[38;5;28;01melse\u001B[39;00m:\n\u001B[0;32m---> 40\u001B[0m   \u001B[38;5;28;01mreturn\u001B[39;00m \u001B[43m_ParallelMapDataset\u001B[49m\u001B[43m(\u001B[49m\n\u001B[1;32m     41\u001B[0m \u001B[43m      \u001B[49m\u001B[43minput_dataset\u001B[49m\u001B[43m,\u001B[49m\n\u001B[1;32m     42\u001B[0m \u001B[43m      \u001B[49m\u001B[43mmap_func\u001B[49m\u001B[43m,\u001B[49m\n\u001B[1;32m     43\u001B[0m \u001B[43m      \u001B[49m\u001B[43mnum_parallel_calls\u001B[49m\u001B[38;5;241;43m=\u001B[39;49m\u001B[43mnum_parallel_calls\u001B[49m\u001B[43m,\u001B[49m\n\u001B[1;32m     44\u001B[0m \u001B[43m      \u001B[49m\u001B[43mdeterministic\u001B[49m\u001B[38;5;241;43m=\u001B[39;49m\u001B[43mdeterministic\u001B[49m\u001B[43m,\u001B[49m\n\u001B[1;32m     45\u001B[0m \u001B[43m      \u001B[49m\u001B[43mpreserve_cardinality\u001B[49m\u001B[38;5;241;43m=\u001B[39;49m\u001B[38;5;28;43;01mTrue\u001B[39;49;00m\u001B[43m,\u001B[49m\n\u001B[1;32m     46\u001B[0m \u001B[43m      \u001B[49m\u001B[43mname\u001B[49m\u001B[38;5;241;43m=\u001B[39;49m\u001B[43mname\u001B[49m\u001B[43m)\u001B[49m\n",
      "File \u001B[0;32m~/.venv/lib/python3.11/site-packages/tensorflow/python/data/ops/map_op.py:148\u001B[0m, in \u001B[0;36m_ParallelMapDataset.__init__\u001B[0;34m(self, input_dataset, map_func, num_parallel_calls, deterministic, use_inter_op_parallelism, preserve_cardinality, use_legacy_function, name)\u001B[0m\n\u001B[1;32m    146\u001B[0m \u001B[38;5;28mself\u001B[39m\u001B[38;5;241m.\u001B[39m_input_dataset \u001B[38;5;241m=\u001B[39m input_dataset\n\u001B[1;32m    147\u001B[0m \u001B[38;5;28mself\u001B[39m\u001B[38;5;241m.\u001B[39m_use_inter_op_parallelism \u001B[38;5;241m=\u001B[39m use_inter_op_parallelism\n\u001B[0;32m--> 148\u001B[0m \u001B[38;5;28mself\u001B[39m\u001B[38;5;241m.\u001B[39m_map_func \u001B[38;5;241m=\u001B[39m \u001B[43mstructured_function\u001B[49m\u001B[38;5;241;43m.\u001B[39;49m\u001B[43mStructuredFunctionWrapper\u001B[49m\u001B[43m(\u001B[49m\n\u001B[1;32m    149\u001B[0m \u001B[43m    \u001B[49m\u001B[43mmap_func\u001B[49m\u001B[43m,\u001B[49m\n\u001B[1;32m    150\u001B[0m \u001B[43m    \u001B[49m\u001B[38;5;28;43mself\u001B[39;49m\u001B[38;5;241;43m.\u001B[39;49m\u001B[43m_transformation_name\u001B[49m\u001B[43m(\u001B[49m\u001B[43m)\u001B[49m\u001B[43m,\u001B[49m\n\u001B[1;32m    151\u001B[0m \u001B[43m    \u001B[49m\u001B[43mdataset\u001B[49m\u001B[38;5;241;43m=\u001B[39;49m\u001B[43minput_dataset\u001B[49m\u001B[43m,\u001B[49m\n\u001B[1;32m    152\u001B[0m \u001B[43m    \u001B[49m\u001B[43muse_legacy_function\u001B[49m\u001B[38;5;241;43m=\u001B[39;49m\u001B[43muse_legacy_function\u001B[49m\u001B[43m)\u001B[49m\n\u001B[1;32m    153\u001B[0m \u001B[38;5;28;01mif\u001B[39;00m deterministic \u001B[38;5;129;01mis\u001B[39;00m \u001B[38;5;28;01mNone\u001B[39;00m:\n\u001B[1;32m    154\u001B[0m   \u001B[38;5;28mself\u001B[39m\u001B[38;5;241m.\u001B[39m_deterministic \u001B[38;5;241m=\u001B[39m \u001B[38;5;124m\"\u001B[39m\u001B[38;5;124mdefault\u001B[39m\u001B[38;5;124m\"\u001B[39m\n",
      "File \u001B[0;32m~/.venv/lib/python3.11/site-packages/tensorflow/python/data/ops/structured_function.py:265\u001B[0m, in \u001B[0;36mStructuredFunctionWrapper.__init__\u001B[0;34m(self, func, transformation_name, dataset, input_classes, input_shapes, input_types, input_structure, add_to_graph, use_legacy_function, defun_kwargs)\u001B[0m\n\u001B[1;32m    258\u001B[0m       warnings\u001B[38;5;241m.\u001B[39mwarn(\n\u001B[1;32m    259\u001B[0m           \u001B[38;5;124m\"\u001B[39m\u001B[38;5;124mEven though the `tf.config.experimental_run_functions_eagerly` \u001B[39m\u001B[38;5;124m\"\u001B[39m\n\u001B[1;32m    260\u001B[0m           \u001B[38;5;124m\"\u001B[39m\u001B[38;5;124moption is set, this option does not apply to tf.data functions. \u001B[39m\u001B[38;5;124m\"\u001B[39m\n\u001B[1;32m    261\u001B[0m           \u001B[38;5;124m\"\u001B[39m\u001B[38;5;124mTo force eager execution of tf.data functions, please use \u001B[39m\u001B[38;5;124m\"\u001B[39m\n\u001B[1;32m    262\u001B[0m           \u001B[38;5;124m\"\u001B[39m\u001B[38;5;124m`tf.data.experimental.enable_debug_mode()`.\u001B[39m\u001B[38;5;124m\"\u001B[39m)\n\u001B[1;32m    263\u001B[0m     fn_factory \u001B[38;5;241m=\u001B[39m trace_tf_function(defun_kwargs)\n\u001B[0;32m--> 265\u001B[0m \u001B[38;5;28mself\u001B[39m\u001B[38;5;241m.\u001B[39m_function \u001B[38;5;241m=\u001B[39m \u001B[43mfn_factory\u001B[49m\u001B[43m(\u001B[49m\u001B[43m)\u001B[49m\n\u001B[1;32m    266\u001B[0m \u001B[38;5;66;03m# There is no graph to add in eager mode.\u001B[39;00m\n\u001B[1;32m    267\u001B[0m add_to_graph \u001B[38;5;241m&\u001B[39m\u001B[38;5;241m=\u001B[39m \u001B[38;5;129;01mnot\u001B[39;00m context\u001B[38;5;241m.\u001B[39mexecuting_eagerly()\n",
      "File \u001B[0;32m~/.venv/lib/python3.11/site-packages/tensorflow/python/eager/polymorphic_function/polymorphic_function.py:1227\u001B[0m, in \u001B[0;36mFunction.get_concrete_function\u001B[0;34m(self, *args, **kwargs)\u001B[0m\n\u001B[1;32m   1225\u001B[0m \u001B[38;5;28;01mdef\u001B[39;00m \u001B[38;5;21mget_concrete_function\u001B[39m(\u001B[38;5;28mself\u001B[39m, \u001B[38;5;241m*\u001B[39margs, \u001B[38;5;241m*\u001B[39m\u001B[38;5;241m*\u001B[39mkwargs):\n\u001B[1;32m   1226\u001B[0m   \u001B[38;5;66;03m# Implements PolymorphicFunction.get_concrete_function.\u001B[39;00m\n\u001B[0;32m-> 1227\u001B[0m   concrete \u001B[38;5;241m=\u001B[39m \u001B[38;5;28;43mself\u001B[39;49m\u001B[38;5;241;43m.\u001B[39;49m\u001B[43m_get_concrete_function_garbage_collected\u001B[49m\u001B[43m(\u001B[49m\u001B[38;5;241;43m*\u001B[39;49m\u001B[43margs\u001B[49m\u001B[43m,\u001B[49m\u001B[43m \u001B[49m\u001B[38;5;241;43m*\u001B[39;49m\u001B[38;5;241;43m*\u001B[39;49m\u001B[43mkwargs\u001B[49m\u001B[43m)\u001B[49m\n\u001B[1;32m   1228\u001B[0m   concrete\u001B[38;5;241m.\u001B[39m_garbage_collector\u001B[38;5;241m.\u001B[39mrelease()  \u001B[38;5;66;03m# pylint: disable=protected-access\u001B[39;00m\n\u001B[1;32m   1229\u001B[0m   \u001B[38;5;28;01mreturn\u001B[39;00m concrete\n",
      "File \u001B[0;32m~/.venv/lib/python3.11/site-packages/tensorflow/python/eager/polymorphic_function/polymorphic_function.py:1197\u001B[0m, in \u001B[0;36mFunction._get_concrete_function_garbage_collected\u001B[0;34m(self, *args, **kwargs)\u001B[0m\n\u001B[1;32m   1195\u001B[0m   \u001B[38;5;28;01mif\u001B[39;00m \u001B[38;5;28mself\u001B[39m\u001B[38;5;241m.\u001B[39m_variable_creation_config \u001B[38;5;129;01mis\u001B[39;00m \u001B[38;5;28;01mNone\u001B[39;00m:\n\u001B[1;32m   1196\u001B[0m     initializers \u001B[38;5;241m=\u001B[39m []\n\u001B[0;32m-> 1197\u001B[0m     \u001B[38;5;28;43mself\u001B[39;49m\u001B[38;5;241;43m.\u001B[39;49m\u001B[43m_initialize\u001B[49m\u001B[43m(\u001B[49m\u001B[43margs\u001B[49m\u001B[43m,\u001B[49m\u001B[43m \u001B[49m\u001B[43mkwargs\u001B[49m\u001B[43m,\u001B[49m\u001B[43m \u001B[49m\u001B[43madd_initializers_to\u001B[49m\u001B[38;5;241;43m=\u001B[39;49m\u001B[43minitializers\u001B[49m\u001B[43m)\u001B[49m\n\u001B[1;32m   1198\u001B[0m     \u001B[38;5;28mself\u001B[39m\u001B[38;5;241m.\u001B[39m_initialize_uninitialized_variables(initializers)\n\u001B[1;32m   1200\u001B[0m \u001B[38;5;28;01mif\u001B[39;00m \u001B[38;5;28mself\u001B[39m\u001B[38;5;241m.\u001B[39m_created_variables:\n\u001B[1;32m   1201\u001B[0m   \u001B[38;5;66;03m# In this case we have created variables on the first call, so we run the\u001B[39;00m\n\u001B[1;32m   1202\u001B[0m   \u001B[38;5;66;03m# version which is guaranteed to never create variables.\u001B[39;00m\n",
      "File \u001B[0;32m~/.venv/lib/python3.11/site-packages/tensorflow/python/eager/polymorphic_function/polymorphic_function.py:695\u001B[0m, in \u001B[0;36mFunction._initialize\u001B[0;34m(self, args, kwds, add_initializers_to)\u001B[0m\n\u001B[1;32m    690\u001B[0m \u001B[38;5;28mself\u001B[39m\u001B[38;5;241m.\u001B[39m_variable_creation_config \u001B[38;5;241m=\u001B[39m \u001B[38;5;28mself\u001B[39m\u001B[38;5;241m.\u001B[39m_generate_scoped_tracing_options(\n\u001B[1;32m    691\u001B[0m     variable_capturing_scope,\n\u001B[1;32m    692\u001B[0m     tracing_compilation\u001B[38;5;241m.\u001B[39mScopeType\u001B[38;5;241m.\u001B[39mVARIABLE_CREATION,\n\u001B[1;32m    693\u001B[0m )\n\u001B[1;32m    694\u001B[0m \u001B[38;5;66;03m# Force the definition of the function for these arguments\u001B[39;00m\n\u001B[0;32m--> 695\u001B[0m \u001B[38;5;28mself\u001B[39m\u001B[38;5;241m.\u001B[39m_concrete_variable_creation_fn \u001B[38;5;241m=\u001B[39m \u001B[43mtracing_compilation\u001B[49m\u001B[38;5;241;43m.\u001B[39;49m\u001B[43mtrace_function\u001B[49m\u001B[43m(\u001B[49m\n\u001B[1;32m    696\u001B[0m \u001B[43m    \u001B[49m\u001B[43margs\u001B[49m\u001B[43m,\u001B[49m\u001B[43m \u001B[49m\u001B[43mkwds\u001B[49m\u001B[43m,\u001B[49m\u001B[43m \u001B[49m\u001B[38;5;28;43mself\u001B[39;49m\u001B[38;5;241;43m.\u001B[39;49m\u001B[43m_variable_creation_config\u001B[49m\n\u001B[1;32m    697\u001B[0m \u001B[43m\u001B[49m\u001B[43m)\u001B[49m\n\u001B[1;32m    699\u001B[0m \u001B[38;5;28;01mdef\u001B[39;00m \u001B[38;5;21minvalid_creator_scope\u001B[39m(\u001B[38;5;241m*\u001B[39munused_args, \u001B[38;5;241m*\u001B[39m\u001B[38;5;241m*\u001B[39munused_kwds):\n\u001B[1;32m    700\u001B[0m \u001B[38;5;250m  \u001B[39m\u001B[38;5;124;03m\"\"\"Disables variable creation.\"\"\"\u001B[39;00m\n",
      "File \u001B[0;32m~/.venv/lib/python3.11/site-packages/tensorflow/python/eager/polymorphic_function/tracing_compilation.py:178\u001B[0m, in \u001B[0;36mtrace_function\u001B[0;34m(args, kwargs, tracing_options)\u001B[0m\n\u001B[1;32m    175\u001B[0m     args \u001B[38;5;241m=\u001B[39m tracing_options\u001B[38;5;241m.\u001B[39minput_signature\n\u001B[1;32m    176\u001B[0m     kwargs \u001B[38;5;241m=\u001B[39m {}\n\u001B[0;32m--> 178\u001B[0m   concrete_function \u001B[38;5;241m=\u001B[39m \u001B[43m_maybe_define_function\u001B[49m\u001B[43m(\u001B[49m\n\u001B[1;32m    179\u001B[0m \u001B[43m      \u001B[49m\u001B[43margs\u001B[49m\u001B[43m,\u001B[49m\u001B[43m \u001B[49m\u001B[43mkwargs\u001B[49m\u001B[43m,\u001B[49m\u001B[43m \u001B[49m\u001B[43mtracing_options\u001B[49m\n\u001B[1;32m    180\u001B[0m \u001B[43m  \u001B[49m\u001B[43m)\u001B[49m\n\u001B[1;32m    182\u001B[0m \u001B[38;5;28;01mif\u001B[39;00m \u001B[38;5;129;01mnot\u001B[39;00m tracing_options\u001B[38;5;241m.\u001B[39mbind_graph_to_function:\n\u001B[1;32m    183\u001B[0m   concrete_function\u001B[38;5;241m.\u001B[39m_garbage_collector\u001B[38;5;241m.\u001B[39mrelease()  \u001B[38;5;66;03m# pylint: disable=protected-access\u001B[39;00m\n",
      "File \u001B[0;32m~/.venv/lib/python3.11/site-packages/tensorflow/python/eager/polymorphic_function/tracing_compilation.py:283\u001B[0m, in \u001B[0;36m_maybe_define_function\u001B[0;34m(args, kwargs, tracing_options)\u001B[0m\n\u001B[1;32m    281\u001B[0m \u001B[38;5;28;01melse\u001B[39;00m:\n\u001B[1;32m    282\u001B[0m   target_func_type \u001B[38;5;241m=\u001B[39m lookup_func_type\n\u001B[0;32m--> 283\u001B[0m concrete_function \u001B[38;5;241m=\u001B[39m \u001B[43m_create_concrete_function\u001B[49m\u001B[43m(\u001B[49m\n\u001B[1;32m    284\u001B[0m \u001B[43m    \u001B[49m\u001B[43mtarget_func_type\u001B[49m\u001B[43m,\u001B[49m\u001B[43m \u001B[49m\u001B[43mlookup_func_context\u001B[49m\u001B[43m,\u001B[49m\u001B[43m \u001B[49m\u001B[43mfunc_graph\u001B[49m\u001B[43m,\u001B[49m\u001B[43m \u001B[49m\u001B[43mtracing_options\u001B[49m\n\u001B[1;32m    285\u001B[0m \u001B[43m\u001B[49m\u001B[43m)\u001B[49m\n\u001B[1;32m    287\u001B[0m \u001B[38;5;28;01mif\u001B[39;00m tracing_options\u001B[38;5;241m.\u001B[39mfunction_cache \u001B[38;5;129;01mis\u001B[39;00m \u001B[38;5;129;01mnot\u001B[39;00m \u001B[38;5;28;01mNone\u001B[39;00m:\n\u001B[1;32m    288\u001B[0m   tracing_options\u001B[38;5;241m.\u001B[39mfunction_cache\u001B[38;5;241m.\u001B[39madd(\n\u001B[1;32m    289\u001B[0m       concrete_function, current_func_context\n\u001B[1;32m    290\u001B[0m   )\n",
      "File \u001B[0;32m~/.venv/lib/python3.11/site-packages/tensorflow/python/eager/polymorphic_function/tracing_compilation.py:310\u001B[0m, in \u001B[0;36m_create_concrete_function\u001B[0;34m(function_type, type_context, func_graph, tracing_options)\u001B[0m\n\u001B[1;32m    303\u001B[0m   placeholder_bound_args \u001B[38;5;241m=\u001B[39m function_type\u001B[38;5;241m.\u001B[39mplaceholder_arguments(\n\u001B[1;32m    304\u001B[0m       placeholder_context\n\u001B[1;32m    305\u001B[0m   )\n\u001B[1;32m    307\u001B[0m disable_acd \u001B[38;5;241m=\u001B[39m tracing_options\u001B[38;5;241m.\u001B[39mattributes \u001B[38;5;129;01mand\u001B[39;00m tracing_options\u001B[38;5;241m.\u001B[39mattributes\u001B[38;5;241m.\u001B[39mget(\n\u001B[1;32m    308\u001B[0m     attributes_lib\u001B[38;5;241m.\u001B[39mDISABLE_ACD, \u001B[38;5;28;01mFalse\u001B[39;00m\n\u001B[1;32m    309\u001B[0m )\n\u001B[0;32m--> 310\u001B[0m traced_func_graph \u001B[38;5;241m=\u001B[39m \u001B[43mfunc_graph_module\u001B[49m\u001B[38;5;241;43m.\u001B[39;49m\u001B[43mfunc_graph_from_py_func\u001B[49m\u001B[43m(\u001B[49m\n\u001B[1;32m    311\u001B[0m \u001B[43m    \u001B[49m\u001B[43mtracing_options\u001B[49m\u001B[38;5;241;43m.\u001B[39;49m\u001B[43mname\u001B[49m\u001B[43m,\u001B[49m\n\u001B[1;32m    312\u001B[0m \u001B[43m    \u001B[49m\u001B[43mtracing_options\u001B[49m\u001B[38;5;241;43m.\u001B[39;49m\u001B[43mpython_function\u001B[49m\u001B[43m,\u001B[49m\n\u001B[1;32m    313\u001B[0m \u001B[43m    \u001B[49m\u001B[43mplaceholder_bound_args\u001B[49m\u001B[38;5;241;43m.\u001B[39;49m\u001B[43margs\u001B[49m\u001B[43m,\u001B[49m\n\u001B[1;32m    314\u001B[0m \u001B[43m    \u001B[49m\u001B[43mplaceholder_bound_args\u001B[49m\u001B[38;5;241;43m.\u001B[39;49m\u001B[43mkwargs\u001B[49m\u001B[43m,\u001B[49m\n\u001B[1;32m    315\u001B[0m \u001B[43m    \u001B[49m\u001B[38;5;28;43;01mNone\u001B[39;49;00m\u001B[43m,\u001B[49m\n\u001B[1;32m    316\u001B[0m \u001B[43m    \u001B[49m\u001B[43mfunc_graph\u001B[49m\u001B[38;5;241;43m=\u001B[39;49m\u001B[43mfunc_graph\u001B[49m\u001B[43m,\u001B[49m\n\u001B[1;32m    317\u001B[0m \u001B[43m    \u001B[49m\u001B[43madd_control_dependencies\u001B[49m\u001B[38;5;241;43m=\u001B[39;49m\u001B[38;5;129;43;01mnot\u001B[39;49;00m\u001B[43m \u001B[49m\u001B[43mdisable_acd\u001B[49m\u001B[43m,\u001B[49m\n\u001B[1;32m    318\u001B[0m \u001B[43m    \u001B[49m\u001B[43marg_names\u001B[49m\u001B[38;5;241;43m=\u001B[39;49m\u001B[43mfunction_type_utils\u001B[49m\u001B[38;5;241;43m.\u001B[39;49m\u001B[43mto_arg_names\u001B[49m\u001B[43m(\u001B[49m\u001B[43mfunction_type\u001B[49m\u001B[43m)\u001B[49m\u001B[43m,\u001B[49m\n\u001B[1;32m    319\u001B[0m \u001B[43m    \u001B[49m\u001B[43mcreate_placeholders\u001B[49m\u001B[38;5;241;43m=\u001B[39;49m\u001B[38;5;28;43;01mFalse\u001B[39;49;00m\u001B[43m,\u001B[49m\n\u001B[1;32m    320\u001B[0m \u001B[43m\u001B[49m\u001B[43m)\u001B[49m\n\u001B[1;32m    322\u001B[0m transform\u001B[38;5;241m.\u001B[39mapply_func_graph_transforms(traced_func_graph)\n\u001B[1;32m    324\u001B[0m graph_capture_container \u001B[38;5;241m=\u001B[39m traced_func_graph\u001B[38;5;241m.\u001B[39mfunction_captures\n",
      "File \u001B[0;32m~/.venv/lib/python3.11/site-packages/tensorflow/python/framework/func_graph.py:1059\u001B[0m, in \u001B[0;36mfunc_graph_from_py_func\u001B[0;34m(name, python_func, args, kwargs, signature, func_graph, add_control_dependencies, arg_names, op_return_value, collections, capture_by_value, create_placeholders)\u001B[0m\n\u001B[1;32m   1056\u001B[0m   \u001B[38;5;28;01mreturn\u001B[39;00m x\n\u001B[1;32m   1058\u001B[0m _, original_func \u001B[38;5;241m=\u001B[39m tf_decorator\u001B[38;5;241m.\u001B[39munwrap(python_func)\n\u001B[0;32m-> 1059\u001B[0m func_outputs \u001B[38;5;241m=\u001B[39m \u001B[43mpython_func\u001B[49m\u001B[43m(\u001B[49m\u001B[38;5;241;43m*\u001B[39;49m\u001B[43mfunc_args\u001B[49m\u001B[43m,\u001B[49m\u001B[43m \u001B[49m\u001B[38;5;241;43m*\u001B[39;49m\u001B[38;5;241;43m*\u001B[39;49m\u001B[43mfunc_kwargs\u001B[49m\u001B[43m)\u001B[49m\n\u001B[1;32m   1061\u001B[0m \u001B[38;5;66;03m# invariant: `func_outputs` contains only Tensors, CompositeTensors,\u001B[39;00m\n\u001B[1;32m   1062\u001B[0m \u001B[38;5;66;03m# TensorArrays and `None`s.\u001B[39;00m\n\u001B[1;32m   1063\u001B[0m func_outputs \u001B[38;5;241m=\u001B[39m variable_utils\u001B[38;5;241m.\u001B[39mconvert_variables_to_tensors(func_outputs)\n",
      "File \u001B[0;32m~/.venv/lib/python3.11/site-packages/tensorflow/python/eager/polymorphic_function/polymorphic_function.py:598\u001B[0m, in \u001B[0;36mFunction._generate_scoped_tracing_options.<locals>.wrapped_fn\u001B[0;34m(*args, **kwds)\u001B[0m\n\u001B[1;32m    594\u001B[0m \u001B[38;5;28;01mwith\u001B[39;00m default_graph\u001B[38;5;241m.\u001B[39m_variable_creator_scope(scope, priority\u001B[38;5;241m=\u001B[39m\u001B[38;5;241m50\u001B[39m):  \u001B[38;5;66;03m# pylint: disable=protected-access\u001B[39;00m\n\u001B[1;32m    595\u001B[0m   \u001B[38;5;66;03m# __wrapped__ allows AutoGraph to swap in a converted function. We give\u001B[39;00m\n\u001B[1;32m    596\u001B[0m   \u001B[38;5;66;03m# the function a weak reference to itself to avoid a reference cycle.\u001B[39;00m\n\u001B[1;32m    597\u001B[0m   \u001B[38;5;28;01mwith\u001B[39;00m OptionalXlaContext(compile_with_xla):\n\u001B[0;32m--> 598\u001B[0m     out \u001B[38;5;241m=\u001B[39m \u001B[43mweak_wrapped_fn\u001B[49m\u001B[43m(\u001B[49m\u001B[43m)\u001B[49m\u001B[38;5;241;43m.\u001B[39;49m\u001B[43m__wrapped__\u001B[49m\u001B[43m(\u001B[49m\u001B[38;5;241;43m*\u001B[39;49m\u001B[43margs\u001B[49m\u001B[43m,\u001B[49m\u001B[43m \u001B[49m\u001B[38;5;241;43m*\u001B[39;49m\u001B[38;5;241;43m*\u001B[39;49m\u001B[43mkwds\u001B[49m\u001B[43m)\u001B[49m\n\u001B[1;32m    599\u001B[0m   \u001B[38;5;28;01mreturn\u001B[39;00m out\n",
      "File \u001B[0;32m~/.venv/lib/python3.11/site-packages/tensorflow/python/data/ops/structured_function.py:231\u001B[0m, in \u001B[0;36mStructuredFunctionWrapper.__init__.<locals>.trace_tf_function.<locals>.wrapped_fn\u001B[0;34m(*args)\u001B[0m\n\u001B[1;32m    230\u001B[0m \u001B[38;5;28;01mdef\u001B[39;00m \u001B[38;5;21mwrapped_fn\u001B[39m(\u001B[38;5;241m*\u001B[39margs):  \u001B[38;5;66;03m# pylint: disable=missing-docstring\u001B[39;00m\n\u001B[0;32m--> 231\u001B[0m   ret \u001B[38;5;241m=\u001B[39m \u001B[43mwrapper_helper\u001B[49m\u001B[43m(\u001B[49m\u001B[38;5;241;43m*\u001B[39;49m\u001B[43margs\u001B[49m\u001B[43m)\u001B[49m\n\u001B[1;32m    232\u001B[0m   ret \u001B[38;5;241m=\u001B[39m structure\u001B[38;5;241m.\u001B[39mto_tensor_list(\u001B[38;5;28mself\u001B[39m\u001B[38;5;241m.\u001B[39m_output_structure, ret)\n\u001B[1;32m    233\u001B[0m   \u001B[38;5;28;01mreturn\u001B[39;00m [ops\u001B[38;5;241m.\u001B[39mconvert_to_tensor(t) \u001B[38;5;28;01mfor\u001B[39;00m t \u001B[38;5;129;01min\u001B[39;00m ret]\n",
      "File \u001B[0;32m~/.venv/lib/python3.11/site-packages/tensorflow/python/data/ops/structured_function.py:161\u001B[0m, in \u001B[0;36mStructuredFunctionWrapper.__init__.<locals>.wrapper_helper\u001B[0;34m(*args)\u001B[0m\n\u001B[1;32m    159\u001B[0m \u001B[38;5;28;01mif\u001B[39;00m \u001B[38;5;129;01mnot\u001B[39;00m _should_unpack(nested_args):\n\u001B[1;32m    160\u001B[0m   nested_args \u001B[38;5;241m=\u001B[39m (nested_args,)\n\u001B[0;32m--> 161\u001B[0m ret \u001B[38;5;241m=\u001B[39m \u001B[43mautograph\u001B[49m\u001B[38;5;241;43m.\u001B[39;49m\u001B[43mtf_convert\u001B[49m\u001B[43m(\u001B[49m\u001B[38;5;28;43mself\u001B[39;49m\u001B[38;5;241;43m.\u001B[39;49m\u001B[43m_func\u001B[49m\u001B[43m,\u001B[49m\u001B[43m \u001B[49m\u001B[43mag_ctx\u001B[49m\u001B[43m)\u001B[49m\u001B[43m(\u001B[49m\u001B[38;5;241;43m*\u001B[39;49m\u001B[43mnested_args\u001B[49m\u001B[43m)\u001B[49m\n\u001B[1;32m    162\u001B[0m ret \u001B[38;5;241m=\u001B[39m variable_utils\u001B[38;5;241m.\u001B[39mconvert_variables_to_tensors(ret)\n\u001B[1;32m    163\u001B[0m \u001B[38;5;28;01mif\u001B[39;00m _should_pack(ret):\n",
      "File \u001B[0;32m~/.venv/lib/python3.11/site-packages/tensorflow/python/autograph/impl/api.py:693\u001B[0m, in \u001B[0;36mconvert.<locals>.decorator.<locals>.wrapper\u001B[0;34m(*args, **kwargs)\u001B[0m\n\u001B[1;32m    691\u001B[0m \u001B[38;5;28;01mexcept\u001B[39;00m \u001B[38;5;167;01mException\u001B[39;00m \u001B[38;5;28;01mas\u001B[39;00m e:  \u001B[38;5;66;03m# pylint:disable=broad-except\u001B[39;00m\n\u001B[1;32m    692\u001B[0m   \u001B[38;5;28;01mif\u001B[39;00m \u001B[38;5;28mhasattr\u001B[39m(e, \u001B[38;5;124m'\u001B[39m\u001B[38;5;124mag_error_metadata\u001B[39m\u001B[38;5;124m'\u001B[39m):\n\u001B[0;32m--> 693\u001B[0m     \u001B[38;5;28;01mraise\u001B[39;00m e\u001B[38;5;241m.\u001B[39mag_error_metadata\u001B[38;5;241m.\u001B[39mto_exception(e)\n\u001B[1;32m    694\u001B[0m   \u001B[38;5;28;01melse\u001B[39;00m:\n\u001B[1;32m    695\u001B[0m     \u001B[38;5;28;01mraise\u001B[39;00m\n",
      "File \u001B[0;32m~/.venv/lib/python3.11/site-packages/tensorflow/python/autograph/impl/api.py:690\u001B[0m, in \u001B[0;36mconvert.<locals>.decorator.<locals>.wrapper\u001B[0;34m(*args, **kwargs)\u001B[0m\n\u001B[1;32m    688\u001B[0m \u001B[38;5;28;01mtry\u001B[39;00m:\n\u001B[1;32m    689\u001B[0m   \u001B[38;5;28;01mwith\u001B[39;00m conversion_ctx:\n\u001B[0;32m--> 690\u001B[0m     \u001B[38;5;28;01mreturn\u001B[39;00m \u001B[43mconverted_call\u001B[49m\u001B[43m(\u001B[49m\u001B[43mf\u001B[49m\u001B[43m,\u001B[49m\u001B[43m \u001B[49m\u001B[43margs\u001B[49m\u001B[43m,\u001B[49m\u001B[43m \u001B[49m\u001B[43mkwargs\u001B[49m\u001B[43m,\u001B[49m\u001B[43m \u001B[49m\u001B[43moptions\u001B[49m\u001B[38;5;241;43m=\u001B[39;49m\u001B[43moptions\u001B[49m\u001B[43m)\u001B[49m\n\u001B[1;32m    691\u001B[0m \u001B[38;5;28;01mexcept\u001B[39;00m \u001B[38;5;167;01mException\u001B[39;00m \u001B[38;5;28;01mas\u001B[39;00m e:  \u001B[38;5;66;03m# pylint:disable=broad-except\u001B[39;00m\n\u001B[1;32m    692\u001B[0m   \u001B[38;5;28;01mif\u001B[39;00m \u001B[38;5;28mhasattr\u001B[39m(e, \u001B[38;5;124m'\u001B[39m\u001B[38;5;124mag_error_metadata\u001B[39m\u001B[38;5;124m'\u001B[39m):\n",
      "File \u001B[0;32m~/.venv/lib/python3.11/site-packages/tensorflow/python/autograph/impl/api.py:439\u001B[0m, in \u001B[0;36mconverted_call\u001B[0;34m(f, args, kwargs, caller_fn_scope, options)\u001B[0m\n\u001B[1;32m    437\u001B[0m \u001B[38;5;28;01mtry\u001B[39;00m:\n\u001B[1;32m    438\u001B[0m   \u001B[38;5;28;01mif\u001B[39;00m kwargs \u001B[38;5;129;01mis\u001B[39;00m \u001B[38;5;129;01mnot\u001B[39;00m \u001B[38;5;28;01mNone\u001B[39;00m:\n\u001B[0;32m--> 439\u001B[0m     result \u001B[38;5;241m=\u001B[39m \u001B[43mconverted_f\u001B[49m\u001B[43m(\u001B[49m\u001B[38;5;241;43m*\u001B[39;49m\u001B[43meffective_args\u001B[49m\u001B[43m,\u001B[49m\u001B[43m \u001B[49m\u001B[38;5;241;43m*\u001B[39;49m\u001B[38;5;241;43m*\u001B[39;49m\u001B[43mkwargs\u001B[49m\u001B[43m)\u001B[49m\n\u001B[1;32m    440\u001B[0m   \u001B[38;5;28;01melse\u001B[39;00m:\n\u001B[1;32m    441\u001B[0m     result \u001B[38;5;241m=\u001B[39m converted_f(\u001B[38;5;241m*\u001B[39meffective_args)\n",
      "File \u001B[0;32m/tmp/__autograph_generated_file_wk3fx0l.py:5\u001B[0m, in \u001B[0;36mouter_factory.<locals>.inner_factory.<locals>.<lambda>\u001B[0;34m(steps, inds)\u001B[0m\n\u001B[1;32m      4\u001B[0m \u001B[38;5;28;01mdef\u001B[39;00m \u001B[38;5;21minner_factory\u001B[39m(ag__):\n\u001B[0;32m----> 5\u001B[0m     tf__lam \u001B[38;5;241m=\u001B[39m \u001B[38;5;28;01mlambda\u001B[39;00m steps, inds: \u001B[43mag__\u001B[49m\u001B[38;5;241;43m.\u001B[39;49m\u001B[43mwith_function_scope\u001B[49m\u001B[43m(\u001B[49m\u001B[38;5;28;43;01mlambda\u001B[39;49;00m\u001B[43m \u001B[49m\u001B[43mlscope\u001B[49m\u001B[43m:\u001B[49m\u001B[43m \u001B[49m\u001B[43mag__\u001B[49m\u001B[38;5;241;43m.\u001B[39;49m\u001B[43mconverted_call\u001B[49m\u001B[43m(\u001B[49m\u001B[43mtf\u001B[49m\u001B[38;5;241;43m.\u001B[39;49m\u001B[43mgather\u001B[49m\u001B[43m,\u001B[49m\u001B[43m \u001B[49m\u001B[43m(\u001B[49m\u001B[43msteps\u001B[49m\u001B[43m,\u001B[49m\u001B[43m \u001B[49m\u001B[43minds\u001B[49m\u001B[43m)\u001B[49m\u001B[43m,\u001B[49m\u001B[43m \u001B[49m\u001B[38;5;28;43;01mNone\u001B[39;49;00m\u001B[43m,\u001B[49m\u001B[43m \u001B[49m\u001B[43mlscope\u001B[49m\u001B[43m)\u001B[49m\u001B[43m,\u001B[49m\u001B[43m \u001B[49m\u001B[38;5;124;43m'\u001B[39;49m\u001B[38;5;124;43mlscope\u001B[39;49m\u001B[38;5;124;43m'\u001B[39;49m\u001B[43m,\u001B[49m\u001B[43m \u001B[49m\u001B[43mag__\u001B[49m\u001B[38;5;241;43m.\u001B[39;49m\u001B[43mSTD\u001B[49m\u001B[43m)\u001B[49m\n\u001B[1;32m      6\u001B[0m     \u001B[38;5;28;01mreturn\u001B[39;00m tf__lam\n",
      "File \u001B[0;32m~/.venv/lib/python3.11/site-packages/tensorflow/python/autograph/core/function_wrappers.py:113\u001B[0m, in \u001B[0;36mwith_function_scope\u001B[0;34m(thunk, scope_name, options)\u001B[0m\n\u001B[1;32m    111\u001B[0m \u001B[38;5;250m\u001B[39m\u001B[38;5;124;03m\"\"\"Inline version of the FunctionScope context manager.\"\"\"\u001B[39;00m\n\u001B[1;32m    112\u001B[0m \u001B[38;5;28;01mwith\u001B[39;00m FunctionScope(\u001B[38;5;124m'\u001B[39m\u001B[38;5;124mlambda_\u001B[39m\u001B[38;5;124m'\u001B[39m, scope_name, options) \u001B[38;5;28;01mas\u001B[39;00m scope:\n\u001B[0;32m--> 113\u001B[0m   \u001B[38;5;28;01mreturn\u001B[39;00m \u001B[43mthunk\u001B[49m\u001B[43m(\u001B[49m\u001B[43mscope\u001B[49m\u001B[43m)\u001B[49m\n",
      "File \u001B[0;32m/tmp/__autograph_generated_file_wk3fx0l.py:5\u001B[0m, in \u001B[0;36mouter_factory.<locals>.inner_factory.<locals>.<lambda>\u001B[0;34m(lscope)\u001B[0m\n\u001B[1;32m      4\u001B[0m \u001B[38;5;28;01mdef\u001B[39;00m \u001B[38;5;21minner_factory\u001B[39m(ag__):\n\u001B[0;32m----> 5\u001B[0m     tf__lam \u001B[38;5;241m=\u001B[39m \u001B[38;5;28;01mlambda\u001B[39;00m steps, inds: ag__\u001B[38;5;241m.\u001B[39mwith_function_scope(\u001B[38;5;28;01mlambda\u001B[39;00m lscope: \u001B[43mag__\u001B[49m\u001B[38;5;241;43m.\u001B[39;49m\u001B[43mconverted_call\u001B[49m\u001B[43m(\u001B[49m\u001B[43mtf\u001B[49m\u001B[38;5;241;43m.\u001B[39;49m\u001B[43mgather\u001B[49m\u001B[43m,\u001B[49m\u001B[43m \u001B[49m\u001B[43m(\u001B[49m\u001B[43msteps\u001B[49m\u001B[43m,\u001B[49m\u001B[43m \u001B[49m\u001B[43minds\u001B[49m\u001B[43m)\u001B[49m\u001B[43m,\u001B[49m\u001B[43m \u001B[49m\u001B[38;5;28;43;01mNone\u001B[39;49;00m\u001B[43m,\u001B[49m\u001B[43m \u001B[49m\u001B[43mlscope\u001B[49m\u001B[43m)\u001B[49m, \u001B[38;5;124m'\u001B[39m\u001B[38;5;124mlscope\u001B[39m\u001B[38;5;124m'\u001B[39m, ag__\u001B[38;5;241m.\u001B[39mSTD)\n\u001B[1;32m      6\u001B[0m     \u001B[38;5;28;01mreturn\u001B[39;00m tf__lam\n",
      "File \u001B[0;32m~/.venv/lib/python3.11/site-packages/tensorflow/python/autograph/impl/api.py:331\u001B[0m, in \u001B[0;36mconverted_call\u001B[0;34m(f, args, kwargs, caller_fn_scope, options)\u001B[0m\n\u001B[1;32m    329\u001B[0m \u001B[38;5;28;01mif\u001B[39;00m conversion\u001B[38;5;241m.\u001B[39mis_in_allowlist_cache(f, options):\n\u001B[1;32m    330\u001B[0m   logging\u001B[38;5;241m.\u001B[39mlog(\u001B[38;5;241m2\u001B[39m, \u001B[38;5;124m'\u001B[39m\u001B[38;5;124mAllowlisted \u001B[39m\u001B[38;5;132;01m%s\u001B[39;00m\u001B[38;5;124m: from cache\u001B[39m\u001B[38;5;124m'\u001B[39m, f)\n\u001B[0;32m--> 331\u001B[0m   \u001B[38;5;28;01mreturn\u001B[39;00m \u001B[43m_call_unconverted\u001B[49m\u001B[43m(\u001B[49m\u001B[43mf\u001B[49m\u001B[43m,\u001B[49m\u001B[43m \u001B[49m\u001B[43margs\u001B[49m\u001B[43m,\u001B[49m\u001B[43m \u001B[49m\u001B[43mkwargs\u001B[49m\u001B[43m,\u001B[49m\u001B[43m \u001B[49m\u001B[43moptions\u001B[49m\u001B[43m,\u001B[49m\u001B[43m \u001B[49m\u001B[38;5;28;43;01mFalse\u001B[39;49;00m\u001B[43m)\u001B[49m\n\u001B[1;32m    333\u001B[0m \u001B[38;5;28;01mif\u001B[39;00m ag_ctx\u001B[38;5;241m.\u001B[39mcontrol_status_ctx()\u001B[38;5;241m.\u001B[39mstatus \u001B[38;5;241m==\u001B[39m ag_ctx\u001B[38;5;241m.\u001B[39mStatus\u001B[38;5;241m.\u001B[39mDISABLED:\n\u001B[1;32m    334\u001B[0m   logging\u001B[38;5;241m.\u001B[39mlog(\u001B[38;5;241m2\u001B[39m, \u001B[38;5;124m'\u001B[39m\u001B[38;5;124mAllowlisted: \u001B[39m\u001B[38;5;132;01m%s\u001B[39;00m\u001B[38;5;124m: AutoGraph is disabled in context\u001B[39m\u001B[38;5;124m'\u001B[39m, f)\n",
      "File \u001B[0;32m~/.venv/lib/python3.11/site-packages/tensorflow/python/autograph/impl/api.py:460\u001B[0m, in \u001B[0;36m_call_unconverted\u001B[0;34m(f, args, kwargs, options, update_cache)\u001B[0m\n\u001B[1;32m    458\u001B[0m \u001B[38;5;28;01mif\u001B[39;00m kwargs \u001B[38;5;129;01mis\u001B[39;00m \u001B[38;5;129;01mnot\u001B[39;00m \u001B[38;5;28;01mNone\u001B[39;00m:\n\u001B[1;32m    459\u001B[0m   \u001B[38;5;28;01mreturn\u001B[39;00m f(\u001B[38;5;241m*\u001B[39margs, \u001B[38;5;241m*\u001B[39m\u001B[38;5;241m*\u001B[39mkwargs)\n\u001B[0;32m--> 460\u001B[0m \u001B[38;5;28;01mreturn\u001B[39;00m \u001B[43mf\u001B[49m\u001B[43m(\u001B[49m\u001B[38;5;241;43m*\u001B[39;49m\u001B[43margs\u001B[49m\u001B[43m)\u001B[49m\n",
      "File \u001B[0;32m~/.venv/lib/python3.11/site-packages/tensorflow/python/util/traceback_utils.py:153\u001B[0m, in \u001B[0;36mfilter_traceback.<locals>.error_handler\u001B[0;34m(*args, **kwargs)\u001B[0m\n\u001B[1;32m    151\u001B[0m \u001B[38;5;28;01mexcept\u001B[39;00m \u001B[38;5;167;01mException\u001B[39;00m \u001B[38;5;28;01mas\u001B[39;00m e:\n\u001B[1;32m    152\u001B[0m   filtered_tb \u001B[38;5;241m=\u001B[39m _process_traceback_frames(e\u001B[38;5;241m.\u001B[39m__traceback__)\n\u001B[0;32m--> 153\u001B[0m   \u001B[38;5;28;01mraise\u001B[39;00m e\u001B[38;5;241m.\u001B[39mwith_traceback(filtered_tb) \u001B[38;5;28;01mfrom\u001B[39;00m \u001B[38;5;28;01mNone\u001B[39;00m\n\u001B[1;32m    154\u001B[0m \u001B[38;5;28;01mfinally\u001B[39;00m:\n\u001B[1;32m    155\u001B[0m   \u001B[38;5;28;01mdel\u001B[39;00m filtered_tb\n",
      "File \u001B[0;32m~/.venv/lib/python3.11/site-packages/tensorflow/python/ops/array_ops.py:1499\u001B[0m, in \u001B[0;36m_autopacking_helper\u001B[0;34m(list_or_tuple, dtype, name)\u001B[0m\n\u001B[1;32m   1497\u001B[0m \u001B[38;5;28;01mif\u001B[39;00m \u001B[38;5;28misinstance\u001B[39m(elem, core\u001B[38;5;241m.\u001B[39mTensor):\n\u001B[1;32m   1498\u001B[0m   \u001B[38;5;28;01mif\u001B[39;00m dtype \u001B[38;5;129;01mis\u001B[39;00m \u001B[38;5;129;01mnot\u001B[39;00m \u001B[38;5;28;01mNone\u001B[39;00m \u001B[38;5;129;01mand\u001B[39;00m elem\u001B[38;5;241m.\u001B[39mdtype\u001B[38;5;241m.\u001B[39mbase_dtype \u001B[38;5;241m!=\u001B[39m dtype:\n\u001B[0;32m-> 1499\u001B[0m     \u001B[38;5;28;01mraise\u001B[39;00m \u001B[38;5;167;01mTypeError\u001B[39;00m(\u001B[38;5;124mf\u001B[39m\u001B[38;5;124m\"\u001B[39m\u001B[38;5;124mCannot convert a list containing a tensor of dtype \u001B[39m\u001B[38;5;124m\"\u001B[39m\n\u001B[1;32m   1500\u001B[0m                     \u001B[38;5;124mf\u001B[39m\u001B[38;5;124m\"\u001B[39m\u001B[38;5;132;01m{\u001B[39;00melem\u001B[38;5;241m.\u001B[39mdtype\u001B[38;5;132;01m}\u001B[39;00m\u001B[38;5;124m to \u001B[39m\u001B[38;5;132;01m{\u001B[39;00mdtype\u001B[38;5;132;01m}\u001B[39;00m\u001B[38;5;124m (Tensor is: \u001B[39m\u001B[38;5;132;01m{\u001B[39;00melem\u001B[38;5;132;01m!r}\u001B[39;00m\u001B[38;5;124m)\u001B[39m\u001B[38;5;124m\"\u001B[39m)\n\u001B[1;32m   1501\u001B[0m   converted_elems\u001B[38;5;241m.\u001B[39mappend(elem)\n\u001B[1;32m   1502\u001B[0m   must_pack \u001B[38;5;241m=\u001B[39m \u001B[38;5;28;01mTrue\u001B[39;00m\n",
      "\u001B[0;31mTypeError\u001B[0m: in user code:\n\n    File \"/tmp/ipykernel_22097/4068012706.py\", line 138, in None  *\n        lambda steps, inds: tf.gather(steps, inds)\n\n    TypeError: Cannot convert a list containing a tensor of dtype <dtype: 'int32'> to <dtype: 'float32'> (Tensor is: <tf.Tensor 'args_2:0' shape=(8,) dtype=int32>)\n"
     ]
    }
   ],
   "source": [
    "import functools\n",
    "\n",
    "def split_window(features):\n",
    "  inputs = features[:, slice(0, length), :]\n",
    "  labels = features[:, slice(length, length + label_length), :]\n",
    "  return inputs, labels\n",
    "\n",
    "def make_dataset(data):\n",
    "  ds = timeseries_dataset_from_array(\n",
    "    data=data,\n",
    "    targets=None,\n",
    "    sequence_length=length + label_length,\n",
    "    sequence_stride=1,\n",
    "    shuffle=False, # TODO: Shuffle if possible\n",
    "    batch_size=32,\n",
    "    # sampling_rate=1,\n",
    "  )\n",
    "\n",
    "  ds = ds.map(split_window)\n",
    "  return ds\n",
    "\n",
    "train_dataset_list = list(map(make_dataset,scaled_train_traces))\n",
    "dataset = functools.reduce(lambda a, b: a.concatenate(b), train_dataset_list)\n",
    "\n",
    "test_dataset_list = list(map(make_dataset,scaled_test_traces))\n",
    "validation_dataset = functools.reduce(lambda a, b: a.concatenate(b), test_dataset_list)\n",
    "# dataset\n",
    "# dataset = tf.data.Dataset.from_tensor_slices(scaled_train).window(length, drop_remainder=True)\n",
    "# for inputs, labels in dataset:\n",
    "#     print(len(inputs))\n",
    "#     print(list(inputs.numpy()))\n",
    "\n",
    "inputs, labels = next(iter(dataset))\n",
    "inputs"
   ],
   "metadata": {
    "collapsed": false,
    "ExecuteTime": {
     "end_time": "2023-12-12T11:17:55.165039549Z",
     "start_time": "2023-12-12T11:17:54.928019861Z"
    }
   },
   "id": "50754d7d00fba54b"
  },
  {
   "cell_type": "code",
   "execution_count": 108,
   "outputs": [
    {
     "data": {
      "text/plain": "<tf.Tensor: shape=(20, 1, 3), dtype=float64, numpy=\narray([[[1.73476959e-01, 4.99124647e-01, 2.08000000e+02]],\n\n       [[9.95374121e-01, 5.40784087e-01, 2.19000000e+02]],\n\n       [[3.80218875e-01, 5.73468744e-01, 2.25000000e+02]],\n\n       [[7.76239702e-01, 6.66315389e-01, 2.26000000e+02]],\n\n       [[4.64588684e-01, 4.78758184e-01, 2.35000000e+02]],\n\n       [[4.78726135e-01, 8.41775771e-01, 1.42000000e+02]],\n\n       [[3.96957030e-01, 2.08353469e-02, 8.60000000e+01]],\n\n       [[8.95689209e-01, 9.45958198e-01, 9.20000000e+01]],\n\n       [[4.71791451e-01, 1.01036146e-03, 1.20000000e+02]],\n\n       [[2.62503815e-01, 9.14635153e-01, 2.47000000e+02]],\n\n       [[3.53032347e-01, 1.91332523e-01, 2.39000000e+02]],\n\n       [[7.88127158e-01, 3.46947671e-01, 1.21000000e+02]],\n\n       [[6.70020346e-01, 3.73900800e-01, 2.49000000e+02]],\n\n       [[7.26688220e-01, 7.59596426e-01, 2.32000000e+02]],\n\n       [[9.14502453e-01, 8.39662976e-01, 7.10000000e+01]],\n\n       [[2.72294379e-01, 3.65472610e-01, 1.47000000e+02]],\n\n       [[2.19484783e-01, 8.70961584e-01, 8.00000000e+01]],\n\n       [[9.51301426e-01, 3.25976556e-01, 2.00000000e+02]],\n\n       [[4.94288412e-01, 2.16661462e-01, 5.30000000e+01]],\n\n       [[9.05960996e-01, 7.22665606e-01, 1.10000000e+02]]])>"
     },
     "execution_count": 108,
     "metadata": {},
     "output_type": "execute_result"
    }
   ],
   "source": [
    "labels"
   ],
   "metadata": {
    "collapsed": false,
    "ExecuteTime": {
     "end_time": "2023-12-11T21:54:59.166470475Z",
     "start_time": "2023-12-11T21:54:59.134685553Z"
    }
   },
   "id": "4d2cba0a5fe86e9e"
  },
  {
   "cell_type": "code",
   "execution_count": null,
   "outputs": [],
   "source": [
    "# TODO create custom array to circumvent timeseriesgenerator."
   ],
   "metadata": {
    "collapsed": false
   },
   "id": "3be8bf3374aae8a3"
  },
  {
   "cell_type": "code",
   "execution_count": 109,
   "outputs": [],
   "source": [
    "from keras.models import Model\n",
    "from keras.layers import Dense,LSTM,Embedding\n",
    "from keras.callbacks import EarlyStopping"
   ],
   "metadata": {
    "collapsed": false,
    "ExecuteTime": {
     "end_time": "2023-12-11T21:54:59.776689626Z",
     "start_time": "2023-12-11T21:54:59.755136398Z"
    }
   },
   "id": "4d041342072cad7e"
  },
  {
   "cell_type": "code",
   "execution_count": 110,
   "outputs": [],
   "source": [
    "class IntentPredictionModel(keras.Model):\n",
    "  def __init__(self, num_classes=2, embeddings={}):\n",
    "    super().__init__()\n",
    "    self.embeddings = embeddings\n",
    "    self.lstm = LSTM(100, activation='relu', input_shape=(length, n_features))\n",
    "    self.dense = Dense(num_classes)\n",
    "\n",
    "  def call(self, inputs):\n",
    "    raw_inputs = inputs\n",
    "    \n",
    "    # Remove all unprocessed inputs from raw inputs\n",
    "    for key, embedding in embeddings:\n",
    "      raw_inputs = raw_inputs.drop(key)\n",
    "    \n",
    "    # Add embedding results to raw inputs\n",
    "    for key, embedding in embeddings:\n",
    "      result = embedding(inputs[key])\n",
    "      raw_inputs = tf.concat(raw_inputs, result)\n",
    "      \n",
    "    x = self.lstm(raw_inputs)\n",
    "    return self.dense(x)\n"
   ],
   "metadata": {
    "collapsed": false,
    "ExecuteTime": {
     "end_time": "2023-12-11T21:55:01.548783809Z",
     "start_time": "2023-12-11T21:55:01.506124034Z"
    }
   },
   "id": "8ff754a8066fecbb"
  },
  {
   "cell_type": "code",
   "execution_count": null,
   "outputs": [],
   "source": [
    "batch_size = 128\n",
    "embeddings = {\n",
    "    # vocab_size = max count of ui elements\n",
    "    # embed_dim = average count of ui elments\n",
    "  'obj_dom_pos' : Embedding(vocab_size=100, embed_dim=20,batch_input_shape=[batch_size, None], mask_zero=True)\n",
    "}\n",
    "model = IntentPredictionModel(n_features, embeddings=embeddings)\n",
    "model.compile(optimizer='adam', loss='mse')\n",
    "\n",
    "early_stop = EarlyStopping(monitor='val_loss',patience=4)"
   ],
   "metadata": {
    "collapsed": false,
    "ExecuteTime": {
     "start_time": "2023-12-10T20:17:48.190021378Z"
    }
   },
   "id": "b03b5a43a21a3d5e"
  },
  {
   "cell_type": "code",
   "execution_count": null,
   "outputs": [],
   "source": [
    "model.fit(dataset,epochs=50,\n",
    "                    validation_data=validation_dataset,\n",
    "                    callbacks=[early_stop])"
   ],
   "metadata": {
    "collapsed": false,
    "ExecuteTime": {
     "start_time": "2023-12-10T20:17:48.190145370Z"
    }
   },
   "id": "83538c16a652dff2"
  },
  {
   "cell_type": "code",
   "execution_count": null,
   "outputs": [],
   "source": [
    "loss = pd.DataFrame(model.history.history)\n",
    "loss.plot()"
   ],
   "metadata": {
    "collapsed": false,
    "ExecuteTime": {
     "start_time": "2023-12-10T20:17:48.190196818Z"
    }
   },
   "id": "c77bfad7c65a7364"
  },
  {
   "cell_type": "code",
   "execution_count": null,
   "outputs": [],
   "source": [
    "## Evaluate on Test Data"
   ],
   "metadata": {
    "collapsed": false,
    "ExecuteTime": {
     "start_time": "2023-12-10T20:17:48.190241163Z"
    }
   },
   "id": "a719850fbb1ea4b6"
  },
  {
   "cell_type": "code",
   "execution_count": null,
   "outputs": [],
   "source": [
    "scaled_train_traces_lengths = list(map(len, scaled_test_traces))\n",
    "# Get the longest trace\n",
    "longest_scaled_train_trace = max(scaled_train_traces_lengths)\n",
    "print(longest_scaled_train_trace)\n",
    "index_longest_scaled_train_trace = scaled_train_traces_lengths.index(max(scaled_train_traces_lengths))\n",
    "print(index_longest_scaled_train_trace)"
   ],
   "metadata": {
    "collapsed": false,
    "ExecuteTime": {
     "start_time": "2023-12-10T20:17:48.190288405Z"
    }
   },
   "id": "37aa4f8bb92ceaf7"
  },
  {
   "cell_type": "code",
   "execution_count": null,
   "outputs": [],
   "source": [
    "my_prediction_trace = index_longest_scaled_train_trace\n",
    "scaled_train = scaled_test_traces[my_prediction_trace]"
   ],
   "metadata": {
    "collapsed": false,
    "ExecuteTime": {
     "start_time": "2023-12-10T20:17:48.190332199Z"
    }
   },
   "id": "2e5d39e9e24960b9"
  },
  {
   "cell_type": "code",
   "execution_count": null,
   "outputs": [],
   "source": [
    "test_predictions = []\n",
    "\n",
    "first_eval_batch = scaled_train[-length:]\n",
    "current_batch = tf.reshape(first_eval_batch, (1, length, n_features), name=None)\n",
    "\n",
    "for i in range(len(test)):\n",
    "\n",
    "  # get prediction 1 time stamp ahead ([0] is for grabbing just the number instead of [array])\n",
    "  current_pred = model.predict(current_batch)[0]\n",
    "\n",
    "  # store prediction\n",
    "  test_predictions.append(current_pred)\n",
    "\n",
    "  # update batch to now include prediction and drop first value\n",
    "  current_batch = np.append(current_batch[:,1:,:],[[current_pred]],axis=1)"
   ],
   "metadata": {
    "collapsed": false,
    "ExecuteTime": {
     "start_time": "2023-12-10T20:17:48.190369705Z"
    }
   },
   "id": "9b1ca8a355e04809"
  },
  {
   "cell_type": "code",
   "execution_count": null,
   "outputs": [],
   "source": [
    "true_predictions = scaler_invert(test_predictions)\n",
    "test[['PredictionsX', 'PredictionsY']] = true_predictions"
   ],
   "metadata": {
    "collapsed": false,
    "ExecuteTime": {
     "start_time": "2023-12-10T20:17:48.190462320Z"
    }
   },
   "id": "aa1ec2a553956e07"
  },
  {
   "cell_type": "code",
   "execution_count": 61,
   "outputs": [
    {
     "data": {
      "text/plain": "             x         y  PredictionsX  PredictionsY\n859   0.076720  0.077922      0.430469      0.318399\n870   0.207552  0.255411      0.402668      0.326663\n892   0.086340  0.079004      0.388115      0.330901\n921   0.296056  0.320346      0.376984      0.343233\n961   0.061328  0.076840      0.374387      0.367625\n972   0.228716  0.411255      0.404930      0.393860\n999   0.105580  0.074675      0.408515      0.400848\n1015  0.244108  0.470779      0.411002      0.405288\n1055  0.215248  0.533550      0.412937      0.408607\n1092  0.474988  0.338745      0.414144      0.410848\n1399  0.209476  0.844156      0.415555      0.412522\n1414  0.036316  0.076840      0.416238      0.413411\n1420  0.399952  0.691558      0.416709      0.413998\n1453  0.247956  0.206710      0.417031      0.414390",
      "text/html": "<div>\n<style scoped>\n    .dataframe tbody tr th:only-of-type {\n        vertical-align: middle;\n    }\n\n    .dataframe tbody tr th {\n        vertical-align: top;\n    }\n\n    .dataframe thead th {\n        text-align: right;\n    }\n</style>\n<table border=\"1\" class=\"dataframe\">\n  <thead>\n    <tr style=\"text-align: right;\">\n      <th></th>\n      <th>x</th>\n      <th>y</th>\n      <th>PredictionsX</th>\n      <th>PredictionsY</th>\n    </tr>\n  </thead>\n  <tbody>\n    <tr>\n      <th>859</th>\n      <td>0.076720</td>\n      <td>0.077922</td>\n      <td>0.430469</td>\n      <td>0.318399</td>\n    </tr>\n    <tr>\n      <th>870</th>\n      <td>0.207552</td>\n      <td>0.255411</td>\n      <td>0.402668</td>\n      <td>0.326663</td>\n    </tr>\n    <tr>\n      <th>892</th>\n      <td>0.086340</td>\n      <td>0.079004</td>\n      <td>0.388115</td>\n      <td>0.330901</td>\n    </tr>\n    <tr>\n      <th>921</th>\n      <td>0.296056</td>\n      <td>0.320346</td>\n      <td>0.376984</td>\n      <td>0.343233</td>\n    </tr>\n    <tr>\n      <th>961</th>\n      <td>0.061328</td>\n      <td>0.076840</td>\n      <td>0.374387</td>\n      <td>0.367625</td>\n    </tr>\n    <tr>\n      <th>972</th>\n      <td>0.228716</td>\n      <td>0.411255</td>\n      <td>0.404930</td>\n      <td>0.393860</td>\n    </tr>\n    <tr>\n      <th>999</th>\n      <td>0.105580</td>\n      <td>0.074675</td>\n      <td>0.408515</td>\n      <td>0.400848</td>\n    </tr>\n    <tr>\n      <th>1015</th>\n      <td>0.244108</td>\n      <td>0.470779</td>\n      <td>0.411002</td>\n      <td>0.405288</td>\n    </tr>\n    <tr>\n      <th>1055</th>\n      <td>0.215248</td>\n      <td>0.533550</td>\n      <td>0.412937</td>\n      <td>0.408607</td>\n    </tr>\n    <tr>\n      <th>1092</th>\n      <td>0.474988</td>\n      <td>0.338745</td>\n      <td>0.414144</td>\n      <td>0.410848</td>\n    </tr>\n    <tr>\n      <th>1399</th>\n      <td>0.209476</td>\n      <td>0.844156</td>\n      <td>0.415555</td>\n      <td>0.412522</td>\n    </tr>\n    <tr>\n      <th>1414</th>\n      <td>0.036316</td>\n      <td>0.076840</td>\n      <td>0.416238</td>\n      <td>0.413411</td>\n    </tr>\n    <tr>\n      <th>1420</th>\n      <td>0.399952</td>\n      <td>0.691558</td>\n      <td>0.416709</td>\n      <td>0.413998</td>\n    </tr>\n    <tr>\n      <th>1453</th>\n      <td>0.247956</td>\n      <td>0.206710</td>\n      <td>0.417031</td>\n      <td>0.414390</td>\n    </tr>\n  </tbody>\n</table>\n</div>"
     },
     "execution_count": 61,
     "metadata": {},
     "output_type": "execute_result"
    }
   ],
   "source": [
    "test"
   ],
   "metadata": {
    "collapsed": false,
    "ExecuteTime": {
     "end_time": "2023-12-08T10:36:10.664485263Z",
     "start_time": "2023-12-08T10:36:10.650481804Z"
    }
   },
   "id": "210af86b477f7629"
  },
  {
   "cell_type": "code",
   "execution_count": 62,
   "outputs": [
    {
     "data": {
      "text/plain": "<AxesSubplot: >"
     },
     "execution_count": 62,
     "metadata": {},
     "output_type": "execute_result"
    },
    {
     "data": {
      "text/plain": "<Figure size 640x480 with 1 Axes>",
      "image/png": "[encoded data removed]"
     },
     "metadata": {},
     "output_type": "display_data"
    }
   ],
   "source": [
    "test.plot(color = ['#00FF00', '#FF0000', '#00FF88', '#FF0088'])"
   ],
   "metadata": {
    "collapsed": false,
    "ExecuteTime": {
     "end_time": "2023-12-08T10:36:11.927865674Z",
     "start_time": "2023-12-08T10:36:11.742766933Z"
    }
   },
   "id": "be71c392c2c63323"
  },
  {
   "cell_type": "code",
   "execution_count": 63,
   "outputs": [
    {
     "name": "stdout",
     "output_type": "stream",
     "text": [
      "0.23421116461721828\n",
      "0.23345033378661953\n"
     ]
    }
   ],
   "source": [
    "from sklearn.metrics import mean_squared_error\n",
    "print(np.sqrt(mean_squared_error(test['x'],test['PredictionsX'])))\n",
    "print(np.sqrt(mean_squared_error(test['y'],test['PredictionsY'])))"
   ],
   "metadata": {
    "collapsed": false,
    "ExecuteTime": {
     "end_time": "2023-12-08T10:36:13.318491873Z",
     "start_time": "2023-12-08T10:36:13.309807200Z"
    }
   },
   "id": "d9c81d675a439b2b"
  },
  {
   "cell_type": "code",
   "execution_count": null,
   "outputs": [],
   "source": [],
   "metadata": {
    "collapsed": false
   },
   "id": "171736bad9e0c6e1"
  }
 ],
 "metadata": {
  "kernelspec": {
   "display_name": "Python 3",
   "language": "python",
   "name": "python3"
  },
  "language_info": {
   "codemirror_mode": {
    "name": "ipython",
    "version": 2
   },
   "file_extension": ".py",
   "mimetype": "text/x-python",
   "name": "python",
   "nbconvert_exporter": "python",
   "pygments_lexer": "ipython2",
   "version": "2.7.6"
  }
 },
 "nbformat": 4,
 "nbformat_minor": 5
}
