{
 "cells": [
  {
   "cell_type": "code",
   "execution_count": 1,
   "outputs": [
    {
     "name": "stderr",
     "output_type": "stream",
     "text": [
      "2023-12-08 10:29:45.437372: E external/local_xla/xla/stream_executor/cuda/cuda_dnn.cc:9261] Unable to register cuDNN factory: Attempting to register factory for plugin cuDNN when one has already been registered\n",
      "2023-12-08 10:29:45.437414: E external/local_xla/xla/stream_executor/cuda/cuda_fft.cc:607] Unable to register cuFFT factory: Attempting to register factory for plugin cuFFT when one has already been registered\n",
      "2023-12-08 10:29:45.438678: E external/local_xla/xla/stream_executor/cuda/cuda_blas.cc:1515] Unable to register cuBLAS factory: Attempting to register factory for plugin cuBLAS when one has already been registered\n",
      "2023-12-08 10:29:45.445574: I tensorflow/core/platform/cpu_feature_guard.cc:182] This TensorFlow binary is optimized to use available CPU instructions in performance-critical operations.\n",
      "To enable the following instructions: AVX2 FMA, in other operations, rebuild TensorFlow with the appropriate compiler flags.\n",
      "2023-12-08 10:29:46.461959: W tensorflow/compiler/tf2tensorrt/utils/py_utils.cc:38] TF-TRT Warning: Could not find TensorRT\n"
     ]
    }
   ],
   "source": [
    "import glob\n",
    "#from pathlib import Path\n",
    "import json\n",
    "import preprocessing as pp\n",
    "import tensorflow as tf\n",
    "import pandas as pd\n",
    "import numpy as np\n",
    "import matplotlib.pyplot as plt"
   ],
   "metadata": {
    "collapsed": false,
    "ExecuteTime": {
     "end_time": "2023-12-08T09:29:48.656080766Z",
     "start_time": "2023-12-08T09:29:45.057883656Z"
    }
   },
   "id": "daa48e61d9b31fa3"
  },
  {
   "cell_type": "code",
   "execution_count": 2,
   "outputs": [],
   "source": [
    "keys_to_dtype = {\n",
    "  #'developer_token_id': tf.int64,\n",
    "  #'resource_token_id': tf.int64,\n",
    "  #'screen_caption_token_ids': tf.int64,\n",
    "  #'appdesc_token_id': tf.int64,\n",
    "  'clickable_seq': tf.int64,\n",
    "  'type_id_seq': tf.int64,\n",
    "  'cord_x_seq': tf.float32,\n",
    "  'cord_y_seq': tf.float32,\n",
    "  'visibility_to_user_seq': tf.int64,\n",
    "  'visibility_seq': tf.int64,\n",
    "  #'attended_objects': tf.int64,\n",
    "  #'label_flag': tf.int64,  # 0: padding 1: node\n",
    "  # 'obj_img_mat': tf.int64,\n",
    "  'obj_dom_pos': tf.int64,\n",
    "  #'attention_boxes': tf.float32,\n",
    "  #'gold_caption': tf.string,\n",
    "}"
   ],
   "metadata": {
    "collapsed": false,
    "ExecuteTime": {
     "end_time": "2023-12-08T09:29:48.669196477Z",
     "start_time": "2023-12-08T09:29:48.658679333Z"
    }
   },
   "id": "d8cde309fcb4de9b"
  },
  {
   "cell_type": "code",
   "execution_count": 3,
   "outputs": [],
   "source": [
    "def get_features_from_gestures(gesture_path):\n",
    "  with tf.io.gfile.GFile(gesture_path) as f:\n",
    "    gesture_json = json.load(f)\n",
    "  trace_path = gesture_path.replace('gestures.json', '')\n",
    "  # Throw away all gestures except the first\n",
    "  gesture_items = list(gesture_json.items())\n",
    "  # Remove empty gestures\n",
    "  gesture_items = [gesture for gesture in gesture_items if gesture[1]]\n",
    "  # TODO: Add column: isSwipe, if gesture has more than one entry\n",
    "  if gesture_items and gesture_items[0]:\n",
    "    gesture_dict = {gesture[0]:gesture[1][0] for gesture in gesture_items}\n",
    "  else:\n",
    "    gesture_dict = {}\n",
    "\n",
    "  first_gesture_item = list(gesture_dict.items())\n",
    "  if (not gesture_dict) or (not first_gesture_item[0]) or (not first_gesture_item[0][1]):\n",
    "    # Return empty dataframe, if no data is available\n",
    "    return pd.DataFrame(columns=['x', 'y']), trace_path\n",
    "  \n",
    "  gesture_df = pd.DataFrame(gesture_dict).transpose()\n",
    "  gesture_df.columns = ['x', 'y']\n",
    "  return gesture_df, trace_path"
   ],
   "metadata": {
    "collapsed": false,
    "ExecuteTime": {
     "end_time": "2023-12-08T09:29:48.669447926Z",
     "start_time": "2023-12-08T09:29:48.665898849Z"
    }
   },
   "id": "370e5596e68c7cc9"
  },
  {
   "cell_type": "code",
   "execution_count": 4,
   "outputs": [],
   "source": [
    "def to_var_len_feature_dict(entries):\n",
    "  dict = {}\n",
    "  for feature_item in entries:\n",
    "    dict[feature_item[0]] = tf.convert_to_tensor(feature_item[1], dtype=keys_to_dtype[feature_item[0]])\n",
    "  return dict\n"
   ],
   "metadata": {
    "collapsed": false,
    "ExecuteTime": {
     "end_time": "2023-12-08T09:29:48.687471162Z",
     "start_time": "2023-12-08T09:29:48.668732662Z"
    }
   },
   "id": "89639235a8f4fd38"
  },
  {
   "cell_type": "code",
   "execution_count": 5,
   "outputs": [
    {
     "data": {
      "text/plain": "'../sources/datasets/RICO/traces/filtered_traces/*/trace_*/gestures.json'"
     },
     "execution_count": 5,
     "metadata": {},
     "output_type": "execute_result"
    }
   ],
   "source": [
    "#pathToCombined = \"D:/Tmp/Coding/datasets/RICO/unique_uis/test_dataset\"\n",
    "traces_prefix = \"../sources/datasets/RICO/traces/filtered_traces\"\n",
    "path_to_gesture_json = f\"{traces_prefix}/*/trace_*/gestures.json\"\n",
    "path_to_gesture_json"
   ],
   "metadata": {
    "collapsed": false,
    "ExecuteTime": {
     "end_time": "2023-12-08T09:29:49.339463202Z",
     "start_time": "2023-12-08T09:29:49.325571926Z"
    }
   },
   "id": "1010903aaff8e289"
  },
  {
   "cell_type": "code",
   "execution_count": 6,
   "outputs": [
    {
     "data": {
      "text/plain": "10292"
     },
     "execution_count": 6,
     "metadata": {},
     "output_type": "execute_result"
    }
   ],
   "source": [
    "gesture_json_paths = glob.glob(path_to_gesture_json)\n",
    "len(gesture_json_paths)"
   ],
   "metadata": {
    "collapsed": false,
    "ExecuteTime": {
     "end_time": "2023-12-08T09:29:55.711183659Z",
     "start_time": "2023-12-08T09:29:52.294552362Z"
    }
   },
   "id": "3d96e858f6638676"
  },
  {
   "cell_type": "code",
   "execution_count": 7,
   "outputs": [],
   "source": [
    "def get_features_from_tree(frame_index, trace_path):\n",
    "  file_prefix = f\"{trace_path}view_hierarchies/{frame_index}\"\n",
    "  features_dict = pp.create_simple_features(file_prefix)\n",
    "  del features_dict['node_id']\n",
    "  feature_items = list(features_dict.items())\n",
    "  #feature_items = to_var_len_feature_dict(feature_items).items()\n",
    "  tree_feature_df = pd.DataFrame(feature_items, columns=['feat', frame_index])\n",
    "  tree_feature_df = tree_feature_df.set_index('feat')\n",
    "  tree_feature_df = tree_feature_df.transpose()\n",
    "  return tree_feature_df\n",
    "  #return pd.DataFrame(features_adapt, index=[frame_index])"
   ],
   "metadata": {
    "collapsed": false,
    "ExecuteTime": {
     "end_time": "2023-12-08T09:29:55.711390400Z",
     "start_time": "2023-12-08T09:29:55.704092895Z"
    }
   },
   "id": "897083222d435531"
  },
  {
   "cell_type": "code",
   "execution_count": 8,
   "outputs": [
    {
     "data": {
      "text/plain": "feat                                        obj_dom_pos  \\\n432   [1, 1, 68, 2, 2, 67, 2, 67, 2, 2, 68, 1, 3, 3,...   \n\nfeat                                        type_id_seq  \\\n432   [4, 4, 4, 4, 4, 4, 4, 4, 4, 4, 4, 4, 4, 4, 4, ...   \n\nfeat                                     visibility_seq  \\\n432   [1, 1, 1, 1, 0, 1, 1, 1, 1, 1, 1, 0, 1, 1, 1, ...   \n\nfeat                             visibility_to_user_seq  \\\n432   [1, 1, 1, 1, 0, 1, 1, 1, 1, 1, 1, 0, 1, 1, 1, ...   \n\nfeat                                      clickable_seq  \\\n432   [0, 0, 0, 0, 0, 0, 0, 0, 0, 0, 0, 0, 1, 1, 0, ...   \n\nfeat                                         cord_x_seq  \\\n432   [[0.0, 1.0], [0.0, 1.0], [0.0, 1.0], [0.0, 1.0...   \n\nfeat                                         cord_y_seq  \n432   [[0.0, 1.0], [0.0, 0.934375], [0.934375, 1.0],...  ",
      "text/html": "<div>\n<style scoped>\n    .dataframe tbody tr th:only-of-type {\n        vertical-align: middle;\n    }\n\n    .dataframe tbody tr th {\n        vertical-align: top;\n    }\n\n    .dataframe thead th {\n        text-align: right;\n    }\n</style>\n<table border=\"1\" class=\"dataframe\">\n  <thead>\n    <tr style=\"text-align: right;\">\n      <th>feat</th>\n      <th>obj_dom_pos</th>\n      <th>type_id_seq</th>\n      <th>visibility_seq</th>\n      <th>visibility_to_user_seq</th>\n      <th>clickable_seq</th>\n      <th>cord_x_seq</th>\n      <th>cord_y_seq</th>\n    </tr>\n  </thead>\n  <tbody>\n    <tr>\n      <th>432</th>\n      <td>[1, 1, 68, 2, 2, 67, 2, 67, 2, 2, 68, 1, 3, 3,...</td>\n      <td>[4, 4, 4, 4, 4, 4, 4, 4, 4, 4, 4, 4, 4, 4, 4, ...</td>\n      <td>[1, 1, 1, 1, 0, 1, 1, 1, 1, 1, 1, 0, 1, 1, 1, ...</td>\n      <td>[1, 1, 1, 1, 0, 1, 1, 1, 1, 1, 1, 0, 1, 1, 1, ...</td>\n      <td>[0, 0, 0, 0, 0, 0, 0, 0, 0, 0, 0, 0, 1, 1, 0, ...</td>\n      <td>[[0.0, 1.0], [0.0, 1.0], [0.0, 1.0], [0.0, 1.0...</td>\n      <td>[[0.0, 1.0], [0.0, 0.934375], [0.934375, 1.0],...</td>\n    </tr>\n  </tbody>\n</table>\n</div>"
     },
     "execution_count": 8,
     "metadata": {},
     "output_type": "execute_result"
    }
   ],
   "source": [
    "gesture_path = gesture_json_paths[42]\n",
    "gesture_df, trace_path = get_features_from_gestures(gesture_path)\n",
    "frameIndex = gesture_df.index.values[0]\n",
    "feature_df = get_features_from_tree(frameIndex, trace_path)\n",
    "feature_df\n",
    "#feature_item = features[0]\n",
    "#feature_item\n",
    "#tf.convert_to_tensor(feature_item[1], dtype=keys_to_dtype[feature_item[0]])"
   ],
   "metadata": {
    "collapsed": false,
    "ExecuteTime": {
     "end_time": "2023-12-08T09:29:58.887701756Z",
     "start_time": "2023-12-08T09:29:58.839492085Z"
    }
   },
   "id": "3fe910aceba99bcd"
  },
  {
   "cell_type": "code",
   "execution_count": 9,
   "outputs": [],
   "source": [
    "# gesture_df['x'].dtype # float64\n",
    "# gesture_df['y'].dtype # float64"
   ],
   "metadata": {
    "collapsed": false,
    "ExecuteTime": {
     "end_time": "2023-12-08T09:30:00.533351439Z",
     "start_time": "2023-12-08T09:30:00.499167512Z"
    }
   },
   "id": "b380f22ccb4ae7a7"
  },
  {
   "cell_type": "code",
   "execution_count": 10,
   "outputs": [],
   "source": [
    "# for t,v in keys_to_dtype.items():\n",
    "#     print(feature_df[t]['4758'][0].dtype)"
   ],
   "metadata": {
    "collapsed": false,
    "ExecuteTime": {
     "end_time": "2023-12-08T09:30:01.592914692Z",
     "start_time": "2023-12-08T09:30:01.573499297Z"
    }
   },
   "id": "ab1b2610bf47faf"
  },
  {
   "cell_type": "code",
   "execution_count": 11,
   "outputs": [
    {
     "data": {
      "text/plain": "             x         y\n432   0.407648  0.272727\n514   0.848244  0.890693\n705   0.063252  0.071429\n947   0.430736  0.405844\n2172  0.072872  0.068182\n2212  0.242184  0.337662",
      "text/html": "<div>\n<style scoped>\n    .dataframe tbody tr th:only-of-type {\n        vertical-align: middle;\n    }\n\n    .dataframe tbody tr th {\n        vertical-align: top;\n    }\n\n    .dataframe thead th {\n        text-align: right;\n    }\n</style>\n<table border=\"1\" class=\"dataframe\">\n  <thead>\n    <tr style=\"text-align: right;\">\n      <th></th>\n      <th>x</th>\n      <th>y</th>\n    </tr>\n  </thead>\n  <tbody>\n    <tr>\n      <th>432</th>\n      <td>0.407648</td>\n      <td>0.272727</td>\n    </tr>\n    <tr>\n      <th>514</th>\n      <td>0.848244</td>\n      <td>0.890693</td>\n    </tr>\n    <tr>\n      <th>705</th>\n      <td>0.063252</td>\n      <td>0.071429</td>\n    </tr>\n    <tr>\n      <th>947</th>\n      <td>0.430736</td>\n      <td>0.405844</td>\n    </tr>\n    <tr>\n      <th>2172</th>\n      <td>0.072872</td>\n      <td>0.068182</td>\n    </tr>\n    <tr>\n      <th>2212</th>\n      <td>0.242184</td>\n      <td>0.337662</td>\n    </tr>\n  </tbody>\n</table>\n</div>"
     },
     "execution_count": 11,
     "metadata": {},
     "output_type": "execute_result"
    }
   ],
   "source": [
    "# Try without features for now, only gestures\n",
    "# all_feat_df = pd.concat([gesture_df, feature_df], axis=1)\n",
    "all_feat_df = gesture_df\n",
    "all_feat_df"
   ],
   "metadata": {
    "collapsed": false,
    "ExecuteTime": {
     "end_time": "2023-12-08T09:30:03.099593079Z",
     "start_time": "2023-12-08T09:30:03.072269420Z"
    }
   },
   "id": "a60861c0e824008e"
  },
  {
   "cell_type": "code",
   "execution_count": 12,
   "outputs": [],
   "source": [
    "#feature_df['type_id_seq'].iloc[0][0].dtype"
   ],
   "metadata": {
    "collapsed": false,
    "ExecuteTime": {
     "end_time": "2023-12-08T09:30:06.500324539Z",
     "start_time": "2023-12-08T09:30:06.441300493Z"
    }
   },
   "id": "924f3487fba88fba"
  },
  {
   "cell_type": "code",
   "execution_count": 13,
   "outputs": [],
   "source": [
    "length = 5\n",
    "n_features=2\n",
    "label_length=1"
   ],
   "metadata": {
    "collapsed": false,
    "ExecuteTime": {
     "end_time": "2023-12-08T09:30:10.293933579Z",
     "start_time": "2023-12-08T09:30:10.276334035Z"
    }
   },
   "id": "55d7839ec1e2833a"
  },
  {
   "cell_type": "code",
   "execution_count": 14,
   "outputs": [
    {
     "data": {
      "text/plain": "4278"
     },
     "execution_count": 14,
     "metadata": {},
     "output_type": "execute_result"
    }
   ],
   "source": [
    " # Get set of frames for each screen, but don't mix them during training LSTM\n",
    "feature_traces = []\n",
    "for trace_id, gesture_path in enumerate(gesture_json_paths):\n",
    "    gesture_df, trace_path = get_features_from_gestures(gesture_path)\n",
    "    # Traces with too few frames will be dropped\n",
    "    if len(gesture_df) < (length + label_length):\n",
    "        continue\n",
    "    if False: # Try without features for now, only gestures\n",
    "        tree_features_df = pd.DataFrame()\n",
    "        for frame_id in gesture_df.index.values:\n",
    "            tree_feature_df = get_features_tensor_from_tree(frame_id, trace_path)\n",
    "            tree_features_df = pd.concat([tree_features_df, tree_feature_df], axis=0)\n",
    "        trace_features_df = pd.concat([gesture_df, tree_features_df], axis=1)\n",
    "    else:\n",
    "        trace_features_df = gesture_df\n",
    "    #trace_features_df = tree_feature_df\n",
    "    # TODO: save in list of traces\n",
    "    #trace_features_df['trace_id'] = trace_id\n",
    "    feature_traces.append(trace_features_df)\n",
    "\n",
    "len(feature_traces)\n",
    "        "
   ],
   "metadata": {
    "collapsed": false,
    "ExecuteTime": {
     "end_time": "2023-12-08T09:30:17.715568065Z",
     "start_time": "2023-12-08T09:30:11.336692197Z"
    }
   },
   "id": "288b287670f0c8ba"
  },
  {
   "cell_type": "code",
   "execution_count": 15,
   "outputs": [],
   "source": [
    "# TODO: split by trace id\n",
    "# This is done by trace and not by frame windows as otherwise the model would be trained with similar apps before\n",
    "test_size = len(feature_traces) // 4\n",
    "test_ind = len(feature_traces) - test_size\n",
    "\n",
    "train_traces = feature_traces[:test_ind]\n",
    "test_traces = feature_traces[test_ind:]"
   ],
   "metadata": {
    "collapsed": false,
    "ExecuteTime": {
     "end_time": "2023-12-08T09:30:19.601373111Z",
     "start_time": "2023-12-08T09:30:19.580567416Z"
    }
   },
   "id": "68dc568c059d2160"
  },
  {
   "cell_type": "code",
   "execution_count": 16,
   "outputs": [],
   "source": [
    "#df['obj_dom_pos'].dtype"
   ],
   "metadata": {
    "collapsed": false,
    "ExecuteTime": {
     "end_time": "2023-12-08T09:30:21.080090227Z",
     "start_time": "2023-12-08T09:30:21.067731702Z"
    }
   },
   "id": "e7971c3e9fc1ce6c"
  },
  {
   "cell_type": "code",
   "execution_count": 17,
   "outputs": [
    {
     "name": "stderr",
     "output_type": "stream",
     "text": [
      "2023-12-08 10:30:23.839297: I external/local_xla/xla/stream_executor/cuda/cuda_executor.cc:901] successful NUMA node read from SysFS had negative value (-1), but there must be at least one NUMA node, so returning NUMA node zero. See more at https://github.com/torvalds/linux/blob/v6.0/Documentation/ABI/testing/sysfs-bus-pci#L344-L355\n",
      "2023-12-08 10:30:23.884933: I external/local_xla/xla/stream_executor/cuda/cuda_executor.cc:901] successful NUMA node read from SysFS had negative value (-1), but there must be at least one NUMA node, so returning NUMA node zero. See more at https://github.com/torvalds/linux/blob/v6.0/Documentation/ABI/testing/sysfs-bus-pci#L344-L355\n",
      "2023-12-08 10:30:23.885159: I external/local_xla/xla/stream_executor/cuda/cuda_executor.cc:901] successful NUMA node read from SysFS had negative value (-1), but there must be at least one NUMA node, so returning NUMA node zero. See more at https://github.com/torvalds/linux/blob/v6.0/Documentation/ABI/testing/sysfs-bus-pci#L344-L355\n",
      "2023-12-08 10:30:23.885925: I external/local_xla/xla/stream_executor/cuda/cuda_executor.cc:901] successful NUMA node read from SysFS had negative value (-1), but there must be at least one NUMA node, so returning NUMA node zero. See more at https://github.com/torvalds/linux/blob/v6.0/Documentation/ABI/testing/sysfs-bus-pci#L344-L355\n",
      "2023-12-08 10:30:23.886154: I external/local_xla/xla/stream_executor/cuda/cuda_executor.cc:901] successful NUMA node read from SysFS had negative value (-1), but there must be at least one NUMA node, so returning NUMA node zero. See more at https://github.com/torvalds/linux/blob/v6.0/Documentation/ABI/testing/sysfs-bus-pci#L344-L355\n",
      "2023-12-08 10:30:23.886324: I external/local_xla/xla/stream_executor/cuda/cuda_executor.cc:901] successful NUMA node read from SysFS had negative value (-1), but there must be at least one NUMA node, so returning NUMA node zero. See more at https://github.com/torvalds/linux/blob/v6.0/Documentation/ABI/testing/sysfs-bus-pci#L344-L355\n",
      "2023-12-08 10:30:23.926273: I external/local_xla/xla/stream_executor/cuda/cuda_executor.cc:901] successful NUMA node read from SysFS had negative value (-1), but there must be at least one NUMA node, so returning NUMA node zero. See more at https://github.com/torvalds/linux/blob/v6.0/Documentation/ABI/testing/sysfs-bus-pci#L344-L355\n",
      "2023-12-08 10:30:23.926467: I external/local_xla/xla/stream_executor/cuda/cuda_executor.cc:901] successful NUMA node read from SysFS had negative value (-1), but there must be at least one NUMA node, so returning NUMA node zero. See more at https://github.com/torvalds/linux/blob/v6.0/Documentation/ABI/testing/sysfs-bus-pci#L344-L355\n",
      "2023-12-08 10:30:23.926628: I external/local_xla/xla/stream_executor/cuda/cuda_executor.cc:901] successful NUMA node read from SysFS had negative value (-1), but there must be at least one NUMA node, so returning NUMA node zero. See more at https://github.com/torvalds/linux/blob/v6.0/Documentation/ABI/testing/sysfs-bus-pci#L344-L355\n",
      "2023-12-08 10:30:23.926750: I tensorflow/core/common_runtime/gpu/gpu_device.cc:1929] Created device /job:localhost/replica:0/task:0/device:GPU:0 with 1956 MB memory:  -> device: 0, name: NVIDIA GeForce GTX 970, pci bus id: 0000:01:00.0, compute capability: 5.2\n",
      "2023-12-08 10:30:24.310260: I external/local_tsl/tsl/platform/default/subprocess.cc:304] Start cannot spawn child process: No such file or directory\n"
     ]
    },
    {
     "name": "stdout",
     "output_type": "stream",
     "text": [
      "tf.Tensor(\n",
      "[[0.82515633 0.3517316 ]\n",
      " [0.37301588 0.22402598]\n",
      " [0.56349206 0.89826846]\n",
      " [0.16907167 0.3365801 ]\n",
      " [0.34607986 0.13636364]\n",
      " [0.4134199  0.25757575]\n",
      " [0.09018758 0.07034634]\n",
      " [0.25757575 0.78679657]\n",
      " [0.07864358 0.90043294]\n",
      " [0.15945166 0.98051953]], shape=(10, 2), dtype=float32)\n"
     ]
    }
   ],
   "source": [
    "from keras.layers import Normalization\n",
    "\n",
    "scaler = Normalization()\n",
    "scaler_invert = Normalization(invert=True)\n",
    "\n",
    "# Adapt scaler\n",
    "for train in train_traces:\n",
    "  scaler.adapt(train)\n",
    "  scaler_invert.adapt(train)\n",
    "\n",
    "# Scale train data\n",
    "scaled_train_traces = []\n",
    "for train in train_traces:\n",
    "  scaled_train_traces.append(scaler(train))\n",
    "\n",
    "# Scale test data\n",
    "scaled_test_traces = []\n",
    "for test in test_traces:\n",
    "  scaled_test_traces.append(scaler(test))\n",
    "\n",
    "print(scaler_invert(scaled_train_traces[0]))"
   ],
   "metadata": {
    "collapsed": false,
    "ExecuteTime": {
     "end_time": "2023-12-08T09:35:49.656220511Z",
     "start_time": "2023-12-08T09:30:23.795565151Z"
    }
   },
   "id": "3ef65237c3f7c11e"
  },
  {
   "cell_type": "code",
   "execution_count": 18,
   "outputs": [
    {
     "data": {
      "text/plain": "<tf.Tensor: shape=(10, 2), dtype=float32, numpy=\narray([[ 2.997085  ,  0.4924336 ],\n       [ 0.67551684, -0.21559192],\n       [ 1.6535392 ,  3.5225434 ],\n       [-0.37165862,  0.40843067],\n       [ 0.53721064, -0.7016095 ],\n       [ 0.88297606, -0.02958527],\n       [-0.7766983 , -1.0676227 ],\n       [ 0.08277594,  2.9045208 ],\n       [-0.8359723 ,  3.5345438 ],\n       [-0.4210537 ,  3.9785597 ]], dtype=float32)>"
     },
     "execution_count": 18,
     "metadata": {},
     "output_type": "execute_result"
    }
   ],
   "source": [
    "scaled_train_traces[0]"
   ],
   "metadata": {
    "collapsed": false,
    "ExecuteTime": {
     "end_time": "2023-12-08T09:35:49.656656151Z",
     "start_time": "2023-12-08T09:35:49.649937535Z"
    }
   },
   "id": "95f3bafe5ec03b33"
  },
  {
   "cell_type": "code",
   "execution_count": 183,
   "outputs": [],
   "source": [
    "# from tensorflow.keras.preprocessing.sequence import TimeseriesGenerator\n",
    "# # Replace by timeseries_dataset_from_array\n",
    "# generator = TimeseriesGenerator(scaled_train, scaled_train, length=length, batch_size=1)\n",
    "# validation_generator = TimeseriesGenerator(scaled_test,scaled_test, length=length, batch_size=1)\n",
    "# len(generator)"
   ],
   "metadata": {
    "collapsed": false,
    "ExecuteTime": {
     "end_time": "2023-12-08T01:57:39.823744257Z",
     "start_time": "2023-12-08T01:57:39.807436253Z"
    }
   },
   "id": "b6de01b5523b9891"
  },
  {
   "cell_type": "code",
   "execution_count": 184,
   "outputs": [],
   "source": [
    "# X,y = generator[0]\n",
    "# X"
   ],
   "metadata": {
    "collapsed": false,
    "ExecuteTime": {
     "end_time": "2023-12-08T01:57:40.749245293Z",
     "start_time": "2023-12-08T01:57:40.720276670Z"
    }
   },
   "id": "bb6fb4ed4cb81857"
  },
  {
   "cell_type": "code",
   "execution_count": 185,
   "outputs": [],
   "source": [
    "#y"
   ],
   "metadata": {
    "collapsed": false,
    "ExecuteTime": {
     "end_time": "2023-12-08T01:57:47.711114611Z",
     "start_time": "2023-12-08T01:57:47.666005260Z"
    }
   },
   "id": "7b4c73197d04e7b"
  },
  {
   "cell_type": "code",
   "execution_count": 20,
   "outputs": [
    {
     "data": {
      "text/plain": "<tf.Tensor: shape=(5, 5, 2), dtype=float32, numpy=\narray([[[ 2.997085  ,  0.4924336 ],\n        [ 0.67551684, -0.21559192],\n        [ 1.6535392 ,  3.5225434 ],\n        [-0.37165862,  0.40843067],\n        [ 0.53721064, -0.7016095 ]],\n\n       [[ 0.67551684, -0.21559192],\n        [ 1.6535392 ,  3.5225434 ],\n        [-0.37165862,  0.40843067],\n        [ 0.53721064, -0.7016095 ],\n        [ 0.88297606, -0.02958527]],\n\n       [[ 1.6535392 ,  3.5225434 ],\n        [-0.37165862,  0.40843067],\n        [ 0.53721064, -0.7016095 ],\n        [ 0.88297606, -0.02958527],\n        [-0.7766983 , -1.0676227 ]],\n\n       [[-0.37165862,  0.40843067],\n        [ 0.53721064, -0.7016095 ],\n        [ 0.88297606, -0.02958527],\n        [-0.7766983 , -1.0676227 ],\n        [ 0.08277594,  2.9045208 ]],\n\n       [[ 0.53721064, -0.7016095 ],\n        [ 0.88297606, -0.02958527],\n        [-0.7766983 , -1.0676227 ],\n        [ 0.08277594,  2.9045208 ],\n        [-0.8359723 ,  3.5345438 ]]], dtype=float32)>"
     },
     "execution_count": 20,
     "metadata": {},
     "output_type": "execute_result"
    }
   ],
   "source": [
    "import functools\n",
    "\n",
    "def split_window(features):\n",
    "  inputs = features[:, slice(0, length), :]\n",
    "  labels = features[:, slice(length, length + label_length), :]\n",
    "  return inputs, labels\n",
    "\n",
    "def make_dataset(data):\n",
    "  ds = tf.keras.utils.timeseries_dataset_from_array(\n",
    "    data=data,\n",
    "    targets=None,\n",
    "    sequence_length=length + label_length,\n",
    "    sequence_stride=1,\n",
    "    shuffle=False, # TODO: Shuffle if possible\n",
    "    batch_size=32,)\n",
    "\n",
    "  ds = ds.map(split_window)\n",
    "  return ds\n",
    "\n",
    "train_dataset_list = list(map(make_dataset,scaled_train_traces))\n",
    "dataset = functools.reduce(lambda a, b: a.concatenate(b), train_dataset_list)\n",
    "\n",
    "test_dataset_list = list(map(make_dataset,scaled_test_traces))\n",
    "validation_dataset = functools.reduce(lambda a, b: a.concatenate(b), test_dataset_list)\n",
    "# dataset\n",
    "# dataset = tf.data.Dataset.from_tensor_slices(scaled_train).window(length, drop_remainder=True)\n",
    "# for inputs, labels in dataset:\n",
    "#     print(len(inputs))\n",
    "#     print(list(inputs.numpy()))\n",
    "\n",
    "inputs, labels = next(iter(dataset))\n",
    "inputs"
   ],
   "metadata": {
    "collapsed": false,
    "ExecuteTime": {
     "end_time": "2023-12-08T09:42:10.285260598Z",
     "start_time": "2023-12-08T09:38:51.877945909Z"
    }
   },
   "id": "50754d7d00fba54b"
  },
  {
   "cell_type": "code",
   "execution_count": 21,
   "outputs": [
    {
     "data": {
      "text/plain": "<tf.Tensor: shape=(5, 1, 2), dtype=float32, numpy=\narray([[[ 0.88297606, -0.02958527]],\n\n       [[-0.7766983 , -1.0676227 ]],\n\n       [[ 0.08277594,  2.9045208 ]],\n\n       [[-0.8359723 ,  3.5345438 ]],\n\n       [[-0.4210537 ,  3.9785597 ]]], dtype=float32)>"
     },
     "execution_count": 21,
     "metadata": {},
     "output_type": "execute_result"
    }
   ],
   "source": [
    "labels"
   ],
   "metadata": {
    "collapsed": false,
    "ExecuteTime": {
     "end_time": "2023-12-08T09:42:10.289608862Z",
     "start_time": "2023-12-08T09:42:10.266007985Z"
    }
   },
   "id": "4d2cba0a5fe86e9e"
  },
  {
   "cell_type": "code",
   "execution_count": 22,
   "outputs": [],
   "source": [
    "from keras.models import Sequential\n",
    "from keras.layers import Dense,LSTM\n",
    "from keras.callbacks import EarlyStopping"
   ],
   "metadata": {
    "collapsed": false,
    "ExecuteTime": {
     "end_time": "2023-12-08T09:42:10.289831221Z",
     "start_time": "2023-12-08T09:42:10.266188617Z"
    }
   },
   "id": "4d041342072cad7e"
  },
  {
   "cell_type": "code",
   "execution_count": 27,
   "outputs": [
    {
     "name": "stdout",
     "output_type": "stream",
     "text": [
      "WARNING:tensorflow:Layer lstm_1 will not use cuDNN kernels since it doesn't meet the criteria. It will use a generic GPU kernel as fallback when running on GPU.\n"
     ]
    }
   ],
   "source": [
    "model = Sequential()\n",
    "model.add(LSTM(100, activation='relu', input_shape=(length, n_features)))\n",
    "model.add(Dense(n_features))\n",
    "model.compile(optimizer='adam', loss='mse')\n",
    "\n",
    "early_stop = EarlyStopping(monitor='val_loss',patience=4)"
   ],
   "metadata": {
    "collapsed": false,
    "ExecuteTime": {
     "end_time": "2023-12-08T10:06:48.932244973Z",
     "start_time": "2023-12-08T10:06:48.830322346Z"
    }
   },
   "id": "b03b5a43a21a3d5e"
  },
  {
   "cell_type": "code",
   "execution_count": 28,
   "outputs": [
    {
     "name": "stdout",
     "output_type": "stream",
     "text": [
      "Epoch 1/50\n",
      "3231/3231 [==============================] - 78s 23ms/step - loss: 2.5162 - val_loss: 2.5182\n",
      "Epoch 2/50\n",
      "3231/3231 [==============================] - 70s 22ms/step - loss: 2.5032 - val_loss: 2.5184\n",
      "Epoch 3/50\n",
      "3231/3231 [==============================] - 76s 24ms/step - loss: 2.5012 - val_loss: 2.5174\n",
      "Epoch 4/50\n",
      "3231/3231 [==============================] - 70s 22ms/step - loss: 2.4998 - val_loss: 2.5166\n",
      "Epoch 5/50\n",
      "3231/3231 [==============================] - 70s 22ms/step - loss: 2.4989 - val_loss: 2.5169\n",
      "Epoch 6/50\n",
      "3231/3231 [==============================] - 70s 22ms/step - loss: 2.4982 - val_loss: 2.5175\n",
      "Epoch 7/50\n",
      "3231/3231 [==============================] - 70s 22ms/step - loss: 2.4979 - val_loss: 2.5178\n",
      "Epoch 8/50\n",
      "3231/3231 [==============================] - 69s 21ms/step - loss: 2.4977 - val_loss: 2.5191\n"
     ]
    },
    {
     "data": {
      "text/plain": "<keras.src.callbacks.History at 0x7f7cd7ca30d0>"
     },
     "execution_count": 28,
     "metadata": {},
     "output_type": "execute_result"
    }
   ],
   "source": [
    "model.fit(dataset,epochs=50,\n",
    "                    validation_data=validation_dataset,\n",
    "                    callbacks=[early_stop])"
   ],
   "metadata": {
    "collapsed": false,
    "ExecuteTime": {
     "end_time": "2023-12-08T10:16:32.836175962Z",
     "start_time": "2023-12-08T10:06:49.790156402Z"
    }
   },
   "id": "83538c16a652dff2"
  },
  {
   "cell_type": "code",
   "execution_count": 29,
   "outputs": [
    {
     "data": {
      "text/plain": "<AxesSubplot: >"
     },
     "execution_count": 29,
     "metadata": {},
     "output_type": "execute_result"
    },
    {
     "data": {
      "text/plain": "<Figure size 640x480 with 1 Axes>",
      "image/png": "[encoded data removed]"
     },
     "metadata": {},
     "output_type": "display_data"
    }
   ],
   "source": [
    "loss = pd.DataFrame(model.history.history)\n",
    "loss.plot()"
   ],
   "metadata": {
    "collapsed": false,
    "ExecuteTime": {
     "end_time": "2023-12-08T10:16:32.980005212Z",
     "start_time": "2023-12-08T10:16:32.841272812Z"
    }
   },
   "id": "c77bfad7c65a7364"
  },
  {
   "cell_type": "code",
   "execution_count": 72,
   "outputs": [],
   "source": [
    "## Evaluate on Test Data"
   ],
   "metadata": {
    "collapsed": false,
    "ExecuteTime": {
     "start_time": "2023-12-07T23:46:43.656707086Z"
    }
   },
   "id": "a719850fbb1ea4b6"
  },
  {
   "cell_type": "code",
   "execution_count": 52,
   "outputs": [
    {
     "name": "stdout",
     "output_type": "stream",
     "text": [
      "50\n",
      "657\n"
     ]
    }
   ],
   "source": [
    "scaled_train_traces_lengths = list(map(len, scaled_test_traces))\n",
    "# Get the longest trace\n",
    "longest_scaled_train_trace = max(scaled_train_traces_lengths)\n",
    "print(longest_scaled_train_trace)\n",
    "index_longest_scaled_train_trace = scaled_train_traces_lengths.index(max(scaled_train_traces_lengths))\n",
    "print(index_longest_scaled_train_trace)"
   ],
   "metadata": {
    "collapsed": false,
    "ExecuteTime": {
     "end_time": "2023-12-08T10:35:00.768223516Z",
     "start_time": "2023-12-08T10:35:00.716553753Z"
    }
   },
   "id": "37aa4f8bb92ceaf7"
  },
  {
   "cell_type": "code",
   "execution_count": 53,
   "outputs": [],
   "source": [
    "my_prediction_trace = index_longest_scaled_train_trace\n",
    "scaled_train = scaled_test_traces[my_prediction_trace]"
   ],
   "metadata": {
    "collapsed": false,
    "ExecuteTime": {
     "end_time": "2023-12-08T10:35:07.147494106Z",
     "start_time": "2023-12-08T10:35:07.141400072Z"
    }
   },
   "id": "2e5d39e9e24960b9"
  },
  {
   "cell_type": "code",
   "execution_count": 59,
   "outputs": [
    {
     "name": "stdout",
     "output_type": "stream",
     "text": [
      "1/1 [==============================] - 0s 18ms/step\n",
      "1/1 [==============================] - 0s 19ms/step\n",
      "1/1 [==============================] - 0s 18ms/step\n",
      "1/1 [==============================] - 0s 18ms/step\n",
      "1/1 [==============================] - 0s 19ms/step\n",
      "1/1 [==============================] - 0s 19ms/step\n",
      "1/1 [==============================] - 0s 22ms/step\n",
      "1/1 [==============================] - 0s 22ms/step\n",
      "1/1 [==============================] - 0s 28ms/step\n",
      "1/1 [==============================] - 0s 18ms/step\n",
      "1/1 [==============================] - 0s 18ms/step\n",
      "1/1 [==============================] - 0s 19ms/step\n",
      "1/1 [==============================] - 0s 18ms/step\n",
      "1/1 [==============================] - 0s 19ms/step\n"
     ]
    }
   ],
   "source": [
    "test_predictions = []\n",
    "\n",
    "first_eval_batch = scaled_train[-length:]\n",
    "current_batch = tf.reshape(first_eval_batch, (1, length, n_features), name=None)\n",
    "\n",
    "for i in range(len(test)):\n",
    "\n",
    "  # get prediction 1 time stamp ahead ([0] is for grabbing just the number instead of [array])\n",
    "  current_pred = model.predict(current_batch)[0]\n",
    "\n",
    "  # store prediction\n",
    "  test_predictions.append(current_pred)\n",
    "\n",
    "  # update batch to now include prediction and drop first value\n",
    "  current_batch = np.append(current_batch[:,1:,:],[[current_pred]],axis=1)"
   ],
   "metadata": {
    "collapsed": false,
    "ExecuteTime": {
     "end_time": "2023-12-08T10:36:09.685351013Z",
     "start_time": "2023-12-08T10:36:08.856585362Z"
    }
   },
   "id": "9b1ca8a355e04809"
  },
  {
   "cell_type": "code",
   "execution_count": 60,
   "outputs": [],
   "source": [
    "true_predictions = scaler_invert(test_predictions)\n",
    "test[['PredictionsX', 'PredictionsY']] = true_predictions"
   ],
   "metadata": {
    "collapsed": false,
    "ExecuteTime": {
     "end_time": "2023-12-08T10:36:10.141903837Z",
     "start_time": "2023-12-08T10:36:10.126123226Z"
    }
   },
   "id": "aa1ec2a553956e07"
  },
  {
   "cell_type": "code",
   "execution_count": 61,
   "outputs": [
    {
     "data": {
      "text/plain": "             x         y  PredictionsX  PredictionsY\n859   0.076720  0.077922      0.430469      0.318399\n870   0.207552  0.255411      0.402668      0.326663\n892   0.086340  0.079004      0.388115      0.330901\n921   0.296056  0.320346      0.376984      0.343233\n961   0.061328  0.076840      0.374387      0.367625\n972   0.228716  0.411255      0.404930      0.393860\n999   0.105580  0.074675      0.408515      0.400848\n1015  0.244108  0.470779      0.411002      0.405288\n1055  0.215248  0.533550      0.412937      0.408607\n1092  0.474988  0.338745      0.414144      0.410848\n1399  0.209476  0.844156      0.415555      0.412522\n1414  0.036316  0.076840      0.416238      0.413411\n1420  0.399952  0.691558      0.416709      0.413998\n1453  0.247956  0.206710      0.417031      0.414390",
      "text/html": "<div>\n<style scoped>\n    .dataframe tbody tr th:only-of-type {\n        vertical-align: middle;\n    }\n\n    .dataframe tbody tr th {\n        vertical-align: top;\n    }\n\n    .dataframe thead th {\n        text-align: right;\n    }\n</style>\n<table border=\"1\" class=\"dataframe\">\n  <thead>\n    <tr style=\"text-align: right;\">\n      <th></th>\n      <th>x</th>\n      <th>y</th>\n      <th>PredictionsX</th>\n      <th>PredictionsY</th>\n    </tr>\n  </thead>\n  <tbody>\n    <tr>\n      <th>859</th>\n      <td>0.076720</td>\n      <td>0.077922</td>\n      <td>0.430469</td>\n      <td>0.318399</td>\n    </tr>\n    <tr>\n      <th>870</th>\n      <td>0.207552</td>\n      <td>0.255411</td>\n      <td>0.402668</td>\n      <td>0.326663</td>\n    </tr>\n    <tr>\n      <th>892</th>\n      <td>0.086340</td>\n      <td>0.079004</td>\n      <td>0.388115</td>\n      <td>0.330901</td>\n    </tr>\n    <tr>\n      <th>921</th>\n      <td>0.296056</td>\n      <td>0.320346</td>\n      <td>0.376984</td>\n      <td>0.343233</td>\n    </tr>\n    <tr>\n      <th>961</th>\n      <td>0.061328</td>\n      <td>0.076840</td>\n      <td>0.374387</td>\n      <td>0.367625</td>\n    </tr>\n    <tr>\n      <th>972</th>\n      <td>0.228716</td>\n      <td>0.411255</td>\n      <td>0.404930</td>\n      <td>0.393860</td>\n    </tr>\n    <tr>\n      <th>999</th>\n      <td>0.105580</td>\n      <td>0.074675</td>\n      <td>0.408515</td>\n      <td>0.400848</td>\n    </tr>\n    <tr>\n      <th>1015</th>\n      <td>0.244108</td>\n      <td>0.470779</td>\n      <td>0.411002</td>\n      <td>0.405288</td>\n    </tr>\n    <tr>\n      <th>1055</th>\n      <td>0.215248</td>\n      <td>0.533550</td>\n      <td>0.412937</td>\n      <td>0.408607</td>\n    </tr>\n    <tr>\n      <th>1092</th>\n      <td>0.474988</td>\n      <td>0.338745</td>\n      <td>0.414144</td>\n      <td>0.410848</td>\n    </tr>\n    <tr>\n      <th>1399</th>\n      <td>0.209476</td>\n      <td>0.844156</td>\n      <td>0.415555</td>\n      <td>0.412522</td>\n    </tr>\n    <tr>\n      <th>1414</th>\n      <td>0.036316</td>\n      <td>0.076840</td>\n      <td>0.416238</td>\n      <td>0.413411</td>\n    </tr>\n    <tr>\n      <th>1420</th>\n      <td>0.399952</td>\n      <td>0.691558</td>\n      <td>0.416709</td>\n      <td>0.413998</td>\n    </tr>\n    <tr>\n      <th>1453</th>\n      <td>0.247956</td>\n      <td>0.206710</td>\n      <td>0.417031</td>\n      <td>0.414390</td>\n    </tr>\n  </tbody>\n</table>\n</div>"
     },
     "execution_count": 61,
     "metadata": {},
     "output_type": "execute_result"
    }
   ],
   "source": [
    "test"
   ],
   "metadata": {
    "collapsed": false,
    "ExecuteTime": {
     "end_time": "2023-12-08T10:36:10.664485263Z",
     "start_time": "2023-12-08T10:36:10.650481804Z"
    }
   },
   "id": "210af86b477f7629"
  },
  {
   "cell_type": "code",
   "execution_count": 62,
   "outputs": [
    {
     "data": {
      "text/plain": "<AxesSubplot: >"
     },
     "execution_count": 62,
     "metadata": {},
     "output_type": "execute_result"
    },
    {
     "data": {
      "text/plain": "<Figure size 640x480 with 1 Axes>",
      "image/png": "[encoded data removed]"
     },
     "metadata": {},
     "output_type": "display_data"
    }
   ],
   "source": [
    "test.plot(color = ['#00FF00', '#FF0000', '#00FF88', '#FF0088'])"
   ],
   "metadata": {
    "collapsed": false,
    "ExecuteTime": {
     "end_time": "2023-12-08T10:36:11.927865674Z",
     "start_time": "2023-12-08T10:36:11.742766933Z"
    }
   },
   "id": "be71c392c2c63323"
  },
  {
   "cell_type": "code",
   "execution_count": 63,
   "outputs": [
    {
     "name": "stdout",
     "output_type": "stream",
     "text": [
      "0.23421116461721828\n",
      "0.23345033378661953\n"
     ]
    }
   ],
   "source": [
    "from sklearn.metrics import mean_squared_error\n",
    "print(np.sqrt(mean_squared_error(test['x'],test['PredictionsX'])))\n",
    "print(np.sqrt(mean_squared_error(test['y'],test['PredictionsY'])))"
   ],
   "metadata": {
    "collapsed": false,
    "ExecuteTime": {
     "end_time": "2023-12-08T10:36:13.318491873Z",
     "start_time": "2023-12-08T10:36:13.309807200Z"
    }
   },
   "id": "d9c81d675a439b2b"
  },
  {
   "cell_type": "code",
   "execution_count": null,
   "outputs": [],
   "source": [],
   "metadata": {
    "collapsed": false
   },
   "id": "171736bad9e0c6e1"
  }
 ],
 "metadata": {
  "kernelspec": {
   "display_name": "Python 3",
   "language": "python",
   "name": "python3"
  },
  "language_info": {
   "codemirror_mode": {
    "name": "ipython",
    "version": 2
   },
   "file_extension": ".py",
   "mimetype": "text/x-python",
   "name": "python",
   "nbconvert_exporter": "python",
   "pygments_lexer": "ipython2",
   "version": "2.7.6"
  }
 },
 "nbformat": 4,
 "nbformat_minor": 5
}
