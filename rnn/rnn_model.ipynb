{
 "cells": [
  {
   "cell_type": "code",
   "execution_count": 3,
   "outputs": [],
   "source": [
    "#pathToCombined = \"D:/Tmp/Coding/datasets/RICO/unique_uis/test_dataset\"\n",
    "traces_prefix = \"D:/Tmp/Coding/datasets/RICO/traces/test_traces\"\n",
    "path_to_gesture_json = f\"{traces_prefix}/*/trace_*/gestures.json\""
   ],
   "metadata": {
    "collapsed": false,
    "ExecuteTime": {
     "end_time": "2023-12-06T16:57:24.301364296Z",
     "start_time": "2023-12-06T16:57:24.211863372Z"
    }
   },
   "id": "1010903aaff8e289"
  },
  {
   "cell_type": "code",
   "execution_count": 16,
   "outputs": [],
   "source": [
    "import glob\n",
    "#from pathlib import Path\n",
    "import json\n",
    "import preprocessing as pp\n",
    "import tensorflow as tf\n",
    "import pandas as pd\n",
    "import matplotlib.pyplot as plt"
   ],
   "metadata": {
    "collapsed": false,
    "ExecuteTime": {
     "end_time": "2023-12-06T17:00:03.299517010Z",
     "start_time": "2023-12-06T17:00:01.626989592Z"
    }
   },
   "id": "daa48e61d9b31fa3"
  },
  {
   "cell_type": "code",
   "execution_count": 10,
   "outputs": [
    {
     "data": {
      "text/plain": "[]"
     },
     "execution_count": 10,
     "metadata": {},
     "output_type": "execute_result"
    }
   ],
   "source": [
    "gesture_json_paths = glob.glob(path_to_gesture_json)\n",
    "gesture_json_paths"
   ],
   "metadata": {
    "collapsed": false,
    "ExecuteTime": {
     "end_time": "2023-12-06T16:58:42.680721903Z",
     "start_time": "2023-12-06T16:58:42.649565555Z"
    }
   },
   "id": "3d96e858f6638676"
  },
  {
   "cell_type": "code",
   "execution_count": 11,
   "outputs": [],
   "source": [
    "def get_features_from_gestures(gesture_path):\n",
    "    with tf.io.gfile.GFile(gesture_path) as f:\n",
    "        gesture_json = json.load(f)\n",
    "    trace_path = gesture_path.replace('gestures.json', '')\n",
    "    # Throw away all gestures except the first\n",
    "    gesture_dict = {gesture[0]:gesture[1][0] for gesture in gesture_json.items()}\n",
    "    gesture_df = pd.DataFrame(gesture_dict).transpose()\n",
    "    gesture_df.columns = ['x', 'y']\n",
    "    return gesture_df, trace_path"
   ],
   "metadata": {
    "collapsed": false,
    "ExecuteTime": {
     "end_time": "2023-12-06T16:58:43.216474342Z",
     "start_time": "2023-12-06T16:58:43.205657541Z"
    }
   },
   "id": "1a3b084f0148240e"
  },
  {
   "cell_type": "code",
   "execution_count": 12,
   "outputs": [],
   "source": [
    "keys_to_dtype = {\n",
    "    #'developer_token_id': tf.int64,\n",
    "    #'resource_token_id': tf.int64,\n",
    "    #'screen_caption_token_ids': tf.int64,\n",
    "    #'appdesc_token_id': tf.int64,\n",
    "    'clickable_seq': tf.int64,\n",
    "    'type_id_seq': tf.int64,\n",
    "    'cord_x_seq': tf.float32,\n",
    "    'cord_y_seq': tf.float32,\n",
    "    'visibility_to_user_seq': tf.int64,\n",
    "    'visibility_seq': tf.int64,\n",
    "    #'attended_objects': tf.int64,\n",
    "    #'label_flag': tf.int64,  # 0: padding 1: node\n",
    "    # 'obj_img_mat': tf.int64,\n",
    "    'obj_dom_pos': tf.int64,\n",
    "    #'attention_boxes': tf.float32,\n",
    "    #'gold_caption': tf.string,\n",
    "}"
   ],
   "metadata": {
    "collapsed": false,
    "ExecuteTime": {
     "end_time": "2023-12-06T16:58:46.369676357Z",
     "start_time": "2023-12-06T16:58:46.354969807Z"
    }
   },
   "id": "97831e8600fdf834"
  },
  {
   "cell_type": "code",
   "execution_count": 13,
   "outputs": [],
   "source": [
    "def get_features_tensor_from_tree(frame_index, trace_path):\n",
    "    file_prefix = f\"{trace_path}view_hierarchies/{frame_index}\"\n",
    "    features_dict = pp.create_simple_features(file_prefix)\n",
    "    del features_dict['node_id']\n",
    "    feature_items = list(features_dict.items())\n",
    "    features_adapt = to_var_len_feature_dict(feature_items)\n",
    "    tree_feature_df = pd.DataFrame(features_adapt.items(), columns=['feat', frame_index])\n",
    "    tree_feature_df = tree_feature_df.set_index('feat')\n",
    "    tree_feature_df = tree_feature_df.transpose()\n",
    "    return tree_feature_df\n",
    "    #return pd.DataFrame(features_adapt, index=[frame_index])"
   ],
   "metadata": {
    "collapsed": false,
    "ExecuteTime": {
     "end_time": "2023-12-06T16:58:49.620638008Z",
     "start_time": "2023-12-06T16:58:49.601211048Z"
    }
   },
   "id": "13da6c7953586f4d"
  },
  {
   "cell_type": "code",
   "execution_count": 14,
   "outputs": [],
   "source": [
    "def to_var_len_feature_dict(entries):\n",
    "    dict = {}\n",
    "    for feature_item in entries:\n",
    "        dict[feature_item[0]] = tf.convert_to_tensor(feature_item[1], dtype=keys_to_dtype[feature_item[0]])\n",
    "    return dict"
   ],
   "metadata": {
    "collapsed": false,
    "ExecuteTime": {
     "end_time": "2023-12-06T16:58:50.476997634Z",
     "start_time": "2023-12-06T16:58:50.405440415Z"
    }
   },
   "id": "4afa13ba14c53cce"
  },
  {
   "cell_type": "code",
   "execution_count": 15,
   "outputs": [
    {
     "ename": "IndexError",
     "evalue": "list index out of range",
     "output_type": "error",
     "traceback": [
      "\u001B[0;31m---------------------------------------------------------------------------\u001B[0m",
      "\u001B[0;31mIndexError\u001B[0m                                Traceback (most recent call last)",
      "Cell \u001B[0;32mIn[15], line 1\u001B[0m\n\u001B[0;32m----> 1\u001B[0m gesture_path \u001B[38;5;241m=\u001B[39m \u001B[43mgesture_json_paths\u001B[49m\u001B[43m[\u001B[49m\u001B[38;5;241;43m1\u001B[39;49m\u001B[43m]\u001B[49m\n\u001B[1;32m      2\u001B[0m gesture_df, trace_path \u001B[38;5;241m=\u001B[39m get_features_from_gestures(gesture_path)\n\u001B[1;32m      3\u001B[0m frameIndex \u001B[38;5;241m=\u001B[39m gesture_df\u001B[38;5;241m.\u001B[39mindex\u001B[38;5;241m.\u001B[39mvalues[\u001B[38;5;241m1\u001B[39m]\n",
      "\u001B[0;31mIndexError\u001B[0m: list index out of range"
     ]
    }
   ],
   "source": [
    "gesture_path = gesture_json_paths[1]\n",
    "gesture_df, trace_path = get_features_from_gestures(gesture_path)\n",
    "frameIndex = gesture_df.index.values[1]\n",
    "feature_df = get_features_tensor_from_tree(frameIndex, trace_path)\n",
    "feature_df\n",
    "#feature_item = features[0]\n",
    "#feature_item\n",
    "#tf.convert_to_tensor(feature_item[1], dtype=keys_to_dtype[feature_item[0]])"
   ],
   "metadata": {
    "collapsed": false,
    "ExecuteTime": {
     "end_time": "2023-12-06T16:58:51.466865177Z",
     "start_time": "2023-12-06T16:58:51.216374756Z"
    }
   },
   "id": "3fe910aceba99bcd"
  },
  {
   "cell_type": "code",
   "execution_count": null,
   "outputs": [],
   "source": [
    "# gesture_df['x'].dtype # float64\n",
    "# gesture_df['y'].dtype # float64"
   ],
   "metadata": {
    "collapsed": false,
    "ExecuteTime": {
     "start_time": "2023-12-06T15:14:34.097172597Z"
    }
   },
   "id": "b380f22ccb4ae7a7"
  },
  {
   "cell_type": "code",
   "execution_count": null,
   "outputs": [],
   "source": [
    "for t,v in keys_to_dtype.items():\n",
    "    print(feature_df[t]['4758'][0].dtype)"
   ],
   "metadata": {
    "collapsed": false,
    "ExecuteTime": {
     "start_time": "2023-12-06T15:14:34.097296877Z"
    }
   },
   "id": "ab1b2610bf47faf"
  },
  {
   "cell_type": "code",
   "execution_count": null,
   "outputs": [],
   "source": [
    "all_feat_df = pd.concat([gesture_df, feature_df], axis=1)\n",
    "all_feat_df"
   ],
   "metadata": {
    "collapsed": false,
    "ExecuteTime": {
     "start_time": "2023-12-06T15:14:34.097415995Z"
    }
   },
   "id": "a60861c0e824008e"
  },
  {
   "cell_type": "code",
   "execution_count": null,
   "outputs": [],
   "source": [
    "feature_df['type_id_seq'].iloc[0][0].dtype"
   ],
   "metadata": {
    "collapsed": false,
    "ExecuteTime": {
     "start_time": "2023-12-06T15:14:34.097748974Z"
    }
   },
   "id": "924f3487fba88fba"
  },
  {
   "cell_type": "code",
   "execution_count": null,
   "outputs": [],
   "source": [
    " # Get set of frames for each screen, but don't mix them during training LSTM\n",
    "all_features_df = pd.DataFrame()\n",
    "for trace_id, gesture_path in enumerate(gesture_json_paths):\n",
    "    gesture_df, trace_path = get_features_from_gestures(gesture_path)\n",
    "    tree_features_df = pd.DataFrame()\n",
    "    for frame_id in gesture_df.index.values:\n",
    "        tree_feature_df = get_features_tensor_from_tree(frame_id, trace_path)\n",
    "        tree_features_df = pd.concat([tree_features_df, tree_feature_df], axis=0)\n",
    "    trace_features_df = pd.concat([gesture_df, tree_features_df], axis=1)\n",
    "    trace_features_df['trace_id'] = trace_id\n",
    "    all_features_df = pd.concat([all_features_df, trace_features_df], axis=0)\n",
    "    \n",
    "all_features_df.head()\n",
    "        "
   ],
   "metadata": {
    "collapsed": false,
    "ExecuteTime": {
     "start_time": "2023-12-06T15:14:34.097834080Z"
    }
   },
   "id": "288b287670f0c8ba"
  },
  {
   "cell_type": "code",
   "execution_count": null,
   "outputs": [],
   "source": [
    "# TODO: split by trace id\n",
    "df = all_features_df\n",
    "test_size = 6\n",
    "test_ind = len(df) - test_size\n",
    "\n",
    "train = df.iloc[:test_ind]\n",
    "test = df.iloc[test_ind:]"
   ],
   "metadata": {
    "collapsed": false,
    "ExecuteTime": {
     "start_time": "2023-12-06T15:14:34.098070564Z"
    }
   },
   "id": "68dc568c059d2160"
  },
  {
   "cell_type": "code",
   "execution_count": null,
   "outputs": [],
   "source": [
    "#df['obj_dom_pos'].dtype"
   ],
   "metadata": {
    "collapsed": false,
    "ExecuteTime": {
     "start_time": "2023-12-06T15:14:34.098163334Z"
    }
   },
   "id": "e7971c3e9fc1ce6c"
  },
  {
   "cell_type": "code",
   "execution_count": null,
   "outputs": [],
   "source": [
    "from keras.layers import Normalization\n",
    "\n",
    "scaler = Normalization()\n",
    "scaler_invert = Normalization(invert=True)\n",
    "\n",
    "scaler.adapt(train)\n",
    "scaler_invert.adapt(train)\n",
    "\n",
    "scaled_train = scaler(train)\n",
    "scaled_test = scaler(test)\n",
    "\n",
    "print(scaler_invert(scaled_train))"
   ],
   "metadata": {
    "collapsed": false,
    "ExecuteTime": {
     "start_time": "2023-12-06T15:14:34.098240947Z"
    }
   },
   "id": "3ef65237c3f7c11e"
  },
  {
   "cell_type": "code",
   "execution_count": null,
   "outputs": [],
   "source": [],
   "metadata": {
    "collapsed": false,
    "ExecuteTime": {
     "start_time": "2023-12-06T15:14:34.098314649Z"
    }
   },
   "id": "e5558a8d8a392c8e"
  },
  {
   "cell_type": "code",
   "execution_count": null,
   "outputs": [],
   "source": [],
   "metadata": {
    "collapsed": false,
    "ExecuteTime": {
     "start_time": "2023-12-06T15:14:34.098398112Z"
    }
   },
   "id": "7640736b9d7ee5c8"
  },
  {
   "cell_type": "code",
   "execution_count": null,
   "outputs": [],
   "source": [],
   "metadata": {
    "collapsed": false,
    "ExecuteTime": {
     "start_time": "2023-12-06T15:14:34.098472370Z"
    }
   },
   "id": "55d7839ec1e2833a"
  },
  {
   "cell_type": "code",
   "execution_count": null,
   "outputs": [],
   "source": [
    "for baseName in baseNames:\n",
    "    file_prefix = f\"{pathToCombined}/{baseName}.json\"\n",
    "    features = pp.create_simple_features(file_prefix)"
   ],
   "metadata": {
    "collapsed": false,
    "ExecuteTime": {
     "start_time": "2023-12-06T15:14:34.098541984Z"
    }
   },
   "id": "d59368b36a80009d"
  }
 ],
 "metadata": {
  "kernelspec": {
   "display_name": "Python 3",
   "language": "python",
   "name": "python3"
  },
  "language_info": {
   "codemirror_mode": {
    "name": "ipython",
    "version": 2
   },
   "file_extension": ".py",
   "mimetype": "text/x-python",
   "name": "python",
   "nbconvert_exporter": "python",
   "pygments_lexer": "ipython2",
   "version": "2.7.6"
  }
 },
 "nbformat": 4,
 "nbformat_minor": 5
}
